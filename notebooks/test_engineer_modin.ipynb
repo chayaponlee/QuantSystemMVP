{
 "cells": [
  {
   "cell_type": "code",
   "execution_count": 9,
   "metadata": {
    "collapsed": true
   },
   "outputs": [],
   "source": [
    "import os\n",
    "# os.environ[\"MODIN_ENGINE\"] = \"dask\"\n",
    "# import modin.pandas as pd\n",
    "import pandas as pd\n",
    "import dask\n",
    "import dask.dataframe as dd\n",
    "import numpy as np\n",
    "from typing import List, Callable, Dict\n",
    "from realgam.quantlib import general_utils as gu\n",
    "from realgam.quantlib.engineer.op_engineer import OpEngineer, GroupOpEngineer\n",
    "from realgam.quantlib.engineer.ta_engineer import TalibEngineer, GroupTalibEngineer\n",
    "from realgam.quantlib.engineer.alpha_engineer import AlphaEngineer\n",
    "from realgam.quantlib.engineer.interface import BaseEngineer, GroupBaseEngineer\n",
    "import datetime\n",
    "\n",
    "import time\n",
    "PROJECT_PATH = os.getenv('QuantSystemMVP')\n",
    "DATA_PATH = f'{PROJECT_PATH}/Data/stock_hist.obj'"
   ]
  },
  {
   "cell_type": "code",
   "execution_count": 26,
   "outputs": [],
   "source": [
    "stocks_df, stocks_extended_df, available_tickers = gu.load_file(DATA_PATH)"
   ],
   "metadata": {
    "collapsed": false,
    "pycharm": {
     "name": "#%%\n"
    }
   }
  },
  {
   "cell_type": "code",
   "execution_count": 30,
   "outputs": [],
   "source": [
    "stacked_hist = stocks_df.copy()"
   ],
   "metadata": {
    "collapsed": false,
    "pycharm": {
     "name": "#%%\n"
    }
   }
  },
  {
   "cell_type": "code",
   "execution_count": 31,
   "outputs": [
    {
     "data": {
      "text/plain": "           ticker   open    high     low  close    openadj    highadj  \\\ndate                                                                    \n2012-01-03      A  35.84  36.990  35.740  36.48  23.651649  24.410561   \n2012-01-04      A  36.15  36.360  35.590  36.19  23.855604  23.994184   \n2012-01-05      A  35.88  37.320  35.720  37.00  23.677891  24.628174   \n2012-01-06      A  37.09  37.555  36.805  37.40  24.476425  24.783288   \n2012-01-09      A  37.62  38.420  37.472  38.38  24.826455  25.354397   \n...           ...    ...     ...     ...    ...        ...        ...   \n2013-03-11     ZZ   2.20   2.210   2.200   2.20   2.200000   2.210000   \n2013-03-12     ZZ   2.20   2.210   2.200   2.21   2.200000   2.210000   \n2013-03-13     ZZ   2.20   2.210   2.200   2.21   2.200000   2.210000   \n2013-03-14     ZZ   2.20   2.210   2.200   2.21   2.200000   2.210000   \n2013-03-15     ZZ   2.21   2.210   2.190   2.19   2.210000   2.210000   \n\n               lowadj  closeadj     volume  \ndate                                        \n2012-01-03  23.585657    24.074  2973100.0  \n2012-01-04  23.486056    23.882  3327500.0  \n2012-01-05  23.572304    24.417  4894600.0  \n2012-01-06  24.288348    24.681  3370100.0  \n2012-01-09  24.728786    25.328  3168500.0  \n...               ...       ...        ...  \n2013-03-11   2.200000     2.200   407100.0  \n2013-03-12   2.200000     2.210   160000.0  \n2013-03-13   2.200000     2.210   308900.0  \n2013-03-14   2.200000     2.210   275000.0  \n2013-03-15   2.190000     2.190  1518200.0  \n\n[13820154 rows x 10 columns]",
      "text/html": "<div>\n<style scoped>\n    .dataframe tbody tr th:only-of-type {\n        vertical-align: middle;\n    }\n\n    .dataframe tbody tr th {\n        vertical-align: top;\n    }\n\n    .dataframe thead th {\n        text-align: right;\n    }\n</style>\n<table border=\"1\" class=\"dataframe\">\n  <thead>\n    <tr style=\"text-align: right;\">\n      <th></th>\n      <th>ticker</th>\n      <th>open</th>\n      <th>high</th>\n      <th>low</th>\n      <th>close</th>\n      <th>openadj</th>\n      <th>highadj</th>\n      <th>lowadj</th>\n      <th>closeadj</th>\n      <th>volume</th>\n    </tr>\n    <tr>\n      <th>date</th>\n      <th></th>\n      <th></th>\n      <th></th>\n      <th></th>\n      <th></th>\n      <th></th>\n      <th></th>\n      <th></th>\n      <th></th>\n      <th></th>\n    </tr>\n  </thead>\n  <tbody>\n    <tr>\n      <th>2012-01-03</th>\n      <td>A</td>\n      <td>35.84</td>\n      <td>36.990</td>\n      <td>35.740</td>\n      <td>36.48</td>\n      <td>23.651649</td>\n      <td>24.410561</td>\n      <td>23.585657</td>\n      <td>24.074</td>\n      <td>2973100.0</td>\n    </tr>\n    <tr>\n      <th>2012-01-04</th>\n      <td>A</td>\n      <td>36.15</td>\n      <td>36.360</td>\n      <td>35.590</td>\n      <td>36.19</td>\n      <td>23.855604</td>\n      <td>23.994184</td>\n      <td>23.486056</td>\n      <td>23.882</td>\n      <td>3327500.0</td>\n    </tr>\n    <tr>\n      <th>2012-01-05</th>\n      <td>A</td>\n      <td>35.88</td>\n      <td>37.320</td>\n      <td>35.720</td>\n      <td>37.00</td>\n      <td>23.677891</td>\n      <td>24.628174</td>\n      <td>23.572304</td>\n      <td>24.417</td>\n      <td>4894600.0</td>\n    </tr>\n    <tr>\n      <th>2012-01-06</th>\n      <td>A</td>\n      <td>37.09</td>\n      <td>37.555</td>\n      <td>36.805</td>\n      <td>37.40</td>\n      <td>24.476425</td>\n      <td>24.783288</td>\n      <td>24.288348</td>\n      <td>24.681</td>\n      <td>3370100.0</td>\n    </tr>\n    <tr>\n      <th>2012-01-09</th>\n      <td>A</td>\n      <td>37.62</td>\n      <td>38.420</td>\n      <td>37.472</td>\n      <td>38.38</td>\n      <td>24.826455</td>\n      <td>25.354397</td>\n      <td>24.728786</td>\n      <td>25.328</td>\n      <td>3168500.0</td>\n    </tr>\n    <tr>\n      <th>...</th>\n      <td>...</td>\n      <td>...</td>\n      <td>...</td>\n      <td>...</td>\n      <td>...</td>\n      <td>...</td>\n      <td>...</td>\n      <td>...</td>\n      <td>...</td>\n      <td>...</td>\n    </tr>\n    <tr>\n      <th>2013-03-11</th>\n      <td>ZZ</td>\n      <td>2.20</td>\n      <td>2.210</td>\n      <td>2.200</td>\n      <td>2.20</td>\n      <td>2.200000</td>\n      <td>2.210000</td>\n      <td>2.200000</td>\n      <td>2.200</td>\n      <td>407100.0</td>\n    </tr>\n    <tr>\n      <th>2013-03-12</th>\n      <td>ZZ</td>\n      <td>2.20</td>\n      <td>2.210</td>\n      <td>2.200</td>\n      <td>2.21</td>\n      <td>2.200000</td>\n      <td>2.210000</td>\n      <td>2.200000</td>\n      <td>2.210</td>\n      <td>160000.0</td>\n    </tr>\n    <tr>\n      <th>2013-03-13</th>\n      <td>ZZ</td>\n      <td>2.20</td>\n      <td>2.210</td>\n      <td>2.200</td>\n      <td>2.21</td>\n      <td>2.200000</td>\n      <td>2.210000</td>\n      <td>2.200000</td>\n      <td>2.210</td>\n      <td>308900.0</td>\n    </tr>\n    <tr>\n      <th>2013-03-14</th>\n      <td>ZZ</td>\n      <td>2.20</td>\n      <td>2.210</td>\n      <td>2.200</td>\n      <td>2.21</td>\n      <td>2.200000</td>\n      <td>2.210000</td>\n      <td>2.200000</td>\n      <td>2.210</td>\n      <td>275000.0</td>\n    </tr>\n    <tr>\n      <th>2013-03-15</th>\n      <td>ZZ</td>\n      <td>2.21</td>\n      <td>2.210</td>\n      <td>2.190</td>\n      <td>2.19</td>\n      <td>2.210000</td>\n      <td>2.210000</td>\n      <td>2.190000</td>\n      <td>2.190</td>\n      <td>1518200.0</td>\n    </tr>\n  </tbody>\n</table>\n<p>13820154 rows × 10 columns</p>\n</div>"
     },
     "execution_count": 31,
     "metadata": {},
     "output_type": "execute_result"
    }
   ],
   "source": [
    "stacked_hist"
   ],
   "metadata": {
    "collapsed": false,
    "pycharm": {
     "name": "#%%\n"
    }
   }
  },
  {
   "cell_type": "code",
   "execution_count": 32,
   "outputs": [],
   "source": [
    "stacked_hist = dd.from_pandas(stacked_hist, npartitions=10)"
   ],
   "metadata": {
    "collapsed": false,
    "pycharm": {
     "name": "#%%\n"
    }
   }
  },
  {
   "cell_type": "code",
   "execution_count": 36,
   "outputs": [
    {
     "data": {
      "text/plain": "           ticker    open    high     low   close    openadj    highadj  \\\ndate                                                                      \n2012-01-03      A  35.840  36.990  35.740  36.480  23.651649  24.410561   \n2012-01-03   RINO   0.030   0.030   0.030   0.030   0.030000   0.030000   \n2012-01-03  STRZB  77.950  77.950  77.950  77.950   9.841000   9.841000   \n2012-01-03   KLAC  48.720  49.290  47.390  47.460  30.297558  30.652024   \n2012-01-03  ENTR1   5.280   5.500   5.240   5.500   5.280000   5.500000   \n...           ...     ...     ...     ...     ...        ...        ...   \n2022-03-16    SRL   8.160   8.650   7.920   8.000   8.160000   8.650000   \n2022-03-16    INN   9.950  10.100   9.800  10.060   9.950000  10.100000   \n2022-03-16   INMD  36.147  37.500  35.529  37.270  36.147000  37.500000   \n2022-03-16   SRGA   0.290   0.339   0.290   0.324   0.290000   0.339000   \n2022-03-16   AZRE  19.910  20.830  19.380  19.920  19.910000  20.830000   \n\n               lowadj  closeadj     volume  \ndate                                        \n2012-01-03  23.585657    24.074  2973100.0  \n2012-01-03   0.030000     0.030      500.0  \n2012-01-03   9.841000     9.841        0.0  \n2012-01-03  29.470469    29.514  3310800.0  \n2012-01-03   5.240000     5.500  1221655.0  \n...               ...       ...        ...  \n2022-03-16   7.920000     8.000    38570.0  \n2022-03-16   9.800000    10.060   728306.0  \n2022-03-16  35.529000    37.270  2094707.0  \n2022-03-16   0.290000     0.324  3599737.0  \n2022-03-16  19.380000    19.920   208623.0  \n\n[13820154 rows x 10 columns]",
      "text/html": "<div>\n<style scoped>\n    .dataframe tbody tr th:only-of-type {\n        vertical-align: middle;\n    }\n\n    .dataframe tbody tr th {\n        vertical-align: top;\n    }\n\n    .dataframe thead th {\n        text-align: right;\n    }\n</style>\n<table border=\"1\" class=\"dataframe\">\n  <thead>\n    <tr style=\"text-align: right;\">\n      <th></th>\n      <th>ticker</th>\n      <th>open</th>\n      <th>high</th>\n      <th>low</th>\n      <th>close</th>\n      <th>openadj</th>\n      <th>highadj</th>\n      <th>lowadj</th>\n      <th>closeadj</th>\n      <th>volume</th>\n    </tr>\n    <tr>\n      <th>date</th>\n      <th></th>\n      <th></th>\n      <th></th>\n      <th></th>\n      <th></th>\n      <th></th>\n      <th></th>\n      <th></th>\n      <th></th>\n      <th></th>\n    </tr>\n  </thead>\n  <tbody>\n    <tr>\n      <th>2012-01-03</th>\n      <td>A</td>\n      <td>35.840</td>\n      <td>36.990</td>\n      <td>35.740</td>\n      <td>36.480</td>\n      <td>23.651649</td>\n      <td>24.410561</td>\n      <td>23.585657</td>\n      <td>24.074</td>\n      <td>2973100.0</td>\n    </tr>\n    <tr>\n      <th>2012-01-03</th>\n      <td>RINO</td>\n      <td>0.030</td>\n      <td>0.030</td>\n      <td>0.030</td>\n      <td>0.030</td>\n      <td>0.030000</td>\n      <td>0.030000</td>\n      <td>0.030000</td>\n      <td>0.030</td>\n      <td>500.0</td>\n    </tr>\n    <tr>\n      <th>2012-01-03</th>\n      <td>STRZB</td>\n      <td>77.950</td>\n      <td>77.950</td>\n      <td>77.950</td>\n      <td>77.950</td>\n      <td>9.841000</td>\n      <td>9.841000</td>\n      <td>9.841000</td>\n      <td>9.841</td>\n      <td>0.0</td>\n    </tr>\n    <tr>\n      <th>2012-01-03</th>\n      <td>KLAC</td>\n      <td>48.720</td>\n      <td>49.290</td>\n      <td>47.390</td>\n      <td>47.460</td>\n      <td>30.297558</td>\n      <td>30.652024</td>\n      <td>29.470469</td>\n      <td>29.514</td>\n      <td>3310800.0</td>\n    </tr>\n    <tr>\n      <th>2012-01-03</th>\n      <td>ENTR1</td>\n      <td>5.280</td>\n      <td>5.500</td>\n      <td>5.240</td>\n      <td>5.500</td>\n      <td>5.280000</td>\n      <td>5.500000</td>\n      <td>5.240000</td>\n      <td>5.500</td>\n      <td>1221655.0</td>\n    </tr>\n    <tr>\n      <th>...</th>\n      <td>...</td>\n      <td>...</td>\n      <td>...</td>\n      <td>...</td>\n      <td>...</td>\n      <td>...</td>\n      <td>...</td>\n      <td>...</td>\n      <td>...</td>\n      <td>...</td>\n    </tr>\n    <tr>\n      <th>2022-03-16</th>\n      <td>SRL</td>\n      <td>8.160</td>\n      <td>8.650</td>\n      <td>7.920</td>\n      <td>8.000</td>\n      <td>8.160000</td>\n      <td>8.650000</td>\n      <td>7.920000</td>\n      <td>8.000</td>\n      <td>38570.0</td>\n    </tr>\n    <tr>\n      <th>2022-03-16</th>\n      <td>INN</td>\n      <td>9.950</td>\n      <td>10.100</td>\n      <td>9.800</td>\n      <td>10.060</td>\n      <td>9.950000</td>\n      <td>10.100000</td>\n      <td>9.800000</td>\n      <td>10.060</td>\n      <td>728306.0</td>\n    </tr>\n    <tr>\n      <th>2022-03-16</th>\n      <td>INMD</td>\n      <td>36.147</td>\n      <td>37.500</td>\n      <td>35.529</td>\n      <td>37.270</td>\n      <td>36.147000</td>\n      <td>37.500000</td>\n      <td>35.529000</td>\n      <td>37.270</td>\n      <td>2094707.0</td>\n    </tr>\n    <tr>\n      <th>2022-03-16</th>\n      <td>SRGA</td>\n      <td>0.290</td>\n      <td>0.339</td>\n      <td>0.290</td>\n      <td>0.324</td>\n      <td>0.290000</td>\n      <td>0.339000</td>\n      <td>0.290000</td>\n      <td>0.324</td>\n      <td>3599737.0</td>\n    </tr>\n    <tr>\n      <th>2022-03-16</th>\n      <td>AZRE</td>\n      <td>19.910</td>\n      <td>20.830</td>\n      <td>19.380</td>\n      <td>19.920</td>\n      <td>19.910000</td>\n      <td>20.830000</td>\n      <td>19.380000</td>\n      <td>19.920</td>\n      <td>208623.0</td>\n    </tr>\n  </tbody>\n</table>\n<p>13820154 rows × 10 columns</p>\n</div>"
     },
     "execution_count": 36,
     "metadata": {},
     "output_type": "execute_result"
    }
   ],
   "source": [
    "stacked_hist.compute()"
   ],
   "metadata": {
    "collapsed": false,
    "pycharm": {
     "name": "#%%\n"
    }
   }
  },
  {
   "cell_type": "code",
   "execution_count": 33,
   "outputs": [],
   "source": [
    "tickers = list(stacked_hist.ticker.unique()[:1000])\n",
    "tripA = stacked_hist[stacked_hist.ticker.isin(tickers)]\n",
    "A = stacked_hist[stacked_hist.ticker.isin(['A'])]"
   ],
   "metadata": {
    "collapsed": false,
    "pycharm": {
     "name": "#%%\n"
    }
   }
  },
  {
   "cell_type": "code",
   "execution_count": 39,
   "outputs": [
    {
     "data": {
      "text/plain": "ticker  date      \nAAME    2012-01-03         NaN\n        2012-01-04         NaN\n        2012-01-05         NaN\n        2012-01-06         NaN\n        2012-01-09      2360.0\n                        ...   \nZEUS    2022-03-10    249624.2\n        2022-03-11    191535.2\n        2022-03-14    152770.2\n        2022-03-15    132354.4\n        2022-03-16    105195.6\nName: volume, Length: 1926216, dtype: float64"
     },
     "execution_count": 39,
     "metadata": {},
     "output_type": "execute_result"
    }
   ],
   "source": [
    "tripA.groupby('ticker').apply(lambda df_g: df_g.sort_values('date')['volume'].rolling(5).mean(), meta=('volume', 'f8')).compute()"
   ],
   "metadata": {
    "collapsed": false,
    "pycharm": {
     "name": "#%%\n"
    }
   }
  },
  {
   "cell_type": "code",
   "execution_count": 42,
   "outputs": [
    {
     "name": "stdout",
     "output_type": "stream",
     "text": [
      "Total time: 11.525414228439331 sec\n"
     ]
    }
   ],
   "source": [
    "s_time_chunk = time.time()\n",
    "dummy = tripA.groupby('ticker').apply(lambda df_g: df_g.sort_values('date')['volume'].rolling(5).apply(np.argmin, engine='cython', raw=True), meta=('volume', 'f8')).compute()\n",
    "e_time_chunk = time.time()\n",
    "print(f\"Total time: {e_time_chunk - s_time_chunk} sec\")\n"
   ],
   "metadata": {
    "collapsed": false,
    "pycharm": {
     "name": "#%%\n"
    }
   }
  },
  {
   "cell_type": "code",
   "execution_count": 17,
   "outputs": [
    {
     "ename": "NotImplementedError",
     "evalue": "Dataframe only supports sorting by a single column which must be passed as a string or a list of a single string.\nYou passed ['ticker', 'date']",
     "output_type": "error",
     "traceback": [
      "\u001B[0;31m---------------------------------------------------------------------------\u001B[0m",
      "\u001B[0;31mNotImplementedError\u001B[0m                       Traceback (most recent call last)",
      "Input \u001B[0;32mIn [17]\u001B[0m, in \u001B[0;36m<module>\u001B[0;34m\u001B[0m\n\u001B[0;32m----> 1\u001B[0m goe \u001B[38;5;241m=\u001B[39m \u001B[43mGroupOpEngineer\u001B[49m\u001B[43m(\u001B[49m\u001B[43mtripA\u001B[49m\u001B[43m,\u001B[49m\u001B[43m \u001B[49m\u001B[38;5;124;43m'\u001B[39;49m\u001B[38;5;124;43mticker\u001B[39;49m\u001B[38;5;124;43m'\u001B[39;49m\u001B[43m)\u001B[49m\n",
      "File \u001B[0;32m/Volumes/Samsung_T5/Mac/Projects/Python/QuantSystemMVP/realgam/quantlib/engineer/op_engineer.py:278\u001B[0m, in \u001B[0;36mGroupOpEngineer.__init__\u001B[0;34m(self, financial_df, groupby_col)\u001B[0m\n\u001B[1;32m    276\u001B[0m     sort_cols \u001B[38;5;241m=\u001B[39m groupby_col \u001B[38;5;241m+\u001B[39m [\u001B[38;5;124m'\u001B[39m\u001B[38;5;124mdate\u001B[39m\u001B[38;5;124m'\u001B[39m]\n\u001B[1;32m    277\u001B[0m \u001B[38;5;66;03m# we are actually sorting our dataframe reference, if we wish to not manipulate out input, do copy instead\u001B[39;00m\n\u001B[0;32m--> 278\u001B[0m \u001B[43mfinancial_df\u001B[49m\u001B[38;5;241;43m.\u001B[39;49m\u001B[43msort_values\u001B[49m\u001B[43m(\u001B[49m\u001B[43msort_cols\u001B[49m\u001B[43m,\u001B[49m\u001B[43m \u001B[49m\u001B[43minplace\u001B[49m\u001B[38;5;241;43m=\u001B[39;49m\u001B[38;5;28;43;01mTrue\u001B[39;49;00m\u001B[43m)\u001B[49m\n\u001B[1;32m    279\u001B[0m \u001B[38;5;28msuper\u001B[39m()\u001B[38;5;241m.\u001B[39m\u001B[38;5;21m__init__\u001B[39m(financial_df\u001B[38;5;241m.\u001B[39mcopy(), groupby_col)\n",
      "File \u001B[0;32m~/miniconda3/envs/quant_test/lib/python3.9/site-packages/dask/dataframe/core.py:4388\u001B[0m, in \u001B[0;36mDataFrame.sort_values\u001B[0;34m(self, by, npartitions, ascending, na_position, sort_function, sort_function_kwargs, **kwargs)\u001B[0m\n\u001B[1;32m   4386\u001B[0m \u001B[38;5;28;01mif\u001B[39;00m \u001B[38;5;28mself\u001B[39m\u001B[38;5;241m.\u001B[39mnpartitions \u001B[38;5;241m==\u001B[39m \u001B[38;5;241m1\u001B[39m:\n\u001B[1;32m   4387\u001B[0m     \u001B[38;5;28;01mreturn\u001B[39;00m \u001B[38;5;28mself\u001B[39m\u001B[38;5;241m.\u001B[39mmap_partitions(sort_function, \u001B[38;5;241m*\u001B[39m\u001B[38;5;241m*\u001B[39msort_kwargs)\n\u001B[0;32m-> 4388\u001B[0m \u001B[38;5;28;01mreturn\u001B[39;00m \u001B[43msort_values\u001B[49m\u001B[43m(\u001B[49m\n\u001B[1;32m   4389\u001B[0m \u001B[43m    \u001B[49m\u001B[38;5;28;43mself\u001B[39;49m\u001B[43m,\u001B[49m\n\u001B[1;32m   4390\u001B[0m \u001B[43m    \u001B[49m\u001B[43mby\u001B[49m\u001B[43m,\u001B[49m\n\u001B[1;32m   4391\u001B[0m \u001B[43m    \u001B[49m\u001B[43mascending\u001B[49m\u001B[38;5;241;43m=\u001B[39;49m\u001B[43mascending\u001B[49m\u001B[43m,\u001B[49m\n\u001B[1;32m   4392\u001B[0m \u001B[43m    \u001B[49m\u001B[43mnpartitions\u001B[49m\u001B[38;5;241;43m=\u001B[39;49m\u001B[43mnpartitions\u001B[49m\u001B[43m,\u001B[49m\n\u001B[1;32m   4393\u001B[0m \u001B[43m    \u001B[49m\u001B[43mna_position\u001B[49m\u001B[38;5;241;43m=\u001B[39;49m\u001B[43mna_position\u001B[49m\u001B[43m,\u001B[49m\n\u001B[1;32m   4394\u001B[0m \u001B[43m    \u001B[49m\u001B[43msort_function\u001B[49m\u001B[38;5;241;43m=\u001B[39;49m\u001B[43msort_function\u001B[49m\u001B[43m,\u001B[49m\n\u001B[1;32m   4395\u001B[0m \u001B[43m    \u001B[49m\u001B[43msort_function_kwargs\u001B[49m\u001B[38;5;241;43m=\u001B[39;49m\u001B[43msort_kwargs\u001B[49m\u001B[43m,\u001B[49m\n\u001B[1;32m   4396\u001B[0m \u001B[43m    \u001B[49m\u001B[38;5;241;43m*\u001B[39;49m\u001B[38;5;241;43m*\u001B[39;49m\u001B[43mkwargs\u001B[49m\u001B[43m,\u001B[49m\n\u001B[1;32m   4397\u001B[0m \u001B[43m\u001B[49m\u001B[43m)\u001B[49m\n",
      "File \u001B[0;32m~/miniconda3/envs/quant_test/lib/python3.9/site-packages/dask/dataframe/shuffle.py:93\u001B[0m, in \u001B[0;36msort_values\u001B[0;34m(df, by, npartitions, ascending, na_position, upsample, partition_size, sort_function, sort_function_kwargs, **kwargs)\u001B[0m\n\u001B[1;32m     91\u001B[0m         by \u001B[38;5;241m=\u001B[39m by[\u001B[38;5;241m0\u001B[39m]\n\u001B[1;32m     92\u001B[0m     \u001B[38;5;28;01melse\u001B[39;00m:\n\u001B[0;32m---> 93\u001B[0m         \u001B[38;5;28;01mraise\u001B[39;00m \u001B[38;5;167;01mNotImplementedError\u001B[39;00m(\n\u001B[1;32m     94\u001B[0m             \u001B[38;5;124m\"\u001B[39m\u001B[38;5;124mDataframe only supports sorting by a single column which must \u001B[39m\u001B[38;5;124m\"\u001B[39m\n\u001B[1;32m     95\u001B[0m             \u001B[38;5;124m\"\u001B[39m\u001B[38;5;124mbe passed as a string or a list of a single string.\u001B[39m\u001B[38;5;130;01m\\n\u001B[39;00m\u001B[38;5;124m\"\u001B[39m\n\u001B[1;32m     96\u001B[0m             \u001B[38;5;124m\"\u001B[39m\u001B[38;5;124mYou passed \u001B[39m\u001B[38;5;132;01m%s\u001B[39;00m\u001B[38;5;124m\"\u001B[39m \u001B[38;5;241m%\u001B[39m \u001B[38;5;28mstr\u001B[39m(by)\n\u001B[1;32m     97\u001B[0m         )\n\u001B[1;32m     98\u001B[0m \u001B[38;5;28;01mif\u001B[39;00m npartitions \u001B[38;5;241m==\u001B[39m \u001B[38;5;124m\"\u001B[39m\u001B[38;5;124mauto\u001B[39m\u001B[38;5;124m\"\u001B[39m:\n\u001B[1;32m     99\u001B[0m     repartition \u001B[38;5;241m=\u001B[39m \u001B[38;5;28;01mTrue\u001B[39;00m\n",
      "\u001B[0;31mNotImplementedError\u001B[0m: Dataframe only supports sorting by a single column which must be passed as a string or a list of a single string.\nYou passed ['ticker', 'date']"
     ]
    }
   ],
   "source": [
    "goe = GroupOpEngineer(tripA, 'ticker')\n"
   ],
   "metadata": {
    "collapsed": false,
    "pycharm": {
     "name": "#%%\n"
    }
   }
  },
  {
   "cell_type": "code",
   "execution_count": null,
   "outputs": [],
   "source": [],
   "metadata": {
    "collapsed": false,
    "pycharm": {
     "name": "#%%\n"
    }
   }
  },
  {
   "cell_type": "code",
   "execution_count": 35,
   "outputs": [
    {
     "data": {
      "text/plain": "           ticker    open     high      low   close     openadj     highadj  \\\ndate                                                                          \n2012-01-03      A   35.84   36.990   35.740   36.48   23.651649   24.410561   \n2012-01-04      A   36.15   36.360   35.590   36.19   23.855604   23.994184   \n2012-01-05      A   35.88   37.320   35.720   37.00   23.677891   24.628174   \n2012-01-06      A   37.09   37.555   36.805   37.40   24.476425   24.783288   \n2012-01-09      A   37.62   38.420   37.472   38.38   24.826455   25.354397   \n...           ...     ...      ...      ...     ...         ...         ...   \n2022-03-10      A  131.40  134.520  131.290  134.33  131.400000  134.520000   \n2022-03-11      A  135.43  136.440  130.160  130.31  135.430000  136.440000   \n2022-03-14      A  131.00  132.260  126.900  127.58  131.000000  132.260000   \n2022-03-15      A  129.22  131.150  128.865  130.28  129.220000  131.150000   \n2022-03-16      A  131.93  135.610  131.300  135.00  131.930000  135.610000   \n\n                lowadj  closeadj     volume  \ndate                                         \n2012-01-03   23.585657    24.074  2973100.0  \n2012-01-04   23.486056    23.882  3327500.0  \n2012-01-05   23.572304    24.417  4894600.0  \n2012-01-06   24.288348    24.681  3370100.0  \n2012-01-09   24.728786    25.328  3168500.0  \n...                ...       ...        ...  \n2022-03-10  131.290000   134.330  1933127.0  \n2022-03-11  130.160000   130.310  1815743.0  \n2022-03-14  126.900000   127.580  1737099.0  \n2022-03-15  128.865000   130.280  1649205.0  \n2022-03-16  131.300000   135.000  1673049.0  \n\n[2568 rows x 10 columns]",
      "text/html": "<div>\n<style scoped>\n    .dataframe tbody tr th:only-of-type {\n        vertical-align: middle;\n    }\n\n    .dataframe tbody tr th {\n        vertical-align: top;\n    }\n\n    .dataframe thead th {\n        text-align: right;\n    }\n</style>\n<table border=\"1\" class=\"dataframe\">\n  <thead>\n    <tr style=\"text-align: right;\">\n      <th></th>\n      <th>ticker</th>\n      <th>open</th>\n      <th>high</th>\n      <th>low</th>\n      <th>close</th>\n      <th>openadj</th>\n      <th>highadj</th>\n      <th>lowadj</th>\n      <th>closeadj</th>\n      <th>volume</th>\n    </tr>\n    <tr>\n      <th>date</th>\n      <th></th>\n      <th></th>\n      <th></th>\n      <th></th>\n      <th></th>\n      <th></th>\n      <th></th>\n      <th></th>\n      <th></th>\n      <th></th>\n    </tr>\n  </thead>\n  <tbody>\n    <tr>\n      <th>2012-01-03</th>\n      <td>A</td>\n      <td>35.84</td>\n      <td>36.990</td>\n      <td>35.740</td>\n      <td>36.48</td>\n      <td>23.651649</td>\n      <td>24.410561</td>\n      <td>23.585657</td>\n      <td>24.074</td>\n      <td>2973100.0</td>\n    </tr>\n    <tr>\n      <th>2012-01-04</th>\n      <td>A</td>\n      <td>36.15</td>\n      <td>36.360</td>\n      <td>35.590</td>\n      <td>36.19</td>\n      <td>23.855604</td>\n      <td>23.994184</td>\n      <td>23.486056</td>\n      <td>23.882</td>\n      <td>3327500.0</td>\n    </tr>\n    <tr>\n      <th>2012-01-05</th>\n      <td>A</td>\n      <td>35.88</td>\n      <td>37.320</td>\n      <td>35.720</td>\n      <td>37.00</td>\n      <td>23.677891</td>\n      <td>24.628174</td>\n      <td>23.572304</td>\n      <td>24.417</td>\n      <td>4894600.0</td>\n    </tr>\n    <tr>\n      <th>2012-01-06</th>\n      <td>A</td>\n      <td>37.09</td>\n      <td>37.555</td>\n      <td>36.805</td>\n      <td>37.40</td>\n      <td>24.476425</td>\n      <td>24.783288</td>\n      <td>24.288348</td>\n      <td>24.681</td>\n      <td>3370100.0</td>\n    </tr>\n    <tr>\n      <th>2012-01-09</th>\n      <td>A</td>\n      <td>37.62</td>\n      <td>38.420</td>\n      <td>37.472</td>\n      <td>38.38</td>\n      <td>24.826455</td>\n      <td>25.354397</td>\n      <td>24.728786</td>\n      <td>25.328</td>\n      <td>3168500.0</td>\n    </tr>\n    <tr>\n      <th>...</th>\n      <td>...</td>\n      <td>...</td>\n      <td>...</td>\n      <td>...</td>\n      <td>...</td>\n      <td>...</td>\n      <td>...</td>\n      <td>...</td>\n      <td>...</td>\n      <td>...</td>\n    </tr>\n    <tr>\n      <th>2022-03-10</th>\n      <td>A</td>\n      <td>131.40</td>\n      <td>134.520</td>\n      <td>131.290</td>\n      <td>134.33</td>\n      <td>131.400000</td>\n      <td>134.520000</td>\n      <td>131.290000</td>\n      <td>134.330</td>\n      <td>1933127.0</td>\n    </tr>\n    <tr>\n      <th>2022-03-11</th>\n      <td>A</td>\n      <td>135.43</td>\n      <td>136.440</td>\n      <td>130.160</td>\n      <td>130.31</td>\n      <td>135.430000</td>\n      <td>136.440000</td>\n      <td>130.160000</td>\n      <td>130.310</td>\n      <td>1815743.0</td>\n    </tr>\n    <tr>\n      <th>2022-03-14</th>\n      <td>A</td>\n      <td>131.00</td>\n      <td>132.260</td>\n      <td>126.900</td>\n      <td>127.58</td>\n      <td>131.000000</td>\n      <td>132.260000</td>\n      <td>126.900000</td>\n      <td>127.580</td>\n      <td>1737099.0</td>\n    </tr>\n    <tr>\n      <th>2022-03-15</th>\n      <td>A</td>\n      <td>129.22</td>\n      <td>131.150</td>\n      <td>128.865</td>\n      <td>130.28</td>\n      <td>129.220000</td>\n      <td>131.150000</td>\n      <td>128.865000</td>\n      <td>130.280</td>\n      <td>1649205.0</td>\n    </tr>\n    <tr>\n      <th>2022-03-16</th>\n      <td>A</td>\n      <td>131.93</td>\n      <td>135.610</td>\n      <td>131.300</td>\n      <td>135.00</td>\n      <td>131.930000</td>\n      <td>135.610000</td>\n      <td>131.300000</td>\n      <td>135.000</td>\n      <td>1673049.0</td>\n    </tr>\n  </tbody>\n</table>\n<p>2568 rows × 10 columns</p>\n</div>"
     },
     "execution_count": 35,
     "metadata": {},
     "output_type": "execute_result"
    }
   ],
   "source": [
    "A.compute()"
   ],
   "metadata": {
    "collapsed": false,
    "pycharm": {
     "name": "#%%\n"
    }
   }
  },
  {
   "cell_type": "code",
   "execution_count": 22,
   "outputs": [],
   "source": [
    "eng_values = tripA.groupby('ticker')['volume'].rolling('10D').apply(np.argmin, engine='cython', raw=True).add(\n",
    "            1)"
   ],
   "metadata": {
    "collapsed": false,
    "pycharm": {
     "name": "#%%\n"
    }
   }
  },
  {
   "cell_type": "code",
   "execution_count": 24,
   "outputs": [],
   "source": [
    "tripA['ts_argmin10_volume'] = eng_values.values"
   ],
   "metadata": {
    "collapsed": false,
    "pycharm": {
     "name": "#%%\n"
    }
   }
  },
  {
   "cell_type": "code",
   "execution_count": 25,
   "outputs": [
    {
     "data": {
      "text/plain": "           ticker    open     high      low    close     openadj     highadj  \\\ndate                                                                           \n2012-01-03      A   35.84   36.990   35.740   36.480   23.651649   24.410561   \n2012-01-03   RINO    0.03    0.030    0.030    0.030    0.030000    0.030000   \n2012-01-03  STRZB   77.95   77.950   77.950   77.950    9.841000    9.841000   \n2012-01-03   KLAC   48.72   49.290   47.390   47.460   30.297558   30.652024   \n2012-01-03  ENTR1    5.28    5.500    5.240    5.500    5.280000    5.500000   \n...           ...     ...      ...      ...      ...         ...         ...   \n2022-03-16   CRUS   80.99   83.850   80.220   83.810   80.990000   83.850000   \n2022-03-16   CRVL  160.60  165.870  159.420  165.510  160.600000  165.870000   \n2022-03-16   VIVO   25.04   25.800   24.925   25.750   25.040000   25.800000   \n2022-03-16   VIVE    0.82    0.878    0.800    0.843    0.820000    0.878000   \n2022-03-16    VIV    9.92   10.020    9.840   10.010    9.920000   10.020000   \n\n                lowadj  closeadj     volume  ts_argmin10_volume  \ndate                                                             \n2012-01-03   23.585657    24.074  2973100.0                 1.0  \n2012-01-03    0.030000     0.030      500.0                 1.0  \n2012-01-03    9.841000     9.841        0.0                 1.0  \n2012-01-03   29.470469    29.514  3310800.0                 1.0  \n2012-01-03    5.240000     5.500  1221655.0                 1.0  \n...                ...       ...        ...                 ...  \n2022-03-16   80.220000    83.810   338406.0                 4.0  \n2022-03-16  159.420000   165.510    46305.0                 5.0  \n2022-03-16   24.925000    25.750   400748.0                 8.0  \n2022-03-16    0.800000     0.843   124355.0                 7.0  \n2022-03-16    9.840000    10.010  1182084.0                 5.0  \n\n[1926216 rows x 11 columns]",
      "text/html": "<div>\n<style scoped>\n    .dataframe tbody tr th:only-of-type {\n        vertical-align: middle;\n    }\n\n    .dataframe tbody tr th {\n        vertical-align: top;\n    }\n\n    .dataframe thead th {\n        text-align: right;\n    }\n</style>\n<table border=\"1\" class=\"dataframe\">\n  <thead>\n    <tr style=\"text-align: right;\">\n      <th></th>\n      <th>ticker</th>\n      <th>open</th>\n      <th>high</th>\n      <th>low</th>\n      <th>close</th>\n      <th>openadj</th>\n      <th>highadj</th>\n      <th>lowadj</th>\n      <th>closeadj</th>\n      <th>volume</th>\n      <th>ts_argmin10_volume</th>\n    </tr>\n    <tr>\n      <th>date</th>\n      <th></th>\n      <th></th>\n      <th></th>\n      <th></th>\n      <th></th>\n      <th></th>\n      <th></th>\n      <th></th>\n      <th></th>\n      <th></th>\n      <th></th>\n    </tr>\n  </thead>\n  <tbody>\n    <tr>\n      <th>2012-01-03</th>\n      <td>A</td>\n      <td>35.84</td>\n      <td>36.990</td>\n      <td>35.740</td>\n      <td>36.480</td>\n      <td>23.651649</td>\n      <td>24.410561</td>\n      <td>23.585657</td>\n      <td>24.074</td>\n      <td>2973100.0</td>\n      <td>1.0</td>\n    </tr>\n    <tr>\n      <th>2012-01-03</th>\n      <td>RINO</td>\n      <td>0.03</td>\n      <td>0.030</td>\n      <td>0.030</td>\n      <td>0.030</td>\n      <td>0.030000</td>\n      <td>0.030000</td>\n      <td>0.030000</td>\n      <td>0.030</td>\n      <td>500.0</td>\n      <td>1.0</td>\n    </tr>\n    <tr>\n      <th>2012-01-03</th>\n      <td>STRZB</td>\n      <td>77.95</td>\n      <td>77.950</td>\n      <td>77.950</td>\n      <td>77.950</td>\n      <td>9.841000</td>\n      <td>9.841000</td>\n      <td>9.841000</td>\n      <td>9.841</td>\n      <td>0.0</td>\n      <td>1.0</td>\n    </tr>\n    <tr>\n      <th>2012-01-03</th>\n      <td>KLAC</td>\n      <td>48.72</td>\n      <td>49.290</td>\n      <td>47.390</td>\n      <td>47.460</td>\n      <td>30.297558</td>\n      <td>30.652024</td>\n      <td>29.470469</td>\n      <td>29.514</td>\n      <td>3310800.0</td>\n      <td>1.0</td>\n    </tr>\n    <tr>\n      <th>2012-01-03</th>\n      <td>ENTR1</td>\n      <td>5.28</td>\n      <td>5.500</td>\n      <td>5.240</td>\n      <td>5.500</td>\n      <td>5.280000</td>\n      <td>5.500000</td>\n      <td>5.240000</td>\n      <td>5.500</td>\n      <td>1221655.0</td>\n      <td>1.0</td>\n    </tr>\n    <tr>\n      <th>...</th>\n      <td>...</td>\n      <td>...</td>\n      <td>...</td>\n      <td>...</td>\n      <td>...</td>\n      <td>...</td>\n      <td>...</td>\n      <td>...</td>\n      <td>...</td>\n      <td>...</td>\n      <td>...</td>\n    </tr>\n    <tr>\n      <th>2022-03-16</th>\n      <td>CRUS</td>\n      <td>80.99</td>\n      <td>83.850</td>\n      <td>80.220</td>\n      <td>83.810</td>\n      <td>80.990000</td>\n      <td>83.850000</td>\n      <td>80.220000</td>\n      <td>83.810</td>\n      <td>338406.0</td>\n      <td>4.0</td>\n    </tr>\n    <tr>\n      <th>2022-03-16</th>\n      <td>CRVL</td>\n      <td>160.60</td>\n      <td>165.870</td>\n      <td>159.420</td>\n      <td>165.510</td>\n      <td>160.600000</td>\n      <td>165.870000</td>\n      <td>159.420000</td>\n      <td>165.510</td>\n      <td>46305.0</td>\n      <td>5.0</td>\n    </tr>\n    <tr>\n      <th>2022-03-16</th>\n      <td>VIVO</td>\n      <td>25.04</td>\n      <td>25.800</td>\n      <td>24.925</td>\n      <td>25.750</td>\n      <td>25.040000</td>\n      <td>25.800000</td>\n      <td>24.925000</td>\n      <td>25.750</td>\n      <td>400748.0</td>\n      <td>8.0</td>\n    </tr>\n    <tr>\n      <th>2022-03-16</th>\n      <td>VIVE</td>\n      <td>0.82</td>\n      <td>0.878</td>\n      <td>0.800</td>\n      <td>0.843</td>\n      <td>0.820000</td>\n      <td>0.878000</td>\n      <td>0.800000</td>\n      <td>0.843</td>\n      <td>124355.0</td>\n      <td>7.0</td>\n    </tr>\n    <tr>\n      <th>2022-03-16</th>\n      <td>VIV</td>\n      <td>9.92</td>\n      <td>10.020</td>\n      <td>9.840</td>\n      <td>10.010</td>\n      <td>9.920000</td>\n      <td>10.020000</td>\n      <td>9.840000</td>\n      <td>10.010</td>\n      <td>1182084.0</td>\n      <td>5.0</td>\n    </tr>\n  </tbody>\n</table>\n<p>1926216 rows × 11 columns</p>\n</div>"
     },
     "execution_count": 25,
     "metadata": {},
     "output_type": "execute_result"
    }
   ],
   "source": [
    "tripA.compute()"
   ],
   "metadata": {
    "collapsed": false,
    "pycharm": {
     "name": "#%%\n"
    }
   }
  },
  {
   "cell_type": "code",
   "execution_count": 5,
   "outputs": [
    {
     "name": "stdout",
     "output_type": "stream",
     "text": [
      "Total time: 11.078994989395142 sec\n"
     ]
    }
   ],
   "source": [
    "s_time_chunk = time.time()\n",
    "goe.ts_rank('volume', 7, inplace=True)\n",
    "e_time_chunk = time.time()\n",
    "print(f\"Total time: {e_time_chunk - s_time_chunk} sec\")\n"
   ],
   "metadata": {
    "collapsed": false,
    "pycharm": {
     "name": "#%%\n"
    }
   }
  },
  {
   "cell_type": "code",
   "execution_count": 6,
   "outputs": [
    {
     "name": "stdout",
     "output_type": "stream",
     "text": [
      "Total time: 1.670530080795288 sec\n"
     ]
    }
   ],
   "source": [
    "s_time_chunk = time.time()\n",
    "goe.ts_corr('volume', 'lowadj', 7, inplace=True)\n",
    "e_time_chunk = time.time()\n",
    "print(f\"Total time: {e_time_chunk - s_time_chunk} sec\")\n"
   ],
   "metadata": {
    "collapsed": false,
    "pycharm": {
     "name": "#%%\n"
    }
   }
  },
  {
   "cell_type": "code",
   "execution_count": 7,
   "outputs": [
    {
     "name": "stdout",
     "output_type": "stream",
     "text": [
      "Total time: 1.9038870334625244 sec\n"
     ]
    }
   ],
   "source": [
    "s_time_chunk = time.time()\n",
    "goe.ts_argmin('volume', 7, inplace=True)\n",
    "e_time_chunk = time.time()\n",
    "print(f\"Total time: {e_time_chunk - s_time_chunk} sec\")"
   ],
   "metadata": {
    "collapsed": false,
    "pycharm": {
     "name": "#%%\n"
    }
   }
  },
  {
   "cell_type": "code",
   "execution_count": 8,
   "outputs": [
    {
     "name": "stdout",
     "output_type": "stream",
     "text": [
      "Total time: 0.27015209197998047 sec\n"
     ]
    }
   ],
   "source": [
    "s_time_chunk = time.time()\n",
    "goe.cs_pctrank('volume', inplace=True)\n",
    "e_time_chunk = time.time()\n",
    "print(f\"Total time: {e_time_chunk - s_time_chunk} sec\")"
   ],
   "metadata": {
    "collapsed": false,
    "pycharm": {
     "name": "#%%\n"
    }
   }
  },
  {
   "cell_type": "code",
   "execution_count": 16,
   "outputs": [
    {
     "data": {
      "text/plain": "           ticker   open    high     low  close    openadj    highadj  \\\ndate                                                                    \n2012-01-03      A  35.84  36.990  35.740  36.48  23.651649  24.410561   \n2012-01-04      A  36.15  36.360  35.590  36.19  23.855604  23.994184   \n2012-01-05      A  35.88  37.320  35.720  37.00  23.677891  24.628174   \n2012-01-06      A  37.09  37.555  36.805  37.40  24.476425  24.783288   \n2012-01-09      A  37.62  38.420  37.472  38.38  24.826455  25.354397   \n...           ...    ...     ...     ...    ...        ...        ...   \n2022-03-10    AXH   9.98   9.980   9.980   9.98   9.980000   9.980000   \n2022-03-11    AXH   9.98   9.980   9.980   9.98   9.980000   9.980000   \n2022-03-14    AXH   9.98   9.980   9.980   9.98   9.980000   9.980000   \n2022-03-15    AXH   9.99   9.990   9.990   9.99   9.990000   9.990000   \n2022-03-16    AXH   9.97   9.970   9.970   9.97   9.970000   9.970000   \n\n               lowadj  closeadj     volume  cs_pctrank_volume  \\\ndate                                                            \n2012-01-03  23.585657    24.074  2973100.0           0.917184   \n2012-01-04  23.486056    23.882  3327500.0           0.927536   \n2012-01-05  23.572304    24.417  4894600.0           0.952381   \n2012-01-06  24.288348    24.681  3370100.0           0.925466   \n2012-01-09  24.728786    25.328  3168500.0           0.929607   \n...               ...       ...        ...                ...   \n2022-03-10   9.980000     9.980     3374.0           0.153153   \n2022-03-11   9.980000     9.980       90.0           0.043011   \n2022-03-14   9.980000     9.980   446131.0           0.587537   \n2022-03-15   9.990000     9.990     3347.0           0.123680   \n2022-03-16   9.970000     9.970    23266.0           0.189231   \n\n            ts_rank7_volume  ts_corr7_volume_lowadj  ts_argmin7_volume  \ndate                                                                    \n2012-01-03              NaN                     NaN                NaN  \n2012-01-04              NaN                     NaN                NaN  \n2012-01-05              NaN                     NaN                NaN  \n2012-01-06              NaN                     NaN                NaN  \n2012-01-09              NaN                     NaN                NaN  \n...                     ...                     ...                ...  \n2022-03-10              1.0               -0.001595                3.0  \n2022-03-11              1.0               -0.001449                2.0  \n2022-03-14              6.0               -0.000061                1.0  \n2022-03-15              1.0               -0.176823                5.0  \n2022-03-16              5.0               -0.034721                4.0  \n\n[1290427 rows x 14 columns]",
      "text/html": "<div>\n<style scoped>\n    .dataframe tbody tr th:only-of-type {\n        vertical-align: middle;\n    }\n\n    .dataframe tbody tr th {\n        vertical-align: top;\n    }\n\n    .dataframe thead th {\n        text-align: right;\n    }\n</style>\n<table border=\"1\" class=\"dataframe\">\n  <thead>\n    <tr style=\"text-align: right;\">\n      <th></th>\n      <th>ticker</th>\n      <th>open</th>\n      <th>high</th>\n      <th>low</th>\n      <th>close</th>\n      <th>openadj</th>\n      <th>highadj</th>\n      <th>lowadj</th>\n      <th>closeadj</th>\n      <th>volume</th>\n      <th>cs_pctrank_volume</th>\n      <th>ts_rank7_volume</th>\n      <th>ts_corr7_volume_lowadj</th>\n      <th>ts_argmin7_volume</th>\n    </tr>\n    <tr>\n      <th>date</th>\n      <th></th>\n      <th></th>\n      <th></th>\n      <th></th>\n      <th></th>\n      <th></th>\n      <th></th>\n      <th></th>\n      <th></th>\n      <th></th>\n      <th></th>\n      <th></th>\n      <th></th>\n      <th></th>\n    </tr>\n  </thead>\n  <tbody>\n    <tr>\n      <th>2012-01-03</th>\n      <td>A</td>\n      <td>35.84</td>\n      <td>36.990</td>\n      <td>35.740</td>\n      <td>36.48</td>\n      <td>23.651649</td>\n      <td>24.410561</td>\n      <td>23.585657</td>\n      <td>24.074</td>\n      <td>2973100.0</td>\n      <td>0.917184</td>\n      <td>NaN</td>\n      <td>NaN</td>\n      <td>NaN</td>\n    </tr>\n    <tr>\n      <th>2012-01-04</th>\n      <td>A</td>\n      <td>36.15</td>\n      <td>36.360</td>\n      <td>35.590</td>\n      <td>36.19</td>\n      <td>23.855604</td>\n      <td>23.994184</td>\n      <td>23.486056</td>\n      <td>23.882</td>\n      <td>3327500.0</td>\n      <td>0.927536</td>\n      <td>NaN</td>\n      <td>NaN</td>\n      <td>NaN</td>\n    </tr>\n    <tr>\n      <th>2012-01-05</th>\n      <td>A</td>\n      <td>35.88</td>\n      <td>37.320</td>\n      <td>35.720</td>\n      <td>37.00</td>\n      <td>23.677891</td>\n      <td>24.628174</td>\n      <td>23.572304</td>\n      <td>24.417</td>\n      <td>4894600.0</td>\n      <td>0.952381</td>\n      <td>NaN</td>\n      <td>NaN</td>\n      <td>NaN</td>\n    </tr>\n    <tr>\n      <th>2012-01-06</th>\n      <td>A</td>\n      <td>37.09</td>\n      <td>37.555</td>\n      <td>36.805</td>\n      <td>37.40</td>\n      <td>24.476425</td>\n      <td>24.783288</td>\n      <td>24.288348</td>\n      <td>24.681</td>\n      <td>3370100.0</td>\n      <td>0.925466</td>\n      <td>NaN</td>\n      <td>NaN</td>\n      <td>NaN</td>\n    </tr>\n    <tr>\n      <th>2012-01-09</th>\n      <td>A</td>\n      <td>37.62</td>\n      <td>38.420</td>\n      <td>37.472</td>\n      <td>38.38</td>\n      <td>24.826455</td>\n      <td>25.354397</td>\n      <td>24.728786</td>\n      <td>25.328</td>\n      <td>3168500.0</td>\n      <td>0.929607</td>\n      <td>NaN</td>\n      <td>NaN</td>\n      <td>NaN</td>\n    </tr>\n    <tr>\n      <th>...</th>\n      <td>...</td>\n      <td>...</td>\n      <td>...</td>\n      <td>...</td>\n      <td>...</td>\n      <td>...</td>\n      <td>...</td>\n      <td>...</td>\n      <td>...</td>\n      <td>...</td>\n      <td>...</td>\n      <td>...</td>\n      <td>...</td>\n      <td>...</td>\n    </tr>\n    <tr>\n      <th>2022-03-10</th>\n      <td>AXH</td>\n      <td>9.98</td>\n      <td>9.980</td>\n      <td>9.980</td>\n      <td>9.98</td>\n      <td>9.980000</td>\n      <td>9.980000</td>\n      <td>9.980000</td>\n      <td>9.980</td>\n      <td>3374.0</td>\n      <td>0.153153</td>\n      <td>1.0</td>\n      <td>-0.001595</td>\n      <td>3.0</td>\n    </tr>\n    <tr>\n      <th>2022-03-11</th>\n      <td>AXH</td>\n      <td>9.98</td>\n      <td>9.980</td>\n      <td>9.980</td>\n      <td>9.98</td>\n      <td>9.980000</td>\n      <td>9.980000</td>\n      <td>9.980000</td>\n      <td>9.980</td>\n      <td>90.0</td>\n      <td>0.043011</td>\n      <td>1.0</td>\n      <td>-0.001449</td>\n      <td>2.0</td>\n    </tr>\n    <tr>\n      <th>2022-03-14</th>\n      <td>AXH</td>\n      <td>9.98</td>\n      <td>9.980</td>\n      <td>9.980</td>\n      <td>9.98</td>\n      <td>9.980000</td>\n      <td>9.980000</td>\n      <td>9.980000</td>\n      <td>9.980</td>\n      <td>446131.0</td>\n      <td>0.587537</td>\n      <td>6.0</td>\n      <td>-0.000061</td>\n      <td>1.0</td>\n    </tr>\n    <tr>\n      <th>2022-03-15</th>\n      <td>AXH</td>\n      <td>9.99</td>\n      <td>9.990</td>\n      <td>9.990</td>\n      <td>9.99</td>\n      <td>9.990000</td>\n      <td>9.990000</td>\n      <td>9.990000</td>\n      <td>9.990</td>\n      <td>3347.0</td>\n      <td>0.123680</td>\n      <td>1.0</td>\n      <td>-0.176823</td>\n      <td>5.0</td>\n    </tr>\n    <tr>\n      <th>2022-03-16</th>\n      <td>AXH</td>\n      <td>9.97</td>\n      <td>9.970</td>\n      <td>9.970</td>\n      <td>9.97</td>\n      <td>9.970000</td>\n      <td>9.970000</td>\n      <td>9.970000</td>\n      <td>9.970</td>\n      <td>23266.0</td>\n      <td>0.189231</td>\n      <td>5.0</td>\n      <td>-0.034721</td>\n      <td>4.0</td>\n    </tr>\n  </tbody>\n</table>\n<p>1290427 rows × 14 columns</p>\n</div>"
     },
     "execution_count": 16,
     "metadata": {},
     "output_type": "execute_result"
    }
   ],
   "source": [
    "goe.df"
   ],
   "metadata": {
    "collapsed": false,
    "pycharm": {
     "name": "#%%\n"
    }
   }
  },
  {
   "cell_type": "code",
   "execution_count": 42,
   "outputs": [],
   "source": [
    "goe0 = GroupOpEngineer(A, 'ticker')"
   ],
   "metadata": {
    "collapsed": false,
    "pycharm": {
     "name": "#%%\n"
    }
   }
  },
  {
   "cell_type": "code",
   "execution_count": 7,
   "outputs": [],
   "source": [
    "goe0.ts_rank('volume', 3, inplace=True)"
   ],
   "metadata": {
    "collapsed": false,
    "pycharm": {
     "name": "#%%\n"
    }
   }
  },
  {
   "cell_type": "code",
   "execution_count": 11,
   "outputs": [],
   "source": [
    "dummy = A.iloc[:, 1:]"
   ],
   "metadata": {
    "collapsed": false,
    "pycharm": {
     "name": "#%%\n"
    }
   }
  },
  {
   "cell_type": "code",
   "execution_count": 44,
   "outputs": [],
   "source": [
    "tripA1 = tripA[['ticker','volume']]"
   ],
   "metadata": {
    "collapsed": false,
    "pycharm": {
     "name": "#%%\n"
    }
   }
  },
  {
   "cell_type": "code",
   "execution_count": 45,
   "outputs": [],
   "source": [
    "ofe0 = GroupOpEngineer(tripA1, 'ticker')"
   ],
   "metadata": {
    "collapsed": false,
    "pycharm": {
     "name": "#%%\n"
    }
   }
  },
  {
   "cell_type": "code",
   "execution_count": 53,
   "outputs": [
    {
     "name": "stdout",
     "output_type": "stream",
     "text": [
      "Total time: 5.396774768829346 sec\n"
     ]
    }
   ],
   "source": [
    "s_time_chunk = time.time()\n",
    "dummy = tripA1.groupby('ticker').volume.rolling(10).apply(rank_last_value, raw=True)\n",
    "e_time_chunk = time.time()\n",
    "print(f\"Total time: {e_time_chunk - s_time_chunk} sec\")\n"
   ],
   "metadata": {
    "collapsed": false,
    "pycharm": {
     "name": "#%%\n"
    }
   }
  },
  {
   "cell_type": "code",
   "execution_count": 55,
   "outputs": [],
   "source": [
    "tripA['rank'] = dummy.values"
   ],
   "metadata": {
    "collapsed": false,
    "pycharm": {
     "name": "#%%\n"
    }
   }
  },
  {
   "cell_type": "code",
   "execution_count": 56,
   "outputs": [
    {
     "data": {
      "text/plain": "           ticker   open    high     low  close    openadj    highadj  \\\ndate                                                                    \n2012-01-03      A  35.84  36.990  35.740  36.48  23.651649  24.410561   \n2012-01-04      A  36.15  36.360  35.590  36.19  23.855604  23.994184   \n2012-01-05      A  35.88  37.320  35.720  37.00  23.677891  24.628174   \n2012-01-06      A  37.09  37.555  36.805  37.40  24.476425  24.783288   \n2012-01-09      A  37.62  38.420  37.472  38.38  24.826455  25.354397   \n...           ...    ...     ...     ...    ...        ...        ...   \n2017-10-02   AMFW   6.66   6.680   6.630   6.66   6.660000   6.680000   \n2017-10-03   AMFW   6.64   6.820   6.580   6.67   6.640000   6.820000   \n2017-10-04   AMFW   6.72   6.920   6.680   6.87   6.720000   6.920000   \n2017-10-05   AMFW   7.04   7.140   7.040   7.05   7.040000   7.140000   \n2017-10-06   AMFW   7.05   7.070   6.950   7.01   7.050000   7.070000   \n\n               lowadj  closeadj     volume  rank  \ndate                                              \n2012-01-03  23.585657    24.074  2973100.0   NaN  \n2012-01-04  23.486056    23.882  3327500.0   NaN  \n2012-01-05  23.572304    24.417  4894600.0   NaN  \n2012-01-06  24.288348    24.681  3370100.0   NaN  \n2012-01-09  24.728786    25.328  3168500.0   NaN  \n...               ...       ...        ...   ...  \n2017-10-02   6.630000     6.660    12407.0   0.0  \n2017-10-03   6.580000     6.670  1651903.0   9.0  \n2017-10-04   6.680000     6.870   415055.0   8.0  \n2017-10-05   7.040000     7.050    55335.0   7.0  \n2017-10-06   6.950000     7.010    47947.0   6.0  \n\n[633399 rows x 11 columns]",
      "text/html": "<div>\n<style scoped>\n    .dataframe tbody tr th:only-of-type {\n        vertical-align: middle;\n    }\n\n    .dataframe tbody tr th {\n        vertical-align: top;\n    }\n\n    .dataframe thead th {\n        text-align: right;\n    }\n</style>\n<table border=\"1\" class=\"dataframe\">\n  <thead>\n    <tr style=\"text-align: right;\">\n      <th></th>\n      <th>ticker</th>\n      <th>open</th>\n      <th>high</th>\n      <th>low</th>\n      <th>close</th>\n      <th>openadj</th>\n      <th>highadj</th>\n      <th>lowadj</th>\n      <th>closeadj</th>\n      <th>volume</th>\n      <th>rank</th>\n    </tr>\n    <tr>\n      <th>date</th>\n      <th></th>\n      <th></th>\n      <th></th>\n      <th></th>\n      <th></th>\n      <th></th>\n      <th></th>\n      <th></th>\n      <th></th>\n      <th></th>\n      <th></th>\n    </tr>\n  </thead>\n  <tbody>\n    <tr>\n      <th>2012-01-03</th>\n      <td>A</td>\n      <td>35.84</td>\n      <td>36.990</td>\n      <td>35.740</td>\n      <td>36.48</td>\n      <td>23.651649</td>\n      <td>24.410561</td>\n      <td>23.585657</td>\n      <td>24.074</td>\n      <td>2973100.0</td>\n      <td>NaN</td>\n    </tr>\n    <tr>\n      <th>2012-01-04</th>\n      <td>A</td>\n      <td>36.15</td>\n      <td>36.360</td>\n      <td>35.590</td>\n      <td>36.19</td>\n      <td>23.855604</td>\n      <td>23.994184</td>\n      <td>23.486056</td>\n      <td>23.882</td>\n      <td>3327500.0</td>\n      <td>NaN</td>\n    </tr>\n    <tr>\n      <th>2012-01-05</th>\n      <td>A</td>\n      <td>35.88</td>\n      <td>37.320</td>\n      <td>35.720</td>\n      <td>37.00</td>\n      <td>23.677891</td>\n      <td>24.628174</td>\n      <td>23.572304</td>\n      <td>24.417</td>\n      <td>4894600.0</td>\n      <td>NaN</td>\n    </tr>\n    <tr>\n      <th>2012-01-06</th>\n      <td>A</td>\n      <td>37.09</td>\n      <td>37.555</td>\n      <td>36.805</td>\n      <td>37.40</td>\n      <td>24.476425</td>\n      <td>24.783288</td>\n      <td>24.288348</td>\n      <td>24.681</td>\n      <td>3370100.0</td>\n      <td>NaN</td>\n    </tr>\n    <tr>\n      <th>2012-01-09</th>\n      <td>A</td>\n      <td>37.62</td>\n      <td>38.420</td>\n      <td>37.472</td>\n      <td>38.38</td>\n      <td>24.826455</td>\n      <td>25.354397</td>\n      <td>24.728786</td>\n      <td>25.328</td>\n      <td>3168500.0</td>\n      <td>NaN</td>\n    </tr>\n    <tr>\n      <th>...</th>\n      <td>...</td>\n      <td>...</td>\n      <td>...</td>\n      <td>...</td>\n      <td>...</td>\n      <td>...</td>\n      <td>...</td>\n      <td>...</td>\n      <td>...</td>\n      <td>...</td>\n      <td>...</td>\n    </tr>\n    <tr>\n      <th>2017-10-02</th>\n      <td>AMFW</td>\n      <td>6.66</td>\n      <td>6.680</td>\n      <td>6.630</td>\n      <td>6.66</td>\n      <td>6.660000</td>\n      <td>6.680000</td>\n      <td>6.630000</td>\n      <td>6.660</td>\n      <td>12407.0</td>\n      <td>0.0</td>\n    </tr>\n    <tr>\n      <th>2017-10-03</th>\n      <td>AMFW</td>\n      <td>6.64</td>\n      <td>6.820</td>\n      <td>6.580</td>\n      <td>6.67</td>\n      <td>6.640000</td>\n      <td>6.820000</td>\n      <td>6.580000</td>\n      <td>6.670</td>\n      <td>1651903.0</td>\n      <td>9.0</td>\n    </tr>\n    <tr>\n      <th>2017-10-04</th>\n      <td>AMFW</td>\n      <td>6.72</td>\n      <td>6.920</td>\n      <td>6.680</td>\n      <td>6.87</td>\n      <td>6.720000</td>\n      <td>6.920000</td>\n      <td>6.680000</td>\n      <td>6.870</td>\n      <td>415055.0</td>\n      <td>8.0</td>\n    </tr>\n    <tr>\n      <th>2017-10-05</th>\n      <td>AMFW</td>\n      <td>7.04</td>\n      <td>7.140</td>\n      <td>7.040</td>\n      <td>7.05</td>\n      <td>7.040000</td>\n      <td>7.140000</td>\n      <td>7.040000</td>\n      <td>7.050</td>\n      <td>55335.0</td>\n      <td>7.0</td>\n    </tr>\n    <tr>\n      <th>2017-10-06</th>\n      <td>AMFW</td>\n      <td>7.05</td>\n      <td>7.070</td>\n      <td>6.950</td>\n      <td>7.01</td>\n      <td>7.050000</td>\n      <td>7.070000</td>\n      <td>6.950000</td>\n      <td>7.010</td>\n      <td>47947.0</td>\n      <td>6.0</td>\n    </tr>\n  </tbody>\n</table>\n<p>633399 rows × 11 columns</p>\n</div>"
     },
     "execution_count": 56,
     "metadata": {},
     "output_type": "execute_result"
    }
   ],
   "source": [
    "tripA"
   ],
   "metadata": {
    "collapsed": false,
    "pycharm": {
     "name": "#%%\n"
    }
   }
  },
  {
   "cell_type": "code",
   "execution_count": 52,
   "outputs": [
    {
     "ename": "KeyboardInterrupt",
     "evalue": "",
     "output_type": "error",
     "traceback": [
      "\u001B[0;31m---------------------------------------------------------------------------\u001B[0m",
      "\u001B[0;31mKeyboardInterrupt\u001B[0m                         Traceback (most recent call last)",
      "Input \u001B[0;32mIn [52]\u001B[0m, in \u001B[0;36m<module>\u001B[0;34m\u001B[0m\n\u001B[1;32m      1\u001B[0m s_time_chunk \u001B[38;5;241m=\u001B[39m time\u001B[38;5;241m.\u001B[39mtime()\n\u001B[0;32m----> 2\u001B[0m dummy \u001B[38;5;241m=\u001B[39m \u001B[43mtripA1\u001B[49m\u001B[38;5;241;43m.\u001B[39;49m\u001B[43mgroupby\u001B[49m\u001B[43m(\u001B[49m\u001B[38;5;124;43m'\u001B[39;49m\u001B[38;5;124;43mticker\u001B[39;49m\u001B[38;5;124;43m'\u001B[39;49m\u001B[43m)\u001B[49m\u001B[38;5;241;43m.\u001B[39;49m\u001B[43mvolume\u001B[49m\u001B[38;5;241;43m.\u001B[39;49m\u001B[43mrolling\u001B[49m\u001B[43m(\u001B[49m\u001B[38;5;241;43m10\u001B[39;49m\u001B[43m)\u001B[49m\u001B[38;5;241;43m.\u001B[39;49m\u001B[43mapply\u001B[49m\u001B[43m(\u001B[49m\u001B[38;5;28;43;01mlambda\u001B[39;49;00m\u001B[43m \u001B[49m\u001B[43mx\u001B[49m\u001B[43m:\u001B[49m\u001B[43m \u001B[49m\u001B[43mpd\u001B[49m\u001B[38;5;241;43m.\u001B[39;49m\u001B[43mSeries\u001B[49m\u001B[43m(\u001B[49m\u001B[43mx\u001B[49m\u001B[43m)\u001B[49m\u001B[38;5;241;43m.\u001B[39;49m\u001B[43mrank\u001B[49m\u001B[43m(\u001B[49m\u001B[43m)\u001B[49m\u001B[38;5;241;43m.\u001B[39;49m\u001B[43miloc\u001B[49m\u001B[43m[\u001B[49m\u001B[38;5;241;43m-\u001B[39;49m\u001B[38;5;241;43m1\u001B[39;49m\u001B[43m]\u001B[49m\u001B[43m)\u001B[49m\n\u001B[1;32m      3\u001B[0m e_time_chunk \u001B[38;5;241m=\u001B[39m time\u001B[38;5;241m.\u001B[39mtime()\n\u001B[1;32m      4\u001B[0m \u001B[38;5;28mprint\u001B[39m(\u001B[38;5;124mf\u001B[39m\u001B[38;5;124m\"\u001B[39m\u001B[38;5;124mTotal time: \u001B[39m\u001B[38;5;132;01m{\u001B[39;00me_time_chunk \u001B[38;5;241m-\u001B[39m s_time_chunk\u001B[38;5;132;01m}\u001B[39;00m\u001B[38;5;124m sec\u001B[39m\u001B[38;5;124m\"\u001B[39m)\n",
      "File \u001B[0;32m~/miniconda3/envs/quant/lib/python3.9/site-packages/pandas/core/window/rolling.py:1661\u001B[0m, in \u001B[0;36mRolling.apply\u001B[0;34m(self, func, raw, engine, engine_kwargs, args, kwargs)\u001B[0m\n\u001B[1;32m   1640\u001B[0m \u001B[38;5;129m@doc\u001B[39m(\n\u001B[1;32m   1641\u001B[0m     template_header,\n\u001B[1;32m   1642\u001B[0m     create_section_header(\u001B[38;5;124m\"\u001B[39m\u001B[38;5;124mParameters\u001B[39m\u001B[38;5;124m\"\u001B[39m),\n\u001B[0;32m   (...)\u001B[0m\n\u001B[1;32m   1659\u001B[0m     kwargs: \u001B[38;5;28mdict\u001B[39m[\u001B[38;5;28mstr\u001B[39m, Any] \u001B[38;5;241m|\u001B[39m \u001B[38;5;28;01mNone\u001B[39;00m \u001B[38;5;241m=\u001B[39m \u001B[38;5;28;01mNone\u001B[39;00m,\n\u001B[1;32m   1660\u001B[0m ):\n\u001B[0;32m-> 1661\u001B[0m     \u001B[38;5;28;01mreturn\u001B[39;00m \u001B[38;5;28;43msuper\u001B[39;49m\u001B[43m(\u001B[49m\u001B[43m)\u001B[49m\u001B[38;5;241;43m.\u001B[39;49m\u001B[43mapply\u001B[49m\u001B[43m(\u001B[49m\n\u001B[1;32m   1662\u001B[0m \u001B[43m        \u001B[49m\u001B[43mfunc\u001B[49m\u001B[43m,\u001B[49m\n\u001B[1;32m   1663\u001B[0m \u001B[43m        \u001B[49m\u001B[43mraw\u001B[49m\u001B[38;5;241;43m=\u001B[39;49m\u001B[43mraw\u001B[49m\u001B[43m,\u001B[49m\n\u001B[1;32m   1664\u001B[0m \u001B[43m        \u001B[49m\u001B[43mengine\u001B[49m\u001B[38;5;241;43m=\u001B[39;49m\u001B[43mengine\u001B[49m\u001B[43m,\u001B[49m\n\u001B[1;32m   1665\u001B[0m \u001B[43m        \u001B[49m\u001B[43mengine_kwargs\u001B[49m\u001B[38;5;241;43m=\u001B[39;49m\u001B[43mengine_kwargs\u001B[49m\u001B[43m,\u001B[49m\n\u001B[1;32m   1666\u001B[0m \u001B[43m        \u001B[49m\u001B[43margs\u001B[49m\u001B[38;5;241;43m=\u001B[39;49m\u001B[43margs\u001B[49m\u001B[43m,\u001B[49m\n\u001B[1;32m   1667\u001B[0m \u001B[43m        \u001B[49m\u001B[43mkwargs\u001B[49m\u001B[38;5;241;43m=\u001B[39;49m\u001B[43mkwargs\u001B[49m\u001B[43m,\u001B[49m\n\u001B[1;32m   1668\u001B[0m \u001B[43m    \u001B[49m\u001B[43m)\u001B[49m\n",
      "File \u001B[0;32m~/miniconda3/envs/quant/lib/python3.9/site-packages/pandas/core/window/rolling.py:1192\u001B[0m, in \u001B[0;36mRollingAndExpandingMixin.apply\u001B[0;34m(self, func, raw, engine, engine_kwargs, args, kwargs)\u001B[0m\n\u001B[1;32m   1189\u001B[0m \u001B[38;5;28;01melse\u001B[39;00m:\n\u001B[1;32m   1190\u001B[0m     \u001B[38;5;28;01mraise\u001B[39;00m \u001B[38;5;167;01mValueError\u001B[39;00m(\u001B[38;5;124m\"\u001B[39m\u001B[38;5;124mengine must be either \u001B[39m\u001B[38;5;124m'\u001B[39m\u001B[38;5;124mnumba\u001B[39m\u001B[38;5;124m'\u001B[39m\u001B[38;5;124m or \u001B[39m\u001B[38;5;124m'\u001B[39m\u001B[38;5;124mcython\u001B[39m\u001B[38;5;124m'\u001B[39m\u001B[38;5;124m\"\u001B[39m)\n\u001B[0;32m-> 1192\u001B[0m \u001B[38;5;28;01mreturn\u001B[39;00m \u001B[38;5;28;43mself\u001B[39;49m\u001B[38;5;241;43m.\u001B[39;49m\u001B[43m_apply\u001B[49m\u001B[43m(\u001B[49m\n\u001B[1;32m   1193\u001B[0m \u001B[43m    \u001B[49m\u001B[43mapply_func\u001B[49m\u001B[43m,\u001B[49m\n\u001B[1;32m   1194\u001B[0m \u001B[43m    \u001B[49m\u001B[43mnumba_cache_key\u001B[49m\u001B[38;5;241;43m=\u001B[39;49m\u001B[43mnumba_cache_key\u001B[49m\u001B[43m,\u001B[49m\n\u001B[1;32m   1195\u001B[0m \u001B[43m\u001B[49m\u001B[43m)\u001B[49m\n",
      "File \u001B[0;32m~/miniconda3/envs/quant/lib/python3.9/site-packages/pandas/core/window/rolling.py:594\u001B[0m, in \u001B[0;36mBaseWindowGroupby._apply\u001B[0;34m(self, func, name, numba_cache_key, **kwargs)\u001B[0m\n\u001B[1;32m    587\u001B[0m \u001B[38;5;28;01mdef\u001B[39;00m \u001B[38;5;21m_apply\u001B[39m(\n\u001B[1;32m    588\u001B[0m     \u001B[38;5;28mself\u001B[39m,\n\u001B[1;32m    589\u001B[0m     func: Callable[\u001B[38;5;241m.\u001B[39m\u001B[38;5;241m.\u001B[39m\u001B[38;5;241m.\u001B[39m, Any],\n\u001B[0;32m   (...)\u001B[0m\n\u001B[1;32m    592\u001B[0m     \u001B[38;5;241m*\u001B[39m\u001B[38;5;241m*\u001B[39mkwargs,\n\u001B[1;32m    593\u001B[0m ) \u001B[38;5;241m-\u001B[39m\u001B[38;5;241m>\u001B[39m FrameOrSeries:\n\u001B[0;32m--> 594\u001B[0m     result \u001B[38;5;241m=\u001B[39m \u001B[38;5;28;43msuper\u001B[39;49m\u001B[43m(\u001B[49m\u001B[43m)\u001B[49m\u001B[38;5;241;43m.\u001B[39;49m\u001B[43m_apply\u001B[49m\u001B[43m(\u001B[49m\n\u001B[1;32m    595\u001B[0m \u001B[43m        \u001B[49m\u001B[43mfunc\u001B[49m\u001B[43m,\u001B[49m\n\u001B[1;32m    596\u001B[0m \u001B[43m        \u001B[49m\u001B[43mname\u001B[49m\u001B[43m,\u001B[49m\n\u001B[1;32m    597\u001B[0m \u001B[43m        \u001B[49m\u001B[43mnumba_cache_key\u001B[49m\u001B[43m,\u001B[49m\n\u001B[1;32m    598\u001B[0m \u001B[43m        \u001B[49m\u001B[38;5;241;43m*\u001B[39;49m\u001B[38;5;241;43m*\u001B[39;49m\u001B[43mkwargs\u001B[49m\u001B[43m,\u001B[49m\n\u001B[1;32m    599\u001B[0m \u001B[43m    \u001B[49m\u001B[43m)\u001B[49m\n\u001B[1;32m    600\u001B[0m     \u001B[38;5;66;03m# Reconstruct the resulting MultiIndex\u001B[39;00m\n\u001B[1;32m    601\u001B[0m     \u001B[38;5;66;03m# 1st set of levels = group by labels\u001B[39;00m\n\u001B[1;32m    602\u001B[0m     \u001B[38;5;66;03m# 2nd set of levels = original DataFrame/Series index\u001B[39;00m\n\u001B[1;32m    603\u001B[0m     grouped_object_index \u001B[38;5;241m=\u001B[39m \u001B[38;5;28mself\u001B[39m\u001B[38;5;241m.\u001B[39mobj\u001B[38;5;241m.\u001B[39mindex\n",
      "File \u001B[0;32m~/miniconda3/envs/quant/lib/python3.9/site-packages/pandas/core/window/rolling.py:545\u001B[0m, in \u001B[0;36mBaseWindow._apply\u001B[0;34m(self, func, name, numba_cache_key, **kwargs)\u001B[0m\n\u001B[1;32m    542\u001B[0m     \u001B[38;5;28;01mreturn\u001B[39;00m result\n\u001B[1;32m    544\u001B[0m \u001B[38;5;28;01mif\u001B[39;00m \u001B[38;5;28mself\u001B[39m\u001B[38;5;241m.\u001B[39mmethod \u001B[38;5;241m==\u001B[39m \u001B[38;5;124m\"\u001B[39m\u001B[38;5;124msingle\u001B[39m\u001B[38;5;124m\"\u001B[39m:\n\u001B[0;32m--> 545\u001B[0m     \u001B[38;5;28;01mreturn\u001B[39;00m \u001B[38;5;28;43mself\u001B[39;49m\u001B[38;5;241;43m.\u001B[39;49m\u001B[43m_apply_blockwise\u001B[49m\u001B[43m(\u001B[49m\u001B[43mhomogeneous_func\u001B[49m\u001B[43m,\u001B[49m\u001B[43m \u001B[49m\u001B[43mname\u001B[49m\u001B[43m)\u001B[49m\n\u001B[1;32m    546\u001B[0m \u001B[38;5;28;01melse\u001B[39;00m:\n\u001B[1;32m    547\u001B[0m     \u001B[38;5;28;01mreturn\u001B[39;00m \u001B[38;5;28mself\u001B[39m\u001B[38;5;241m.\u001B[39m_apply_tablewise(homogeneous_func, name)\n",
      "File \u001B[0;32m~/miniconda3/envs/quant/lib/python3.9/site-packages/pandas/core/window/rolling.py:419\u001B[0m, in \u001B[0;36mBaseWindow._apply_blockwise\u001B[0;34m(self, homogeneous_func, name)\u001B[0m\n\u001B[1;32m    414\u001B[0m \u001B[38;5;124;03m\"\"\"\u001B[39;00m\n\u001B[1;32m    415\u001B[0m \u001B[38;5;124;03mApply the given function to the DataFrame broken down into homogeneous\u001B[39;00m\n\u001B[1;32m    416\u001B[0m \u001B[38;5;124;03msub-frames.\u001B[39;00m\n\u001B[1;32m    417\u001B[0m \u001B[38;5;124;03m\"\"\"\u001B[39;00m\n\u001B[1;32m    418\u001B[0m \u001B[38;5;28;01mif\u001B[39;00m \u001B[38;5;28mself\u001B[39m\u001B[38;5;241m.\u001B[39m_selected_obj\u001B[38;5;241m.\u001B[39mndim \u001B[38;5;241m==\u001B[39m \u001B[38;5;241m1\u001B[39m:\n\u001B[0;32m--> 419\u001B[0m     \u001B[38;5;28;01mreturn\u001B[39;00m \u001B[38;5;28;43mself\u001B[39;49m\u001B[38;5;241;43m.\u001B[39;49m\u001B[43m_apply_series\u001B[49m\u001B[43m(\u001B[49m\u001B[43mhomogeneous_func\u001B[49m\u001B[43m,\u001B[49m\u001B[43m \u001B[49m\u001B[43mname\u001B[49m\u001B[43m)\u001B[49m\n\u001B[1;32m    421\u001B[0m obj \u001B[38;5;241m=\u001B[39m \u001B[38;5;28mself\u001B[39m\u001B[38;5;241m.\u001B[39m_create_data(\u001B[38;5;28mself\u001B[39m\u001B[38;5;241m.\u001B[39m_selected_obj)\n\u001B[1;32m    422\u001B[0m \u001B[38;5;28;01mif\u001B[39;00m name \u001B[38;5;241m==\u001B[39m \u001B[38;5;124m\"\u001B[39m\u001B[38;5;124mcount\u001B[39m\u001B[38;5;124m\"\u001B[39m:\n\u001B[1;32m    423\u001B[0m     \u001B[38;5;66;03m# GH 12541: Special case for count where we support date-like types\u001B[39;00m\n",
      "File \u001B[0;32m~/miniconda3/envs/quant/lib/python3.9/site-packages/pandas/core/window/rolling.py:408\u001B[0m, in \u001B[0;36mBaseWindow._apply_series\u001B[0;34m(self, homogeneous_func, name)\u001B[0m\n\u001B[1;32m    405\u001B[0m \u001B[38;5;28;01mexcept\u001B[39;00m (\u001B[38;5;167;01mTypeError\u001B[39;00m, \u001B[38;5;167;01mNotImplementedError\u001B[39;00m) \u001B[38;5;28;01mas\u001B[39;00m err:\n\u001B[1;32m    406\u001B[0m     \u001B[38;5;28;01mraise\u001B[39;00m DataError(\u001B[38;5;124m\"\u001B[39m\u001B[38;5;124mNo numeric types to aggregate\u001B[39m\u001B[38;5;124m\"\u001B[39m) \u001B[38;5;28;01mfrom\u001B[39;00m \u001B[38;5;21;01merr\u001B[39;00m\n\u001B[0;32m--> 408\u001B[0m result \u001B[38;5;241m=\u001B[39m \u001B[43mhomogeneous_func\u001B[49m\u001B[43m(\u001B[49m\u001B[43mvalues\u001B[49m\u001B[43m)\u001B[49m\n\u001B[1;32m    409\u001B[0m \u001B[38;5;28;01mreturn\u001B[39;00m obj\u001B[38;5;241m.\u001B[39m_constructor(result, index\u001B[38;5;241m=\u001B[39mobj\u001B[38;5;241m.\u001B[39mindex, name\u001B[38;5;241m=\u001B[39mobj\u001B[38;5;241m.\u001B[39mname)\n",
      "File \u001B[0;32m~/miniconda3/envs/quant/lib/python3.9/site-packages/pandas/core/window/rolling.py:537\u001B[0m, in \u001B[0;36mBaseWindow._apply.<locals>.homogeneous_func\u001B[0;34m(values)\u001B[0m\n\u001B[1;32m    535\u001B[0m         result \u001B[38;5;241m=\u001B[39m np\u001B[38;5;241m.\u001B[39mapply_along_axis(calc, \u001B[38;5;28mself\u001B[39m\u001B[38;5;241m.\u001B[39maxis, values)\n\u001B[1;32m    536\u001B[0m     \u001B[38;5;28;01melse\u001B[39;00m:\n\u001B[0;32m--> 537\u001B[0m         result \u001B[38;5;241m=\u001B[39m \u001B[43mcalc\u001B[49m\u001B[43m(\u001B[49m\u001B[43mvalues\u001B[49m\u001B[43m)\u001B[49m\n\u001B[1;32m    539\u001B[0m \u001B[38;5;28;01mif\u001B[39;00m numba_cache_key \u001B[38;5;129;01mis\u001B[39;00m \u001B[38;5;129;01mnot\u001B[39;00m \u001B[38;5;28;01mNone\u001B[39;00m:\n\u001B[1;32m    540\u001B[0m     NUMBA_FUNC_CACHE[numba_cache_key] \u001B[38;5;241m=\u001B[39m func\n",
      "File \u001B[0;32m~/miniconda3/envs/quant/lib/python3.9/site-packages/pandas/core/window/rolling.py:531\u001B[0m, in \u001B[0;36mBaseWindow._apply.<locals>.homogeneous_func.<locals>.calc\u001B[0;34m(x)\u001B[0m\n\u001B[1;32m    521\u001B[0m start, end \u001B[38;5;241m=\u001B[39m window_indexer\u001B[38;5;241m.\u001B[39mget_window_bounds(\n\u001B[1;32m    522\u001B[0m     num_values\u001B[38;5;241m=\u001B[39m\u001B[38;5;28mlen\u001B[39m(x),\n\u001B[1;32m    523\u001B[0m     min_periods\u001B[38;5;241m=\u001B[39mmin_periods,\n\u001B[1;32m    524\u001B[0m     center\u001B[38;5;241m=\u001B[39m\u001B[38;5;28mself\u001B[39m\u001B[38;5;241m.\u001B[39mcenter,\n\u001B[1;32m    525\u001B[0m     closed\u001B[38;5;241m=\u001B[39m\u001B[38;5;28mself\u001B[39m\u001B[38;5;241m.\u001B[39mclosed,\n\u001B[1;32m    526\u001B[0m )\n\u001B[1;32m    527\u001B[0m \u001B[38;5;28;01massert\u001B[39;00m \u001B[38;5;28mlen\u001B[39m(start) \u001B[38;5;241m==\u001B[39m \u001B[38;5;28mlen\u001B[39m(\n\u001B[1;32m    528\u001B[0m     end\n\u001B[1;32m    529\u001B[0m ), \u001B[38;5;124m\"\u001B[39m\u001B[38;5;124mthese should be equal in length from get_window_bounds\u001B[39m\u001B[38;5;124m\"\u001B[39m\n\u001B[0;32m--> 531\u001B[0m \u001B[38;5;28;01mreturn\u001B[39;00m \u001B[43mfunc\u001B[49m\u001B[43m(\u001B[49m\u001B[43mx\u001B[49m\u001B[43m,\u001B[49m\u001B[43m \u001B[49m\u001B[43mstart\u001B[49m\u001B[43m,\u001B[49m\u001B[43m \u001B[49m\u001B[43mend\u001B[49m\u001B[43m,\u001B[49m\u001B[43m \u001B[49m\u001B[43mmin_periods\u001B[49m\u001B[43m)\u001B[49m\n",
      "File \u001B[0;32m~/miniconda3/envs/quant/lib/python3.9/site-packages/pandas/core/window/rolling.py:1217\u001B[0m, in \u001B[0;36mRollingAndExpandingMixin._generate_cython_apply_func.<locals>.apply_func\u001B[0;34m(values, begin, end, min_periods, raw)\u001B[0m\n\u001B[1;32m   1215\u001B[0m \u001B[38;5;28;01mif\u001B[39;00m \u001B[38;5;129;01mnot\u001B[39;00m raw:\n\u001B[1;32m   1216\u001B[0m     values \u001B[38;5;241m=\u001B[39m Series(values, index\u001B[38;5;241m=\u001B[39m\u001B[38;5;28mself\u001B[39m\u001B[38;5;241m.\u001B[39mobj\u001B[38;5;241m.\u001B[39mindex)\n\u001B[0;32m-> 1217\u001B[0m \u001B[38;5;28;01mreturn\u001B[39;00m \u001B[43mwindow_func\u001B[49m\u001B[43m(\u001B[49m\u001B[43mvalues\u001B[49m\u001B[43m,\u001B[49m\u001B[43m \u001B[49m\u001B[43mbegin\u001B[49m\u001B[43m,\u001B[49m\u001B[43m \u001B[49m\u001B[43mend\u001B[49m\u001B[43m,\u001B[49m\u001B[43m \u001B[49m\u001B[43mmin_periods\u001B[49m\u001B[43m)\u001B[49m\n",
      "File \u001B[0;32m~/miniconda3/envs/quant/lib/python3.9/site-packages/pandas/_libs/window/aggregations.pyx:1173\u001B[0m, in \u001B[0;36mpandas._libs.window.aggregations.roll_apply\u001B[0;34m()\u001B[0m\n",
      "File \u001B[0;32m~/miniconda3/envs/quant/lib/python3.9/site-packages/pandas/core/indexing.py:931\u001B[0m, in \u001B[0;36m_LocationIndexer.__getitem__\u001B[0;34m(self, key)\u001B[0m\n\u001B[1;32m    928\u001B[0m axis \u001B[38;5;241m=\u001B[39m \u001B[38;5;28mself\u001B[39m\u001B[38;5;241m.\u001B[39maxis \u001B[38;5;129;01mor\u001B[39;00m \u001B[38;5;241m0\u001B[39m\n\u001B[1;32m    930\u001B[0m maybe_callable \u001B[38;5;241m=\u001B[39m com\u001B[38;5;241m.\u001B[39mapply_if_callable(key, \u001B[38;5;28mself\u001B[39m\u001B[38;5;241m.\u001B[39mobj)\n\u001B[0;32m--> 931\u001B[0m \u001B[38;5;28;01mreturn\u001B[39;00m \u001B[38;5;28;43mself\u001B[39;49m\u001B[38;5;241;43m.\u001B[39;49m\u001B[43m_getitem_axis\u001B[49m\u001B[43m(\u001B[49m\u001B[43mmaybe_callable\u001B[49m\u001B[43m,\u001B[49m\u001B[43m \u001B[49m\u001B[43maxis\u001B[49m\u001B[38;5;241;43m=\u001B[39;49m\u001B[43maxis\u001B[49m\u001B[43m)\u001B[49m\n",
      "File \u001B[0;32m~/miniconda3/envs/quant/lib/python3.9/site-packages/pandas/core/indexing.py:1543\u001B[0m, in \u001B[0;36m_iLocIndexer._getitem_axis\u001B[0;34m(self, key, axis)\u001B[0m\n\u001B[1;32m   1537\u001B[0m     \u001B[38;5;28;01mraise\u001B[39;00m \u001B[38;5;167;01mIndexError\u001B[39;00m(\n\u001B[1;32m   1538\u001B[0m         \u001B[38;5;124m\"\u001B[39m\u001B[38;5;124mDataFrame indexer is not allowed for .iloc\u001B[39m\u001B[38;5;130;01m\\n\u001B[39;00m\u001B[38;5;124m\"\u001B[39m\n\u001B[1;32m   1539\u001B[0m         \u001B[38;5;124m\"\u001B[39m\u001B[38;5;124mConsider using .loc for automatic alignment.\u001B[39m\u001B[38;5;124m\"\u001B[39m\n\u001B[1;32m   1540\u001B[0m     )\n\u001B[1;32m   1542\u001B[0m \u001B[38;5;28;01mif\u001B[39;00m \u001B[38;5;28misinstance\u001B[39m(key, \u001B[38;5;28mslice\u001B[39m):\n\u001B[0;32m-> 1543\u001B[0m     \u001B[38;5;28;01mreturn\u001B[39;00m \u001B[38;5;28;43mself\u001B[39;49m\u001B[38;5;241;43m.\u001B[39;49m\u001B[43m_get_slice_axis\u001B[49m\u001B[43m(\u001B[49m\u001B[43mkey\u001B[49m\u001B[43m,\u001B[49m\u001B[43m \u001B[49m\u001B[43maxis\u001B[49m\u001B[38;5;241;43m=\u001B[39;49m\u001B[43maxis\u001B[49m\u001B[43m)\u001B[49m\n\u001B[1;32m   1545\u001B[0m \u001B[38;5;28;01mif\u001B[39;00m is_iterator(key):\n\u001B[1;32m   1546\u001B[0m     key \u001B[38;5;241m=\u001B[39m \u001B[38;5;28mlist\u001B[39m(key)\n",
      "File \u001B[0;32m~/miniconda3/envs/quant/lib/python3.9/site-packages/pandas/core/indexing.py:1579\u001B[0m, in \u001B[0;36m_iLocIndexer._get_slice_axis\u001B[0;34m(self, slice_obj, axis)\u001B[0m\n\u001B[1;32m   1577\u001B[0m labels \u001B[38;5;241m=\u001B[39m obj\u001B[38;5;241m.\u001B[39m_get_axis(axis)\n\u001B[1;32m   1578\u001B[0m labels\u001B[38;5;241m.\u001B[39m_validate_positional_slice(slice_obj)\n\u001B[0;32m-> 1579\u001B[0m \u001B[38;5;28;01mreturn\u001B[39;00m \u001B[38;5;28;43mself\u001B[39;49m\u001B[38;5;241;43m.\u001B[39;49m\u001B[43mobj\u001B[49m\u001B[38;5;241;43m.\u001B[39;49m\u001B[43m_slice\u001B[49m\u001B[43m(\u001B[49m\u001B[43mslice_obj\u001B[49m\u001B[43m,\u001B[49m\u001B[43m \u001B[49m\u001B[43maxis\u001B[49m\u001B[38;5;241;43m=\u001B[39;49m\u001B[43maxis\u001B[49m\u001B[43m)\u001B[49m\n",
      "File \u001B[0;32m~/miniconda3/envs/quant/lib/python3.9/site-packages/pandas/core/series.py:926\u001B[0m, in \u001B[0;36mSeries._slice\u001B[0;34m(self, slobj, axis)\u001B[0m\n\u001B[1;32m    923\u001B[0m \u001B[38;5;28;01mdef\u001B[39;00m \u001B[38;5;21m_slice\u001B[39m(\u001B[38;5;28mself\u001B[39m, slobj: \u001B[38;5;28mslice\u001B[39m, axis: \u001B[38;5;28mint\u001B[39m \u001B[38;5;241m=\u001B[39m \u001B[38;5;241m0\u001B[39m) \u001B[38;5;241m-\u001B[39m\u001B[38;5;241m>\u001B[39m Series:\n\u001B[1;32m    924\u001B[0m     \u001B[38;5;66;03m# axis kwarg is retained for compat with NDFrame method\u001B[39;00m\n\u001B[1;32m    925\u001B[0m     \u001B[38;5;66;03m#  _slice is *always* positional\u001B[39;00m\n\u001B[0;32m--> 926\u001B[0m     \u001B[38;5;28;01mreturn\u001B[39;00m \u001B[38;5;28;43mself\u001B[39;49m\u001B[38;5;241;43m.\u001B[39;49m\u001B[43m_get_values\u001B[49m\u001B[43m(\u001B[49m\u001B[43mslobj\u001B[49m\u001B[43m)\u001B[49m\n",
      "File \u001B[0;32m~/miniconda3/envs/quant/lib/python3.9/site-packages/pandas/core/series.py:1027\u001B[0m, in \u001B[0;36mSeries._get_values\u001B[0;34m(self, indexer)\u001B[0m\n\u001B[1;32m   1025\u001B[0m \u001B[38;5;28;01mtry\u001B[39;00m:\n\u001B[1;32m   1026\u001B[0m     new_mgr \u001B[38;5;241m=\u001B[39m \u001B[38;5;28mself\u001B[39m\u001B[38;5;241m.\u001B[39m_mgr\u001B[38;5;241m.\u001B[39mgetitem_mgr(indexer)\n\u001B[0;32m-> 1027\u001B[0m     \u001B[38;5;28;01mreturn\u001B[39;00m \u001B[38;5;28;43mself\u001B[39;49m\u001B[38;5;241;43m.\u001B[39;49m\u001B[43m_constructor\u001B[49m\u001B[43m(\u001B[49m\u001B[43mnew_mgr\u001B[49m\u001B[43m)\u001B[49m\u001B[38;5;241m.\u001B[39m__finalize__(\u001B[38;5;28mself\u001B[39m)\n\u001B[1;32m   1028\u001B[0m \u001B[38;5;28;01mexcept\u001B[39;00m \u001B[38;5;167;01mValueError\u001B[39;00m:\n\u001B[1;32m   1029\u001B[0m     \u001B[38;5;66;03m# mpl compat if we look up e.g. ser[:, np.newaxis];\u001B[39;00m\n\u001B[1;32m   1030\u001B[0m     \u001B[38;5;66;03m#  see tests.series.timeseries.test_mpl_compat_hack\u001B[39;00m\n\u001B[1;32m   1031\u001B[0m     \u001B[38;5;66;03m# the asarray is needed to avoid returning a 2D DatetimeArray\u001B[39;00m\n\u001B[1;32m   1032\u001B[0m     \u001B[38;5;28;01mreturn\u001B[39;00m np\u001B[38;5;241m.\u001B[39masarray(\u001B[38;5;28mself\u001B[39m\u001B[38;5;241m.\u001B[39m_values[indexer])\n",
      "File \u001B[0;32m~/miniconda3/envs/quant/lib/python3.9/site-packages/pandas/core/series.py:333\u001B[0m, in \u001B[0;36mSeries.__init__\u001B[0;34m(self, data, index, dtype, name, copy, fastpath)\u001B[0m\n\u001B[1;32m    325\u001B[0m \u001B[38;5;28;01mif\u001B[39;00m (\n\u001B[1;32m    326\u001B[0m     \u001B[38;5;28misinstance\u001B[39m(data, (SingleBlockManager, SingleArrayManager))\n\u001B[1;32m    327\u001B[0m     \u001B[38;5;129;01mand\u001B[39;00m index \u001B[38;5;129;01mis\u001B[39;00m \u001B[38;5;28;01mNone\u001B[39;00m\n\u001B[0;32m   (...)\u001B[0m\n\u001B[1;32m    330\u001B[0m ):\n\u001B[1;32m    331\u001B[0m     \u001B[38;5;66;03m# GH#33357 called with just the SingleBlockManager\u001B[39;00m\n\u001B[1;32m    332\u001B[0m     NDFrame\u001B[38;5;241m.\u001B[39m\u001B[38;5;21m__init__\u001B[39m(\u001B[38;5;28mself\u001B[39m, data)\n\u001B[0;32m--> 333\u001B[0m     \u001B[38;5;28mself\u001B[39m\u001B[38;5;241m.\u001B[39mname \u001B[38;5;241m=\u001B[39m name\n\u001B[1;32m    334\u001B[0m     \u001B[38;5;28;01mreturn\u001B[39;00m\n\u001B[1;32m    336\u001B[0m \u001B[38;5;66;03m# we are called internally, so short-circuit\u001B[39;00m\n",
      "File \u001B[0;32m~/miniconda3/envs/quant/lib/python3.9/site-packages/pandas/core/generic.py:5509\u001B[0m, in \u001B[0;36mNDFrame.__setattr__\u001B[0;34m(self, name, value)\u001B[0m\n\u001B[1;32m   5507\u001B[0m     \u001B[38;5;28mobject\u001B[39m\u001B[38;5;241m.\u001B[39m\u001B[38;5;21m__setattr__\u001B[39m(\u001B[38;5;28mself\u001B[39m, name, value)\n\u001B[1;32m   5508\u001B[0m \u001B[38;5;28;01melif\u001B[39;00m name \u001B[38;5;129;01min\u001B[39;00m \u001B[38;5;28mself\u001B[39m\u001B[38;5;241m.\u001B[39m_metadata:\n\u001B[0;32m-> 5509\u001B[0m     \u001B[38;5;28;43mobject\u001B[39;49m\u001B[38;5;241;43m.\u001B[39;49m\u001B[38;5;21;43m__setattr__\u001B[39;49m\u001B[43m(\u001B[49m\u001B[38;5;28;43mself\u001B[39;49m\u001B[43m,\u001B[49m\u001B[43m \u001B[49m\u001B[43mname\u001B[49m\u001B[43m,\u001B[49m\u001B[43m \u001B[49m\u001B[43mvalue\u001B[49m\u001B[43m)\u001B[49m\n\u001B[1;32m   5510\u001B[0m \u001B[38;5;28;01melse\u001B[39;00m:\n\u001B[1;32m   5511\u001B[0m     \u001B[38;5;28;01mtry\u001B[39;00m:\n",
      "\u001B[0;31mKeyboardInterrupt\u001B[0m: "
     ]
    }
   ],
   "source": [
    "s_time_chunk = time.time()\n",
    "dummy = tripA1.groupby('ticker').volume.rolling(10).apply(lambda x: pd.Series(x).rank().iloc[-1])\n",
    "e_time_chunk = time.time()\n",
    "print(f\"Total time: {e_time_chunk - s_time_chunk} sec\")\n"
   ],
   "metadata": {
    "collapsed": false,
    "pycharm": {
     "name": "#%%\n"
    }
   }
  },
  {
   "cell_type": "code",
   "execution_count": 46,
   "outputs": [
    {
     "name": "stdout",
     "output_type": "stream",
     "text": [
      "Total time: 80.64372301101685 sec\n"
     ]
    }
   ],
   "source": [
    "s_time_chunk = time.time()\n",
    "ofe0.ts_rank('volume', 10, inplace=True)\n",
    "e_time_chunk = time.time()\n",
    "print(f\"Total time: {e_time_chunk - s_time_chunk} sec\")"
   ],
   "metadata": {
    "collapsed": false,
    "pycharm": {
     "name": "#%%\n"
    }
   }
  },
  {
   "cell_type": "code",
   "execution_count": 47,
   "outputs": [],
   "source": [
    "tripA2 = tripA[['ticker', 'volume']].reset_index()\n",
    "tripA2 = tripA2.pivot(index='date', columns='ticker', values= 'volume')"
   ],
   "metadata": {
    "collapsed": false,
    "pycharm": {
     "name": "#%%\n"
    }
   }
  },
  {
   "cell_type": "code",
   "execution_count": 48,
   "outputs": [
    {
     "name": "stdout",
     "output_type": "stream",
     "text": [
      "Total time: 80.60853600502014 sec\n"
     ]
    }
   ],
   "source": [
    "s_time_chunk = time.time()\n",
    "dummy = tripA2.rolling(10).apply(lambda x: pd.Series(x).rank().iloc[-1], engine='cython', raw=True)\n",
    "e_time_chunk = time.time()\n",
    "print(f\"Total time: {e_time_chunk - s_time_chunk} sec\")"
   ],
   "metadata": {
    "collapsed": false,
    "pycharm": {
     "name": "#%%\n"
    }
   }
  },
  {
   "cell_type": "code",
   "execution_count": 23,
   "outputs": [],
   "source": [
    "tripA2 = tripA[['ticker', 'volume']].reset_index()"
   ],
   "metadata": {
    "collapsed": false,
    "pycharm": {
     "name": "#%%\n"
    }
   }
  },
  {
   "cell_type": "code",
   "execution_count": 25,
   "outputs": [],
   "source": [
    "tripA2 = tripA2.pivot(index='date', columns='ticker', values= 'volume')"
   ],
   "metadata": {
    "collapsed": false,
    "pycharm": {
     "name": "#%%\n"
    }
   }
  },
  {
   "cell_type": "code",
   "execution_count": 26,
   "outputs": [
    {
     "data": {
      "text/plain": "ticker              A          AA        AAP\ndate                                        \n2012-01-03  2973100.0         NaN   786600.0\n2012-01-04  3327500.0         NaN  1412800.0\n2012-01-05  4894600.0         NaN   596900.0\n2012-01-06  3370100.0         NaN  1346600.0\n2012-01-09  3168500.0         NaN   686100.0\n...               ...         ...        ...\n2022-03-10  1933127.0  10227270.0   613411.0\n2022-03-11  1815743.0   5687948.0   527477.0\n2022-03-14  1737099.0   7906373.0  1229028.0\n2022-03-15  1649205.0   7088133.0   814695.0\n2022-03-16  1673049.0   6806764.0  1235792.0\n\n[2568 rows x 3 columns]",
      "text/html": "<div>\n<style scoped>\n    .dataframe tbody tr th:only-of-type {\n        vertical-align: middle;\n    }\n\n    .dataframe tbody tr th {\n        vertical-align: top;\n    }\n\n    .dataframe thead th {\n        text-align: right;\n    }\n</style>\n<table border=\"1\" class=\"dataframe\">\n  <thead>\n    <tr style=\"text-align: right;\">\n      <th>ticker</th>\n      <th>A</th>\n      <th>AA</th>\n      <th>AAP</th>\n    </tr>\n    <tr>\n      <th>date</th>\n      <th></th>\n      <th></th>\n      <th></th>\n    </tr>\n  </thead>\n  <tbody>\n    <tr>\n      <th>2012-01-03</th>\n      <td>2973100.0</td>\n      <td>NaN</td>\n      <td>786600.0</td>\n    </tr>\n    <tr>\n      <th>2012-01-04</th>\n      <td>3327500.0</td>\n      <td>NaN</td>\n      <td>1412800.0</td>\n    </tr>\n    <tr>\n      <th>2012-01-05</th>\n      <td>4894600.0</td>\n      <td>NaN</td>\n      <td>596900.0</td>\n    </tr>\n    <tr>\n      <th>2012-01-06</th>\n      <td>3370100.0</td>\n      <td>NaN</td>\n      <td>1346600.0</td>\n    </tr>\n    <tr>\n      <th>2012-01-09</th>\n      <td>3168500.0</td>\n      <td>NaN</td>\n      <td>686100.0</td>\n    </tr>\n    <tr>\n      <th>...</th>\n      <td>...</td>\n      <td>...</td>\n      <td>...</td>\n    </tr>\n    <tr>\n      <th>2022-03-10</th>\n      <td>1933127.0</td>\n      <td>10227270.0</td>\n      <td>613411.0</td>\n    </tr>\n    <tr>\n      <th>2022-03-11</th>\n      <td>1815743.0</td>\n      <td>5687948.0</td>\n      <td>527477.0</td>\n    </tr>\n    <tr>\n      <th>2022-03-14</th>\n      <td>1737099.0</td>\n      <td>7906373.0</td>\n      <td>1229028.0</td>\n    </tr>\n    <tr>\n      <th>2022-03-15</th>\n      <td>1649205.0</td>\n      <td>7088133.0</td>\n      <td>814695.0</td>\n    </tr>\n    <tr>\n      <th>2022-03-16</th>\n      <td>1673049.0</td>\n      <td>6806764.0</td>\n      <td>1235792.0</td>\n    </tr>\n  </tbody>\n</table>\n<p>2568 rows × 3 columns</p>\n</div>"
     },
     "execution_count": 26,
     "metadata": {},
     "output_type": "execute_result"
    }
   ],
   "source": [
    "tripA2"
   ],
   "metadata": {
    "collapsed": false,
    "pycharm": {
     "name": "#%%\n"
    }
   }
  },
  {
   "cell_type": "code",
   "execution_count": 4,
   "outputs": [
    {
     "name": "stderr",
     "output_type": "stream",
     "text": [
      "/Users/punlee/miniconda3/envs/quant/lib/python3.9/site-packages/pandas/core/arraylike.py:364: RuntimeWarning: divide by zero encountered in log\n",
      "  result = getattr(ufunc, method)(*inputs, **kwargs)\n"
     ]
    },
    {
     "name": "stdout",
     "output_type": "stream",
     "text": [
      "Total time: 4843.606370210648 sec\n"
     ]
    }
   ],
   "source": [
    "s_time_chunk = time.time()\n",
    "afe0.alpha2(2, 6, inplace=True)\n",
    "e_time_chunk = time.time()\n",
    "\n",
    "print(f\"Total time: {e_time_chunk - s_time_chunk} sec\")"
   ],
   "metadata": {
    "collapsed": false,
    "pycharm": {
     "name": "#%%\n"
    }
   }
  }
 ],
 "metadata": {
  "kernelspec": {
   "display_name": "Python 3",
   "language": "python",
   "name": "python3"
  },
  "language_info": {
   "codemirror_mode": {
    "name": "ipython",
    "version": 2
   },
   "file_extension": ".py",
   "mimetype": "text/x-python",
   "name": "python",
   "nbconvert_exporter": "python",
   "pygments_lexer": "ipython2",
   "version": "2.7.6"
  }
 },
 "nbformat": 4,
 "nbformat_minor": 0
}