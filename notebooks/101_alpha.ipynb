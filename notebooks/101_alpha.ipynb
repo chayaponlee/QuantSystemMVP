{
 "cells": [
  {
   "cell_type": "code",
   "execution_count": 4,
   "metadata": {
    "collapsed": true
   },
   "outputs": [],
   "source": [
    "import pandas as pd\n",
    "import numpy as np\n",
    "from realgam.quantlib import general_utils as gu\n",
    "from realgam.quantlib.factor_lib.technicals import indicators_cal as ic\n",
    "from realgam.quantlib.factor_lib.technicals import alpha_101 as alpha101\n",
    "import datetime\n",
    "import os\n",
    "import time\n",
    "PROJECT_PATH = os.getenv('QuantSystemMVP')\n",
    "DATA_PATH = f'{PROJECT_PATH}/Data/stock_hist.obj'\n"
   ]
  },
  {
   "cell_type": "code",
   "execution_count": 10,
   "outputs": [],
   "source": [
    "stocks_df, stocks_extended_df, available_tickers = gu.load_file(DATA_PATH)"
   ],
   "metadata": {
    "collapsed": false,
    "pycharm": {
     "name": "#%%\n"
    }
   }
  },
  {
   "cell_type": "code",
   "execution_count": 5,
   "outputs": [],
   "source": [
    "stocks_df['alpha1'] = alpha101.alpha_1(stocks_df)"
   ],
   "metadata": {
    "collapsed": false,
    "pycharm": {
     "name": "#%%\n"
    }
   }
  },
  {
   "cell_type": "code",
   "execution_count": 6,
   "outputs": [
    {
     "data": {
      "text/plain": "           ticker   open    high     low  close    openadj    highadj  \\\ndate                                                                    \n2012-01-03      A  35.84  36.990  35.740  36.48  23.651649  24.410561   \n2012-01-04      A  36.15  36.360  35.590  36.19  23.855604  23.994184   \n2012-01-05      A  35.88  37.320  35.720  37.00  23.677891  24.628174   \n2012-01-06      A  37.09  37.555  36.805  37.40  24.476425  24.783288   \n2012-01-09      A  37.62  38.420  37.472  38.38  24.826455  25.354397   \n...           ...    ...     ...     ...    ...        ...        ...   \n2013-03-11     ZZ   2.20   2.210   2.200   2.20   2.200000   2.210000   \n2013-03-12     ZZ   2.20   2.210   2.200   2.21   2.200000   2.210000   \n2013-03-13     ZZ   2.20   2.210   2.200   2.21   2.200000   2.210000   \n2013-03-14     ZZ   2.20   2.210   2.200   2.21   2.200000   2.210000   \n2013-03-15     ZZ   2.21   2.210   2.190   2.19   2.210000   2.210000   \n\n               lowadj  closeadj     volume  alpha1  \ndate                                                \n2012-01-03  23.585657    24.074  2973100.0     NaN  \n2012-01-04  23.486056    23.882  3327500.0     NaN  \n2012-01-05  23.572304    24.417  4894600.0     NaN  \n2012-01-06  24.288348    24.681  3370100.0     NaN  \n2012-01-09  24.728786    25.328  3168500.0     NaN  \n...               ...       ...        ...     ...  \n2013-03-11   2.200000     2.200   407100.0     0.8  \n2013-03-12   2.200000     2.210   160000.0     1.0  \n2013-03-13   2.200000     2.210   308900.0     0.8  \n2013-03-14   2.200000     2.210   275000.0     0.6  \n2013-03-15   2.190000     2.190  1518200.0     0.4  \n\n[13800245 rows x 11 columns]",
      "text/html": "<div>\n<style scoped>\n    .dataframe tbody tr th:only-of-type {\n        vertical-align: middle;\n    }\n\n    .dataframe tbody tr th {\n        vertical-align: top;\n    }\n\n    .dataframe thead th {\n        text-align: right;\n    }\n</style>\n<table border=\"1\" class=\"dataframe\">\n  <thead>\n    <tr style=\"text-align: right;\">\n      <th></th>\n      <th>ticker</th>\n      <th>open</th>\n      <th>high</th>\n      <th>low</th>\n      <th>close</th>\n      <th>openadj</th>\n      <th>highadj</th>\n      <th>lowadj</th>\n      <th>closeadj</th>\n      <th>volume</th>\n      <th>alpha1</th>\n    </tr>\n    <tr>\n      <th>date</th>\n      <th></th>\n      <th></th>\n      <th></th>\n      <th></th>\n      <th></th>\n      <th></th>\n      <th></th>\n      <th></th>\n      <th></th>\n      <th></th>\n      <th></th>\n    </tr>\n  </thead>\n  <tbody>\n    <tr>\n      <th>2012-01-03</th>\n      <td>A</td>\n      <td>35.84</td>\n      <td>36.990</td>\n      <td>35.740</td>\n      <td>36.48</td>\n      <td>23.651649</td>\n      <td>24.410561</td>\n      <td>23.585657</td>\n      <td>24.074</td>\n      <td>2973100.0</td>\n      <td>NaN</td>\n    </tr>\n    <tr>\n      <th>2012-01-04</th>\n      <td>A</td>\n      <td>36.15</td>\n      <td>36.360</td>\n      <td>35.590</td>\n      <td>36.19</td>\n      <td>23.855604</td>\n      <td>23.994184</td>\n      <td>23.486056</td>\n      <td>23.882</td>\n      <td>3327500.0</td>\n      <td>NaN</td>\n    </tr>\n    <tr>\n      <th>2012-01-05</th>\n      <td>A</td>\n      <td>35.88</td>\n      <td>37.320</td>\n      <td>35.720</td>\n      <td>37.00</td>\n      <td>23.677891</td>\n      <td>24.628174</td>\n      <td>23.572304</td>\n      <td>24.417</td>\n      <td>4894600.0</td>\n      <td>NaN</td>\n    </tr>\n    <tr>\n      <th>2012-01-06</th>\n      <td>A</td>\n      <td>37.09</td>\n      <td>37.555</td>\n      <td>36.805</td>\n      <td>37.40</td>\n      <td>24.476425</td>\n      <td>24.783288</td>\n      <td>24.288348</td>\n      <td>24.681</td>\n      <td>3370100.0</td>\n      <td>NaN</td>\n    </tr>\n    <tr>\n      <th>2012-01-09</th>\n      <td>A</td>\n      <td>37.62</td>\n      <td>38.420</td>\n      <td>37.472</td>\n      <td>38.38</td>\n      <td>24.826455</td>\n      <td>25.354397</td>\n      <td>24.728786</td>\n      <td>25.328</td>\n      <td>3168500.0</td>\n      <td>NaN</td>\n    </tr>\n    <tr>\n      <th>...</th>\n      <td>...</td>\n      <td>...</td>\n      <td>...</td>\n      <td>...</td>\n      <td>...</td>\n      <td>...</td>\n      <td>...</td>\n      <td>...</td>\n      <td>...</td>\n      <td>...</td>\n      <td>...</td>\n    </tr>\n    <tr>\n      <th>2013-03-11</th>\n      <td>ZZ</td>\n      <td>2.20</td>\n      <td>2.210</td>\n      <td>2.200</td>\n      <td>2.20</td>\n      <td>2.200000</td>\n      <td>2.210000</td>\n      <td>2.200000</td>\n      <td>2.200</td>\n      <td>407100.0</td>\n      <td>0.8</td>\n    </tr>\n    <tr>\n      <th>2013-03-12</th>\n      <td>ZZ</td>\n      <td>2.20</td>\n      <td>2.210</td>\n      <td>2.200</td>\n      <td>2.21</td>\n      <td>2.200000</td>\n      <td>2.210000</td>\n      <td>2.200000</td>\n      <td>2.210</td>\n      <td>160000.0</td>\n      <td>1.0</td>\n    </tr>\n    <tr>\n      <th>2013-03-13</th>\n      <td>ZZ</td>\n      <td>2.20</td>\n      <td>2.210</td>\n      <td>2.200</td>\n      <td>2.21</td>\n      <td>2.200000</td>\n      <td>2.210000</td>\n      <td>2.200000</td>\n      <td>2.210</td>\n      <td>308900.0</td>\n      <td>0.8</td>\n    </tr>\n    <tr>\n      <th>2013-03-14</th>\n      <td>ZZ</td>\n      <td>2.20</td>\n      <td>2.210</td>\n      <td>2.200</td>\n      <td>2.21</td>\n      <td>2.200000</td>\n      <td>2.210000</td>\n      <td>2.200000</td>\n      <td>2.210</td>\n      <td>275000.0</td>\n      <td>0.6</td>\n    </tr>\n    <tr>\n      <th>2013-03-15</th>\n      <td>ZZ</td>\n      <td>2.21</td>\n      <td>2.210</td>\n      <td>2.190</td>\n      <td>2.19</td>\n      <td>2.210000</td>\n      <td>2.210000</td>\n      <td>2.190000</td>\n      <td>2.190</td>\n      <td>1518200.0</td>\n      <td>0.4</td>\n    </tr>\n  </tbody>\n</table>\n<p>13800245 rows × 11 columns</p>\n</div>"
     },
     "execution_count": 6,
     "metadata": {},
     "output_type": "execute_result"
    }
   ],
   "source": [
    "stocks_df"
   ],
   "metadata": {
    "collapsed": false,
    "pycharm": {
     "name": "#%%\n"
    }
   }
  },
  {
   "cell_type": "code",
   "execution_count": null,
   "outputs": [],
   "source": [
    "(-1 * correlation(rank(delta(log(volume), 2)), rank(((close - open) / open)), 6))"
   ],
   "metadata": {
    "collapsed": false,
    "pycharm": {
     "name": "#%%\n"
    }
   }
  },
  {
   "cell_type": "code",
   "execution_count": 13,
   "outputs": [],
   "source": [
    "stacked_hist = stocks_df.copy()"
   ],
   "metadata": {
    "collapsed": false,
    "pycharm": {
     "name": "#%%\n"
    }
   }
  },
  {
   "cell_type": "code",
   "execution_count": 12,
   "outputs": [
    {
     "data": {
      "text/plain": "           ticker   open    high     low  close    openadj    highadj  \\\ndate                                                                    \n2012-01-03      A  35.84  36.990  35.740  36.48  23.651649  24.410561   \n2012-01-04      A  36.15  36.360  35.590  36.19  23.855604  23.994184   \n2012-01-05      A  35.88  37.320  35.720  37.00  23.677891  24.628174   \n2012-01-06      A  37.09  37.555  36.805  37.40  24.476425  24.783288   \n2012-01-09      A  37.62  38.420  37.472  38.38  24.826455  25.354397   \n...           ...    ...     ...     ...    ...        ...        ...   \n2013-03-11     ZZ   2.20   2.210   2.200   2.20   2.200000   2.210000   \n2013-03-12     ZZ   2.20   2.210   2.200   2.21   2.200000   2.210000   \n2013-03-13     ZZ   2.20   2.210   2.200   2.21   2.200000   2.210000   \n2013-03-14     ZZ   2.20   2.210   2.200   2.21   2.200000   2.210000   \n2013-03-15     ZZ   2.21   2.210   2.190   2.19   2.210000   2.210000   \n\n               lowadj  closeadj     volume  \ndate                                        \n2012-01-03  23.585657    24.074  2973100.0  \n2012-01-04  23.486056    23.882  3327500.0  \n2012-01-05  23.572304    24.417  4894600.0  \n2012-01-06  24.288348    24.681  3370100.0  \n2012-01-09  24.728786    25.328  3168500.0  \n...               ...       ...        ...  \n2013-03-11   2.200000     2.200   407100.0  \n2013-03-12   2.200000     2.210   160000.0  \n2013-03-13   2.200000     2.210   308900.0  \n2013-03-14   2.200000     2.210   275000.0  \n2013-03-15   2.190000     2.190  1518200.0  \n\n[13800245 rows x 10 columns]",
      "text/html": "<div>\n<style scoped>\n    .dataframe tbody tr th:only-of-type {\n        vertical-align: middle;\n    }\n\n    .dataframe tbody tr th {\n        vertical-align: top;\n    }\n\n    .dataframe thead th {\n        text-align: right;\n    }\n</style>\n<table border=\"1\" class=\"dataframe\">\n  <thead>\n    <tr style=\"text-align: right;\">\n      <th></th>\n      <th>ticker</th>\n      <th>open</th>\n      <th>high</th>\n      <th>low</th>\n      <th>close</th>\n      <th>openadj</th>\n      <th>highadj</th>\n      <th>lowadj</th>\n      <th>closeadj</th>\n      <th>volume</th>\n    </tr>\n    <tr>\n      <th>date</th>\n      <th></th>\n      <th></th>\n      <th></th>\n      <th></th>\n      <th></th>\n      <th></th>\n      <th></th>\n      <th></th>\n      <th></th>\n      <th></th>\n    </tr>\n  </thead>\n  <tbody>\n    <tr>\n      <th>2012-01-03</th>\n      <td>A</td>\n      <td>35.84</td>\n      <td>36.990</td>\n      <td>35.740</td>\n      <td>36.48</td>\n      <td>23.651649</td>\n      <td>24.410561</td>\n      <td>23.585657</td>\n      <td>24.074</td>\n      <td>2973100.0</td>\n    </tr>\n    <tr>\n      <th>2012-01-04</th>\n      <td>A</td>\n      <td>36.15</td>\n      <td>36.360</td>\n      <td>35.590</td>\n      <td>36.19</td>\n      <td>23.855604</td>\n      <td>23.994184</td>\n      <td>23.486056</td>\n      <td>23.882</td>\n      <td>3327500.0</td>\n    </tr>\n    <tr>\n      <th>2012-01-05</th>\n      <td>A</td>\n      <td>35.88</td>\n      <td>37.320</td>\n      <td>35.720</td>\n      <td>37.00</td>\n      <td>23.677891</td>\n      <td>24.628174</td>\n      <td>23.572304</td>\n      <td>24.417</td>\n      <td>4894600.0</td>\n    </tr>\n    <tr>\n      <th>2012-01-06</th>\n      <td>A</td>\n      <td>37.09</td>\n      <td>37.555</td>\n      <td>36.805</td>\n      <td>37.40</td>\n      <td>24.476425</td>\n      <td>24.783288</td>\n      <td>24.288348</td>\n      <td>24.681</td>\n      <td>3370100.0</td>\n    </tr>\n    <tr>\n      <th>2012-01-09</th>\n      <td>A</td>\n      <td>37.62</td>\n      <td>38.420</td>\n      <td>37.472</td>\n      <td>38.38</td>\n      <td>24.826455</td>\n      <td>25.354397</td>\n      <td>24.728786</td>\n      <td>25.328</td>\n      <td>3168500.0</td>\n    </tr>\n    <tr>\n      <th>...</th>\n      <td>...</td>\n      <td>...</td>\n      <td>...</td>\n      <td>...</td>\n      <td>...</td>\n      <td>...</td>\n      <td>...</td>\n      <td>...</td>\n      <td>...</td>\n      <td>...</td>\n    </tr>\n    <tr>\n      <th>2013-03-11</th>\n      <td>ZZ</td>\n      <td>2.20</td>\n      <td>2.210</td>\n      <td>2.200</td>\n      <td>2.20</td>\n      <td>2.200000</td>\n      <td>2.210000</td>\n      <td>2.200000</td>\n      <td>2.200</td>\n      <td>407100.0</td>\n    </tr>\n    <tr>\n      <th>2013-03-12</th>\n      <td>ZZ</td>\n      <td>2.20</td>\n      <td>2.210</td>\n      <td>2.200</td>\n      <td>2.21</td>\n      <td>2.200000</td>\n      <td>2.210000</td>\n      <td>2.200000</td>\n      <td>2.210</td>\n      <td>160000.0</td>\n    </tr>\n    <tr>\n      <th>2013-03-13</th>\n      <td>ZZ</td>\n      <td>2.20</td>\n      <td>2.210</td>\n      <td>2.200</td>\n      <td>2.21</td>\n      <td>2.200000</td>\n      <td>2.210000</td>\n      <td>2.200000</td>\n      <td>2.210</td>\n      <td>308900.0</td>\n    </tr>\n    <tr>\n      <th>2013-03-14</th>\n      <td>ZZ</td>\n      <td>2.20</td>\n      <td>2.210</td>\n      <td>2.200</td>\n      <td>2.21</td>\n      <td>2.200000</td>\n      <td>2.210000</td>\n      <td>2.200000</td>\n      <td>2.210</td>\n      <td>275000.0</td>\n    </tr>\n    <tr>\n      <th>2013-03-15</th>\n      <td>ZZ</td>\n      <td>2.21</td>\n      <td>2.210</td>\n      <td>2.190</td>\n      <td>2.19</td>\n      <td>2.210000</td>\n      <td>2.210000</td>\n      <td>2.190000</td>\n      <td>2.190</td>\n      <td>1518200.0</td>\n    </tr>\n  </tbody>\n</table>\n<p>13800245 rows × 10 columns</p>\n</div>"
     },
     "execution_count": 12,
     "metadata": {},
     "output_type": "execute_result"
    }
   ],
   "source": [
    "n_delta = 2\n",
    "stacked_hist['log_volume'] = np.log(stacked_hist.volume)\n",
    "stacked_hist[f'volume_delta{n_delta}'] = stacked_hist.groupby('ticker').log_volume.apply()"
   ],
   "metadata": {
    "collapsed": false,
    "pycharm": {
     "name": "#%%\n"
    }
   }
  },
  {
   "cell_type": "code",
   "execution_count": 49,
   "outputs": [],
   "source": [
    "\n",
    "stocks_hist['ret'] = stocks_hist.groupby('ticker').closeadj.apply(ic.calc_ret)"
   ],
   "metadata": {
    "collapsed": false,
    "pycharm": {
     "name": "#%%\n"
    }
   }
  },
  {
   "cell_type": "code",
   "execution_count": 50,
   "outputs": [],
   "source": [
    "stocks_hist['retvol20'] = stocks_hist.groupby('ticker').closeadj.apply(ic.calc_roll_std, n = 20)"
   ],
   "metadata": {
    "collapsed": false,
    "pycharm": {
     "name": "#%%\n"
    }
   }
  },
  {
   "cell_type": "code",
   "execution_count": 51,
   "outputs": [],
   "source": [
    "stocks_hist['closeadj_sqr'] = stocks_hist.closeadj ** 2\n",
    "stocks_hist['closeadj_argmax'] = stocks_hist.groupby('ticker').closeadj_sqr.rolling(5).apply(np.argmax, engine='cython', raw=True).values\n",
    "\n",
    "stocks_hist['retvol20_sqr'] = stocks_hist.retvol20 ** 2\n",
    "stocks_hist['retvol20_argmax'] = stocks_hist.groupby('ticker').retvol20_sqr.rolling(5).apply(np.argmax, engine='cython', raw=True).values"
   ],
   "metadata": {
    "collapsed": false,
    "pycharm": {
     "name": "#%%\n"
    }
   }
  },
  {
   "cell_type": "code",
   "execution_count": 52,
   "outputs": [],
   "source": [
    "stocks_hist['tsargmax_withcond'] = np.where(stocks_hist.ret < 0, stocks_hist.retvol20_argmax, stocks_hist.closeadj_argmax) + 1"
   ],
   "metadata": {
    "collapsed": false,
    "pycharm": {
     "name": "#%%\n"
    }
   }
  },
  {
   "cell_type": "code",
   "execution_count": 53,
   "outputs": [],
   "source": [
    "stocks_hist.loc[stocks_hist.closeadj_argmax.isnull() | stocks_hist.retvol20_argmax.isnull(), 'tsargmax_withcond'] = np.nan"
   ],
   "metadata": {
    "collapsed": false,
    "pycharm": {
     "name": "#%%\n"
    }
   }
  },
  {
   "cell_type": "code",
   "execution_count": 55,
   "outputs": [],
   "source": [
    "stocks_hist['alpha'] = stocks_hist.tsargmax_withcond / 5"
   ],
   "metadata": {
    "collapsed": false,
    "pycharm": {
     "name": "#%%\n"
    }
   }
  },
  {
   "cell_type": "code",
   "execution_count": 44,
   "outputs": [],
   "source": [
    "# stocks_hist['alpha'] = stocks_hist.groupby('date').tsargmax_withcond.rank(pct=True).values"
   ],
   "metadata": {
    "collapsed": false,
    "pycharm": {
     "name": "#%%\n"
    }
   }
  },
  {
   "cell_type": "code",
   "execution_count": 56,
   "outputs": [
    {
     "data": {
      "text/plain": "           ticker   open    high     low  close    openadj    highadj  \\\ndate                                                                    \n2012-01-03      A  35.84  36.990  35.740  36.48  23.651649  24.410561   \n2012-01-04      A  36.15  36.360  35.590  36.19  23.855604  23.994184   \n2012-01-05      A  35.88  37.320  35.720  37.00  23.677891  24.628174   \n2012-01-06      A  37.09  37.555  36.805  37.40  24.476425  24.783288   \n2012-01-09      A  37.62  38.420  37.472  38.38  24.826455  25.354397   \n...           ...    ...     ...     ...    ...        ...        ...   \n2013-03-11     ZZ   2.20   2.210   2.200   2.20   2.200000   2.210000   \n2013-03-12     ZZ   2.20   2.210   2.200   2.21   2.200000   2.210000   \n2013-03-13     ZZ   2.20   2.210   2.200   2.21   2.200000   2.210000   \n2013-03-14     ZZ   2.20   2.210   2.200   2.21   2.200000   2.210000   \n2013-03-15     ZZ   2.21   2.210   2.190   2.19   2.210000   2.210000   \n\n               lowadj  closeadj     volume       ret  retvol20  closeadj_sqr  \\\ndate                                                                           \n2012-01-03  23.585657    24.074  2973100.0       NaN       NaN    579.557476   \n2012-01-04  23.486056    23.882  3327500.0 -0.007975       NaN    570.349924   \n2012-01-05  23.572304    24.417  4894600.0  0.022402       NaN    596.189889   \n2012-01-06  24.288348    24.681  3370100.0  0.010812       NaN    609.151761   \n2012-01-09  24.728786    25.328  3168500.0  0.026214       NaN    641.507584   \n...               ...       ...        ...       ...       ...           ...   \n2013-03-11   2.200000     2.200   407100.0  0.000000  0.006292      4.840000   \n2013-03-12   2.200000     2.210   160000.0  0.004545  0.006356      4.884100   \n2013-03-13   2.200000     2.210   308900.0  0.000000  0.006291      4.884100   \n2013-03-14   2.200000     2.210   275000.0  0.000000  0.005875      4.884100   \n2013-03-15   2.190000     2.190  1518200.0 -0.009050  0.006284      4.796100   \n\n            closeadj_argmax  retvol20_sqr  retvol20_argmax  tsargmax_withcond  \\\ndate                                                                            \n2012-01-03              NaN           NaN              NaN                NaN   \n2012-01-04              NaN           NaN              NaN                NaN   \n2012-01-05              NaN           NaN              NaN                NaN   \n2012-01-06              NaN           NaN              NaN                NaN   \n2012-01-09              4.0           NaN              NaN                NaN   \n...                     ...           ...              ...                ...   \n2013-03-11              3.0      0.000040              3.0                4.0   \n2013-03-12              4.0      0.000040              2.0                5.0   \n2013-03-13              3.0      0.000040              1.0                4.0   \n2013-03-14              2.0      0.000035              0.0                3.0   \n2013-03-15              1.0      0.000039              1.0                2.0   \n\n            alpha  \ndate               \n2012-01-03    NaN  \n2012-01-04    NaN  \n2012-01-05    NaN  \n2012-01-06    NaN  \n2012-01-09    NaN  \n...           ...  \n2013-03-11    0.8  \n2013-03-12    1.0  \n2013-03-13    0.8  \n2013-03-14    0.6  \n2013-03-15    0.4  \n\n[13800245 rows x 18 columns]",
      "text/html": "<div>\n<style scoped>\n    .dataframe tbody tr th:only-of-type {\n        vertical-align: middle;\n    }\n\n    .dataframe tbody tr th {\n        vertical-align: top;\n    }\n\n    .dataframe thead th {\n        text-align: right;\n    }\n</style>\n<table border=\"1\" class=\"dataframe\">\n  <thead>\n    <tr style=\"text-align: right;\">\n      <th></th>\n      <th>ticker</th>\n      <th>open</th>\n      <th>high</th>\n      <th>low</th>\n      <th>close</th>\n      <th>openadj</th>\n      <th>highadj</th>\n      <th>lowadj</th>\n      <th>closeadj</th>\n      <th>volume</th>\n      <th>ret</th>\n      <th>retvol20</th>\n      <th>closeadj_sqr</th>\n      <th>closeadj_argmax</th>\n      <th>retvol20_sqr</th>\n      <th>retvol20_argmax</th>\n      <th>tsargmax_withcond</th>\n      <th>alpha</th>\n    </tr>\n    <tr>\n      <th>date</th>\n      <th></th>\n      <th></th>\n      <th></th>\n      <th></th>\n      <th></th>\n      <th></th>\n      <th></th>\n      <th></th>\n      <th></th>\n      <th></th>\n      <th></th>\n      <th></th>\n      <th></th>\n      <th></th>\n      <th></th>\n      <th></th>\n      <th></th>\n      <th></th>\n    </tr>\n  </thead>\n  <tbody>\n    <tr>\n      <th>2012-01-03</th>\n      <td>A</td>\n      <td>35.84</td>\n      <td>36.990</td>\n      <td>35.740</td>\n      <td>36.48</td>\n      <td>23.651649</td>\n      <td>24.410561</td>\n      <td>23.585657</td>\n      <td>24.074</td>\n      <td>2973100.0</td>\n      <td>NaN</td>\n      <td>NaN</td>\n      <td>579.557476</td>\n      <td>NaN</td>\n      <td>NaN</td>\n      <td>NaN</td>\n      <td>NaN</td>\n      <td>NaN</td>\n    </tr>\n    <tr>\n      <th>2012-01-04</th>\n      <td>A</td>\n      <td>36.15</td>\n      <td>36.360</td>\n      <td>35.590</td>\n      <td>36.19</td>\n      <td>23.855604</td>\n      <td>23.994184</td>\n      <td>23.486056</td>\n      <td>23.882</td>\n      <td>3327500.0</td>\n      <td>-0.007975</td>\n      <td>NaN</td>\n      <td>570.349924</td>\n      <td>NaN</td>\n      <td>NaN</td>\n      <td>NaN</td>\n      <td>NaN</td>\n      <td>NaN</td>\n    </tr>\n    <tr>\n      <th>2012-01-05</th>\n      <td>A</td>\n      <td>35.88</td>\n      <td>37.320</td>\n      <td>35.720</td>\n      <td>37.00</td>\n      <td>23.677891</td>\n      <td>24.628174</td>\n      <td>23.572304</td>\n      <td>24.417</td>\n      <td>4894600.0</td>\n      <td>0.022402</td>\n      <td>NaN</td>\n      <td>596.189889</td>\n      <td>NaN</td>\n      <td>NaN</td>\n      <td>NaN</td>\n      <td>NaN</td>\n      <td>NaN</td>\n    </tr>\n    <tr>\n      <th>2012-01-06</th>\n      <td>A</td>\n      <td>37.09</td>\n      <td>37.555</td>\n      <td>36.805</td>\n      <td>37.40</td>\n      <td>24.476425</td>\n      <td>24.783288</td>\n      <td>24.288348</td>\n      <td>24.681</td>\n      <td>3370100.0</td>\n      <td>0.010812</td>\n      <td>NaN</td>\n      <td>609.151761</td>\n      <td>NaN</td>\n      <td>NaN</td>\n      <td>NaN</td>\n      <td>NaN</td>\n      <td>NaN</td>\n    </tr>\n    <tr>\n      <th>2012-01-09</th>\n      <td>A</td>\n      <td>37.62</td>\n      <td>38.420</td>\n      <td>37.472</td>\n      <td>38.38</td>\n      <td>24.826455</td>\n      <td>25.354397</td>\n      <td>24.728786</td>\n      <td>25.328</td>\n      <td>3168500.0</td>\n      <td>0.026214</td>\n      <td>NaN</td>\n      <td>641.507584</td>\n      <td>4.0</td>\n      <td>NaN</td>\n      <td>NaN</td>\n      <td>NaN</td>\n      <td>NaN</td>\n    </tr>\n    <tr>\n      <th>...</th>\n      <td>...</td>\n      <td>...</td>\n      <td>...</td>\n      <td>...</td>\n      <td>...</td>\n      <td>...</td>\n      <td>...</td>\n      <td>...</td>\n      <td>...</td>\n      <td>...</td>\n      <td>...</td>\n      <td>...</td>\n      <td>...</td>\n      <td>...</td>\n      <td>...</td>\n      <td>...</td>\n      <td>...</td>\n      <td>...</td>\n    </tr>\n    <tr>\n      <th>2013-03-11</th>\n      <td>ZZ</td>\n      <td>2.20</td>\n      <td>2.210</td>\n      <td>2.200</td>\n      <td>2.20</td>\n      <td>2.200000</td>\n      <td>2.210000</td>\n      <td>2.200000</td>\n      <td>2.200</td>\n      <td>407100.0</td>\n      <td>0.000000</td>\n      <td>0.006292</td>\n      <td>4.840000</td>\n      <td>3.0</td>\n      <td>0.000040</td>\n      <td>3.0</td>\n      <td>4.0</td>\n      <td>0.8</td>\n    </tr>\n    <tr>\n      <th>2013-03-12</th>\n      <td>ZZ</td>\n      <td>2.20</td>\n      <td>2.210</td>\n      <td>2.200</td>\n      <td>2.21</td>\n      <td>2.200000</td>\n      <td>2.210000</td>\n      <td>2.200000</td>\n      <td>2.210</td>\n      <td>160000.0</td>\n      <td>0.004545</td>\n      <td>0.006356</td>\n      <td>4.884100</td>\n      <td>4.0</td>\n      <td>0.000040</td>\n      <td>2.0</td>\n      <td>5.0</td>\n      <td>1.0</td>\n    </tr>\n    <tr>\n      <th>2013-03-13</th>\n      <td>ZZ</td>\n      <td>2.20</td>\n      <td>2.210</td>\n      <td>2.200</td>\n      <td>2.21</td>\n      <td>2.200000</td>\n      <td>2.210000</td>\n      <td>2.200000</td>\n      <td>2.210</td>\n      <td>308900.0</td>\n      <td>0.000000</td>\n      <td>0.006291</td>\n      <td>4.884100</td>\n      <td>3.0</td>\n      <td>0.000040</td>\n      <td>1.0</td>\n      <td>4.0</td>\n      <td>0.8</td>\n    </tr>\n    <tr>\n      <th>2013-03-14</th>\n      <td>ZZ</td>\n      <td>2.20</td>\n      <td>2.210</td>\n      <td>2.200</td>\n      <td>2.21</td>\n      <td>2.200000</td>\n      <td>2.210000</td>\n      <td>2.200000</td>\n      <td>2.210</td>\n      <td>275000.0</td>\n      <td>0.000000</td>\n      <td>0.005875</td>\n      <td>4.884100</td>\n      <td>2.0</td>\n      <td>0.000035</td>\n      <td>0.0</td>\n      <td>3.0</td>\n      <td>0.6</td>\n    </tr>\n    <tr>\n      <th>2013-03-15</th>\n      <td>ZZ</td>\n      <td>2.21</td>\n      <td>2.210</td>\n      <td>2.190</td>\n      <td>2.19</td>\n      <td>2.210000</td>\n      <td>2.210000</td>\n      <td>2.190000</td>\n      <td>2.190</td>\n      <td>1518200.0</td>\n      <td>-0.009050</td>\n      <td>0.006284</td>\n      <td>4.796100</td>\n      <td>1.0</td>\n      <td>0.000039</td>\n      <td>1.0</td>\n      <td>2.0</td>\n      <td>0.4</td>\n    </tr>\n  </tbody>\n</table>\n<p>13800245 rows × 18 columns</p>\n</div>"
     },
     "execution_count": 56,
     "metadata": {},
     "output_type": "execute_result"
    }
   ],
   "source": [
    "stocks_hist"
   ],
   "metadata": {
    "collapsed": false,
    "pycharm": {
     "name": "#%%\n"
    }
   }
  },
  {
   "cell_type": "code",
   "execution_count": 27,
   "outputs": [
    {
     "name": "stdout",
     "output_type": "stream",
     "text": [
      "Total time: 18.187129259109497 sec\n"
     ]
    }
   ],
   "source": [
    "s_time_chunk = time.time()\n",
    "stocks_hist['closeadj_argmax'] = stocks_hist.groupby('ticker').closeadj.rolling(5).apply(np.argmax, engine='cython', raw=True).values\n",
    "e_time_chunk = time.time()\n",
    "\n",
    "print(f\"Total time: {e_time_chunk - s_time_chunk} sec\")"
   ],
   "metadata": {
    "collapsed": false,
    "pycharm": {
     "name": "#%%\n"
    }
   }
  },
  {
   "cell_type": "code",
   "execution_count": 28,
   "outputs": [
    {
     "data": {
      "text/plain": "           ticker   open    high     low  close    openadj    highadj  \\\ndate                                                                    \n2012-01-03      A  35.84  36.990  35.740  36.48  23.651649  24.410561   \n2012-01-04      A  36.15  36.360  35.590  36.19  23.855604  23.994184   \n2012-01-05      A  35.88  37.320  35.720  37.00  23.677891  24.628174   \n2012-01-06      A  37.09  37.555  36.805  37.40  24.476425  24.783288   \n2012-01-09      A  37.62  38.420  37.472  38.38  24.826455  25.354397   \n...           ...    ...     ...     ...    ...        ...        ...   \n2013-03-11     ZZ   2.20   2.210   2.200   2.20   2.200000   2.210000   \n2013-03-12     ZZ   2.20   2.210   2.200   2.21   2.200000   2.210000   \n2013-03-13     ZZ   2.20   2.210   2.200   2.21   2.200000   2.210000   \n2013-03-14     ZZ   2.20   2.210   2.200   2.21   2.200000   2.210000   \n2013-03-15     ZZ   2.21   2.210   2.190   2.19   2.210000   2.210000   \n\n               lowadj  closeadj     volume       ret  retvol20       op1  op2  \ndate                                                                           \n2012-01-03  23.585657    24.074  2973100.0       NaN       NaN       NaN  NaN  \n2012-01-04  23.486056    23.882  3327500.0 -0.007975       NaN       NaN  NaN  \n2012-01-05  23.572304    24.417  4894600.0  0.022402       NaN       NaN  NaN  \n2012-01-06  24.288348    24.681  3370100.0  0.010812       NaN       NaN  NaN  \n2012-01-09  24.728786    25.328  3168500.0  0.026214       NaN       NaN  NaN  \n...               ...       ...        ...       ...       ...       ...  ...  \n2013-03-11   2.200000     2.200   407100.0  0.000000  0.006292  4.840000  3.0  \n2013-03-12   2.200000     2.210   160000.0  0.004545  0.006356  4.884100  4.0  \n2013-03-13   2.200000     2.210   308900.0  0.000000  0.006291  4.884100  3.0  \n2013-03-14   2.200000     2.210   275000.0  0.000000  0.005875  4.884100  2.0  \n2013-03-15   2.190000     2.190  1518200.0 -0.009050  0.006284  0.000039  1.0  \n\n[13800245 rows x 14 columns]",
      "text/html": "<div>\n<style scoped>\n    .dataframe tbody tr th:only-of-type {\n        vertical-align: middle;\n    }\n\n    .dataframe tbody tr th {\n        vertical-align: top;\n    }\n\n    .dataframe thead th {\n        text-align: right;\n    }\n</style>\n<table border=\"1\" class=\"dataframe\">\n  <thead>\n    <tr style=\"text-align: right;\">\n      <th></th>\n      <th>ticker</th>\n      <th>open</th>\n      <th>high</th>\n      <th>low</th>\n      <th>close</th>\n      <th>openadj</th>\n      <th>highadj</th>\n      <th>lowadj</th>\n      <th>closeadj</th>\n      <th>volume</th>\n      <th>ret</th>\n      <th>retvol20</th>\n      <th>op1</th>\n      <th>op2</th>\n    </tr>\n    <tr>\n      <th>date</th>\n      <th></th>\n      <th></th>\n      <th></th>\n      <th></th>\n      <th></th>\n      <th></th>\n      <th></th>\n      <th></th>\n      <th></th>\n      <th></th>\n      <th></th>\n      <th></th>\n      <th></th>\n      <th></th>\n    </tr>\n  </thead>\n  <tbody>\n    <tr>\n      <th>2012-01-03</th>\n      <td>A</td>\n      <td>35.84</td>\n      <td>36.990</td>\n      <td>35.740</td>\n      <td>36.48</td>\n      <td>23.651649</td>\n      <td>24.410561</td>\n      <td>23.585657</td>\n      <td>24.074</td>\n      <td>2973100.0</td>\n      <td>NaN</td>\n      <td>NaN</td>\n      <td>NaN</td>\n      <td>NaN</td>\n    </tr>\n    <tr>\n      <th>2012-01-04</th>\n      <td>A</td>\n      <td>36.15</td>\n      <td>36.360</td>\n      <td>35.590</td>\n      <td>36.19</td>\n      <td>23.855604</td>\n      <td>23.994184</td>\n      <td>23.486056</td>\n      <td>23.882</td>\n      <td>3327500.0</td>\n      <td>-0.007975</td>\n      <td>NaN</td>\n      <td>NaN</td>\n      <td>NaN</td>\n    </tr>\n    <tr>\n      <th>2012-01-05</th>\n      <td>A</td>\n      <td>35.88</td>\n      <td>37.320</td>\n      <td>35.720</td>\n      <td>37.00</td>\n      <td>23.677891</td>\n      <td>24.628174</td>\n      <td>23.572304</td>\n      <td>24.417</td>\n      <td>4894600.0</td>\n      <td>0.022402</td>\n      <td>NaN</td>\n      <td>NaN</td>\n      <td>NaN</td>\n    </tr>\n    <tr>\n      <th>2012-01-06</th>\n      <td>A</td>\n      <td>37.09</td>\n      <td>37.555</td>\n      <td>36.805</td>\n      <td>37.40</td>\n      <td>24.476425</td>\n      <td>24.783288</td>\n      <td>24.288348</td>\n      <td>24.681</td>\n      <td>3370100.0</td>\n      <td>0.010812</td>\n      <td>NaN</td>\n      <td>NaN</td>\n      <td>NaN</td>\n    </tr>\n    <tr>\n      <th>2012-01-09</th>\n      <td>A</td>\n      <td>37.62</td>\n      <td>38.420</td>\n      <td>37.472</td>\n      <td>38.38</td>\n      <td>24.826455</td>\n      <td>25.354397</td>\n      <td>24.728786</td>\n      <td>25.328</td>\n      <td>3168500.0</td>\n      <td>0.026214</td>\n      <td>NaN</td>\n      <td>NaN</td>\n      <td>NaN</td>\n    </tr>\n    <tr>\n      <th>...</th>\n      <td>...</td>\n      <td>...</td>\n      <td>...</td>\n      <td>...</td>\n      <td>...</td>\n      <td>...</td>\n      <td>...</td>\n      <td>...</td>\n      <td>...</td>\n      <td>...</td>\n      <td>...</td>\n      <td>...</td>\n      <td>...</td>\n      <td>...</td>\n    </tr>\n    <tr>\n      <th>2013-03-11</th>\n      <td>ZZ</td>\n      <td>2.20</td>\n      <td>2.210</td>\n      <td>2.200</td>\n      <td>2.20</td>\n      <td>2.200000</td>\n      <td>2.210000</td>\n      <td>2.200000</td>\n      <td>2.200</td>\n      <td>407100.0</td>\n      <td>0.000000</td>\n      <td>0.006292</td>\n      <td>4.840000</td>\n      <td>3.0</td>\n    </tr>\n    <tr>\n      <th>2013-03-12</th>\n      <td>ZZ</td>\n      <td>2.20</td>\n      <td>2.210</td>\n      <td>2.200</td>\n      <td>2.21</td>\n      <td>2.200000</td>\n      <td>2.210000</td>\n      <td>2.200000</td>\n      <td>2.210</td>\n      <td>160000.0</td>\n      <td>0.004545</td>\n      <td>0.006356</td>\n      <td>4.884100</td>\n      <td>4.0</td>\n    </tr>\n    <tr>\n      <th>2013-03-13</th>\n      <td>ZZ</td>\n      <td>2.20</td>\n      <td>2.210</td>\n      <td>2.200</td>\n      <td>2.21</td>\n      <td>2.200000</td>\n      <td>2.210000</td>\n      <td>2.200000</td>\n      <td>2.210</td>\n      <td>308900.0</td>\n      <td>0.000000</td>\n      <td>0.006291</td>\n      <td>4.884100</td>\n      <td>3.0</td>\n    </tr>\n    <tr>\n      <th>2013-03-14</th>\n      <td>ZZ</td>\n      <td>2.20</td>\n      <td>2.210</td>\n      <td>2.200</td>\n      <td>2.21</td>\n      <td>2.200000</td>\n      <td>2.210000</td>\n      <td>2.200000</td>\n      <td>2.210</td>\n      <td>275000.0</td>\n      <td>0.000000</td>\n      <td>0.005875</td>\n      <td>4.884100</td>\n      <td>2.0</td>\n    </tr>\n    <tr>\n      <th>2013-03-15</th>\n      <td>ZZ</td>\n      <td>2.21</td>\n      <td>2.210</td>\n      <td>2.190</td>\n      <td>2.19</td>\n      <td>2.210000</td>\n      <td>2.210000</td>\n      <td>2.190000</td>\n      <td>2.190</td>\n      <td>1518200.0</td>\n      <td>-0.009050</td>\n      <td>0.006284</td>\n      <td>0.000039</td>\n      <td>1.0</td>\n    </tr>\n  </tbody>\n</table>\n<p>13800245 rows × 14 columns</p>\n</div>"
     },
     "execution_count": 28,
     "metadata": {},
     "output_type": "execute_result"
    }
   ],
   "source": [
    "stocks_hist"
   ],
   "metadata": {
    "collapsed": false,
    "pycharm": {
     "name": "#%%\n"
    }
   }
  },
  {
   "cell_type": "code",
   "execution_count": null,
   "outputs": [],
   "source": [],
   "metadata": {
    "collapsed": false,
    "pycharm": {
     "name": "#%%\n"
    }
   }
  }
 ],
 "metadata": {
  "kernelspec": {
   "display_name": "Python 3",
   "language": "python",
   "name": "python3"
  },
  "language_info": {
   "codemirror_mode": {
    "name": "ipython",
    "version": 2
   },
   "file_extension": ".py",
   "mimetype": "text/x-python",
   "name": "python",
   "nbconvert_exporter": "python",
   "pygments_lexer": "ipython2",
   "version": "2.7.6"
  }
 },
 "nbformat": 4,
 "nbformat_minor": 0
}