{
 "cells": [
  {
   "cell_type": "code",
   "execution_count": 2,
   "metadata": {
    "collapsed": true
   },
   "outputs": [],
   "source": [
    "import pandas as pd\n",
    "from pandas import DataFrame\n",
    "import numpy as np\n",
    "from typing import List, Callable, Dict\n",
    "from realgam.quantlib import general_utils as gu\n",
    "from realgam.quantlib.factor_lib.technicals import indicators_cal as ic\n",
    "from realgam.quantlib.factor_lib.technicals import alpha_101 as alpha101\n",
    "import datetime\n",
    "import os\n",
    "import time\n",
    "PROJECT_PATH = os.getenv('QuantSystemMVP')\n",
    "DATA_PATH = f'{PROJECT_PATH}/Data/stock_hist.obj'\n"
   ]
  },
  {
   "cell_type": "code",
   "execution_count": 3,
   "outputs": [],
   "source": [
    "class CandlesSeries(pd.Series):\n",
    "    @property\n",
    "    def _constructor(self):\n",
    "        return CandlesSeries\n",
    "\n",
    "    @property\n",
    "    def _constructor_expanddim(self):\n",
    "        return CandlesDataFrame\n",
    "\n",
    "class CandlesDataFrame(DataFrame):\n",
    "\n",
    "    # def __init__(self, candles_df):\n",
    "    #     candles_df = candles_df\n",
    "    @property\n",
    "    def _constructor(self):\n",
    "        return CandlesDataFrame\n",
    "\n",
    "    @property\n",
    "    def _constructor_sliced(self):\n",
    "        return CandlesSeries\n",
    "\n",
    "    def cross_rank(self, column_to_rank: str, **kwargs) -> pd.Series:\n",
    "\n",
    "        return self.groupby('date')[column_to_rank].rank(**kwargs)\n",
    "\n",
    "    def cross_pctrank(self, column_to_rank: str, **kwargs) -> pd.Series:\n",
    "\n",
    "        return self.groupby('date')[column_to_rank].rank(pct=True, **kwargs)\n",
    "\n",
    "    def engineer(self, func: Callable, engineer_col: str, groupby_cols = 'ticker', **kwargs) -> pd.Series:\n",
    "\n",
    "        return self.groupby(groupby_cols)[engineer_col].apply(func, **kwargs)\n",
    "\n",
    "\n",
    "    def s_engineer(self, func: Callable, engineer_col: str, **kwargs) -> pd.Series:\n",
    "\n",
    "        return self[engineer_col].apply(func, **kwargs)\n",
    "\n",
    "    def calc_alpha(self, alpha_func: Callable, args=(), **kwargs) -> pd.Series:\n",
    "\n",
    "        return alpha_func(self, **kwargs)"
   ],
   "metadata": {
    "collapsed": false,
    "pycharm": {
     "name": "#%%\n"
    }
   }
  },
  {
   "cell_type": "code",
   "execution_count": 37,
   "outputs": [],
   "source": [
    "stocks_df, stocks_extended_df, available_tickers = gu.load_file(DATA_PATH)"
   ],
   "metadata": {
    "collapsed": false,
    "pycharm": {
     "name": "#%%\n"
    }
   }
  },
  {
   "cell_type": "code",
   "execution_count": null,
   "outputs": [],
   "source": [
    "(-1 * correlation(rank(delta(log(volume), 2)), rank(((close - open) / open)), 6))"
   ],
   "metadata": {
    "collapsed": false,
    "pycharm": {
     "name": "#%%\n"
    }
   }
  },
  {
   "cell_type": "code",
   "execution_count": 43,
   "outputs": [],
   "source": [
    "stacked_hist = stocks_df.copy()"
   ],
   "metadata": {
    "collapsed": false,
    "pycharm": {
     "name": "#%%\n"
    }
   }
  },
  {
   "cell_type": "code",
   "execution_count": 44,
   "outputs": [],
   "source": [
    "stacked_hist = CandlesDataFrame(stacked_hist)"
   ],
   "metadata": {
    "collapsed": false,
    "pycharm": {
     "name": "#%%\n"
    }
   }
  },
  {
   "cell_type": "code",
   "execution_count": 42,
   "outputs": [
    {
     "name": "stdout",
     "output_type": "stream",
     "text": [
      "Total time: 38.05243492126465 sec\n"
     ]
    }
   ],
   "source": [
    "s_time_chunk = time.time()\n",
    "stacked_hist['alpha1'] = stacked_hist.calc_alpha(alpha101.alpha_1, n_ts_arg_max=5, n_std=22)\n",
    "e_time_chunk = time.time()\n",
    "\n",
    "print(f\"Total time: {e_time_chunk - s_time_chunk} sec\")"
   ],
   "metadata": {
    "collapsed": false,
    "pycharm": {
     "name": "#%%\n"
    }
   }
  },
  {
   "cell_type": "code",
   "execution_count": null,
   "outputs": [],
   "source": [
    "n_delta = 2\n",
    "\n",
    "# stacked_hist[f'volume_delta{n_delta}'] = stacked_hist.groupby('ticker').volume.apply(ic.delta_volume, n=n_delta)\n",
    "# stacked_hist['ret_intraday'] = stacked_hist.closeadj / stacked_hist.openadj - 1\n",
    "\n",
    "stacked_hist[f'volume_delta{n_delta}'] = stacked_hist.engineer(ic.delta_volume, 'volume', n=n_delta)\n",
    "stacked_hist['ret_intraday'] = ic.pct_change(stacked_hist.closeadj, stacked_hist.openadj)\n",
    "\n",
    "stacked_hist['rank_volumedelta'] = stacked_hist.cross_pctrank(f'volume_delta{n_delta}')\n",
    "stacked_hist['rank_ret_intraday'] = stacked_hist.cross_pctrank('ret_intraday')\n",
    "\n",
    "n_roll = 6\n",
    "s_time_chunk = time.time()\n",
    "stacked_hist['corr_ranks'] = stacked_hist.groupby('ticker')['rank_volumedelta'].rolling(n_roll).corr(stacked_hist['rank_ret_intraday']).values\n",
    "e_time_chunk = time.time()\n",
    "print(f\"Total time: {e_time_chunk - s_time_chunk} sec\")\n",
    "stacked_hist['alpha'] = -1 * stacked_hist.corr_ranks\n"
   ],
   "metadata": {
    "collapsed": false,
    "pycharm": {
     "name": "#%%\n"
    }
   }
  },
  {
   "cell_type": "code",
   "execution_count": null,
   "outputs": [],
   "source": [
    "stacked_hist"
   ],
   "metadata": {
    "collapsed": false,
    "pycharm": {
     "name": "#%%\n"
    }
   }
  },
  {
   "cell_type": "code",
   "execution_count": 7,
   "outputs": [],
   "source": [
    "A = stacked_hist[stacked_hist.ticker == 'A']"
   ],
   "metadata": {
    "collapsed": false,
    "pycharm": {
     "name": "#%%\n"
    }
   }
  },
  {
   "cell_type": "code",
   "execution_count": 9,
   "outputs": [
    {
     "data": {
      "text/plain": "           ticker    open     high      low   close     openadj     highadj  \\\ndate                                                                          \n2012-01-03      A   35.84   36.990   35.740   36.48   23.651649   24.410561   \n2012-01-04      A   36.15   36.360   35.590   36.19   23.855604   23.994184   \n2012-01-05      A   35.88   37.320   35.720   37.00   23.677891   24.628174   \n2012-01-06      A   37.09   37.555   36.805   37.40   24.476425   24.783288   \n2012-01-09      A   37.62   38.420   37.472   38.38   24.826455   25.354397   \n...           ...     ...      ...      ...     ...         ...         ...   \n2022-03-07      A  133.55  133.550  128.430  130.34  133.550000  133.550000   \n2022-03-08      A  128.64  132.500  127.540  129.32  128.640000  132.500000   \n2022-03-09      A  132.85  133.940  131.190  133.26  132.850000  133.940000   \n2022-03-10      A  131.40  134.520  131.290  134.33  131.400000  134.520000   \n2022-03-11      A  135.43  136.440  130.160  130.31  135.430000  136.440000   \n\n                lowadj  closeadj     volume  volume_delta2  ret_intraday  \\\ndate                                                                       \n2012-01-03   23.585657    24.074  2973100.0            NaN      0.017857   \n2012-01-04   23.486056    23.882  3327500.0            NaN      0.001107   \n2012-01-05   23.572304    24.417  4894600.0       0.498527      0.031215   \n2012-01-06   24.288348    24.681  3370100.0       0.012721      0.008358   \n2012-01-09   24.728786    25.328  3168500.0      -0.434874      0.020202   \n...                ...       ...        ...            ...           ...   \n2022-03-07  128.430000   130.340  2376454.0      -0.413138     -0.024036   \n2022-03-08  127.540000   129.320  2375482.0      -0.482485      0.005286   \n2022-03-09  131.190000   133.260  1805537.0      -0.274751      0.003086   \n2022-03-10  131.290000   134.330  1933127.0      -0.206061      0.022298   \n2022-03-11  130.160000   130.310  1815743.0       0.005637     -0.037806   \n\n            rank_volumedelta  rank_ret_intraday  \ndate                                             \n2012-01-03               NaN           0.811883  \n2012-01-04               NaN           0.573025  \n2012-01-05          0.822699           0.874418  \n2012-01-06          0.488345           0.778275  \n2012-01-09          0.264791           0.863145  \n...                      ...                ...  \n2022-03-07          0.159010           0.372188  \n2022-03-08          0.152424           0.645100  \n2022-03-09          0.445968           0.512537  \n2022-03-10          0.612713           0.799221  \n2022-03-11          0.608374           0.263004  \n\n[2565 rows x 14 columns]",
      "text/html": "<div>\n<style scoped>\n    .dataframe tbody tr th:only-of-type {\n        vertical-align: middle;\n    }\n\n    .dataframe tbody tr th {\n        vertical-align: top;\n    }\n\n    .dataframe thead th {\n        text-align: right;\n    }\n</style>\n<table border=\"1\" class=\"dataframe\">\n  <thead>\n    <tr style=\"text-align: right;\">\n      <th></th>\n      <th>ticker</th>\n      <th>open</th>\n      <th>high</th>\n      <th>low</th>\n      <th>close</th>\n      <th>openadj</th>\n      <th>highadj</th>\n      <th>lowadj</th>\n      <th>closeadj</th>\n      <th>volume</th>\n      <th>volume_delta2</th>\n      <th>ret_intraday</th>\n      <th>rank_volumedelta</th>\n      <th>rank_ret_intraday</th>\n    </tr>\n    <tr>\n      <th>date</th>\n      <th></th>\n      <th></th>\n      <th></th>\n      <th></th>\n      <th></th>\n      <th></th>\n      <th></th>\n      <th></th>\n      <th></th>\n      <th></th>\n      <th></th>\n      <th></th>\n      <th></th>\n      <th></th>\n    </tr>\n  </thead>\n  <tbody>\n    <tr>\n      <th>2012-01-03</th>\n      <td>A</td>\n      <td>35.84</td>\n      <td>36.990</td>\n      <td>35.740</td>\n      <td>36.48</td>\n      <td>23.651649</td>\n      <td>24.410561</td>\n      <td>23.585657</td>\n      <td>24.074</td>\n      <td>2973100.0</td>\n      <td>NaN</td>\n      <td>0.017857</td>\n      <td>NaN</td>\n      <td>0.811883</td>\n    </tr>\n    <tr>\n      <th>2012-01-04</th>\n      <td>A</td>\n      <td>36.15</td>\n      <td>36.360</td>\n      <td>35.590</td>\n      <td>36.19</td>\n      <td>23.855604</td>\n      <td>23.994184</td>\n      <td>23.486056</td>\n      <td>23.882</td>\n      <td>3327500.0</td>\n      <td>NaN</td>\n      <td>0.001107</td>\n      <td>NaN</td>\n      <td>0.573025</td>\n    </tr>\n    <tr>\n      <th>2012-01-05</th>\n      <td>A</td>\n      <td>35.88</td>\n      <td>37.320</td>\n      <td>35.720</td>\n      <td>37.00</td>\n      <td>23.677891</td>\n      <td>24.628174</td>\n      <td>23.572304</td>\n      <td>24.417</td>\n      <td>4894600.0</td>\n      <td>0.498527</td>\n      <td>0.031215</td>\n      <td>0.822699</td>\n      <td>0.874418</td>\n    </tr>\n    <tr>\n      <th>2012-01-06</th>\n      <td>A</td>\n      <td>37.09</td>\n      <td>37.555</td>\n      <td>36.805</td>\n      <td>37.40</td>\n      <td>24.476425</td>\n      <td>24.783288</td>\n      <td>24.288348</td>\n      <td>24.681</td>\n      <td>3370100.0</td>\n      <td>0.012721</td>\n      <td>0.008358</td>\n      <td>0.488345</td>\n      <td>0.778275</td>\n    </tr>\n    <tr>\n      <th>2012-01-09</th>\n      <td>A</td>\n      <td>37.62</td>\n      <td>38.420</td>\n      <td>37.472</td>\n      <td>38.38</td>\n      <td>24.826455</td>\n      <td>25.354397</td>\n      <td>24.728786</td>\n      <td>25.328</td>\n      <td>3168500.0</td>\n      <td>-0.434874</td>\n      <td>0.020202</td>\n      <td>0.264791</td>\n      <td>0.863145</td>\n    </tr>\n    <tr>\n      <th>...</th>\n      <td>...</td>\n      <td>...</td>\n      <td>...</td>\n      <td>...</td>\n      <td>...</td>\n      <td>...</td>\n      <td>...</td>\n      <td>...</td>\n      <td>...</td>\n      <td>...</td>\n      <td>...</td>\n      <td>...</td>\n      <td>...</td>\n      <td>...</td>\n    </tr>\n    <tr>\n      <th>2022-03-07</th>\n      <td>A</td>\n      <td>133.55</td>\n      <td>133.550</td>\n      <td>128.430</td>\n      <td>130.34</td>\n      <td>133.550000</td>\n      <td>133.550000</td>\n      <td>128.430000</td>\n      <td>130.340</td>\n      <td>2376454.0</td>\n      <td>-0.413138</td>\n      <td>-0.024036</td>\n      <td>0.159010</td>\n      <td>0.372188</td>\n    </tr>\n    <tr>\n      <th>2022-03-08</th>\n      <td>A</td>\n      <td>128.64</td>\n      <td>132.500</td>\n      <td>127.540</td>\n      <td>129.32</td>\n      <td>128.640000</td>\n      <td>132.500000</td>\n      <td>127.540000</td>\n      <td>129.320</td>\n      <td>2375482.0</td>\n      <td>-0.482485</td>\n      <td>0.005286</td>\n      <td>0.152424</td>\n      <td>0.645100</td>\n    </tr>\n    <tr>\n      <th>2022-03-09</th>\n      <td>A</td>\n      <td>132.85</td>\n      <td>133.940</td>\n      <td>131.190</td>\n      <td>133.26</td>\n      <td>132.850000</td>\n      <td>133.940000</td>\n      <td>131.190000</td>\n      <td>133.260</td>\n      <td>1805537.0</td>\n      <td>-0.274751</td>\n      <td>0.003086</td>\n      <td>0.445968</td>\n      <td>0.512537</td>\n    </tr>\n    <tr>\n      <th>2022-03-10</th>\n      <td>A</td>\n      <td>131.40</td>\n      <td>134.520</td>\n      <td>131.290</td>\n      <td>134.33</td>\n      <td>131.400000</td>\n      <td>134.520000</td>\n      <td>131.290000</td>\n      <td>134.330</td>\n      <td>1933127.0</td>\n      <td>-0.206061</td>\n      <td>0.022298</td>\n      <td>0.612713</td>\n      <td>0.799221</td>\n    </tr>\n    <tr>\n      <th>2022-03-11</th>\n      <td>A</td>\n      <td>135.43</td>\n      <td>136.440</td>\n      <td>130.160</td>\n      <td>130.31</td>\n      <td>135.430000</td>\n      <td>136.440000</td>\n      <td>130.160000</td>\n      <td>130.310</td>\n      <td>1815743.0</td>\n      <td>0.005637</td>\n      <td>-0.037806</td>\n      <td>0.608374</td>\n      <td>0.263004</td>\n    </tr>\n  </tbody>\n</table>\n<p>2565 rows × 14 columns</p>\n</div>"
     },
     "execution_count": 9,
     "metadata": {},
     "output_type": "execute_result"
    }
   ],
   "source": [
    "A"
   ],
   "metadata": {
    "collapsed": false,
    "pycharm": {
     "name": "#%%\n"
    }
   }
  },
  {
   "cell_type": "code",
   "execution_count": 8,
   "outputs": [
    {
     "data": {
      "text/plain": "ticker  date      \nA       2012-01-03         NaN\n        2012-01-04         NaN\n        2012-01-05         NaN\n        2012-01-06         NaN\n        2012-01-09         NaN\n                        ...   \n        2022-03-07    0.063509\n        2022-03-08    0.110471\n        2022-03-09    0.237759\n        2022-03-10    0.270955\n        2022-03-11   -0.211890\nLength: 2565, dtype: float64"
     },
     "execution_count": 8,
     "metadata": {},
     "output_type": "execute_result"
    }
   ],
   "source": [
    "A.groupby('ticker')['rank_volumedelta'].rolling(n_roll).corr(A['rank_ret_intraday'])"
   ],
   "metadata": {
    "collapsed": false,
    "pycharm": {
     "name": "#%%\n"
    }
   }
  },
  {
   "cell_type": "code",
   "execution_count": 44,
   "outputs": [],
   "source": [
    "# stocks_hist['alpha'] = stocks_hist.groupby('date').tsargmax_withcond.rank(pct=True).values"
   ],
   "metadata": {
    "collapsed": false,
    "pycharm": {
     "name": "#%%\n"
    }
   }
  },
  {
   "cell_type": "code",
   "execution_count": 56,
   "outputs": [
    {
     "data": {
      "text/plain": "           ticker   open    high     low  close    openadj    highadj  \\\ndate                                                                    \n2012-01-03      A  35.84  36.990  35.740  36.48  23.651649  24.410561   \n2012-01-04      A  36.15  36.360  35.590  36.19  23.855604  23.994184   \n2012-01-05      A  35.88  37.320  35.720  37.00  23.677891  24.628174   \n2012-01-06      A  37.09  37.555  36.805  37.40  24.476425  24.783288   \n2012-01-09      A  37.62  38.420  37.472  38.38  24.826455  25.354397   \n...           ...    ...     ...     ...    ...        ...        ...   \n2013-03-11     ZZ   2.20   2.210   2.200   2.20   2.200000   2.210000   \n2013-03-12     ZZ   2.20   2.210   2.200   2.21   2.200000   2.210000   \n2013-03-13     ZZ   2.20   2.210   2.200   2.21   2.200000   2.210000   \n2013-03-14     ZZ   2.20   2.210   2.200   2.21   2.200000   2.210000   \n2013-03-15     ZZ   2.21   2.210   2.190   2.19   2.210000   2.210000   \n\n               lowadj  closeadj     volume       ret  retvol20  closeadj_sqr  \\\ndate                                                                           \n2012-01-03  23.585657    24.074  2973100.0       NaN       NaN    579.557476   \n2012-01-04  23.486056    23.882  3327500.0 -0.007975       NaN    570.349924   \n2012-01-05  23.572304    24.417  4894600.0  0.022402       NaN    596.189889   \n2012-01-06  24.288348    24.681  3370100.0  0.010812       NaN    609.151761   \n2012-01-09  24.728786    25.328  3168500.0  0.026214       NaN    641.507584   \n...               ...       ...        ...       ...       ...           ...   \n2013-03-11   2.200000     2.200   407100.0  0.000000  0.006292      4.840000   \n2013-03-12   2.200000     2.210   160000.0  0.004545  0.006356      4.884100   \n2013-03-13   2.200000     2.210   308900.0  0.000000  0.006291      4.884100   \n2013-03-14   2.200000     2.210   275000.0  0.000000  0.005875      4.884100   \n2013-03-15   2.190000     2.190  1518200.0 -0.009050  0.006284      4.796100   \n\n            closeadj_argmax  retvol20_sqr  retvol20_argmax  tsargmax_withcond  \\\ndate                                                                            \n2012-01-03              NaN           NaN              NaN                NaN   \n2012-01-04              NaN           NaN              NaN                NaN   \n2012-01-05              NaN           NaN              NaN                NaN   \n2012-01-06              NaN           NaN              NaN                NaN   \n2012-01-09              4.0           NaN              NaN                NaN   \n...                     ...           ...              ...                ...   \n2013-03-11              3.0      0.000040              3.0                4.0   \n2013-03-12              4.0      0.000040              2.0                5.0   \n2013-03-13              3.0      0.000040              1.0                4.0   \n2013-03-14              2.0      0.000035              0.0                3.0   \n2013-03-15              1.0      0.000039              1.0                2.0   \n\n            alpha  \ndate               \n2012-01-03    NaN  \n2012-01-04    NaN  \n2012-01-05    NaN  \n2012-01-06    NaN  \n2012-01-09    NaN  \n...           ...  \n2013-03-11    0.8  \n2013-03-12    1.0  \n2013-03-13    0.8  \n2013-03-14    0.6  \n2013-03-15    0.4  \n\n[13800245 rows x 18 columns]",
      "text/html": "<div>\n<style scoped>\n    .dataframe tbody tr th:only-of-type {\n        vertical-align: middle;\n    }\n\n    .dataframe tbody tr th {\n        vertical-align: top;\n    }\n\n    .dataframe thead th {\n        text-align: right;\n    }\n</style>\n<table border=\"1\" class=\"dataframe\">\n  <thead>\n    <tr style=\"text-align: right;\">\n      <th></th>\n      <th>ticker</th>\n      <th>open</th>\n      <th>high</th>\n      <th>low</th>\n      <th>close</th>\n      <th>openadj</th>\n      <th>highadj</th>\n      <th>lowadj</th>\n      <th>closeadj</th>\n      <th>volume</th>\n      <th>ret</th>\n      <th>retvol20</th>\n      <th>closeadj_sqr</th>\n      <th>closeadj_argmax</th>\n      <th>retvol20_sqr</th>\n      <th>retvol20_argmax</th>\n      <th>tsargmax_withcond</th>\n      <th>alpha</th>\n    </tr>\n    <tr>\n      <th>date</th>\n      <th></th>\n      <th></th>\n      <th></th>\n      <th></th>\n      <th></th>\n      <th></th>\n      <th></th>\n      <th></th>\n      <th></th>\n      <th></th>\n      <th></th>\n      <th></th>\n      <th></th>\n      <th></th>\n      <th></th>\n      <th></th>\n      <th></th>\n      <th></th>\n    </tr>\n  </thead>\n  <tbody>\n    <tr>\n      <th>2012-01-03</th>\n      <td>A</td>\n      <td>35.84</td>\n      <td>36.990</td>\n      <td>35.740</td>\n      <td>36.48</td>\n      <td>23.651649</td>\n      <td>24.410561</td>\n      <td>23.585657</td>\n      <td>24.074</td>\n      <td>2973100.0</td>\n      <td>NaN</td>\n      <td>NaN</td>\n      <td>579.557476</td>\n      <td>NaN</td>\n      <td>NaN</td>\n      <td>NaN</td>\n      <td>NaN</td>\n      <td>NaN</td>\n    </tr>\n    <tr>\n      <th>2012-01-04</th>\n      <td>A</td>\n      <td>36.15</td>\n      <td>36.360</td>\n      <td>35.590</td>\n      <td>36.19</td>\n      <td>23.855604</td>\n      <td>23.994184</td>\n      <td>23.486056</td>\n      <td>23.882</td>\n      <td>3327500.0</td>\n      <td>-0.007975</td>\n      <td>NaN</td>\n      <td>570.349924</td>\n      <td>NaN</td>\n      <td>NaN</td>\n      <td>NaN</td>\n      <td>NaN</td>\n      <td>NaN</td>\n    </tr>\n    <tr>\n      <th>2012-01-05</th>\n      <td>A</td>\n      <td>35.88</td>\n      <td>37.320</td>\n      <td>35.720</td>\n      <td>37.00</td>\n      <td>23.677891</td>\n      <td>24.628174</td>\n      <td>23.572304</td>\n      <td>24.417</td>\n      <td>4894600.0</td>\n      <td>0.022402</td>\n      <td>NaN</td>\n      <td>596.189889</td>\n      <td>NaN</td>\n      <td>NaN</td>\n      <td>NaN</td>\n      <td>NaN</td>\n      <td>NaN</td>\n    </tr>\n    <tr>\n      <th>2012-01-06</th>\n      <td>A</td>\n      <td>37.09</td>\n      <td>37.555</td>\n      <td>36.805</td>\n      <td>37.40</td>\n      <td>24.476425</td>\n      <td>24.783288</td>\n      <td>24.288348</td>\n      <td>24.681</td>\n      <td>3370100.0</td>\n      <td>0.010812</td>\n      <td>NaN</td>\n      <td>609.151761</td>\n      <td>NaN</td>\n      <td>NaN</td>\n      <td>NaN</td>\n      <td>NaN</td>\n      <td>NaN</td>\n    </tr>\n    <tr>\n      <th>2012-01-09</th>\n      <td>A</td>\n      <td>37.62</td>\n      <td>38.420</td>\n      <td>37.472</td>\n      <td>38.38</td>\n      <td>24.826455</td>\n      <td>25.354397</td>\n      <td>24.728786</td>\n      <td>25.328</td>\n      <td>3168500.0</td>\n      <td>0.026214</td>\n      <td>NaN</td>\n      <td>641.507584</td>\n      <td>4.0</td>\n      <td>NaN</td>\n      <td>NaN</td>\n      <td>NaN</td>\n      <td>NaN</td>\n    </tr>\n    <tr>\n      <th>...</th>\n      <td>...</td>\n      <td>...</td>\n      <td>...</td>\n      <td>...</td>\n      <td>...</td>\n      <td>...</td>\n      <td>...</td>\n      <td>...</td>\n      <td>...</td>\n      <td>...</td>\n      <td>...</td>\n      <td>...</td>\n      <td>...</td>\n      <td>...</td>\n      <td>...</td>\n      <td>...</td>\n      <td>...</td>\n      <td>...</td>\n    </tr>\n    <tr>\n      <th>2013-03-11</th>\n      <td>ZZ</td>\n      <td>2.20</td>\n      <td>2.210</td>\n      <td>2.200</td>\n      <td>2.20</td>\n      <td>2.200000</td>\n      <td>2.210000</td>\n      <td>2.200000</td>\n      <td>2.200</td>\n      <td>407100.0</td>\n      <td>0.000000</td>\n      <td>0.006292</td>\n      <td>4.840000</td>\n      <td>3.0</td>\n      <td>0.000040</td>\n      <td>3.0</td>\n      <td>4.0</td>\n      <td>0.8</td>\n    </tr>\n    <tr>\n      <th>2013-03-12</th>\n      <td>ZZ</td>\n      <td>2.20</td>\n      <td>2.210</td>\n      <td>2.200</td>\n      <td>2.21</td>\n      <td>2.200000</td>\n      <td>2.210000</td>\n      <td>2.200000</td>\n      <td>2.210</td>\n      <td>160000.0</td>\n      <td>0.004545</td>\n      <td>0.006356</td>\n      <td>4.884100</td>\n      <td>4.0</td>\n      <td>0.000040</td>\n      <td>2.0</td>\n      <td>5.0</td>\n      <td>1.0</td>\n    </tr>\n    <tr>\n      <th>2013-03-13</th>\n      <td>ZZ</td>\n      <td>2.20</td>\n      <td>2.210</td>\n      <td>2.200</td>\n      <td>2.21</td>\n      <td>2.200000</td>\n      <td>2.210000</td>\n      <td>2.200000</td>\n      <td>2.210</td>\n      <td>308900.0</td>\n      <td>0.000000</td>\n      <td>0.006291</td>\n      <td>4.884100</td>\n      <td>3.0</td>\n      <td>0.000040</td>\n      <td>1.0</td>\n      <td>4.0</td>\n      <td>0.8</td>\n    </tr>\n    <tr>\n      <th>2013-03-14</th>\n      <td>ZZ</td>\n      <td>2.20</td>\n      <td>2.210</td>\n      <td>2.200</td>\n      <td>2.21</td>\n      <td>2.200000</td>\n      <td>2.210000</td>\n      <td>2.200000</td>\n      <td>2.210</td>\n      <td>275000.0</td>\n      <td>0.000000</td>\n      <td>0.005875</td>\n      <td>4.884100</td>\n      <td>2.0</td>\n      <td>0.000035</td>\n      <td>0.0</td>\n      <td>3.0</td>\n      <td>0.6</td>\n    </tr>\n    <tr>\n      <th>2013-03-15</th>\n      <td>ZZ</td>\n      <td>2.21</td>\n      <td>2.210</td>\n      <td>2.190</td>\n      <td>2.19</td>\n      <td>2.210000</td>\n      <td>2.210000</td>\n      <td>2.190000</td>\n      <td>2.190</td>\n      <td>1518200.0</td>\n      <td>-0.009050</td>\n      <td>0.006284</td>\n      <td>4.796100</td>\n      <td>1.0</td>\n      <td>0.000039</td>\n      <td>1.0</td>\n      <td>2.0</td>\n      <td>0.4</td>\n    </tr>\n  </tbody>\n</table>\n<p>13800245 rows × 18 columns</p>\n</div>"
     },
     "execution_count": 56,
     "metadata": {},
     "output_type": "execute_result"
    }
   ],
   "source": [
    "stocks_hist"
   ],
   "metadata": {
    "collapsed": false,
    "pycharm": {
     "name": "#%%\n"
    }
   }
  },
  {
   "cell_type": "code",
   "execution_count": 27,
   "outputs": [
    {
     "name": "stdout",
     "output_type": "stream",
     "text": [
      "Total time: 18.187129259109497 sec\n"
     ]
    }
   ],
   "source": [
    "s_time_chunk = time.time()\n",
    "stocks_hist['closeadj_argmax'] = stocks_hist.groupby('ticker').closeadj.rolling(5).apply(np.argmax, engine='cython', raw=True).values\n",
    "e_time_chunk = time.time()\n",
    "\n",
    "print(f\"Total time: {e_time_chunk - s_time_chunk} sec\")"
   ],
   "metadata": {
    "collapsed": false,
    "pycharm": {
     "name": "#%%\n"
    }
   }
  },
  {
   "cell_type": "code",
   "execution_count": 28,
   "outputs": [
    {
     "data": {
      "text/plain": "           ticker   open    high     low  close    openadj    highadj  \\\ndate                                                                    \n2012-01-03      A  35.84  36.990  35.740  36.48  23.651649  24.410561   \n2012-01-04      A  36.15  36.360  35.590  36.19  23.855604  23.994184   \n2012-01-05      A  35.88  37.320  35.720  37.00  23.677891  24.628174   \n2012-01-06      A  37.09  37.555  36.805  37.40  24.476425  24.783288   \n2012-01-09      A  37.62  38.420  37.472  38.38  24.826455  25.354397   \n...           ...    ...     ...     ...    ...        ...        ...   \n2013-03-11     ZZ   2.20   2.210   2.200   2.20   2.200000   2.210000   \n2013-03-12     ZZ   2.20   2.210   2.200   2.21   2.200000   2.210000   \n2013-03-13     ZZ   2.20   2.210   2.200   2.21   2.200000   2.210000   \n2013-03-14     ZZ   2.20   2.210   2.200   2.21   2.200000   2.210000   \n2013-03-15     ZZ   2.21   2.210   2.190   2.19   2.210000   2.210000   \n\n               lowadj  closeadj     volume       ret  retvol20       op1  op2  \ndate                                                                           \n2012-01-03  23.585657    24.074  2973100.0       NaN       NaN       NaN  NaN  \n2012-01-04  23.486056    23.882  3327500.0 -0.007975       NaN       NaN  NaN  \n2012-01-05  23.572304    24.417  4894600.0  0.022402       NaN       NaN  NaN  \n2012-01-06  24.288348    24.681  3370100.0  0.010812       NaN       NaN  NaN  \n2012-01-09  24.728786    25.328  3168500.0  0.026214       NaN       NaN  NaN  \n...               ...       ...        ...       ...       ...       ...  ...  \n2013-03-11   2.200000     2.200   407100.0  0.000000  0.006292  4.840000  3.0  \n2013-03-12   2.200000     2.210   160000.0  0.004545  0.006356  4.884100  4.0  \n2013-03-13   2.200000     2.210   308900.0  0.000000  0.006291  4.884100  3.0  \n2013-03-14   2.200000     2.210   275000.0  0.000000  0.005875  4.884100  2.0  \n2013-03-15   2.190000     2.190  1518200.0 -0.009050  0.006284  0.000039  1.0  \n\n[13800245 rows x 14 columns]",
      "text/html": "<div>\n<style scoped>\n    .dataframe tbody tr th:only-of-type {\n        vertical-align: middle;\n    }\n\n    .dataframe tbody tr th {\n        vertical-align: top;\n    }\n\n    .dataframe thead th {\n        text-align: right;\n    }\n</style>\n<table border=\"1\" class=\"dataframe\">\n  <thead>\n    <tr style=\"text-align: right;\">\n      <th></th>\n      <th>ticker</th>\n      <th>open</th>\n      <th>high</th>\n      <th>low</th>\n      <th>close</th>\n      <th>openadj</th>\n      <th>highadj</th>\n      <th>lowadj</th>\n      <th>closeadj</th>\n      <th>volume</th>\n      <th>ret</th>\n      <th>retvol20</th>\n      <th>op1</th>\n      <th>op2</th>\n    </tr>\n    <tr>\n      <th>date</th>\n      <th></th>\n      <th></th>\n      <th></th>\n      <th></th>\n      <th></th>\n      <th></th>\n      <th></th>\n      <th></th>\n      <th></th>\n      <th></th>\n      <th></th>\n      <th></th>\n      <th></th>\n      <th></th>\n    </tr>\n  </thead>\n  <tbody>\n    <tr>\n      <th>2012-01-03</th>\n      <td>A</td>\n      <td>35.84</td>\n      <td>36.990</td>\n      <td>35.740</td>\n      <td>36.48</td>\n      <td>23.651649</td>\n      <td>24.410561</td>\n      <td>23.585657</td>\n      <td>24.074</td>\n      <td>2973100.0</td>\n      <td>NaN</td>\n      <td>NaN</td>\n      <td>NaN</td>\n      <td>NaN</td>\n    </tr>\n    <tr>\n      <th>2012-01-04</th>\n      <td>A</td>\n      <td>36.15</td>\n      <td>36.360</td>\n      <td>35.590</td>\n      <td>36.19</td>\n      <td>23.855604</td>\n      <td>23.994184</td>\n      <td>23.486056</td>\n      <td>23.882</td>\n      <td>3327500.0</td>\n      <td>-0.007975</td>\n      <td>NaN</td>\n      <td>NaN</td>\n      <td>NaN</td>\n    </tr>\n    <tr>\n      <th>2012-01-05</th>\n      <td>A</td>\n      <td>35.88</td>\n      <td>37.320</td>\n      <td>35.720</td>\n      <td>37.00</td>\n      <td>23.677891</td>\n      <td>24.628174</td>\n      <td>23.572304</td>\n      <td>24.417</td>\n      <td>4894600.0</td>\n      <td>0.022402</td>\n      <td>NaN</td>\n      <td>NaN</td>\n      <td>NaN</td>\n    </tr>\n    <tr>\n      <th>2012-01-06</th>\n      <td>A</td>\n      <td>37.09</td>\n      <td>37.555</td>\n      <td>36.805</td>\n      <td>37.40</td>\n      <td>24.476425</td>\n      <td>24.783288</td>\n      <td>24.288348</td>\n      <td>24.681</td>\n      <td>3370100.0</td>\n      <td>0.010812</td>\n      <td>NaN</td>\n      <td>NaN</td>\n      <td>NaN</td>\n    </tr>\n    <tr>\n      <th>2012-01-09</th>\n      <td>A</td>\n      <td>37.62</td>\n      <td>38.420</td>\n      <td>37.472</td>\n      <td>38.38</td>\n      <td>24.826455</td>\n      <td>25.354397</td>\n      <td>24.728786</td>\n      <td>25.328</td>\n      <td>3168500.0</td>\n      <td>0.026214</td>\n      <td>NaN</td>\n      <td>NaN</td>\n      <td>NaN</td>\n    </tr>\n    <tr>\n      <th>...</th>\n      <td>...</td>\n      <td>...</td>\n      <td>...</td>\n      <td>...</td>\n      <td>...</td>\n      <td>...</td>\n      <td>...</td>\n      <td>...</td>\n      <td>...</td>\n      <td>...</td>\n      <td>...</td>\n      <td>...</td>\n      <td>...</td>\n      <td>...</td>\n    </tr>\n    <tr>\n      <th>2013-03-11</th>\n      <td>ZZ</td>\n      <td>2.20</td>\n      <td>2.210</td>\n      <td>2.200</td>\n      <td>2.20</td>\n      <td>2.200000</td>\n      <td>2.210000</td>\n      <td>2.200000</td>\n      <td>2.200</td>\n      <td>407100.0</td>\n      <td>0.000000</td>\n      <td>0.006292</td>\n      <td>4.840000</td>\n      <td>3.0</td>\n    </tr>\n    <tr>\n      <th>2013-03-12</th>\n      <td>ZZ</td>\n      <td>2.20</td>\n      <td>2.210</td>\n      <td>2.200</td>\n      <td>2.21</td>\n      <td>2.200000</td>\n      <td>2.210000</td>\n      <td>2.200000</td>\n      <td>2.210</td>\n      <td>160000.0</td>\n      <td>0.004545</td>\n      <td>0.006356</td>\n      <td>4.884100</td>\n      <td>4.0</td>\n    </tr>\n    <tr>\n      <th>2013-03-13</th>\n      <td>ZZ</td>\n      <td>2.20</td>\n      <td>2.210</td>\n      <td>2.200</td>\n      <td>2.21</td>\n      <td>2.200000</td>\n      <td>2.210000</td>\n      <td>2.200000</td>\n      <td>2.210</td>\n      <td>308900.0</td>\n      <td>0.000000</td>\n      <td>0.006291</td>\n      <td>4.884100</td>\n      <td>3.0</td>\n    </tr>\n    <tr>\n      <th>2013-03-14</th>\n      <td>ZZ</td>\n      <td>2.20</td>\n      <td>2.210</td>\n      <td>2.200</td>\n      <td>2.21</td>\n      <td>2.200000</td>\n      <td>2.210000</td>\n      <td>2.200000</td>\n      <td>2.210</td>\n      <td>275000.0</td>\n      <td>0.000000</td>\n      <td>0.005875</td>\n      <td>4.884100</td>\n      <td>2.0</td>\n    </tr>\n    <tr>\n      <th>2013-03-15</th>\n      <td>ZZ</td>\n      <td>2.21</td>\n      <td>2.210</td>\n      <td>2.190</td>\n      <td>2.19</td>\n      <td>2.210000</td>\n      <td>2.210000</td>\n      <td>2.190000</td>\n      <td>2.190</td>\n      <td>1518200.0</td>\n      <td>-0.009050</td>\n      <td>0.006284</td>\n      <td>0.000039</td>\n      <td>1.0</td>\n    </tr>\n  </tbody>\n</table>\n<p>13800245 rows × 14 columns</p>\n</div>"
     },
     "execution_count": 28,
     "metadata": {},
     "output_type": "execute_result"
    }
   ],
   "source": [
    "stocks_hist"
   ],
   "metadata": {
    "collapsed": false,
    "pycharm": {
     "name": "#%%\n"
    }
   }
  },
  {
   "cell_type": "code",
   "execution_count": null,
   "outputs": [],
   "source": [],
   "metadata": {
    "collapsed": false,
    "pycharm": {
     "name": "#%%\n"
    }
   }
  }
 ],
 "metadata": {
  "kernelspec": {
   "display_name": "Python 3",
   "language": "python",
   "name": "python3"
  },
  "language_info": {
   "codemirror_mode": {
    "name": "ipython",
    "version": 2
   },
   "file_extension": ".py",
   "mimetype": "text/x-python",
   "name": "python",
   "nbconvert_exporter": "python",
   "pygments_lexer": "ipython2",
   "version": "2.7.6"
  }
 },
 "nbformat": 4,
 "nbformat_minor": 0
}