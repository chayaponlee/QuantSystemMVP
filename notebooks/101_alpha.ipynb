{
 "cells": [
  {
   "cell_type": "code",
   "execution_count": 2,
   "metadata": {
    "collapsed": true
   },
   "outputs": [],
   "source": [
    "import pandas as pd\n",
    "from pandas import DataFrame\n",
    "import numpy as np\n",
    "from typing import List, Callable, Dict\n",
    "from realgam.quantlib import general_utils as gu\n",
    "from realgam.quantlib.engineer.factor_engineer import FactorEngineer, GroupFactorEngineer\n",
    "import datetime\n",
    "import os\n",
    "import time\n",
    "PROJECT_PATH = os.getenv('QuantSystemMVP')\n",
    "DATA_PATH = f'{PROJECT_PATH}/Data/stock_hist.obj'\n"
   ]
  },
  {
   "cell_type": "code",
   "execution_count": 3,
   "outputs": [],
   "source": [
    "stocks_df, stocks_extended_df, available_tickers = gu.load_file(DATA_PATH)"
   ],
   "metadata": {
    "collapsed": false,
    "pycharm": {
     "name": "#%%\n"
    }
   }
  },
  {
   "cell_type": "code",
   "execution_count": null,
   "outputs": [],
   "source": [
    "(-1 * correlation(rank(delta(log(volume), 2)), rank(((close - open) / open)), 6))"
   ],
   "metadata": {
    "collapsed": false,
    "pycharm": {
     "name": "#%%\n"
    }
   }
  },
  {
   "cell_type": "code",
   "execution_count": 8,
   "outputs": [
    {
     "data": {
      "text/plain": "Timestamp('2022-03-16 00:00:00')"
     },
     "execution_count": 8,
     "metadata": {},
     "output_type": "execute_result"
    }
   ],
   "source": [
    "stocks_df[stocks_df.ticker == 'AAPL'].index.max()"
   ],
   "metadata": {
    "collapsed": false,
    "pycharm": {
     "name": "#%%\n"
    }
   }
  },
  {
   "cell_type": "code",
   "execution_count": 5,
   "outputs": [],
   "source": [
    "stacked_hist = stocks_df.copy()"
   ],
   "metadata": {
    "collapsed": false,
    "pycharm": {
     "name": "#%%\n"
    }
   }
  },
  {
   "cell_type": "code",
   "execution_count": 4,
   "outputs": [],
   "source": [
    "stacked_hist = FinancialDF(stacked_hist)"
   ],
   "metadata": {
    "collapsed": false,
    "pycharm": {
     "name": "#%%\n"
    }
   }
  },
  {
   "cell_type": "code",
   "execution_count": 15,
   "outputs": [
    {
     "data": {
      "text/plain": "__main__.CandlesSeries"
     },
     "execution_count": 15,
     "metadata": {},
     "output_type": "execute_result"
    }
   ],
   "source": [
    "type(stacked_hist.ticker)"
   ],
   "metadata": {
    "collapsed": false,
    "pycharm": {
     "name": "#%%\n"
    }
   }
  },
  {
   "cell_type": "code",
   "execution_count": null,
   "outputs": [],
   "source": [],
   "metadata": {
    "collapsed": false,
    "pycharm": {
     "name": "#%%\n"
    }
   }
  },
  {
   "cell_type": "code",
   "execution_count": 7,
   "outputs": [
    {
     "name": "stdout",
     "output_type": "stream",
     "text": [
      "Total time: 58.95735692977905 sec\n"
     ]
    }
   ],
   "source": [
    "s_time_chunk = time.time()\n",
    "# stacked_hist['a1'] = stacked_hist.calc_alpha(alpha101.alpha1, n_std=20, n_ts_arg_max=5)\n",
    "stacked_hist['a1'] = alpha101.alpha1(stacked_hist, n_std=20, n_ts_arg_max=5)\n",
    "e_time_chunk = time.time()\n",
    "\n",
    "print(f\"Total time: {e_time_chunk - s_time_chunk} sec\")"
   ],
   "metadata": {
    "collapsed": false,
    "pycharm": {
     "name": "#%%\n"
    }
   }
  },
  {
   "cell_type": "code",
   "execution_count": 21,
   "outputs": [
    {
     "data": {
      "text/plain": "pandas.core.frame.DataFrame"
     },
     "execution_count": 21,
     "metadata": {},
     "output_type": "execute_result"
    }
   ],
   "source": [
    "type(pd.concat([stocks_df, stacked_hist]))"
   ],
   "metadata": {
    "collapsed": false,
    "pycharm": {
     "name": "#%%\n"
    }
   }
  },
  {
   "cell_type": "code",
   "execution_count": null,
   "outputs": [],
   "source": [
    "stacked_hist['alpha1'] ="
   ],
   "metadata": {
    "collapsed": false,
    "pycharm": {
     "name": "#%%\n"
    }
   }
  },
  {
   "cell_type": "code",
   "execution_count": 13,
   "outputs": [
    {
     "name": "stdout",
     "output_type": "stream",
     "text": [
      "Iteration progress: 0.48 %\n",
      "Iteration progress: 0.97 %\n",
      "Iteration progress: 1.45 %\n",
      "Iteration progress: 1.93 %\n",
      "Iteration progress: 2.41 %\n",
      "Iteration progress: 2.9 %\n",
      "Iteration progress: 3.38 %\n",
      "Iteration progress: 3.86 %\n",
      "Iteration progress: 4.34 %\n",
      "Iteration progress: 4.83 %\n",
      "Iteration progress: 5.31 %\n",
      "Iteration progress: 5.79 %\n",
      "Iteration progress: 6.28 %\n",
      "Iteration progress: 6.76 %\n",
      "Iteration progress: 7.24 %\n",
      "Iteration progress: 7.72 %\n",
      "Iteration progress: 8.21 %\n",
      "Iteration progress: 8.69 %\n",
      "Iteration progress: 9.17 %\n",
      "Iteration progress: 9.66 %\n",
      "Iteration progress: 10.14 %\n",
      "Iteration progress: 10.62 %\n",
      "Iteration progress: 11.1 %\n",
      "Iteration progress: 11.59 %\n",
      "Iteration progress: 12.07 %\n",
      "Iteration progress: 12.55 %\n",
      "Iteration progress: 13.03 %\n",
      "Iteration progress: 13.52 %\n",
      "Iteration progress: 14.0 %\n",
      "Iteration progress: 14.48 %\n",
      "Iteration progress: 14.97 %\n",
      "Iteration progress: 15.45 %\n",
      "Iteration progress: 15.93 %\n",
      "Iteration progress: 16.41 %\n",
      "Iteration progress: 16.9 %\n",
      "Iteration progress: 17.38 %\n",
      "Iteration progress: 17.86 %\n",
      "Iteration progress: 18.35 %\n",
      "Iteration progress: 18.83 %\n",
      "Iteration progress: 19.31 %\n",
      "Iteration progress: 19.79 %\n",
      "Iteration progress: 20.28 %\n",
      "Iteration progress: 20.76 %\n",
      "Iteration progress: 21.24 %\n",
      "Iteration progress: 21.72 %\n",
      "Iteration progress: 22.21 %\n",
      "Iteration progress: 22.69 %\n",
      "Iteration progress: 23.17 %\n",
      "Iteration progress: 23.66 %\n",
      "Iteration progress: 24.14 %\n",
      "Iteration progress: 24.62 %\n",
      "Iteration progress: 25.1 %\n",
      "Iteration progress: 25.59 %\n",
      "Iteration progress: 26.07 %\n",
      "Iteration progress: 26.55 %\n",
      "Iteration progress: 27.03 %\n",
      "Iteration progress: 27.52 %\n",
      "Iteration progress: 28.0 %\n",
      "Iteration progress: 28.48 %\n",
      "Iteration progress: 28.97 %\n",
      "Iteration progress: 29.45 %\n",
      "Iteration progress: 29.93 %\n",
      "Iteration progress: 30.41 %\n",
      "Iteration progress: 30.9 %\n",
      "Iteration progress: 31.38 %\n",
      "Iteration progress: 31.86 %\n",
      "Iteration progress: 32.35 %\n",
      "Iteration progress: 32.83 %\n",
      "Iteration progress: 33.31 %\n",
      "Iteration progress: 33.79 %\n",
      "Iteration progress: 34.28 %\n",
      "Iteration progress: 34.76 %\n",
      "Iteration progress: 35.24 %\n",
      "Iteration progress: 35.72 %\n",
      "Iteration progress: 36.21 %\n",
      "Iteration progress: 36.69 %\n",
      "Iteration progress: 37.17 %\n",
      "Iteration progress: 37.66 %\n",
      "Iteration progress: 38.14 %\n",
      "Iteration progress: 38.62 %\n",
      "Iteration progress: 39.1 %\n",
      "Iteration progress: 39.59 %\n",
      "Iteration progress: 40.07 %\n",
      "Iteration progress: 40.55 %\n",
      "Iteration progress: 41.04 %\n",
      "Iteration progress: 41.52 %\n",
      "Iteration progress: 42.0 %\n",
      "Iteration progress: 42.48 %\n",
      "Iteration progress: 42.97 %\n",
      "Iteration progress: 43.45 %\n",
      "Iteration progress: 43.93 %\n",
      "Iteration progress: 44.41 %\n",
      "Iteration progress: 44.9 %\n",
      "Iteration progress: 45.38 %\n",
      "Iteration progress: 45.86 %\n",
      "Iteration progress: 46.35 %\n",
      "Iteration progress: 46.83 %\n",
      "Iteration progress: 47.31 %\n",
      "Iteration progress: 47.79 %\n",
      "Iteration progress: 48.28 %\n",
      "Iteration progress: 48.76 %\n",
      "Iteration progress: 49.24 %\n",
      "Iteration progress: 49.72 %\n",
      "Iteration progress: 50.21 %\n",
      "Iteration progress: 50.69 %\n",
      "Iteration progress: 51.17 %\n",
      "Iteration progress: 51.66 %\n",
      "Iteration progress: 52.14 %\n",
      "Iteration progress: 52.62 %\n",
      "Iteration progress: 53.1 %\n",
      "Iteration progress: 53.59 %\n",
      "Iteration progress: 54.07 %\n",
      "Iteration progress: 54.55 %\n",
      "Iteration progress: 55.04 %\n",
      "Iteration progress: 55.52 %\n",
      "Iteration progress: 56.0 %\n",
      "Iteration progress: 56.48 %\n",
      "Iteration progress: 56.97 %\n",
      "Iteration progress: 57.45 %\n",
      "Iteration progress: 57.93 %\n",
      "Iteration progress: 58.41 %\n",
      "Iteration progress: 58.9 %\n",
      "Iteration progress: 59.38 %\n",
      "Iteration progress: 59.86 %\n",
      "Iteration progress: 60.35 %\n",
      "Iteration progress: 60.83 %\n",
      "Iteration progress: 61.31 %\n",
      "Iteration progress: 61.79 %\n",
      "Iteration progress: 62.28 %\n",
      "Iteration progress: 62.76 %\n",
      "Iteration progress: 63.24 %\n",
      "Iteration progress: 63.73 %\n",
      "Iteration progress: 64.21 %\n",
      "Iteration progress: 64.69 %\n",
      "Iteration progress: 65.17 %\n",
      "Iteration progress: 65.66 %\n",
      "Iteration progress: 66.14 %\n",
      "Iteration progress: 66.62 %\n",
      "Iteration progress: 67.1 %\n",
      "Iteration progress: 67.59 %\n",
      "Iteration progress: 68.07 %\n",
      "Iteration progress: 68.55 %\n",
      "Iteration progress: 69.04 %\n",
      "Iteration progress: 69.52 %\n",
      "Iteration progress: 70.0 %\n",
      "Iteration progress: 70.48 %\n",
      "Iteration progress: 70.97 %\n",
      "Iteration progress: 71.45 %\n",
      "Iteration progress: 71.93 %\n",
      "Iteration progress: 72.41 %\n",
      "Iteration progress: 72.9 %\n",
      "Iteration progress: 73.38 %\n",
      "Iteration progress: 73.86 %\n",
      "Iteration progress: 74.35 %\n",
      "Iteration progress: 74.83 %\n",
      "Iteration progress: 75.31 %\n",
      "Iteration progress: 75.79 %\n",
      "Iteration progress: 76.28 %\n",
      "Iteration progress: 76.76 %\n",
      "Iteration progress: 77.24 %\n",
      "Iteration progress: 77.73 %\n",
      "Iteration progress: 78.21 %\n",
      "Iteration progress: 78.69 %\n",
      "Iteration progress: 79.17 %\n",
      "Iteration progress: 79.66 %\n",
      "Iteration progress: 80.14 %\n",
      "Iteration progress: 80.62 %\n",
      "Iteration progress: 81.1 %\n",
      "Iteration progress: 81.59 %\n",
      "Iteration progress: 82.07 %\n",
      "Iteration progress: 82.55 %\n",
      "Iteration progress: 83.04 %\n",
      "Iteration progress: 83.52 %\n",
      "Iteration progress: 84.0 %\n",
      "Iteration progress: 84.48 %\n",
      "Iteration progress: 84.97 %\n",
      "Iteration progress: 85.45 %\n",
      "Iteration progress: 85.93 %\n",
      "Iteration progress: 86.41 %\n",
      "Iteration progress: 86.9 %\n",
      "Iteration progress: 87.38 %\n",
      "Iteration progress: 87.86 %\n",
      "Iteration progress: 88.35 %\n",
      "Iteration progress: 88.83 %\n",
      "Iteration progress: 89.31 %\n",
      "Iteration progress: 89.79 %\n",
      "Iteration progress: 90.28 %\n",
      "Iteration progress: 90.76 %\n",
      "Iteration progress: 91.24 %\n",
      "Iteration progress: 91.73 %\n",
      "Iteration progress: 92.21 %\n",
      "Iteration progress: 92.69 %\n",
      "Iteration progress: 93.17 %\n",
      "Iteration progress: 93.66 %\n",
      "Iteration progress: 94.14 %\n",
      "Iteration progress: 94.62 %\n",
      "Iteration progress: 95.1 %\n",
      "Iteration progress: 95.59 %\n",
      "Iteration progress: 96.07 %\n",
      "Iteration progress: 96.55 %\n",
      "Iteration progress: 97.04 %\n",
      "Iteration progress: 97.52 %\n",
      "Iteration progress: 98.0 %\n",
      "Iteration progress: 98.48 %\n",
      "Iteration progress: 98.97 %\n",
      "Iteration progress: 99.45 %\n",
      "Iteration progress: 99.93 %\n",
      "Total time: 4724.117567062378 sec\n"
     ]
    }
   ],
   "source": [
    "n_delta = 2\n",
    "\n",
    "# stacked_hist[f'volume_delta{n_delta}'] = stacked_hist.groupby('ticker').volume.apply(ic.delta_volume, n=n_delta)\n",
    "# stacked_hist['ret_intraday'] = stacked_hist.closeadj / stacked_hist.openadj - 1\n",
    "\n",
    "stacked_hist[f'volume_delta{n_delta}'] = stacked_hist.engineer(ic.delta_volume, 'volume', n=n_delta)\n",
    "stacked_hist['ret_intraday'] = ic.pct_change(stacked_hist.closeadj, stacked_hist.openadj)\n",
    "\n",
    "stacked_hist['rank_volumedelta'] = stacked_hist.cross_pctrank(f'volume_delta{n_delta}')\n",
    "stacked_hist['rank_ret_intraday'] = stacked_hist.cross_pctrank('ret_intraday')\n",
    "\n",
    "n_roll = 6\n",
    "s_time_chunk = time.time()\n",
    "tickers = stacked_hist.ticker.unique()\n",
    "corr_stack = []\n",
    "n_tickers = len(tickers)\n",
    "for i, ticker in enumerate(tickers):\n",
    "    temp_hist = stacked_hist[stacked_hist.ticker == ticker]\n",
    "    corr_stack.append(temp_hist['rank_volumedelta'].rolling(n_roll).corr(temp_hist['rank_ret_intraday']))\n",
    "\n",
    "    if (i+1) % 50 == 0:\n",
    "        print(f'Iteration progress: {round((i+1)/n_tickers * 100, 2)} %')\n",
    "stacked_hist['corr_ranks'] = pd.concat(corr_stack)\n",
    "e_time_chunk = time.time()\n",
    "print(f\"Total time: {e_time_chunk - s_time_chunk} sec\")\n",
    "stacked_hist['alpha'] = -1 * stacked_hist.corr_ranks\n"
   ],
   "metadata": {
    "collapsed": false,
    "pycharm": {
     "name": "#%%\n"
    }
   }
  },
  {
   "cell_type": "code",
   "execution_count": 22,
   "outputs": [
    {
     "data": {
      "text/plain": "78.73333333333333"
     },
     "execution_count": 22,
     "metadata": {},
     "output_type": "execute_result"
    }
   ],
   "source": [
    "4724/60"
   ],
   "metadata": {
    "collapsed": false,
    "pycharm": {
     "name": "#%%\n"
    }
   }
  },
  {
   "cell_type": "code",
   "execution_count": 7,
   "outputs": [],
   "source": [
    "A = stacked_hist[stacked_hist.ticker == 'A']"
   ],
   "metadata": {
    "collapsed": false,
    "pycharm": {
     "name": "#%%\n"
    }
   }
  },
  {
   "cell_type": "code",
   "execution_count": 9,
   "outputs": [],
   "source": [
    "dummy_hist = stacked_hist[stacked_hist.ticker.isin(stacked_hist.ticker.unique()[:100])]"
   ],
   "metadata": {
    "collapsed": false,
    "pycharm": {
     "name": "#%%\n"
    }
   }
  },
  {
   "cell_type": "code",
   "execution_count": 11,
   "outputs": [
    {
     "name": "stdout",
     "output_type": "stream",
     "text": [
      "Total time: 0.557974100112915 sec\n"
     ]
    },
    {
     "name": "stderr",
     "output_type": "stream",
     "text": [
      "/var/folders/wq/0z599tw14bdgq8gkgc7wjtlc0000gn/T/ipykernel_29506/1976834104.py:8: SettingWithCopyWarning: \n",
      "A value is trying to be set on a copy of a slice from a DataFrame.\n",
      "Try using .loc[row_indexer,col_indexer] = value instead\n",
      "\n",
      "See the caveats in the documentation: https://pandas.pydata.org/pandas-docs/stable/user_guide/indexing.html#returning-a-view-versus-a-copy\n",
      "  dummy_hist['corr_ranks'] = pd.concat(stack).values\n"
     ]
    }
   ],
   "source": [
    "n_roll = 6\n",
    "\n",
    "s_time_chunk = time.time()\n",
    "stack = []\n",
    "for ticker in dummy_hist.ticker.unique():\n",
    "    temp_hist = dummy_hist[dummy_hist.ticker == ticker]\n",
    "    stack.append(temp_hist['rank_volumedelta'].rolling(n_roll).corr(temp_hist['rank_ret_intraday']))\n",
    "dummy_hist['corr_ranks'] = pd.concat(stack).values\n",
    "e_time_chunk = time.time()\n",
    "print(f\"Total time: {e_time_chunk - s_time_chunk} sec\")"
   ],
   "metadata": {
    "collapsed": false,
    "pycharm": {
     "name": "#%%\n"
    }
   }
  },
  {
   "cell_type": "code",
   "execution_count": 12,
   "outputs": [
    {
     "data": {
      "text/plain": "           ticker   open    high     low  close    openadj    highadj  \\\ndate                                                                    \n2012-01-03      A  35.84  36.990  35.740  36.48  23.651649  24.410561   \n2012-01-04      A  36.15  36.360  35.590  36.19  23.855604  23.994184   \n2012-01-05      A  35.88  37.320  35.720  37.00  23.677891  24.628174   \n2012-01-06      A  37.09  37.555  36.805  37.40  24.476425  24.783288   \n2012-01-09      A  37.62  38.420  37.472  38.38  24.826455  25.354397   \n...           ...    ...     ...     ...    ...        ...        ...   \n2022-03-07   ACER   2.53   2.530   2.380   2.46   2.530000   2.530000   \n2022-03-08   ACER   2.46   2.490   2.400   2.42   2.460000   2.490000   \n2022-03-09   ACER   2.44   2.540   2.420   2.54   2.440000   2.540000   \n2022-03-10   ACER   2.52   2.530   2.440   2.50   2.520000   2.530000   \n2022-03-11   ACER   2.48   2.500   2.430   2.43   2.480000   2.500000   \n\n               lowadj  closeadj     volume  volume_delta2  ret_intraday  \\\ndate                                                                      \n2012-01-03  23.585657    24.074  2973100.0            NaN      0.017857   \n2012-01-04  23.486056    23.882  3327500.0            NaN      0.001107   \n2012-01-05  23.572304    24.417  4894600.0       0.498527      0.031215   \n2012-01-06  24.288348    24.681  3370100.0       0.012721      0.008358   \n2012-01-09  24.728786    25.328  3168500.0      -0.434874      0.020202   \n...               ...       ...        ...            ...           ...   \n2022-03-07   2.380000     2.460    71484.0       1.056374     -0.027668   \n2022-03-08   2.400000     2.420    61114.0       0.689521     -0.016260   \n2022-03-09   2.420000     2.540    66971.0      -0.065214      0.040984   \n2022-03-10   2.440000     2.500    69882.0       0.134067     -0.007937   \n2022-03-11   2.430000     2.430    26684.0      -0.920196     -0.020161   \n\n            rank_volumedelta  rank_ret_intraday  corr_ranks  \ndate                                                         \n2012-01-03               NaN           0.811883         NaN  \n2012-01-04               NaN           0.573025         NaN  \n2012-01-05          0.822699           0.874418         NaN  \n2012-01-06          0.488345           0.778275         NaN  \n2012-01-09          0.264791           0.863145         NaN  \n...                      ...                ...         ...  \n2022-03-07          0.831209           0.338738    0.368989  \n2022-03-08          0.753617           0.200117   -0.384314  \n2022-03-09          0.596810           0.856932   -0.420014  \n2022-03-10          0.774422           0.208720   -0.744048  \n2022-03-11          0.123307           0.425592   -0.441385  \n\n[122132 rows x 15 columns]",
      "text/html": "<div>\n<style scoped>\n    .dataframe tbody tr th:only-of-type {\n        vertical-align: middle;\n    }\n\n    .dataframe tbody tr th {\n        vertical-align: top;\n    }\n\n    .dataframe thead th {\n        text-align: right;\n    }\n</style>\n<table border=\"1\" class=\"dataframe\">\n  <thead>\n    <tr style=\"text-align: right;\">\n      <th></th>\n      <th>ticker</th>\n      <th>open</th>\n      <th>high</th>\n      <th>low</th>\n      <th>close</th>\n      <th>openadj</th>\n      <th>highadj</th>\n      <th>lowadj</th>\n      <th>closeadj</th>\n      <th>volume</th>\n      <th>volume_delta2</th>\n      <th>ret_intraday</th>\n      <th>rank_volumedelta</th>\n      <th>rank_ret_intraday</th>\n      <th>corr_ranks</th>\n    </tr>\n    <tr>\n      <th>date</th>\n      <th></th>\n      <th></th>\n      <th></th>\n      <th></th>\n      <th></th>\n      <th></th>\n      <th></th>\n      <th></th>\n      <th></th>\n      <th></th>\n      <th></th>\n      <th></th>\n      <th></th>\n      <th></th>\n      <th></th>\n    </tr>\n  </thead>\n  <tbody>\n    <tr>\n      <th>2012-01-03</th>\n      <td>A</td>\n      <td>35.84</td>\n      <td>36.990</td>\n      <td>35.740</td>\n      <td>36.48</td>\n      <td>23.651649</td>\n      <td>24.410561</td>\n      <td>23.585657</td>\n      <td>24.074</td>\n      <td>2973100.0</td>\n      <td>NaN</td>\n      <td>0.017857</td>\n      <td>NaN</td>\n      <td>0.811883</td>\n      <td>NaN</td>\n    </tr>\n    <tr>\n      <th>2012-01-04</th>\n      <td>A</td>\n      <td>36.15</td>\n      <td>36.360</td>\n      <td>35.590</td>\n      <td>36.19</td>\n      <td>23.855604</td>\n      <td>23.994184</td>\n      <td>23.486056</td>\n      <td>23.882</td>\n      <td>3327500.0</td>\n      <td>NaN</td>\n      <td>0.001107</td>\n      <td>NaN</td>\n      <td>0.573025</td>\n      <td>NaN</td>\n    </tr>\n    <tr>\n      <th>2012-01-05</th>\n      <td>A</td>\n      <td>35.88</td>\n      <td>37.320</td>\n      <td>35.720</td>\n      <td>37.00</td>\n      <td>23.677891</td>\n      <td>24.628174</td>\n      <td>23.572304</td>\n      <td>24.417</td>\n      <td>4894600.0</td>\n      <td>0.498527</td>\n      <td>0.031215</td>\n      <td>0.822699</td>\n      <td>0.874418</td>\n      <td>NaN</td>\n    </tr>\n    <tr>\n      <th>2012-01-06</th>\n      <td>A</td>\n      <td>37.09</td>\n      <td>37.555</td>\n      <td>36.805</td>\n      <td>37.40</td>\n      <td>24.476425</td>\n      <td>24.783288</td>\n      <td>24.288348</td>\n      <td>24.681</td>\n      <td>3370100.0</td>\n      <td>0.012721</td>\n      <td>0.008358</td>\n      <td>0.488345</td>\n      <td>0.778275</td>\n      <td>NaN</td>\n    </tr>\n    <tr>\n      <th>2012-01-09</th>\n      <td>A</td>\n      <td>37.62</td>\n      <td>38.420</td>\n      <td>37.472</td>\n      <td>38.38</td>\n      <td>24.826455</td>\n      <td>25.354397</td>\n      <td>24.728786</td>\n      <td>25.328</td>\n      <td>3168500.0</td>\n      <td>-0.434874</td>\n      <td>0.020202</td>\n      <td>0.264791</td>\n      <td>0.863145</td>\n      <td>NaN</td>\n    </tr>\n    <tr>\n      <th>...</th>\n      <td>...</td>\n      <td>...</td>\n      <td>...</td>\n      <td>...</td>\n      <td>...</td>\n      <td>...</td>\n      <td>...</td>\n      <td>...</td>\n      <td>...</td>\n      <td>...</td>\n      <td>...</td>\n      <td>...</td>\n      <td>...</td>\n      <td>...</td>\n      <td>...</td>\n    </tr>\n    <tr>\n      <th>2022-03-07</th>\n      <td>ACER</td>\n      <td>2.53</td>\n      <td>2.530</td>\n      <td>2.380</td>\n      <td>2.46</td>\n      <td>2.530000</td>\n      <td>2.530000</td>\n      <td>2.380000</td>\n      <td>2.460</td>\n      <td>71484.0</td>\n      <td>1.056374</td>\n      <td>-0.027668</td>\n      <td>0.831209</td>\n      <td>0.338738</td>\n      <td>0.368989</td>\n    </tr>\n    <tr>\n      <th>2022-03-08</th>\n      <td>ACER</td>\n      <td>2.46</td>\n      <td>2.490</td>\n      <td>2.400</td>\n      <td>2.42</td>\n      <td>2.460000</td>\n      <td>2.490000</td>\n      <td>2.400000</td>\n      <td>2.420</td>\n      <td>61114.0</td>\n      <td>0.689521</td>\n      <td>-0.016260</td>\n      <td>0.753617</td>\n      <td>0.200117</td>\n      <td>-0.384314</td>\n    </tr>\n    <tr>\n      <th>2022-03-09</th>\n      <td>ACER</td>\n      <td>2.44</td>\n      <td>2.540</td>\n      <td>2.420</td>\n      <td>2.54</td>\n      <td>2.440000</td>\n      <td>2.540000</td>\n      <td>2.420000</td>\n      <td>2.540</td>\n      <td>66971.0</td>\n      <td>-0.065214</td>\n      <td>0.040984</td>\n      <td>0.596810</td>\n      <td>0.856932</td>\n      <td>-0.420014</td>\n    </tr>\n    <tr>\n      <th>2022-03-10</th>\n      <td>ACER</td>\n      <td>2.52</td>\n      <td>2.530</td>\n      <td>2.440</td>\n      <td>2.50</td>\n      <td>2.520000</td>\n      <td>2.530000</td>\n      <td>2.440000</td>\n      <td>2.500</td>\n      <td>69882.0</td>\n      <td>0.134067</td>\n      <td>-0.007937</td>\n      <td>0.774422</td>\n      <td>0.208720</td>\n      <td>-0.744048</td>\n    </tr>\n    <tr>\n      <th>2022-03-11</th>\n      <td>ACER</td>\n      <td>2.48</td>\n      <td>2.500</td>\n      <td>2.430</td>\n      <td>2.43</td>\n      <td>2.480000</td>\n      <td>2.500000</td>\n      <td>2.430000</td>\n      <td>2.430</td>\n      <td>26684.0</td>\n      <td>-0.920196</td>\n      <td>-0.020161</td>\n      <td>0.123307</td>\n      <td>0.425592</td>\n      <td>-0.441385</td>\n    </tr>\n  </tbody>\n</table>\n<p>122132 rows × 15 columns</p>\n</div>"
     },
     "execution_count": 12,
     "metadata": {},
     "output_type": "execute_result"
    }
   ],
   "source": [
    "dummy_hist"
   ],
   "metadata": {
    "collapsed": false,
    "pycharm": {
     "name": "#%%\n"
    }
   }
  },
  {
   "cell_type": "code",
   "execution_count": 20,
   "outputs": [],
   "source": [
    "stack = []\n",
    "for ticker in dummy_hist.ticker.unique():\n",
    "    temp_hist = dummy_hist[dummy_hist.ticker == ticker]\n",
    "    stack.append(temp_hist['rank_volumedelta'].rolling(n_roll).corr(temp_hist['rank_ret_intraday']))\n"
   ],
   "metadata": {
    "collapsed": false,
    "pycharm": {
     "name": "#%%\n"
    }
   }
  },
  {
   "cell_type": "code",
   "execution_count": 21,
   "outputs": [
    {
     "data": {
      "text/plain": "date\n2012-01-03         NaN\n2012-01-04         NaN\n2012-01-05         NaN\n2012-01-06         NaN\n2012-01-09         NaN\n                ...   \n2022-03-07    0.368989\n2022-03-08   -0.384314\n2022-03-09   -0.420014\n2022-03-10   -0.744048\n2022-03-11   -0.441385\nLength: 122132, dtype: float64"
     },
     "execution_count": 21,
     "metadata": {},
     "output_type": "execute_result"
    }
   ],
   "source": [
    "pd.concat(stack)"
   ],
   "metadata": {
    "collapsed": false,
    "pycharm": {
     "name": "#%%\n"
    }
   }
  },
  {
   "cell_type": "code",
   "execution_count": 19,
   "outputs": [
    {
     "data": {
      "text/plain": "           ticker   open   high    low  close  openadj  highadj  lowadj  \\\ndate                                                                      \n2012-01-03   ABAT  0.450  0.480  0.430  0.450    0.450    0.480   0.430   \n2012-01-04   ABAT  0.430  0.460  0.420  0.460    0.430    0.460   0.420   \n2012-01-05   ABAT  0.460  0.460  0.410  0.420    0.460    0.460   0.410   \n2012-01-06   ABAT  0.440  0.440  0.410  0.420    0.440    0.440   0.410   \n2012-01-09   ABAT  0.420  0.420  0.390  0.400    0.420    0.420   0.390   \n...           ...    ...    ...    ...    ...      ...      ...     ...   \n2015-12-23   ABAT  0.050  0.058  0.050  0.050    0.050    0.058   0.050   \n2015-12-24   ABAT  0.050  0.050  0.050  0.050    0.050    0.050   0.050   \n2015-12-28   ABAT  0.031  0.050  0.031  0.042    0.031    0.050   0.031   \n2015-12-29   ABAT  0.030  0.047  0.030  0.044    0.030    0.047   0.030   \n2015-12-30   ABAT  0.040  0.095  0.040  0.041    0.040    0.095   0.040   \n\n            closeadj    volume  volume_delta2  ret_intraday  rank_volumedelta  \\\ndate                                                                            \n2012-01-03     0.450  497400.0            NaN      0.000000               NaN   \n2012-01-04     0.460  508200.0            NaN      0.069767               NaN   \n2012-01-05     0.420  402400.0      -0.211948     -0.086957          0.471384   \n2012-01-06     0.420  351500.0      -0.368665     -0.045455          0.277972   \n2012-01-09     0.400  408600.0       0.015290     -0.047619          0.529583   \n...              ...       ...            ...           ...               ...   \n2015-12-23     0.050  220720.0       0.935595      0.000000          0.914532   \n2015-12-24     0.050   14530.0      -0.717219      0.000000          0.612822   \n2015-12-28     0.042  151778.0      -0.374476      0.354839          0.340552   \n2015-12-29     0.044   46654.0       1.166543      0.466667          0.764433   \n2015-12-30     0.041  127683.0      -0.172868      0.025000          0.385101   \n\n            rank_ret_intraday  \ndate                           \n2012-01-03           0.532129  \n2012-01-04           0.967399  \n2012-01-05           0.010248  \n2012-01-06           0.033818  \n2012-01-09           0.031302  \n...                       ...  \n2015-12-23           0.309864  \n2015-12-24           0.447279  \n2015-12-28           0.998491  \n2015-12-29           0.998680  \n2015-12-30           0.928800  \n\n[1005 rows x 14 columns]",
      "text/html": "<div>\n<style scoped>\n    .dataframe tbody tr th:only-of-type {\n        vertical-align: middle;\n    }\n\n    .dataframe tbody tr th {\n        vertical-align: top;\n    }\n\n    .dataframe thead th {\n        text-align: right;\n    }\n</style>\n<table border=\"1\" class=\"dataframe\">\n  <thead>\n    <tr style=\"text-align: right;\">\n      <th></th>\n      <th>ticker</th>\n      <th>open</th>\n      <th>high</th>\n      <th>low</th>\n      <th>close</th>\n      <th>openadj</th>\n      <th>highadj</th>\n      <th>lowadj</th>\n      <th>closeadj</th>\n      <th>volume</th>\n      <th>volume_delta2</th>\n      <th>ret_intraday</th>\n      <th>rank_volumedelta</th>\n      <th>rank_ret_intraday</th>\n    </tr>\n    <tr>\n      <th>date</th>\n      <th></th>\n      <th></th>\n      <th></th>\n      <th></th>\n      <th></th>\n      <th></th>\n      <th></th>\n      <th></th>\n      <th></th>\n      <th></th>\n      <th></th>\n      <th></th>\n      <th></th>\n      <th></th>\n    </tr>\n  </thead>\n  <tbody>\n    <tr>\n      <th>2012-01-03</th>\n      <td>ABAT</td>\n      <td>0.450</td>\n      <td>0.480</td>\n      <td>0.430</td>\n      <td>0.450</td>\n      <td>0.450</td>\n      <td>0.480</td>\n      <td>0.430</td>\n      <td>0.450</td>\n      <td>497400.0</td>\n      <td>NaN</td>\n      <td>0.000000</td>\n      <td>NaN</td>\n      <td>0.532129</td>\n    </tr>\n    <tr>\n      <th>2012-01-04</th>\n      <td>ABAT</td>\n      <td>0.430</td>\n      <td>0.460</td>\n      <td>0.420</td>\n      <td>0.460</td>\n      <td>0.430</td>\n      <td>0.460</td>\n      <td>0.420</td>\n      <td>0.460</td>\n      <td>508200.0</td>\n      <td>NaN</td>\n      <td>0.069767</td>\n      <td>NaN</td>\n      <td>0.967399</td>\n    </tr>\n    <tr>\n      <th>2012-01-05</th>\n      <td>ABAT</td>\n      <td>0.460</td>\n      <td>0.460</td>\n      <td>0.410</td>\n      <td>0.420</td>\n      <td>0.460</td>\n      <td>0.460</td>\n      <td>0.410</td>\n      <td>0.420</td>\n      <td>402400.0</td>\n      <td>-0.211948</td>\n      <td>-0.086957</td>\n      <td>0.471384</td>\n      <td>0.010248</td>\n    </tr>\n    <tr>\n      <th>2012-01-06</th>\n      <td>ABAT</td>\n      <td>0.440</td>\n      <td>0.440</td>\n      <td>0.410</td>\n      <td>0.420</td>\n      <td>0.440</td>\n      <td>0.440</td>\n      <td>0.410</td>\n      <td>0.420</td>\n      <td>351500.0</td>\n      <td>-0.368665</td>\n      <td>-0.045455</td>\n      <td>0.277972</td>\n      <td>0.033818</td>\n    </tr>\n    <tr>\n      <th>2012-01-09</th>\n      <td>ABAT</td>\n      <td>0.420</td>\n      <td>0.420</td>\n      <td>0.390</td>\n      <td>0.400</td>\n      <td>0.420</td>\n      <td>0.420</td>\n      <td>0.390</td>\n      <td>0.400</td>\n      <td>408600.0</td>\n      <td>0.015290</td>\n      <td>-0.047619</td>\n      <td>0.529583</td>\n      <td>0.031302</td>\n    </tr>\n    <tr>\n      <th>...</th>\n      <td>...</td>\n      <td>...</td>\n      <td>...</td>\n      <td>...</td>\n      <td>...</td>\n      <td>...</td>\n      <td>...</td>\n      <td>...</td>\n      <td>...</td>\n      <td>...</td>\n      <td>...</td>\n      <td>...</td>\n      <td>...</td>\n      <td>...</td>\n    </tr>\n    <tr>\n      <th>2015-12-23</th>\n      <td>ABAT</td>\n      <td>0.050</td>\n      <td>0.058</td>\n      <td>0.050</td>\n      <td>0.050</td>\n      <td>0.050</td>\n      <td>0.058</td>\n      <td>0.050</td>\n      <td>0.050</td>\n      <td>220720.0</td>\n      <td>0.935595</td>\n      <td>0.000000</td>\n      <td>0.914532</td>\n      <td>0.309864</td>\n    </tr>\n    <tr>\n      <th>2015-12-24</th>\n      <td>ABAT</td>\n      <td>0.050</td>\n      <td>0.050</td>\n      <td>0.050</td>\n      <td>0.050</td>\n      <td>0.050</td>\n      <td>0.050</td>\n      <td>0.050</td>\n      <td>0.050</td>\n      <td>14530.0</td>\n      <td>-0.717219</td>\n      <td>0.000000</td>\n      <td>0.612822</td>\n      <td>0.447279</td>\n    </tr>\n    <tr>\n      <th>2015-12-28</th>\n      <td>ABAT</td>\n      <td>0.031</td>\n      <td>0.050</td>\n      <td>0.031</td>\n      <td>0.042</td>\n      <td>0.031</td>\n      <td>0.050</td>\n      <td>0.031</td>\n      <td>0.042</td>\n      <td>151778.0</td>\n      <td>-0.374476</td>\n      <td>0.354839</td>\n      <td>0.340552</td>\n      <td>0.998491</td>\n    </tr>\n    <tr>\n      <th>2015-12-29</th>\n      <td>ABAT</td>\n      <td>0.030</td>\n      <td>0.047</td>\n      <td>0.030</td>\n      <td>0.044</td>\n      <td>0.030</td>\n      <td>0.047</td>\n      <td>0.030</td>\n      <td>0.044</td>\n      <td>46654.0</td>\n      <td>1.166543</td>\n      <td>0.466667</td>\n      <td>0.764433</td>\n      <td>0.998680</td>\n    </tr>\n    <tr>\n      <th>2015-12-30</th>\n      <td>ABAT</td>\n      <td>0.040</td>\n      <td>0.095</td>\n      <td>0.040</td>\n      <td>0.041</td>\n      <td>0.040</td>\n      <td>0.095</td>\n      <td>0.040</td>\n      <td>0.041</td>\n      <td>127683.0</td>\n      <td>-0.172868</td>\n      <td>0.025000</td>\n      <td>0.385101</td>\n      <td>0.928800</td>\n    </tr>\n  </tbody>\n</table>\n<p>1005 rows × 14 columns</p>\n</div>"
     },
     "execution_count": 19,
     "metadata": {},
     "output_type": "execute_result"
    }
   ],
   "source": [
    "dummy_hist[dummy_hist.ticker == 'ABAT']"
   ],
   "metadata": {
    "collapsed": false,
    "pycharm": {
     "name": "#%%\n"
    }
   }
  },
  {
   "cell_type": "code",
   "execution_count": 44,
   "outputs": [],
   "source": [
    "# stocks_hist['alpha'] = stocks_hist.groupby('date').tsargmax_withcond.rank(pct=True).values"
   ],
   "metadata": {
    "collapsed": false,
    "pycharm": {
     "name": "#%%\n"
    }
   }
  },
  {
   "cell_type": "code",
   "execution_count": 56,
   "outputs": [
    {
     "data": {
      "text/plain": "           ticker   open    high     low  close    openadj    highadj  \\\ndate                                                                    \n2012-01-03      A  35.84  36.990  35.740  36.48  23.651649  24.410561   \n2012-01-04      A  36.15  36.360  35.590  36.19  23.855604  23.994184   \n2012-01-05      A  35.88  37.320  35.720  37.00  23.677891  24.628174   \n2012-01-06      A  37.09  37.555  36.805  37.40  24.476425  24.783288   \n2012-01-09      A  37.62  38.420  37.472  38.38  24.826455  25.354397   \n...           ...    ...     ...     ...    ...        ...        ...   \n2013-03-11     ZZ   2.20   2.210   2.200   2.20   2.200000   2.210000   \n2013-03-12     ZZ   2.20   2.210   2.200   2.21   2.200000   2.210000   \n2013-03-13     ZZ   2.20   2.210   2.200   2.21   2.200000   2.210000   \n2013-03-14     ZZ   2.20   2.210   2.200   2.21   2.200000   2.210000   \n2013-03-15     ZZ   2.21   2.210   2.190   2.19   2.210000   2.210000   \n\n               lowadj  closeadj     volume       ret  retvol20  closeadj_sqr  \\\ndate                                                                           \n2012-01-03  23.585657    24.074  2973100.0       NaN       NaN    579.557476   \n2012-01-04  23.486056    23.882  3327500.0 -0.007975       NaN    570.349924   \n2012-01-05  23.572304    24.417  4894600.0  0.022402       NaN    596.189889   \n2012-01-06  24.288348    24.681  3370100.0  0.010812       NaN    609.151761   \n2012-01-09  24.728786    25.328  3168500.0  0.026214       NaN    641.507584   \n...               ...       ...        ...       ...       ...           ...   \n2013-03-11   2.200000     2.200   407100.0  0.000000  0.006292      4.840000   \n2013-03-12   2.200000     2.210   160000.0  0.004545  0.006356      4.884100   \n2013-03-13   2.200000     2.210   308900.0  0.000000  0.006291      4.884100   \n2013-03-14   2.200000     2.210   275000.0  0.000000  0.005875      4.884100   \n2013-03-15   2.190000     2.190  1518200.0 -0.009050  0.006284      4.796100   \n\n            closeadj_argmax  retvol20_sqr  retvol20_argmax  tsargmax_withcond  \\\ndate                                                                            \n2012-01-03              NaN           NaN              NaN                NaN   \n2012-01-04              NaN           NaN              NaN                NaN   \n2012-01-05              NaN           NaN              NaN                NaN   \n2012-01-06              NaN           NaN              NaN                NaN   \n2012-01-09              4.0           NaN              NaN                NaN   \n...                     ...           ...              ...                ...   \n2013-03-11              3.0      0.000040              3.0                4.0   \n2013-03-12              4.0      0.000040              2.0                5.0   \n2013-03-13              3.0      0.000040              1.0                4.0   \n2013-03-14              2.0      0.000035              0.0                3.0   \n2013-03-15              1.0      0.000039              1.0                2.0   \n\n            alpha  \ndate               \n2012-01-03    NaN  \n2012-01-04    NaN  \n2012-01-05    NaN  \n2012-01-06    NaN  \n2012-01-09    NaN  \n...           ...  \n2013-03-11    0.8  \n2013-03-12    1.0  \n2013-03-13    0.8  \n2013-03-14    0.6  \n2013-03-15    0.4  \n\n[13800245 rows x 18 columns]",
      "text/html": "<div>\n<style scoped>\n    .dataframe tbody tr th:only-of-type {\n        vertical-align: middle;\n    }\n\n    .dataframe tbody tr th {\n        vertical-align: top;\n    }\n\n    .dataframe thead th {\n        text-align: right;\n    }\n</style>\n<table border=\"1\" class=\"dataframe\">\n  <thead>\n    <tr style=\"text-align: right;\">\n      <th></th>\n      <th>ticker</th>\n      <th>open</th>\n      <th>high</th>\n      <th>low</th>\n      <th>close</th>\n      <th>openadj</th>\n      <th>highadj</th>\n      <th>lowadj</th>\n      <th>closeadj</th>\n      <th>volume</th>\n      <th>ret</th>\n      <th>retvol20</th>\n      <th>closeadj_sqr</th>\n      <th>closeadj_argmax</th>\n      <th>retvol20_sqr</th>\n      <th>retvol20_argmax</th>\n      <th>tsargmax_withcond</th>\n      <th>alpha</th>\n    </tr>\n    <tr>\n      <th>date</th>\n      <th></th>\n      <th></th>\n      <th></th>\n      <th></th>\n      <th></th>\n      <th></th>\n      <th></th>\n      <th></th>\n      <th></th>\n      <th></th>\n      <th></th>\n      <th></th>\n      <th></th>\n      <th></th>\n      <th></th>\n      <th></th>\n      <th></th>\n      <th></th>\n    </tr>\n  </thead>\n  <tbody>\n    <tr>\n      <th>2012-01-03</th>\n      <td>A</td>\n      <td>35.84</td>\n      <td>36.990</td>\n      <td>35.740</td>\n      <td>36.48</td>\n      <td>23.651649</td>\n      <td>24.410561</td>\n      <td>23.585657</td>\n      <td>24.074</td>\n      <td>2973100.0</td>\n      <td>NaN</td>\n      <td>NaN</td>\n      <td>579.557476</td>\n      <td>NaN</td>\n      <td>NaN</td>\n      <td>NaN</td>\n      <td>NaN</td>\n      <td>NaN</td>\n    </tr>\n    <tr>\n      <th>2012-01-04</th>\n      <td>A</td>\n      <td>36.15</td>\n      <td>36.360</td>\n      <td>35.590</td>\n      <td>36.19</td>\n      <td>23.855604</td>\n      <td>23.994184</td>\n      <td>23.486056</td>\n      <td>23.882</td>\n      <td>3327500.0</td>\n      <td>-0.007975</td>\n      <td>NaN</td>\n      <td>570.349924</td>\n      <td>NaN</td>\n      <td>NaN</td>\n      <td>NaN</td>\n      <td>NaN</td>\n      <td>NaN</td>\n    </tr>\n    <tr>\n      <th>2012-01-05</th>\n      <td>A</td>\n      <td>35.88</td>\n      <td>37.320</td>\n      <td>35.720</td>\n      <td>37.00</td>\n      <td>23.677891</td>\n      <td>24.628174</td>\n      <td>23.572304</td>\n      <td>24.417</td>\n      <td>4894600.0</td>\n      <td>0.022402</td>\n      <td>NaN</td>\n      <td>596.189889</td>\n      <td>NaN</td>\n      <td>NaN</td>\n      <td>NaN</td>\n      <td>NaN</td>\n      <td>NaN</td>\n    </tr>\n    <tr>\n      <th>2012-01-06</th>\n      <td>A</td>\n      <td>37.09</td>\n      <td>37.555</td>\n      <td>36.805</td>\n      <td>37.40</td>\n      <td>24.476425</td>\n      <td>24.783288</td>\n      <td>24.288348</td>\n      <td>24.681</td>\n      <td>3370100.0</td>\n      <td>0.010812</td>\n      <td>NaN</td>\n      <td>609.151761</td>\n      <td>NaN</td>\n      <td>NaN</td>\n      <td>NaN</td>\n      <td>NaN</td>\n      <td>NaN</td>\n    </tr>\n    <tr>\n      <th>2012-01-09</th>\n      <td>A</td>\n      <td>37.62</td>\n      <td>38.420</td>\n      <td>37.472</td>\n      <td>38.38</td>\n      <td>24.826455</td>\n      <td>25.354397</td>\n      <td>24.728786</td>\n      <td>25.328</td>\n      <td>3168500.0</td>\n      <td>0.026214</td>\n      <td>NaN</td>\n      <td>641.507584</td>\n      <td>4.0</td>\n      <td>NaN</td>\n      <td>NaN</td>\n      <td>NaN</td>\n      <td>NaN</td>\n    </tr>\n    <tr>\n      <th>...</th>\n      <td>...</td>\n      <td>...</td>\n      <td>...</td>\n      <td>...</td>\n      <td>...</td>\n      <td>...</td>\n      <td>...</td>\n      <td>...</td>\n      <td>...</td>\n      <td>...</td>\n      <td>...</td>\n      <td>...</td>\n      <td>...</td>\n      <td>...</td>\n      <td>...</td>\n      <td>...</td>\n      <td>...</td>\n      <td>...</td>\n    </tr>\n    <tr>\n      <th>2013-03-11</th>\n      <td>ZZ</td>\n      <td>2.20</td>\n      <td>2.210</td>\n      <td>2.200</td>\n      <td>2.20</td>\n      <td>2.200000</td>\n      <td>2.210000</td>\n      <td>2.200000</td>\n      <td>2.200</td>\n      <td>407100.0</td>\n      <td>0.000000</td>\n      <td>0.006292</td>\n      <td>4.840000</td>\n      <td>3.0</td>\n      <td>0.000040</td>\n      <td>3.0</td>\n      <td>4.0</td>\n      <td>0.8</td>\n    </tr>\n    <tr>\n      <th>2013-03-12</th>\n      <td>ZZ</td>\n      <td>2.20</td>\n      <td>2.210</td>\n      <td>2.200</td>\n      <td>2.21</td>\n      <td>2.200000</td>\n      <td>2.210000</td>\n      <td>2.200000</td>\n      <td>2.210</td>\n      <td>160000.0</td>\n      <td>0.004545</td>\n      <td>0.006356</td>\n      <td>4.884100</td>\n      <td>4.0</td>\n      <td>0.000040</td>\n      <td>2.0</td>\n      <td>5.0</td>\n      <td>1.0</td>\n    </tr>\n    <tr>\n      <th>2013-03-13</th>\n      <td>ZZ</td>\n      <td>2.20</td>\n      <td>2.210</td>\n      <td>2.200</td>\n      <td>2.21</td>\n      <td>2.200000</td>\n      <td>2.210000</td>\n      <td>2.200000</td>\n      <td>2.210</td>\n      <td>308900.0</td>\n      <td>0.000000</td>\n      <td>0.006291</td>\n      <td>4.884100</td>\n      <td>3.0</td>\n      <td>0.000040</td>\n      <td>1.0</td>\n      <td>4.0</td>\n      <td>0.8</td>\n    </tr>\n    <tr>\n      <th>2013-03-14</th>\n      <td>ZZ</td>\n      <td>2.20</td>\n      <td>2.210</td>\n      <td>2.200</td>\n      <td>2.21</td>\n      <td>2.200000</td>\n      <td>2.210000</td>\n      <td>2.200000</td>\n      <td>2.210</td>\n      <td>275000.0</td>\n      <td>0.000000</td>\n      <td>0.005875</td>\n      <td>4.884100</td>\n      <td>2.0</td>\n      <td>0.000035</td>\n      <td>0.0</td>\n      <td>3.0</td>\n      <td>0.6</td>\n    </tr>\n    <tr>\n      <th>2013-03-15</th>\n      <td>ZZ</td>\n      <td>2.21</td>\n      <td>2.210</td>\n      <td>2.190</td>\n      <td>2.19</td>\n      <td>2.210000</td>\n      <td>2.210000</td>\n      <td>2.190000</td>\n      <td>2.190</td>\n      <td>1518200.0</td>\n      <td>-0.009050</td>\n      <td>0.006284</td>\n      <td>4.796100</td>\n      <td>1.0</td>\n      <td>0.000039</td>\n      <td>1.0</td>\n      <td>2.0</td>\n      <td>0.4</td>\n    </tr>\n  </tbody>\n</table>\n<p>13800245 rows × 18 columns</p>\n</div>"
     },
     "execution_count": 56,
     "metadata": {},
     "output_type": "execute_result"
    }
   ],
   "source": [
    "stocks_hist"
   ],
   "metadata": {
    "collapsed": false,
    "pycharm": {
     "name": "#%%\n"
    }
   }
  },
  {
   "cell_type": "code",
   "execution_count": 27,
   "outputs": [
    {
     "name": "stdout",
     "output_type": "stream",
     "text": [
      "Total time: 18.187129259109497 sec\n"
     ]
    }
   ],
   "source": [
    "s_time_chunk = time.time()\n",
    "stocks_hist['closeadj_argmax'] = stocks_hist.groupby('ticker').closeadj.rolling(5).apply(np.argmax, engine='cython', raw=True).values\n",
    "e_time_chunk = time.time()\n",
    "\n",
    "print(f\"Total time: {e_time_chunk - s_time_chunk} sec\")"
   ],
   "metadata": {
    "collapsed": false,
    "pycharm": {
     "name": "#%%\n"
    }
   }
  },
  {
   "cell_type": "code",
   "execution_count": 28,
   "outputs": [
    {
     "data": {
      "text/plain": "           ticker   open    high     low  close    openadj    highadj  \\\ndate                                                                    \n2012-01-03      A  35.84  36.990  35.740  36.48  23.651649  24.410561   \n2012-01-04      A  36.15  36.360  35.590  36.19  23.855604  23.994184   \n2012-01-05      A  35.88  37.320  35.720  37.00  23.677891  24.628174   \n2012-01-06      A  37.09  37.555  36.805  37.40  24.476425  24.783288   \n2012-01-09      A  37.62  38.420  37.472  38.38  24.826455  25.354397   \n...           ...    ...     ...     ...    ...        ...        ...   \n2013-03-11     ZZ   2.20   2.210   2.200   2.20   2.200000   2.210000   \n2013-03-12     ZZ   2.20   2.210   2.200   2.21   2.200000   2.210000   \n2013-03-13     ZZ   2.20   2.210   2.200   2.21   2.200000   2.210000   \n2013-03-14     ZZ   2.20   2.210   2.200   2.21   2.200000   2.210000   \n2013-03-15     ZZ   2.21   2.210   2.190   2.19   2.210000   2.210000   \n\n               lowadj  closeadj     volume       ret  retvol20       op1  op2  \ndate                                                                           \n2012-01-03  23.585657    24.074  2973100.0       NaN       NaN       NaN  NaN  \n2012-01-04  23.486056    23.882  3327500.0 -0.007975       NaN       NaN  NaN  \n2012-01-05  23.572304    24.417  4894600.0  0.022402       NaN       NaN  NaN  \n2012-01-06  24.288348    24.681  3370100.0  0.010812       NaN       NaN  NaN  \n2012-01-09  24.728786    25.328  3168500.0  0.026214       NaN       NaN  NaN  \n...               ...       ...        ...       ...       ...       ...  ...  \n2013-03-11   2.200000     2.200   407100.0  0.000000  0.006292  4.840000  3.0  \n2013-03-12   2.200000     2.210   160000.0  0.004545  0.006356  4.884100  4.0  \n2013-03-13   2.200000     2.210   308900.0  0.000000  0.006291  4.884100  3.0  \n2013-03-14   2.200000     2.210   275000.0  0.000000  0.005875  4.884100  2.0  \n2013-03-15   2.190000     2.190  1518200.0 -0.009050  0.006284  0.000039  1.0  \n\n[13800245 rows x 14 columns]",
      "text/html": "<div>\n<style scoped>\n    .dataframe tbody tr th:only-of-type {\n        vertical-align: middle;\n    }\n\n    .dataframe tbody tr th {\n        vertical-align: top;\n    }\n\n    .dataframe thead th {\n        text-align: right;\n    }\n</style>\n<table border=\"1\" class=\"dataframe\">\n  <thead>\n    <tr style=\"text-align: right;\">\n      <th></th>\n      <th>ticker</th>\n      <th>open</th>\n      <th>high</th>\n      <th>low</th>\n      <th>close</th>\n      <th>openadj</th>\n      <th>highadj</th>\n      <th>lowadj</th>\n      <th>closeadj</th>\n      <th>volume</th>\n      <th>ret</th>\n      <th>retvol20</th>\n      <th>op1</th>\n      <th>op2</th>\n    </tr>\n    <tr>\n      <th>date</th>\n      <th></th>\n      <th></th>\n      <th></th>\n      <th></th>\n      <th></th>\n      <th></th>\n      <th></th>\n      <th></th>\n      <th></th>\n      <th></th>\n      <th></th>\n      <th></th>\n      <th></th>\n      <th></th>\n    </tr>\n  </thead>\n  <tbody>\n    <tr>\n      <th>2012-01-03</th>\n      <td>A</td>\n      <td>35.84</td>\n      <td>36.990</td>\n      <td>35.740</td>\n      <td>36.48</td>\n      <td>23.651649</td>\n      <td>24.410561</td>\n      <td>23.585657</td>\n      <td>24.074</td>\n      <td>2973100.0</td>\n      <td>NaN</td>\n      <td>NaN</td>\n      <td>NaN</td>\n      <td>NaN</td>\n    </tr>\n    <tr>\n      <th>2012-01-04</th>\n      <td>A</td>\n      <td>36.15</td>\n      <td>36.360</td>\n      <td>35.590</td>\n      <td>36.19</td>\n      <td>23.855604</td>\n      <td>23.994184</td>\n      <td>23.486056</td>\n      <td>23.882</td>\n      <td>3327500.0</td>\n      <td>-0.007975</td>\n      <td>NaN</td>\n      <td>NaN</td>\n      <td>NaN</td>\n    </tr>\n    <tr>\n      <th>2012-01-05</th>\n      <td>A</td>\n      <td>35.88</td>\n      <td>37.320</td>\n      <td>35.720</td>\n      <td>37.00</td>\n      <td>23.677891</td>\n      <td>24.628174</td>\n      <td>23.572304</td>\n      <td>24.417</td>\n      <td>4894600.0</td>\n      <td>0.022402</td>\n      <td>NaN</td>\n      <td>NaN</td>\n      <td>NaN</td>\n    </tr>\n    <tr>\n      <th>2012-01-06</th>\n      <td>A</td>\n      <td>37.09</td>\n      <td>37.555</td>\n      <td>36.805</td>\n      <td>37.40</td>\n      <td>24.476425</td>\n      <td>24.783288</td>\n      <td>24.288348</td>\n      <td>24.681</td>\n      <td>3370100.0</td>\n      <td>0.010812</td>\n      <td>NaN</td>\n      <td>NaN</td>\n      <td>NaN</td>\n    </tr>\n    <tr>\n      <th>2012-01-09</th>\n      <td>A</td>\n      <td>37.62</td>\n      <td>38.420</td>\n      <td>37.472</td>\n      <td>38.38</td>\n      <td>24.826455</td>\n      <td>25.354397</td>\n      <td>24.728786</td>\n      <td>25.328</td>\n      <td>3168500.0</td>\n      <td>0.026214</td>\n      <td>NaN</td>\n      <td>NaN</td>\n      <td>NaN</td>\n    </tr>\n    <tr>\n      <th>...</th>\n      <td>...</td>\n      <td>...</td>\n      <td>...</td>\n      <td>...</td>\n      <td>...</td>\n      <td>...</td>\n      <td>...</td>\n      <td>...</td>\n      <td>...</td>\n      <td>...</td>\n      <td>...</td>\n      <td>...</td>\n      <td>...</td>\n      <td>...</td>\n    </tr>\n    <tr>\n      <th>2013-03-11</th>\n      <td>ZZ</td>\n      <td>2.20</td>\n      <td>2.210</td>\n      <td>2.200</td>\n      <td>2.20</td>\n      <td>2.200000</td>\n      <td>2.210000</td>\n      <td>2.200000</td>\n      <td>2.200</td>\n      <td>407100.0</td>\n      <td>0.000000</td>\n      <td>0.006292</td>\n      <td>4.840000</td>\n      <td>3.0</td>\n    </tr>\n    <tr>\n      <th>2013-03-12</th>\n      <td>ZZ</td>\n      <td>2.20</td>\n      <td>2.210</td>\n      <td>2.200</td>\n      <td>2.21</td>\n      <td>2.200000</td>\n      <td>2.210000</td>\n      <td>2.200000</td>\n      <td>2.210</td>\n      <td>160000.0</td>\n      <td>0.004545</td>\n      <td>0.006356</td>\n      <td>4.884100</td>\n      <td>4.0</td>\n    </tr>\n    <tr>\n      <th>2013-03-13</th>\n      <td>ZZ</td>\n      <td>2.20</td>\n      <td>2.210</td>\n      <td>2.200</td>\n      <td>2.21</td>\n      <td>2.200000</td>\n      <td>2.210000</td>\n      <td>2.200000</td>\n      <td>2.210</td>\n      <td>308900.0</td>\n      <td>0.000000</td>\n      <td>0.006291</td>\n      <td>4.884100</td>\n      <td>3.0</td>\n    </tr>\n    <tr>\n      <th>2013-03-14</th>\n      <td>ZZ</td>\n      <td>2.20</td>\n      <td>2.210</td>\n      <td>2.200</td>\n      <td>2.21</td>\n      <td>2.200000</td>\n      <td>2.210000</td>\n      <td>2.200000</td>\n      <td>2.210</td>\n      <td>275000.0</td>\n      <td>0.000000</td>\n      <td>0.005875</td>\n      <td>4.884100</td>\n      <td>2.0</td>\n    </tr>\n    <tr>\n      <th>2013-03-15</th>\n      <td>ZZ</td>\n      <td>2.21</td>\n      <td>2.210</td>\n      <td>2.190</td>\n      <td>2.19</td>\n      <td>2.210000</td>\n      <td>2.210000</td>\n      <td>2.190000</td>\n      <td>2.190</td>\n      <td>1518200.0</td>\n      <td>-0.009050</td>\n      <td>0.006284</td>\n      <td>0.000039</td>\n      <td>1.0</td>\n    </tr>\n  </tbody>\n</table>\n<p>13800245 rows × 14 columns</p>\n</div>"
     },
     "execution_count": 28,
     "metadata": {},
     "output_type": "execute_result"
    }
   ],
   "source": [
    "stocks_hist"
   ],
   "metadata": {
    "collapsed": false,
    "pycharm": {
     "name": "#%%\n"
    }
   }
  },
  {
   "cell_type": "code",
   "execution_count": null,
   "outputs": [],
   "source": [],
   "metadata": {
    "collapsed": false,
    "pycharm": {
     "name": "#%%\n"
    }
   }
  }
 ],
 "metadata": {
  "kernelspec": {
   "display_name": "Python 3",
   "language": "python",
   "name": "python3"
  },
  "language_info": {
   "codemirror_mode": {
    "name": "ipython",
    "version": 2
   },
   "file_extension": ".py",
   "mimetype": "text/x-python",
   "name": "python",
   "nbconvert_exporter": "python",
   "pygments_lexer": "ipython2",
   "version": "2.7.6"
  }
 },
 "nbformat": 4,
 "nbformat_minor": 0
}