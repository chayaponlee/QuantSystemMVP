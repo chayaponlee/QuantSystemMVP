{
 "cells": [
  {
   "cell_type": "code",
   "execution_count": 6,
   "metadata": {
    "collapsed": true
   },
   "outputs": [],
   "source": [
    "import pandas as pd\n",
    "import nasdaqdatalink as ndl\n",
    "import json\n",
    "import numpy as np\n",
    "from typing import List, Callable, Dict\n",
    "from realgam.quantlib import general_utils as gu\n",
    "from realgam.quantlib.engineer.op_engineer_vect import OpEngineerV\n",
    "from realgam.quantlib.engineer.ta_engineer_vect import TalibEngineerV\n",
    "from realgam.quantlib.engineer.alpha_engineer_vect import AlphaEngineerV\n",
    "from realgam.quantlib.engineer.test_no_class import alpha001, ts_ret\n",
    "import talib\n",
    "from joblib import Parallel, delayed\n",
    "import datetime\n",
    "import os\n",
    "import time\n",
    "PROJECT_PATH = os.getenv('QuantSystemMVP')\n",
    "DATA_PATH = f'{PROJECT_PATH}/Data/stock_hist_perma.obj'\n",
    "ENG_PATH = f'{PROJECT_PATH}/Data/test_alpha_2022-03-28.obj'\n",
    "NDL_CONFIG_PATH = f'{PROJECT_PATH}/realgam/quantlib/nasdaq_dl_config.json'\n",
    "NDL_CONFIG = json.load(open(NDL_CONFIG_PATH))"
   ]
  },
  {
   "cell_type": "code",
   "execution_count": 8,
   "outputs": [],
   "source": [
    "eng = gu.load_file(ENG_PATH)\n",
    "oe = OpEngineerV(eng)"
   ],
   "metadata": {
    "collapsed": false,
    "pycharm": {
     "name": "#%%\n"
    }
   }
  },
  {
   "cell_type": "code",
   "execution_count": 9,
   "outputs": [
    {
     "data": {
      "text/plain": "permaticker  date      \n101501       2012-01-03         0.0\n104304       2012-01-03         0.0\n104668       2012-01-03       460.0\n104825       2012-01-03         0.0\n105088       2012-01-03         0.0\n                             ...   \n638355       2022-03-18    230311.0\n638356       2022-03-18     47976.0\n638366       2022-03-18    242723.0\n638371       2022-03-18     44602.0\n638372       2022-03-18    551049.0\nLength: 11981064, dtype: float64"
     },
     "execution_count": 9,
     "metadata": {},
     "output_type": "execute_result"
    }
   ],
   "source": [
    "oe.ts_lag('volume', -6)"
   ],
   "metadata": {
    "collapsed": false,
    "pycharm": {
     "name": "#%%\n"
    }
   }
  },
  {
   "cell_type": "code",
   "execution_count": 10,
   "outputs": [],
   "source": [
    "oe.ts_retn('closeadj', 6, inplace=True)\n",
    "eng['ret6_fwd'] = oe.ts_lag('ts_retn6_closeadj', -6)"
   ],
   "metadata": {
    "collapsed": false,
    "pycharm": {
     "name": "#%%\n"
    }
   }
  },
  {
   "cell_type": "code",
   "execution_count": null,
   "outputs": [],
   "source": [
    "eng['ret6'] = eng.ret6.shift(-6)"
   ],
   "metadata": {
    "collapsed": false,
    "pycharm": {
     "name": "#%%\n"
    }
   }
  },
  {
   "cell_type": "code",
   "execution_count": 18,
   "outputs": [],
   "source": [
    "tae = TalibEngineerV(eng)\n",
    "eng['adv20'] = tae.adv(20)"
   ],
   "metadata": {
    "collapsed": false,
    "pycharm": {
     "name": "#%%\n"
    }
   }
  },
  {
   "cell_type": "code",
   "execution_count": 22,
   "outputs": [],
   "source": [
    "oe.set_df(eng)\n",
    "eng['cs_rank_adv20'] = oe.cs_rank('adv20')"
   ],
   "metadata": {
    "collapsed": false,
    "pycharm": {
     "name": "#%%\n"
    }
   }
  },
  {
   "cell_type": "code",
   "execution_count": 25,
   "outputs": [
    {
     "data": {
      "text/plain": "                       ticker   open   high     low  close  openadj  highadj  \\\npermaticker date                                                               \n104612      2022-01-10   APCX   2.25   2.25   1.710   1.89     2.25     2.25   \n            2022-01-11   APCX   1.89   2.18   1.791   2.15     1.89     2.18   \n            2022-01-12   APCX   2.05   2.39   1.990   2.24     2.05     2.39   \n            2022-01-13   APCX   2.17   2.23   2.030   2.08     2.17     2.23   \n            2022-01-14   APCX   2.05   2.41   2.050   2.22     2.05     2.41   \n...                       ...    ...    ...     ...    ...      ...      ...   \n638186      2022-03-23  CLINU  10.02  10.02  10.020  10.02    10.02    10.02   \n638201      2022-03-24  GSRMU  10.25  10.25  10.080  10.08    10.25    10.25   \n            2022-03-25  GSRMU  10.23  10.46  10.070  10.10    10.23    10.46   \n638202      2022-03-24  FGMCU  10.03  10.03  10.030  10.03    10.03    10.03   \n638234      2022-03-28   ZIMV  22.95  23.37  22.340  22.69    22.95    23.37   \n\n                        lowadj  closeadj    volume    alpha1    alpha2  \\\npermaticker date                                                         \n104612      2022-01-10   1.710      1.89  563129.0 -0.236569 -0.371428   \n            2022-01-11   1.791      2.15  135640.0 -0.111537  0.306276   \n            2022-01-12   1.990      2.24  121699.0 -0.058054  0.500763   \n            2022-01-13   2.030      2.08   64704.0 -0.346554  0.367854   \n            2022-01-14   2.050      2.22  136409.0 -0.277474 -0.389261   \n...                        ...       ...       ...       ...       ...   \n638186      2022-03-23  10.020     10.02  650020.0       NaN -0.376691   \n638201      2022-03-24  10.080     10.08   15559.0       NaN  0.078507   \n            2022-03-25  10.070     10.10   21842.0       NaN  0.322677   \n638202      2022-03-24  10.030     10.03       0.0       NaN  0.436663   \n638234      2022-03-28  22.340     22.69  201997.0       NaN  0.212196   \n\n                          alpha3  alpha4    alpha5    alpha6  alpha7  \\\npermaticker date                                                       \n104612      2022-01-10 -0.963897    -5.0 -0.119659 -0.896131   -55.0   \n            2022-01-11 -0.959182    -5.0 -0.523857 -0.884942    -1.0   \n            2022-01-12 -0.964285    -6.0 -0.640489 -0.859963    -1.0   \n            2022-01-13 -0.936529    -6.0 -0.340535 -0.819221    -1.0   \n            2022-01-14 -0.930440    -6.0 -0.312737 -0.843895    -1.0   \n...                          ...     ...       ...       ...     ...   \n638186      2022-03-23 -0.200541    -6.0 -0.244275 -0.583565     NaN   \n638201      2022-03-24  0.407207    -5.0 -0.069187  0.505003     NaN   \n            2022-03-25  0.458525    -1.0 -0.110239  0.624941     NaN   \n638202      2022-03-24  0.116799    -2.0 -0.138332  0.711221     NaN   \n638234      2022-03-28  0.104760    -1.0 -0.010337  0.500824     NaN   \n\n                        ret6_fwd       adv20  cs_rank_adv20  \npermaticker date                                             \n104612      2022-01-10  0.158730   184505.90         2575.0  \n            2022-01-11 -0.072093   191152.90         2625.0  \n            2022-01-12 -0.138393   196837.85         2662.0  \n            2022-01-13 -0.134615   199983.05         2713.0  \n            2022-01-14 -0.238739   206573.50         2763.0  \n...                          ...         ...            ...  \n638186      2022-03-23       NaN  1256371.60         4592.0  \n638201      2022-03-24       NaN   941733.80         4295.0  \n            2022-03-25       NaN   225554.95         2586.0  \n638202      2022-03-24       NaN   165475.90         2528.0  \n638234      2022-03-28       NaN  1078956.30         4137.0  \n\n[5446210 rows x 20 columns]",
      "text/html": "<div>\n<style scoped>\n    .dataframe tbody tr th:only-of-type {\n        vertical-align: middle;\n    }\n\n    .dataframe tbody tr th {\n        vertical-align: top;\n    }\n\n    .dataframe thead th {\n        text-align: right;\n    }\n</style>\n<table border=\"1\" class=\"dataframe\">\n  <thead>\n    <tr style=\"text-align: right;\">\n      <th></th>\n      <th></th>\n      <th>ticker</th>\n      <th>open</th>\n      <th>high</th>\n      <th>low</th>\n      <th>close</th>\n      <th>openadj</th>\n      <th>highadj</th>\n      <th>lowadj</th>\n      <th>closeadj</th>\n      <th>volume</th>\n      <th>alpha1</th>\n      <th>alpha2</th>\n      <th>alpha3</th>\n      <th>alpha4</th>\n      <th>alpha5</th>\n      <th>alpha6</th>\n      <th>alpha7</th>\n      <th>ret6_fwd</th>\n      <th>adv20</th>\n      <th>cs_rank_adv20</th>\n    </tr>\n    <tr>\n      <th>permaticker</th>\n      <th>date</th>\n      <th></th>\n      <th></th>\n      <th></th>\n      <th></th>\n      <th></th>\n      <th></th>\n      <th></th>\n      <th></th>\n      <th></th>\n      <th></th>\n      <th></th>\n      <th></th>\n      <th></th>\n      <th></th>\n      <th></th>\n      <th></th>\n      <th></th>\n      <th></th>\n      <th></th>\n      <th></th>\n    </tr>\n  </thead>\n  <tbody>\n    <tr>\n      <th rowspan=\"5\" valign=\"top\">104612</th>\n      <th>2022-01-10</th>\n      <td>APCX</td>\n      <td>2.25</td>\n      <td>2.25</td>\n      <td>1.710</td>\n      <td>1.89</td>\n      <td>2.25</td>\n      <td>2.25</td>\n      <td>1.710</td>\n      <td>1.89</td>\n      <td>563129.0</td>\n      <td>-0.236569</td>\n      <td>-0.371428</td>\n      <td>-0.963897</td>\n      <td>-5.0</td>\n      <td>-0.119659</td>\n      <td>-0.896131</td>\n      <td>-55.0</td>\n      <td>0.158730</td>\n      <td>184505.90</td>\n      <td>2575.0</td>\n    </tr>\n    <tr>\n      <th>2022-01-11</th>\n      <td>APCX</td>\n      <td>1.89</td>\n      <td>2.18</td>\n      <td>1.791</td>\n      <td>2.15</td>\n      <td>1.89</td>\n      <td>2.18</td>\n      <td>1.791</td>\n      <td>2.15</td>\n      <td>135640.0</td>\n      <td>-0.111537</td>\n      <td>0.306276</td>\n      <td>-0.959182</td>\n      <td>-5.0</td>\n      <td>-0.523857</td>\n      <td>-0.884942</td>\n      <td>-1.0</td>\n      <td>-0.072093</td>\n      <td>191152.90</td>\n      <td>2625.0</td>\n    </tr>\n    <tr>\n      <th>2022-01-12</th>\n      <td>APCX</td>\n      <td>2.05</td>\n      <td>2.39</td>\n      <td>1.990</td>\n      <td>2.24</td>\n      <td>2.05</td>\n      <td>2.39</td>\n      <td>1.990</td>\n      <td>2.24</td>\n      <td>121699.0</td>\n      <td>-0.058054</td>\n      <td>0.500763</td>\n      <td>-0.964285</td>\n      <td>-6.0</td>\n      <td>-0.640489</td>\n      <td>-0.859963</td>\n      <td>-1.0</td>\n      <td>-0.138393</td>\n      <td>196837.85</td>\n      <td>2662.0</td>\n    </tr>\n    <tr>\n      <th>2022-01-13</th>\n      <td>APCX</td>\n      <td>2.17</td>\n      <td>2.23</td>\n      <td>2.030</td>\n      <td>2.08</td>\n      <td>2.17</td>\n      <td>2.23</td>\n      <td>2.030</td>\n      <td>2.08</td>\n      <td>64704.0</td>\n      <td>-0.346554</td>\n      <td>0.367854</td>\n      <td>-0.936529</td>\n      <td>-6.0</td>\n      <td>-0.340535</td>\n      <td>-0.819221</td>\n      <td>-1.0</td>\n      <td>-0.134615</td>\n      <td>199983.05</td>\n      <td>2713.0</td>\n    </tr>\n    <tr>\n      <th>2022-01-14</th>\n      <td>APCX</td>\n      <td>2.05</td>\n      <td>2.41</td>\n      <td>2.050</td>\n      <td>2.22</td>\n      <td>2.05</td>\n      <td>2.41</td>\n      <td>2.050</td>\n      <td>2.22</td>\n      <td>136409.0</td>\n      <td>-0.277474</td>\n      <td>-0.389261</td>\n      <td>-0.930440</td>\n      <td>-6.0</td>\n      <td>-0.312737</td>\n      <td>-0.843895</td>\n      <td>-1.0</td>\n      <td>-0.238739</td>\n      <td>206573.50</td>\n      <td>2763.0</td>\n    </tr>\n    <tr>\n      <th>...</th>\n      <th>...</th>\n      <td>...</td>\n      <td>...</td>\n      <td>...</td>\n      <td>...</td>\n      <td>...</td>\n      <td>...</td>\n      <td>...</td>\n      <td>...</td>\n      <td>...</td>\n      <td>...</td>\n      <td>...</td>\n      <td>...</td>\n      <td>...</td>\n      <td>...</td>\n      <td>...</td>\n      <td>...</td>\n      <td>...</td>\n      <td>...</td>\n      <td>...</td>\n      <td>...</td>\n    </tr>\n    <tr>\n      <th>638186</th>\n      <th>2022-03-23</th>\n      <td>CLINU</td>\n      <td>10.02</td>\n      <td>10.02</td>\n      <td>10.020</td>\n      <td>10.02</td>\n      <td>10.02</td>\n      <td>10.02</td>\n      <td>10.020</td>\n      <td>10.02</td>\n      <td>650020.0</td>\n      <td>NaN</td>\n      <td>-0.376691</td>\n      <td>-0.200541</td>\n      <td>-6.0</td>\n      <td>-0.244275</td>\n      <td>-0.583565</td>\n      <td>NaN</td>\n      <td>NaN</td>\n      <td>1256371.60</td>\n      <td>4592.0</td>\n    </tr>\n    <tr>\n      <th rowspan=\"2\" valign=\"top\">638201</th>\n      <th>2022-03-24</th>\n      <td>GSRMU</td>\n      <td>10.25</td>\n      <td>10.25</td>\n      <td>10.080</td>\n      <td>10.08</td>\n      <td>10.25</td>\n      <td>10.25</td>\n      <td>10.080</td>\n      <td>10.08</td>\n      <td>15559.0</td>\n      <td>NaN</td>\n      <td>0.078507</td>\n      <td>0.407207</td>\n      <td>-5.0</td>\n      <td>-0.069187</td>\n      <td>0.505003</td>\n      <td>NaN</td>\n      <td>NaN</td>\n      <td>941733.80</td>\n      <td>4295.0</td>\n    </tr>\n    <tr>\n      <th>2022-03-25</th>\n      <td>GSRMU</td>\n      <td>10.23</td>\n      <td>10.46</td>\n      <td>10.070</td>\n      <td>10.10</td>\n      <td>10.23</td>\n      <td>10.46</td>\n      <td>10.070</td>\n      <td>10.10</td>\n      <td>21842.0</td>\n      <td>NaN</td>\n      <td>0.322677</td>\n      <td>0.458525</td>\n      <td>-1.0</td>\n      <td>-0.110239</td>\n      <td>0.624941</td>\n      <td>NaN</td>\n      <td>NaN</td>\n      <td>225554.95</td>\n      <td>2586.0</td>\n    </tr>\n    <tr>\n      <th>638202</th>\n      <th>2022-03-24</th>\n      <td>FGMCU</td>\n      <td>10.03</td>\n      <td>10.03</td>\n      <td>10.030</td>\n      <td>10.03</td>\n      <td>10.03</td>\n      <td>10.03</td>\n      <td>10.030</td>\n      <td>10.03</td>\n      <td>0.0</td>\n      <td>NaN</td>\n      <td>0.436663</td>\n      <td>0.116799</td>\n      <td>-2.0</td>\n      <td>-0.138332</td>\n      <td>0.711221</td>\n      <td>NaN</td>\n      <td>NaN</td>\n      <td>165475.90</td>\n      <td>2528.0</td>\n    </tr>\n    <tr>\n      <th>638234</th>\n      <th>2022-03-28</th>\n      <td>ZIMV</td>\n      <td>22.95</td>\n      <td>23.37</td>\n      <td>22.340</td>\n      <td>22.69</td>\n      <td>22.95</td>\n      <td>23.37</td>\n      <td>22.340</td>\n      <td>22.69</td>\n      <td>201997.0</td>\n      <td>NaN</td>\n      <td>0.212196</td>\n      <td>0.104760</td>\n      <td>-1.0</td>\n      <td>-0.010337</td>\n      <td>0.500824</td>\n      <td>NaN</td>\n      <td>NaN</td>\n      <td>1078956.30</td>\n      <td>4137.0</td>\n    </tr>\n  </tbody>\n</table>\n<p>5446210 rows × 20 columns</p>\n</div>"
     },
     "execution_count": 25,
     "metadata": {},
     "output_type": "execute_result"
    }
   ],
   "source": [
    "eng[eng.cs_rank_adv20 > 2500]"
   ],
   "metadata": {
    "collapsed": false,
    "pycharm": {
     "name": "#%%\n"
    }
   }
  },
  {
   "cell_type": "code",
   "execution_count": 42,
   "outputs": [
    {
     "data": {
      "text/plain": "                        ticker    open    high    low   close  openadj  \\\npermaticker date                                                         \n101501      2012-01-03   BBUCQ   0.030   0.030   0.03   0.030    0.030   \n            2012-01-04   BBUCQ   0.030   0.030   0.03   0.030    0.030   \n            2012-01-05   BBUCQ   0.030   0.030   0.03   0.030    0.030   \n            2012-01-06   BBUCQ   0.030   0.030   0.03   0.030    0.030   \n            2012-01-09   BBUCQ   0.030   0.030   0.03   0.030    0.030   \n...                        ...     ...     ...    ...     ...      ...   \n638366      2022-03-25    ANTX  16.850  17.800  15.00  15.400   16.850   \n            2022-03-28    ANTX  15.010  15.770  15.00  15.380   15.010   \n638368      2022-03-24  AXAC.U  10.180  10.180  10.18  10.180   10.180   \n638371      2022-03-28   MURFU  10.375  10.375  10.07  10.100   10.375   \n638372      2022-03-28   TGR.U  10.070  10.110  10.07  10.092   10.070   \n\n                        highadj  lowadj  closeadj     volume  alpha1  alpha2  \\\npermaticker date                                                               \n101501      2012-01-03    0.030    0.03     0.030        0.0     NaN     NaN   \n            2012-01-04    0.030    0.03     0.030        0.0     NaN     NaN   \n            2012-01-05    0.030    0.03     0.030        0.0     NaN     NaN   \n            2012-01-06    0.030    0.03     0.030        0.0     NaN     NaN   \n            2012-01-09    0.030    0.03     0.030        0.0     NaN     NaN   \n...                         ...     ...       ...        ...     ...     ...   \n638366      2022-03-25   17.800   15.00    15.400  1389068.0     NaN     NaN   \n            2022-03-28   15.770   15.00    15.380   242723.0     NaN     NaN   \n638368      2022-03-24   10.180   10.18    10.180   100000.0     NaN     NaN   \n638371      2022-03-28   10.375   10.07    10.100    44602.0     NaN     NaN   \n638372      2022-03-28   10.110   10.07    10.092   551049.0     NaN     NaN   \n\n                        alpha3  alpha4  alpha5  alpha6  alpha7  ret6_fwd  \\\npermaticker date                                                           \n101501      2012-01-03     NaN     NaN     NaN     NaN     NaN       0.0   \n            2012-01-04     NaN     NaN     NaN     NaN     NaN       0.0   \n            2012-01-05     NaN     NaN     NaN     NaN     NaN       0.0   \n            2012-01-06     NaN     NaN     NaN     NaN     NaN       0.0   \n            2012-01-09     NaN     NaN     NaN     NaN     NaN       0.0   \n...                        ...     ...     ...     ...     ...       ...   \n638366      2022-03-25     NaN     NaN     NaN     NaN     NaN       NaN   \n            2022-03-28     NaN     NaN     NaN     NaN     NaN       NaN   \n638368      2022-03-24     NaN     NaN     NaN     NaN     NaN       NaN   \n638371      2022-03-28     NaN     NaN     NaN     NaN     NaN       NaN   \n638372      2022-03-28     NaN     NaN     NaN     NaN     NaN       NaN   \n\n                        adv20  cs_rank_adv20  \npermaticker date                              \n101501      2012-01-03    NaN            NaN  \n            2012-01-04    NaN            NaN  \n            2012-01-05    NaN            NaN  \n            2012-01-06    NaN            NaN  \n            2012-01-09    NaN            NaN  \n...                       ...            ...  \n638366      2022-03-25    NaN            NaN  \n            2022-03-28    NaN            NaN  \n638368      2022-03-24    NaN            NaN  \n638371      2022-03-28    NaN            NaN  \n638372      2022-03-28    NaN            NaN  \n\n[12009230 rows x 20 columns]",
      "text/html": "<div>\n<style scoped>\n    .dataframe tbody tr th:only-of-type {\n        vertical-align: middle;\n    }\n\n    .dataframe tbody tr th {\n        vertical-align: top;\n    }\n\n    .dataframe thead th {\n        text-align: right;\n    }\n</style>\n<table border=\"1\" class=\"dataframe\">\n  <thead>\n    <tr style=\"text-align: right;\">\n      <th></th>\n      <th></th>\n      <th>ticker</th>\n      <th>open</th>\n      <th>high</th>\n      <th>low</th>\n      <th>close</th>\n      <th>openadj</th>\n      <th>highadj</th>\n      <th>lowadj</th>\n      <th>closeadj</th>\n      <th>volume</th>\n      <th>alpha1</th>\n      <th>alpha2</th>\n      <th>alpha3</th>\n      <th>alpha4</th>\n      <th>alpha5</th>\n      <th>alpha6</th>\n      <th>alpha7</th>\n      <th>ret6_fwd</th>\n      <th>adv20</th>\n      <th>cs_rank_adv20</th>\n    </tr>\n    <tr>\n      <th>permaticker</th>\n      <th>date</th>\n      <th></th>\n      <th></th>\n      <th></th>\n      <th></th>\n      <th></th>\n      <th></th>\n      <th></th>\n      <th></th>\n      <th></th>\n      <th></th>\n      <th></th>\n      <th></th>\n      <th></th>\n      <th></th>\n      <th></th>\n      <th></th>\n      <th></th>\n      <th></th>\n      <th></th>\n      <th></th>\n    </tr>\n  </thead>\n  <tbody>\n    <tr>\n      <th rowspan=\"5\" valign=\"top\">101501</th>\n      <th>2012-01-03</th>\n      <td>BBUCQ</td>\n      <td>0.030</td>\n      <td>0.030</td>\n      <td>0.03</td>\n      <td>0.030</td>\n      <td>0.030</td>\n      <td>0.030</td>\n      <td>0.03</td>\n      <td>0.030</td>\n      <td>0.0</td>\n      <td>NaN</td>\n      <td>NaN</td>\n      <td>NaN</td>\n      <td>NaN</td>\n      <td>NaN</td>\n      <td>NaN</td>\n      <td>NaN</td>\n      <td>0.0</td>\n      <td>NaN</td>\n      <td>NaN</td>\n    </tr>\n    <tr>\n      <th>2012-01-04</th>\n      <td>BBUCQ</td>\n      <td>0.030</td>\n      <td>0.030</td>\n      <td>0.03</td>\n      <td>0.030</td>\n      <td>0.030</td>\n      <td>0.030</td>\n      <td>0.03</td>\n      <td>0.030</td>\n      <td>0.0</td>\n      <td>NaN</td>\n      <td>NaN</td>\n      <td>NaN</td>\n      <td>NaN</td>\n      <td>NaN</td>\n      <td>NaN</td>\n      <td>NaN</td>\n      <td>0.0</td>\n      <td>NaN</td>\n      <td>NaN</td>\n    </tr>\n    <tr>\n      <th>2012-01-05</th>\n      <td>BBUCQ</td>\n      <td>0.030</td>\n      <td>0.030</td>\n      <td>0.03</td>\n      <td>0.030</td>\n      <td>0.030</td>\n      <td>0.030</td>\n      <td>0.03</td>\n      <td>0.030</td>\n      <td>0.0</td>\n      <td>NaN</td>\n      <td>NaN</td>\n      <td>NaN</td>\n      <td>NaN</td>\n      <td>NaN</td>\n      <td>NaN</td>\n      <td>NaN</td>\n      <td>0.0</td>\n      <td>NaN</td>\n      <td>NaN</td>\n    </tr>\n    <tr>\n      <th>2012-01-06</th>\n      <td>BBUCQ</td>\n      <td>0.030</td>\n      <td>0.030</td>\n      <td>0.03</td>\n      <td>0.030</td>\n      <td>0.030</td>\n      <td>0.030</td>\n      <td>0.03</td>\n      <td>0.030</td>\n      <td>0.0</td>\n      <td>NaN</td>\n      <td>NaN</td>\n      <td>NaN</td>\n      <td>NaN</td>\n      <td>NaN</td>\n      <td>NaN</td>\n      <td>NaN</td>\n      <td>0.0</td>\n      <td>NaN</td>\n      <td>NaN</td>\n    </tr>\n    <tr>\n      <th>2012-01-09</th>\n      <td>BBUCQ</td>\n      <td>0.030</td>\n      <td>0.030</td>\n      <td>0.03</td>\n      <td>0.030</td>\n      <td>0.030</td>\n      <td>0.030</td>\n      <td>0.03</td>\n      <td>0.030</td>\n      <td>0.0</td>\n      <td>NaN</td>\n      <td>NaN</td>\n      <td>NaN</td>\n      <td>NaN</td>\n      <td>NaN</td>\n      <td>NaN</td>\n      <td>NaN</td>\n      <td>0.0</td>\n      <td>NaN</td>\n      <td>NaN</td>\n    </tr>\n    <tr>\n      <th>...</th>\n      <th>...</th>\n      <td>...</td>\n      <td>...</td>\n      <td>...</td>\n      <td>...</td>\n      <td>...</td>\n      <td>...</td>\n      <td>...</td>\n      <td>...</td>\n      <td>...</td>\n      <td>...</td>\n      <td>...</td>\n      <td>...</td>\n      <td>...</td>\n      <td>...</td>\n      <td>...</td>\n      <td>...</td>\n      <td>...</td>\n      <td>...</td>\n      <td>...</td>\n      <td>...</td>\n    </tr>\n    <tr>\n      <th rowspan=\"2\" valign=\"top\">638366</th>\n      <th>2022-03-25</th>\n      <td>ANTX</td>\n      <td>16.850</td>\n      <td>17.800</td>\n      <td>15.00</td>\n      <td>15.400</td>\n      <td>16.850</td>\n      <td>17.800</td>\n      <td>15.00</td>\n      <td>15.400</td>\n      <td>1389068.0</td>\n      <td>NaN</td>\n      <td>NaN</td>\n      <td>NaN</td>\n      <td>NaN</td>\n      <td>NaN</td>\n      <td>NaN</td>\n      <td>NaN</td>\n      <td>NaN</td>\n      <td>NaN</td>\n      <td>NaN</td>\n    </tr>\n    <tr>\n      <th>2022-03-28</th>\n      <td>ANTX</td>\n      <td>15.010</td>\n      <td>15.770</td>\n      <td>15.00</td>\n      <td>15.380</td>\n      <td>15.010</td>\n      <td>15.770</td>\n      <td>15.00</td>\n      <td>15.380</td>\n      <td>242723.0</td>\n      <td>NaN</td>\n      <td>NaN</td>\n      <td>NaN</td>\n      <td>NaN</td>\n      <td>NaN</td>\n      <td>NaN</td>\n      <td>NaN</td>\n      <td>NaN</td>\n      <td>NaN</td>\n      <td>NaN</td>\n    </tr>\n    <tr>\n      <th>638368</th>\n      <th>2022-03-24</th>\n      <td>AXAC.U</td>\n      <td>10.180</td>\n      <td>10.180</td>\n      <td>10.18</td>\n      <td>10.180</td>\n      <td>10.180</td>\n      <td>10.180</td>\n      <td>10.18</td>\n      <td>10.180</td>\n      <td>100000.0</td>\n      <td>NaN</td>\n      <td>NaN</td>\n      <td>NaN</td>\n      <td>NaN</td>\n      <td>NaN</td>\n      <td>NaN</td>\n      <td>NaN</td>\n      <td>NaN</td>\n      <td>NaN</td>\n      <td>NaN</td>\n    </tr>\n    <tr>\n      <th>638371</th>\n      <th>2022-03-28</th>\n      <td>MURFU</td>\n      <td>10.375</td>\n      <td>10.375</td>\n      <td>10.07</td>\n      <td>10.100</td>\n      <td>10.375</td>\n      <td>10.375</td>\n      <td>10.07</td>\n      <td>10.100</td>\n      <td>44602.0</td>\n      <td>NaN</td>\n      <td>NaN</td>\n      <td>NaN</td>\n      <td>NaN</td>\n      <td>NaN</td>\n      <td>NaN</td>\n      <td>NaN</td>\n      <td>NaN</td>\n      <td>NaN</td>\n      <td>NaN</td>\n    </tr>\n    <tr>\n      <th>638372</th>\n      <th>2022-03-28</th>\n      <td>TGR.U</td>\n      <td>10.070</td>\n      <td>10.110</td>\n      <td>10.07</td>\n      <td>10.092</td>\n      <td>10.070</td>\n      <td>10.110</td>\n      <td>10.07</td>\n      <td>10.092</td>\n      <td>551049.0</td>\n      <td>NaN</td>\n      <td>NaN</td>\n      <td>NaN</td>\n      <td>NaN</td>\n      <td>NaN</td>\n      <td>NaN</td>\n      <td>NaN</td>\n      <td>NaN</td>\n      <td>NaN</td>\n      <td>NaN</td>\n    </tr>\n  </tbody>\n</table>\n<p>12009230 rows × 20 columns</p>\n</div>"
     },
     "execution_count": 42,
     "metadata": {},
     "output_type": "execute_result"
    }
   ],
   "source": [],
   "metadata": {
    "collapsed": false,
    "pycharm": {
     "name": "#%%\n"
    }
   }
  },
  {
   "cell_type": "code",
   "execution_count": 26,
   "outputs": [],
   "source": [
    "eng_pre = eng.dropna()\n",
    "eng_pre = eng_pre[eng_pre.cs_rank_adv20 > 2500]"
   ],
   "metadata": {
    "collapsed": false,
    "pycharm": {
     "name": "#%%\n"
    }
   }
  },
  {
   "cell_type": "code",
   "execution_count": 32,
   "outputs": [],
   "source": [
    "eng_pre['ret6_fwd'] = np.where(eng_pre.ret6_fwd > 0.001, 1, 0)"
   ],
   "metadata": {
    "collapsed": false,
    "pycharm": {
     "name": "#%%\n"
    }
   }
  },
  {
   "cell_type": "code",
   "execution_count": 43,
   "outputs": [],
   "source": [
    "gu.save_file(f'{PROJECT_PATH}/Data/feature/alpha_raw_20220330.obj', eng)\n",
    "gu.save_file(f'{PROJECT_PATH}/Data/feature/alpha_pre_20220330.obj', eng_pre)"
   ],
   "metadata": {
    "collapsed": false,
    "pycharm": {
     "name": "#%%\n"
    }
   }
  },
  {
   "cell_type": "code",
   "execution_count": 44,
   "outputs": [
    {
     "data": {
      "text/plain": "                       ticker  open  high    low  close  openadj  highadj  \\\npermaticker date                                                            \n104612      2022-01-10   APCX  2.25  2.25  1.710   1.89     2.25     2.25   \n            2022-01-11   APCX  1.89  2.18  1.791   2.15     1.89     2.18   \n            2022-01-12   APCX  2.05  2.39  1.990   2.24     2.05     2.39   \n            2022-01-13   APCX  2.17  2.23  2.030   2.08     2.17     2.23   \n            2022-01-14   APCX  2.05  2.41  2.050   2.22     2.05     2.41   \n...                       ...   ...   ...    ...    ...      ...      ...   \n637794      2022-03-14   SBFM  2.81  3.05  2.690   2.89     2.81     3.05   \n            2022-03-15   SBFM  2.81  4.75  2.772   3.27     2.81     4.75   \n            2022-03-16   SBFM  3.06  3.51  2.870   3.28     3.06     3.51   \n            2022-03-17   SBFM  3.06  3.25  2.970   3.03     3.06     3.25   \n            2022-03-18   SBFM  3.46  3.48  3.100   3.25     3.46     3.48   \n\n                        lowadj  closeadj     volume    alpha1    alpha2  \\\npermaticker date                                                          \n104612      2022-01-10   1.710      1.89   563129.0 -0.236569 -0.371428   \n            2022-01-11   1.791      2.15   135640.0 -0.111537  0.306276   \n            2022-01-12   1.990      2.24   121699.0 -0.058054  0.500763   \n            2022-01-13   2.030      2.08    64704.0 -0.346554  0.367854   \n            2022-01-14   2.050      2.22   136409.0 -0.277474 -0.389261   \n...                        ...       ...        ...       ...       ...   \n637794      2022-03-14   2.690      2.89   490633.0 -0.166695  0.637373   \n            2022-03-15   2.772      3.27  7306862.0 -0.102859  0.430296   \n            2022-03-16   2.870      3.28  1090079.0 -0.368640  0.371101   \n            2022-03-17   2.970      3.03   867434.0 -0.171894 -0.426732   \n            2022-03-18   3.100      3.25   840772.0 -0.111319 -0.419262   \n\n                          alpha3  alpha4    alpha5    alpha6  alpha7  \\\npermaticker date                                                       \n104612      2022-01-10 -0.963897    -5.0 -0.119659 -0.896131   -55.0   \n            2022-01-11 -0.959182    -5.0 -0.523857 -0.884942    -1.0   \n            2022-01-12 -0.964285    -6.0 -0.640489 -0.859963    -1.0   \n            2022-01-13 -0.936529    -6.0 -0.340535 -0.819221    -1.0   \n            2022-01-14 -0.930440    -6.0 -0.312737 -0.843895    -1.0   \n...                          ...     ...       ...       ...     ...   \n637794      2022-03-14 -0.922962    -7.0 -0.777463 -0.818239    -1.0   \n            2022-03-15 -0.919751    -7.0 -0.081093 -0.804018   -35.0   \n            2022-03-16 -0.904994    -7.0 -0.493559 -0.742509    -1.0   \n            2022-03-17 -0.879794    -6.0 -0.054808 -0.702113    -1.0   \n            2022-03-18 -0.775873    -7.0 -0.093871 -0.627809    -1.0   \n\n                        ret6_fwd       adv20  cs_rank_adv20  \npermaticker date                                             \n104612      2022-01-10         1   184505.90         2575.0  \n            2022-01-11         0   191152.90         2625.0  \n            2022-01-12         0   196837.85         2662.0  \n            2022-01-13         0   199983.05         2713.0  \n            2022-01-14         0   206573.50         2763.0  \n...                          ...         ...            ...  \n637794      2022-03-14         0  3890000.10         5470.0  \n            2022-03-15         0  4254923.55         5507.0  \n            2022-03-16         0  4176195.25         5494.0  \n            2022-03-17         0  4162609.00         5483.0  \n            2022-03-18         0  4158389.85         5462.0  \n\n[5267783 rows x 20 columns]",
      "text/html": "<div>\n<style scoped>\n    .dataframe tbody tr th:only-of-type {\n        vertical-align: middle;\n    }\n\n    .dataframe tbody tr th {\n        vertical-align: top;\n    }\n\n    .dataframe thead th {\n        text-align: right;\n    }\n</style>\n<table border=\"1\" class=\"dataframe\">\n  <thead>\n    <tr style=\"text-align: right;\">\n      <th></th>\n      <th></th>\n      <th>ticker</th>\n      <th>open</th>\n      <th>high</th>\n      <th>low</th>\n      <th>close</th>\n      <th>openadj</th>\n      <th>highadj</th>\n      <th>lowadj</th>\n      <th>closeadj</th>\n      <th>volume</th>\n      <th>alpha1</th>\n      <th>alpha2</th>\n      <th>alpha3</th>\n      <th>alpha4</th>\n      <th>alpha5</th>\n      <th>alpha6</th>\n      <th>alpha7</th>\n      <th>ret6_fwd</th>\n      <th>adv20</th>\n      <th>cs_rank_adv20</th>\n    </tr>\n    <tr>\n      <th>permaticker</th>\n      <th>date</th>\n      <th></th>\n      <th></th>\n      <th></th>\n      <th></th>\n      <th></th>\n      <th></th>\n      <th></th>\n      <th></th>\n      <th></th>\n      <th></th>\n      <th></th>\n      <th></th>\n      <th></th>\n      <th></th>\n      <th></th>\n      <th></th>\n      <th></th>\n      <th></th>\n      <th></th>\n      <th></th>\n    </tr>\n  </thead>\n  <tbody>\n    <tr>\n      <th rowspan=\"5\" valign=\"top\">104612</th>\n      <th>2022-01-10</th>\n      <td>APCX</td>\n      <td>2.25</td>\n      <td>2.25</td>\n      <td>1.710</td>\n      <td>1.89</td>\n      <td>2.25</td>\n      <td>2.25</td>\n      <td>1.710</td>\n      <td>1.89</td>\n      <td>563129.0</td>\n      <td>-0.236569</td>\n      <td>-0.371428</td>\n      <td>-0.963897</td>\n      <td>-5.0</td>\n      <td>-0.119659</td>\n      <td>-0.896131</td>\n      <td>-55.0</td>\n      <td>1</td>\n      <td>184505.90</td>\n      <td>2575.0</td>\n    </tr>\n    <tr>\n      <th>2022-01-11</th>\n      <td>APCX</td>\n      <td>1.89</td>\n      <td>2.18</td>\n      <td>1.791</td>\n      <td>2.15</td>\n      <td>1.89</td>\n      <td>2.18</td>\n      <td>1.791</td>\n      <td>2.15</td>\n      <td>135640.0</td>\n      <td>-0.111537</td>\n      <td>0.306276</td>\n      <td>-0.959182</td>\n      <td>-5.0</td>\n      <td>-0.523857</td>\n      <td>-0.884942</td>\n      <td>-1.0</td>\n      <td>0</td>\n      <td>191152.90</td>\n      <td>2625.0</td>\n    </tr>\n    <tr>\n      <th>2022-01-12</th>\n      <td>APCX</td>\n      <td>2.05</td>\n      <td>2.39</td>\n      <td>1.990</td>\n      <td>2.24</td>\n      <td>2.05</td>\n      <td>2.39</td>\n      <td>1.990</td>\n      <td>2.24</td>\n      <td>121699.0</td>\n      <td>-0.058054</td>\n      <td>0.500763</td>\n      <td>-0.964285</td>\n      <td>-6.0</td>\n      <td>-0.640489</td>\n      <td>-0.859963</td>\n      <td>-1.0</td>\n      <td>0</td>\n      <td>196837.85</td>\n      <td>2662.0</td>\n    </tr>\n    <tr>\n      <th>2022-01-13</th>\n      <td>APCX</td>\n      <td>2.17</td>\n      <td>2.23</td>\n      <td>2.030</td>\n      <td>2.08</td>\n      <td>2.17</td>\n      <td>2.23</td>\n      <td>2.030</td>\n      <td>2.08</td>\n      <td>64704.0</td>\n      <td>-0.346554</td>\n      <td>0.367854</td>\n      <td>-0.936529</td>\n      <td>-6.0</td>\n      <td>-0.340535</td>\n      <td>-0.819221</td>\n      <td>-1.0</td>\n      <td>0</td>\n      <td>199983.05</td>\n      <td>2713.0</td>\n    </tr>\n    <tr>\n      <th>2022-01-14</th>\n      <td>APCX</td>\n      <td>2.05</td>\n      <td>2.41</td>\n      <td>2.050</td>\n      <td>2.22</td>\n      <td>2.05</td>\n      <td>2.41</td>\n      <td>2.050</td>\n      <td>2.22</td>\n      <td>136409.0</td>\n      <td>-0.277474</td>\n      <td>-0.389261</td>\n      <td>-0.930440</td>\n      <td>-6.0</td>\n      <td>-0.312737</td>\n      <td>-0.843895</td>\n      <td>-1.0</td>\n      <td>0</td>\n      <td>206573.50</td>\n      <td>2763.0</td>\n    </tr>\n    <tr>\n      <th>...</th>\n      <th>...</th>\n      <td>...</td>\n      <td>...</td>\n      <td>...</td>\n      <td>...</td>\n      <td>...</td>\n      <td>...</td>\n      <td>...</td>\n      <td>...</td>\n      <td>...</td>\n      <td>...</td>\n      <td>...</td>\n      <td>...</td>\n      <td>...</td>\n      <td>...</td>\n      <td>...</td>\n      <td>...</td>\n      <td>...</td>\n      <td>...</td>\n      <td>...</td>\n      <td>...</td>\n    </tr>\n    <tr>\n      <th rowspan=\"5\" valign=\"top\">637794</th>\n      <th>2022-03-14</th>\n      <td>SBFM</td>\n      <td>2.81</td>\n      <td>3.05</td>\n      <td>2.690</td>\n      <td>2.89</td>\n      <td>2.81</td>\n      <td>3.05</td>\n      <td>2.690</td>\n      <td>2.89</td>\n      <td>490633.0</td>\n      <td>-0.166695</td>\n      <td>0.637373</td>\n      <td>-0.922962</td>\n      <td>-7.0</td>\n      <td>-0.777463</td>\n      <td>-0.818239</td>\n      <td>-1.0</td>\n      <td>0</td>\n      <td>3890000.10</td>\n      <td>5470.0</td>\n    </tr>\n    <tr>\n      <th>2022-03-15</th>\n      <td>SBFM</td>\n      <td>2.81</td>\n      <td>4.75</td>\n      <td>2.772</td>\n      <td>3.27</td>\n      <td>2.81</td>\n      <td>4.75</td>\n      <td>2.772</td>\n      <td>3.27</td>\n      <td>7306862.0</td>\n      <td>-0.102859</td>\n      <td>0.430296</td>\n      <td>-0.919751</td>\n      <td>-7.0</td>\n      <td>-0.081093</td>\n      <td>-0.804018</td>\n      <td>-35.0</td>\n      <td>0</td>\n      <td>4254923.55</td>\n      <td>5507.0</td>\n    </tr>\n    <tr>\n      <th>2022-03-16</th>\n      <td>SBFM</td>\n      <td>3.06</td>\n      <td>3.51</td>\n      <td>2.870</td>\n      <td>3.28</td>\n      <td>3.06</td>\n      <td>3.51</td>\n      <td>2.870</td>\n      <td>3.28</td>\n      <td>1090079.0</td>\n      <td>-0.368640</td>\n      <td>0.371101</td>\n      <td>-0.904994</td>\n      <td>-7.0</td>\n      <td>-0.493559</td>\n      <td>-0.742509</td>\n      <td>-1.0</td>\n      <td>0</td>\n      <td>4176195.25</td>\n      <td>5494.0</td>\n    </tr>\n    <tr>\n      <th>2022-03-17</th>\n      <td>SBFM</td>\n      <td>3.06</td>\n      <td>3.25</td>\n      <td>2.970</td>\n      <td>3.03</td>\n      <td>3.06</td>\n      <td>3.25</td>\n      <td>2.970</td>\n      <td>3.03</td>\n      <td>867434.0</td>\n      <td>-0.171894</td>\n      <td>-0.426732</td>\n      <td>-0.879794</td>\n      <td>-6.0</td>\n      <td>-0.054808</td>\n      <td>-0.702113</td>\n      <td>-1.0</td>\n      <td>0</td>\n      <td>4162609.00</td>\n      <td>5483.0</td>\n    </tr>\n    <tr>\n      <th>2022-03-18</th>\n      <td>SBFM</td>\n      <td>3.46</td>\n      <td>3.48</td>\n      <td>3.100</td>\n      <td>3.25</td>\n      <td>3.46</td>\n      <td>3.48</td>\n      <td>3.100</td>\n      <td>3.25</td>\n      <td>840772.0</td>\n      <td>-0.111319</td>\n      <td>-0.419262</td>\n      <td>-0.775873</td>\n      <td>-7.0</td>\n      <td>-0.093871</td>\n      <td>-0.627809</td>\n      <td>-1.0</td>\n      <td>0</td>\n      <td>4158389.85</td>\n      <td>5462.0</td>\n    </tr>\n  </tbody>\n</table>\n<p>5267783 rows × 20 columns</p>\n</div>"
     },
     "execution_count": 44,
     "metadata": {},
     "output_type": "execute_result"
    }
   ],
   "source": [
    "eng_pre"
   ],
   "metadata": {
    "collapsed": false,
    "pycharm": {
     "name": "#%%\n"
    }
   }
  },
  {
   "cell_type": "code",
   "execution_count": null,
   "outputs": [],
   "source": [
    "# def cvScore(clf,X,y,sample_weight,scoring='neg_log_loss',t1=None,cv=None,cvGen=None,pctEmbargo=None):\n",
    "#     if scoring not in ['neg_log_loss','accuracy']:\n",
    "#         raise Exception('wrong scoring method.')\n",
    "#     from sklearn.metrics import log_loss,accuracy_score, f1_score, precision_score, recall_score\n",
    "#     # from clfSequential import PurgedKFold\n",
    "#     from sklearn.model_selection import KFold\n",
    "#     if cvGen is None:\n",
    "#         cvGen= KFold(n_splits=cv) # purged\n",
    "#     score=[]\n",
    "#     for i, (train,test) in enumerate(cvGen.split(X=X)):\n",
    "#         fit=clf.fit(X=X.iloc[train,:],y=y.iloc[train],sample_weight=sample_weight.iloc[train].values)\n",
    "#         if scoring=='neg_log_loss':\n",
    "#             prob=fit.predict_proba(X.iloc[test,:])\n",
    "#             score_=-log_loss(y.iloc[test],prob,sample_weight=sample_weight.iloc[test].values,labels=clf.classes_)\n",
    "#         else:\n",
    "#             pred=fit.predict(X.iloc[test,:])\n",
    "#             score_=accuracy_score(y.iloc[test],pred,sample_weight= sample_weight.iloc[test].values)\n",
    "#         score.append(score_)\n",
    "#     return np.array(score)\n",
    "\n",
    "def cvScore(clf,X,y,sample_weight = 1,scoring='neg_log_loss',t1=None,cv=None,cvGen=None,pctEmbargo=None):\n",
    "    if scoring not in ['neg_log_loss','accuracy']:\n",
    "        raise Exception('wrong scoring method.')\n",
    "    from sklearn.metrics import log_loss,accuracy_score, f1_score, precision_score, recall_score\n",
    "    # from clfSequential import PurgedKFold\n",
    "    from sklearn.model_selection import KFold\n",
    "    if cvGen is None:\n",
    "        cvGen= KFold(n_splits=cv) # purged\n",
    "    score=[]\n",
    "    for i, (train,test) in enumerate(cvGen.split(X=X)):\n",
    "        fit=clf.fit(X=X.iloc[train,:],y=y.iloc[train],sample_weight=sample_weight.iloc[train].values)\n",
    "        if scoring=='neg_log_loss':\n",
    "            prob=fit.predict_proba(X.iloc[test,:])\n",
    "            score_=-log_loss(y.iloc[test],prob,sample_weight=sample_weight.iloc[test].values,labels=clf.classes_)\n",
    "        else:\n",
    "            pred=fit.predict(X.iloc[test,:])\n",
    "            score_=accuracy_score(y.iloc[test],pred,sample_weight= sample_weight.iloc[test].values)\n",
    "        score.append(score_)\n",
    "    return np.array(score)"
   ],
   "metadata": {
    "collapsed": false,
    "pycharm": {
     "name": "#%%\n"
    }
   }
  },
  {
   "cell_type": "code",
   "execution_count": 31,
   "outputs": [],
   "source": [
    "from sklearn.model_selection import cross_validate\n",
    "from sklearn.ensemble import RandomForestClassifier\n"
   ],
   "metadata": {
    "collapsed": false,
    "pycharm": {
     "name": "#%%\n"
    }
   }
  },
  {
   "cell_type": "code",
   "execution_count": 57,
   "outputs": [
    {
     "data": {
      "text/plain": "                       ticker  open  high    low  close  openadj  highadj  \\\npermaticker date                                                            \n104612      2022-01-10   APCX  2.25  2.25  1.710   1.89     2.25     2.25   \n            2022-01-11   APCX  1.89  2.18  1.791   2.15     1.89     2.18   \n            2022-01-12   APCX  2.05  2.39  1.990   2.24     2.05     2.39   \n            2022-01-13   APCX  2.17  2.23  2.030   2.08     2.17     2.23   \n            2022-01-14   APCX  2.05  2.41  2.050   2.22     2.05     2.41   \n...                       ...   ...   ...    ...    ...      ...      ...   \n637794      2022-03-14   SBFM  2.81  3.05  2.690   2.89     2.81     3.05   \n            2022-03-15   SBFM  2.81  4.75  2.772   3.27     2.81     4.75   \n            2022-03-16   SBFM  3.06  3.51  2.870   3.28     3.06     3.51   \n            2022-03-17   SBFM  3.06  3.25  2.970   3.03     3.06     3.25   \n            2022-03-18   SBFM  3.46  3.48  3.100   3.25     3.46     3.48   \n\n                        lowadj  closeadj     volume    alpha1    alpha2  \\\npermaticker date                                                          \n104612      2022-01-10   1.710      1.89   563129.0 -0.236569 -0.371428   \n            2022-01-11   1.791      2.15   135640.0 -0.111537  0.306276   \n            2022-01-12   1.990      2.24   121699.0 -0.058054  0.500763   \n            2022-01-13   2.030      2.08    64704.0 -0.346554  0.367854   \n            2022-01-14   2.050      2.22   136409.0 -0.277474 -0.389261   \n...                        ...       ...        ...       ...       ...   \n637794      2022-03-14   2.690      2.89   490633.0 -0.166695  0.637373   \n            2022-03-15   2.772      3.27  7306862.0 -0.102859  0.430296   \n            2022-03-16   2.870      3.28  1090079.0 -0.368640  0.371101   \n            2022-03-17   2.970      3.03   867434.0 -0.171894 -0.426732   \n            2022-03-18   3.100      3.25   840772.0 -0.111319 -0.419262   \n\n                          alpha3  alpha4    alpha5    alpha6  alpha7  \\\npermaticker date                                                       \n104612      2022-01-10 -0.963897    -5.0 -0.119659 -0.896131   -55.0   \n            2022-01-11 -0.959182    -5.0 -0.523857 -0.884942    -1.0   \n            2022-01-12 -0.964285    -6.0 -0.640489 -0.859963    -1.0   \n            2022-01-13 -0.936529    -6.0 -0.340535 -0.819221    -1.0   \n            2022-01-14 -0.930440    -6.0 -0.312737 -0.843895    -1.0   \n...                          ...     ...       ...       ...     ...   \n637794      2022-03-14 -0.922962    -7.0 -0.777463 -0.818239    -1.0   \n            2022-03-15 -0.919751    -7.0 -0.081093 -0.804018   -35.0   \n            2022-03-16 -0.904994    -7.0 -0.493559 -0.742509    -1.0   \n            2022-03-17 -0.879794    -6.0 -0.054808 -0.702113    -1.0   \n            2022-03-18 -0.775873    -7.0 -0.093871 -0.627809    -1.0   \n\n                        ret6_fwd       adv20  cs_rank_adv20  \npermaticker date                                             \n104612      2022-01-10         1   184505.90         2575.0  \n            2022-01-11         0   191152.90         2625.0  \n            2022-01-12         0   196837.85         2662.0  \n            2022-01-13         0   199983.05         2713.0  \n            2022-01-14         0   206573.50         2763.0  \n...                          ...         ...            ...  \n637794      2022-03-14         0  3890000.10         5470.0  \n            2022-03-15         0  4254923.55         5507.0  \n            2022-03-16         0  4176195.25         5494.0  \n            2022-03-17         0  4162609.00         5483.0  \n            2022-03-18         0  4158389.85         5462.0  \n\n[5267783 rows x 20 columns]",
      "text/html": "<div>\n<style scoped>\n    .dataframe tbody tr th:only-of-type {\n        vertical-align: middle;\n    }\n\n    .dataframe tbody tr th {\n        vertical-align: top;\n    }\n\n    .dataframe thead th {\n        text-align: right;\n    }\n</style>\n<table border=\"1\" class=\"dataframe\">\n  <thead>\n    <tr style=\"text-align: right;\">\n      <th></th>\n      <th></th>\n      <th>ticker</th>\n      <th>open</th>\n      <th>high</th>\n      <th>low</th>\n      <th>close</th>\n      <th>openadj</th>\n      <th>highadj</th>\n      <th>lowadj</th>\n      <th>closeadj</th>\n      <th>volume</th>\n      <th>alpha1</th>\n      <th>alpha2</th>\n      <th>alpha3</th>\n      <th>alpha4</th>\n      <th>alpha5</th>\n      <th>alpha6</th>\n      <th>alpha7</th>\n      <th>ret6_fwd</th>\n      <th>adv20</th>\n      <th>cs_rank_adv20</th>\n    </tr>\n    <tr>\n      <th>permaticker</th>\n      <th>date</th>\n      <th></th>\n      <th></th>\n      <th></th>\n      <th></th>\n      <th></th>\n      <th></th>\n      <th></th>\n      <th></th>\n      <th></th>\n      <th></th>\n      <th></th>\n      <th></th>\n      <th></th>\n      <th></th>\n      <th></th>\n      <th></th>\n      <th></th>\n      <th></th>\n      <th></th>\n      <th></th>\n    </tr>\n  </thead>\n  <tbody>\n    <tr>\n      <th rowspan=\"5\" valign=\"top\">104612</th>\n      <th>2022-01-10</th>\n      <td>APCX</td>\n      <td>2.25</td>\n      <td>2.25</td>\n      <td>1.710</td>\n      <td>1.89</td>\n      <td>2.25</td>\n      <td>2.25</td>\n      <td>1.710</td>\n      <td>1.89</td>\n      <td>563129.0</td>\n      <td>-0.236569</td>\n      <td>-0.371428</td>\n      <td>-0.963897</td>\n      <td>-5.0</td>\n      <td>-0.119659</td>\n      <td>-0.896131</td>\n      <td>-55.0</td>\n      <td>1</td>\n      <td>184505.90</td>\n      <td>2575.0</td>\n    </tr>\n    <tr>\n      <th>2022-01-11</th>\n      <td>APCX</td>\n      <td>1.89</td>\n      <td>2.18</td>\n      <td>1.791</td>\n      <td>2.15</td>\n      <td>1.89</td>\n      <td>2.18</td>\n      <td>1.791</td>\n      <td>2.15</td>\n      <td>135640.0</td>\n      <td>-0.111537</td>\n      <td>0.306276</td>\n      <td>-0.959182</td>\n      <td>-5.0</td>\n      <td>-0.523857</td>\n      <td>-0.884942</td>\n      <td>-1.0</td>\n      <td>0</td>\n      <td>191152.90</td>\n      <td>2625.0</td>\n    </tr>\n    <tr>\n      <th>2022-01-12</th>\n      <td>APCX</td>\n      <td>2.05</td>\n      <td>2.39</td>\n      <td>1.990</td>\n      <td>2.24</td>\n      <td>2.05</td>\n      <td>2.39</td>\n      <td>1.990</td>\n      <td>2.24</td>\n      <td>121699.0</td>\n      <td>-0.058054</td>\n      <td>0.500763</td>\n      <td>-0.964285</td>\n      <td>-6.0</td>\n      <td>-0.640489</td>\n      <td>-0.859963</td>\n      <td>-1.0</td>\n      <td>0</td>\n      <td>196837.85</td>\n      <td>2662.0</td>\n    </tr>\n    <tr>\n      <th>2022-01-13</th>\n      <td>APCX</td>\n      <td>2.17</td>\n      <td>2.23</td>\n      <td>2.030</td>\n      <td>2.08</td>\n      <td>2.17</td>\n      <td>2.23</td>\n      <td>2.030</td>\n      <td>2.08</td>\n      <td>64704.0</td>\n      <td>-0.346554</td>\n      <td>0.367854</td>\n      <td>-0.936529</td>\n      <td>-6.0</td>\n      <td>-0.340535</td>\n      <td>-0.819221</td>\n      <td>-1.0</td>\n      <td>0</td>\n      <td>199983.05</td>\n      <td>2713.0</td>\n    </tr>\n    <tr>\n      <th>2022-01-14</th>\n      <td>APCX</td>\n      <td>2.05</td>\n      <td>2.41</td>\n      <td>2.050</td>\n      <td>2.22</td>\n      <td>2.05</td>\n      <td>2.41</td>\n      <td>2.050</td>\n      <td>2.22</td>\n      <td>136409.0</td>\n      <td>-0.277474</td>\n      <td>-0.389261</td>\n      <td>-0.930440</td>\n      <td>-6.0</td>\n      <td>-0.312737</td>\n      <td>-0.843895</td>\n      <td>-1.0</td>\n      <td>0</td>\n      <td>206573.50</td>\n      <td>2763.0</td>\n    </tr>\n    <tr>\n      <th>...</th>\n      <th>...</th>\n      <td>...</td>\n      <td>...</td>\n      <td>...</td>\n      <td>...</td>\n      <td>...</td>\n      <td>...</td>\n      <td>...</td>\n      <td>...</td>\n      <td>...</td>\n      <td>...</td>\n      <td>...</td>\n      <td>...</td>\n      <td>...</td>\n      <td>...</td>\n      <td>...</td>\n      <td>...</td>\n      <td>...</td>\n      <td>...</td>\n      <td>...</td>\n      <td>...</td>\n    </tr>\n    <tr>\n      <th rowspan=\"5\" valign=\"top\">637794</th>\n      <th>2022-03-14</th>\n      <td>SBFM</td>\n      <td>2.81</td>\n      <td>3.05</td>\n      <td>2.690</td>\n      <td>2.89</td>\n      <td>2.81</td>\n      <td>3.05</td>\n      <td>2.690</td>\n      <td>2.89</td>\n      <td>490633.0</td>\n      <td>-0.166695</td>\n      <td>0.637373</td>\n      <td>-0.922962</td>\n      <td>-7.0</td>\n      <td>-0.777463</td>\n      <td>-0.818239</td>\n      <td>-1.0</td>\n      <td>0</td>\n      <td>3890000.10</td>\n      <td>5470.0</td>\n    </tr>\n    <tr>\n      <th>2022-03-15</th>\n      <td>SBFM</td>\n      <td>2.81</td>\n      <td>4.75</td>\n      <td>2.772</td>\n      <td>3.27</td>\n      <td>2.81</td>\n      <td>4.75</td>\n      <td>2.772</td>\n      <td>3.27</td>\n      <td>7306862.0</td>\n      <td>-0.102859</td>\n      <td>0.430296</td>\n      <td>-0.919751</td>\n      <td>-7.0</td>\n      <td>-0.081093</td>\n      <td>-0.804018</td>\n      <td>-35.0</td>\n      <td>0</td>\n      <td>4254923.55</td>\n      <td>5507.0</td>\n    </tr>\n    <tr>\n      <th>2022-03-16</th>\n      <td>SBFM</td>\n      <td>3.06</td>\n      <td>3.51</td>\n      <td>2.870</td>\n      <td>3.28</td>\n      <td>3.06</td>\n      <td>3.51</td>\n      <td>2.870</td>\n      <td>3.28</td>\n      <td>1090079.0</td>\n      <td>-0.368640</td>\n      <td>0.371101</td>\n      <td>-0.904994</td>\n      <td>-7.0</td>\n      <td>-0.493559</td>\n      <td>-0.742509</td>\n      <td>-1.0</td>\n      <td>0</td>\n      <td>4176195.25</td>\n      <td>5494.0</td>\n    </tr>\n    <tr>\n      <th>2022-03-17</th>\n      <td>SBFM</td>\n      <td>3.06</td>\n      <td>3.25</td>\n      <td>2.970</td>\n      <td>3.03</td>\n      <td>3.06</td>\n      <td>3.25</td>\n      <td>2.970</td>\n      <td>3.03</td>\n      <td>867434.0</td>\n      <td>-0.171894</td>\n      <td>-0.426732</td>\n      <td>-0.879794</td>\n      <td>-6.0</td>\n      <td>-0.054808</td>\n      <td>-0.702113</td>\n      <td>-1.0</td>\n      <td>0</td>\n      <td>4162609.00</td>\n      <td>5483.0</td>\n    </tr>\n    <tr>\n      <th>2022-03-18</th>\n      <td>SBFM</td>\n      <td>3.46</td>\n      <td>3.48</td>\n      <td>3.100</td>\n      <td>3.25</td>\n      <td>3.46</td>\n      <td>3.48</td>\n      <td>3.100</td>\n      <td>3.25</td>\n      <td>840772.0</td>\n      <td>-0.111319</td>\n      <td>-0.419262</td>\n      <td>-0.775873</td>\n      <td>-7.0</td>\n      <td>-0.093871</td>\n      <td>-0.627809</td>\n      <td>-1.0</td>\n      <td>0</td>\n      <td>4158389.85</td>\n      <td>5462.0</td>\n    </tr>\n  </tbody>\n</table>\n<p>5267783 rows × 20 columns</p>\n</div>"
     },
     "execution_count": 57,
     "metadata": {},
     "output_type": "execute_result"
    }
   ],
   "source": [
    "eng_pre"
   ],
   "metadata": {
    "collapsed": false,
    "pycharm": {
     "name": "#%%\n"
    }
   }
  },
  {
   "cell_type": "code",
   "execution_count": 51,
   "outputs": [],
   "source": [
    "eng_pre_small = eng_pre.head(500000)"
   ],
   "metadata": {
    "collapsed": false,
    "pycharm": {
     "name": "#%%\n"
    }
   }
  },
  {
   "cell_type": "code",
   "execution_count": 52,
   "outputs": [],
   "source": [
    "feat = [f'alpha{i+1}' for i in range(6)]\n",
    "target_col = 'ret6_fwd'\n",
    "X = eng_pre_small[feat]\n",
    "y = eng_pre_small[target_col]"
   ],
   "metadata": {
    "collapsed": false,
    "pycharm": {
     "name": "#%%\n"
    }
   }
  },
  {
   "cell_type": "code",
   "execution_count": 54,
   "outputs": [
    {
     "ename": "KeyboardInterrupt",
     "evalue": "",
     "output_type": "error",
     "traceback": [
      "\u001B[0;31m---------------------------------------------------------------------------\u001B[0m",
      "\u001B[0;31mKeyboardInterrupt\u001B[0m                         Traceback (most recent call last)",
      "Input \u001B[0;32mIn [54]\u001B[0m, in \u001B[0;36m<module>\u001B[0;34m\u001B[0m\n\u001B[1;32m      7\u001B[0m s_time_chunk \u001B[38;5;241m=\u001B[39m time\u001B[38;5;241m.\u001B[39mtime()\n\u001B[1;32m      8\u001B[0m clf \u001B[38;5;241m=\u001B[39m RandomForestClassifier(n_estimators\u001B[38;5;241m=\u001B[39m\u001B[38;5;241m100\u001B[39m,class_weight\u001B[38;5;241m=\u001B[39m\u001B[38;5;124m'\u001B[39m\u001B[38;5;124mbalanced_subsample\u001B[39m\u001B[38;5;124m'\u001B[39m,criterion\u001B[38;5;241m=\u001B[39m\u001B[38;5;124m'\u001B[39m\u001B[38;5;124mentropy\u001B[39m\u001B[38;5;124m'\u001B[39m, n_jobs\u001B[38;5;241m=\u001B[39m\u001B[38;5;241m-\u001B[39m\u001B[38;5;241m1\u001B[39m)\n\u001B[0;32m----> 9\u001B[0m scores \u001B[38;5;241m=\u001B[39m \u001B[43mcross_validate\u001B[49m\u001B[43m(\u001B[49m\u001B[43mclf\u001B[49m\u001B[43m,\u001B[49m\u001B[43m \u001B[49m\u001B[43mX\u001B[49m\u001B[43m,\u001B[49m\u001B[43m \u001B[49m\u001B[43my\u001B[49m\u001B[43m,\u001B[49m\u001B[43m \u001B[49m\u001B[43mcv\u001B[49m\u001B[38;5;241;43m=\u001B[39;49m\u001B[38;5;241;43m5\u001B[39;49m\u001B[43m,\u001B[49m\u001B[43m \u001B[49m\u001B[43mscoring\u001B[49m\u001B[38;5;241;43m=\u001B[39;49m\u001B[43m(\u001B[49m\u001B[38;5;124;43m'\u001B[39;49m\u001B[38;5;124;43maccuracy\u001B[39;49m\u001B[38;5;124;43m'\u001B[39;49m\u001B[43m,\u001B[49m\u001B[43m \u001B[49m\u001B[38;5;124;43m'\u001B[39;49m\u001B[38;5;124;43mf1\u001B[39;49m\u001B[38;5;124;43m'\u001B[39;49m\u001B[43m,\u001B[49m\u001B[43m \u001B[49m\u001B[38;5;124;43m'\u001B[39;49m\u001B[38;5;124;43mprecision\u001B[39;49m\u001B[38;5;124;43m'\u001B[39;49m\u001B[43m,\u001B[49m\u001B[43m \u001B[49m\u001B[38;5;124;43m'\u001B[39;49m\u001B[38;5;124;43mrecall\u001B[39;49m\u001B[38;5;124;43m'\u001B[39;49m\u001B[43m)\u001B[49m\u001B[43m,\u001B[49m\u001B[43mreturn_train_score\u001B[49m\u001B[38;5;241;43m=\u001B[39;49m\u001B[38;5;28;43;01mTrue\u001B[39;49;00m\u001B[43m)\u001B[49m\n\u001B[1;32m     10\u001B[0m e_time_chunk \u001B[38;5;241m=\u001B[39m time\u001B[38;5;241m.\u001B[39mtime()\n\u001B[1;32m     11\u001B[0m \u001B[38;5;28mprint\u001B[39m(\u001B[38;5;124mf\u001B[39m\u001B[38;5;124m\"\u001B[39m\u001B[38;5;124mTotal time: \u001B[39m\u001B[38;5;132;01m{\u001B[39;00me_time_chunk \u001B[38;5;241m-\u001B[39m s_time_chunk\u001B[38;5;132;01m}\u001B[39;00m\u001B[38;5;124m sec\u001B[39m\u001B[38;5;124m\"\u001B[39m)\n",
      "File \u001B[0;32m~/miniconda3/envs/quant/lib/python3.9/site-packages/sklearn/model_selection/_validation.py:267\u001B[0m, in \u001B[0;36mcross_validate\u001B[0;34m(estimator, X, y, groups, scoring, cv, n_jobs, verbose, fit_params, pre_dispatch, return_train_score, return_estimator, error_score)\u001B[0m\n\u001B[1;32m    264\u001B[0m \u001B[38;5;66;03m# We clone the estimator to make sure that all the folds are\u001B[39;00m\n\u001B[1;32m    265\u001B[0m \u001B[38;5;66;03m# independent, and that it is pickle-able.\u001B[39;00m\n\u001B[1;32m    266\u001B[0m parallel \u001B[38;5;241m=\u001B[39m Parallel(n_jobs\u001B[38;5;241m=\u001B[39mn_jobs, verbose\u001B[38;5;241m=\u001B[39mverbose, pre_dispatch\u001B[38;5;241m=\u001B[39mpre_dispatch)\n\u001B[0;32m--> 267\u001B[0m results \u001B[38;5;241m=\u001B[39m \u001B[43mparallel\u001B[49m\u001B[43m(\u001B[49m\n\u001B[1;32m    268\u001B[0m \u001B[43m    \u001B[49m\u001B[43mdelayed\u001B[49m\u001B[43m(\u001B[49m\u001B[43m_fit_and_score\u001B[49m\u001B[43m)\u001B[49m\u001B[43m(\u001B[49m\n\u001B[1;32m    269\u001B[0m \u001B[43m        \u001B[49m\u001B[43mclone\u001B[49m\u001B[43m(\u001B[49m\u001B[43mestimator\u001B[49m\u001B[43m)\u001B[49m\u001B[43m,\u001B[49m\n\u001B[1;32m    270\u001B[0m \u001B[43m        \u001B[49m\u001B[43mX\u001B[49m\u001B[43m,\u001B[49m\n\u001B[1;32m    271\u001B[0m \u001B[43m        \u001B[49m\u001B[43my\u001B[49m\u001B[43m,\u001B[49m\n\u001B[1;32m    272\u001B[0m \u001B[43m        \u001B[49m\u001B[43mscorers\u001B[49m\u001B[43m,\u001B[49m\n\u001B[1;32m    273\u001B[0m \u001B[43m        \u001B[49m\u001B[43mtrain\u001B[49m\u001B[43m,\u001B[49m\n\u001B[1;32m    274\u001B[0m \u001B[43m        \u001B[49m\u001B[43mtest\u001B[49m\u001B[43m,\u001B[49m\n\u001B[1;32m    275\u001B[0m \u001B[43m        \u001B[49m\u001B[43mverbose\u001B[49m\u001B[43m,\u001B[49m\n\u001B[1;32m    276\u001B[0m \u001B[43m        \u001B[49m\u001B[38;5;28;43;01mNone\u001B[39;49;00m\u001B[43m,\u001B[49m\n\u001B[1;32m    277\u001B[0m \u001B[43m        \u001B[49m\u001B[43mfit_params\u001B[49m\u001B[43m,\u001B[49m\n\u001B[1;32m    278\u001B[0m \u001B[43m        \u001B[49m\u001B[43mreturn_train_score\u001B[49m\u001B[38;5;241;43m=\u001B[39;49m\u001B[43mreturn_train_score\u001B[49m\u001B[43m,\u001B[49m\n\u001B[1;32m    279\u001B[0m \u001B[43m        \u001B[49m\u001B[43mreturn_times\u001B[49m\u001B[38;5;241;43m=\u001B[39;49m\u001B[38;5;28;43;01mTrue\u001B[39;49;00m\u001B[43m,\u001B[49m\n\u001B[1;32m    280\u001B[0m \u001B[43m        \u001B[49m\u001B[43mreturn_estimator\u001B[49m\u001B[38;5;241;43m=\u001B[39;49m\u001B[43mreturn_estimator\u001B[49m\u001B[43m,\u001B[49m\n\u001B[1;32m    281\u001B[0m \u001B[43m        \u001B[49m\u001B[43merror_score\u001B[49m\u001B[38;5;241;43m=\u001B[39;49m\u001B[43merror_score\u001B[49m\u001B[43m,\u001B[49m\n\u001B[1;32m    282\u001B[0m \u001B[43m    \u001B[49m\u001B[43m)\u001B[49m\n\u001B[1;32m    283\u001B[0m \u001B[43m    \u001B[49m\u001B[38;5;28;43;01mfor\u001B[39;49;00m\u001B[43m \u001B[49m\u001B[43mtrain\u001B[49m\u001B[43m,\u001B[49m\u001B[43m \u001B[49m\u001B[43mtest\u001B[49m\u001B[43m \u001B[49m\u001B[38;5;129;43;01min\u001B[39;49;00m\u001B[43m \u001B[49m\u001B[43mcv\u001B[49m\u001B[38;5;241;43m.\u001B[39;49m\u001B[43msplit\u001B[49m\u001B[43m(\u001B[49m\u001B[43mX\u001B[49m\u001B[43m,\u001B[49m\u001B[43m \u001B[49m\u001B[43my\u001B[49m\u001B[43m,\u001B[49m\u001B[43m \u001B[49m\u001B[43mgroups\u001B[49m\u001B[43m)\u001B[49m\n\u001B[1;32m    284\u001B[0m \u001B[43m\u001B[49m\u001B[43m)\u001B[49m\n\u001B[1;32m    286\u001B[0m _warn_about_fit_failures(results, error_score)\n\u001B[1;32m    288\u001B[0m \u001B[38;5;66;03m# For callabe scoring, the return type is only know after calling. If the\u001B[39;00m\n\u001B[1;32m    289\u001B[0m \u001B[38;5;66;03m# return type is a dictionary, the error scores can now be inserted with\u001B[39;00m\n\u001B[1;32m    290\u001B[0m \u001B[38;5;66;03m# the correct key.\u001B[39;00m\n",
      "File \u001B[0;32m~/miniconda3/envs/quant/lib/python3.9/site-packages/joblib/parallel.py:1046\u001B[0m, in \u001B[0;36mParallel.__call__\u001B[0;34m(self, iterable)\u001B[0m\n\u001B[1;32m   1043\u001B[0m \u001B[38;5;28;01mif\u001B[39;00m \u001B[38;5;28mself\u001B[39m\u001B[38;5;241m.\u001B[39mdispatch_one_batch(iterator):\n\u001B[1;32m   1044\u001B[0m     \u001B[38;5;28mself\u001B[39m\u001B[38;5;241m.\u001B[39m_iterating \u001B[38;5;241m=\u001B[39m \u001B[38;5;28mself\u001B[39m\u001B[38;5;241m.\u001B[39m_original_iterator \u001B[38;5;129;01mis\u001B[39;00m \u001B[38;5;129;01mnot\u001B[39;00m \u001B[38;5;28;01mNone\u001B[39;00m\n\u001B[0;32m-> 1046\u001B[0m \u001B[38;5;28;01mwhile\u001B[39;00m \u001B[38;5;28;43mself\u001B[39;49m\u001B[38;5;241;43m.\u001B[39;49m\u001B[43mdispatch_one_batch\u001B[49m\u001B[43m(\u001B[49m\u001B[43miterator\u001B[49m\u001B[43m)\u001B[49m:\n\u001B[1;32m   1047\u001B[0m     \u001B[38;5;28;01mpass\u001B[39;00m\n\u001B[1;32m   1049\u001B[0m \u001B[38;5;28;01mif\u001B[39;00m pre_dispatch \u001B[38;5;241m==\u001B[39m \u001B[38;5;124m\"\u001B[39m\u001B[38;5;124mall\u001B[39m\u001B[38;5;124m\"\u001B[39m \u001B[38;5;129;01mor\u001B[39;00m n_jobs \u001B[38;5;241m==\u001B[39m \u001B[38;5;241m1\u001B[39m:\n\u001B[1;32m   1050\u001B[0m     \u001B[38;5;66;03m# The iterable was consumed all at once by the above for loop.\u001B[39;00m\n\u001B[1;32m   1051\u001B[0m     \u001B[38;5;66;03m# No need to wait for async callbacks to trigger to\u001B[39;00m\n\u001B[1;32m   1052\u001B[0m     \u001B[38;5;66;03m# consumption.\u001B[39;00m\n",
      "File \u001B[0;32m~/miniconda3/envs/quant/lib/python3.9/site-packages/joblib/parallel.py:861\u001B[0m, in \u001B[0;36mParallel.dispatch_one_batch\u001B[0;34m(self, iterator)\u001B[0m\n\u001B[1;32m    859\u001B[0m     \u001B[38;5;28;01mreturn\u001B[39;00m \u001B[38;5;28;01mFalse\u001B[39;00m\n\u001B[1;32m    860\u001B[0m \u001B[38;5;28;01melse\u001B[39;00m:\n\u001B[0;32m--> 861\u001B[0m     \u001B[38;5;28;43mself\u001B[39;49m\u001B[38;5;241;43m.\u001B[39;49m\u001B[43m_dispatch\u001B[49m\u001B[43m(\u001B[49m\u001B[43mtasks\u001B[49m\u001B[43m)\u001B[49m\n\u001B[1;32m    862\u001B[0m     \u001B[38;5;28;01mreturn\u001B[39;00m \u001B[38;5;28;01mTrue\u001B[39;00m\n",
      "File \u001B[0;32m~/miniconda3/envs/quant/lib/python3.9/site-packages/joblib/parallel.py:779\u001B[0m, in \u001B[0;36mParallel._dispatch\u001B[0;34m(self, batch)\u001B[0m\n\u001B[1;32m    777\u001B[0m \u001B[38;5;28;01mwith\u001B[39;00m \u001B[38;5;28mself\u001B[39m\u001B[38;5;241m.\u001B[39m_lock:\n\u001B[1;32m    778\u001B[0m     job_idx \u001B[38;5;241m=\u001B[39m \u001B[38;5;28mlen\u001B[39m(\u001B[38;5;28mself\u001B[39m\u001B[38;5;241m.\u001B[39m_jobs)\n\u001B[0;32m--> 779\u001B[0m     job \u001B[38;5;241m=\u001B[39m \u001B[38;5;28;43mself\u001B[39;49m\u001B[38;5;241;43m.\u001B[39;49m\u001B[43m_backend\u001B[49m\u001B[38;5;241;43m.\u001B[39;49m\u001B[43mapply_async\u001B[49m\u001B[43m(\u001B[49m\u001B[43mbatch\u001B[49m\u001B[43m,\u001B[49m\u001B[43m \u001B[49m\u001B[43mcallback\u001B[49m\u001B[38;5;241;43m=\u001B[39;49m\u001B[43mcb\u001B[49m\u001B[43m)\u001B[49m\n\u001B[1;32m    780\u001B[0m     \u001B[38;5;66;03m# A job can complete so quickly than its callback is\u001B[39;00m\n\u001B[1;32m    781\u001B[0m     \u001B[38;5;66;03m# called before we get here, causing self._jobs to\u001B[39;00m\n\u001B[1;32m    782\u001B[0m     \u001B[38;5;66;03m# grow. To ensure correct results ordering, .insert is\u001B[39;00m\n\u001B[1;32m    783\u001B[0m     \u001B[38;5;66;03m# used (rather than .append) in the following line\u001B[39;00m\n\u001B[1;32m    784\u001B[0m     \u001B[38;5;28mself\u001B[39m\u001B[38;5;241m.\u001B[39m_jobs\u001B[38;5;241m.\u001B[39minsert(job_idx, job)\n",
      "File \u001B[0;32m~/miniconda3/envs/quant/lib/python3.9/site-packages/joblib/_parallel_backends.py:208\u001B[0m, in \u001B[0;36mSequentialBackend.apply_async\u001B[0;34m(self, func, callback)\u001B[0m\n\u001B[1;32m    206\u001B[0m \u001B[38;5;28;01mdef\u001B[39;00m \u001B[38;5;21mapply_async\u001B[39m(\u001B[38;5;28mself\u001B[39m, func, callback\u001B[38;5;241m=\u001B[39m\u001B[38;5;28;01mNone\u001B[39;00m):\n\u001B[1;32m    207\u001B[0m     \u001B[38;5;124;03m\"\"\"Schedule a func to be run\"\"\"\u001B[39;00m\n\u001B[0;32m--> 208\u001B[0m     result \u001B[38;5;241m=\u001B[39m \u001B[43mImmediateResult\u001B[49m\u001B[43m(\u001B[49m\u001B[43mfunc\u001B[49m\u001B[43m)\u001B[49m\n\u001B[1;32m    209\u001B[0m     \u001B[38;5;28;01mif\u001B[39;00m callback:\n\u001B[1;32m    210\u001B[0m         callback(result)\n",
      "File \u001B[0;32m~/miniconda3/envs/quant/lib/python3.9/site-packages/joblib/_parallel_backends.py:572\u001B[0m, in \u001B[0;36mImmediateResult.__init__\u001B[0;34m(self, batch)\u001B[0m\n\u001B[1;32m    569\u001B[0m \u001B[38;5;28;01mdef\u001B[39;00m \u001B[38;5;21m__init__\u001B[39m(\u001B[38;5;28mself\u001B[39m, batch):\n\u001B[1;32m    570\u001B[0m     \u001B[38;5;66;03m# Don't delay the application, to avoid keeping the input\u001B[39;00m\n\u001B[1;32m    571\u001B[0m     \u001B[38;5;66;03m# arguments in memory\u001B[39;00m\n\u001B[0;32m--> 572\u001B[0m     \u001B[38;5;28mself\u001B[39m\u001B[38;5;241m.\u001B[39mresults \u001B[38;5;241m=\u001B[39m \u001B[43mbatch\u001B[49m\u001B[43m(\u001B[49m\u001B[43m)\u001B[49m\n",
      "File \u001B[0;32m~/miniconda3/envs/quant/lib/python3.9/site-packages/joblib/parallel.py:262\u001B[0m, in \u001B[0;36mBatchedCalls.__call__\u001B[0;34m(self)\u001B[0m\n\u001B[1;32m    258\u001B[0m \u001B[38;5;28;01mdef\u001B[39;00m \u001B[38;5;21m__call__\u001B[39m(\u001B[38;5;28mself\u001B[39m):\n\u001B[1;32m    259\u001B[0m     \u001B[38;5;66;03m# Set the default nested backend to self._backend but do not set the\u001B[39;00m\n\u001B[1;32m    260\u001B[0m     \u001B[38;5;66;03m# change the default number of processes to -1\u001B[39;00m\n\u001B[1;32m    261\u001B[0m     \u001B[38;5;28;01mwith\u001B[39;00m parallel_backend(\u001B[38;5;28mself\u001B[39m\u001B[38;5;241m.\u001B[39m_backend, n_jobs\u001B[38;5;241m=\u001B[39m\u001B[38;5;28mself\u001B[39m\u001B[38;5;241m.\u001B[39m_n_jobs):\n\u001B[0;32m--> 262\u001B[0m         \u001B[38;5;28;01mreturn\u001B[39;00m [func(\u001B[38;5;241m*\u001B[39margs, \u001B[38;5;241m*\u001B[39m\u001B[38;5;241m*\u001B[39mkwargs)\n\u001B[1;32m    263\u001B[0m                 \u001B[38;5;28;01mfor\u001B[39;00m func, args, kwargs \u001B[38;5;129;01min\u001B[39;00m \u001B[38;5;28mself\u001B[39m\u001B[38;5;241m.\u001B[39mitems]\n",
      "File \u001B[0;32m~/miniconda3/envs/quant/lib/python3.9/site-packages/joblib/parallel.py:262\u001B[0m, in \u001B[0;36m<listcomp>\u001B[0;34m(.0)\u001B[0m\n\u001B[1;32m    258\u001B[0m \u001B[38;5;28;01mdef\u001B[39;00m \u001B[38;5;21m__call__\u001B[39m(\u001B[38;5;28mself\u001B[39m):\n\u001B[1;32m    259\u001B[0m     \u001B[38;5;66;03m# Set the default nested backend to self._backend but do not set the\u001B[39;00m\n\u001B[1;32m    260\u001B[0m     \u001B[38;5;66;03m# change the default number of processes to -1\u001B[39;00m\n\u001B[1;32m    261\u001B[0m     \u001B[38;5;28;01mwith\u001B[39;00m parallel_backend(\u001B[38;5;28mself\u001B[39m\u001B[38;5;241m.\u001B[39m_backend, n_jobs\u001B[38;5;241m=\u001B[39m\u001B[38;5;28mself\u001B[39m\u001B[38;5;241m.\u001B[39m_n_jobs):\n\u001B[0;32m--> 262\u001B[0m         \u001B[38;5;28;01mreturn\u001B[39;00m [\u001B[43mfunc\u001B[49m\u001B[43m(\u001B[49m\u001B[38;5;241;43m*\u001B[39;49m\u001B[43margs\u001B[49m\u001B[43m,\u001B[49m\u001B[43m \u001B[49m\u001B[38;5;241;43m*\u001B[39;49m\u001B[38;5;241;43m*\u001B[39;49m\u001B[43mkwargs\u001B[49m\u001B[43m)\u001B[49m\n\u001B[1;32m    263\u001B[0m                 \u001B[38;5;28;01mfor\u001B[39;00m func, args, kwargs \u001B[38;5;129;01min\u001B[39;00m \u001B[38;5;28mself\u001B[39m\u001B[38;5;241m.\u001B[39mitems]\n",
      "File \u001B[0;32m~/miniconda3/envs/quant/lib/python3.9/site-packages/sklearn/utils/fixes.py:216\u001B[0m, in \u001B[0;36m_FuncWrapper.__call__\u001B[0;34m(self, *args, **kwargs)\u001B[0m\n\u001B[1;32m    214\u001B[0m \u001B[38;5;28;01mdef\u001B[39;00m \u001B[38;5;21m__call__\u001B[39m(\u001B[38;5;28mself\u001B[39m, \u001B[38;5;241m*\u001B[39margs, \u001B[38;5;241m*\u001B[39m\u001B[38;5;241m*\u001B[39mkwargs):\n\u001B[1;32m    215\u001B[0m     \u001B[38;5;28;01mwith\u001B[39;00m config_context(\u001B[38;5;241m*\u001B[39m\u001B[38;5;241m*\u001B[39m\u001B[38;5;28mself\u001B[39m\u001B[38;5;241m.\u001B[39mconfig):\n\u001B[0;32m--> 216\u001B[0m         \u001B[38;5;28;01mreturn\u001B[39;00m \u001B[38;5;28;43mself\u001B[39;49m\u001B[38;5;241;43m.\u001B[39;49m\u001B[43mfunction\u001B[49m\u001B[43m(\u001B[49m\u001B[38;5;241;43m*\u001B[39;49m\u001B[43margs\u001B[49m\u001B[43m,\u001B[49m\u001B[43m \u001B[49m\u001B[38;5;241;43m*\u001B[39;49m\u001B[38;5;241;43m*\u001B[39;49m\u001B[43mkwargs\u001B[49m\u001B[43m)\u001B[49m\n",
      "File \u001B[0;32m~/miniconda3/envs/quant/lib/python3.9/site-packages/sklearn/model_selection/_validation.py:680\u001B[0m, in \u001B[0;36m_fit_and_score\u001B[0;34m(estimator, X, y, scorer, train, test, verbose, parameters, fit_params, return_train_score, return_parameters, return_n_test_samples, return_times, return_estimator, split_progress, candidate_progress, error_score)\u001B[0m\n\u001B[1;32m    678\u001B[0m         estimator\u001B[38;5;241m.\u001B[39mfit(X_train, \u001B[38;5;241m*\u001B[39m\u001B[38;5;241m*\u001B[39mfit_params)\n\u001B[1;32m    679\u001B[0m     \u001B[38;5;28;01melse\u001B[39;00m:\n\u001B[0;32m--> 680\u001B[0m         \u001B[43mestimator\u001B[49m\u001B[38;5;241;43m.\u001B[39;49m\u001B[43mfit\u001B[49m\u001B[43m(\u001B[49m\u001B[43mX_train\u001B[49m\u001B[43m,\u001B[49m\u001B[43m \u001B[49m\u001B[43my_train\u001B[49m\u001B[43m,\u001B[49m\u001B[43m \u001B[49m\u001B[38;5;241;43m*\u001B[39;49m\u001B[38;5;241;43m*\u001B[39;49m\u001B[43mfit_params\u001B[49m\u001B[43m)\u001B[49m\n\u001B[1;32m    682\u001B[0m \u001B[38;5;28;01mexcept\u001B[39;00m \u001B[38;5;167;01mException\u001B[39;00m:\n\u001B[1;32m    683\u001B[0m     \u001B[38;5;66;03m# Note fit time as time until error\u001B[39;00m\n\u001B[1;32m    684\u001B[0m     fit_time \u001B[38;5;241m=\u001B[39m time\u001B[38;5;241m.\u001B[39mtime() \u001B[38;5;241m-\u001B[39m start_time\n",
      "File \u001B[0;32m~/miniconda3/envs/quant/lib/python3.9/site-packages/sklearn/ensemble/_forest.py:450\u001B[0m, in \u001B[0;36mBaseForest.fit\u001B[0;34m(self, X, y, sample_weight)\u001B[0m\n\u001B[1;32m    439\u001B[0m trees \u001B[38;5;241m=\u001B[39m [\n\u001B[1;32m    440\u001B[0m     \u001B[38;5;28mself\u001B[39m\u001B[38;5;241m.\u001B[39m_make_estimator(append\u001B[38;5;241m=\u001B[39m\u001B[38;5;28;01mFalse\u001B[39;00m, random_state\u001B[38;5;241m=\u001B[39mrandom_state)\n\u001B[1;32m    441\u001B[0m     \u001B[38;5;28;01mfor\u001B[39;00m i \u001B[38;5;129;01min\u001B[39;00m \u001B[38;5;28mrange\u001B[39m(n_more_estimators)\n\u001B[1;32m    442\u001B[0m ]\n\u001B[1;32m    444\u001B[0m \u001B[38;5;66;03m# Parallel loop: we prefer the threading backend as the Cython code\u001B[39;00m\n\u001B[1;32m    445\u001B[0m \u001B[38;5;66;03m# for fitting the trees is internally releasing the Python GIL\u001B[39;00m\n\u001B[1;32m    446\u001B[0m \u001B[38;5;66;03m# making threading more efficient than multiprocessing in\u001B[39;00m\n\u001B[1;32m    447\u001B[0m \u001B[38;5;66;03m# that case. However, for joblib 0.12+ we respect any\u001B[39;00m\n\u001B[1;32m    448\u001B[0m \u001B[38;5;66;03m# parallel_backend contexts set at a higher level,\u001B[39;00m\n\u001B[1;32m    449\u001B[0m \u001B[38;5;66;03m# since correctness does not rely on using threads.\u001B[39;00m\n\u001B[0;32m--> 450\u001B[0m trees \u001B[38;5;241m=\u001B[39m \u001B[43mParallel\u001B[49m\u001B[43m(\u001B[49m\n\u001B[1;32m    451\u001B[0m \u001B[43m    \u001B[49m\u001B[43mn_jobs\u001B[49m\u001B[38;5;241;43m=\u001B[39;49m\u001B[38;5;28;43mself\u001B[39;49m\u001B[38;5;241;43m.\u001B[39;49m\u001B[43mn_jobs\u001B[49m\u001B[43m,\u001B[49m\n\u001B[1;32m    452\u001B[0m \u001B[43m    \u001B[49m\u001B[43mverbose\u001B[49m\u001B[38;5;241;43m=\u001B[39;49m\u001B[38;5;28;43mself\u001B[39;49m\u001B[38;5;241;43m.\u001B[39;49m\u001B[43mverbose\u001B[49m\u001B[43m,\u001B[49m\n\u001B[1;32m    453\u001B[0m \u001B[43m    \u001B[49m\u001B[38;5;241;43m*\u001B[39;49m\u001B[38;5;241;43m*\u001B[39;49m\u001B[43m_joblib_parallel_args\u001B[49m\u001B[43m(\u001B[49m\u001B[43mprefer\u001B[49m\u001B[38;5;241;43m=\u001B[39;49m\u001B[38;5;124;43m\"\u001B[39;49m\u001B[38;5;124;43mthreads\u001B[39;49m\u001B[38;5;124;43m\"\u001B[39;49m\u001B[43m)\u001B[49m\u001B[43m,\u001B[49m\n\u001B[1;32m    454\u001B[0m \u001B[43m\u001B[49m\u001B[43m)\u001B[49m\u001B[43m(\u001B[49m\n\u001B[1;32m    455\u001B[0m \u001B[43m    \u001B[49m\u001B[43mdelayed\u001B[49m\u001B[43m(\u001B[49m\u001B[43m_parallel_build_trees\u001B[49m\u001B[43m)\u001B[49m\u001B[43m(\u001B[49m\n\u001B[1;32m    456\u001B[0m \u001B[43m        \u001B[49m\u001B[43mt\u001B[49m\u001B[43m,\u001B[49m\n\u001B[1;32m    457\u001B[0m \u001B[43m        \u001B[49m\u001B[38;5;28;43mself\u001B[39;49m\u001B[43m,\u001B[49m\n\u001B[1;32m    458\u001B[0m \u001B[43m        \u001B[49m\u001B[43mX\u001B[49m\u001B[43m,\u001B[49m\n\u001B[1;32m    459\u001B[0m \u001B[43m        \u001B[49m\u001B[43my\u001B[49m\u001B[43m,\u001B[49m\n\u001B[1;32m    460\u001B[0m \u001B[43m        \u001B[49m\u001B[43msample_weight\u001B[49m\u001B[43m,\u001B[49m\n\u001B[1;32m    461\u001B[0m \u001B[43m        \u001B[49m\u001B[43mi\u001B[49m\u001B[43m,\u001B[49m\n\u001B[1;32m    462\u001B[0m \u001B[43m        \u001B[49m\u001B[38;5;28;43mlen\u001B[39;49m\u001B[43m(\u001B[49m\u001B[43mtrees\u001B[49m\u001B[43m)\u001B[49m\u001B[43m,\u001B[49m\n\u001B[1;32m    463\u001B[0m \u001B[43m        \u001B[49m\u001B[43mverbose\u001B[49m\u001B[38;5;241;43m=\u001B[39;49m\u001B[38;5;28;43mself\u001B[39;49m\u001B[38;5;241;43m.\u001B[39;49m\u001B[43mverbose\u001B[49m\u001B[43m,\u001B[49m\n\u001B[1;32m    464\u001B[0m \u001B[43m        \u001B[49m\u001B[43mclass_weight\u001B[49m\u001B[38;5;241;43m=\u001B[39;49m\u001B[38;5;28;43mself\u001B[39;49m\u001B[38;5;241;43m.\u001B[39;49m\u001B[43mclass_weight\u001B[49m\u001B[43m,\u001B[49m\n\u001B[1;32m    465\u001B[0m \u001B[43m        \u001B[49m\u001B[43mn_samples_bootstrap\u001B[49m\u001B[38;5;241;43m=\u001B[39;49m\u001B[43mn_samples_bootstrap\u001B[49m\u001B[43m,\u001B[49m\n\u001B[1;32m    466\u001B[0m \u001B[43m    \u001B[49m\u001B[43m)\u001B[49m\n\u001B[1;32m    467\u001B[0m \u001B[43m    \u001B[49m\u001B[38;5;28;43;01mfor\u001B[39;49;00m\u001B[43m \u001B[49m\u001B[43mi\u001B[49m\u001B[43m,\u001B[49m\u001B[43m \u001B[49m\u001B[43mt\u001B[49m\u001B[43m \u001B[49m\u001B[38;5;129;43;01min\u001B[39;49;00m\u001B[43m \u001B[49m\u001B[38;5;28;43menumerate\u001B[39;49m\u001B[43m(\u001B[49m\u001B[43mtrees\u001B[49m\u001B[43m)\u001B[49m\n\u001B[1;32m    468\u001B[0m \u001B[43m\u001B[49m\u001B[43m)\u001B[49m\n\u001B[1;32m    470\u001B[0m \u001B[38;5;66;03m# Collect newly grown trees\u001B[39;00m\n\u001B[1;32m    471\u001B[0m \u001B[38;5;28mself\u001B[39m\u001B[38;5;241m.\u001B[39mestimators_\u001B[38;5;241m.\u001B[39mextend(trees)\n",
      "File \u001B[0;32m~/miniconda3/envs/quant/lib/python3.9/site-packages/joblib/parallel.py:1056\u001B[0m, in \u001B[0;36mParallel.__call__\u001B[0;34m(self, iterable)\u001B[0m\n\u001B[1;32m   1053\u001B[0m     \u001B[38;5;28mself\u001B[39m\u001B[38;5;241m.\u001B[39m_iterating \u001B[38;5;241m=\u001B[39m \u001B[38;5;28;01mFalse\u001B[39;00m\n\u001B[1;32m   1055\u001B[0m \u001B[38;5;28;01mwith\u001B[39;00m \u001B[38;5;28mself\u001B[39m\u001B[38;5;241m.\u001B[39m_backend\u001B[38;5;241m.\u001B[39mretrieval_context():\n\u001B[0;32m-> 1056\u001B[0m     \u001B[38;5;28;43mself\u001B[39;49m\u001B[38;5;241;43m.\u001B[39;49m\u001B[43mretrieve\u001B[49m\u001B[43m(\u001B[49m\u001B[43m)\u001B[49m\n\u001B[1;32m   1057\u001B[0m \u001B[38;5;66;03m# Make sure that we get a last message telling us we are done\u001B[39;00m\n\u001B[1;32m   1058\u001B[0m elapsed_time \u001B[38;5;241m=\u001B[39m time\u001B[38;5;241m.\u001B[39mtime() \u001B[38;5;241m-\u001B[39m \u001B[38;5;28mself\u001B[39m\u001B[38;5;241m.\u001B[39m_start_time\n",
      "File \u001B[0;32m~/miniconda3/envs/quant/lib/python3.9/site-packages/joblib/parallel.py:935\u001B[0m, in \u001B[0;36mParallel.retrieve\u001B[0;34m(self)\u001B[0m\n\u001B[1;32m    933\u001B[0m \u001B[38;5;28;01mtry\u001B[39;00m:\n\u001B[1;32m    934\u001B[0m     \u001B[38;5;28;01mif\u001B[39;00m \u001B[38;5;28mgetattr\u001B[39m(\u001B[38;5;28mself\u001B[39m\u001B[38;5;241m.\u001B[39m_backend, \u001B[38;5;124m'\u001B[39m\u001B[38;5;124msupports_timeout\u001B[39m\u001B[38;5;124m'\u001B[39m, \u001B[38;5;28;01mFalse\u001B[39;00m):\n\u001B[0;32m--> 935\u001B[0m         \u001B[38;5;28mself\u001B[39m\u001B[38;5;241m.\u001B[39m_output\u001B[38;5;241m.\u001B[39mextend(\u001B[43mjob\u001B[49m\u001B[38;5;241;43m.\u001B[39;49m\u001B[43mget\u001B[49m\u001B[43m(\u001B[49m\u001B[43mtimeout\u001B[49m\u001B[38;5;241;43m=\u001B[39;49m\u001B[38;5;28;43mself\u001B[39;49m\u001B[38;5;241;43m.\u001B[39;49m\u001B[43mtimeout\u001B[49m\u001B[43m)\u001B[49m)\n\u001B[1;32m    936\u001B[0m     \u001B[38;5;28;01melse\u001B[39;00m:\n\u001B[1;32m    937\u001B[0m         \u001B[38;5;28mself\u001B[39m\u001B[38;5;241m.\u001B[39m_output\u001B[38;5;241m.\u001B[39mextend(job\u001B[38;5;241m.\u001B[39mget())\n",
      "File \u001B[0;32m~/miniconda3/envs/quant/lib/python3.9/site-packages/joblib/_parallel_backends.py:542\u001B[0m, in \u001B[0;36mLokyBackend.wrap_future_result\u001B[0;34m(future, timeout)\u001B[0m\n\u001B[1;32m    539\u001B[0m \u001B[38;5;124;03m\"\"\"Wrapper for Future.result to implement the same behaviour as\u001B[39;00m\n\u001B[1;32m    540\u001B[0m \u001B[38;5;124;03mAsyncResults.get from multiprocessing.\"\"\"\u001B[39;00m\n\u001B[1;32m    541\u001B[0m \u001B[38;5;28;01mtry\u001B[39;00m:\n\u001B[0;32m--> 542\u001B[0m     \u001B[38;5;28;01mreturn\u001B[39;00m \u001B[43mfuture\u001B[49m\u001B[38;5;241;43m.\u001B[39;49m\u001B[43mresult\u001B[49m\u001B[43m(\u001B[49m\u001B[43mtimeout\u001B[49m\u001B[38;5;241;43m=\u001B[39;49m\u001B[43mtimeout\u001B[49m\u001B[43m)\u001B[49m\n\u001B[1;32m    543\u001B[0m \u001B[38;5;28;01mexcept\u001B[39;00m CfTimeoutError \u001B[38;5;28;01mas\u001B[39;00m e:\n\u001B[1;32m    544\u001B[0m     \u001B[38;5;28;01mraise\u001B[39;00m \u001B[38;5;167;01mTimeoutError\u001B[39;00m \u001B[38;5;28;01mfrom\u001B[39;00m \u001B[38;5;21;01me\u001B[39;00m\n",
      "File \u001B[0;32m~/miniconda3/envs/quant/lib/python3.9/concurrent/futures/_base.py:440\u001B[0m, in \u001B[0;36mFuture.result\u001B[0;34m(self, timeout)\u001B[0m\n\u001B[1;32m    437\u001B[0m \u001B[38;5;28;01melif\u001B[39;00m \u001B[38;5;28mself\u001B[39m\u001B[38;5;241m.\u001B[39m_state \u001B[38;5;241m==\u001B[39m FINISHED:\n\u001B[1;32m    438\u001B[0m     \u001B[38;5;28;01mreturn\u001B[39;00m \u001B[38;5;28mself\u001B[39m\u001B[38;5;241m.\u001B[39m__get_result()\n\u001B[0;32m--> 440\u001B[0m \u001B[38;5;28;43mself\u001B[39;49m\u001B[38;5;241;43m.\u001B[39;49m\u001B[43m_condition\u001B[49m\u001B[38;5;241;43m.\u001B[39;49m\u001B[43mwait\u001B[49m\u001B[43m(\u001B[49m\u001B[43mtimeout\u001B[49m\u001B[43m)\u001B[49m\n\u001B[1;32m    442\u001B[0m \u001B[38;5;28;01mif\u001B[39;00m \u001B[38;5;28mself\u001B[39m\u001B[38;5;241m.\u001B[39m_state \u001B[38;5;129;01min\u001B[39;00m [CANCELLED, CANCELLED_AND_NOTIFIED]:\n\u001B[1;32m    443\u001B[0m     \u001B[38;5;28;01mraise\u001B[39;00m CancelledError()\n",
      "File \u001B[0;32m~/miniconda3/envs/quant/lib/python3.9/threading.py:312\u001B[0m, in \u001B[0;36mCondition.wait\u001B[0;34m(self, timeout)\u001B[0m\n\u001B[1;32m    310\u001B[0m \u001B[38;5;28;01mtry\u001B[39;00m:    \u001B[38;5;66;03m# restore state no matter what (e.g., KeyboardInterrupt)\u001B[39;00m\n\u001B[1;32m    311\u001B[0m     \u001B[38;5;28;01mif\u001B[39;00m timeout \u001B[38;5;129;01mis\u001B[39;00m \u001B[38;5;28;01mNone\u001B[39;00m:\n\u001B[0;32m--> 312\u001B[0m         \u001B[43mwaiter\u001B[49m\u001B[38;5;241;43m.\u001B[39;49m\u001B[43macquire\u001B[49m\u001B[43m(\u001B[49m\u001B[43m)\u001B[49m\n\u001B[1;32m    313\u001B[0m         gotit \u001B[38;5;241m=\u001B[39m \u001B[38;5;28;01mTrue\u001B[39;00m\n\u001B[1;32m    314\u001B[0m     \u001B[38;5;28;01melse\u001B[39;00m:\n",
      "\u001B[0;31mKeyboardInterrupt\u001B[0m: "
     ]
    }
   ],
   "source": [
    "# s_time_chunk = time.time()\n",
    "# clf = RandomForestClassifier(n_estimators=100,class_weight='balanced_subsample',criterion='entropy')\n",
    "# scores = cross_validate(clf, X, y, cv=5, scoring=('accuracy', 'f1', 'precision', 'recall'),return_train_score=True)\n",
    "# e_time_chunk = time.time()\n",
    "# print(f\"Total time: {e_time_chunk - s_time_chunk} sec\")\n",
    "\n",
    "s_time_chunk = time.time()\n",
    "clf = RandomForestClassifier(n_estimators=100,class_weight='balanced_subsample',criterion='entropy', n_jobs=-1)\n",
    "scores = cross_validate(clf, X, y, cv=5, scoring=('accuracy', 'f1', 'precision', 'recall'),return_train_score=True)\n",
    "e_time_chunk = time.time()\n",
    "print(f\"Total time: {e_time_chunk - s_time_chunk} sec\")"
   ],
   "metadata": {
    "collapsed": false,
    "pycharm": {
     "name": "#%%\n"
    }
   }
  },
  {
   "cell_type": "code",
   "execution_count": 47,
   "outputs": [
    {
     "data": {
      "text/plain": "                          alpha1    alpha2    alpha3  alpha4    alpha5  \\\npermaticker date                                                         \n104612      2022-01-10 -0.236569 -0.371428 -0.963897    -5.0 -0.119659   \n            2022-01-11 -0.111537  0.306276 -0.959182    -5.0 -0.523857   \n            2022-01-12 -0.058054  0.500763 -0.964285    -6.0 -0.640489   \n            2022-01-13 -0.346554  0.367854 -0.936529    -6.0 -0.340535   \n            2022-01-14 -0.277474 -0.389261 -0.930440    -6.0 -0.312737   \n...                          ...       ...       ...     ...       ...   \n637794      2022-03-14 -0.166695  0.637373 -0.922962    -7.0 -0.777463   \n            2022-03-15 -0.102859  0.430296 -0.919751    -7.0 -0.081093   \n            2022-03-16 -0.368640  0.371101 -0.904994    -7.0 -0.493559   \n            2022-03-17 -0.171894 -0.426732 -0.879794    -6.0 -0.054808   \n            2022-03-18 -0.111319 -0.419262 -0.775873    -7.0 -0.093871   \n\n                          alpha6  \npermaticker date                  \n104612      2022-01-10 -0.896131  \n            2022-01-11 -0.884942  \n            2022-01-12 -0.859963  \n            2022-01-13 -0.819221  \n            2022-01-14 -0.843895  \n...                          ...  \n637794      2022-03-14 -0.818239  \n            2022-03-15 -0.804018  \n            2022-03-16 -0.742509  \n            2022-03-17 -0.702113  \n            2022-03-18 -0.627809  \n\n[5267783 rows x 6 columns]",
      "text/html": "<div>\n<style scoped>\n    .dataframe tbody tr th:only-of-type {\n        vertical-align: middle;\n    }\n\n    .dataframe tbody tr th {\n        vertical-align: top;\n    }\n\n    .dataframe thead th {\n        text-align: right;\n    }\n</style>\n<table border=\"1\" class=\"dataframe\">\n  <thead>\n    <tr style=\"text-align: right;\">\n      <th></th>\n      <th></th>\n      <th>alpha1</th>\n      <th>alpha2</th>\n      <th>alpha3</th>\n      <th>alpha4</th>\n      <th>alpha5</th>\n      <th>alpha6</th>\n    </tr>\n    <tr>\n      <th>permaticker</th>\n      <th>date</th>\n      <th></th>\n      <th></th>\n      <th></th>\n      <th></th>\n      <th></th>\n      <th></th>\n    </tr>\n  </thead>\n  <tbody>\n    <tr>\n      <th rowspan=\"5\" valign=\"top\">104612</th>\n      <th>2022-01-10</th>\n      <td>-0.236569</td>\n      <td>-0.371428</td>\n      <td>-0.963897</td>\n      <td>-5.0</td>\n      <td>-0.119659</td>\n      <td>-0.896131</td>\n    </tr>\n    <tr>\n      <th>2022-01-11</th>\n      <td>-0.111537</td>\n      <td>0.306276</td>\n      <td>-0.959182</td>\n      <td>-5.0</td>\n      <td>-0.523857</td>\n      <td>-0.884942</td>\n    </tr>\n    <tr>\n      <th>2022-01-12</th>\n      <td>-0.058054</td>\n      <td>0.500763</td>\n      <td>-0.964285</td>\n      <td>-6.0</td>\n      <td>-0.640489</td>\n      <td>-0.859963</td>\n    </tr>\n    <tr>\n      <th>2022-01-13</th>\n      <td>-0.346554</td>\n      <td>0.367854</td>\n      <td>-0.936529</td>\n      <td>-6.0</td>\n      <td>-0.340535</td>\n      <td>-0.819221</td>\n    </tr>\n    <tr>\n      <th>2022-01-14</th>\n      <td>-0.277474</td>\n      <td>-0.389261</td>\n      <td>-0.930440</td>\n      <td>-6.0</td>\n      <td>-0.312737</td>\n      <td>-0.843895</td>\n    </tr>\n    <tr>\n      <th>...</th>\n      <th>...</th>\n      <td>...</td>\n      <td>...</td>\n      <td>...</td>\n      <td>...</td>\n      <td>...</td>\n      <td>...</td>\n    </tr>\n    <tr>\n      <th rowspan=\"5\" valign=\"top\">637794</th>\n      <th>2022-03-14</th>\n      <td>-0.166695</td>\n      <td>0.637373</td>\n      <td>-0.922962</td>\n      <td>-7.0</td>\n      <td>-0.777463</td>\n      <td>-0.818239</td>\n    </tr>\n    <tr>\n      <th>2022-03-15</th>\n      <td>-0.102859</td>\n      <td>0.430296</td>\n      <td>-0.919751</td>\n      <td>-7.0</td>\n      <td>-0.081093</td>\n      <td>-0.804018</td>\n    </tr>\n    <tr>\n      <th>2022-03-16</th>\n      <td>-0.368640</td>\n      <td>0.371101</td>\n      <td>-0.904994</td>\n      <td>-7.0</td>\n      <td>-0.493559</td>\n      <td>-0.742509</td>\n    </tr>\n    <tr>\n      <th>2022-03-17</th>\n      <td>-0.171894</td>\n      <td>-0.426732</td>\n      <td>-0.879794</td>\n      <td>-6.0</td>\n      <td>-0.054808</td>\n      <td>-0.702113</td>\n    </tr>\n    <tr>\n      <th>2022-03-18</th>\n      <td>-0.111319</td>\n      <td>-0.419262</td>\n      <td>-0.775873</td>\n      <td>-7.0</td>\n      <td>-0.093871</td>\n      <td>-0.627809</td>\n    </tr>\n  </tbody>\n</table>\n<p>5267783 rows × 6 columns</p>\n</div>"
     },
     "execution_count": 47,
     "metadata": {},
     "output_type": "execute_result"
    }
   ],
   "source": [
    "X"
   ],
   "metadata": {
    "collapsed": false,
    "pycharm": {
     "name": "#%%\n"
    }
   }
  },
  {
   "cell_type": "code",
   "execution_count": null,
   "outputs": [],
   "source": [],
   "metadata": {
    "collapsed": false,
    "pycharm": {
     "name": "#%%\n"
    }
   }
  }
 ],
 "metadata": {
  "kernelspec": {
   "display_name": "Python 3",
   "language": "python",
   "name": "python3"
  },
  "language_info": {
   "codemirror_mode": {
    "name": "ipython",
    "version": 2
   },
   "file_extension": ".py",
   "mimetype": "text/x-python",
   "name": "python",
   "nbconvert_exporter": "python",
   "pygments_lexer": "ipython2",
   "version": "2.7.6"
  }
 },
 "nbformat": 4,
 "nbformat_minor": 0
}