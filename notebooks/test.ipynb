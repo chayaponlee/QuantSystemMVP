{
 "cells": [
  {
   "cell_type": "code",
   "execution_count": 1,
   "id": "polish-negotiation",
   "metadata": {},
   "outputs": [],
   "source": [
    "import pandas as pd\n",
    "from realgam.quantlib import general_utils as gu\n",
    "import datetime"
   ]
  },
  {
   "cell_type": "code",
   "execution_count": 2,
   "id": "dried-popularity",
   "metadata": {},
   "outputs": [],
   "source": [
    "import os \n",
    "project_path = os.getenv('QuantSystemMVP')\n",
    "\n"
   ]
  },
  {
   "cell_type": "code",
   "execution_count": 5,
   "id": "6dd18a8e-03d3-47ff-9e15-7825259fbf1c",
   "metadata": {
    "pycharm": {
     "name": "#%%\n"
    }
   },
   "outputs": [],
   "source": [
    "stocks_df, stocks_extended_df, available_tickers = gu.load_file(f'{project_path}/Data/stock_hist.obj')"
   ]
  },
  {
   "cell_type": "code",
   "execution_count": null,
   "outputs": [],
   "source": [
    "stocks_df[stocks_df.ticker == 'AMZN']"
   ],
   "metadata": {
    "collapsed": false,
    "pycharm": {
     "name": "#%%\n",
     "is_executing": true
    }
   }
  },
  {
   "cell_type": "code",
   "execution_count": null,
   "outputs": [],
   "source": [],
   "metadata": {
    "collapsed": false,
    "pycharm": {
     "name": "#%%\n"
    }
   }
  }
 ],
 "metadata": {
  "kernelspec": {
   "display_name": "Python 3 (ipykernel)",
   "language": "python",
   "name": "python3"
  },
  "language_info": {
   "codemirror_mode": {
    "name": "ipython",
    "version": 3
   },
   "file_extension": ".py",
   "mimetype": "text/x-python",
   "name": "python",
   "nbconvert_exporter": "python",
   "pygments_lexer": "ipython3",
   "version": "3.9.7"
  }
 },
 "nbformat": 4,
 "nbformat_minor": 5
}