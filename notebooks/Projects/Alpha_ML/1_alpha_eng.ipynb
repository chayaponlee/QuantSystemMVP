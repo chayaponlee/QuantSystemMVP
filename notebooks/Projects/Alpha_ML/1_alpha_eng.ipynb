{
 "cells": [
  {
   "cell_type": "markdown",
   "source": [
    "Make sure you understand that when you use opfunction rank in AlphaEngineer it is the rank of the inputted assets in the universe. Since we defined our topcap30 universe, we cannot use that to compute our alpha factors because there will be gaps in each stock's time series (price is nan for example ฟันหลอ). Instead we have to use the original ohlcv dataset we have because that data is complete. One problem is the opfunction rank will not compute over topcap30 universe but over the whole stock universe."
   ],
   "metadata": {
    "collapsed": false
   }
  },
  {
   "cell_type": "code",
   "execution_count": 1,
   "metadata": {
    "collapsed": true
   },
   "outputs": [],
   "source": [
    "import pandas as pd\n",
    "import nasdaqdatalink as ndl\n",
    "import json\n",
    "import numpy as np\n",
    "from typing import List, Callable, Dict\n",
    "from realgam.quantlib import general_utils as gu\n",
    "from realgam.quantlib.engineer.op_engineer_vect import OpEngineerV\n",
    "from realgam.quantlib.engineer.ta_engineer_vect import TalibEngineerV\n",
    "from realgam.quantlib.engineer.alpha_engineer_vect import AlphaEngineerV\n",
    "from realgam.quantlib.engineer.alpha_engineer import AlphaEngineer\n",
    "\n",
    "from sklearn.feature_selection import mutual_info_regression\n",
    "from scipy.stats import spearmanr\n",
    "import matplotlib.pyplot as plt\n",
    "\n",
    "from talib import WMA\n",
    "import talib\n",
    "from joblib import Parallel, delayed\n",
    "import datetime\n",
    "import os\n",
    "import time\n",
    "PROJECT_PATH = os.getenv('QuantSystemMVP')\n",
    "DATA_PATH = f'{PROJECT_PATH}/Data/historical/stock_hist_perma.obj'"
   ]
  },
  {
   "cell_type": "code",
   "execution_count": 2,
   "outputs": [],
   "source": [
    "# uni_path = os.path.join(PROJECT_PATH, 'Data/Projects/Alpha_ML/universe_top30.obj')\n",
    "# uni_df = gu.load_file(uni_path)"
   ],
   "metadata": {
    "collapsed": false
   }
  },
  {
   "cell_type": "code",
   "execution_count": 2,
   "outputs": [],
   "source": [
    "stocks_df, stocks_extended_df, available_tickers = gu.load_file(DATA_PATH)\n",
    "stacked_hist = stocks_df.copy()"
   ],
   "metadata": {
    "collapsed": false
   }
  },
  {
   "cell_type": "code",
   "execution_count": 3,
   "outputs": [],
   "source": [
    "openg = OpEngineerV(stacked_hist, 'permaticker', 'date')\n",
    "openg.ts_ret(inplace=True)\n",
    "uni_df = openg.df.copy()\n",
    "uni_df.rename(columns={'ts_ret_closeadj': 'returns'}, inplace=True)"
   ],
   "metadata": {
    "collapsed": false
   }
  },
  {
   "cell_type": "code",
   "execution_count": 4,
   "outputs": [],
   "source": [
    "candle_name_dict = {'o': 'openadj', 'h': 'highadj', 'l': 'lowadj',\n",
    "                    'c': 'closeadj', 'v': 'volume', 'r': 'returns'}"
   ],
   "metadata": {
    "collapsed": false
   }
  },
  {
   "cell_type": "code",
   "execution_count": 5,
   "outputs": [],
   "source": [
    "ae = AlphaEngineer(uni_df, 'permaticker', 'date', candle_name_dict)"
   ],
   "metadata": {
    "collapsed": false
   }
  },
  {
   "cell_type": "code",
   "execution_count": 6,
   "outputs": [
    {
     "name": "stdout",
     "output_type": "stream",
     "text": [
      "Total time: 1290.7024109363556 sec\n"
     ]
    }
   ],
   "source": [
    "def run_eng(alpha_engineer, method_name):\n",
    "\n",
    "    return getattr(alpha_engineer, method_name)()\n",
    "\n",
    "alpha_eng_index = [i for i in range(1,31,1)]\n",
    "# alpha_eng_index = [1,2]\n",
    "alpha_eng_names = [f'alpha{index}' for index in alpha_eng_index]\n",
    "\n",
    "# logger.info('Begin')\n",
    "s_time_chunk = time.time()\n",
    "eng_values = Parallel(n_jobs=-1)(delayed(run_eng)(ae, eng_name) for eng_name in alpha_eng_names)\n",
    "e_time_chunk = time.time()\n",
    "print(f\"Total time: {e_time_chunk - s_time_chunk} sec\")"
   ],
   "metadata": {
    "collapsed": false
   }
  },
  {
   "cell_type": "code",
   "execution_count": 7,
   "outputs": [],
   "source": [
    "for eng_name, eng_value in zip(alpha_eng_names, eng_values):\n",
    "    uni_df[eng_name] = eng_value\n"
   ],
   "metadata": {
    "collapsed": false
   }
  },
  {
   "cell_type": "code",
   "execution_count": 8,
   "outputs": [],
   "source": [
    "SAVE_PATH = f'{PROJECT_PATH}/Data/Projects/Alpha_ML/alpha_eng_30.obj'\n",
    "gu.save_file(SAVE_PATH, uni_df)"
   ],
   "metadata": {
    "collapsed": false
   }
  },
  {
   "cell_type": "code",
   "execution_count": 9,
   "outputs": [
    {
     "data": {
      "text/plain": "                       ticker   open    high     low  close  openadj  highadj  \\\npermaticker date                                                                \n101501      2012-01-03  BBUCQ   0.03   0.030   0.030   0.03     0.03    0.030   \n            2012-01-04  BBUCQ   0.03   0.030   0.030   0.03     0.03    0.030   \n            2012-01-05  BBUCQ   0.03   0.030   0.030   0.03     0.03    0.030   \n            2012-01-06  BBUCQ   0.03   0.030   0.030   0.03     0.03    0.030   \n            2012-01-09  BBUCQ   0.03   0.030   0.030   0.03     0.03    0.030   \n...                       ...    ...     ...     ...    ...      ...      ...   \n639045      2022-09-21   THRD  16.88  17.748  16.510  16.88    16.88   17.748   \n            2022-09-22   THRD  16.88  18.360  16.350  16.75    16.88   18.360   \n            2022-09-23   THRD  16.49  17.109  16.065  17.00    16.49   17.109   \n639056      2022-09-22  GLSTU   9.97   9.990   9.960   9.98     9.97    9.990   \n            2022-09-23  GLSTU   9.97   9.985   9.970   9.97     9.97    9.985   \n\n                        lowadj  closeadj    volume  ...  alpha21  alpha22  \\\npermaticker date                                    ...                     \n101501      2012-01-03   0.030      0.03       0.0  ...        1      NaN   \n            2012-01-04   0.030      0.03       0.0  ...        1      NaN   \n            2012-01-05   0.030      0.03       0.0  ...        1      NaN   \n            2012-01-06   0.030      0.03       0.0  ...        1      NaN   \n            2012-01-09   0.030      0.03       0.0  ...        1      NaN   \n...                        ...       ...       ...  ...      ...      ...   \n639045      2022-09-21  16.510     16.88  453144.0  ...        1      NaN   \n            2022-09-22  16.350     16.75  266993.0  ...        1      NaN   \n            2022-09-23  16.065     17.00  121250.0  ...        1      NaN   \n639056      2022-09-22   9.960      9.98  606430.0  ...        1      NaN   \n            2022-09-23   9.970      9.97  196845.0  ...        1      NaN   \n\n                        alpha23  alpha24  alpha25  alpha26  alpha27  alpha28  \\\npermaticker date                                                               \n101501      2012-01-03      0.0      NaN      NaN      NaN     -0.0      NaN   \n            2012-01-04      0.0      NaN      NaN      NaN     -0.0      NaN   \n            2012-01-05      0.0      NaN      NaN      NaN     -0.0      NaN   \n            2012-01-06      0.0    -0.00      NaN      NaN     -0.0      NaN   \n            2012-01-09      0.0    -0.00      NaN      NaN     -0.0      NaN   \n...                         ...      ...      ...      ...      ...      ...   \n639045      2022-09-21      0.0     1.12      NaN      NaN     -0.0      NaN   \n            2022-09-22      0.0     0.25      NaN      NaN     -0.0      NaN   \n            2022-09-23      0.0    -0.20      NaN      NaN     -0.0      NaN   \n639056      2022-09-22      0.0      NaN      NaN      NaN     -0.0      NaN   \n            2022-09-23      0.0      NaN      NaN      NaN     -0.0      NaN   \n\n                        alpha29  alpha30  \npermaticker date                          \n101501      2012-01-03      NaN      NaN  \n            2012-01-04      NaN      NaN  \n            2012-01-05      NaN      NaN  \n            2012-01-06      NaN      NaN  \n            2012-01-09      NaN      NaN  \n...                         ...      ...  \n639045      2022-09-21      NaN      NaN  \n            2022-09-22      NaN      NaN  \n            2022-09-23      NaN      NaN  \n639056      2022-09-22      NaN      NaN  \n            2022-09-23      NaN      NaN  \n\n[12835372 rows x 41 columns]",
      "text/html": "<div>\n<style scoped>\n    .dataframe tbody tr th:only-of-type {\n        vertical-align: middle;\n    }\n\n    .dataframe tbody tr th {\n        vertical-align: top;\n    }\n\n    .dataframe thead th {\n        text-align: right;\n    }\n</style>\n<table border=\"1\" class=\"dataframe\">\n  <thead>\n    <tr style=\"text-align: right;\">\n      <th></th>\n      <th></th>\n      <th>ticker</th>\n      <th>open</th>\n      <th>high</th>\n      <th>low</th>\n      <th>close</th>\n      <th>openadj</th>\n      <th>highadj</th>\n      <th>lowadj</th>\n      <th>closeadj</th>\n      <th>volume</th>\n      <th>...</th>\n      <th>alpha21</th>\n      <th>alpha22</th>\n      <th>alpha23</th>\n      <th>alpha24</th>\n      <th>alpha25</th>\n      <th>alpha26</th>\n      <th>alpha27</th>\n      <th>alpha28</th>\n      <th>alpha29</th>\n      <th>alpha30</th>\n    </tr>\n    <tr>\n      <th>permaticker</th>\n      <th>date</th>\n      <th></th>\n      <th></th>\n      <th></th>\n      <th></th>\n      <th></th>\n      <th></th>\n      <th></th>\n      <th></th>\n      <th></th>\n      <th></th>\n      <th></th>\n      <th></th>\n      <th></th>\n      <th></th>\n      <th></th>\n      <th></th>\n      <th></th>\n      <th></th>\n      <th></th>\n      <th></th>\n      <th></th>\n    </tr>\n  </thead>\n  <tbody>\n    <tr>\n      <th rowspan=\"5\" valign=\"top\">101501</th>\n      <th>2012-01-03</th>\n      <td>BBUCQ</td>\n      <td>0.03</td>\n      <td>0.030</td>\n      <td>0.030</td>\n      <td>0.03</td>\n      <td>0.03</td>\n      <td>0.030</td>\n      <td>0.030</td>\n      <td>0.03</td>\n      <td>0.0</td>\n      <td>...</td>\n      <td>1</td>\n      <td>NaN</td>\n      <td>0.0</td>\n      <td>NaN</td>\n      <td>NaN</td>\n      <td>NaN</td>\n      <td>-0.0</td>\n      <td>NaN</td>\n      <td>NaN</td>\n      <td>NaN</td>\n    </tr>\n    <tr>\n      <th>2012-01-04</th>\n      <td>BBUCQ</td>\n      <td>0.03</td>\n      <td>0.030</td>\n      <td>0.030</td>\n      <td>0.03</td>\n      <td>0.03</td>\n      <td>0.030</td>\n      <td>0.030</td>\n      <td>0.03</td>\n      <td>0.0</td>\n      <td>...</td>\n      <td>1</td>\n      <td>NaN</td>\n      <td>0.0</td>\n      <td>NaN</td>\n      <td>NaN</td>\n      <td>NaN</td>\n      <td>-0.0</td>\n      <td>NaN</td>\n      <td>NaN</td>\n      <td>NaN</td>\n    </tr>\n    <tr>\n      <th>2012-01-05</th>\n      <td>BBUCQ</td>\n      <td>0.03</td>\n      <td>0.030</td>\n      <td>0.030</td>\n      <td>0.03</td>\n      <td>0.03</td>\n      <td>0.030</td>\n      <td>0.030</td>\n      <td>0.03</td>\n      <td>0.0</td>\n      <td>...</td>\n      <td>1</td>\n      <td>NaN</td>\n      <td>0.0</td>\n      <td>NaN</td>\n      <td>NaN</td>\n      <td>NaN</td>\n      <td>-0.0</td>\n      <td>NaN</td>\n      <td>NaN</td>\n      <td>NaN</td>\n    </tr>\n    <tr>\n      <th>2012-01-06</th>\n      <td>BBUCQ</td>\n      <td>0.03</td>\n      <td>0.030</td>\n      <td>0.030</td>\n      <td>0.03</td>\n      <td>0.03</td>\n      <td>0.030</td>\n      <td>0.030</td>\n      <td>0.03</td>\n      <td>0.0</td>\n      <td>...</td>\n      <td>1</td>\n      <td>NaN</td>\n      <td>0.0</td>\n      <td>-0.00</td>\n      <td>NaN</td>\n      <td>NaN</td>\n      <td>-0.0</td>\n      <td>NaN</td>\n      <td>NaN</td>\n      <td>NaN</td>\n    </tr>\n    <tr>\n      <th>2012-01-09</th>\n      <td>BBUCQ</td>\n      <td>0.03</td>\n      <td>0.030</td>\n      <td>0.030</td>\n      <td>0.03</td>\n      <td>0.03</td>\n      <td>0.030</td>\n      <td>0.030</td>\n      <td>0.03</td>\n      <td>0.0</td>\n      <td>...</td>\n      <td>1</td>\n      <td>NaN</td>\n      <td>0.0</td>\n      <td>-0.00</td>\n      <td>NaN</td>\n      <td>NaN</td>\n      <td>-0.0</td>\n      <td>NaN</td>\n      <td>NaN</td>\n      <td>NaN</td>\n    </tr>\n    <tr>\n      <th>...</th>\n      <th>...</th>\n      <td>...</td>\n      <td>...</td>\n      <td>...</td>\n      <td>...</td>\n      <td>...</td>\n      <td>...</td>\n      <td>...</td>\n      <td>...</td>\n      <td>...</td>\n      <td>...</td>\n      <td>...</td>\n      <td>...</td>\n      <td>...</td>\n      <td>...</td>\n      <td>...</td>\n      <td>...</td>\n      <td>...</td>\n      <td>...</td>\n      <td>...</td>\n      <td>...</td>\n      <td>...</td>\n    </tr>\n    <tr>\n      <th rowspan=\"3\" valign=\"top\">639045</th>\n      <th>2022-09-21</th>\n      <td>THRD</td>\n      <td>16.88</td>\n      <td>17.748</td>\n      <td>16.510</td>\n      <td>16.88</td>\n      <td>16.88</td>\n      <td>17.748</td>\n      <td>16.510</td>\n      <td>16.88</td>\n      <td>453144.0</td>\n      <td>...</td>\n      <td>1</td>\n      <td>NaN</td>\n      <td>0.0</td>\n      <td>1.12</td>\n      <td>NaN</td>\n      <td>NaN</td>\n      <td>-0.0</td>\n      <td>NaN</td>\n      <td>NaN</td>\n      <td>NaN</td>\n    </tr>\n    <tr>\n      <th>2022-09-22</th>\n      <td>THRD</td>\n      <td>16.88</td>\n      <td>18.360</td>\n      <td>16.350</td>\n      <td>16.75</td>\n      <td>16.88</td>\n      <td>18.360</td>\n      <td>16.350</td>\n      <td>16.75</td>\n      <td>266993.0</td>\n      <td>...</td>\n      <td>1</td>\n      <td>NaN</td>\n      <td>0.0</td>\n      <td>0.25</td>\n      <td>NaN</td>\n      <td>NaN</td>\n      <td>-0.0</td>\n      <td>NaN</td>\n      <td>NaN</td>\n      <td>NaN</td>\n    </tr>\n    <tr>\n      <th>2022-09-23</th>\n      <td>THRD</td>\n      <td>16.49</td>\n      <td>17.109</td>\n      <td>16.065</td>\n      <td>17.00</td>\n      <td>16.49</td>\n      <td>17.109</td>\n      <td>16.065</td>\n      <td>17.00</td>\n      <td>121250.0</td>\n      <td>...</td>\n      <td>1</td>\n      <td>NaN</td>\n      <td>0.0</td>\n      <td>-0.20</td>\n      <td>NaN</td>\n      <td>NaN</td>\n      <td>-0.0</td>\n      <td>NaN</td>\n      <td>NaN</td>\n      <td>NaN</td>\n    </tr>\n    <tr>\n      <th rowspan=\"2\" valign=\"top\">639056</th>\n      <th>2022-09-22</th>\n      <td>GLSTU</td>\n      <td>9.97</td>\n      <td>9.990</td>\n      <td>9.960</td>\n      <td>9.98</td>\n      <td>9.97</td>\n      <td>9.990</td>\n      <td>9.960</td>\n      <td>9.98</td>\n      <td>606430.0</td>\n      <td>...</td>\n      <td>1</td>\n      <td>NaN</td>\n      <td>0.0</td>\n      <td>NaN</td>\n      <td>NaN</td>\n      <td>NaN</td>\n      <td>-0.0</td>\n      <td>NaN</td>\n      <td>NaN</td>\n      <td>NaN</td>\n    </tr>\n    <tr>\n      <th>2022-09-23</th>\n      <td>GLSTU</td>\n      <td>9.97</td>\n      <td>9.985</td>\n      <td>9.970</td>\n      <td>9.97</td>\n      <td>9.97</td>\n      <td>9.985</td>\n      <td>9.970</td>\n      <td>9.97</td>\n      <td>196845.0</td>\n      <td>...</td>\n      <td>1</td>\n      <td>NaN</td>\n      <td>0.0</td>\n      <td>NaN</td>\n      <td>NaN</td>\n      <td>NaN</td>\n      <td>-0.0</td>\n      <td>NaN</td>\n      <td>NaN</td>\n      <td>NaN</td>\n    </tr>\n  </tbody>\n</table>\n<p>12835372 rows × 41 columns</p>\n</div>"
     },
     "execution_count": 9,
     "metadata": {},
     "output_type": "execute_result"
    }
   ],
   "source": [
    "uni_df"
   ],
   "metadata": {
    "collapsed": false
   }
  },
  {
   "cell_type": "code",
   "execution_count": null,
   "outputs": [],
   "source": [],
   "metadata": {
    "collapsed": false
   }
  }
 ],
 "metadata": {
  "kernelspec": {
   "display_name": "Python 3",
   "language": "python",
   "name": "python3"
  },
  "language_info": {
   "codemirror_mode": {
    "name": "ipython",
    "version": 2
   },
   "file_extension": ".py",
   "mimetype": "text/x-python",
   "name": "python",
   "nbconvert_exporter": "python",
   "pygments_lexer": "ipython2",
   "version": "2.7.6"
  }
 },
 "nbformat": 4,
 "nbformat_minor": 0
}
