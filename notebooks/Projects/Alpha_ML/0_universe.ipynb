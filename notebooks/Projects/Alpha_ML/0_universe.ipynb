{
 "cells": [
  {
   "cell_type": "code",
   "execution_count": 1,
   "metadata": {
    "collapsed": true
   },
   "outputs": [],
   "source": [
    "import pandas as pd\n",
    "import nasdaqdatalink as ndl\n",
    "import json\n",
    "import numpy as np\n",
    "from typing import List, Callable, Dict\n",
    "from realgam.quantlib import general_utils as gu\n",
    "from realgam.quantlib.engineer.op_engineer_vect import OpEngineerV\n",
    "from realgam.quantlib.engineer.ta_engineer_vect import TalibEngineerV\n",
    "from realgam.quantlib.engineer.alpha_engineer_vect import AlphaEngineerV\n",
    "\n",
    "import talib\n",
    "from joblib import Parallel, delayed\n",
    "import datetime\n",
    "import os\n",
    "import time\n",
    "PROJECT_PATH = os.getenv('QuantSystemMVP')\n",
    "DATA_PATH = f'{PROJECT_PATH}/Data/historical/stock_hist_perma.obj'"
   ]
  },
  {
   "cell_type": "code",
   "execution_count": 16,
   "outputs": [],
   "source": [
    "stocks_df, stocks_extended_df, available_tickers = gu.load_file(DATA_PATH)\n",
    "stacked_hist = stocks_df.copy()"
   ],
   "metadata": {
    "collapsed": false
   }
  },
  {
   "cell_type": "code",
   "execution_count": 17,
   "outputs": [],
   "source": [
    "openg = OpEngineerV(stacked_hist, 'permaticker', 'date')"
   ],
   "metadata": {
    "collapsed": false
   }
  },
  {
   "cell_type": "code",
   "execution_count": 18,
   "outputs": [],
   "source": [
    "openg.ts_mean('volume', 20, inplace=True)"
   ],
   "metadata": {
    "collapsed": false
   }
  },
  {
   "cell_type": "code",
   "execution_count": 19,
   "outputs": [],
   "source": [
    "stacked_hist = openg.df.copy()"
   ],
   "metadata": {
    "collapsed": false
   }
  },
  {
   "cell_type": "code",
   "execution_count": 10,
   "outputs": [
    {
     "data": {
      "text/plain": "Index(['ticker', 'open', 'high', 'low', 'close', 'openadj', 'highadj',\n       'lowadj', 'closeadj', 'volume', 'ts_mean20_volume'],\n      dtype='object')"
     },
     "execution_count": 10,
     "metadata": {},
     "output_type": "execute_result"
    }
   ],
   "source": [
    "stacked_hist.columns"
   ],
   "metadata": {
    "collapsed": false
   }
  },
  {
   "cell_type": "code",
   "execution_count": 6,
   "outputs": [],
   "source": [
    "stacked_hist = stacked_hist[~stacked_hist['ts_mean20_volume'].isnull()]"
   ],
   "metadata": {
    "collapsed": false
   }
  },
  {
   "cell_type": "code",
   "execution_count": 7,
   "outputs": [],
   "source": [
    "openg.set_df(stacked_hist)"
   ],
   "metadata": {
    "collapsed": false
   }
  },
  {
   "cell_type": "code",
   "execution_count": 8,
   "outputs": [],
   "source": [
    "openg.cs_pctrank('ts_mean20_volume', inplace=True)"
   ],
   "metadata": {
    "collapsed": false
   }
  },
  {
   "cell_type": "code",
   "execution_count": 9,
   "outputs": [],
   "source": [
    "stacked_hist = openg.df.copy()"
   ],
   "metadata": {
    "collapsed": false
   }
  },
  {
   "cell_type": "code",
   "execution_count": 10,
   "outputs": [],
   "source": [
    "uni_top30cap = stacked_hist[stacked_hist['cs_pctrank_ts_mean20_volume'] >= 0.7]"
   ],
   "metadata": {
    "collapsed": false
   }
  },
  {
   "cell_type": "code",
   "execution_count": 11,
   "outputs": [],
   "source": [
    "openg.set_df(uni_top30cap)\n",
    "openg.ts_ret(inplace=True)\n",
    "uni_top30cap = openg.df.copy()\n",
    "\n",
    "openg.ts_retn('closeadj', 20, inplace=True)\n",
    "uni_top30cap = openg.df.copy()\n",
    "uni_top30cap['fwd_ret20'] = uni_top30cap.sort_values(['permaticker', 'date']).groupby('permaticker')['ts_retn20_closeadj'].shift(-20)\n",
    "\n",
    "uni_top30cap.rename(columns={'ts_ret_closeadj': 'returns'}, inplace=True)"
   ],
   "metadata": {
    "collapsed": false
   }
  },
  {
   "cell_type": "code",
   "execution_count": 21,
   "outputs": [
    {
     "data": {
      "text/plain": "                       ticker  open  high   low  close  openadj  highadj  \\\npermaticker date                                                           \n105193      2022-06-14   APLD  1.26  1.26  0.98   1.03     1.26     1.26   \n\n                        lowadj  closeadj     volume  ts_mean20_volume  \npermaticker date                                                       \n105193      2022-06-14    0.98      1.03  2508781.0         727427.85  ",
      "text/html": "<div>\n<style scoped>\n    .dataframe tbody tr th:only-of-type {\n        vertical-align: middle;\n    }\n\n    .dataframe tbody tr th {\n        vertical-align: top;\n    }\n\n    .dataframe thead th {\n        text-align: right;\n    }\n</style>\n<table border=\"1\" class=\"dataframe\">\n  <thead>\n    <tr style=\"text-align: right;\">\n      <th></th>\n      <th></th>\n      <th>ticker</th>\n      <th>open</th>\n      <th>high</th>\n      <th>low</th>\n      <th>close</th>\n      <th>openadj</th>\n      <th>highadj</th>\n      <th>lowadj</th>\n      <th>closeadj</th>\n      <th>volume</th>\n      <th>ts_mean20_volume</th>\n    </tr>\n    <tr>\n      <th>permaticker</th>\n      <th>date</th>\n      <th></th>\n      <th></th>\n      <th></th>\n      <th></th>\n      <th></th>\n      <th></th>\n      <th></th>\n      <th></th>\n      <th></th>\n      <th></th>\n      <th></th>\n    </tr>\n  </thead>\n  <tbody>\n    <tr>\n      <th>105193</th>\n      <th>2022-06-14</th>\n      <td>APLD</td>\n      <td>1.26</td>\n      <td>1.26</td>\n      <td>0.98</td>\n      <td>1.03</td>\n      <td>1.26</td>\n      <td>1.26</td>\n      <td>0.98</td>\n      <td>1.03</td>\n      <td>2508781.0</td>\n      <td>727427.85</td>\n    </tr>\n  </tbody>\n</table>\n</div>"
     },
     "execution_count": 21,
     "metadata": {},
     "output_type": "execute_result"
    }
   ],
   "source": [
    "stacked_hist[stacked_hist.index == ('105193', pd.Timestamp('2022-06-14'))]"
   ],
   "metadata": {
    "collapsed": false
   }
  },
  {
   "cell_type": "code",
   "execution_count": 22,
   "outputs": [],
   "source": [
    "uni_top30cap = uni_top30cap.drop(columns = 'ts_retn20_closeadj')"
   ],
   "metadata": {
    "collapsed": false
   }
  },
  {
   "cell_type": "code",
   "execution_count": 23,
   "outputs": [],
   "source": [
    "save_path = os.path.join(PROJECT_PATH, 'Data/Projects/Alpha_ML/universe_top30.obj')\n",
    "gu.save_file(save_path, uni_top30cap)"
   ],
   "metadata": {
    "collapsed": false
   }
  },
  {
   "cell_type": "code",
   "execution_count": 24,
   "outputs": [
    {
     "data": {
      "text/plain": "                       ticker  open  high   low  close  openadj  highadj  \\\npermaticker date                                                           \n105193      2022-06-14   APLD  1.26  1.26  0.98   1.03     1.26     1.26   \n            2022-06-15   APLD  1.02  1.08  0.95   1.01     1.02     1.08   \n            2022-06-16   APLD  1.00  1.05  0.95   1.03     1.00     1.05   \n            2022-06-17   APLD  1.03  1.08  1.02   1.08     1.03     1.08   \n            2022-06-21   APLD  1.14  1.29  1.14   1.21     1.14     1.29   \n...                       ...   ...   ...   ...    ...      ...      ...   \n638932      2022-09-21   FRZA  2.29  2.35  2.18   2.19     2.29     2.35   \n            2022-09-22   FRZA  2.23  2.88  2.15   2.53     2.23     2.88   \n            2022-09-23   FRZA  2.47  2.47  2.10   2.14     2.47     2.47   \n638933      2022-09-09    CHG  2.66  2.77  2.57   2.68     2.66     2.77   \n638977      2022-09-23   PXMD  2.26  2.42  2.12   2.25     2.26     2.42   \n\n                        lowadj  closeadj     volume  ts_mean20_volume  \\\npermaticker date                                                        \n105193      2022-06-14    0.98      1.03  2508781.0         727427.85   \n            2022-06-15    0.95      1.01  1481018.0         770604.65   \n            2022-06-16    0.95      1.03   843827.0         800672.40   \n            2022-06-17    1.02      1.08   697612.0         823295.70   \n            2022-06-21    1.14      1.21  1355982.0         775654.05   \n...                        ...       ...        ...               ...   \n638932      2022-09-21    2.18      2.19   120086.0        1022149.35   \n            2022-09-22    2.15      2.53  2405970.0        1092366.55   \n            2022-09-23    2.10      2.14   319682.0        1077465.65   \n638933      2022-09-09    2.57      2.68    76304.0         785028.30   \n638977      2022-09-23    2.12      2.25   168322.0        7509064.80   \n\n                        cs_pctrank_ts_mean20_volume   returns  fwd_ret20  \npermaticker date                                                          \n105193      2022-06-14                     0.720450       NaN  -0.128155  \n            2022-06-15                     0.729135 -0.019417   0.029703  \n            2022-06-16                     0.734084  0.019802   0.029126  \n            2022-06-17                     0.730007  0.048544   0.962963  \n            2022-06-21                     0.718918  0.120370   1.057851  \n...                                             ...       ...        ...  \n638932      2022-09-21                     0.786851 -0.039474        NaN  \n            2022-09-22                     0.795149  0.155251        NaN  \n            2022-09-23                     0.786451 -0.154150        NaN  \n638933      2022-09-09                     0.765478       NaN        NaN  \n638977      2022-09-23                     0.970661       NaN        NaN  \n\n[3800163 rows x 14 columns]",
      "text/html": "<div>\n<style scoped>\n    .dataframe tbody tr th:only-of-type {\n        vertical-align: middle;\n    }\n\n    .dataframe tbody tr th {\n        vertical-align: top;\n    }\n\n    .dataframe thead th {\n        text-align: right;\n    }\n</style>\n<table border=\"1\" class=\"dataframe\">\n  <thead>\n    <tr style=\"text-align: right;\">\n      <th></th>\n      <th></th>\n      <th>ticker</th>\n      <th>open</th>\n      <th>high</th>\n      <th>low</th>\n      <th>close</th>\n      <th>openadj</th>\n      <th>highadj</th>\n      <th>lowadj</th>\n      <th>closeadj</th>\n      <th>volume</th>\n      <th>ts_mean20_volume</th>\n      <th>cs_pctrank_ts_mean20_volume</th>\n      <th>returns</th>\n      <th>fwd_ret20</th>\n    </tr>\n    <tr>\n      <th>permaticker</th>\n      <th>date</th>\n      <th></th>\n      <th></th>\n      <th></th>\n      <th></th>\n      <th></th>\n      <th></th>\n      <th></th>\n      <th></th>\n      <th></th>\n      <th></th>\n      <th></th>\n      <th></th>\n      <th></th>\n      <th></th>\n    </tr>\n  </thead>\n  <tbody>\n    <tr>\n      <th rowspan=\"5\" valign=\"top\">105193</th>\n      <th>2022-06-14</th>\n      <td>APLD</td>\n      <td>1.26</td>\n      <td>1.26</td>\n      <td>0.98</td>\n      <td>1.03</td>\n      <td>1.26</td>\n      <td>1.26</td>\n      <td>0.98</td>\n      <td>1.03</td>\n      <td>2508781.0</td>\n      <td>727427.85</td>\n      <td>0.720450</td>\n      <td>NaN</td>\n      <td>-0.128155</td>\n    </tr>\n    <tr>\n      <th>2022-06-15</th>\n      <td>APLD</td>\n      <td>1.02</td>\n      <td>1.08</td>\n      <td>0.95</td>\n      <td>1.01</td>\n      <td>1.02</td>\n      <td>1.08</td>\n      <td>0.95</td>\n      <td>1.01</td>\n      <td>1481018.0</td>\n      <td>770604.65</td>\n      <td>0.729135</td>\n      <td>-0.019417</td>\n      <td>0.029703</td>\n    </tr>\n    <tr>\n      <th>2022-06-16</th>\n      <td>APLD</td>\n      <td>1.00</td>\n      <td>1.05</td>\n      <td>0.95</td>\n      <td>1.03</td>\n      <td>1.00</td>\n      <td>1.05</td>\n      <td>0.95</td>\n      <td>1.03</td>\n      <td>843827.0</td>\n      <td>800672.40</td>\n      <td>0.734084</td>\n      <td>0.019802</td>\n      <td>0.029126</td>\n    </tr>\n    <tr>\n      <th>2022-06-17</th>\n      <td>APLD</td>\n      <td>1.03</td>\n      <td>1.08</td>\n      <td>1.02</td>\n      <td>1.08</td>\n      <td>1.03</td>\n      <td>1.08</td>\n      <td>1.02</td>\n      <td>1.08</td>\n      <td>697612.0</td>\n      <td>823295.70</td>\n      <td>0.730007</td>\n      <td>0.048544</td>\n      <td>0.962963</td>\n    </tr>\n    <tr>\n      <th>2022-06-21</th>\n      <td>APLD</td>\n      <td>1.14</td>\n      <td>1.29</td>\n      <td>1.14</td>\n      <td>1.21</td>\n      <td>1.14</td>\n      <td>1.29</td>\n      <td>1.14</td>\n      <td>1.21</td>\n      <td>1355982.0</td>\n      <td>775654.05</td>\n      <td>0.718918</td>\n      <td>0.120370</td>\n      <td>1.057851</td>\n    </tr>\n    <tr>\n      <th>...</th>\n      <th>...</th>\n      <td>...</td>\n      <td>...</td>\n      <td>...</td>\n      <td>...</td>\n      <td>...</td>\n      <td>...</td>\n      <td>...</td>\n      <td>...</td>\n      <td>...</td>\n      <td>...</td>\n      <td>...</td>\n      <td>...</td>\n      <td>...</td>\n      <td>...</td>\n    </tr>\n    <tr>\n      <th rowspan=\"3\" valign=\"top\">638932</th>\n      <th>2022-09-21</th>\n      <td>FRZA</td>\n      <td>2.29</td>\n      <td>2.35</td>\n      <td>2.18</td>\n      <td>2.19</td>\n      <td>2.29</td>\n      <td>2.35</td>\n      <td>2.18</td>\n      <td>2.19</td>\n      <td>120086.0</td>\n      <td>1022149.35</td>\n      <td>0.786851</td>\n      <td>-0.039474</td>\n      <td>NaN</td>\n    </tr>\n    <tr>\n      <th>2022-09-22</th>\n      <td>FRZA</td>\n      <td>2.23</td>\n      <td>2.88</td>\n      <td>2.15</td>\n      <td>2.53</td>\n      <td>2.23</td>\n      <td>2.88</td>\n      <td>2.15</td>\n      <td>2.53</td>\n      <td>2405970.0</td>\n      <td>1092366.55</td>\n      <td>0.795149</td>\n      <td>0.155251</td>\n      <td>NaN</td>\n    </tr>\n    <tr>\n      <th>2022-09-23</th>\n      <td>FRZA</td>\n      <td>2.47</td>\n      <td>2.47</td>\n      <td>2.10</td>\n      <td>2.14</td>\n      <td>2.47</td>\n      <td>2.47</td>\n      <td>2.10</td>\n      <td>2.14</td>\n      <td>319682.0</td>\n      <td>1077465.65</td>\n      <td>0.786451</td>\n      <td>-0.154150</td>\n      <td>NaN</td>\n    </tr>\n    <tr>\n      <th>638933</th>\n      <th>2022-09-09</th>\n      <td>CHG</td>\n      <td>2.66</td>\n      <td>2.77</td>\n      <td>2.57</td>\n      <td>2.68</td>\n      <td>2.66</td>\n      <td>2.77</td>\n      <td>2.57</td>\n      <td>2.68</td>\n      <td>76304.0</td>\n      <td>785028.30</td>\n      <td>0.765478</td>\n      <td>NaN</td>\n      <td>NaN</td>\n    </tr>\n    <tr>\n      <th>638977</th>\n      <th>2022-09-23</th>\n      <td>PXMD</td>\n      <td>2.26</td>\n      <td>2.42</td>\n      <td>2.12</td>\n      <td>2.25</td>\n      <td>2.26</td>\n      <td>2.42</td>\n      <td>2.12</td>\n      <td>2.25</td>\n      <td>168322.0</td>\n      <td>7509064.80</td>\n      <td>0.970661</td>\n      <td>NaN</td>\n      <td>NaN</td>\n    </tr>\n  </tbody>\n</table>\n<p>3800163 rows × 14 columns</p>\n</div>"
     },
     "execution_count": 24,
     "metadata": {},
     "output_type": "execute_result"
    }
   ],
   "source": [
    "uni_top30cap"
   ],
   "metadata": {
    "collapsed": false
   }
  },
  {
   "cell_type": "code",
   "execution_count": 26,
   "outputs": [],
   "source": [
    "import gc"
   ],
   "metadata": {
    "collapsed": false
   }
  },
  {
   "cell_type": "code",
   "execution_count": 28,
   "outputs": [
    {
     "data": {
      "text/plain": "932"
     },
     "execution_count": 28,
     "metadata": {},
     "output_type": "execute_result"
    }
   ],
   "source": [
    "del stacked_hist\n",
    "del uni_top30cap\n",
    "gc.collect()"
   ],
   "metadata": {
    "collapsed": false
   }
  },
  {
   "cell_type": "code",
   "execution_count": null,
   "outputs": [],
   "source": [],
   "metadata": {
    "collapsed": false
   }
  }
 ],
 "metadata": {
  "kernelspec": {
   "display_name": "Python 3",
   "language": "python",
   "name": "python3"
  },
  "language_info": {
   "codemirror_mode": {
    "name": "ipython",
    "version": 2
   },
   "file_extension": ".py",
   "mimetype": "text/x-python",
   "name": "python",
   "nbconvert_exporter": "python",
   "pygments_lexer": "ipython2",
   "version": "2.7.6"
  }
 },
 "nbformat": 4,
 "nbformat_minor": 0
}
