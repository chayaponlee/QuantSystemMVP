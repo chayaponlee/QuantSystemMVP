{
 "cells": [
  {
   "cell_type": "code",
   "execution_count": null,
   "outputs": [],
   "source": [
    "# df.loc[idx[slice(None), '2012-02-15'],]['cs_pctrank_ts_argmax5_closeadj'].unique()  -> for indexing multiindex"
   ],
   "metadata": {
    "collapsed": false,
    "pycharm": {
     "name": "#%%\n"
    }
   }
  },
  {
   "cell_type": "code",
   "execution_count": 1,
   "id": "polish-negotiation",
   "metadata": {},
   "outputs": [],
   "source": [
    "import pandas as pd\n",
    "import nasdaqdatalink as ndl\n",
    "import json\n",
    "import numpy as np\n",
    "from typing import List, Callable, Dict\n",
    "from realgam.quantlib import general_utils as gu\n",
    "from realgam.quantlib.engineer.op_engineer_vect import OpEngineerV\n",
    "from realgam.quantlib.engineer.ta_engineer_vect import TalibEngineerV\n",
    "from realgam.quantlib.engineer.alpha_engineer_vect import AlphaEngineerV\n",
    "# from realgam.quantlib.engineer.test_no_class import alpha001, ts_ret\n",
    "import talib\n",
    "from joblib import Parallel, delayed\n",
    "import datetime\n",
    "import os\n",
    "import time\n",
    "PROJECT_PATH = os.getenv('QuantSystemMVP')\n",
    "DATA_PATH = f'{PROJECT_PATH}/Data/stock_hist.obj'\n",
    "NDL_CONFIG_PATH = f'{PROJECT_PATH}/realgam/quantlib/nasdaq_dl_config.json'\n",
    "NDL_CONFIG = json.load(open(NDL_CONFIG_PATH))"
   ]
  },
  {
   "cell_type": "code",
   "execution_count": 2,
   "id": "6dd18a8e-03d3-47ff-9e15-7825259fbf1c",
   "metadata": {
    "pycharm": {
     "name": "#%%\n"
    }
   },
   "outputs": [],
   "source": [
    "stocks_df, stocks_extended_df, available_tickers = gu.load_file(DATA_PATH)\n",
    "stacked_hist = stocks_df.copy()"
   ]
  },
  {
   "cell_type": "code",
   "execution_count": 35,
   "outputs": [],
   "source": [
    "stocks_df, stocks_extended_df, available_tickers = gu.load_file(f'{PROJECT_PATH}/Data/stock_hist_perma.obj')"
   ],
   "metadata": {
    "collapsed": false,
    "pycharm": {
     "name": "#%%\n"
    }
   }
  },
  {
   "cell_type": "code",
   "execution_count": 36,
   "outputs": [],
   "source": [
    "small_hist = stocks_df.reset_index()"
   ],
   "metadata": {
    "collapsed": false,
    "pycharm": {
     "name": "#%%\n"
    }
   }
  },
  {
   "cell_type": "code",
   "execution_count": 37,
   "outputs": [
    {
     "data": {
      "text/plain": "Timestamp('2022-03-25 00:00:00')"
     },
     "execution_count": 37,
     "metadata": {},
     "output_type": "execute_result"
    }
   ],
   "source": [
    "small_hist.date.max()"
   ],
   "metadata": {
    "collapsed": false,
    "pycharm": {
     "name": "#%%\n"
    }
   }
  },
  {
   "cell_type": "code",
   "execution_count": 38,
   "outputs": [
    {
     "data": {
      "text/plain": "         permaticker       date ticker   open    high    low  close  openadj  \\\n3323          104612 2022-03-25   APCX   1.27   1.270   1.20   1.22     1.27   \n8218          105149 2022-03-25   FNGR   2.50   2.750   2.40   2.56     2.50   \n13369         107145 2022-03-25   VIVK   2.51   2.800   2.28   2.49     2.51   \n13711         107345 2022-03-25   INVO   2.56   2.652   2.56   2.59     2.56   \n13965         107353 2022-03-25   WMPN  12.80  12.870  12.80  12.83    12.80   \n...              ...        ...    ...    ...     ...    ...    ...      ...   \n12003519      638344 2022-03-25  ATAKU  10.05  10.050  10.05  10.05    10.05   \n12003524      638348 2022-03-25  GHIXU  10.05  10.050  10.05  10.05    10.05   \n12003526      638355 2022-03-25  RFACU  10.03  10.040  10.03  10.03    10.03   \n12003528      638356 2022-03-25  ACAXU  10.05  10.090  10.05  10.09    10.05   \n12003529      638366 2022-03-25   ANTX  16.85  17.800  15.00  15.40    16.85   \n\n          highadj  lowadj  closeadj     volume  \n3323        1.270    1.20      1.22    45342.0  \n8218        2.750    2.40      2.56    10103.0  \n13369       2.800    2.28      2.49   201201.0  \n13711       2.652    2.56      2.59     9985.0  \n13965      12.870   12.80     12.83    24828.0  \n...           ...     ...       ...        ...  \n12003519   10.050   10.05     10.05      113.0  \n12003524   10.050   10.05     10.05     1551.0  \n12003526   10.040   10.03     10.03   375467.0  \n12003528   10.090   10.05     10.09   164263.0  \n12003529   17.800   15.00     15.40  1389068.0  \n\n[5608 rows x 12 columns]",
      "text/html": "<div>\n<style scoped>\n    .dataframe tbody tr th:only-of-type {\n        vertical-align: middle;\n    }\n\n    .dataframe tbody tr th {\n        vertical-align: top;\n    }\n\n    .dataframe thead th {\n        text-align: right;\n    }\n</style>\n<table border=\"1\" class=\"dataframe\">\n  <thead>\n    <tr style=\"text-align: right;\">\n      <th></th>\n      <th>permaticker</th>\n      <th>date</th>\n      <th>ticker</th>\n      <th>open</th>\n      <th>high</th>\n      <th>low</th>\n      <th>close</th>\n      <th>openadj</th>\n      <th>highadj</th>\n      <th>lowadj</th>\n      <th>closeadj</th>\n      <th>volume</th>\n    </tr>\n  </thead>\n  <tbody>\n    <tr>\n      <th>3323</th>\n      <td>104612</td>\n      <td>2022-03-25</td>\n      <td>APCX</td>\n      <td>1.27</td>\n      <td>1.270</td>\n      <td>1.20</td>\n      <td>1.22</td>\n      <td>1.27</td>\n      <td>1.270</td>\n      <td>1.20</td>\n      <td>1.22</td>\n      <td>45342.0</td>\n    </tr>\n    <tr>\n      <th>8218</th>\n      <td>105149</td>\n      <td>2022-03-25</td>\n      <td>FNGR</td>\n      <td>2.50</td>\n      <td>2.750</td>\n      <td>2.40</td>\n      <td>2.56</td>\n      <td>2.50</td>\n      <td>2.750</td>\n      <td>2.40</td>\n      <td>2.56</td>\n      <td>10103.0</td>\n    </tr>\n    <tr>\n      <th>13369</th>\n      <td>107145</td>\n      <td>2022-03-25</td>\n      <td>VIVK</td>\n      <td>2.51</td>\n      <td>2.800</td>\n      <td>2.28</td>\n      <td>2.49</td>\n      <td>2.51</td>\n      <td>2.800</td>\n      <td>2.28</td>\n      <td>2.49</td>\n      <td>201201.0</td>\n    </tr>\n    <tr>\n      <th>13711</th>\n      <td>107345</td>\n      <td>2022-03-25</td>\n      <td>INVO</td>\n      <td>2.56</td>\n      <td>2.652</td>\n      <td>2.56</td>\n      <td>2.59</td>\n      <td>2.56</td>\n      <td>2.652</td>\n      <td>2.56</td>\n      <td>2.59</td>\n      <td>9985.0</td>\n    </tr>\n    <tr>\n      <th>13965</th>\n      <td>107353</td>\n      <td>2022-03-25</td>\n      <td>WMPN</td>\n      <td>12.80</td>\n      <td>12.870</td>\n      <td>12.80</td>\n      <td>12.83</td>\n      <td>12.80</td>\n      <td>12.870</td>\n      <td>12.80</td>\n      <td>12.83</td>\n      <td>24828.0</td>\n    </tr>\n    <tr>\n      <th>...</th>\n      <td>...</td>\n      <td>...</td>\n      <td>...</td>\n      <td>...</td>\n      <td>...</td>\n      <td>...</td>\n      <td>...</td>\n      <td>...</td>\n      <td>...</td>\n      <td>...</td>\n      <td>...</td>\n      <td>...</td>\n    </tr>\n    <tr>\n      <th>12003519</th>\n      <td>638344</td>\n      <td>2022-03-25</td>\n      <td>ATAKU</td>\n      <td>10.05</td>\n      <td>10.050</td>\n      <td>10.05</td>\n      <td>10.05</td>\n      <td>10.05</td>\n      <td>10.050</td>\n      <td>10.05</td>\n      <td>10.05</td>\n      <td>113.0</td>\n    </tr>\n    <tr>\n      <th>12003524</th>\n      <td>638348</td>\n      <td>2022-03-25</td>\n      <td>GHIXU</td>\n      <td>10.05</td>\n      <td>10.050</td>\n      <td>10.05</td>\n      <td>10.05</td>\n      <td>10.05</td>\n      <td>10.050</td>\n      <td>10.05</td>\n      <td>10.05</td>\n      <td>1551.0</td>\n    </tr>\n    <tr>\n      <th>12003526</th>\n      <td>638355</td>\n      <td>2022-03-25</td>\n      <td>RFACU</td>\n      <td>10.03</td>\n      <td>10.040</td>\n      <td>10.03</td>\n      <td>10.03</td>\n      <td>10.03</td>\n      <td>10.040</td>\n      <td>10.03</td>\n      <td>10.03</td>\n      <td>375467.0</td>\n    </tr>\n    <tr>\n      <th>12003528</th>\n      <td>638356</td>\n      <td>2022-03-25</td>\n      <td>ACAXU</td>\n      <td>10.05</td>\n      <td>10.090</td>\n      <td>10.05</td>\n      <td>10.09</td>\n      <td>10.05</td>\n      <td>10.090</td>\n      <td>10.05</td>\n      <td>10.09</td>\n      <td>164263.0</td>\n    </tr>\n    <tr>\n      <th>12003529</th>\n      <td>638366</td>\n      <td>2022-03-25</td>\n      <td>ANTX</td>\n      <td>16.85</td>\n      <td>17.800</td>\n      <td>15.00</td>\n      <td>15.40</td>\n      <td>16.85</td>\n      <td>17.800</td>\n      <td>15.00</td>\n      <td>15.40</td>\n      <td>1389068.0</td>\n    </tr>\n  </tbody>\n</table>\n<p>5608 rows × 12 columns</p>\n</div>"
     },
     "execution_count": 38,
     "metadata": {},
     "output_type": "execute_result"
    }
   ],
   "source": [
    "small_hist[small_hist.date== '2022-03-25']"
   ],
   "metadata": {
    "collapsed": false,
    "pycharm": {
     "name": "#%%\n"
    }
   }
  },
  {
   "cell_type": "code",
   "execution_count": 42,
   "outputs": [
    {
     "data": {
      "text/plain": "Timestamp('2022-03-25 00:00:00')"
     },
     "execution_count": 42,
     "metadata": {},
     "output_type": "execute_result"
    }
   ],
   "source": [
    "small_hist[small_hist.ticker== 'AAPL'].date.max()\n"
   ],
   "metadata": {
    "collapsed": false,
    "pycharm": {
     "name": "#%%\n"
    }
   }
  },
  {
   "cell_type": "code",
   "execution_count": 45,
   "outputs": [
    {
     "data": {
      "text/plain": "Empty DataFrame\nColumns: [permaticker, date, ticker, open, high, low, close, openadj, highadj, lowadj, closeadj, volume]\nIndex: []",
      "text/html": "<div>\n<style scoped>\n    .dataframe tbody tr th:only-of-type {\n        vertical-align: middle;\n    }\n\n    .dataframe tbody tr th {\n        vertical-align: top;\n    }\n\n    .dataframe thead th {\n        text-align: right;\n    }\n</style>\n<table border=\"1\" class=\"dataframe\">\n  <thead>\n    <tr style=\"text-align: right;\">\n      <th></th>\n      <th>permaticker</th>\n      <th>date</th>\n      <th>ticker</th>\n      <th>open</th>\n      <th>high</th>\n      <th>low</th>\n      <th>close</th>\n      <th>openadj</th>\n      <th>highadj</th>\n      <th>lowadj</th>\n      <th>closeadj</th>\n      <th>volume</th>\n    </tr>\n  </thead>\n  <tbody>\n  </tbody>\n</table>\n</div>"
     },
     "execution_count": 45,
     "metadata": {},
     "output_type": "execute_result"
    }
   ],
   "source": [
    "small_hist[small_hist.duplicated(['permaticker', 'date'])]"
   ],
   "metadata": {
    "collapsed": false,
    "pycharm": {
     "name": "#%%\n"
    }
   }
  },
  {
   "cell_type": "code",
   "execution_count": 39,
   "outputs": [
    {
     "ename": "NameError",
     "evalue": "name 'old_stocks_df' is not defined",
     "output_type": "error",
     "traceback": [
      "\u001B[0;31m---------------------------------------------------------------------------\u001B[0m",
      "\u001B[0;31mNameError\u001B[0m                                 Traceback (most recent call last)",
      "Input \u001B[0;32mIn [39]\u001B[0m, in \u001B[0;36m<module>\u001B[0;34m\u001B[0m\n\u001B[0;32m----> 1\u001B[0m \u001B[43mold_stocks_df\u001B[49m[old_stocks_df\u001B[38;5;241m.\u001B[39mticker \u001B[38;5;241m==\u001B[39m \u001B[38;5;124m'\u001B[39m\u001B[38;5;124mHSGH\u001B[39m\u001B[38;5;124m'\u001B[39m]\n",
      "\u001B[0;31mNameError\u001B[0m: name 'old_stocks_df' is not defined"
     ]
    }
   ],
   "source": [
    "old_stocks_df[old_stocks_df.ticker == 'HSGH']"
   ],
   "metadata": {
    "collapsed": false,
    "pycharm": {
     "name": "#%%\n"
    }
   }
  },
  {
   "cell_type": "code",
   "execution_count": 132,
   "outputs": [
    {
     "data": {
      "text/plain": "Empty DataFrame\nColumns: [permaticker, date, ticker, open, high, low, close, openadj, highadj, lowadj, closeadj, volume]\nIndex: []",
      "text/html": "<div>\n<style scoped>\n    .dataframe tbody tr th:only-of-type {\n        vertical-align: middle;\n    }\n\n    .dataframe tbody tr th {\n        vertical-align: top;\n    }\n\n    .dataframe thead th {\n        text-align: right;\n    }\n</style>\n<table border=\"1\" class=\"dataframe\">\n  <thead>\n    <tr style=\"text-align: right;\">\n      <th></th>\n      <th>permaticker</th>\n      <th>date</th>\n      <th>ticker</th>\n      <th>open</th>\n      <th>high</th>\n      <th>low</th>\n      <th>close</th>\n      <th>openadj</th>\n      <th>highadj</th>\n      <th>lowadj</th>\n      <th>closeadj</th>\n      <th>volume</th>\n    </tr>\n  </thead>\n  <tbody>\n  </tbody>\n</table>\n</div>"
     },
     "execution_count": 132,
     "metadata": {},
     "output_type": "execute_result"
    }
   ],
   "source": [
    "old_stocks_df[old_stocks_df.duplicated(['permaticker', 'date'])]"
   ],
   "metadata": {
    "collapsed": false,
    "pycharm": {
     "name": "#%%\n"
    }
   }
  },
  {
   "cell_type": "code",
   "execution_count": 3,
   "outputs": [],
   "source": [
    "stacked_hist = stacked_hist.reset_index().set_index(['ticker', 'date'])"
   ],
   "metadata": {
    "collapsed": false,
    "pycharm": {
     "name": "#%%\n"
    }
   }
  },
  {
   "cell_type": "code",
   "execution_count": 77,
   "outputs": [],
   "source": [
    "stacked_hist = stacked_hist.reset_index()"
   ],
   "metadata": {
    "collapsed": false,
    "pycharm": {
     "name": "#%%\n"
    }
   }
  },
  {
   "cell_type": "code",
   "execution_count": 43,
   "outputs": [
    {
     "ename": "NameError",
     "evalue": "name 'stacked_hist' is not defined",
     "output_type": "error",
     "traceback": [
      "\u001B[0;31m---------------------------------------------------------------------------\u001B[0m",
      "\u001B[0;31mNameError\u001B[0m                                 Traceback (most recent call last)",
      "Input \u001B[0;32mIn [43]\u001B[0m, in \u001B[0;36m<module>\u001B[0;34m\u001B[0m\n\u001B[0;32m----> 1\u001B[0m \u001B[43mstacked_hist\u001B[49m\n",
      "\u001B[0;31mNameError\u001B[0m: name 'stacked_hist' is not defined"
     ]
    }
   ],
   "source": [
    "stacked_hist"
   ],
   "metadata": {
    "collapsed": false,
    "pycharm": {
     "name": "#%%\n"
    }
   }
  },
  {
   "cell_type": "code",
   "execution_count": 4,
   "outputs": [
    {
     "data": {
      "text/plain": "                   open  high   low  close  openadj  highadj  lowadj  \\\nticker date                                                            \nGGE    2022-03-21  3.00  3.05  2.95  2.965     3.00     3.05    2.95   \n       2022-03-22  2.90  3.20  2.90  3.020     2.90     3.20    2.90   \n       2022-03-23  3.23  3.23  2.86  3.000     3.23     3.23    2.86   \n       2022-03-24  2.99  3.32  2.70  3.300     2.99     3.32    2.70   \n\n                   closeadj    volume  \nticker date                            \nGGE    2022-03-21     2.965   25566.0  \n       2022-03-22     3.020   46899.0  \n       2022-03-23     3.000   19662.0  \n       2022-03-24     3.300  535484.0  ",
      "text/html": "<div>\n<style scoped>\n    .dataframe tbody tr th:only-of-type {\n        vertical-align: middle;\n    }\n\n    .dataframe tbody tr th {\n        vertical-align: top;\n    }\n\n    .dataframe thead th {\n        text-align: right;\n    }\n</style>\n<table border=\"1\" class=\"dataframe\">\n  <thead>\n    <tr style=\"text-align: right;\">\n      <th></th>\n      <th></th>\n      <th>open</th>\n      <th>high</th>\n      <th>low</th>\n      <th>close</th>\n      <th>openadj</th>\n      <th>highadj</th>\n      <th>lowadj</th>\n      <th>closeadj</th>\n      <th>volume</th>\n    </tr>\n    <tr>\n      <th>ticker</th>\n      <th>date</th>\n      <th></th>\n      <th></th>\n      <th></th>\n      <th></th>\n      <th></th>\n      <th></th>\n      <th></th>\n      <th></th>\n      <th></th>\n    </tr>\n  </thead>\n  <tbody>\n    <tr>\n      <th rowspan=\"4\" valign=\"top\">GGE</th>\n      <th>2022-03-21</th>\n      <td>3.00</td>\n      <td>3.05</td>\n      <td>2.95</td>\n      <td>2.965</td>\n      <td>3.00</td>\n      <td>3.05</td>\n      <td>2.95</td>\n      <td>2.965</td>\n      <td>25566.0</td>\n    </tr>\n    <tr>\n      <th>2022-03-22</th>\n      <td>2.90</td>\n      <td>3.20</td>\n      <td>2.90</td>\n      <td>3.020</td>\n      <td>2.90</td>\n      <td>3.20</td>\n      <td>2.90</td>\n      <td>3.020</td>\n      <td>46899.0</td>\n    </tr>\n    <tr>\n      <th>2022-03-23</th>\n      <td>3.23</td>\n      <td>3.23</td>\n      <td>2.86</td>\n      <td>3.000</td>\n      <td>3.23</td>\n      <td>3.23</td>\n      <td>2.86</td>\n      <td>3.000</td>\n      <td>19662.0</td>\n    </tr>\n    <tr>\n      <th>2022-03-24</th>\n      <td>2.99</td>\n      <td>3.32</td>\n      <td>2.70</td>\n      <td>3.300</td>\n      <td>2.99</td>\n      <td>3.32</td>\n      <td>2.70</td>\n      <td>3.300</td>\n      <td>535484.0</td>\n    </tr>\n  </tbody>\n</table>\n</div>"
     },
     "execution_count": 4,
     "metadata": {},
     "output_type": "execute_result"
    }
   ],
   "source": [
    "stacked_hist[stacked_hist.index.isin(['GGE'], level='ticker')]"
   ],
   "metadata": {
    "collapsed": false,
    "pycharm": {
     "name": "#%%\n"
    }
   }
  },
  {
   "cell_type": "code",
   "execution_count": 5,
   "outputs": [],
   "source": [
    "tickers_metadata = ndl.get_table('SHARADAR/TICKERS', paginate=True)"
   ],
   "metadata": {
    "collapsed": false,
    "pycharm": {
     "name": "#%%\n"
    }
   }
  },
  {
   "cell_type": "code",
   "execution_count": 139,
   "outputs": [
    {
     "data": {
      "text/plain": "Empty DataFrame\nColumns: [table, permaticker, ticker, name, exchange, isdelisted, category, cusips, siccode, sicsector, sicindustry, famasector, famaindustry, sector, industry, scalemarketcap, scalerevenue, relatedtickers, currency, location, lastupdated, firstadded, firstpricedate, lastpricedate, firstquarter, lastquarter, secfilings, companysite]\nIndex: []\n\n[0 rows x 28 columns]",
      "text/html": "<div>\n<style scoped>\n    .dataframe tbody tr th:only-of-type {\n        vertical-align: middle;\n    }\n\n    .dataframe tbody tr th {\n        vertical-align: top;\n    }\n\n    .dataframe thead th {\n        text-align: right;\n    }\n</style>\n<table border=\"1\" class=\"dataframe\">\n  <thead>\n    <tr style=\"text-align: right;\">\n      <th></th>\n      <th>table</th>\n      <th>permaticker</th>\n      <th>ticker</th>\n      <th>name</th>\n      <th>exchange</th>\n      <th>isdelisted</th>\n      <th>category</th>\n      <th>cusips</th>\n      <th>siccode</th>\n      <th>sicsector</th>\n      <th>...</th>\n      <th>currency</th>\n      <th>location</th>\n      <th>lastupdated</th>\n      <th>firstadded</th>\n      <th>firstpricedate</th>\n      <th>lastpricedate</th>\n      <th>firstquarter</th>\n      <th>lastquarter</th>\n      <th>secfilings</th>\n      <th>companysite</th>\n    </tr>\n    <tr>\n      <th>None</th>\n      <th></th>\n      <th></th>\n      <th></th>\n      <th></th>\n      <th></th>\n      <th></th>\n      <th></th>\n      <th></th>\n      <th></th>\n      <th></th>\n      <th></th>\n      <th></th>\n      <th></th>\n      <th></th>\n      <th></th>\n      <th></th>\n      <th></th>\n      <th></th>\n      <th></th>\n      <th></th>\n      <th></th>\n    </tr>\n  </thead>\n  <tbody>\n  </tbody>\n</table>\n<p>0 rows × 28 columns</p>\n</div>"
     },
     "execution_count": 139,
     "metadata": {},
     "output_type": "execute_result"
    }
   ],
   "source": [
    "tickers_metadata[tickers_metadata.ticker == 'HGSH']"
   ],
   "metadata": {
    "collapsed": false,
    "pycharm": {
     "name": "#%%\n"
    }
   }
  },
  {
   "cell_type": "code",
   "execution_count": 122,
   "outputs": [],
   "source": [
    "focused_cat = tickers_metadata[tickers_metadata.category.isin([\"Domestic Common Stock\",\n",
    "                  \"Domestic Common Stock Primary Class\", \"Canadian Common Stock\",\n",
    "                  \"Canadian Common Stock Primary Class\",\n",
    "                  \"Domestic Common Stock Secondary Class\"])]"
   ],
   "metadata": {
    "collapsed": false,
    "pycharm": {
     "name": "#%%\n"
    }
   }
  },
  {
   "cell_type": "code",
   "execution_count": 141,
   "outputs": [
    {
     "data": {
      "text/plain": "      table permaticker ticker             name exchange isdelisted  \\\nNone                                                                  \n6117    SF1      195736    GGE  Green Giant Inc   NASDAQ          N   \n24116   SEP      195736    GGE  Green Giant Inc   NASDAQ          N   \n\n                    category                         cusips  siccode  \\\nNone                                                                   \n6117   Domestic Common Stock  16948W100 16948W209 16937D105   6500.0   \n24116  Domestic Common Stock  16948W100 16948W209 16937D105   6500.0   \n\n                               sicsector  ... currency location lastupdated  \\\nNone                                      ...                                 \n6117   Finance Insurance And Real Estate  ...      USD    China  2022-03-23   \n24116  Finance Insurance And Real Estate  ...      USD    China  2022-03-24   \n\n      firstadded firstpricedate lastpricedate firstquarter lastquarter  \\\nNone                                                                     \n6117  2015-12-11     2008-04-01    2022-03-24   2006-09-30  2021-12-31   \n24116 2015-12-11     2008-04-01    2022-03-24   2006-09-30  2021-12-31   \n\n                                              secfilings  \\\nNone                                                       \n6117   https://www.sec.gov/cgi-bin/browse-edgar?actio...   \n24116  https://www.sec.gov/cgi-bin/browse-edgar?actio...   \n\n                   companysite  \nNone                            \n6117   http://www.chinahgs.com  \n24116  http://www.chinahgs.com  \n\n[2 rows x 28 columns]",
      "text/html": "<div>\n<style scoped>\n    .dataframe tbody tr th:only-of-type {\n        vertical-align: middle;\n    }\n\n    .dataframe tbody tr th {\n        vertical-align: top;\n    }\n\n    .dataframe thead th {\n        text-align: right;\n    }\n</style>\n<table border=\"1\" class=\"dataframe\">\n  <thead>\n    <tr style=\"text-align: right;\">\n      <th></th>\n      <th>table</th>\n      <th>permaticker</th>\n      <th>ticker</th>\n      <th>name</th>\n      <th>exchange</th>\n      <th>isdelisted</th>\n      <th>category</th>\n      <th>cusips</th>\n      <th>siccode</th>\n      <th>sicsector</th>\n      <th>...</th>\n      <th>currency</th>\n      <th>location</th>\n      <th>lastupdated</th>\n      <th>firstadded</th>\n      <th>firstpricedate</th>\n      <th>lastpricedate</th>\n      <th>firstquarter</th>\n      <th>lastquarter</th>\n      <th>secfilings</th>\n      <th>companysite</th>\n    </tr>\n    <tr>\n      <th>None</th>\n      <th></th>\n      <th></th>\n      <th></th>\n      <th></th>\n      <th></th>\n      <th></th>\n      <th></th>\n      <th></th>\n      <th></th>\n      <th></th>\n      <th></th>\n      <th></th>\n      <th></th>\n      <th></th>\n      <th></th>\n      <th></th>\n      <th></th>\n      <th></th>\n      <th></th>\n      <th></th>\n      <th></th>\n    </tr>\n  </thead>\n  <tbody>\n    <tr>\n      <th>6117</th>\n      <td>SF1</td>\n      <td>195736</td>\n      <td>GGE</td>\n      <td>Green Giant Inc</td>\n      <td>NASDAQ</td>\n      <td>N</td>\n      <td>Domestic Common Stock</td>\n      <td>16948W100 16948W209 16937D105</td>\n      <td>6500.0</td>\n      <td>Finance Insurance And Real Estate</td>\n      <td>...</td>\n      <td>USD</td>\n      <td>China</td>\n      <td>2022-03-23</td>\n      <td>2015-12-11</td>\n      <td>2008-04-01</td>\n      <td>2022-03-24</td>\n      <td>2006-09-30</td>\n      <td>2021-12-31</td>\n      <td>https://www.sec.gov/cgi-bin/browse-edgar?actio...</td>\n      <td>http://www.chinahgs.com</td>\n    </tr>\n    <tr>\n      <th>24116</th>\n      <td>SEP</td>\n      <td>195736</td>\n      <td>GGE</td>\n      <td>Green Giant Inc</td>\n      <td>NASDAQ</td>\n      <td>N</td>\n      <td>Domestic Common Stock</td>\n      <td>16948W100 16948W209 16937D105</td>\n      <td>6500.0</td>\n      <td>Finance Insurance And Real Estate</td>\n      <td>...</td>\n      <td>USD</td>\n      <td>China</td>\n      <td>2022-03-24</td>\n      <td>2015-12-11</td>\n      <td>2008-04-01</td>\n      <td>2022-03-24</td>\n      <td>2006-09-30</td>\n      <td>2021-12-31</td>\n      <td>https://www.sec.gov/cgi-bin/browse-edgar?actio...</td>\n      <td>http://www.chinahgs.com</td>\n    </tr>\n  </tbody>\n</table>\n<p>2 rows × 28 columns</p>\n</div>"
     },
     "execution_count": 141,
     "metadata": {},
     "output_type": "execute_result"
    }
   ],
   "source": [
    "focused_cat[focused_cat.ticker == 'GGE']"
   ],
   "metadata": {
    "collapsed": false,
    "pycharm": {
     "name": "#%%\n"
    }
   }
  },
  {
   "cell_type": "code",
   "execution_count": 121,
   "outputs": [
    {
     "data": {
      "text/plain": "      table permaticker ticker                              name exchange  \\\nNone                                                                        \n628     SF1      106711  ALLSA                     Allstream Inc   NASDAQ   \n1009    SF1      123729    AQN  Algonquin Power & Utilities Corp     NYSE   \n1545    SF1      167282    BAM   Brookfield Asset Management Inc     NYSE   \n1657    SF1      633918   BCTX        BriaCell Therapeutics Corp   NASDAQ   \n3829    SF1      165999    CVE                Cenovus Energy Inc     NYSE   \n6102    SF1      110038    GFL             GFL Environmental Inc     NYSE   \n6111    SF1      124620     GG                      Goldcorp Inc     NYSE   \n11451   SF1      119663    PLM               Polymet Mining Corp  NYSEMKT   \n12667   SF1      197204     RY              Royal Bank Of Canada     NYSE   \n13268   SF1      635353   SLHG         Skylight Health Group Inc   NASDAQ   \n15545   SF1      632989     VS                Versus Systems Inc   NASDAQ   \n17211   SEP      106711  ALLSA                     Allstream Inc   NASDAQ   \n17688   SEP      123729    AQN  Algonquin Power & Utilities Corp     NYSE   \n18375   SEP      167282    BAM   Brookfield Asset Management Inc     NYSE   \n18526   SEP      633918   BCTX        BriaCell Therapeutics Corp   NASDAQ   \n21247   SEP      165999    CVE                Cenovus Energy Inc     NYSE   \n21808   SEP      115194  DMM.A              Dia Met Minerals Ltd  NYSEMKT   \n24091   SEP      110038    GFL             GFL Environmental Inc     NYSE   \n24105   SEP      124620     GG                      Goldcorp Inc     NYSE   \n30790   SEP      119663    PLM               Polymet Mining Corp  NYSEMKT   \n32330   SEP      197204     RY              Royal Bank Of Canada     NYSE   \n33098   SEP      635353   SLHG         Skylight Health Group Inc   NASDAQ   \n35864   SEP      632989     VS                Versus Systems Inc   NASDAQ   \n\n      isdelisted                             category  \\\nNone                                                    \n628            Y  Canadian Common Stock Primary Class   \n1009           N  Canadian Common Stock Primary Class   \n1545           N  Canadian Common Stock Primary Class   \n1657           N  Canadian Common Stock Primary Class   \n3829           N  Canadian Common Stock Primary Class   \n6102           N  Canadian Common Stock Primary Class   \n6111           Y  Canadian Common Stock Primary Class   \n11451          N  Canadian Common Stock Primary Class   \n12667          N  Canadian Common Stock Primary Class   \n13268          N  Canadian Common Stock Primary Class   \n15545          N  Canadian Common Stock Primary Class   \n17211          Y  Canadian Common Stock Primary Class   \n17688          N  Canadian Common Stock Primary Class   \n18375          N  Canadian Common Stock Primary Class   \n18526          N  Canadian Common Stock Primary Class   \n21247          N  Canadian Common Stock Primary Class   \n21808          Y  Canadian Common Stock Primary Class   \n24091          N  Canadian Common Stock Primary Class   \n24105          Y  Canadian Common Stock Primary Class   \n30790          N  Canadian Common Stock Primary Class   \n32330          N  Canadian Common Stock Primary Class   \n33098          N  Canadian Common Stock Primary Class   \n35864          N  Canadian Common Stock Primary Class   \n\n                              cusips  siccode  \\\nNone                                            \n628                        02004C105   4813.0   \n1009                       015857105   4911.0   \n1545   112585104 10549P606 280905803   6512.0   \n1657                       10778Y302   2834.0   \n3829                       15135U109   1311.0   \n6102                       36168Q104   4953.0   \n6111             380956409 380956102   1040.0   \n11451            731916102 731916409   1000.0   \n12667                      780087102   6029.0   \n13268            83086L205 83086L106   8011.0   \n15545            92535P808 92535P105   7374.0   \n17211                      02004C105   4813.0   \n17688                      015857105   4911.0   \n18375  112585104 10549P606 280905803   6512.0   \n18526                      10778Y302   2834.0   \n21247                      15135U109   1311.0   \n21808                      25243K208   1000.0   \n24091                      36168Q104   4953.0   \n24105            380956409 380956102   1040.0   \n30790            731916102 731916409   1000.0   \n32330                      780087102   6029.0   \n33098            83086L205 83086L106   8011.0   \n35864            92535P808 92535P105   7374.0   \n\n                                               sicsector  ... currency  \\\nNone                                                      ...            \n628    Transportation Communications Electric Gas And...  ...      CAD   \n1009   Transportation Communications Electric Gas And...  ...      USD   \n1545                   Finance Insurance And Real Estate  ...      USD   \n1657                                       Manufacturing  ...      CAD   \n3829                                              Mining  ...      CAD   \n6102   Transportation Communications Electric Gas And...  ...      CAD   \n6111                                              Mining  ...      USD   \n11451                                             Mining  ...      USD   \n12667                  Finance Insurance And Real Estate  ...      CAD   \n13268                                           Services  ...      USD   \n15545                                           Services  ...      USD   \n17211  Transportation Communications Electric Gas And...  ...      USD   \n17688  Transportation Communications Electric Gas And...  ...      USD   \n18375                  Finance Insurance And Real Estate  ...      USD   \n18526                                      Manufacturing  ...      USD   \n21247                                             Mining  ...      USD   \n21808                                             Mining  ...      USD   \n24091  Transportation Communications Electric Gas And...  ...      USD   \n24105                                             Mining  ...      USD   \n30790                                             Mining  ...      USD   \n32330                  Finance Insurance And Real Estate  ...      USD   \n33098                                           Services  ...      USD   \n35864                                           Services  ...      USD   \n\n                       location lastupdated firstadded firstpricedate  \\\nNone                                                                    \n628             Alberta; Canada  2021-06-14 2021-06-12     2003-04-01   \n1009            Ontario; Canada  2022-03-07 2017-07-18     2009-12-29   \n1545            Ontario; Canada  2022-02-10 2016-01-17     1986-01-01   \n1657   British Columbia; Canada  2022-03-15 2021-02-24     2021-02-24   \n3829            Alberta; Canada  2022-03-24 2015-12-31     2009-11-17   \n6102            Ontario; Canada  2022-02-10 2020-03-11     2020-03-03   \n6111   British Columbia; Canada  2019-03-28 2016-11-17     1995-08-18   \n11451           Ontario; Canada  2022-03-17 2018-04-21     2000-10-12   \n12667           Ontario; Canada  2022-03-07 2016-08-06     1995-10-16   \n13268           Ontario; Canada  2021-11-16 2021-06-08     2021-06-07   \n15545  British Columbia; Canada  2021-11-17 2021-01-16     2021-01-15   \n17211           Alberta; Canada  2021-06-14 2021-06-12     2003-04-01   \n17688           Ontario; Canada  2022-03-24 2017-07-18     2009-12-29   \n18375           Ontario; Canada  2022-03-24 2016-01-17     1986-01-01   \n18526  British Columbia; Canada  2022-03-24 2021-02-24     2021-02-24   \n21247           Alberta; Canada  2022-03-24 2015-12-31     2009-11-17   \n21808  British Columbia; Canada  2021-07-09 2018-09-15     1995-07-17   \n24091           Ontario; Canada  2022-03-24 2020-03-11     2020-03-03   \n24105  British Columbia; Canada  2020-07-01 2016-11-17     1995-08-18   \n30790           Ontario; Canada  2022-03-24 2018-04-21     2000-10-12   \n32330           Ontario; Canada  2022-03-24 2016-08-06     1995-10-16   \n33098           Ontario; Canada  2022-03-24 2021-06-08     2021-06-07   \n35864  British Columbia; Canada  2022-03-24 2021-01-16     2021-01-15   \n\n      lastpricedate firstquarter lastquarter  \\\nNone                                           \n628      2004-06-04   2001-12-31  2004-03-31   \n1009     2022-03-24   2008-12-31  2021-12-31   \n1545     2022-03-24   2000-12-31  2021-09-30   \n1657     2022-03-24   2019-06-30  2021-12-31   \n3829     2022-03-24   2008-09-30  2021-12-31   \n6102     2022-03-24   2018-12-31  2021-12-31   \n6111     2019-04-17   2000-12-31  2018-12-31   \n11451    2022-03-24   2004-09-30  2021-12-31   \n12667    2022-03-24   2001-06-30  2021-12-31   \n13268    2022-03-24   2019-12-31  2021-09-30   \n15545    2022-03-24   2018-12-31  2021-09-30   \n17211    2004-06-04   2001-12-31  2004-03-31   \n17688    2022-03-24   2008-12-31  2021-12-31   \n18375    2022-03-24   2000-12-31  2021-09-30   \n18526    2022-03-24   2019-06-30  2021-12-31   \n21247    2022-03-24   2008-09-30  2021-12-31   \n21808    2001-07-18         None        None   \n24091    2022-03-24   2018-12-31  2021-12-31   \n24105    2019-04-17   2000-12-31  2018-12-31   \n30790    2022-03-24   2004-09-30  2021-12-31   \n32330    2022-03-24   2001-06-30  2021-12-31   \n33098    2022-03-24   2019-12-31  2021-09-30   \n35864    2022-03-24   2018-12-31  2021-09-30   \n\n                                              secfilings  \\\nNone                                                       \n628    https://www.sec.gov/cgi-bin/browse-edgar?actio...   \n1009   https://www.sec.gov/cgi-bin/browse-edgar?actio...   \n1545   https://www.sec.gov/cgi-bin/browse-edgar?actio...   \n1657   https://www.sec.gov/cgi-bin/browse-edgar?actio...   \n3829   https://www.sec.gov/cgi-bin/browse-edgar?actio...   \n6102   https://www.sec.gov/cgi-bin/browse-edgar?actio...   \n6111   https://www.sec.gov/cgi-bin/browse-edgar?actio...   \n11451  https://www.sec.gov/cgi-bin/browse-edgar?actio...   \n12667  https://www.sec.gov/cgi-bin/browse-edgar?actio...   \n13268  https://www.sec.gov/cgi-bin/browse-edgar?actio...   \n15545  https://www.sec.gov/cgi-bin/browse-edgar?actio...   \n17211  https://www.sec.gov/cgi-bin/browse-edgar?actio...   \n17688  https://www.sec.gov/cgi-bin/browse-edgar?actio...   \n18375  https://www.sec.gov/cgi-bin/browse-edgar?actio...   \n18526  https://www.sec.gov/cgi-bin/browse-edgar?actio...   \n21247  https://www.sec.gov/cgi-bin/browse-edgar?actio...   \n21808  https://www.sec.gov/cgi-bin/browse-edgar?actio...   \n24091  https://www.sec.gov/cgi-bin/browse-edgar?actio...   \n24105  https://www.sec.gov/cgi-bin/browse-edgar?actio...   \n30790  https://www.sec.gov/cgi-bin/browse-edgar?actio...   \n32330  https://www.sec.gov/cgi-bin/browse-edgar?actio...   \n33098  https://www.sec.gov/cgi-bin/browse-edgar?actio...   \n35864  https://www.sec.gov/cgi-bin/browse-edgar?actio...   \n\n                              companysite  \nNone                                       \n628                                  None  \n1009            http://algonquinpower.com  \n1545            http://www.brookfield.com  \n1657                                 None  \n3829               http://www.cenovus.com  \n6102                http://www.gflenv.com  \n6111                                 None  \n11451        http://www.polymetmining.com  \n12667                  http://www.rbc.com  \n13268  http://www.skylighthealthgroup.com  \n15545        http://www.versussystems.com  \n17211                                None  \n17688           http://algonquinpower.com  \n18375           http://www.brookfield.com  \n18526                                None  \n21247              http://www.cenovus.com  \n21808                                None  \n24091               http://www.gflenv.com  \n24105                                None  \n30790        http://www.polymetmining.com  \n32330                  http://www.rbc.com  \n33098  http://www.skylighthealthgroup.com  \n35864        http://www.versussystems.com  \n\n[23 rows x 28 columns]",
      "text/html": "<div>\n<style scoped>\n    .dataframe tbody tr th:only-of-type {\n        vertical-align: middle;\n    }\n\n    .dataframe tbody tr th {\n        vertical-align: top;\n    }\n\n    .dataframe thead th {\n        text-align: right;\n    }\n</style>\n<table border=\"1\" class=\"dataframe\">\n  <thead>\n    <tr style=\"text-align: right;\">\n      <th></th>\n      <th>table</th>\n      <th>permaticker</th>\n      <th>ticker</th>\n      <th>name</th>\n      <th>exchange</th>\n      <th>isdelisted</th>\n      <th>category</th>\n      <th>cusips</th>\n      <th>siccode</th>\n      <th>sicsector</th>\n      <th>...</th>\n      <th>currency</th>\n      <th>location</th>\n      <th>lastupdated</th>\n      <th>firstadded</th>\n      <th>firstpricedate</th>\n      <th>lastpricedate</th>\n      <th>firstquarter</th>\n      <th>lastquarter</th>\n      <th>secfilings</th>\n      <th>companysite</th>\n    </tr>\n    <tr>\n      <th>None</th>\n      <th></th>\n      <th></th>\n      <th></th>\n      <th></th>\n      <th></th>\n      <th></th>\n      <th></th>\n      <th></th>\n      <th></th>\n      <th></th>\n      <th></th>\n      <th></th>\n      <th></th>\n      <th></th>\n      <th></th>\n      <th></th>\n      <th></th>\n      <th></th>\n      <th></th>\n      <th></th>\n      <th></th>\n    </tr>\n  </thead>\n  <tbody>\n    <tr>\n      <th>628</th>\n      <td>SF1</td>\n      <td>106711</td>\n      <td>ALLSA</td>\n      <td>Allstream Inc</td>\n      <td>NASDAQ</td>\n      <td>Y</td>\n      <td>Canadian Common Stock Primary Class</td>\n      <td>02004C105</td>\n      <td>4813.0</td>\n      <td>Transportation Communications Electric Gas And...</td>\n      <td>...</td>\n      <td>CAD</td>\n      <td>Alberta; Canada</td>\n      <td>2021-06-14</td>\n      <td>2021-06-12</td>\n      <td>2003-04-01</td>\n      <td>2004-06-04</td>\n      <td>2001-12-31</td>\n      <td>2004-03-31</td>\n      <td>https://www.sec.gov/cgi-bin/browse-edgar?actio...</td>\n      <td>None</td>\n    </tr>\n    <tr>\n      <th>1009</th>\n      <td>SF1</td>\n      <td>123729</td>\n      <td>AQN</td>\n      <td>Algonquin Power &amp; Utilities Corp</td>\n      <td>NYSE</td>\n      <td>N</td>\n      <td>Canadian Common Stock Primary Class</td>\n      <td>015857105</td>\n      <td>4911.0</td>\n      <td>Transportation Communications Electric Gas And...</td>\n      <td>...</td>\n      <td>USD</td>\n      <td>Ontario; Canada</td>\n      <td>2022-03-07</td>\n      <td>2017-07-18</td>\n      <td>2009-12-29</td>\n      <td>2022-03-24</td>\n      <td>2008-12-31</td>\n      <td>2021-12-31</td>\n      <td>https://www.sec.gov/cgi-bin/browse-edgar?actio...</td>\n      <td>http://algonquinpower.com</td>\n    </tr>\n    <tr>\n      <th>1545</th>\n      <td>SF1</td>\n      <td>167282</td>\n      <td>BAM</td>\n      <td>Brookfield Asset Management Inc</td>\n      <td>NYSE</td>\n      <td>N</td>\n      <td>Canadian Common Stock Primary Class</td>\n      <td>112585104 10549P606 280905803</td>\n      <td>6512.0</td>\n      <td>Finance Insurance And Real Estate</td>\n      <td>...</td>\n      <td>USD</td>\n      <td>Ontario; Canada</td>\n      <td>2022-02-10</td>\n      <td>2016-01-17</td>\n      <td>1986-01-01</td>\n      <td>2022-03-24</td>\n      <td>2000-12-31</td>\n      <td>2021-09-30</td>\n      <td>https://www.sec.gov/cgi-bin/browse-edgar?actio...</td>\n      <td>http://www.brookfield.com</td>\n    </tr>\n    <tr>\n      <th>1657</th>\n      <td>SF1</td>\n      <td>633918</td>\n      <td>BCTX</td>\n      <td>BriaCell Therapeutics Corp</td>\n      <td>NASDAQ</td>\n      <td>N</td>\n      <td>Canadian Common Stock Primary Class</td>\n      <td>10778Y302</td>\n      <td>2834.0</td>\n      <td>Manufacturing</td>\n      <td>...</td>\n      <td>CAD</td>\n      <td>British Columbia; Canada</td>\n      <td>2022-03-15</td>\n      <td>2021-02-24</td>\n      <td>2021-02-24</td>\n      <td>2022-03-24</td>\n      <td>2019-06-30</td>\n      <td>2021-12-31</td>\n      <td>https://www.sec.gov/cgi-bin/browse-edgar?actio...</td>\n      <td>None</td>\n    </tr>\n    <tr>\n      <th>3829</th>\n      <td>SF1</td>\n      <td>165999</td>\n      <td>CVE</td>\n      <td>Cenovus Energy Inc</td>\n      <td>NYSE</td>\n      <td>N</td>\n      <td>Canadian Common Stock Primary Class</td>\n      <td>15135U109</td>\n      <td>1311.0</td>\n      <td>Mining</td>\n      <td>...</td>\n      <td>CAD</td>\n      <td>Alberta; Canada</td>\n      <td>2022-03-24</td>\n      <td>2015-12-31</td>\n      <td>2009-11-17</td>\n      <td>2022-03-24</td>\n      <td>2008-09-30</td>\n      <td>2021-12-31</td>\n      <td>https://www.sec.gov/cgi-bin/browse-edgar?actio...</td>\n      <td>http://www.cenovus.com</td>\n    </tr>\n    <tr>\n      <th>6102</th>\n      <td>SF1</td>\n      <td>110038</td>\n      <td>GFL</td>\n      <td>GFL Environmental Inc</td>\n      <td>NYSE</td>\n      <td>N</td>\n      <td>Canadian Common Stock Primary Class</td>\n      <td>36168Q104</td>\n      <td>4953.0</td>\n      <td>Transportation Communications Electric Gas And...</td>\n      <td>...</td>\n      <td>CAD</td>\n      <td>Ontario; Canada</td>\n      <td>2022-02-10</td>\n      <td>2020-03-11</td>\n      <td>2020-03-03</td>\n      <td>2022-03-24</td>\n      <td>2018-12-31</td>\n      <td>2021-12-31</td>\n      <td>https://www.sec.gov/cgi-bin/browse-edgar?actio...</td>\n      <td>http://www.gflenv.com</td>\n    </tr>\n    <tr>\n      <th>6111</th>\n      <td>SF1</td>\n      <td>124620</td>\n      <td>GG</td>\n      <td>Goldcorp Inc</td>\n      <td>NYSE</td>\n      <td>Y</td>\n      <td>Canadian Common Stock Primary Class</td>\n      <td>380956409 380956102</td>\n      <td>1040.0</td>\n      <td>Mining</td>\n      <td>...</td>\n      <td>USD</td>\n      <td>British Columbia; Canada</td>\n      <td>2019-03-28</td>\n      <td>2016-11-17</td>\n      <td>1995-08-18</td>\n      <td>2019-04-17</td>\n      <td>2000-12-31</td>\n      <td>2018-12-31</td>\n      <td>https://www.sec.gov/cgi-bin/browse-edgar?actio...</td>\n      <td>None</td>\n    </tr>\n    <tr>\n      <th>11451</th>\n      <td>SF1</td>\n      <td>119663</td>\n      <td>PLM</td>\n      <td>Polymet Mining Corp</td>\n      <td>NYSEMKT</td>\n      <td>N</td>\n      <td>Canadian Common Stock Primary Class</td>\n      <td>731916102 731916409</td>\n      <td>1000.0</td>\n      <td>Mining</td>\n      <td>...</td>\n      <td>USD</td>\n      <td>Ontario; Canada</td>\n      <td>2022-03-17</td>\n      <td>2018-04-21</td>\n      <td>2000-10-12</td>\n      <td>2022-03-24</td>\n      <td>2004-09-30</td>\n      <td>2021-12-31</td>\n      <td>https://www.sec.gov/cgi-bin/browse-edgar?actio...</td>\n      <td>http://www.polymetmining.com</td>\n    </tr>\n    <tr>\n      <th>12667</th>\n      <td>SF1</td>\n      <td>197204</td>\n      <td>RY</td>\n      <td>Royal Bank Of Canada</td>\n      <td>NYSE</td>\n      <td>N</td>\n      <td>Canadian Common Stock Primary Class</td>\n      <td>780087102</td>\n      <td>6029.0</td>\n      <td>Finance Insurance And Real Estate</td>\n      <td>...</td>\n      <td>CAD</td>\n      <td>Ontario; Canada</td>\n      <td>2022-03-07</td>\n      <td>2016-08-06</td>\n      <td>1995-10-16</td>\n      <td>2022-03-24</td>\n      <td>2001-06-30</td>\n      <td>2021-12-31</td>\n      <td>https://www.sec.gov/cgi-bin/browse-edgar?actio...</td>\n      <td>http://www.rbc.com</td>\n    </tr>\n    <tr>\n      <th>13268</th>\n      <td>SF1</td>\n      <td>635353</td>\n      <td>SLHG</td>\n      <td>Skylight Health Group Inc</td>\n      <td>NASDAQ</td>\n      <td>N</td>\n      <td>Canadian Common Stock Primary Class</td>\n      <td>83086L205 83086L106</td>\n      <td>8011.0</td>\n      <td>Services</td>\n      <td>...</td>\n      <td>USD</td>\n      <td>Ontario; Canada</td>\n      <td>2021-11-16</td>\n      <td>2021-06-08</td>\n      <td>2021-06-07</td>\n      <td>2022-03-24</td>\n      <td>2019-12-31</td>\n      <td>2021-09-30</td>\n      <td>https://www.sec.gov/cgi-bin/browse-edgar?actio...</td>\n      <td>http://www.skylighthealthgroup.com</td>\n    </tr>\n    <tr>\n      <th>15545</th>\n      <td>SF1</td>\n      <td>632989</td>\n      <td>VS</td>\n      <td>Versus Systems Inc</td>\n      <td>NASDAQ</td>\n      <td>N</td>\n      <td>Canadian Common Stock Primary Class</td>\n      <td>92535P808 92535P105</td>\n      <td>7374.0</td>\n      <td>Services</td>\n      <td>...</td>\n      <td>USD</td>\n      <td>British Columbia; Canada</td>\n      <td>2021-11-17</td>\n      <td>2021-01-16</td>\n      <td>2021-01-15</td>\n      <td>2022-03-24</td>\n      <td>2018-12-31</td>\n      <td>2021-09-30</td>\n      <td>https://www.sec.gov/cgi-bin/browse-edgar?actio...</td>\n      <td>http://www.versussystems.com</td>\n    </tr>\n    <tr>\n      <th>17211</th>\n      <td>SEP</td>\n      <td>106711</td>\n      <td>ALLSA</td>\n      <td>Allstream Inc</td>\n      <td>NASDAQ</td>\n      <td>Y</td>\n      <td>Canadian Common Stock Primary Class</td>\n      <td>02004C105</td>\n      <td>4813.0</td>\n      <td>Transportation Communications Electric Gas And...</td>\n      <td>...</td>\n      <td>USD</td>\n      <td>Alberta; Canada</td>\n      <td>2021-06-14</td>\n      <td>2021-06-12</td>\n      <td>2003-04-01</td>\n      <td>2004-06-04</td>\n      <td>2001-12-31</td>\n      <td>2004-03-31</td>\n      <td>https://www.sec.gov/cgi-bin/browse-edgar?actio...</td>\n      <td>None</td>\n    </tr>\n    <tr>\n      <th>17688</th>\n      <td>SEP</td>\n      <td>123729</td>\n      <td>AQN</td>\n      <td>Algonquin Power &amp; Utilities Corp</td>\n      <td>NYSE</td>\n      <td>N</td>\n      <td>Canadian Common Stock Primary Class</td>\n      <td>015857105</td>\n      <td>4911.0</td>\n      <td>Transportation Communications Electric Gas And...</td>\n      <td>...</td>\n      <td>USD</td>\n      <td>Ontario; Canada</td>\n      <td>2022-03-24</td>\n      <td>2017-07-18</td>\n      <td>2009-12-29</td>\n      <td>2022-03-24</td>\n      <td>2008-12-31</td>\n      <td>2021-12-31</td>\n      <td>https://www.sec.gov/cgi-bin/browse-edgar?actio...</td>\n      <td>http://algonquinpower.com</td>\n    </tr>\n    <tr>\n      <th>18375</th>\n      <td>SEP</td>\n      <td>167282</td>\n      <td>BAM</td>\n      <td>Brookfield Asset Management Inc</td>\n      <td>NYSE</td>\n      <td>N</td>\n      <td>Canadian Common Stock Primary Class</td>\n      <td>112585104 10549P606 280905803</td>\n      <td>6512.0</td>\n      <td>Finance Insurance And Real Estate</td>\n      <td>...</td>\n      <td>USD</td>\n      <td>Ontario; Canada</td>\n      <td>2022-03-24</td>\n      <td>2016-01-17</td>\n      <td>1986-01-01</td>\n      <td>2022-03-24</td>\n      <td>2000-12-31</td>\n      <td>2021-09-30</td>\n      <td>https://www.sec.gov/cgi-bin/browse-edgar?actio...</td>\n      <td>http://www.brookfield.com</td>\n    </tr>\n    <tr>\n      <th>18526</th>\n      <td>SEP</td>\n      <td>633918</td>\n      <td>BCTX</td>\n      <td>BriaCell Therapeutics Corp</td>\n      <td>NASDAQ</td>\n      <td>N</td>\n      <td>Canadian Common Stock Primary Class</td>\n      <td>10778Y302</td>\n      <td>2834.0</td>\n      <td>Manufacturing</td>\n      <td>...</td>\n      <td>USD</td>\n      <td>British Columbia; Canada</td>\n      <td>2022-03-24</td>\n      <td>2021-02-24</td>\n      <td>2021-02-24</td>\n      <td>2022-03-24</td>\n      <td>2019-06-30</td>\n      <td>2021-12-31</td>\n      <td>https://www.sec.gov/cgi-bin/browse-edgar?actio...</td>\n      <td>None</td>\n    </tr>\n    <tr>\n      <th>21247</th>\n      <td>SEP</td>\n      <td>165999</td>\n      <td>CVE</td>\n      <td>Cenovus Energy Inc</td>\n      <td>NYSE</td>\n      <td>N</td>\n      <td>Canadian Common Stock Primary Class</td>\n      <td>15135U109</td>\n      <td>1311.0</td>\n      <td>Mining</td>\n      <td>...</td>\n      <td>USD</td>\n      <td>Alberta; Canada</td>\n      <td>2022-03-24</td>\n      <td>2015-12-31</td>\n      <td>2009-11-17</td>\n      <td>2022-03-24</td>\n      <td>2008-09-30</td>\n      <td>2021-12-31</td>\n      <td>https://www.sec.gov/cgi-bin/browse-edgar?actio...</td>\n      <td>http://www.cenovus.com</td>\n    </tr>\n    <tr>\n      <th>21808</th>\n      <td>SEP</td>\n      <td>115194</td>\n      <td>DMM.A</td>\n      <td>Dia Met Minerals Ltd</td>\n      <td>NYSEMKT</td>\n      <td>Y</td>\n      <td>Canadian Common Stock Primary Class</td>\n      <td>25243K208</td>\n      <td>1000.0</td>\n      <td>Mining</td>\n      <td>...</td>\n      <td>USD</td>\n      <td>British Columbia; Canada</td>\n      <td>2021-07-09</td>\n      <td>2018-09-15</td>\n      <td>1995-07-17</td>\n      <td>2001-07-18</td>\n      <td>None</td>\n      <td>None</td>\n      <td>https://www.sec.gov/cgi-bin/browse-edgar?actio...</td>\n      <td>None</td>\n    </tr>\n    <tr>\n      <th>24091</th>\n      <td>SEP</td>\n      <td>110038</td>\n      <td>GFL</td>\n      <td>GFL Environmental Inc</td>\n      <td>NYSE</td>\n      <td>N</td>\n      <td>Canadian Common Stock Primary Class</td>\n      <td>36168Q104</td>\n      <td>4953.0</td>\n      <td>Transportation Communications Electric Gas And...</td>\n      <td>...</td>\n      <td>USD</td>\n      <td>Ontario; Canada</td>\n      <td>2022-03-24</td>\n      <td>2020-03-11</td>\n      <td>2020-03-03</td>\n      <td>2022-03-24</td>\n      <td>2018-12-31</td>\n      <td>2021-12-31</td>\n      <td>https://www.sec.gov/cgi-bin/browse-edgar?actio...</td>\n      <td>http://www.gflenv.com</td>\n    </tr>\n    <tr>\n      <th>24105</th>\n      <td>SEP</td>\n      <td>124620</td>\n      <td>GG</td>\n      <td>Goldcorp Inc</td>\n      <td>NYSE</td>\n      <td>Y</td>\n      <td>Canadian Common Stock Primary Class</td>\n      <td>380956409 380956102</td>\n      <td>1040.0</td>\n      <td>Mining</td>\n      <td>...</td>\n      <td>USD</td>\n      <td>British Columbia; Canada</td>\n      <td>2020-07-01</td>\n      <td>2016-11-17</td>\n      <td>1995-08-18</td>\n      <td>2019-04-17</td>\n      <td>2000-12-31</td>\n      <td>2018-12-31</td>\n      <td>https://www.sec.gov/cgi-bin/browse-edgar?actio...</td>\n      <td>None</td>\n    </tr>\n    <tr>\n      <th>30790</th>\n      <td>SEP</td>\n      <td>119663</td>\n      <td>PLM</td>\n      <td>Polymet Mining Corp</td>\n      <td>NYSEMKT</td>\n      <td>N</td>\n      <td>Canadian Common Stock Primary Class</td>\n      <td>731916102 731916409</td>\n      <td>1000.0</td>\n      <td>Mining</td>\n      <td>...</td>\n      <td>USD</td>\n      <td>Ontario; Canada</td>\n      <td>2022-03-24</td>\n      <td>2018-04-21</td>\n      <td>2000-10-12</td>\n      <td>2022-03-24</td>\n      <td>2004-09-30</td>\n      <td>2021-12-31</td>\n      <td>https://www.sec.gov/cgi-bin/browse-edgar?actio...</td>\n      <td>http://www.polymetmining.com</td>\n    </tr>\n    <tr>\n      <th>32330</th>\n      <td>SEP</td>\n      <td>197204</td>\n      <td>RY</td>\n      <td>Royal Bank Of Canada</td>\n      <td>NYSE</td>\n      <td>N</td>\n      <td>Canadian Common Stock Primary Class</td>\n      <td>780087102</td>\n      <td>6029.0</td>\n      <td>Finance Insurance And Real Estate</td>\n      <td>...</td>\n      <td>USD</td>\n      <td>Ontario; Canada</td>\n      <td>2022-03-24</td>\n      <td>2016-08-06</td>\n      <td>1995-10-16</td>\n      <td>2022-03-24</td>\n      <td>2001-06-30</td>\n      <td>2021-12-31</td>\n      <td>https://www.sec.gov/cgi-bin/browse-edgar?actio...</td>\n      <td>http://www.rbc.com</td>\n    </tr>\n    <tr>\n      <th>33098</th>\n      <td>SEP</td>\n      <td>635353</td>\n      <td>SLHG</td>\n      <td>Skylight Health Group Inc</td>\n      <td>NASDAQ</td>\n      <td>N</td>\n      <td>Canadian Common Stock Primary Class</td>\n      <td>83086L205 83086L106</td>\n      <td>8011.0</td>\n      <td>Services</td>\n      <td>...</td>\n      <td>USD</td>\n      <td>Ontario; Canada</td>\n      <td>2022-03-24</td>\n      <td>2021-06-08</td>\n      <td>2021-06-07</td>\n      <td>2022-03-24</td>\n      <td>2019-12-31</td>\n      <td>2021-09-30</td>\n      <td>https://www.sec.gov/cgi-bin/browse-edgar?actio...</td>\n      <td>http://www.skylighthealthgroup.com</td>\n    </tr>\n    <tr>\n      <th>35864</th>\n      <td>SEP</td>\n      <td>632989</td>\n      <td>VS</td>\n      <td>Versus Systems Inc</td>\n      <td>NASDAQ</td>\n      <td>N</td>\n      <td>Canadian Common Stock Primary Class</td>\n      <td>92535P808 92535P105</td>\n      <td>7374.0</td>\n      <td>Services</td>\n      <td>...</td>\n      <td>USD</td>\n      <td>British Columbia; Canada</td>\n      <td>2022-03-24</td>\n      <td>2021-01-16</td>\n      <td>2021-01-15</td>\n      <td>2022-03-24</td>\n      <td>2018-12-31</td>\n      <td>2021-09-30</td>\n      <td>https://www.sec.gov/cgi-bin/browse-edgar?actio...</td>\n      <td>http://www.versussystems.com</td>\n    </tr>\n  </tbody>\n</table>\n<p>23 rows × 28 columns</p>\n</div>"
     },
     "execution_count": 121,
     "metadata": {},
     "output_type": "execute_result"
    }
   ],
   "source": [
    "tickers_metadata[tickers_metadata.category == 'Canadian Common Stock Primary Class']"
   ],
   "metadata": {
    "collapsed": false,
    "pycharm": {
     "name": "#%%\n"
    }
   }
  },
  {
   "cell_type": "code",
   "execution_count": 49,
   "outputs": [],
   "source": [
    "tickers_metadata['permaticker'] = tickers_metadata.permaticker.astype('str')"
   ],
   "metadata": {
    "collapsed": false,
    "pycharm": {
     "name": "#%%\n"
    }
   }
  },
  {
   "cell_type": "code",
   "execution_count": 69,
   "outputs": [],
   "source": [
    "# Filtering exchanges and categories of stocks\n",
    "filter_exchange = NDL_CONFIG['exchanges']\n",
    "\n",
    "filter_cat = NDL_CONFIG['stock_categories']\n",
    "# Filter stocks that we focus on\n",
    "focused_stocks_ticker = tickers_metadata[\n",
    "    (tickers_metadata.exchange.isin(filter_exchange)) & (\n",
    "        tickers_metadata.category.isin(filter_cat))][['ticker', 'permaticker', 'relatedtickers']].drop_duplicates()\n"
   ],
   "metadata": {
    "collapsed": false,
    "pycharm": {
     "name": "#%%\n"
    }
   }
  },
  {
   "cell_type": "code",
   "execution_count": 99,
   "outputs": [
    {
     "data": {
      "text/plain": "Empty DataFrame\nColumns: [table, permaticker, ticker, name, exchange, isdelisted, category, cusips, siccode, sicsector, sicindustry, famasector, famaindustry, sector, industry, scalemarketcap, scalerevenue, relatedtickers, currency, location, lastupdated, firstadded, firstpricedate, lastpricedate, firstquarter, lastquarter, secfilings, companysite]\nIndex: []\n\n[0 rows x 28 columns]",
      "text/html": "<div>\n<style scoped>\n    .dataframe tbody tr th:only-of-type {\n        vertical-align: middle;\n    }\n\n    .dataframe tbody tr th {\n        vertical-align: top;\n    }\n\n    .dataframe thead th {\n        text-align: right;\n    }\n</style>\n<table border=\"1\" class=\"dataframe\">\n  <thead>\n    <tr style=\"text-align: right;\">\n      <th></th>\n      <th>table</th>\n      <th>permaticker</th>\n      <th>ticker</th>\n      <th>name</th>\n      <th>exchange</th>\n      <th>isdelisted</th>\n      <th>category</th>\n      <th>cusips</th>\n      <th>siccode</th>\n      <th>sicsector</th>\n      <th>...</th>\n      <th>currency</th>\n      <th>location</th>\n      <th>lastupdated</th>\n      <th>firstadded</th>\n      <th>firstpricedate</th>\n      <th>lastpricedate</th>\n      <th>firstquarter</th>\n      <th>lastquarter</th>\n      <th>secfilings</th>\n      <th>companysite</th>\n    </tr>\n    <tr>\n      <th>None</th>\n      <th></th>\n      <th></th>\n      <th></th>\n      <th></th>\n      <th></th>\n      <th></th>\n      <th></th>\n      <th></th>\n      <th></th>\n      <th></th>\n      <th></th>\n      <th></th>\n      <th></th>\n      <th></th>\n      <th></th>\n      <th></th>\n      <th></th>\n      <th></th>\n      <th></th>\n      <th></th>\n      <th></th>\n    </tr>\n  </thead>\n  <tbody>\n  </tbody>\n</table>\n<p>0 rows × 28 columns</p>\n</div>"
     },
     "execution_count": 99,
     "metadata": {},
     "output_type": "execute_result"
    }
   ],
   "source": [
    "tickers_metadata[tickers_metadata.ticker == 'ALTM']"
   ],
   "metadata": {
    "collapsed": false,
    "pycharm": {
     "name": "#%%\n"
    }
   }
  },
  {
   "cell_type": "code",
   "execution_count": 70,
   "outputs": [],
   "source": [
    "ticker_list = []\n",
    "permaticker_list = []\n",
    "none_list = []\n",
    "for index, row in focused_stocks_ticker.iterrows():\n",
    "    # print(type(row['relatedtickers']))\n",
    "    if row['relatedtickers']:\n",
    "        for ticker in row['relatedtickers'].split(' '):\n",
    "            ticker_list.append(ticker)\n",
    "            permaticker_list.append(row['permaticker'])\n",
    "            none_list.append(None)"
   ],
   "metadata": {
    "collapsed": false,
    "pycharm": {
     "name": "#%%\n"
    }
   }
  },
  {
   "cell_type": "code",
   "execution_count": 82,
   "outputs": [],
   "source": [
    "temp_df = pd.DataFrame()\n",
    "temp_df['ticker'] = ticker_list\n",
    "temp_df['permaticker'] = permaticker_list\n",
    "temp_df['relatedtickers'] = none_list\n",
    "temp_df = temp_df[~temp_df.isin(focused_stocks_ticker.ticker)]\n",
    "temp_df.dropna(inplace=True)"
   ],
   "metadata": {
    "collapsed": false,
    "pycharm": {
     "name": "#%%\n"
    }
   }
  },
  {
   "cell_type": "code",
   "execution_count": 91,
   "outputs": [],
   "source": [
    "permaticker_ticker = pd.concat([focused_stocks_ticker, temp_df])\n"
   ],
   "metadata": {
    "collapsed": false,
    "pycharm": {
     "name": "#%%\n"
    }
   }
  },
  {
   "cell_type": "code",
   "execution_count": 90,
   "outputs": [
    {
     "data": {
      "text/plain": "Empty DataFrame\nColumns: [ticker, permaticker, relatedtickers]\nIndex: []",
      "text/html": "<div>\n<style scoped>\n    .dataframe tbody tr th:only-of-type {\n        vertical-align: middle;\n    }\n\n    .dataframe tbody tr th {\n        vertical-align: top;\n    }\n\n    .dataframe thead th {\n        text-align: right;\n    }\n</style>\n<table border=\"1\" class=\"dataframe\">\n  <thead>\n    <tr style=\"text-align: right;\">\n      <th></th>\n      <th>ticker</th>\n      <th>permaticker</th>\n      <th>relatedtickers</th>\n    </tr>\n  </thead>\n  <tbody>\n  </tbody>\n</table>\n</div>"
     },
     "execution_count": 90,
     "metadata": {},
     "output_type": "execute_result"
    }
   ],
   "source": [
    "temp_df[temp_df.ticker == 'A']"
   ],
   "metadata": {
    "collapsed": false,
    "pycharm": {
     "name": "#%%\n"
    }
   }
  },
  {
   "cell_type": "code",
   "execution_count": 84,
   "outputs": [
    {
     "data": {
      "text/plain": "Empty DataFrame\nColumns: [ticker, permaticker, relatedtickers]\nIndex: []",
      "text/html": "<div>\n<style scoped>\n    .dataframe tbody tr th:only-of-type {\n        vertical-align: middle;\n    }\n\n    .dataframe tbody tr th {\n        vertical-align: top;\n    }\n\n    .dataframe thead th {\n        text-align: right;\n    }\n</style>\n<table border=\"1\" class=\"dataframe\">\n  <thead>\n    <tr style=\"text-align: right;\">\n      <th></th>\n      <th>ticker</th>\n      <th>permaticker</th>\n      <th>relatedtickers</th>\n    </tr>\n  </thead>\n  <tbody>\n  </tbody>\n</table>\n</div>"
     },
     "execution_count": 84,
     "metadata": {},
     "output_type": "execute_result"
    }
   ],
   "source": [
    "temp_df[temp_df.isin(list(stacked_hist.ticker.unique()))]"
   ],
   "metadata": {
    "collapsed": false,
    "pycharm": {
     "name": "#%%\n"
    }
   }
  },
  {
   "cell_type": "code",
   "execution_count": 74,
   "outputs": [
    {
     "data": {
      "text/plain": "      ticker permaticker relatedtickers\n27      AAII      116429           None\n59       ABI      115555           None\n83      ABRX      115544           None\n88       ABH      180839           None\n107      ABD      198896           None\n...      ...         ...            ...\n15007   ZING      637216           None\n15008  ZINGW      637216           None\n15009  ZNTEW      634235           None\n15011  ZTAQW      636032           None\n15014  ZWRKW      634678           None\n\n[2665 rows x 3 columns]",
      "text/html": "<div>\n<style scoped>\n    .dataframe tbody tr th:only-of-type {\n        vertical-align: middle;\n    }\n\n    .dataframe tbody tr th {\n        vertical-align: top;\n    }\n\n    .dataframe thead th {\n        text-align: right;\n    }\n</style>\n<table border=\"1\" class=\"dataframe\">\n  <thead>\n    <tr style=\"text-align: right;\">\n      <th></th>\n      <th>ticker</th>\n      <th>permaticker</th>\n      <th>relatedtickers</th>\n    </tr>\n  </thead>\n  <tbody>\n    <tr>\n      <th>27</th>\n      <td>AAII</td>\n      <td>116429</td>\n      <td>None</td>\n    </tr>\n    <tr>\n      <th>59</th>\n      <td>ABI</td>\n      <td>115555</td>\n      <td>None</td>\n    </tr>\n    <tr>\n      <th>83</th>\n      <td>ABRX</td>\n      <td>115544</td>\n      <td>None</td>\n    </tr>\n    <tr>\n      <th>88</th>\n      <td>ABH</td>\n      <td>180839</td>\n      <td>None</td>\n    </tr>\n    <tr>\n      <th>107</th>\n      <td>ABD</td>\n      <td>198896</td>\n      <td>None</td>\n    </tr>\n    <tr>\n      <th>...</th>\n      <td>...</td>\n      <td>...</td>\n      <td>...</td>\n    </tr>\n    <tr>\n      <th>15007</th>\n      <td>ZING</td>\n      <td>637216</td>\n      <td>None</td>\n    </tr>\n    <tr>\n      <th>15008</th>\n      <td>ZINGW</td>\n      <td>637216</td>\n      <td>None</td>\n    </tr>\n    <tr>\n      <th>15009</th>\n      <td>ZNTEW</td>\n      <td>634235</td>\n      <td>None</td>\n    </tr>\n    <tr>\n      <th>15011</th>\n      <td>ZTAQW</td>\n      <td>636032</td>\n      <td>None</td>\n    </tr>\n    <tr>\n      <th>15014</th>\n      <td>ZWRKW</td>\n      <td>634678</td>\n      <td>None</td>\n    </tr>\n  </tbody>\n</table>\n<p>2665 rows × 3 columns</p>\n</div>"
     },
     "execution_count": 74,
     "metadata": {},
     "output_type": "execute_result"
    }
   ],
   "source": [
    "temp_df[temp_df.duplicated('ticker')]"
   ],
   "metadata": {
    "collapsed": false,
    "pycharm": {
     "name": "#%%\n"
    }
   }
  },
  {
   "cell_type": "code",
   "execution_count": 112,
   "outputs": [
    {
     "data": {
      "text/plain": "array(['AFIN', 'ALTM', 'BFRA', 'BOMN', 'BTNB', 'CINR', 'FIG', 'GCAC',\n       'GRUB', 'HCCC', 'HFC', 'HGSH', 'IGAP', 'MOTV', 'NXTD', 'NXU',\n       'PLIN', 'REPH', 'ROCR', 'SBEA', 'SNII', 'SPAQ', 'TVAC', 'VIAC',\n       'VIACA'], dtype=object)"
     },
     "execution_count": 112,
     "metadata": {},
     "output_type": "execute_result"
    }
   ],
   "source": [
    "stacked_hist[~stacked_hist.ticker.isin(permaticker_ticker.ticker.unique())].ticker.unique()"
   ],
   "metadata": {
    "collapsed": false,
    "pycharm": {
     "name": "#%%\n"
    }
   }
  },
  {
   "cell_type": "code",
   "execution_count": 123,
   "outputs": [
    {
     "data": {
      "text/plain": "Timestamp('2022-03-24 00:00:00')"
     },
     "execution_count": 123,
     "metadata": {},
     "output_type": "execute_result"
    }
   ],
   "source": [
    "stacked_hist.date.max()"
   ],
   "metadata": {
    "collapsed": false,
    "pycharm": {
     "name": "#%%\n"
    }
   }
  },
  {
   "cell_type": "code",
   "execution_count": 60,
   "outputs": [],
   "source": [
    "permaticker_ticker_nodup = permaticker_ticker.drop_duplicates('ticker', keep='first')"
   ],
   "metadata": {
    "collapsed": false,
    "pycharm": {
     "name": "#%%\n"
    }
   }
  },
  {
   "cell_type": "code",
   "execution_count": 125,
   "outputs": [],
   "source": [
    "stacked_hist = stacked_hist.set_index('date')"
   ],
   "metadata": {
    "collapsed": false,
    "pycharm": {
     "name": "#%%\n"
    }
   }
  },
  {
   "cell_type": "code",
   "execution_count": 126,
   "outputs": [],
   "source": [
    "merged = pd.merge(stacked_hist, permaticker_ticker[['ticker', 'permaticker']], how='left', on=['ticker'])"
   ],
   "metadata": {
    "collapsed": false,
    "pycharm": {
     "name": "#%%\n"
    }
   }
  },
  {
   "cell_type": "code",
   "execution_count": 127,
   "outputs": [
    {
     "data": {
      "text/plain": "         ticker   open    high     low  close    openadj    highadj  \\\n0             A  35.84  36.990  35.740  36.48  23.651649  24.410561   \n1             A  36.15  36.360  35.590  36.19  23.855604  23.994184   \n2             A  35.88  37.320  35.720  37.00  23.677891  24.628174   \n3             A  37.09  37.555  36.805  37.40  24.476425  24.783288   \n4             A  37.62  38.420  37.472  38.38  24.826455  25.354397   \n...         ...    ...     ...     ...    ...        ...        ...   \n13860865     ZZ   2.20   2.210   2.200   2.20   2.200000   2.210000   \n13860866     ZZ   2.20   2.210   2.200   2.21   2.200000   2.210000   \n13860867     ZZ   2.20   2.210   2.200   2.21   2.200000   2.210000   \n13860868     ZZ   2.20   2.210   2.200   2.21   2.200000   2.210000   \n13860869     ZZ   2.21   2.210   2.190   2.19   2.210000   2.210000   \n\n             lowadj  closeadj     volume permaticker  \n0         23.585657    24.074  2973100.0      196290  \n1         23.486056    23.882  3327500.0      196290  \n2         23.572304    24.417  4894600.0      196290  \n3         24.288348    24.681  3370100.0      196290  \n4         24.728786    25.328  3168500.0      196290  \n...             ...       ...        ...         ...  \n13860865   2.200000     2.200   407100.0      198673  \n13860866   2.200000     2.210   160000.0      198673  \n13860867   2.200000     2.210   308900.0      198673  \n13860868   2.200000     2.210   275000.0      198673  \n13860869   2.190000     2.190  1518200.0      198673  \n\n[13860870 rows x 11 columns]",
      "text/html": "<div>\n<style scoped>\n    .dataframe tbody tr th:only-of-type {\n        vertical-align: middle;\n    }\n\n    .dataframe tbody tr th {\n        vertical-align: top;\n    }\n\n    .dataframe thead th {\n        text-align: right;\n    }\n</style>\n<table border=\"1\" class=\"dataframe\">\n  <thead>\n    <tr style=\"text-align: right;\">\n      <th></th>\n      <th>ticker</th>\n      <th>open</th>\n      <th>high</th>\n      <th>low</th>\n      <th>close</th>\n      <th>openadj</th>\n      <th>highadj</th>\n      <th>lowadj</th>\n      <th>closeadj</th>\n      <th>volume</th>\n      <th>permaticker</th>\n    </tr>\n  </thead>\n  <tbody>\n    <tr>\n      <th>0</th>\n      <td>A</td>\n      <td>35.84</td>\n      <td>36.990</td>\n      <td>35.740</td>\n      <td>36.48</td>\n      <td>23.651649</td>\n      <td>24.410561</td>\n      <td>23.585657</td>\n      <td>24.074</td>\n      <td>2973100.0</td>\n      <td>196290</td>\n    </tr>\n    <tr>\n      <th>1</th>\n      <td>A</td>\n      <td>36.15</td>\n      <td>36.360</td>\n      <td>35.590</td>\n      <td>36.19</td>\n      <td>23.855604</td>\n      <td>23.994184</td>\n      <td>23.486056</td>\n      <td>23.882</td>\n      <td>3327500.0</td>\n      <td>196290</td>\n    </tr>\n    <tr>\n      <th>2</th>\n      <td>A</td>\n      <td>35.88</td>\n      <td>37.320</td>\n      <td>35.720</td>\n      <td>37.00</td>\n      <td>23.677891</td>\n      <td>24.628174</td>\n      <td>23.572304</td>\n      <td>24.417</td>\n      <td>4894600.0</td>\n      <td>196290</td>\n    </tr>\n    <tr>\n      <th>3</th>\n      <td>A</td>\n      <td>37.09</td>\n      <td>37.555</td>\n      <td>36.805</td>\n      <td>37.40</td>\n      <td>24.476425</td>\n      <td>24.783288</td>\n      <td>24.288348</td>\n      <td>24.681</td>\n      <td>3370100.0</td>\n      <td>196290</td>\n    </tr>\n    <tr>\n      <th>4</th>\n      <td>A</td>\n      <td>37.62</td>\n      <td>38.420</td>\n      <td>37.472</td>\n      <td>38.38</td>\n      <td>24.826455</td>\n      <td>25.354397</td>\n      <td>24.728786</td>\n      <td>25.328</td>\n      <td>3168500.0</td>\n      <td>196290</td>\n    </tr>\n    <tr>\n      <th>...</th>\n      <td>...</td>\n      <td>...</td>\n      <td>...</td>\n      <td>...</td>\n      <td>...</td>\n      <td>...</td>\n      <td>...</td>\n      <td>...</td>\n      <td>...</td>\n      <td>...</td>\n      <td>...</td>\n    </tr>\n    <tr>\n      <th>13860865</th>\n      <td>ZZ</td>\n      <td>2.20</td>\n      <td>2.210</td>\n      <td>2.200</td>\n      <td>2.20</td>\n      <td>2.200000</td>\n      <td>2.210000</td>\n      <td>2.200000</td>\n      <td>2.200</td>\n      <td>407100.0</td>\n      <td>198673</td>\n    </tr>\n    <tr>\n      <th>13860866</th>\n      <td>ZZ</td>\n      <td>2.20</td>\n      <td>2.210</td>\n      <td>2.200</td>\n      <td>2.21</td>\n      <td>2.200000</td>\n      <td>2.210000</td>\n      <td>2.200000</td>\n      <td>2.210</td>\n      <td>160000.0</td>\n      <td>198673</td>\n    </tr>\n    <tr>\n      <th>13860867</th>\n      <td>ZZ</td>\n      <td>2.20</td>\n      <td>2.210</td>\n      <td>2.200</td>\n      <td>2.21</td>\n      <td>2.200000</td>\n      <td>2.210000</td>\n      <td>2.200000</td>\n      <td>2.210</td>\n      <td>308900.0</td>\n      <td>198673</td>\n    </tr>\n    <tr>\n      <th>13860868</th>\n      <td>ZZ</td>\n      <td>2.20</td>\n      <td>2.210</td>\n      <td>2.200</td>\n      <td>2.21</td>\n      <td>2.200000</td>\n      <td>2.210000</td>\n      <td>2.200000</td>\n      <td>2.210</td>\n      <td>275000.0</td>\n      <td>198673</td>\n    </tr>\n    <tr>\n      <th>13860869</th>\n      <td>ZZ</td>\n      <td>2.21</td>\n      <td>2.210</td>\n      <td>2.190</td>\n      <td>2.19</td>\n      <td>2.210000</td>\n      <td>2.210000</td>\n      <td>2.190000</td>\n      <td>2.190</td>\n      <td>1518200.0</td>\n      <td>198673</td>\n    </tr>\n  </tbody>\n</table>\n<p>13860870 rows × 11 columns</p>\n</div>"
     },
     "execution_count": 127,
     "metadata": {},
     "output_type": "execute_result"
    }
   ],
   "source": [
    "merged"
   ],
   "metadata": {
    "collapsed": false,
    "pycharm": {
     "name": "#%%\n"
    }
   }
  },
  {
   "cell_type": "code",
   "execution_count": 95,
   "outputs": [
    {
     "data": {
      "text/plain": "array(['ALTM', 'BFRA', 'BOMN', 'BTNB', 'CINR', 'FIG', 'GCAC', 'GRUB',\n       'HCCC', 'HFC', 'HGSH', 'IGAP', 'MOTV', 'NXTD', 'NXU', 'PLIN',\n       'REPH', 'ROCR', 'SBEA', 'SNII', 'SPAQ', 'TVAC', 'VIAC', 'VIACA'],\n      dtype=object)"
     },
     "execution_count": 95,
     "metadata": {},
     "output_type": "execute_result"
    }
   ],
   "source": [
    "merged[merged.duplicated(['permaticker', 'date'])].ticker.unique()"
   ],
   "metadata": {
    "collapsed": false,
    "pycharm": {
     "name": "#%%\n"
    }
   }
  },
  {
   "cell_type": "code",
   "execution_count": 109,
   "outputs": [
    {
     "data": {
      "text/plain": "Empty DataFrame\nColumns: [table, permaticker, ticker, name, exchange, isdelisted, category, cusips, siccode, sicsector, sicindustry, famasector, famaindustry, sector, industry, scalemarketcap, scalerevenue, relatedtickers, currency, location, lastupdated, firstadded, firstpricedate, lastpricedate, firstquarter, lastquarter, secfilings, companysite]\nIndex: []\n\n[0 rows x 28 columns]",
      "text/html": "<div>\n<style scoped>\n    .dataframe tbody tr th:only-of-type {\n        vertical-align: middle;\n    }\n\n    .dataframe tbody tr th {\n        vertical-align: top;\n    }\n\n    .dataframe thead th {\n        text-align: right;\n    }\n</style>\n<table border=\"1\" class=\"dataframe\">\n  <thead>\n    <tr style=\"text-align: right;\">\n      <th></th>\n      <th>table</th>\n      <th>permaticker</th>\n      <th>ticker</th>\n      <th>name</th>\n      <th>exchange</th>\n      <th>isdelisted</th>\n      <th>category</th>\n      <th>cusips</th>\n      <th>siccode</th>\n      <th>sicsector</th>\n      <th>...</th>\n      <th>currency</th>\n      <th>location</th>\n      <th>lastupdated</th>\n      <th>firstadded</th>\n      <th>firstpricedate</th>\n      <th>lastpricedate</th>\n      <th>firstquarter</th>\n      <th>lastquarter</th>\n      <th>secfilings</th>\n      <th>companysite</th>\n    </tr>\n    <tr>\n      <th>None</th>\n      <th></th>\n      <th></th>\n      <th></th>\n      <th></th>\n      <th></th>\n      <th></th>\n      <th></th>\n      <th></th>\n      <th></th>\n      <th></th>\n      <th></th>\n      <th></th>\n      <th></th>\n      <th></th>\n      <th></th>\n      <th></th>\n      <th></th>\n      <th></th>\n      <th></th>\n      <th></th>\n      <th></th>\n    </tr>\n  </thead>\n  <tbody>\n  </tbody>\n</table>\n<p>0 rows × 28 columns</p>\n</div>"
     },
     "execution_count": 109,
     "metadata": {},
     "output_type": "execute_result"
    }
   ],
   "source": [
    "tickers_metadata[tickers_metadata.ticker == 'SPAQ']"
   ],
   "metadata": {
    "collapsed": false,
    "pycharm": {
     "name": "#%%\n"
    }
   }
  },
  {
   "cell_type": "code",
   "execution_count": 107,
   "outputs": [],
   "source": [
    "data = ndl.get_table('SHARADAR/SEP', ticker='A',\n",
    "                                     paginate=True, date={'gte': '2012-01-01'})"
   ],
   "metadata": {
    "collapsed": false,
    "pycharm": {
     "name": "#%%\n"
    }
   }
  },
  {
   "cell_type": "code",
   "execution_count": 108,
   "outputs": [
    {
     "data": {
      "text/plain": "     ticker       date    open     high      low   close     volume  closeadj  \\\nNone                                                                            \n0         A 2022-03-24  134.89  136.580  133.590  136.41  1346742.0   136.410   \n1         A 2022-03-23  137.85  137.955  133.448  134.18  1336815.0   134.180   \n2         A 2022-03-22  138.01  140.200  137.650  139.29  1977714.0   139.290   \n3         A 2022-03-21  137.63  139.790  137.010  138.14  1285102.0   138.140   \n4         A 2022-03-18  136.21  139.393  136.210  139.12  2761938.0   139.120   \n...     ...        ...     ...      ...      ...     ...        ...       ...   \n2569      A 2012-01-09   37.62   38.420   37.472   38.38  3168500.0    25.328   \n2570      A 2012-01-06   37.09   37.555   36.805   37.40  3370100.0    24.681   \n2571      A 2012-01-05   35.88   37.320   35.720   37.00  4894600.0    24.417   \n2572      A 2012-01-04   36.15   36.360   35.590   36.19  3327500.0    23.882   \n2573      A 2012-01-03   35.84   36.990   35.740   36.48  2973100.0    24.074   \n\n      closeunadj lastupdated  \nNone                          \n0         136.41  2022-03-24  \n1         134.18  2022-03-23  \n2         139.29  2022-03-22  \n3         138.14  2022-03-21  \n4         139.12  2022-03-18  \n...          ...         ...  \n2569       38.38  2022-01-03  \n2570       37.40  2022-01-03  \n2571       37.00  2022-01-03  \n2572       36.19  2022-01-03  \n2573       36.48  2022-01-03  \n\n[2574 rows x 10 columns]",
      "text/html": "<div>\n<style scoped>\n    .dataframe tbody tr th:only-of-type {\n        vertical-align: middle;\n    }\n\n    .dataframe tbody tr th {\n        vertical-align: top;\n    }\n\n    .dataframe thead th {\n        text-align: right;\n    }\n</style>\n<table border=\"1\" class=\"dataframe\">\n  <thead>\n    <tr style=\"text-align: right;\">\n      <th></th>\n      <th>ticker</th>\n      <th>date</th>\n      <th>open</th>\n      <th>high</th>\n      <th>low</th>\n      <th>close</th>\n      <th>volume</th>\n      <th>closeadj</th>\n      <th>closeunadj</th>\n      <th>lastupdated</th>\n    </tr>\n    <tr>\n      <th>None</th>\n      <th></th>\n      <th></th>\n      <th></th>\n      <th></th>\n      <th></th>\n      <th></th>\n      <th></th>\n      <th></th>\n      <th></th>\n      <th></th>\n    </tr>\n  </thead>\n  <tbody>\n    <tr>\n      <th>0</th>\n      <td>A</td>\n      <td>2022-03-24</td>\n      <td>134.89</td>\n      <td>136.580</td>\n      <td>133.590</td>\n      <td>136.41</td>\n      <td>1346742.0</td>\n      <td>136.410</td>\n      <td>136.41</td>\n      <td>2022-03-24</td>\n    </tr>\n    <tr>\n      <th>1</th>\n      <td>A</td>\n      <td>2022-03-23</td>\n      <td>137.85</td>\n      <td>137.955</td>\n      <td>133.448</td>\n      <td>134.18</td>\n      <td>1336815.0</td>\n      <td>134.180</td>\n      <td>134.18</td>\n      <td>2022-03-23</td>\n    </tr>\n    <tr>\n      <th>2</th>\n      <td>A</td>\n      <td>2022-03-22</td>\n      <td>138.01</td>\n      <td>140.200</td>\n      <td>137.650</td>\n      <td>139.29</td>\n      <td>1977714.0</td>\n      <td>139.290</td>\n      <td>139.29</td>\n      <td>2022-03-22</td>\n    </tr>\n    <tr>\n      <th>3</th>\n      <td>A</td>\n      <td>2022-03-21</td>\n      <td>137.63</td>\n      <td>139.790</td>\n      <td>137.010</td>\n      <td>138.14</td>\n      <td>1285102.0</td>\n      <td>138.140</td>\n      <td>138.14</td>\n      <td>2022-03-21</td>\n    </tr>\n    <tr>\n      <th>4</th>\n      <td>A</td>\n      <td>2022-03-18</td>\n      <td>136.21</td>\n      <td>139.393</td>\n      <td>136.210</td>\n      <td>139.12</td>\n      <td>2761938.0</td>\n      <td>139.120</td>\n      <td>139.12</td>\n      <td>2022-03-18</td>\n    </tr>\n    <tr>\n      <th>...</th>\n      <td>...</td>\n      <td>...</td>\n      <td>...</td>\n      <td>...</td>\n      <td>...</td>\n      <td>...</td>\n      <td>...</td>\n      <td>...</td>\n      <td>...</td>\n      <td>...</td>\n    </tr>\n    <tr>\n      <th>2569</th>\n      <td>A</td>\n      <td>2012-01-09</td>\n      <td>37.62</td>\n      <td>38.420</td>\n      <td>37.472</td>\n      <td>38.38</td>\n      <td>3168500.0</td>\n      <td>25.328</td>\n      <td>38.38</td>\n      <td>2022-01-03</td>\n    </tr>\n    <tr>\n      <th>2570</th>\n      <td>A</td>\n      <td>2012-01-06</td>\n      <td>37.09</td>\n      <td>37.555</td>\n      <td>36.805</td>\n      <td>37.40</td>\n      <td>3370100.0</td>\n      <td>24.681</td>\n      <td>37.40</td>\n      <td>2022-01-03</td>\n    </tr>\n    <tr>\n      <th>2571</th>\n      <td>A</td>\n      <td>2012-01-05</td>\n      <td>35.88</td>\n      <td>37.320</td>\n      <td>35.720</td>\n      <td>37.00</td>\n      <td>4894600.0</td>\n      <td>24.417</td>\n      <td>37.00</td>\n      <td>2022-01-03</td>\n    </tr>\n    <tr>\n      <th>2572</th>\n      <td>A</td>\n      <td>2012-01-04</td>\n      <td>36.15</td>\n      <td>36.360</td>\n      <td>35.590</td>\n      <td>36.19</td>\n      <td>3327500.0</td>\n      <td>23.882</td>\n      <td>36.19</td>\n      <td>2022-01-03</td>\n    </tr>\n    <tr>\n      <th>2573</th>\n      <td>A</td>\n      <td>2012-01-03</td>\n      <td>35.84</td>\n      <td>36.990</td>\n      <td>35.740</td>\n      <td>36.48</td>\n      <td>2973100.0</td>\n      <td>24.074</td>\n      <td>36.48</td>\n      <td>2022-01-03</td>\n    </tr>\n  </tbody>\n</table>\n<p>2574 rows × 10 columns</p>\n</div>"
     },
     "execution_count": 108,
     "metadata": {},
     "output_type": "execute_result"
    }
   ],
   "source": [
    "data"
   ],
   "metadata": {
    "collapsed": false,
    "pycharm": {
     "name": "#%%\n"
    }
   }
  },
  {
   "cell_type": "code",
   "execution_count": 38,
   "outputs": [],
   "source": [
    "merged.sort_values(['permaticker', 'date'], inplace=True)"
   ],
   "metadata": {
    "collapsed": false,
    "pycharm": {
     "name": "#%%\n"
    }
   }
  },
  {
   "cell_type": "code",
   "execution_count": 39,
   "outputs": [
    {
     "data": {
      "text/plain": "        ticker       date   open   high    low  close  openadj  highadj  \\\n7229010   HGSH 2012-01-03  1.360  1.360  1.240  1.266    1.360    1.360   \n7229011   HGSH 2012-01-04  1.223  1.356  1.223  1.261    1.223    1.356   \n7229012   HGSH 2012-01-05  1.360  1.360  1.360  1.360    1.360    1.360   \n7229013   HGSH 2012-01-06  1.360  1.360  1.260  1.360    1.360    1.360   \n7229014   HGSH 2012-01-09  1.314  1.314  1.300  1.300    1.314    1.314   \n...        ...        ...    ...    ...    ...    ...      ...      ...   \n7231579   HGSH 2022-03-18  3.350  3.590  2.870  3.090    3.350    3.590   \n6503694    GGE 2022-03-21  3.000  3.050  2.950  2.965    3.000    3.050   \n6503695    GGE 2022-03-22  2.900  3.200  2.900  3.020    2.900    3.200   \n6503696    GGE 2022-03-23  3.230  3.230  2.860  3.000    3.230    3.230   \n6503697    GGE 2022-03-24  2.990  3.320  2.700  3.300    2.990    3.320   \n\n         lowadj  closeadj    volume permaticker  \n7229010   1.240     1.266    1050.0      195736  \n7229011   1.223     1.261     450.0      195736  \n7229012   1.360     1.360     150.0      195736  \n7229013   1.260     1.360    6300.0      195736  \n7229014   1.300     1.300     250.0      195736  \n...         ...       ...       ...         ...  \n7231579   2.870     3.090  148358.0      195736  \n6503694   2.950     2.965   25566.0      195736  \n6503695   2.900     3.020   46899.0      195736  \n6503696   2.860     3.000   19662.0      195736  \n6503697   2.700     3.300  535484.0      195736  \n\n[2574 rows x 12 columns]",
      "text/html": "<div>\n<style scoped>\n    .dataframe tbody tr th:only-of-type {\n        vertical-align: middle;\n    }\n\n    .dataframe tbody tr th {\n        vertical-align: top;\n    }\n\n    .dataframe thead th {\n        text-align: right;\n    }\n</style>\n<table border=\"1\" class=\"dataframe\">\n  <thead>\n    <tr style=\"text-align: right;\">\n      <th></th>\n      <th>ticker</th>\n      <th>date</th>\n      <th>open</th>\n      <th>high</th>\n      <th>low</th>\n      <th>close</th>\n      <th>openadj</th>\n      <th>highadj</th>\n      <th>lowadj</th>\n      <th>closeadj</th>\n      <th>volume</th>\n      <th>permaticker</th>\n    </tr>\n  </thead>\n  <tbody>\n    <tr>\n      <th>7229010</th>\n      <td>HGSH</td>\n      <td>2012-01-03</td>\n      <td>1.360</td>\n      <td>1.360</td>\n      <td>1.240</td>\n      <td>1.266</td>\n      <td>1.360</td>\n      <td>1.360</td>\n      <td>1.240</td>\n      <td>1.266</td>\n      <td>1050.0</td>\n      <td>195736</td>\n    </tr>\n    <tr>\n      <th>7229011</th>\n      <td>HGSH</td>\n      <td>2012-01-04</td>\n      <td>1.223</td>\n      <td>1.356</td>\n      <td>1.223</td>\n      <td>1.261</td>\n      <td>1.223</td>\n      <td>1.356</td>\n      <td>1.223</td>\n      <td>1.261</td>\n      <td>450.0</td>\n      <td>195736</td>\n    </tr>\n    <tr>\n      <th>7229012</th>\n      <td>HGSH</td>\n      <td>2012-01-05</td>\n      <td>1.360</td>\n      <td>1.360</td>\n      <td>1.360</td>\n      <td>1.360</td>\n      <td>1.360</td>\n      <td>1.360</td>\n      <td>1.360</td>\n      <td>1.360</td>\n      <td>150.0</td>\n      <td>195736</td>\n    </tr>\n    <tr>\n      <th>7229013</th>\n      <td>HGSH</td>\n      <td>2012-01-06</td>\n      <td>1.360</td>\n      <td>1.360</td>\n      <td>1.260</td>\n      <td>1.360</td>\n      <td>1.360</td>\n      <td>1.360</td>\n      <td>1.260</td>\n      <td>1.360</td>\n      <td>6300.0</td>\n      <td>195736</td>\n    </tr>\n    <tr>\n      <th>7229014</th>\n      <td>HGSH</td>\n      <td>2012-01-09</td>\n      <td>1.314</td>\n      <td>1.314</td>\n      <td>1.300</td>\n      <td>1.300</td>\n      <td>1.314</td>\n      <td>1.314</td>\n      <td>1.300</td>\n      <td>1.300</td>\n      <td>250.0</td>\n      <td>195736</td>\n    </tr>\n    <tr>\n      <th>...</th>\n      <td>...</td>\n      <td>...</td>\n      <td>...</td>\n      <td>...</td>\n      <td>...</td>\n      <td>...</td>\n      <td>...</td>\n      <td>...</td>\n      <td>...</td>\n      <td>...</td>\n      <td>...</td>\n      <td>...</td>\n    </tr>\n    <tr>\n      <th>7231579</th>\n      <td>HGSH</td>\n      <td>2022-03-18</td>\n      <td>3.350</td>\n      <td>3.590</td>\n      <td>2.870</td>\n      <td>3.090</td>\n      <td>3.350</td>\n      <td>3.590</td>\n      <td>2.870</td>\n      <td>3.090</td>\n      <td>148358.0</td>\n      <td>195736</td>\n    </tr>\n    <tr>\n      <th>6503694</th>\n      <td>GGE</td>\n      <td>2022-03-21</td>\n      <td>3.000</td>\n      <td>3.050</td>\n      <td>2.950</td>\n      <td>2.965</td>\n      <td>3.000</td>\n      <td>3.050</td>\n      <td>2.950</td>\n      <td>2.965</td>\n      <td>25566.0</td>\n      <td>195736</td>\n    </tr>\n    <tr>\n      <th>6503695</th>\n      <td>GGE</td>\n      <td>2022-03-22</td>\n      <td>2.900</td>\n      <td>3.200</td>\n      <td>2.900</td>\n      <td>3.020</td>\n      <td>2.900</td>\n      <td>3.200</td>\n      <td>2.900</td>\n      <td>3.020</td>\n      <td>46899.0</td>\n      <td>195736</td>\n    </tr>\n    <tr>\n      <th>6503696</th>\n      <td>GGE</td>\n      <td>2022-03-23</td>\n      <td>3.230</td>\n      <td>3.230</td>\n      <td>2.860</td>\n      <td>3.000</td>\n      <td>3.230</td>\n      <td>3.230</td>\n      <td>2.860</td>\n      <td>3.000</td>\n      <td>19662.0</td>\n      <td>195736</td>\n    </tr>\n    <tr>\n      <th>6503697</th>\n      <td>GGE</td>\n      <td>2022-03-24</td>\n      <td>2.990</td>\n      <td>3.320</td>\n      <td>2.700</td>\n      <td>3.300</td>\n      <td>2.990</td>\n      <td>3.320</td>\n      <td>2.700</td>\n      <td>3.300</td>\n      <td>535484.0</td>\n      <td>195736</td>\n    </tr>\n  </tbody>\n</table>\n<p>2574 rows × 12 columns</p>\n</div>"
     },
     "execution_count": 39,
     "metadata": {},
     "output_type": "execute_result"
    }
   ],
   "source": [
    "merged[merged.permaticker == '195736']"
   ],
   "metadata": {
    "collapsed": false,
    "pycharm": {
     "name": "#%%\n"
    }
   }
  },
  {
   "cell_type": "code",
   "execution_count": 8,
   "outputs": [],
   "source": [
    "tickers_action = ndl.get_table('SHARADAR/ACTIONS', paginate=True)"
   ],
   "metadata": {
    "collapsed": false,
    "pycharm": {
     "name": "#%%\n"
    }
   }
  },
  {
   "cell_type": "code",
   "execution_count": 9,
   "outputs": [],
   "source": [
    "tickers_change = tickers_action[tickers_action.action.isin(['tickerchangefrom'])]"
   ],
   "metadata": {
    "collapsed": false,
    "pycharm": {
     "name": "#%%\n"
    }
   }
  },
  {
   "cell_type": "code",
   "execution_count": 41,
   "outputs": [
    {
     "data": {
      "text/plain": "Empty DataFrame\nColumns: [date, action, ticker, name, value, contraticker, contraname]\nIndex: []",
      "text/html": "<div>\n<style scoped>\n    .dataframe tbody tr th:only-of-type {\n        vertical-align: middle;\n    }\n\n    .dataframe tbody tr th {\n        vertical-align: top;\n    }\n\n    .dataframe thead th {\n        text-align: right;\n    }\n</style>\n<table border=\"1\" class=\"dataframe\">\n  <thead>\n    <tr style=\"text-align: right;\">\n      <th></th>\n      <th>date</th>\n      <th>action</th>\n      <th>ticker</th>\n      <th>name</th>\n      <th>value</th>\n      <th>contraticker</th>\n      <th>contraname</th>\n    </tr>\n    <tr>\n      <th>None</th>\n      <th></th>\n      <th></th>\n      <th></th>\n      <th></th>\n      <th></th>\n      <th></th>\n      <th></th>\n    </tr>\n  </thead>\n  <tbody>\n  </tbody>\n</table>\n</div>"
     },
     "execution_count": 41,
     "metadata": {},
     "output_type": "execute_result"
    }
   ],
   "source": [
    "tickers_change[tickers_change.ticker == 'HGSH']"
   ],
   "metadata": {
    "collapsed": false,
    "pycharm": {
     "name": "#%%\n"
    }
   }
  },
  {
   "cell_type": "code",
   "execution_count": 5,
   "outputs": [],
   "source": [
    "ae = AlphaEngineerV(small_hist)"
   ],
   "metadata": {
    "collapsed": false,
    "pycharm": {
     "name": "#%%\n"
    }
   }
  },
  {
   "cell_type": "code",
   "execution_count": 9,
   "outputs": [
    {
     "data": {
      "text/plain": "ticker  date      \nA       2012-04-09    23.0\nAAIIQ   2012-04-09    -0.0\nAAMRQ   2012-04-09    -0.0\nAAON    2012-04-09    51.0\nAATC    2012-04-09   -28.0\n                      ... \nABSI    2022-03-21    59.0\nABST    2022-03-21     7.0\nACB     2022-03-21    -9.0\nACEL    2022-03-21    40.0\nACER    2022-03-21   -51.0\nLength: 41144, dtype: float64"
     },
     "execution_count": 9,
     "metadata": {},
     "output_type": "execute_result"
    }
   ],
   "source": [
    "ae.alpha7()"
   ],
   "metadata": {
    "collapsed": false,
    "pycharm": {
     "name": "#%%\n"
    }
   }
  }
 ],
 "metadata": {
  "kernelspec": {
   "display_name": "Python 3 (ipykernel)",
   "language": "python",
   "name": "python3"
  },
  "language_info": {
   "codemirror_mode": {
    "name": "ipython",
    "version": 3
   },
   "file_extension": ".py",
   "mimetype": "text/x-python",
   "name": "python",
   "nbconvert_exporter": "python",
   "pygments_lexer": "ipython3",
   "version": "3.9.7"
  }
 },
 "nbformat": 4,
 "nbformat_minor": 5
}