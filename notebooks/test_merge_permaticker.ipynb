{
 "cells": [
  {
   "cell_type": "code",
   "execution_count": null,
   "outputs": [],
   "source": [
    "# df.loc[idx[slice(None), '2012-02-15'],]['cs_pctrank_ts_argmax5_closeadj'].unique()  -> for indexing multiindex"
   ],
   "metadata": {
    "collapsed": false,
    "pycharm": {
     "name": "#%%\n"
    }
   }
  },
  {
   "cell_type": "code",
   "execution_count": 1,
   "id": "polish-negotiation",
   "metadata": {},
   "outputs": [],
   "source": [
    "import pandas as pd\n",
    "import nasdaqdatalink as ndl\n",
    "import json\n",
    "import numpy as np\n",
    "from typing import List, Callable, Dict\n",
    "from realgam.quantlib import general_utils as gu\n",
    "from realgam.quantlib.engineer.op_engineer_vect import OpEngineerV\n",
    "from realgam.quantlib.engineer.ta_engineer_vect import TalibEngineerV\n",
    "from realgam.quantlib.engineer.alpha_engineer_vect import AlphaEngineerV\n",
    "from realgam.quantlib.engineer.test_no_class import alpha001, ts_ret\n",
    "import talib\n",
    "from joblib import Parallel, delayed\n",
    "import datetime\n",
    "import os\n",
    "import time\n",
    "PROJECT_PATH = os.getenv('QuantSystemMVP')\n",
    "DATA_PATH = f'{PROJECT_PATH}/Data/stock_hist.obj'\n",
    "NDL_CONFIG_PATH = f'{PROJECT_PATH}/realgam/quantlib/nasdaq_dl_config.json'\n",
    "NDL_CONFIG = json.load(open(NDL_CONFIG_PATH))"
   ]
  },
  {
   "cell_type": "code",
   "execution_count": 2,
   "id": "6dd18a8e-03d3-47ff-9e15-7825259fbf1c",
   "metadata": {
    "pycharm": {
     "name": "#%%\n"
    }
   },
   "outputs": [],
   "source": [
    "stocks_df, stocks_extended_df, available_tickers = gu.load_file(DATA_PATH)\n",
    "stacked_hist = stocks_df.copy()"
   ]
  },
  {
   "cell_type": "code",
   "execution_count": 3,
   "outputs": [],
   "source": [
    "stacked_hist = stacked_hist.reset_index().set_index(['ticker', 'date'])"
   ],
   "metadata": {
    "collapsed": false,
    "pycharm": {
     "name": "#%%\n"
    }
   }
  },
  {
   "cell_type": "code",
   "execution_count": 4,
   "outputs": [
    {
     "data": {
      "text/plain": "                   open  high   low  close  openadj  highadj  lowadj  \\\nticker date                                                            \nGGE    2022-03-22  2.90  3.20  2.90   3.02     2.90     3.20    2.90   \n       2022-03-23  3.23  3.23  2.86   3.00     3.23     3.23    2.86   \n\n                   closeadj   volume  \nticker date                           \nGGE    2022-03-22      3.02  46899.0  \n       2022-03-23      3.00  19662.0  ",
      "text/html": "<div>\n<style scoped>\n    .dataframe tbody tr th:only-of-type {\n        vertical-align: middle;\n    }\n\n    .dataframe tbody tr th {\n        vertical-align: top;\n    }\n\n    .dataframe thead th {\n        text-align: right;\n    }\n</style>\n<table border=\"1\" class=\"dataframe\">\n  <thead>\n    <tr style=\"text-align: right;\">\n      <th></th>\n      <th></th>\n      <th>open</th>\n      <th>high</th>\n      <th>low</th>\n      <th>close</th>\n      <th>openadj</th>\n      <th>highadj</th>\n      <th>lowadj</th>\n      <th>closeadj</th>\n      <th>volume</th>\n    </tr>\n    <tr>\n      <th>ticker</th>\n      <th>date</th>\n      <th></th>\n      <th></th>\n      <th></th>\n      <th></th>\n      <th></th>\n      <th></th>\n      <th></th>\n      <th></th>\n      <th></th>\n    </tr>\n  </thead>\n  <tbody>\n    <tr>\n      <th rowspan=\"2\" valign=\"top\">GGE</th>\n      <th>2022-03-22</th>\n      <td>2.90</td>\n      <td>3.20</td>\n      <td>2.90</td>\n      <td>3.02</td>\n      <td>2.90</td>\n      <td>3.20</td>\n      <td>2.90</td>\n      <td>3.02</td>\n      <td>46899.0</td>\n    </tr>\n    <tr>\n      <th>2022-03-23</th>\n      <td>3.23</td>\n      <td>3.23</td>\n      <td>2.86</td>\n      <td>3.00</td>\n      <td>3.23</td>\n      <td>3.23</td>\n      <td>2.86</td>\n      <td>3.00</td>\n      <td>19662.0</td>\n    </tr>\n  </tbody>\n</table>\n</div>"
     },
     "execution_count": 4,
     "metadata": {},
     "output_type": "execute_result"
    }
   ],
   "source": [
    "stacked_hist[stacked_hist.index.isin(['GGE'], level='ticker')]"
   ],
   "metadata": {
    "collapsed": false,
    "pycharm": {
     "name": "#%%\n"
    }
   }
  },
  {
   "cell_type": "code",
   "execution_count": 5,
   "outputs": [],
   "source": [
    "tickers_metadata = ndl.get_table('SHARADAR/TICKERS', paginate=True)"
   ],
   "metadata": {
    "collapsed": false,
    "pycharm": {
     "name": "#%%\n"
    }
   }
  },
  {
   "cell_type": "code",
   "execution_count": 6,
   "outputs": [],
   "source": [
    "# Filtering exchanges and categories of stocks\n",
    "filter_exchange = NDL_CONFIG['exchanges']\n",
    "\n",
    "filter_cat = NDL_CONFIG['stock_categories']\n",
    "# Filter stocks that we focus on\n",
    "focused_stocks_ticker = tickers_metadata[\n",
    "    (tickers_metadata.exchange.isin(filter_exchange)) & (\n",
    "        tickers_metadata.category.isin(filter_cat))][['ticker', 'permaticker']].drop_duplicates()\n",
    "\n",
    "focused_stocks_ticker['permaticker'] = focused_stocks_ticker['permaticker'].astype('str')"
   ],
   "metadata": {
    "collapsed": false,
    "pycharm": {
     "name": "#%%\n"
    }
   }
  },
  {
   "cell_type": "code",
   "execution_count": 7,
   "outputs": [],
   "source": [
    "merged = pd.merge(stacked_hist.reset_index(), focused_stocks_ticker, how='left', on=['ticker'])"
   ],
   "metadata": {
    "collapsed": false,
    "pycharm": {
     "name": "#%%\n"
    }
   }
  },
  {
   "cell_type": "code",
   "execution_count": 8,
   "outputs": [
    {
     "data": {
      "text/plain": "array(['AFIN', 'ALTM', 'BFRA', 'BOMN', 'BTNB', 'CINR', 'FIG', 'GCAC',\n       'GRUB', 'HCCC', 'HFC', 'HGSH', 'IGAP', 'MOTV', 'NXTD', 'NXU',\n       'PLIN', 'REPH', 'ROCR', 'SBEA', 'SNII', 'SPAQ', 'TVAC', 'VIAC',\n       'VIACA'], dtype=object)"
     },
     "execution_count": 8,
     "metadata": {},
     "output_type": "execute_result"
    }
   ],
   "source": [
    "merged[merged.permaticker.isnull()].ticker.unique()"
   ],
   "metadata": {
    "collapsed": false,
    "pycharm": {
     "name": "#%%\n"
    }
   }
  },
  {
   "cell_type": "code",
   "execution_count": 11,
   "outputs": [],
   "source": [
    "tickers_action = ndl.get_table('SHARADAR/ACTIONS', paginate=True)"
   ],
   "metadata": {
    "collapsed": false,
    "pycharm": {
     "name": "#%%\n"
    }
   }
  },
  {
   "cell_type": "code",
   "execution_count": 16,
   "outputs": [],
   "source": [
    "tickers_change = tickers_action[tickers_action.action.isin(['tickerchangefrom'])]"
   ],
   "metadata": {
    "collapsed": false,
    "pycharm": {
     "name": "#%%\n"
    }
   }
  },
  {
   "cell_type": "code",
   "execution_count": 17,
   "outputs": [
    {
     "data": {
      "text/plain": "             date            action ticker  \\\nNone                                         \n2135   2022-03-24  tickerchangefrom   ACAX   \n2160   2022-03-23  tickerchangefrom   ZTEK   \n2357   2022-03-23  tickerchangefrom    GGE   \n2492   2022-03-22  tickerchangefrom   SCTL   \n2568   2022-03-22  tickerchangefrom   GHIX   \n...           ...               ...    ...   \n265997 2012-01-05  tickerchangefrom   OPAY   \n266000 2012-01-05  tickerchangefrom   MARK   \n266004 2012-01-05  tickerchangefrom    DRD   \n266009 2012-01-05  tickerchangefrom   CHIC   \n266010 2012-01-05  tickerchangefrom   CEAI   \n\n                                                  name  value contraticker  \\\nNone                                                                         \n2135                    Alset Capital Acquisition Corp    NaN        ACAXU   \n2160                                        Zentek Ltd    NaN        ZENYF   \n2357                                   Green Giant Inc    NaN         HGSH   \n2492                                 Societal Cdmo Inc    NaN         REPH   \n2568                             Gores Holdings Ix Inc    NaN        GHIXU   \n...                                                ...    ...          ...   \n265997                  Official Payments Holdings Inc    NaN         TIER   \n266000                             Remark Holdings Inc    NaN         HSWI   \n266004                                     Drdgold Ltd    NaN        DROOY   \n266009  Global X Msci China Communication Services Etf    NaN         CHIB   \n266010                    China Education Alliance Inc    NaN          CEU   \n\n       contraname  \nNone               \n2135         None  \n2160         None  \n2357         None  \n2492         None  \n2568         None  \n...           ...  \n265997       None  \n266000       None  \n266004       None  \n266009       None  \n266010       None  \n\n[4729 rows x 7 columns]",
      "text/html": "<div>\n<style scoped>\n    .dataframe tbody tr th:only-of-type {\n        vertical-align: middle;\n    }\n\n    .dataframe tbody tr th {\n        vertical-align: top;\n    }\n\n    .dataframe thead th {\n        text-align: right;\n    }\n</style>\n<table border=\"1\" class=\"dataframe\">\n  <thead>\n    <tr style=\"text-align: right;\">\n      <th></th>\n      <th>date</th>\n      <th>action</th>\n      <th>ticker</th>\n      <th>name</th>\n      <th>value</th>\n      <th>contraticker</th>\n      <th>contraname</th>\n    </tr>\n    <tr>\n      <th>None</th>\n      <th></th>\n      <th></th>\n      <th></th>\n      <th></th>\n      <th></th>\n      <th></th>\n      <th></th>\n    </tr>\n  </thead>\n  <tbody>\n    <tr>\n      <th>2135</th>\n      <td>2022-03-24</td>\n      <td>tickerchangefrom</td>\n      <td>ACAX</td>\n      <td>Alset Capital Acquisition Corp</td>\n      <td>NaN</td>\n      <td>ACAXU</td>\n      <td>None</td>\n    </tr>\n    <tr>\n      <th>2160</th>\n      <td>2022-03-23</td>\n      <td>tickerchangefrom</td>\n      <td>ZTEK</td>\n      <td>Zentek Ltd</td>\n      <td>NaN</td>\n      <td>ZENYF</td>\n      <td>None</td>\n    </tr>\n    <tr>\n      <th>2357</th>\n      <td>2022-03-23</td>\n      <td>tickerchangefrom</td>\n      <td>GGE</td>\n      <td>Green Giant Inc</td>\n      <td>NaN</td>\n      <td>HGSH</td>\n      <td>None</td>\n    </tr>\n    <tr>\n      <th>2492</th>\n      <td>2022-03-22</td>\n      <td>tickerchangefrom</td>\n      <td>SCTL</td>\n      <td>Societal Cdmo Inc</td>\n      <td>NaN</td>\n      <td>REPH</td>\n      <td>None</td>\n    </tr>\n    <tr>\n      <th>2568</th>\n      <td>2022-03-22</td>\n      <td>tickerchangefrom</td>\n      <td>GHIX</td>\n      <td>Gores Holdings Ix Inc</td>\n      <td>NaN</td>\n      <td>GHIXU</td>\n      <td>None</td>\n    </tr>\n    <tr>\n      <th>...</th>\n      <td>...</td>\n      <td>...</td>\n      <td>...</td>\n      <td>...</td>\n      <td>...</td>\n      <td>...</td>\n      <td>...</td>\n    </tr>\n    <tr>\n      <th>265997</th>\n      <td>2012-01-05</td>\n      <td>tickerchangefrom</td>\n      <td>OPAY</td>\n      <td>Official Payments Holdings Inc</td>\n      <td>NaN</td>\n      <td>TIER</td>\n      <td>None</td>\n    </tr>\n    <tr>\n      <th>266000</th>\n      <td>2012-01-05</td>\n      <td>tickerchangefrom</td>\n      <td>MARK</td>\n      <td>Remark Holdings Inc</td>\n      <td>NaN</td>\n      <td>HSWI</td>\n      <td>None</td>\n    </tr>\n    <tr>\n      <th>266004</th>\n      <td>2012-01-05</td>\n      <td>tickerchangefrom</td>\n      <td>DRD</td>\n      <td>Drdgold Ltd</td>\n      <td>NaN</td>\n      <td>DROOY</td>\n      <td>None</td>\n    </tr>\n    <tr>\n      <th>266009</th>\n      <td>2012-01-05</td>\n      <td>tickerchangefrom</td>\n      <td>CHIC</td>\n      <td>Global X Msci China Communication Services Etf</td>\n      <td>NaN</td>\n      <td>CHIB</td>\n      <td>None</td>\n    </tr>\n    <tr>\n      <th>266010</th>\n      <td>2012-01-05</td>\n      <td>tickerchangefrom</td>\n      <td>CEAI</td>\n      <td>China Education Alliance Inc</td>\n      <td>NaN</td>\n      <td>CEU</td>\n      <td>None</td>\n    </tr>\n  </tbody>\n</table>\n<p>4729 rows × 7 columns</p>\n</div>"
     },
     "execution_count": 17,
     "metadata": {},
     "output_type": "execute_result"
    }
   ],
   "source": [
    "tickers_change"
   ],
   "metadata": {
    "collapsed": false,
    "pycharm": {
     "name": "#%%\n"
    }
   }
  },
  {
   "cell_type": "code",
   "execution_count": 5,
   "outputs": [],
   "source": [
    "ae = AlphaEngineerV(small_hist)"
   ],
   "metadata": {
    "collapsed": false,
    "pycharm": {
     "name": "#%%\n"
    }
   }
  },
  {
   "cell_type": "code",
   "execution_count": 9,
   "outputs": [
    {
     "data": {
      "text/plain": "ticker  date      \nA       2012-04-09    23.0\nAAIIQ   2012-04-09    -0.0\nAAMRQ   2012-04-09    -0.0\nAAON    2012-04-09    51.0\nAATC    2012-04-09   -28.0\n                      ... \nABSI    2022-03-21    59.0\nABST    2022-03-21     7.0\nACB     2022-03-21    -9.0\nACEL    2022-03-21    40.0\nACER    2022-03-21   -51.0\nLength: 41144, dtype: float64"
     },
     "execution_count": 9,
     "metadata": {},
     "output_type": "execute_result"
    }
   ],
   "source": [
    "ae.alpha7()"
   ],
   "metadata": {
    "collapsed": false,
    "pycharm": {
     "name": "#%%\n"
    }
   }
  }
 ],
 "metadata": {
  "kernelspec": {
   "display_name": "Python 3 (ipykernel)",
   "language": "python",
   "name": "python3"
  },
  "language_info": {
   "codemirror_mode": {
    "name": "ipython",
    "version": 3
   },
   "file_extension": ".py",
   "mimetype": "text/x-python",
   "name": "python",
   "nbconvert_exporter": "python",
   "pygments_lexer": "ipython3",
   "version": "3.9.7"
  }
 },
 "nbformat": 4,
 "nbformat_minor": 5
}