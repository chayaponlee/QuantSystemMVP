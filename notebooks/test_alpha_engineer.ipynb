{
 "cells": [
  {
   "cell_type": "code",
   "execution_count": null,
   "outputs": [],
   "source": [
    "# df.loc[idx[slice(None), '2012-02-15'],]['cs_pctrank_ts_argmax5_closeadj'].unique()  -> for indexing multiindex"
   ],
   "metadata": {
    "collapsed": false,
    "pycharm": {
     "name": "#%%\n"
    }
   }
  },
  {
   "cell_type": "code",
   "execution_count": 1,
   "id": "polish-negotiation",
   "metadata": {},
   "outputs": [],
   "source": [
    "import pandas as pd\n",
    "from pandas import DataFrame\n",
    "import numpy as np\n",
    "from typing import List, Callable, Dict\n",
    "from realgam.quantlib import general_utils as gu\n",
    "from realgam.quantlib.engineer.op_engineer import OpEngineer, GroupOpEngineer\n",
    "from realgam.quantlib.engineer.ta_engineer import TalibEngineer, GroupTalibEngineer\n",
    "from realgam.quantlib.engineer.alpha_engineer_vect import AlphaEngineerV\n",
    "import datetime\n",
    "import os\n",
    "import time\n",
    "PROJECT_PATH = os.getenv('QuantSystemMVP')\n",
    "DATA_PATH = f'{PROJECT_PATH}/Data/stock_hist.obj'"
   ]
  },
  {
   "cell_type": "code",
   "execution_count": 2,
   "id": "6dd18a8e-03d3-47ff-9e15-7825259fbf1c",
   "metadata": {
    "pycharm": {
     "name": "#%%\n"
    }
   },
   "outputs": [],
   "source": [
    "stocks_df, stocks_extended_df, available_tickers = gu.load_file(DATA_PATH)\n",
    "stacked_hist = stocks_df.copy()"
   ]
  },
  {
   "cell_type": "code",
   "execution_count": 3,
   "outputs": [],
   "source": [
    "stacked_hist = stacked_hist.reset_index().set_index(['ticker', 'date'])"
   ],
   "metadata": {
    "collapsed": false,
    "pycharm": {
     "name": "#%%\n"
    }
   }
  },
  {
   "cell_type": "code",
   "execution_count": 4,
   "outputs": [],
   "source": [
    "tickers = stacked_hist.index.get_level_values('ticker').unique()[:4000]\n",
    "small_hist = stacked_hist[stacked_hist.index.isin(tickers, level='ticker')]\n",
    "A = stacked_hist[stacked_hist.index.isin(['A'], level='ticker')]"
   ],
   "metadata": {
    "collapsed": false,
    "pycharm": {
     "name": "#%%\n"
    }
   }
  },
  {
   "cell_type": "code",
   "execution_count": 4,
   "outputs": [],
   "source": [
    "ae = AlphaEngineerV(stacked_hist)"
   ],
   "metadata": {
    "collapsed": false,
    "pycharm": {
     "name": "#%%\n"
    }
   }
  },
  {
   "cell_type": "code",
   "execution_count": 7,
   "outputs": [
    {
     "name": "stdout",
     "output_type": "stream",
     "text": [
      "Total time: 302.45863914489746 sec\n"
     ]
    }
   ],
   "source": [
    "s_time_chunk = time.time()\n",
    "stacked_hist['alpha1'] = ae.alpha1(5, 20)\n",
    "e_time_chunk = time.time()\n",
    "print(f\"Total time: {e_time_chunk - s_time_chunk} sec\")"
   ],
   "metadata": {
    "collapsed": false,
    "pycharm": {
     "name": "#%%\n"
    }
   }
  },
  {
   "cell_type": "code",
   "execution_count": 6,
   "outputs": [
    {
     "name": "stdout",
     "output_type": "stream",
     "text": [
      "Total time: 319.57942175865173 sec\n"
     ]
    }
   ],
   "source": [
    "s_time_chunk = time.time()\n",
    "stacked_hist['alpha1'] = ae.alpha1(5, 20)\n",
    "e_time_chunk = time.time()\n",
    "print(f\"Total time: {e_time_chunk - s_time_chunk} sec\")"
   ],
   "metadata": {
    "collapsed": false,
    "pycharm": {
     "name": "#%%\n"
    }
   }
  },
  {
   "cell_type": "code",
   "execution_count": 5,
   "outputs": [
    {
     "name": "stdout",
     "output_type": "stream",
     "text": [
      "Total time: 102.20251607894897 sec\n",
      "Total time: 6.799350023269653 sec\n",
      "Total time: 200.1494369506836 sec\n"
     ]
    }
   ],
   "source": [
    "s_time_chunk = time.time()\n",
    "stacked_hist['alpha4'] = ae.alpha4(9)\n",
    "e_time_chunk = time.time()\n",
    "print(f\"Total time: {e_time_chunk - s_time_chunk} sec\")"
   ],
   "metadata": {
    "collapsed": false,
    "pycharm": {
     "name": "#%%\n"
    }
   }
  },
  {
   "cell_type": "code",
   "execution_count": 5,
   "outputs": [
    {
     "name": "stderr",
     "output_type": "stream",
     "text": [
      "/Users/punlee/miniconda3/envs/quant/lib/python3.9/site-packages/pandas/core/arraylike.py:364: RuntimeWarning: divide by zero encountered in log\n",
      "  result = getattr(ufunc, method)(*inputs, **kwargs)\n"
     ]
    },
    {
     "name": "stdout",
     "output_type": "stream",
     "text": [
      "Total time: 314.89851689338684 sec\n"
     ]
    }
   ],
   "source": [
    "s_time_chunk = time.time()\n",
    "stacked_hist['alpha2'] = ae.alpha2()\n",
    "e_time_chunk = time.time()\n",
    "print(f\"Total time: {e_time_chunk - s_time_chunk} sec\")"
   ],
   "metadata": {
    "collapsed": false,
    "pycharm": {
     "name": "#%%\n"
    }
   }
  },
  {
   "cell_type": "code",
   "execution_count": 19,
   "outputs": [],
   "source": [
    "volume = stacked_hist.volume.unstack('ticker')"
   ],
   "metadata": {
    "collapsed": false,
    "pycharm": {
     "name": "#%%\n"
    }
   }
  },
  {
   "cell_type": "code",
   "execution_count": 6,
   "outputs": [],
   "source": [
    "from joblib import Parallel, delayed\n",
    "from realgam.quantlib.engineer.utils import rank_last_value"
   ],
   "metadata": {
    "collapsed": false,
    "pycharm": {
     "name": "#%%\n"
    }
   }
  },
  {
   "cell_type": "code",
   "execution_count": 43,
   "outputs": [],
   "source": [
    "def func(series):\n",
    "\n",
    "    return series.rolling(10).apply(np.argmax, engine='cython', raw=True).add(1)"
   ],
   "metadata": {
    "collapsed": false,
    "pycharm": {
     "name": "#%%\n"
    }
   }
  },
  {
   "cell_type": "code",
   "execution_count": 47,
   "outputs": [],
   "source": [
    "def rolling_rank(x, window, pct=False, min_prob=None):\n",
    "    \"\"\"\n",
    "    Get the rolling rank of the last value according to the previous window of values.\n",
    "    \"\"\"\n",
    "    # https://github.com/pandas-dev/pandas/issues/9481\n",
    "    import bottleneck as bk\n",
    "    norm_rank = bk.move_rank(x, window, axis=0) # [-1, 1]\n",
    "    u = (norm_rank + 1) / 2 # [0, 1]\n",
    "    if pct:\n",
    "        if min_prob is None:\n",
    "            min_prob = 1 / (window + 1)\n",
    "            return u * (1 - 2 * min_prob) + min_prob # [min_prob, 1 - min_prob]\n",
    "    rank = u * (window - 1)\n",
    "    return np.round(rank)"
   ],
   "metadata": {
    "collapsed": false,
    "pycharm": {
     "name": "#%%\n"
    }
   }
  },
  {
   "cell_type": "code",
   "execution_count": 52,
   "outputs": [
    {
     "name": "stdout",
     "output_type": "stream",
     "text": [
      "Total time: 0.861375093460083 sec\n"
     ]
    }
   ],
   "source": [
    "s_time_chunk = time.time()\n",
    "dummy = rolling_rank(volume, 10, pct=True)\n",
    "pd.DataFrame(dummy, index=volume.index, columns=volume.columns)\n",
    "e_time_chunk = time.time()\n",
    "print(f\"Total time: {e_time_chunk - s_time_chunk} sec\")"
   ],
   "metadata": {
    "collapsed": false,
    "pycharm": {
     "name": "#%%\n"
    }
   }
  },
  {
   "cell_type": "code",
   "execution_count": 44,
   "outputs": [
    {
     "name": "stdout",
     "output_type": "stream",
     "text": [
      "Total time: 3.8957040309906006 sec\n"
     ]
    }
   ],
   "source": [
    "s_time_chunk = time.time()\n",
    "values = Parallel(n_jobs=-1)(delayed(func)(volume[col]) for col in volume)\n",
    "e_time_chunk = time.time()\n",
    "print(f\"Total time: {e_time_chunk - s_time_chunk} sec\")"
   ],
   "metadata": {
    "collapsed": false,
    "pycharm": {
     "name": "#%%\n"
    }
   }
  },
  {
   "cell_type": "code",
   "execution_count": 53,
   "outputs": [
    {
     "name": "stdout",
     "output_type": "stream",
     "text": [
      "Total time: 121.04070401191711 sec\n"
     ]
    }
   ],
   "source": [
    "s_time_chunk = time.time()\n",
    "volume.rolling(10).apply(rank_last_value, raw=True)\n",
    "e_time_chunk = time.time()\n",
    "print(f\"Total time: {e_time_chunk - s_time_chunk} sec\")"
   ],
   "metadata": {
    "collapsed": false,
    "pycharm": {
     "name": "#%%\n"
    }
   }
  },
  {
   "cell_type": "code",
   "execution_count": 33,
   "outputs": [
    {
     "name": "stdout",
     "output_type": "stream",
     "text": [
      "Total time: 5.859202861785889 sec\n"
     ]
    }
   ],
   "source": [
    "n_total_tickers = volume.shape[1]\n",
    "batch_size = 20\n",
    "s_time_chunk = time.time()\n",
    "values = Parallel(n_jobs=-1)(delayed(func)(volume.iloc[:,i:i + batch_size ]) for i in range(0, n_total_tickers, batch_size))\n",
    "e_time_chunk = time.time()\n",
    "print(f\"Total time: {e_time_chunk - s_time_chunk} sec\")"
   ],
   "metadata": {
    "collapsed": false,
    "pycharm": {
     "name": "#%%\n"
    }
   }
  },
  {
   "cell_type": "code",
   "execution_count": 22,
   "outputs": [],
   "source": [
    "from numpy.lib.stride_tricks import sliding_window_view\n",
    "sw = sliding_window_view(volume, 7, axis=0)\n",
    "scores_np = (sw <= sw[..., -1:]).sum(axis=2) / sw.shape[-1]\n",
    "scores_np_df = pd.DataFrame(scores_np, columns=volume.columns)"
   ],
   "metadata": {
    "collapsed": false,
    "pycharm": {
     "name": "#%%\n"
    }
   }
  },
  {
   "cell_type": "code",
   "execution_count": 23,
   "outputs": [
    {
     "data": {
      "text/plain": "(2570, 10375)"
     },
     "execution_count": 23,
     "metadata": {},
     "output_type": "execute_result"
    }
   ],
   "source": [
    "volume.shape"
   ],
   "metadata": {
    "collapsed": false,
    "pycharm": {
     "name": "#%%\n"
    }
   }
  },
  {
   "cell_type": "code",
   "execution_count": 25,
   "outputs": [
    {
     "data": {
      "text/plain": "array([[0.14285714, 0.        , 0.        , ..., 0.        , 0.42857143,\n        1.        ],\n       [0.28571429, 0.        , 0.        , ..., 0.        , 0.71428571,\n        1.        ],\n       [0.85714286, 0.        , 0.        , ..., 0.        , 0.28571429,\n        0.57142857],\n       ...,\n       [0.28571429, 0.28571429, 0.        , ..., 0.14285714, 0.28571429,\n        0.        ],\n       [0.14285714, 0.71428571, 0.        , ..., 0.14285714, 1.        ,\n        0.        ],\n       [1.        , 0.57142857, 0.        , ..., 1.        , 1.        ,\n        0.        ]])"
     },
     "execution_count": 25,
     "metadata": {},
     "output_type": "execute_result"
    }
   ],
   "source": [
    "scores_np"
   ],
   "metadata": {
    "collapsed": false,
    "pycharm": {
     "name": "#%%\n"
    }
   }
  },
  {
   "cell_type": "code",
   "execution_count": 72,
   "outputs": [
    {
     "data": {
      "text/plain": "ticker        A   AA  AAAP  AAC  AAC.U  AACC  AACG  AACH  AACI  AACIU  ...  \\\ndate                                                                   ...   \n2012-01-03  NaN  NaN   NaN  NaN    NaN   NaN   NaN   NaN   NaN    NaN  ...   \n2012-01-04  NaN  NaN   NaN  NaN    NaN   NaN   NaN   NaN   NaN    NaN  ...   \n2012-01-05  NaN  NaN   NaN  NaN    NaN   NaN   NaN   NaN   NaN    NaN  ...   \n2012-01-06  NaN  NaN   NaN  NaN    NaN   NaN   NaN   NaN   NaN    NaN  ...   \n2012-01-09  NaN  NaN   NaN  NaN    NaN   NaN   NaN   NaN   NaN    NaN  ...   \n...         ...  ...   ...  ...    ...   ...   ...   ...   ...    ...  ...   \n2022-03-14  0.0  2.0   NaN  9.0    9.0   NaN   8.0   NaN   NaN    NaN  ...   \n2022-03-15  0.0  1.0   NaN  7.0    2.0   NaN   2.0   NaN   NaN    NaN  ...   \n2022-03-16  1.0  1.0   NaN  6.0    1.0   NaN   9.0   NaN   NaN    NaN  ...   \n2022-03-17  0.0  4.0   NaN  0.0    5.0   NaN   5.0   NaN   NaN    NaN  ...   \n2022-03-18  9.0  3.0   NaN  2.0    8.0   NaN   6.0   NaN   NaN    NaN  ...   \n\nticker      GHRS  GHSEQ  GHSI  GHVIU  GI  GIA  GIA.U  GIAC  GIACU  GIB  \ndate                                                                    \n2012-01-03   NaN    NaN   NaN    NaN NaN  NaN    NaN   NaN    NaN  NaN  \n2012-01-04   NaN    NaN   NaN    NaN NaN  NaN    NaN   NaN    NaN  NaN  \n2012-01-05   NaN    NaN   NaN    NaN NaN  NaN    NaN   NaN    NaN  NaN  \n2012-01-06   NaN    NaN   NaN    NaN NaN  NaN    NaN   NaN    NaN  NaN  \n2012-01-09   NaN    NaN   NaN    NaN NaN  NaN    NaN   NaN    NaN  NaN  \n...          ...    ...   ...    ...  ..  ...    ...   ...    ...  ...  \n2022-03-14   5.0    NaN   0.0    NaN NaN  NaN    NaN   NaN    NaN  0.0  \n2022-03-15   3.0    NaN   2.0    NaN NaN  NaN    NaN   NaN    NaN  3.0  \n2022-03-16   2.0    NaN   4.0    NaN NaN  NaN    NaN   NaN    NaN  3.0  \n2022-03-17   6.0    NaN   5.0    NaN NaN  NaN    NaN   NaN    NaN  1.0  \n2022-03-18   7.0    NaN   6.0    NaN NaN  NaN    NaN   NaN    NaN  2.0  \n\n[2570 rows x 4000 columns]",
      "text/html": "<div>\n<style scoped>\n    .dataframe tbody tr th:only-of-type {\n        vertical-align: middle;\n    }\n\n    .dataframe tbody tr th {\n        vertical-align: top;\n    }\n\n    .dataframe thead th {\n        text-align: right;\n    }\n</style>\n<table border=\"1\" class=\"dataframe\">\n  <thead>\n    <tr style=\"text-align: right;\">\n      <th>ticker</th>\n      <th>A</th>\n      <th>AA</th>\n      <th>AAAP</th>\n      <th>AAC</th>\n      <th>AAC.U</th>\n      <th>AACC</th>\n      <th>AACG</th>\n      <th>AACH</th>\n      <th>AACI</th>\n      <th>AACIU</th>\n      <th>...</th>\n      <th>GHRS</th>\n      <th>GHSEQ</th>\n      <th>GHSI</th>\n      <th>GHVIU</th>\n      <th>GI</th>\n      <th>GIA</th>\n      <th>GIA.U</th>\n      <th>GIAC</th>\n      <th>GIACU</th>\n      <th>GIB</th>\n    </tr>\n    <tr>\n      <th>date</th>\n      <th></th>\n      <th></th>\n      <th></th>\n      <th></th>\n      <th></th>\n      <th></th>\n      <th></th>\n      <th></th>\n      <th></th>\n      <th></th>\n      <th></th>\n      <th></th>\n      <th></th>\n      <th></th>\n      <th></th>\n      <th></th>\n      <th></th>\n      <th></th>\n      <th></th>\n      <th></th>\n      <th></th>\n    </tr>\n  </thead>\n  <tbody>\n    <tr>\n      <th>2012-01-03</th>\n      <td>NaN</td>\n      <td>NaN</td>\n      <td>NaN</td>\n      <td>NaN</td>\n      <td>NaN</td>\n      <td>NaN</td>\n      <td>NaN</td>\n      <td>NaN</td>\n      <td>NaN</td>\n      <td>NaN</td>\n      <td>...</td>\n      <td>NaN</td>\n      <td>NaN</td>\n      <td>NaN</td>\n      <td>NaN</td>\n      <td>NaN</td>\n      <td>NaN</td>\n      <td>NaN</td>\n      <td>NaN</td>\n      <td>NaN</td>\n      <td>NaN</td>\n    </tr>\n    <tr>\n      <th>2012-01-04</th>\n      <td>NaN</td>\n      <td>NaN</td>\n      <td>NaN</td>\n      <td>NaN</td>\n      <td>NaN</td>\n      <td>NaN</td>\n      <td>NaN</td>\n      <td>NaN</td>\n      <td>NaN</td>\n      <td>NaN</td>\n      <td>...</td>\n      <td>NaN</td>\n      <td>NaN</td>\n      <td>NaN</td>\n      <td>NaN</td>\n      <td>NaN</td>\n      <td>NaN</td>\n      <td>NaN</td>\n      <td>NaN</td>\n      <td>NaN</td>\n      <td>NaN</td>\n    </tr>\n    <tr>\n      <th>2012-01-05</th>\n      <td>NaN</td>\n      <td>NaN</td>\n      <td>NaN</td>\n      <td>NaN</td>\n      <td>NaN</td>\n      <td>NaN</td>\n      <td>NaN</td>\n      <td>NaN</td>\n      <td>NaN</td>\n      <td>NaN</td>\n      <td>...</td>\n      <td>NaN</td>\n      <td>NaN</td>\n      <td>NaN</td>\n      <td>NaN</td>\n      <td>NaN</td>\n      <td>NaN</td>\n      <td>NaN</td>\n      <td>NaN</td>\n      <td>NaN</td>\n      <td>NaN</td>\n    </tr>\n    <tr>\n      <th>2012-01-06</th>\n      <td>NaN</td>\n      <td>NaN</td>\n      <td>NaN</td>\n      <td>NaN</td>\n      <td>NaN</td>\n      <td>NaN</td>\n      <td>NaN</td>\n      <td>NaN</td>\n      <td>NaN</td>\n      <td>NaN</td>\n      <td>...</td>\n      <td>NaN</td>\n      <td>NaN</td>\n      <td>NaN</td>\n      <td>NaN</td>\n      <td>NaN</td>\n      <td>NaN</td>\n      <td>NaN</td>\n      <td>NaN</td>\n      <td>NaN</td>\n      <td>NaN</td>\n    </tr>\n    <tr>\n      <th>2012-01-09</th>\n      <td>NaN</td>\n      <td>NaN</td>\n      <td>NaN</td>\n      <td>NaN</td>\n      <td>NaN</td>\n      <td>NaN</td>\n      <td>NaN</td>\n      <td>NaN</td>\n      <td>NaN</td>\n      <td>NaN</td>\n      <td>...</td>\n      <td>NaN</td>\n      <td>NaN</td>\n      <td>NaN</td>\n      <td>NaN</td>\n      <td>NaN</td>\n      <td>NaN</td>\n      <td>NaN</td>\n      <td>NaN</td>\n      <td>NaN</td>\n      <td>NaN</td>\n    </tr>\n    <tr>\n      <th>...</th>\n      <td>...</td>\n      <td>...</td>\n      <td>...</td>\n      <td>...</td>\n      <td>...</td>\n      <td>...</td>\n      <td>...</td>\n      <td>...</td>\n      <td>...</td>\n      <td>...</td>\n      <td>...</td>\n      <td>...</td>\n      <td>...</td>\n      <td>...</td>\n      <td>...</td>\n      <td>...</td>\n      <td>...</td>\n      <td>...</td>\n      <td>...</td>\n      <td>...</td>\n      <td>...</td>\n    </tr>\n    <tr>\n      <th>2022-03-14</th>\n      <td>0.0</td>\n      <td>2.0</td>\n      <td>NaN</td>\n      <td>9.0</td>\n      <td>9.0</td>\n      <td>NaN</td>\n      <td>8.0</td>\n      <td>NaN</td>\n      <td>NaN</td>\n      <td>NaN</td>\n      <td>...</td>\n      <td>5.0</td>\n      <td>NaN</td>\n      <td>0.0</td>\n      <td>NaN</td>\n      <td>NaN</td>\n      <td>NaN</td>\n      <td>NaN</td>\n      <td>NaN</td>\n      <td>NaN</td>\n      <td>0.0</td>\n    </tr>\n    <tr>\n      <th>2022-03-15</th>\n      <td>0.0</td>\n      <td>1.0</td>\n      <td>NaN</td>\n      <td>7.0</td>\n      <td>2.0</td>\n      <td>NaN</td>\n      <td>2.0</td>\n      <td>NaN</td>\n      <td>NaN</td>\n      <td>NaN</td>\n      <td>...</td>\n      <td>3.0</td>\n      <td>NaN</td>\n      <td>2.0</td>\n      <td>NaN</td>\n      <td>NaN</td>\n      <td>NaN</td>\n      <td>NaN</td>\n      <td>NaN</td>\n      <td>NaN</td>\n      <td>3.0</td>\n    </tr>\n    <tr>\n      <th>2022-03-16</th>\n      <td>1.0</td>\n      <td>1.0</td>\n      <td>NaN</td>\n      <td>6.0</td>\n      <td>1.0</td>\n      <td>NaN</td>\n      <td>9.0</td>\n      <td>NaN</td>\n      <td>NaN</td>\n      <td>NaN</td>\n      <td>...</td>\n      <td>2.0</td>\n      <td>NaN</td>\n      <td>4.0</td>\n      <td>NaN</td>\n      <td>NaN</td>\n      <td>NaN</td>\n      <td>NaN</td>\n      <td>NaN</td>\n      <td>NaN</td>\n      <td>3.0</td>\n    </tr>\n    <tr>\n      <th>2022-03-17</th>\n      <td>0.0</td>\n      <td>4.0</td>\n      <td>NaN</td>\n      <td>0.0</td>\n      <td>5.0</td>\n      <td>NaN</td>\n      <td>5.0</td>\n      <td>NaN</td>\n      <td>NaN</td>\n      <td>NaN</td>\n      <td>...</td>\n      <td>6.0</td>\n      <td>NaN</td>\n      <td>5.0</td>\n      <td>NaN</td>\n      <td>NaN</td>\n      <td>NaN</td>\n      <td>NaN</td>\n      <td>NaN</td>\n      <td>NaN</td>\n      <td>1.0</td>\n    </tr>\n    <tr>\n      <th>2022-03-18</th>\n      <td>9.0</td>\n      <td>3.0</td>\n      <td>NaN</td>\n      <td>2.0</td>\n      <td>8.0</td>\n      <td>NaN</td>\n      <td>6.0</td>\n      <td>NaN</td>\n      <td>NaN</td>\n      <td>NaN</td>\n      <td>...</td>\n      <td>7.0</td>\n      <td>NaN</td>\n      <td>6.0</td>\n      <td>NaN</td>\n      <td>NaN</td>\n      <td>NaN</td>\n      <td>NaN</td>\n      <td>NaN</td>\n      <td>NaN</td>\n      <td>2.0</td>\n    </tr>\n  </tbody>\n</table>\n<p>2570 rows × 4000 columns</p>\n</div>"
     },
     "execution_count": 72,
     "metadata": {},
     "output_type": "execute_result"
    }
   ],
   "source": [
    "pd.concat(values, axis=1)"
   ],
   "metadata": {
    "collapsed": false,
    "pycharm": {
     "name": "#%%\n"
    }
   }
  },
  {
   "cell_type": "code",
   "execution_count": 30,
   "outputs": [
    {
     "data": {
      "text/plain": "ticker             A        AA  AAAP       AAC     AAC.U  AACC      AACG  \\\ndate                                                                       \n2012-01-03       NaN       NaN   NaN       NaN       NaN   NaN       NaN   \n2012-01-04       NaN       NaN   NaN       NaN       NaN   NaN       NaN   \n2012-01-05       NaN       NaN   NaN       NaN       NaN   NaN       NaN   \n2012-01-06       NaN       NaN   NaN       NaN       NaN   NaN       NaN   \n2012-01-09       NaN       NaN   NaN       NaN       NaN   NaN       NaN   \n...              ...       ...   ...       ...       ...   ...       ...   \n2022-03-14  0.363984  0.107623   NaN  0.320861 -0.212449   NaN -0.392003   \n2022-03-15  0.485656  0.400572   NaN  0.360201 -0.161166   NaN -0.355019   \n2022-03-16  0.500228  0.463567   NaN  0.285395 -0.204080   NaN  0.204381   \n2022-03-17  0.324487  0.526069   NaN  0.362259 -0.107286   NaN  0.235516   \n2022-03-18  0.163600  0.656571   NaN  0.454861 -0.064215   NaN  0.162506   \n\nticker      AACH  AACI  AACIU  ...      IRTC      IRWD        IS      ISAA  \\\ndate                           ...                                           \n2012-01-03   NaN   NaN    NaN  ...       NaN       NaN       NaN       NaN   \n2012-01-04   NaN   NaN    NaN  ...       NaN       NaN       NaN       NaN   \n2012-01-05   NaN   NaN    NaN  ...       NaN       NaN       NaN       NaN   \n2012-01-06   NaN   NaN    NaN  ...       NaN       NaN       NaN       NaN   \n2012-01-09   NaN   NaN    NaN  ...       NaN       NaN       NaN       NaN   \n...          ...   ...    ...  ...       ...       ...       ...       ...   \n2022-03-14   NaN   NaN    NaN  ...  0.113561 -0.518841  0.578930 -0.027211   \n2022-03-15   NaN   NaN    NaN  ... -0.054785 -0.320664  0.821113  0.010575   \n2022-03-16   NaN   NaN    NaN  ... -0.286412  0.327993  0.909696  0.076618   \n2022-03-17   NaN   NaN    NaN  ... -0.031815  0.479711  0.629933 -0.199919   \n2022-03-18   NaN   NaN    NaN  ...  0.344057  0.821243  0.539556 -0.044655   \n\nticker          ISBC  ISCA  ISCIQ      ISDR      ISEE  ISHCQ  \ndate                                                          \n2012-01-03       NaN   NaN    NaN       NaN       NaN    NaN  \n2012-01-04       NaN   NaN    NaN       NaN       NaN    NaN  \n2012-01-05       NaN   NaN    NaN       NaN       NaN    NaN  \n2012-01-06       NaN   NaN    NaN       NaN       NaN    NaN  \n2012-01-09       NaN   NaN    NaN       NaN       NaN    NaN  \n...              ...   ...    ...       ...       ...    ...  \n2022-03-14  0.143323   NaN    NaN  0.754544 -0.238503    NaN  \n2022-03-15 -0.120884   NaN    NaN  0.748907 -0.290549    NaN  \n2022-03-16  0.076101   NaN    NaN  0.730427 -0.141502    NaN  \n2022-03-17  0.063834   NaN    NaN  0.765745 -0.007431    NaN  \n2022-03-18  0.311166   NaN    NaN  0.652468  0.442919    NaN  \n\n[2570 rows x 5000 columns]",
      "text/html": "<div>\n<style scoped>\n    .dataframe tbody tr th:only-of-type {\n        vertical-align: middle;\n    }\n\n    .dataframe tbody tr th {\n        vertical-align: top;\n    }\n\n    .dataframe thead th {\n        text-align: right;\n    }\n</style>\n<table border=\"1\" class=\"dataframe\">\n  <thead>\n    <tr style=\"text-align: right;\">\n      <th>ticker</th>\n      <th>A</th>\n      <th>AA</th>\n      <th>AAAP</th>\n      <th>AAC</th>\n      <th>AAC.U</th>\n      <th>AACC</th>\n      <th>AACG</th>\n      <th>AACH</th>\n      <th>AACI</th>\n      <th>AACIU</th>\n      <th>...</th>\n      <th>IRTC</th>\n      <th>IRWD</th>\n      <th>IS</th>\n      <th>ISAA</th>\n      <th>ISBC</th>\n      <th>ISCA</th>\n      <th>ISCIQ</th>\n      <th>ISDR</th>\n      <th>ISEE</th>\n      <th>ISHCQ</th>\n    </tr>\n    <tr>\n      <th>date</th>\n      <th></th>\n      <th></th>\n      <th></th>\n      <th></th>\n      <th></th>\n      <th></th>\n      <th></th>\n      <th></th>\n      <th></th>\n      <th></th>\n      <th></th>\n      <th></th>\n      <th></th>\n      <th></th>\n      <th></th>\n      <th></th>\n      <th></th>\n      <th></th>\n      <th></th>\n      <th></th>\n      <th></th>\n    </tr>\n  </thead>\n  <tbody>\n    <tr>\n      <th>2012-01-03</th>\n      <td>NaN</td>\n      <td>NaN</td>\n      <td>NaN</td>\n      <td>NaN</td>\n      <td>NaN</td>\n      <td>NaN</td>\n      <td>NaN</td>\n      <td>NaN</td>\n      <td>NaN</td>\n      <td>NaN</td>\n      <td>...</td>\n      <td>NaN</td>\n      <td>NaN</td>\n      <td>NaN</td>\n      <td>NaN</td>\n      <td>NaN</td>\n      <td>NaN</td>\n      <td>NaN</td>\n      <td>NaN</td>\n      <td>NaN</td>\n      <td>NaN</td>\n    </tr>\n    <tr>\n      <th>2012-01-04</th>\n      <td>NaN</td>\n      <td>NaN</td>\n      <td>NaN</td>\n      <td>NaN</td>\n      <td>NaN</td>\n      <td>NaN</td>\n      <td>NaN</td>\n      <td>NaN</td>\n      <td>NaN</td>\n      <td>NaN</td>\n      <td>...</td>\n      <td>NaN</td>\n      <td>NaN</td>\n      <td>NaN</td>\n      <td>NaN</td>\n      <td>NaN</td>\n      <td>NaN</td>\n      <td>NaN</td>\n      <td>NaN</td>\n      <td>NaN</td>\n      <td>NaN</td>\n    </tr>\n    <tr>\n      <th>2012-01-05</th>\n      <td>NaN</td>\n      <td>NaN</td>\n      <td>NaN</td>\n      <td>NaN</td>\n      <td>NaN</td>\n      <td>NaN</td>\n      <td>NaN</td>\n      <td>NaN</td>\n      <td>NaN</td>\n      <td>NaN</td>\n      <td>...</td>\n      <td>NaN</td>\n      <td>NaN</td>\n      <td>NaN</td>\n      <td>NaN</td>\n      <td>NaN</td>\n      <td>NaN</td>\n      <td>NaN</td>\n      <td>NaN</td>\n      <td>NaN</td>\n      <td>NaN</td>\n    </tr>\n    <tr>\n      <th>2012-01-06</th>\n      <td>NaN</td>\n      <td>NaN</td>\n      <td>NaN</td>\n      <td>NaN</td>\n      <td>NaN</td>\n      <td>NaN</td>\n      <td>NaN</td>\n      <td>NaN</td>\n      <td>NaN</td>\n      <td>NaN</td>\n      <td>...</td>\n      <td>NaN</td>\n      <td>NaN</td>\n      <td>NaN</td>\n      <td>NaN</td>\n      <td>NaN</td>\n      <td>NaN</td>\n      <td>NaN</td>\n      <td>NaN</td>\n      <td>NaN</td>\n      <td>NaN</td>\n    </tr>\n    <tr>\n      <th>2012-01-09</th>\n      <td>NaN</td>\n      <td>NaN</td>\n      <td>NaN</td>\n      <td>NaN</td>\n      <td>NaN</td>\n      <td>NaN</td>\n      <td>NaN</td>\n      <td>NaN</td>\n      <td>NaN</td>\n      <td>NaN</td>\n      <td>...</td>\n      <td>NaN</td>\n      <td>NaN</td>\n      <td>NaN</td>\n      <td>NaN</td>\n      <td>NaN</td>\n      <td>NaN</td>\n      <td>NaN</td>\n      <td>NaN</td>\n      <td>NaN</td>\n      <td>NaN</td>\n    </tr>\n    <tr>\n      <th>...</th>\n      <td>...</td>\n      <td>...</td>\n      <td>...</td>\n      <td>...</td>\n      <td>...</td>\n      <td>...</td>\n      <td>...</td>\n      <td>...</td>\n      <td>...</td>\n      <td>...</td>\n      <td>...</td>\n      <td>...</td>\n      <td>...</td>\n      <td>...</td>\n      <td>...</td>\n      <td>...</td>\n      <td>...</td>\n      <td>...</td>\n      <td>...</td>\n      <td>...</td>\n      <td>...</td>\n    </tr>\n    <tr>\n      <th>2022-03-14</th>\n      <td>0.363984</td>\n      <td>0.107623</td>\n      <td>NaN</td>\n      <td>0.320861</td>\n      <td>-0.212449</td>\n      <td>NaN</td>\n      <td>-0.392003</td>\n      <td>NaN</td>\n      <td>NaN</td>\n      <td>NaN</td>\n      <td>...</td>\n      <td>0.113561</td>\n      <td>-0.518841</td>\n      <td>0.578930</td>\n      <td>-0.027211</td>\n      <td>0.143323</td>\n      <td>NaN</td>\n      <td>NaN</td>\n      <td>0.754544</td>\n      <td>-0.238503</td>\n      <td>NaN</td>\n    </tr>\n    <tr>\n      <th>2022-03-15</th>\n      <td>0.485656</td>\n      <td>0.400572</td>\n      <td>NaN</td>\n      <td>0.360201</td>\n      <td>-0.161166</td>\n      <td>NaN</td>\n      <td>-0.355019</td>\n      <td>NaN</td>\n      <td>NaN</td>\n      <td>NaN</td>\n      <td>...</td>\n      <td>-0.054785</td>\n      <td>-0.320664</td>\n      <td>0.821113</td>\n      <td>0.010575</td>\n      <td>-0.120884</td>\n      <td>NaN</td>\n      <td>NaN</td>\n      <td>0.748907</td>\n      <td>-0.290549</td>\n      <td>NaN</td>\n    </tr>\n    <tr>\n      <th>2022-03-16</th>\n      <td>0.500228</td>\n      <td>0.463567</td>\n      <td>NaN</td>\n      <td>0.285395</td>\n      <td>-0.204080</td>\n      <td>NaN</td>\n      <td>0.204381</td>\n      <td>NaN</td>\n      <td>NaN</td>\n      <td>NaN</td>\n      <td>...</td>\n      <td>-0.286412</td>\n      <td>0.327993</td>\n      <td>0.909696</td>\n      <td>0.076618</td>\n      <td>0.076101</td>\n      <td>NaN</td>\n      <td>NaN</td>\n      <td>0.730427</td>\n      <td>-0.141502</td>\n      <td>NaN</td>\n    </tr>\n    <tr>\n      <th>2022-03-17</th>\n      <td>0.324487</td>\n      <td>0.526069</td>\n      <td>NaN</td>\n      <td>0.362259</td>\n      <td>-0.107286</td>\n      <td>NaN</td>\n      <td>0.235516</td>\n      <td>NaN</td>\n      <td>NaN</td>\n      <td>NaN</td>\n      <td>...</td>\n      <td>-0.031815</td>\n      <td>0.479711</td>\n      <td>0.629933</td>\n      <td>-0.199919</td>\n      <td>0.063834</td>\n      <td>NaN</td>\n      <td>NaN</td>\n      <td>0.765745</td>\n      <td>-0.007431</td>\n      <td>NaN</td>\n    </tr>\n    <tr>\n      <th>2022-03-18</th>\n      <td>0.163600</td>\n      <td>0.656571</td>\n      <td>NaN</td>\n      <td>0.454861</td>\n      <td>-0.064215</td>\n      <td>NaN</td>\n      <td>0.162506</td>\n      <td>NaN</td>\n      <td>NaN</td>\n      <td>NaN</td>\n      <td>...</td>\n      <td>0.344057</td>\n      <td>0.821243</td>\n      <td>0.539556</td>\n      <td>-0.044655</td>\n      <td>0.311166</td>\n      <td>NaN</td>\n      <td>NaN</td>\n      <td>0.652468</td>\n      <td>0.442919</td>\n      <td>NaN</td>\n    </tr>\n  </tbody>\n</table>\n<p>2570 rows × 5000 columns</p>\n</div>"
     },
     "execution_count": 30,
     "metadata": {},
     "output_type": "execute_result"
    }
   ],
   "source": [
    "open = small_hist.openadj.unstack('ticker')\n",
    "volume = small_hist.volume.unstack('ticker')\n",
    "open.rolling(10).corr(volume)"
   ],
   "metadata": {
    "collapsed": false,
    "pycharm": {
     "name": "#%%\n"
    }
   }
  },
  {
   "cell_type": "code",
   "execution_count": 18,
   "outputs": [],
   "source": [
    "small_hist = small_hist.reset_index().set_index(['ticker', 'date'])"
   ],
   "metadata": {
    "collapsed": false,
    "pycharm": {
     "name": "#%%\n"
    }
   }
  },
  {
   "cell_type": "code",
   "execution_count": 9,
   "outputs": [
    {
     "ename": "NotImplementedError",
     "evalue": "isna is not defined for MultiIndex",
     "output_type": "error",
     "traceback": [
      "\u001B[0;31m---------------------------------------------------------------------------\u001B[0m",
      "\u001B[0;31mNotImplementedError\u001B[0m                       Traceback (most recent call last)",
      "Input \u001B[0;32mIn [9]\u001B[0m, in \u001B[0;36m<module>\u001B[0;34m\u001B[0m\n\u001B[1;32m      1\u001B[0m goe \u001B[38;5;241m=\u001B[39m GroupOpEngineer(small_hist, \u001B[38;5;124m'\u001B[39m\u001B[38;5;124mticker\u001B[39m\u001B[38;5;124m'\u001B[39m)\n\u001B[0;32m----> 2\u001B[0m \u001B[43mgoe\u001B[49m\u001B[38;5;241;43m.\u001B[39;49m\u001B[43mts_corr\u001B[49m\u001B[43m(\u001B[49m\u001B[38;5;124;43m'\u001B[39;49m\u001B[38;5;124;43mopen\u001B[39;49m\u001B[38;5;124;43m'\u001B[39;49m\u001B[43m,\u001B[49m\u001B[38;5;124;43m'\u001B[39;49m\u001B[38;5;124;43mvolume\u001B[39;49m\u001B[38;5;124;43m'\u001B[39;49m\u001B[43m,\u001B[49m\u001B[38;5;241;43m10\u001B[39;49m\u001B[43m)\u001B[49m\n",
      "File \u001B[0;32m/Volumes/Samsung_T5/Mac/Projects/Python/QuantSystemMVP/realgam/quantlib/engineer/op_engineer.py:610\u001B[0m, in \u001B[0;36mGroupOpEngineer.ts_corr\u001B[0;34m(self, col1, col2, n, inplace)\u001B[0m\n\u001B[1;32m    608\u001B[0m \u001B[38;5;28;01mif\u001B[39;00m \u001B[38;5;129;01mnot\u001B[39;00m \u001B[38;5;28misinstance\u001B[39m(inplace, \u001B[38;5;28mbool\u001B[39m):\n\u001B[1;32m    609\u001B[0m     \u001B[38;5;28;01mraise\u001B[39;00m \u001B[38;5;167;01mException\u001B[39;00m(\u001B[38;5;124mf\u001B[39m\u001B[38;5;124m\"\u001B[39m\u001B[38;5;124m'\u001B[39m\u001B[38;5;124minplace\u001B[39m\u001B[38;5;124m'\u001B[39m\u001B[38;5;124m argument should be a bool, received \u001B[39m\u001B[38;5;132;01m{\u001B[39;00m\u001B[38;5;28mtype\u001B[39m(inplace)\u001B[38;5;132;01m}\u001B[39;00m\u001B[38;5;124m\"\u001B[39m)\n\u001B[0;32m--> 610\u001B[0m eng_values \u001B[38;5;241m=\u001B[39m \u001B[38;5;28;43mself\u001B[39;49m\u001B[38;5;241;43m.\u001B[39;49m\u001B[43mdf\u001B[49m\u001B[38;5;241;43m.\u001B[39;49m\u001B[43mgroupby\u001B[49m\u001B[43m(\u001B[49m\u001B[38;5;28;43mself\u001B[39;49m\u001B[38;5;241;43m.\u001B[39;49m\u001B[43mgroupby_col\u001B[49m\u001B[43m)\u001B[49m\u001B[43m[\u001B[49m\u001B[43m[\u001B[49m\u001B[43mcol1\u001B[49m\u001B[43m,\u001B[49m\u001B[43m \u001B[49m\u001B[43mcol2\u001B[49m\u001B[43m]\u001B[49m\u001B[43m]\u001B[49m\u001B[38;5;241;43m.\u001B[39;49m\u001B[43mrolling\u001B[49m\u001B[43m(\u001B[49m\u001B[43mn\u001B[49m\u001B[43m)\u001B[49m\u001B[38;5;241;43m.\u001B[39;49m\u001B[43mcorr\u001B[49m\u001B[43m(\u001B[49m\u001B[43m)\u001B[49m\u001B[38;5;241m.\u001B[39miloc[\u001B[38;5;241m0\u001B[39m::\u001B[38;5;241m2\u001B[39m, \u001B[38;5;241m-\u001B[39m\u001B[38;5;241m1\u001B[39m]\n\u001B[1;32m    612\u001B[0m \u001B[38;5;28;01mif\u001B[39;00m inplace:\n\u001B[1;32m    613\u001B[0m     \u001B[38;5;28mself\u001B[39m\u001B[38;5;241m.\u001B[39mdf[\u001B[38;5;124mf\u001B[39m\u001B[38;5;124m'\u001B[39m\u001B[38;5;124mts_corr\u001B[39m\u001B[38;5;132;01m{\u001B[39;00mn\u001B[38;5;132;01m}\u001B[39;00m\u001B[38;5;124m_\u001B[39m\u001B[38;5;132;01m{\u001B[39;00mcol1\u001B[38;5;132;01m}\u001B[39;00m\u001B[38;5;124m_\u001B[39m\u001B[38;5;132;01m{\u001B[39;00mcol2\u001B[38;5;132;01m}\u001B[39;00m\u001B[38;5;124m'\u001B[39m] \u001B[38;5;241m=\u001B[39m eng_values\u001B[38;5;241m.\u001B[39mvalues\n",
      "File \u001B[0;32m~/miniconda3/envs/quant/lib/python3.9/site-packages/pandas/core/window/rolling.py:2311\u001B[0m, in \u001B[0;36mRolling.corr\u001B[0;34m(self, other, pairwise, ddof, **kwargs)\u001B[0m\n\u001B[1;32m   2188\u001B[0m \u001B[38;5;129m@doc\u001B[39m(\n\u001B[1;32m   2189\u001B[0m     template_header,\n\u001B[1;32m   2190\u001B[0m     create_section_header(\u001B[38;5;124m\"\u001B[39m\u001B[38;5;124mParameters\u001B[39m\u001B[38;5;124m\"\u001B[39m),\n\u001B[0;32m   (...)\u001B[0m\n\u001B[1;32m   2309\u001B[0m     \u001B[38;5;241m*\u001B[39m\u001B[38;5;241m*\u001B[39mkwargs,\n\u001B[1;32m   2310\u001B[0m ):\n\u001B[0;32m-> 2311\u001B[0m     \u001B[38;5;28;01mreturn\u001B[39;00m \u001B[38;5;28;43msuper\u001B[39;49m\u001B[43m(\u001B[49m\u001B[43m)\u001B[49m\u001B[38;5;241;43m.\u001B[39;49m\u001B[43mcorr\u001B[49m\u001B[43m(\u001B[49m\u001B[43mother\u001B[49m\u001B[38;5;241;43m=\u001B[39;49m\u001B[43mother\u001B[49m\u001B[43m,\u001B[49m\u001B[43m \u001B[49m\u001B[43mpairwise\u001B[49m\u001B[38;5;241;43m=\u001B[39;49m\u001B[43mpairwise\u001B[49m\u001B[43m,\u001B[49m\u001B[43m \u001B[49m\u001B[43mddof\u001B[49m\u001B[38;5;241;43m=\u001B[39;49m\u001B[43mddof\u001B[49m\u001B[43m,\u001B[49m\u001B[43m \u001B[49m\u001B[38;5;241;43m*\u001B[39;49m\u001B[38;5;241;43m*\u001B[39;49m\u001B[43mkwargs\u001B[49m\u001B[43m)\u001B[49m\n",
      "File \u001B[0;32m~/miniconda3/envs/quant/lib/python3.9/site-packages/pandas/core/window/rolling.py:1484\u001B[0m, in \u001B[0;36mRollingAndExpandingMixin.corr\u001B[0;34m(self, other, pairwise, ddof, **kwargs)\u001B[0m\n\u001B[1;32m   1481\u001B[0m         result \u001B[38;5;241m=\u001B[39m numerator \u001B[38;5;241m/\u001B[39m denominator\n\u001B[1;32m   1482\u001B[0m     \u001B[38;5;28;01mreturn\u001B[39;00m Series(result, index\u001B[38;5;241m=\u001B[39mx\u001B[38;5;241m.\u001B[39mindex, name\u001B[38;5;241m=\u001B[39mx\u001B[38;5;241m.\u001B[39mname)\n\u001B[0;32m-> 1484\u001B[0m \u001B[38;5;28;01mreturn\u001B[39;00m \u001B[38;5;28;43mself\u001B[39;49m\u001B[38;5;241;43m.\u001B[39;49m\u001B[43m_apply_pairwise\u001B[49m\u001B[43m(\u001B[49m\u001B[38;5;28;43mself\u001B[39;49m\u001B[38;5;241;43m.\u001B[39;49m\u001B[43m_selected_obj\u001B[49m\u001B[43m,\u001B[49m\u001B[43m \u001B[49m\u001B[43mother\u001B[49m\u001B[43m,\u001B[49m\u001B[43m \u001B[49m\u001B[43mpairwise\u001B[49m\u001B[43m,\u001B[49m\u001B[43m \u001B[49m\u001B[43mcorr_func\u001B[49m\u001B[43m)\u001B[49m\n",
      "File \u001B[0;32m~/miniconda3/envs/quant/lib/python3.9/site-packages/pandas/core/window/rolling.py:659\u001B[0m, in \u001B[0;36mBaseWindowGroupby._apply_pairwise\u001B[0;34m(self, target, other, pairwise, func)\u001B[0m\n\u001B[1;32m    657\u001B[0m target \u001B[38;5;241m=\u001B[39m target\u001B[38;5;241m.\u001B[39mdrop(columns\u001B[38;5;241m=\u001B[39m\u001B[38;5;28mself\u001B[39m\u001B[38;5;241m.\u001B[39m_grouper\u001B[38;5;241m.\u001B[39mnames, errors\u001B[38;5;241m=\u001B[39m\u001B[38;5;124m\"\u001B[39m\u001B[38;5;124mignore\u001B[39m\u001B[38;5;124m\"\u001B[39m)\n\u001B[1;32m    658\u001B[0m target \u001B[38;5;241m=\u001B[39m \u001B[38;5;28mself\u001B[39m\u001B[38;5;241m.\u001B[39m_create_data(target)\n\u001B[0;32m--> 659\u001B[0m result \u001B[38;5;241m=\u001B[39m \u001B[38;5;28;43msuper\u001B[39;49m\u001B[43m(\u001B[49m\u001B[43m)\u001B[49m\u001B[38;5;241;43m.\u001B[39;49m\u001B[43m_apply_pairwise\u001B[49m\u001B[43m(\u001B[49m\u001B[43mtarget\u001B[49m\u001B[43m,\u001B[49m\u001B[43m \u001B[49m\u001B[43mother\u001B[49m\u001B[43m,\u001B[49m\u001B[43m \u001B[49m\u001B[43mpairwise\u001B[49m\u001B[43m,\u001B[49m\u001B[43m \u001B[49m\u001B[43mfunc\u001B[49m\u001B[43m)\u001B[49m\n\u001B[1;32m    660\u001B[0m \u001B[38;5;66;03m# 1) Determine the levels + codes of the groupby levels\u001B[39;00m\n\u001B[1;32m    661\u001B[0m \u001B[38;5;28;01mif\u001B[39;00m other \u001B[38;5;129;01mis\u001B[39;00m \u001B[38;5;129;01mnot\u001B[39;00m \u001B[38;5;28;01mNone\u001B[39;00m \u001B[38;5;129;01mand\u001B[39;00m \u001B[38;5;129;01mnot\u001B[39;00m \u001B[38;5;28mall\u001B[39m(\n\u001B[1;32m    662\u001B[0m     \u001B[38;5;28mlen\u001B[39m(group) \u001B[38;5;241m==\u001B[39m \u001B[38;5;28mlen\u001B[39m(other) \u001B[38;5;28;01mfor\u001B[39;00m group \u001B[38;5;129;01min\u001B[39;00m \u001B[38;5;28mself\u001B[39m\u001B[38;5;241m.\u001B[39m_grouper\u001B[38;5;241m.\u001B[39mindices\u001B[38;5;241m.\u001B[39mvalues()\n\u001B[1;32m    663\u001B[0m ):\n\u001B[0;32m   (...)\u001B[0m\n\u001B[1;32m    666\u001B[0m     \u001B[38;5;66;03m# from flex_binary_moment to a \"transform\"-like result\u001B[39;00m\n\u001B[1;32m    667\u001B[0m     \u001B[38;5;66;03m# per groupby combination\u001B[39;00m\n",
      "File \u001B[0;32m~/miniconda3/envs/quant/lib/python3.9/site-packages/pandas/core/window/rolling.py:480\u001B[0m, in \u001B[0;36mBaseWindow._apply_pairwise\u001B[0;34m(self, target, other, pairwise, func)\u001B[0m\n\u001B[1;32m    477\u001B[0m \u001B[38;5;28;01melif\u001B[39;00m \u001B[38;5;129;01mnot\u001B[39;00m \u001B[38;5;28misinstance\u001B[39m(other, (ABCDataFrame, ABCSeries)):\n\u001B[1;32m    478\u001B[0m     \u001B[38;5;28;01mraise\u001B[39;00m \u001B[38;5;167;01mValueError\u001B[39;00m(\u001B[38;5;124m\"\u001B[39m\u001B[38;5;124mother must be a DataFrame or Series\u001B[39m\u001B[38;5;124m\"\u001B[39m)\n\u001B[0;32m--> 480\u001B[0m \u001B[38;5;28;01mreturn\u001B[39;00m \u001B[43mflex_binary_moment\u001B[49m\u001B[43m(\u001B[49m\u001B[43mtarget\u001B[49m\u001B[43m,\u001B[49m\u001B[43m \u001B[49m\u001B[43mother\u001B[49m\u001B[43m,\u001B[49m\u001B[43m \u001B[49m\u001B[43mfunc\u001B[49m\u001B[43m,\u001B[49m\u001B[43m \u001B[49m\u001B[43mpairwise\u001B[49m\u001B[38;5;241;43m=\u001B[39;49m\u001B[38;5;28;43mbool\u001B[39;49m\u001B[43m(\u001B[49m\u001B[43mpairwise\u001B[49m\u001B[43m)\u001B[49m\u001B[43m)\u001B[49m\n",
      "File \u001B[0;32m~/miniconda3/envs/quant/lib/python3.9/site-packages/pandas/core/window/common.py:98\u001B[0m, in \u001B[0;36mflex_binary_moment\u001B[0;34m(arg1, arg2, f, pairwise)\u001B[0m\n\u001B[1;32m     94\u001B[0m         result\u001B[38;5;241m.\u001B[39mindex \u001B[38;5;241m=\u001B[39m MultiIndex\u001B[38;5;241m.\u001B[39mfrom_product(\n\u001B[1;32m     95\u001B[0m             [\u001B[38;5;28mrange\u001B[39m(\u001B[38;5;28mlen\u001B[39m(arg2\u001B[38;5;241m.\u001B[39mcolumns)), \u001B[38;5;28mrange\u001B[39m(\u001B[38;5;28mlen\u001B[39m(result_index))]\n\u001B[1;32m     96\u001B[0m         )\n\u001B[1;32m     97\u001B[0m         result \u001B[38;5;241m=\u001B[39m result\u001B[38;5;241m.\u001B[39mswaplevel(\u001B[38;5;241m1\u001B[39m, \u001B[38;5;241m0\u001B[39m)\u001B[38;5;241m.\u001B[39msort_index()\n\u001B[0;32m---> 98\u001B[0m         result\u001B[38;5;241m.\u001B[39mindex \u001B[38;5;241m=\u001B[39m \u001B[43mMultiIndex\u001B[49m\u001B[38;5;241;43m.\u001B[39;49m\u001B[43mfrom_product\u001B[49m\u001B[43m(\u001B[49m\n\u001B[1;32m     99\u001B[0m \u001B[43m            \u001B[49m\u001B[43m[\u001B[49m\u001B[43mresult_index\u001B[49m\u001B[43m]\u001B[49m\u001B[43m \u001B[49m\u001B[38;5;241;43m+\u001B[39;49m\u001B[43m \u001B[49m\u001B[43m[\u001B[49m\u001B[43marg2\u001B[49m\u001B[38;5;241;43m.\u001B[39;49m\u001B[43mcolumns\u001B[49m\u001B[43m]\u001B[49m\n\u001B[1;32m    100\u001B[0m \u001B[43m        \u001B[49m\u001B[43m)\u001B[49m\n\u001B[1;32m    101\u001B[0m \u001B[38;5;28;01melse\u001B[39;00m:\n\u001B[1;32m    102\u001B[0m \n\u001B[1;32m    103\u001B[0m     \u001B[38;5;66;03m# empty result\u001B[39;00m\n\u001B[1;32m    104\u001B[0m     result \u001B[38;5;241m=\u001B[39m DataFrame(\n\u001B[1;32m    105\u001B[0m         index\u001B[38;5;241m=\u001B[39mMultiIndex(\n\u001B[1;32m    106\u001B[0m             levels\u001B[38;5;241m=\u001B[39m[arg1\u001B[38;5;241m.\u001B[39mindex, arg2\u001B[38;5;241m.\u001B[39mcolumns], codes\u001B[38;5;241m=\u001B[39m[[], []]\n\u001B[0;32m   (...)\u001B[0m\n\u001B[1;32m    109\u001B[0m         dtype\u001B[38;5;241m=\u001B[39m\u001B[38;5;124m\"\u001B[39m\u001B[38;5;124mfloat64\u001B[39m\u001B[38;5;124m\"\u001B[39m,\n\u001B[1;32m    110\u001B[0m     )\n",
      "File \u001B[0;32m~/miniconda3/envs/quant/lib/python3.9/site-packages/pandas/core/indexes/multi.py:615\u001B[0m, in \u001B[0;36mMultiIndex.from_product\u001B[0;34m(cls, iterables, sortorder, names)\u001B[0m\n\u001B[1;32m    612\u001B[0m \u001B[38;5;28;01melif\u001B[39;00m is_iterator(iterables):\n\u001B[1;32m    613\u001B[0m     iterables \u001B[38;5;241m=\u001B[39m \u001B[38;5;28mlist\u001B[39m(iterables)\n\u001B[0;32m--> 615\u001B[0m codes, levels \u001B[38;5;241m=\u001B[39m \u001B[43mfactorize_from_iterables\u001B[49m\u001B[43m(\u001B[49m\u001B[43miterables\u001B[49m\u001B[43m)\u001B[49m\n\u001B[1;32m    616\u001B[0m \u001B[38;5;28;01mif\u001B[39;00m names \u001B[38;5;129;01mis\u001B[39;00m lib\u001B[38;5;241m.\u001B[39mno_default:\n\u001B[1;32m    617\u001B[0m     names \u001B[38;5;241m=\u001B[39m [\u001B[38;5;28mgetattr\u001B[39m(it, \u001B[38;5;124m\"\u001B[39m\u001B[38;5;124mname\u001B[39m\u001B[38;5;124m\"\u001B[39m, \u001B[38;5;28;01mNone\u001B[39;00m) \u001B[38;5;28;01mfor\u001B[39;00m it \u001B[38;5;129;01min\u001B[39;00m iterables]\n",
      "File \u001B[0;32m~/miniconda3/envs/quant/lib/python3.9/site-packages/pandas/core/arrays/categorical.py:2782\u001B[0m, in \u001B[0;36mfactorize_from_iterables\u001B[0;34m(iterables)\u001B[0m\n\u001B[1;32m   2778\u001B[0m \u001B[38;5;28;01mif\u001B[39;00m \u001B[38;5;28mlen\u001B[39m(iterables) \u001B[38;5;241m==\u001B[39m \u001B[38;5;241m0\u001B[39m:\n\u001B[1;32m   2779\u001B[0m     \u001B[38;5;66;03m# For consistency, it should return two empty lists.\u001B[39;00m\n\u001B[1;32m   2780\u001B[0m     \u001B[38;5;28;01mreturn\u001B[39;00m [], []\n\u001B[0;32m-> 2782\u001B[0m codes, categories \u001B[38;5;241m=\u001B[39m \u001B[38;5;28;43mzip\u001B[39;49m\u001B[43m(\u001B[49m\u001B[38;5;241;43m*\u001B[39;49m\u001B[43m(\u001B[49m\u001B[43mfactorize_from_iterable\u001B[49m\u001B[43m(\u001B[49m\u001B[43mit\u001B[49m\u001B[43m)\u001B[49m\u001B[43m \u001B[49m\u001B[38;5;28;43;01mfor\u001B[39;49;00m\u001B[43m \u001B[49m\u001B[43mit\u001B[49m\u001B[43m \u001B[49m\u001B[38;5;129;43;01min\u001B[39;49;00m\u001B[43m \u001B[49m\u001B[43miterables\u001B[49m\u001B[43m)\u001B[49m\u001B[43m)\u001B[49m\n\u001B[1;32m   2783\u001B[0m \u001B[38;5;28;01mreturn\u001B[39;00m \u001B[38;5;28mlist\u001B[39m(codes), \u001B[38;5;28mlist\u001B[39m(categories)\n",
      "File \u001B[0;32m~/miniconda3/envs/quant/lib/python3.9/site-packages/pandas/core/arrays/categorical.py:2782\u001B[0m, in \u001B[0;36m<genexpr>\u001B[0;34m(.0)\u001B[0m\n\u001B[1;32m   2778\u001B[0m \u001B[38;5;28;01mif\u001B[39;00m \u001B[38;5;28mlen\u001B[39m(iterables) \u001B[38;5;241m==\u001B[39m \u001B[38;5;241m0\u001B[39m:\n\u001B[1;32m   2779\u001B[0m     \u001B[38;5;66;03m# For consistency, it should return two empty lists.\u001B[39;00m\n\u001B[1;32m   2780\u001B[0m     \u001B[38;5;28;01mreturn\u001B[39;00m [], []\n\u001B[0;32m-> 2782\u001B[0m codes, categories \u001B[38;5;241m=\u001B[39m \u001B[38;5;28mzip\u001B[39m(\u001B[38;5;241m*\u001B[39m(\u001B[43mfactorize_from_iterable\u001B[49m\u001B[43m(\u001B[49m\u001B[43mit\u001B[49m\u001B[43m)\u001B[49m \u001B[38;5;28;01mfor\u001B[39;00m it \u001B[38;5;129;01min\u001B[39;00m iterables))\n\u001B[1;32m   2783\u001B[0m \u001B[38;5;28;01mreturn\u001B[39;00m \u001B[38;5;28mlist\u001B[39m(codes), \u001B[38;5;28mlist\u001B[39m(categories)\n",
      "File \u001B[0;32m~/miniconda3/envs/quant/lib/python3.9/site-packages/pandas/core/arrays/categorical.py:2755\u001B[0m, in \u001B[0;36mfactorize_from_iterable\u001B[0;34m(values)\u001B[0m\n\u001B[1;32m   2750\u001B[0m     codes \u001B[38;5;241m=\u001B[39m values\u001B[38;5;241m.\u001B[39mcodes\n\u001B[1;32m   2751\u001B[0m \u001B[38;5;28;01melse\u001B[39;00m:\n\u001B[1;32m   2752\u001B[0m     \u001B[38;5;66;03m# The value of ordered is irrelevant since we don't use cat as such,\u001B[39;00m\n\u001B[1;32m   2753\u001B[0m     \u001B[38;5;66;03m# but only the resulting categories, the order of which is independent\u001B[39;00m\n\u001B[1;32m   2754\u001B[0m     \u001B[38;5;66;03m# from ordered. Set ordered to False as default. See GH #15457\u001B[39;00m\n\u001B[0;32m-> 2755\u001B[0m     cat \u001B[38;5;241m=\u001B[39m \u001B[43mCategorical\u001B[49m\u001B[43m(\u001B[49m\u001B[43mvalues\u001B[49m\u001B[43m,\u001B[49m\u001B[43m \u001B[49m\u001B[43mordered\u001B[49m\u001B[38;5;241;43m=\u001B[39;49m\u001B[38;5;28;43;01mFalse\u001B[39;49;00m\u001B[43m)\u001B[49m\n\u001B[1;32m   2756\u001B[0m     categories \u001B[38;5;241m=\u001B[39m cat\u001B[38;5;241m.\u001B[39mcategories\n\u001B[1;32m   2757\u001B[0m     codes \u001B[38;5;241m=\u001B[39m cat\u001B[38;5;241m.\u001B[39mcodes\n",
      "File \u001B[0;32m~/miniconda3/envs/quant/lib/python3.9/site-packages/pandas/core/arrays/categorical.py:445\u001B[0m, in \u001B[0;36mCategorical.__init__\u001B[0;34m(self, values, categories, ordered, dtype, fastpath, copy)\u001B[0m\n\u001B[1;32m    438\u001B[0m             \u001B[38;5;28;01mraise\u001B[39;00m \u001B[38;5;167;01mTypeError\u001B[39;00m(\n\u001B[1;32m    439\u001B[0m                 \u001B[38;5;124m\"\u001B[39m\u001B[38;5;124m'\u001B[39m\u001B[38;5;124mvalues\u001B[39m\u001B[38;5;124m'\u001B[39m\u001B[38;5;124m is not ordered, please \u001B[39m\u001B[38;5;124m\"\u001B[39m\n\u001B[1;32m    440\u001B[0m                 \u001B[38;5;124m\"\u001B[39m\u001B[38;5;124mexplicitly specify the categories order \u001B[39m\u001B[38;5;124m\"\u001B[39m\n\u001B[1;32m    441\u001B[0m                 \u001B[38;5;124m\"\u001B[39m\u001B[38;5;124mby passing in a categories argument.\u001B[39m\u001B[38;5;124m\"\u001B[39m\n\u001B[1;32m    442\u001B[0m             ) \u001B[38;5;28;01mfrom\u001B[39;00m \u001B[38;5;21;01merr\u001B[39;00m\n\u001B[1;32m    444\u001B[0m     \u001B[38;5;66;03m# we're inferring from values\u001B[39;00m\n\u001B[0;32m--> 445\u001B[0m     dtype \u001B[38;5;241m=\u001B[39m \u001B[43mCategoricalDtype\u001B[49m\u001B[43m(\u001B[49m\u001B[43mcategories\u001B[49m\u001B[43m,\u001B[49m\u001B[43m \u001B[49m\u001B[43mdtype\u001B[49m\u001B[38;5;241;43m.\u001B[39;49m\u001B[43mordered\u001B[49m\u001B[43m)\u001B[49m\n\u001B[1;32m    447\u001B[0m \u001B[38;5;28;01melif\u001B[39;00m is_categorical_dtype(values\u001B[38;5;241m.\u001B[39mdtype):\n\u001B[1;32m    448\u001B[0m     \u001B[38;5;66;03m# error: Item \"ExtensionArray\" of \"Union[Any, ExtensionArray]\" has no\u001B[39;00m\n\u001B[1;32m    449\u001B[0m     \u001B[38;5;66;03m# attribute \"_codes\"\u001B[39;00m\n\u001B[1;32m    450\u001B[0m     old_codes \u001B[38;5;241m=\u001B[39m extract_array(values)\u001B[38;5;241m.\u001B[39m_codes  \u001B[38;5;66;03m# type: ignore[union-attr]\u001B[39;00m\n",
      "File \u001B[0;32m~/miniconda3/envs/quant/lib/python3.9/site-packages/pandas/core/dtypes/dtypes.py:183\u001B[0m, in \u001B[0;36mCategoricalDtype.__init__\u001B[0;34m(self, categories, ordered)\u001B[0m\n\u001B[1;32m    182\u001B[0m \u001B[38;5;28;01mdef\u001B[39;00m \u001B[38;5;21m__init__\u001B[39m(\u001B[38;5;28mself\u001B[39m, categories\u001B[38;5;241m=\u001B[39m\u001B[38;5;28;01mNone\u001B[39;00m, ordered: Ordered \u001B[38;5;241m=\u001B[39m \u001B[38;5;28;01mFalse\u001B[39;00m):\n\u001B[0;32m--> 183\u001B[0m     \u001B[38;5;28;43mself\u001B[39;49m\u001B[38;5;241;43m.\u001B[39;49m\u001B[43m_finalize\u001B[49m\u001B[43m(\u001B[49m\u001B[43mcategories\u001B[49m\u001B[43m,\u001B[49m\u001B[43m \u001B[49m\u001B[43mordered\u001B[49m\u001B[43m,\u001B[49m\u001B[43m \u001B[49m\u001B[43mfastpath\u001B[49m\u001B[38;5;241;43m=\u001B[39;49m\u001B[38;5;28;43;01mFalse\u001B[39;49;00m\u001B[43m)\u001B[49m\n",
      "File \u001B[0;32m~/miniconda3/envs/quant/lib/python3.9/site-packages/pandas/core/dtypes/dtypes.py:337\u001B[0m, in \u001B[0;36mCategoricalDtype._finalize\u001B[0;34m(self, categories, ordered, fastpath)\u001B[0m\n\u001B[1;32m    334\u001B[0m     \u001B[38;5;28mself\u001B[39m\u001B[38;5;241m.\u001B[39mvalidate_ordered(ordered)\n\u001B[1;32m    336\u001B[0m \u001B[38;5;28;01mif\u001B[39;00m categories \u001B[38;5;129;01mis\u001B[39;00m \u001B[38;5;129;01mnot\u001B[39;00m \u001B[38;5;28;01mNone\u001B[39;00m:\n\u001B[0;32m--> 337\u001B[0m     categories \u001B[38;5;241m=\u001B[39m \u001B[38;5;28;43mself\u001B[39;49m\u001B[38;5;241;43m.\u001B[39;49m\u001B[43mvalidate_categories\u001B[49m\u001B[43m(\u001B[49m\u001B[43mcategories\u001B[49m\u001B[43m,\u001B[49m\u001B[43m \u001B[49m\u001B[43mfastpath\u001B[49m\u001B[38;5;241;43m=\u001B[39;49m\u001B[43mfastpath\u001B[49m\u001B[43m)\u001B[49m\n\u001B[1;32m    339\u001B[0m \u001B[38;5;28mself\u001B[39m\u001B[38;5;241m.\u001B[39m_categories \u001B[38;5;241m=\u001B[39m categories\n\u001B[1;32m    340\u001B[0m \u001B[38;5;28mself\u001B[39m\u001B[38;5;241m.\u001B[39m_ordered \u001B[38;5;241m=\u001B[39m ordered\n",
      "File \u001B[0;32m~/miniconda3/envs/quant/lib/python3.9/site-packages/pandas/core/dtypes/dtypes.py:536\u001B[0m, in \u001B[0;36mCategoricalDtype.validate_categories\u001B[0;34m(categories, fastpath)\u001B[0m\n\u001B[1;32m    532\u001B[0m     categories \u001B[38;5;241m=\u001B[39m Index(categories, tupleize_cols\u001B[38;5;241m=\u001B[39m\u001B[38;5;28;01mFalse\u001B[39;00m)\n\u001B[1;32m    534\u001B[0m \u001B[38;5;28;01mif\u001B[39;00m \u001B[38;5;129;01mnot\u001B[39;00m fastpath:\n\u001B[0;32m--> 536\u001B[0m     \u001B[38;5;28;01mif\u001B[39;00m \u001B[43mcategories\u001B[49m\u001B[38;5;241;43m.\u001B[39;49m\u001B[43mhasnans\u001B[49m:\n\u001B[1;32m    537\u001B[0m         \u001B[38;5;28;01mraise\u001B[39;00m \u001B[38;5;167;01mValueError\u001B[39;00m(\u001B[38;5;124m\"\u001B[39m\u001B[38;5;124mCategorical categories cannot be null\u001B[39m\u001B[38;5;124m\"\u001B[39m)\n\u001B[1;32m    539\u001B[0m     \u001B[38;5;28;01mif\u001B[39;00m \u001B[38;5;129;01mnot\u001B[39;00m categories\u001B[38;5;241m.\u001B[39mis_unique:\n",
      "File \u001B[0;32m~/miniconda3/envs/quant/lib/python3.9/site-packages/pandas/_libs/properties.pyx:37\u001B[0m, in \u001B[0;36mpandas._libs.properties.CachedProperty.__get__\u001B[0;34m()\u001B[0m\n",
      "File \u001B[0;32m~/miniconda3/envs/quant/lib/python3.9/site-packages/pandas/core/indexes/base.py:2450\u001B[0m, in \u001B[0;36mIndex.hasnans\u001B[0;34m(self)\u001B[0m\n\u001B[1;32m   2446\u001B[0m \u001B[38;5;124;03m\"\"\"\u001B[39;00m\n\u001B[1;32m   2447\u001B[0m \u001B[38;5;124;03mReturn if I have any nans; enables various perf speedups.\u001B[39;00m\n\u001B[1;32m   2448\u001B[0m \u001B[38;5;124;03m\"\"\"\u001B[39;00m\n\u001B[1;32m   2449\u001B[0m \u001B[38;5;28;01mif\u001B[39;00m \u001B[38;5;28mself\u001B[39m\u001B[38;5;241m.\u001B[39m_can_hold_na:\n\u001B[0;32m-> 2450\u001B[0m     \u001B[38;5;28;01mreturn\u001B[39;00m \u001B[38;5;28mbool\u001B[39m(\u001B[38;5;28;43mself\u001B[39;49m\u001B[38;5;241;43m.\u001B[39;49m\u001B[43m_isnan\u001B[49m\u001B[38;5;241m.\u001B[39many())\n\u001B[1;32m   2451\u001B[0m \u001B[38;5;28;01melse\u001B[39;00m:\n\u001B[1;32m   2452\u001B[0m     \u001B[38;5;28;01mreturn\u001B[39;00m \u001B[38;5;28;01mFalse\u001B[39;00m\n",
      "File \u001B[0;32m~/miniconda3/envs/quant/lib/python3.9/site-packages/pandas/_libs/properties.pyx:37\u001B[0m, in \u001B[0;36mpandas._libs.properties.CachedProperty.__get__\u001B[0;34m()\u001B[0m\n",
      "File \u001B[0;32m~/miniconda3/envs/quant/lib/python3.9/site-packages/pandas/core/indexes/base.py:2437\u001B[0m, in \u001B[0;36mIndex._isnan\u001B[0;34m(self)\u001B[0m\n\u001B[1;32m   2433\u001B[0m \u001B[38;5;124;03m\"\"\"\u001B[39;00m\n\u001B[1;32m   2434\u001B[0m \u001B[38;5;124;03mReturn if each value is NaN.\u001B[39;00m\n\u001B[1;32m   2435\u001B[0m \u001B[38;5;124;03m\"\"\"\u001B[39;00m\n\u001B[1;32m   2436\u001B[0m \u001B[38;5;28;01mif\u001B[39;00m \u001B[38;5;28mself\u001B[39m\u001B[38;5;241m.\u001B[39m_can_hold_na:\n\u001B[0;32m-> 2437\u001B[0m     \u001B[38;5;28;01mreturn\u001B[39;00m \u001B[43misna\u001B[49m\u001B[43m(\u001B[49m\u001B[38;5;28;43mself\u001B[39;49m\u001B[43m)\u001B[49m\n\u001B[1;32m   2438\u001B[0m \u001B[38;5;28;01melse\u001B[39;00m:\n\u001B[1;32m   2439\u001B[0m     \u001B[38;5;66;03m# shouldn't reach to this condition by checking hasnans beforehand\u001B[39;00m\n\u001B[1;32m   2440\u001B[0m     values \u001B[38;5;241m=\u001B[39m np\u001B[38;5;241m.\u001B[39mempty(\u001B[38;5;28mlen\u001B[39m(\u001B[38;5;28mself\u001B[39m), dtype\u001B[38;5;241m=\u001B[39mnp\u001B[38;5;241m.\u001B[39mbool_)\n",
      "File \u001B[0;32m~/miniconda3/envs/quant/lib/python3.9/site-packages/pandas/core/dtypes/missing.py:138\u001B[0m, in \u001B[0;36misna\u001B[0;34m(obj)\u001B[0m\n\u001B[1;32m     61\u001B[0m \u001B[38;5;28;01mdef\u001B[39;00m \u001B[38;5;21misna\u001B[39m(obj):\n\u001B[1;32m     62\u001B[0m     \u001B[38;5;124;03m\"\"\"\u001B[39;00m\n\u001B[1;32m     63\u001B[0m \u001B[38;5;124;03m    Detect missing values for an array-like object.\u001B[39;00m\n\u001B[1;32m     64\u001B[0m \n\u001B[0;32m   (...)\u001B[0m\n\u001B[1;32m    136\u001B[0m \u001B[38;5;124;03m    Name: 1, dtype: bool\u001B[39;00m\n\u001B[1;32m    137\u001B[0m \u001B[38;5;124;03m    \"\"\"\u001B[39;00m\n\u001B[0;32m--> 138\u001B[0m     \u001B[38;5;28;01mreturn\u001B[39;00m \u001B[43m_isna\u001B[49m\u001B[43m(\u001B[49m\u001B[43mobj\u001B[49m\u001B[43m)\u001B[49m\n",
      "File \u001B[0;32m~/miniconda3/envs/quant/lib/python3.9/site-packages/pandas/core/dtypes/missing.py:167\u001B[0m, in \u001B[0;36m_isna\u001B[0;34m(obj, inf_as_na)\u001B[0m\n\u001B[1;32m    165\u001B[0m \u001B[38;5;66;03m# hack (for now) because MI registers as ndarray\u001B[39;00m\n\u001B[1;32m    166\u001B[0m \u001B[38;5;28;01melif\u001B[39;00m \u001B[38;5;28misinstance\u001B[39m(obj, ABCMultiIndex):\n\u001B[0;32m--> 167\u001B[0m     \u001B[38;5;28;01mraise\u001B[39;00m \u001B[38;5;167;01mNotImplementedError\u001B[39;00m(\u001B[38;5;124m\"\u001B[39m\u001B[38;5;124misna is not defined for MultiIndex\u001B[39m\u001B[38;5;124m\"\u001B[39m)\n\u001B[1;32m    168\u001B[0m \u001B[38;5;28;01melif\u001B[39;00m \u001B[38;5;28misinstance\u001B[39m(obj, \u001B[38;5;28mtype\u001B[39m):\n\u001B[1;32m    169\u001B[0m     \u001B[38;5;28;01mreturn\u001B[39;00m \u001B[38;5;28;01mFalse\u001B[39;00m\n",
      "\u001B[0;31mNotImplementedError\u001B[0m: isna is not defined for MultiIndex"
     ]
    }
   ],
   "source": [
    "goe = GroupOpEngineer(small_hist, 'ticker')\n",
    "goe.ts_corr('open','volume',10)"
   ],
   "metadata": {
    "collapsed": false,
    "pycharm": {
     "name": "#%%\n"
    }
   }
  },
  {
   "cell_type": "code",
   "execution_count": 20,
   "outputs": [
    {
     "data": {
      "text/plain": "ticker  ticker  date      \nA       A       2012-01-03         NaN\n                2012-01-04         NaN\n                2012-01-05         NaN\n                2012-01-06         NaN\n                2012-01-09         NaN\n                                ...   \nACER    ACER    2022-03-14    0.243021\n                2022-03-15    0.388569\n                2022-03-16   -0.425023\n                2022-03-17   -0.297427\n                2022-03-18   -0.259615\nLength: 12243500, dtype: float64"
     },
     "execution_count": 20,
     "metadata": {},
     "output_type": "execute_result"
    }
   ],
   "source": [
    "small_hist.groupby('ticker')['volume'].rolling(10).corr(small_hist['openadj'])"
   ],
   "metadata": {
    "collapsed": false,
    "pycharm": {
     "name": "#%%\n"
    }
   }
  },
  {
   "cell_type": "code",
   "execution_count": null,
   "outputs": [],
   "source": [
    "df = small_hist[['closeadj']].reset_index().set_index(['ticker','date'])"
   ],
   "metadata": {
    "collapsed": false,
    "pycharm": {
     "name": "#%%\n"
    }
   }
  },
  {
   "cell_type": "code",
   "execution_count": 180,
   "outputs": [],
   "source": [
    "goe = GroupOpEngineer(df, 'ticker')"
   ],
   "metadata": {
    "collapsed": false,
    "pycharm": {
     "name": "#%%\n"
    }
   }
  },
  {
   "cell_type": "code",
   "execution_count": 181,
   "outputs": [],
   "source": [
    "df['ts_ret_closeadj'] = goe.ts_ret('closeadj').values\n",
    "df['ts_std20_closeadj'] = goe.ts_std('closeadj', 20).values"
   ],
   "metadata": {
    "collapsed": false,
    "pycharm": {
     "name": "#%%\n"
    }
   }
  },
  {
   "cell_type": "code",
   "execution_count": 182,
   "outputs": [],
   "source": [
    "df.loc[df['ts_ret_closeadj'] < 0, 'closeadj'] = df['ts_std20_closeadj']"
   ],
   "metadata": {
    "collapsed": false,
    "pycharm": {
     "name": "#%%\n"
    }
   }
  },
  {
   "cell_type": "code",
   "execution_count": 183,
   "outputs": [],
   "source": [
    "df.loc[df['ts_ret_closeadj'].isnull() |  df['ts_std20_closeadj'].isnull(), 'closeadj'] = np.nan"
   ],
   "metadata": {
    "collapsed": false,
    "pycharm": {
     "name": "#%%\n"
    }
   }
  },
  {
   "cell_type": "code",
   "execution_count": 184,
   "outputs": [],
   "source": [
    "df['closeadj'] = np.power(df.closeadj, 2)"
   ],
   "metadata": {
    "collapsed": false,
    "pycharm": {
     "name": "#%%\n"
    }
   }
  },
  {
   "cell_type": "code",
   "execution_count": 185,
   "outputs": [],
   "source": [
    "goe.set_df(df)"
   ],
   "metadata": {
    "collapsed": false,
    "pycharm": {
     "name": "#%%\n"
    }
   }
  },
  {
   "cell_type": "code",
   "execution_count": 186,
   "outputs": [],
   "source": [
    "df['ts_argmax5_closeadj'] = goe.ts_argmax('closeadj', 5).values"
   ],
   "metadata": {
    "collapsed": false,
    "pycharm": {
     "name": "#%%\n"
    }
   }
  },
  {
   "cell_type": "code",
   "execution_count": 189,
   "outputs": [],
   "source": [
    "goe.set_df(df)\n",
    "df['cs_pctrank_ts_argmax5_closeadj'] = goe.cs_rank('ts_argmax5_closeadj', method='dense')"
   ],
   "metadata": {
    "collapsed": false,
    "pycharm": {
     "name": "#%%\n"
    }
   }
  },
  {
   "cell_type": "code",
   "execution_count": 190,
   "outputs": [
    {
     "data": {
      "text/plain": "                   closeadj  ts_ret_closeadj  ts_std20_closeadj  \\\nticker date                                                       \nA      2012-01-03       NaN              NaN                NaN   \n       2012-01-04       NaN        -0.007975                NaN   \n       2012-01-05       NaN         0.022402                NaN   \n       2012-01-06       NaN         0.010812                NaN   \n       2012-01-09       NaN         0.026214                NaN   \n...                     ...              ...                ...   \nACER   2022-03-14  0.000590        -0.024691           0.024288   \n       2022-03-15  0.000581        -0.004219           0.024098   \n       2022-03-16  6.502500         0.080508           0.030271   \n       2022-03-17  6.604900         0.007843           0.030126   \n       2022-03-18  7.075600         0.035019           0.030635   \n\n                   ts_argmax5_closeadj  cs_pctrank_ts_argmax5_closeadj  \nticker date                                                             \nA      2012-01-03                  NaN                             NaN  \n       2012-01-04                  NaN                             NaN  \n       2012-01-05                  NaN                             NaN  \n       2012-01-06                  NaN                             NaN  \n       2012-01-09                  NaN                             NaN  \n...                                ...                             ...  \nACER   2022-03-14                  2.0                             3.0  \n       2022-03-15                  1.0                             2.0  \n       2022-03-16                  5.0                             6.0  \n       2022-03-17                  5.0                             6.0  \n       2022-03-18                  5.0                             6.0  \n\n[122435 rows x 5 columns]",
      "text/html": "<div>\n<style scoped>\n    .dataframe tbody tr th:only-of-type {\n        vertical-align: middle;\n    }\n\n    .dataframe tbody tr th {\n        vertical-align: top;\n    }\n\n    .dataframe thead th {\n        text-align: right;\n    }\n</style>\n<table border=\"1\" class=\"dataframe\">\n  <thead>\n    <tr style=\"text-align: right;\">\n      <th></th>\n      <th></th>\n      <th>closeadj</th>\n      <th>ts_ret_closeadj</th>\n      <th>ts_std20_closeadj</th>\n      <th>ts_argmax5_closeadj</th>\n      <th>cs_pctrank_ts_argmax5_closeadj</th>\n    </tr>\n    <tr>\n      <th>ticker</th>\n      <th>date</th>\n      <th></th>\n      <th></th>\n      <th></th>\n      <th></th>\n      <th></th>\n    </tr>\n  </thead>\n  <tbody>\n    <tr>\n      <th rowspan=\"5\" valign=\"top\">A</th>\n      <th>2012-01-03</th>\n      <td>NaN</td>\n      <td>NaN</td>\n      <td>NaN</td>\n      <td>NaN</td>\n      <td>NaN</td>\n    </tr>\n    <tr>\n      <th>2012-01-04</th>\n      <td>NaN</td>\n      <td>-0.007975</td>\n      <td>NaN</td>\n      <td>NaN</td>\n      <td>NaN</td>\n    </tr>\n    <tr>\n      <th>2012-01-05</th>\n      <td>NaN</td>\n      <td>0.022402</td>\n      <td>NaN</td>\n      <td>NaN</td>\n      <td>NaN</td>\n    </tr>\n    <tr>\n      <th>2012-01-06</th>\n      <td>NaN</td>\n      <td>0.010812</td>\n      <td>NaN</td>\n      <td>NaN</td>\n      <td>NaN</td>\n    </tr>\n    <tr>\n      <th>2012-01-09</th>\n      <td>NaN</td>\n      <td>0.026214</td>\n      <td>NaN</td>\n      <td>NaN</td>\n      <td>NaN</td>\n    </tr>\n    <tr>\n      <th>...</th>\n      <th>...</th>\n      <td>...</td>\n      <td>...</td>\n      <td>...</td>\n      <td>...</td>\n      <td>...</td>\n    </tr>\n    <tr>\n      <th rowspan=\"5\" valign=\"top\">ACER</th>\n      <th>2022-03-14</th>\n      <td>0.000590</td>\n      <td>-0.024691</td>\n      <td>0.024288</td>\n      <td>2.0</td>\n      <td>3.0</td>\n    </tr>\n    <tr>\n      <th>2022-03-15</th>\n      <td>0.000581</td>\n      <td>-0.004219</td>\n      <td>0.024098</td>\n      <td>1.0</td>\n      <td>2.0</td>\n    </tr>\n    <tr>\n      <th>2022-03-16</th>\n      <td>6.502500</td>\n      <td>0.080508</td>\n      <td>0.030271</td>\n      <td>5.0</td>\n      <td>6.0</td>\n    </tr>\n    <tr>\n      <th>2022-03-17</th>\n      <td>6.604900</td>\n      <td>0.007843</td>\n      <td>0.030126</td>\n      <td>5.0</td>\n      <td>6.0</td>\n    </tr>\n    <tr>\n      <th>2022-03-18</th>\n      <td>7.075600</td>\n      <td>0.035019</td>\n      <td>0.030635</td>\n      <td>5.0</td>\n      <td>6.0</td>\n    </tr>\n  </tbody>\n</table>\n<p>122435 rows × 5 columns</p>\n</div>"
     },
     "execution_count": 190,
     "metadata": {},
     "output_type": "execute_result"
    }
   ],
   "source": [
    "df"
   ],
   "metadata": {
    "collapsed": false,
    "pycharm": {
     "name": "#%%\n"
    }
   }
  },
  {
   "cell_type": "code",
   "execution_count": null,
   "outputs": [],
   "source": [
    "print(data.loc[idx[['AAPL','GOOGL'],'2021-03-18'],])"
   ],
   "metadata": {
    "collapsed": false,
    "pycharm": {
     "name": "#%%\n"
    }
   }
  },
  {
   "cell_type": "code",
   "execution_count": 168,
   "outputs": [
    {
     "data": {
      "text/plain": "                   closeadj  ts_ret_closeadj  ts_std20_closeadj  \\\nticker date                                                       \nA      2012-01-03       NaN              NaN                NaN   \n       2012-01-04       NaN        -0.007975                NaN   \n       2012-01-05       NaN         0.022402                NaN   \n       2012-01-06       NaN         0.010812                NaN   \n       2012-01-09       NaN         0.026214                NaN   \n...                     ...              ...                ...   \nACER   2022-03-14  0.000590        -0.024691           0.024288   \n       2022-03-15  0.000581        -0.004219           0.024098   \n       2022-03-16  6.502500         0.080508           0.030271   \n       2022-03-17  6.604900         0.007843           0.030126   \n       2022-03-18  7.075600         0.035019           0.030635   \n\n                   ts_argmax5_closeadj  cs_pctrank_ts_argmax5_closeadj  \nticker date                                                             \nA      2012-01-03                  NaN                             NaN  \n       2012-01-04                  NaN                             NaN  \n       2012-01-05                  NaN                             NaN  \n       2012-01-06                  NaN                             NaN  \n       2012-01-09                  NaN                             NaN  \n...                                ...                             ...  \nACER   2022-03-14                  2.0                            24.5  \n       2022-03-15                  1.0                            16.0  \n       2022-03-16                  5.0                            43.0  \n       2022-03-17                  5.0                            42.5  \n       2022-03-18                  5.0                            43.5  \n\n[122435 rows x 5 columns]",
      "text/html": "<div>\n<style scoped>\n    .dataframe tbody tr th:only-of-type {\n        vertical-align: middle;\n    }\n\n    .dataframe tbody tr th {\n        vertical-align: top;\n    }\n\n    .dataframe thead th {\n        text-align: right;\n    }\n</style>\n<table border=\"1\" class=\"dataframe\">\n  <thead>\n    <tr style=\"text-align: right;\">\n      <th></th>\n      <th></th>\n      <th>closeadj</th>\n      <th>ts_ret_closeadj</th>\n      <th>ts_std20_closeadj</th>\n      <th>ts_argmax5_closeadj</th>\n      <th>cs_pctrank_ts_argmax5_closeadj</th>\n    </tr>\n    <tr>\n      <th>ticker</th>\n      <th>date</th>\n      <th></th>\n      <th></th>\n      <th></th>\n      <th></th>\n      <th></th>\n    </tr>\n  </thead>\n  <tbody>\n    <tr>\n      <th rowspan=\"5\" valign=\"top\">A</th>\n      <th>2012-01-03</th>\n      <td>NaN</td>\n      <td>NaN</td>\n      <td>NaN</td>\n      <td>NaN</td>\n      <td>NaN</td>\n    </tr>\n    <tr>\n      <th>2012-01-04</th>\n      <td>NaN</td>\n      <td>-0.007975</td>\n      <td>NaN</td>\n      <td>NaN</td>\n      <td>NaN</td>\n    </tr>\n    <tr>\n      <th>2012-01-05</th>\n      <td>NaN</td>\n      <td>0.022402</td>\n      <td>NaN</td>\n      <td>NaN</td>\n      <td>NaN</td>\n    </tr>\n    <tr>\n      <th>2012-01-06</th>\n      <td>NaN</td>\n      <td>0.010812</td>\n      <td>NaN</td>\n      <td>NaN</td>\n      <td>NaN</td>\n    </tr>\n    <tr>\n      <th>2012-01-09</th>\n      <td>NaN</td>\n      <td>0.026214</td>\n      <td>NaN</td>\n      <td>NaN</td>\n      <td>NaN</td>\n    </tr>\n    <tr>\n      <th>...</th>\n      <th>...</th>\n      <td>...</td>\n      <td>...</td>\n      <td>...</td>\n      <td>...</td>\n      <td>...</td>\n    </tr>\n    <tr>\n      <th rowspan=\"5\" valign=\"top\">ACER</th>\n      <th>2022-03-14</th>\n      <td>0.000590</td>\n      <td>-0.024691</td>\n      <td>0.024288</td>\n      <td>2.0</td>\n      <td>24.5</td>\n    </tr>\n    <tr>\n      <th>2022-03-15</th>\n      <td>0.000581</td>\n      <td>-0.004219</td>\n      <td>0.024098</td>\n      <td>1.0</td>\n      <td>16.0</td>\n    </tr>\n    <tr>\n      <th>2022-03-16</th>\n      <td>6.502500</td>\n      <td>0.080508</td>\n      <td>0.030271</td>\n      <td>5.0</td>\n      <td>43.0</td>\n    </tr>\n    <tr>\n      <th>2022-03-17</th>\n      <td>6.604900</td>\n      <td>0.007843</td>\n      <td>0.030126</td>\n      <td>5.0</td>\n      <td>42.5</td>\n    </tr>\n    <tr>\n      <th>2022-03-18</th>\n      <td>7.075600</td>\n      <td>0.035019</td>\n      <td>0.030635</td>\n      <td>5.0</td>\n      <td>43.5</td>\n    </tr>\n  </tbody>\n</table>\n<p>122435 rows × 5 columns</p>\n</div>"
     },
     "execution_count": 168,
     "metadata": {},
     "output_type": "execute_result"
    }
   ],
   "source": [
    "df"
   ],
   "metadata": {
    "collapsed": false,
    "pycharm": {
     "name": "#%%\n"
    }
   }
  },
  {
   "cell_type": "code",
   "execution_count": null,
   "outputs": [],
   "source": [
    "df.loc[idx[slice(None), '2012-02-07'],]['cs_pctrank_ts_argmax5_closeadj']"
   ],
   "metadata": {
    "collapsed": false,
    "pycharm": {
     "name": "#%%\n"
    }
   }
  },
  {
   "cell_type": "code",
   "execution_count": 165,
   "outputs": [
    {
     "data": {
      "text/plain": "array([0.44897959, 0.66326531, 0.10204082, 0.85714286, 0.23469388])"
     },
     "execution_count": 165,
     "metadata": {},
     "output_type": "execute_result"
    }
   ],
   "source": [
    "idx = pd.IndexSlice\n",
    "df.loc[idx[slice(None), '2012-02-07'],]['cs_pctrank_ts_argmax5_closeadj'].unique()"
   ],
   "metadata": {
    "collapsed": false,
    "pycharm": {
     "name": "#%%\n"
    }
   }
  },
  {
   "cell_type": "code",
   "execution_count": 166,
   "outputs": [
    {
     "data": {
      "text/plain": "array([0.10204082, 0.87755102, 0.42857143, 0.67346939, 0.2244898 ])"
     },
     "execution_count": 166,
     "metadata": {},
     "output_type": "execute_result"
    }
   ],
   "source": [
    "df.loc[idx[slice(None), '2012-02-15'],]['cs_pctrank_ts_argmax5_closeadj'].unique()"
   ],
   "metadata": {
    "collapsed": false,
    "pycharm": {
     "name": "#%%\n"
    }
   }
  },
  {
   "cell_type": "code",
   "execution_count": 27,
   "outputs": [
    {
     "ename": "ValueError",
     "evalue": "NumPy boolean array indexing assignment cannot assign 122318 input values to the 55284 output values where the mask is true",
     "output_type": "error",
     "traceback": [
      "\u001B[0;31m---------------------------------------------------------------------------\u001B[0m",
      "\u001B[0;31mValueError\u001B[0m                                Traceback (most recent call last)",
      "Input \u001B[0;32mIn [27]\u001B[0m, in \u001B[0;36m<module>\u001B[0;34m\u001B[0m\n\u001B[1;32m      1\u001B[0m c \u001B[38;5;241m=\u001B[39m df\u001B[38;5;241m.\u001B[39mcloseadj\u001B[38;5;241m.\u001B[39mvalues\n\u001B[1;32m      2\u001B[0m r \u001B[38;5;241m=\u001B[39m df[\u001B[38;5;124m'\u001B[39m\u001B[38;5;124mts_ret_closeadj\u001B[39m\u001B[38;5;124m'\u001B[39m]\u001B[38;5;241m.\u001B[39mvalues\n\u001B[0;32m----> 3\u001B[0m c[r \u001B[38;5;241m<\u001B[39m \u001B[38;5;241m0\u001B[39m ] \u001B[38;5;241m=\u001B[39m df[\u001B[38;5;124m'\u001B[39m\u001B[38;5;124mts_std20_closeadj\u001B[39m\u001B[38;5;124m'\u001B[39m]\u001B[38;5;241m.\u001B[39mvalues\n",
      "\u001B[0;31mValueError\u001B[0m: NumPy boolean array indexing assignment cannot assign 122318 input values to the 55284 output values where the mask is true"
     ]
    }
   ],
   "source": [
    "c = df.closeadj.values\n",
    "r = df['ts_ret_closeadj'].values\n",
    "c[r < 0 ] = df['ts_std20_closeadj'].values"
   ],
   "metadata": {
    "collapsed": false,
    "pycharm": {
     "name": "#%%\n"
    }
   }
  },
  {
   "cell_type": "code",
   "execution_count": 29,
   "outputs": [
    {
     "data": {
      "text/plain": "array([23.882, 25.684, 25.776, ...,  2.43 ,  2.37 ,  2.36 ])"
     },
     "execution_count": 29,
     "metadata": {},
     "output_type": "execute_result"
    }
   ],
   "source": [
    "c[r < 0]"
   ],
   "metadata": {
    "collapsed": false,
    "pycharm": {
     "name": "#%%\n"
    }
   }
  },
  {
   "cell_type": "code",
   "execution_count": null,
   "outputs": [],
   "source": [],
   "metadata": {
    "collapsed": false,
    "pycharm": {
     "name": "#%%\n"
    }
   }
  }
 ],
 "metadata": {
  "kernelspec": {
   "display_name": "Python 3 (ipykernel)",
   "language": "python",
   "name": "python3"
  },
  "language_info": {
   "codemirror_mode": {
    "name": "ipython",
    "version": 3
   },
   "file_extension": ".py",
   "mimetype": "text/x-python",
   "name": "python",
   "nbconvert_exporter": "python",
   "pygments_lexer": "ipython3",
   "version": "3.9.7"
  }
 },
 "nbformat": 4,
 "nbformat_minor": 5
}