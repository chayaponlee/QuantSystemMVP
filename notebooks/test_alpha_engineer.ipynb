{
 "cells": [
  {
   "cell_type": "code",
   "execution_count": null,
   "outputs": [],
   "source": [
    "# df.loc[idx[slice(None), '2012-02-15'],]['cs_pctrank_ts_argmax5_closeadj'].unique()  -> for indexing multiindex"
   ],
   "metadata": {
    "collapsed": false,
    "pycharm": {
     "name": "#%%\n"
    }
   }
  },
  {
   "cell_type": "code",
   "execution_count": 12,
   "outputs": [
    {
     "data": {
      "text/plain": "list"
     },
     "execution_count": 12,
     "metadata": {},
     "output_type": "execute_result"
    }
   ],
   "source": [
    "listy = []\n",
    "type(listy)"
   ],
   "metadata": {
    "collapsed": false,
    "pycharm": {
     "name": "#%%\n"
    }
   }
  },
  {
   "cell_type": "code",
   "execution_count": 13,
   "id": "polish-negotiation",
   "metadata": {},
   "outputs": [],
   "source": [
    "import pandas as pd\n",
    "import nasdaqdatalink as ndl\n",
    "import json\n",
    "import numpy as np\n",
    "from typing import List, Callable, Dict\n",
    "from realgam.quantlib import general_utils as gu\n",
    "from realgam.quantlib.engineer.op_engineer_vect import OpEngineerV\n",
    "from realgam.quantlib.engineer.ta_engineer_vect import TalibEngineerV\n",
    "from realgam.quantlib.engineer.alpha_engineer_vect import AlphaEngineerV\n",
    "from realgam.quantlib.engineer.test_no_class import alpha001, ts_ret\n",
    "import talib\n",
    "from joblib import Parallel, delayed\n",
    "import datetime\n",
    "import os\n",
    "import time\n",
    "PROJECT_PATH = os.getenv('QuantSystemMVP')\n",
    "DATA_PATH = f'{PROJECT_PATH}/Data/historical/stock_hist_perma.obj'\n",
    "ENG_PATH = f'{PROJECT_PATH}/Data/engineered/e_alpha_20220401.obj'\n",
    "NDL_CONFIG_PATH = f'{PROJECT_PATH}/realgam/quantlib/nasdaq_dl_config.json'\n",
    "NDL_CONFIG = json.load(open(NDL_CONFIG_PATH))"
   ]
  },
  {
   "cell_type": "code",
   "execution_count": 18,
   "outputs": [],
   "source": [
    "data = ndl.get_table('SHARADAR/SEP', ticker='AAPL',\n",
    "                                     paginate=True, )"
   ],
   "metadata": {
    "collapsed": false,
    "pycharm": {
     "name": "#%%\n"
    }
   }
  },
  {
   "cell_type": "code",
   "execution_count": 19,
   "outputs": [
    {
     "data": {
      "text/plain": "     ticker       date     open     high      low    close       volume  \\\nNone                                                                      \n0      AAPL 2022-04-01  174.030  174.880  171.940  174.310   75755805.0   \n1      AAPL 2022-03-31  177.840  178.030  174.400  174.610   99941081.0   \n2      AAPL 2022-03-30  178.550  179.610  176.700  177.770   89592832.0   \n3      AAPL 2022-03-29  176.690  179.010  176.340  178.960   97849001.0   \n4      AAPL 2022-03-28  172.170  175.730  172.000  175.600   90059845.0   \n...     ...        ...      ...      ...      ...      ...          ...   \n2575   AAPL 2012-01-09   15.197   15.277   15.048   15.062  394024400.0   \n2576   AAPL 2012-01-06   14.992   15.098   14.972   15.086  318292800.0   \n2577   AAPL 2012-01-05   14.820   14.948   14.738   14.930  271269600.0   \n2578   AAPL 2012-01-04   14.643   14.810   14.617   14.766  260022000.0   \n2579   AAPL 2012-01-03   14.621   14.732   14.607   14.687  302220800.0   \n\n      closeadj  closeunadj lastupdated  \nNone                                    \n0      174.310      174.31  2022-04-01  \n1      174.610      174.61  2022-03-31  \n2      177.770      177.77  2022-03-30  \n3      178.960      178.96  2022-03-29  \n4      175.600      175.60  2022-03-28  \n...        ...         ...         ...  \n2575    12.895      421.73  2022-02-04  \n2576    12.916      422.40  2022-02-04  \n2577    12.782      418.03  2022-02-04  \n2578    12.642      413.44  2022-02-04  \n2579    12.574      411.23  2022-02-04  \n\n[2580 rows x 10 columns]",
      "text/html": "<div>\n<style scoped>\n    .dataframe tbody tr th:only-of-type {\n        vertical-align: middle;\n    }\n\n    .dataframe tbody tr th {\n        vertical-align: top;\n    }\n\n    .dataframe thead th {\n        text-align: right;\n    }\n</style>\n<table border=\"1\" class=\"dataframe\">\n  <thead>\n    <tr style=\"text-align: right;\">\n      <th></th>\n      <th>ticker</th>\n      <th>date</th>\n      <th>open</th>\n      <th>high</th>\n      <th>low</th>\n      <th>close</th>\n      <th>volume</th>\n      <th>closeadj</th>\n      <th>closeunadj</th>\n      <th>lastupdated</th>\n    </tr>\n    <tr>\n      <th>None</th>\n      <th></th>\n      <th></th>\n      <th></th>\n      <th></th>\n      <th></th>\n      <th></th>\n      <th></th>\n      <th></th>\n      <th></th>\n      <th></th>\n    </tr>\n  </thead>\n  <tbody>\n    <tr>\n      <th>0</th>\n      <td>AAPL</td>\n      <td>2022-04-01</td>\n      <td>174.030</td>\n      <td>174.880</td>\n      <td>171.940</td>\n      <td>174.310</td>\n      <td>75755805.0</td>\n      <td>174.310</td>\n      <td>174.31</td>\n      <td>2022-04-01</td>\n    </tr>\n    <tr>\n      <th>1</th>\n      <td>AAPL</td>\n      <td>2022-03-31</td>\n      <td>177.840</td>\n      <td>178.030</td>\n      <td>174.400</td>\n      <td>174.610</td>\n      <td>99941081.0</td>\n      <td>174.610</td>\n      <td>174.61</td>\n      <td>2022-03-31</td>\n    </tr>\n    <tr>\n      <th>2</th>\n      <td>AAPL</td>\n      <td>2022-03-30</td>\n      <td>178.550</td>\n      <td>179.610</td>\n      <td>176.700</td>\n      <td>177.770</td>\n      <td>89592832.0</td>\n      <td>177.770</td>\n      <td>177.77</td>\n      <td>2022-03-30</td>\n    </tr>\n    <tr>\n      <th>3</th>\n      <td>AAPL</td>\n      <td>2022-03-29</td>\n      <td>176.690</td>\n      <td>179.010</td>\n      <td>176.340</td>\n      <td>178.960</td>\n      <td>97849001.0</td>\n      <td>178.960</td>\n      <td>178.96</td>\n      <td>2022-03-29</td>\n    </tr>\n    <tr>\n      <th>4</th>\n      <td>AAPL</td>\n      <td>2022-03-28</td>\n      <td>172.170</td>\n      <td>175.730</td>\n      <td>172.000</td>\n      <td>175.600</td>\n      <td>90059845.0</td>\n      <td>175.600</td>\n      <td>175.60</td>\n      <td>2022-03-28</td>\n    </tr>\n    <tr>\n      <th>...</th>\n      <td>...</td>\n      <td>...</td>\n      <td>...</td>\n      <td>...</td>\n      <td>...</td>\n      <td>...</td>\n      <td>...</td>\n      <td>...</td>\n      <td>...</td>\n      <td>...</td>\n    </tr>\n    <tr>\n      <th>2575</th>\n      <td>AAPL</td>\n      <td>2012-01-09</td>\n      <td>15.197</td>\n      <td>15.277</td>\n      <td>15.048</td>\n      <td>15.062</td>\n      <td>394024400.0</td>\n      <td>12.895</td>\n      <td>421.73</td>\n      <td>2022-02-04</td>\n    </tr>\n    <tr>\n      <th>2576</th>\n      <td>AAPL</td>\n      <td>2012-01-06</td>\n      <td>14.992</td>\n      <td>15.098</td>\n      <td>14.972</td>\n      <td>15.086</td>\n      <td>318292800.0</td>\n      <td>12.916</td>\n      <td>422.40</td>\n      <td>2022-02-04</td>\n    </tr>\n    <tr>\n      <th>2577</th>\n      <td>AAPL</td>\n      <td>2012-01-05</td>\n      <td>14.820</td>\n      <td>14.948</td>\n      <td>14.738</td>\n      <td>14.930</td>\n      <td>271269600.0</td>\n      <td>12.782</td>\n      <td>418.03</td>\n      <td>2022-02-04</td>\n    </tr>\n    <tr>\n      <th>2578</th>\n      <td>AAPL</td>\n      <td>2012-01-04</td>\n      <td>14.643</td>\n      <td>14.810</td>\n      <td>14.617</td>\n      <td>14.766</td>\n      <td>260022000.0</td>\n      <td>12.642</td>\n      <td>413.44</td>\n      <td>2022-02-04</td>\n    </tr>\n    <tr>\n      <th>2579</th>\n      <td>AAPL</td>\n      <td>2012-01-03</td>\n      <td>14.621</td>\n      <td>14.732</td>\n      <td>14.607</td>\n      <td>14.687</td>\n      <td>302220800.0</td>\n      <td>12.574</td>\n      <td>411.23</td>\n      <td>2022-02-04</td>\n    </tr>\n  </tbody>\n</table>\n<p>2580 rows × 10 columns</p>\n</div>"
     },
     "execution_count": 19,
     "metadata": {},
     "output_type": "execute_result"
    }
   ],
   "source": [
    "data"
   ],
   "metadata": {
    "collapsed": false,
    "pycharm": {
     "name": "#%%\n"
    }
   }
  },
  {
   "cell_type": "code",
   "execution_count": 20,
   "id": "6dd18a8e-03d3-47ff-9e15-7825259fbf1c",
   "metadata": {
    "pycharm": {
     "name": "#%%\n"
    }
   },
   "outputs": [],
   "source": [
    "stocks_df, stocks_extended_df, available_tickers = gu.load_file(DATA_PATH)\n",
    "stacked_hist = stocks_df.copy()"
   ]
  },
  {
   "cell_type": "code",
   "execution_count": 8,
   "outputs": [],
   "source": [
    "eng = gu.load_file(ENG_PATH)"
   ],
   "metadata": {
    "collapsed": false,
    "pycharm": {
     "name": "#%%\n"
    }
   }
  },
  {
   "cell_type": "code",
   "execution_count": 4,
   "outputs": [],
   "source": [
    "tickers = stacked_hist.index.get_level_values('permaticker').unique()[:100]\n",
    "small_hist = stacked_hist[stacked_hist.index.isin(tickers, level='permaticker')]\n",
    "# small_hist = stacked_hist[stacked_hist.index.isin(tickers, level='permaticker')]\n",
    "A = stacked_hist[stacked_hist.index.isin(['A'], level='permaticker')]"
   ],
   "metadata": {
    "collapsed": false,
    "pycharm": {
     "name": "#%%\n"
    }
   }
  },
  {
   "cell_type": "code",
   "execution_count": 5,
   "outputs": [],
   "source": [
    "oe = OpEngineerV(small_hist)\n",
    "small_hist['retfwd'] = oe.ts_retfwd(n = 5)"
   ],
   "metadata": {
    "collapsed": false,
    "pycharm": {
     "name": "#%%\n"
    }
   }
  },
  {
   "cell_type": "code",
   "execution_count": 10,
   "outputs": [],
   "source": [
    "eng = eng.reindex(small_hist.index)"
   ],
   "metadata": {
    "collapsed": false,
    "pycharm": {
     "name": "#%%\n"
    }
   }
  },
  {
   "cell_type": "code",
   "execution_count": 22,
   "outputs": [
    {
     "data": {
      "text/plain": "Timestamp('2022-04-01 00:00:00')"
     },
     "execution_count": 22,
     "metadata": {},
     "output_type": "execute_result"
    }
   ],
   "source": [
    "stacked_hist = stacked_hist.reset_index()\n",
    "stacked_hist.date.max()"
   ],
   "metadata": {
    "collapsed": false,
    "pycharm": {
     "name": "#%%\n"
    }
   }
  },
  {
   "cell_type": "code",
   "execution_count": 17,
   "outputs": [
    {
     "data": {
      "text/plain": "Timestamp('2022-03-31 00:00:00')"
     },
     "execution_count": 17,
     "metadata": {},
     "output_type": "execute_result"
    }
   ],
   "source": [
    "small_hist.date.max()"
   ],
   "metadata": {
    "collapsed": false,
    "pycharm": {
     "name": "#%%\n"
    }
   }
  },
  {
   "cell_type": "code",
   "execution_count": null,
   "outputs": [],
   "source": [],
   "metadata": {
    "collapsed": false,
    "pycharm": {
     "name": "#%%\n"
    }
   }
  },
  {
   "cell_type": "code",
   "execution_count": 28,
   "outputs": [
    {
     "data": {
      "text/plain": "['194273',\n '192721',\n '199991',\n '116141',\n '171049',\n '633589',\n '199059',\n '199562',\n '186639',\n '199713',\n '199495',\n '113479',\n '120599',\n '197676',\n '193211',\n '196754',\n '199626',\n '198738',\n '198215',\n '124571',\n '198808',\n '198739',\n '199475',\n '632369',\n '199941',\n '198314',\n '196785',\n '192549',\n '124373',\n '198508',\n '199960',\n '193578',\n '192364',\n '632043',\n '633922',\n '638392',\n '197620',\n '190594',\n '123532',\n '199144',\n '198445',\n '110473',\n '199650',\n '636166',\n '195256',\n '124302',\n '198399',\n '194817',\n '124419',\n '199428',\n '634849',\n '199739',\n '635864',\n '119395',\n '187429',\n '116017',\n '194897',\n '198616',\n '110842',\n '193197',\n '198061',\n '193333',\n '631756',\n '198214',\n '110813',\n '198461',\n '187914',\n '197750',\n '194976',\n '634353',\n '199853',\n '156969',\n '636670',\n '196257',\n '179780',\n '195656',\n '194474',\n '192873',\n '199345',\n '115953',\n '111025',\n '192490',\n '199252',\n '194823',\n '192603',\n '108442',\n '197145',\n '195691',\n '199839',\n '116537',\n '199891',\n '199641',\n '197600',\n '197802',\n '199371',\n '187959',\n '195225',\n '189116',\n '199692',\n '178719',\n '199093',\n '187439',\n '631067',\n '638393',\n '632953',\n '197197',\n '196066',\n '198169',\n '199137',\n '199948',\n '121755',\n '635766',\n '199270',\n '168145',\n '110037',\n '631233',\n '199725',\n '194744',\n '193651',\n '199860',\n '193448',\n '114216',\n '192581',\n '111128',\n '116218',\n '631102',\n '632805',\n '199327',\n '632803',\n '187501',\n '165475',\n '199791',\n '121837',\n '197859',\n '197591',\n '199730',\n '197692',\n '196629',\n '165453',\n '124114',\n '199721',\n '198066',\n '196626',\n '110742',\n '199746',\n '195649',\n '195674',\n '198331',\n '193488',\n '199665',\n '187803',\n '631561',\n '199727',\n '121693',\n '192545',\n '631787',\n '197482',\n '195335',\n '194094',\n '198174',\n '110959',\n '124697',\n '196195',\n '199233',\n '124182',\n '196489',\n '631597',\n '195694',\n '157178',\n '196115',\n '192870',\n '195149',\n '194557',\n '115680',\n '123784',\n '196967',\n '632764',\n '635979',\n '199336',\n '196779',\n '193960',\n '195175',\n '195734',\n '199185',\n '632647',\n '199836',\n '198229',\n '198642',\n '193559',\n '199262',\n '199546',\n '191779',\n '197439',\n '187712',\n '194440',\n '196296',\n '197533',\n '115966',\n '124726',\n '189782',\n '195534',\n '124314',\n '194684',\n '198839',\n '110723',\n '196184',\n '115431',\n '199337',\n '199335',\n '196078',\n '123537',\n '199482',\n '197732',\n '110518',\n '631956',\n '191787',\n '199060',\n '631977',\n '631940',\n '199196',\n '124392',\n '199411',\n '199172',\n '191883',\n '193811',\n '199688',\n '631055',\n '199208',\n '198999',\n '187418',\n '635360',\n '194504',\n '123779',\n '195053',\n '198615',\n '194376',\n '187530',\n '192420',\n '110801',\n '197806',\n '194896',\n '194726',\n '124520',\n '634375',\n '196651',\n '196438',\n '195276',\n '193542',\n '198503',\n '187866',\n '199952',\n '196550',\n '638391',\n '113480',\n '199900',\n '110595',\n '199568',\n '111208',\n '196170',\n '110669',\n '199212',\n '165518',\n '199823',\n '197020',\n '199389',\n '199289',\n '198953',\n '197941',\n '121834',\n '195045',\n '198003',\n '111638',\n '170416',\n '124262',\n '196547',\n '194112',\n '113508',\n '199675',\n '123681',\n '167235',\n '632013',\n '198080',\n '198241',\n '199997',\n '634283',\n '196495',\n '197590',\n '194111',\n '111070',\n '196584',\n '199588',\n '195907',\n '191094',\n '111109',\n '187699',\n '119465',\n '195192',\n '196912',\n '110954',\n '196523',\n '197930',\n '193217',\n '196179',\n '193845',\n '196654',\n '632784',\n '199623',\n '194405',\n '192745',\n '196291',\n '121823',\n '124371',\n '635931',\n '637706',\n '636650',\n '194851',\n '194449',\n '199804',\n '110725',\n '199705',\n '187810',\n '195819',\n '197898',\n '197664',\n '119313',\n '195805',\n '199966',\n '198116',\n '198850',\n '195852',\n '196052',\n '157136',\n '195279',\n '197616',\n '123548',\n '635154',\n '636661',\n '632745',\n '198326',\n '197856',\n '126929',\n '123160',\n '199251',\n '195081',\n '178047',\n '199216',\n '195156',\n '632394',\n '120812',\n '197459',\n '199811',\n '110690',\n '198273',\n '632370',\n '110553',\n '120227',\n '194766',\n '124186',\n '110540',\n '199099',\n '124196',\n '193215',\n '196717',\n '196024',\n '187636',\n '197539',\n '195154',\n '199460',\n '116019',\n '197792',\n '124782',\n '199122',\n '111061',\n '192646',\n '124319',\n '111624',\n '631759',\n '631661',\n '196889',\n '196907',\n '119315',\n '198782',\n '110534',\n '198397',\n '197852',\n '180157',\n '632044',\n '632652',\n '195254',\n '187488',\n '199684',\n '124679',\n '199795',\n '124221',\n '192106',\n '123544',\n '199433',\n '119495',\n '165462',\n '199910',\n '124776',\n '194913',\n '199714',\n '199619',\n '193892',\n '199526',\n '191389',\n '110740',\n '636229',\n '119398',\n '195570',\n '193028',\n '199425',\n '196999',\n '194768',\n '193490',\n '631078',\n '199575',\n '632737',\n '120881',\n '195477',\n '110746',\n '124264',\n '110600',\n '631216',\n '635610',\n '198487',\n '632600',\n '634771',\n '121793',\n '631990',\n '631747',\n '197651',\n '184017',\n '198613',\n '199958',\n '638082',\n '124267',\n '191374',\n '632075',\n '198455',\n '196816',\n '124117',\n '631143',\n '123161',\n '196757',\n '197799',\n '197990',\n '197029',\n '197257',\n '197378',\n '192111',\n '631832',\n '635703',\n '196723',\n '187757',\n '199825',\n '114232',\n '199557',\n '197445',\n '198109',\n '110383',\n '198471',\n '195056',\n '110958',\n '631871',\n '199944',\n '632050',\n '110800',\n '199776',\n '198763',\n '121833',\n '192368',\n '198869',\n '124162',\n '199307',\n '187958',\n '198450',\n '197414',\n '121757',\n '123654',\n '190314',\n '195587',\n '199929',\n '193935',\n '197196',\n '198883',\n '636114',\n '198602',\n '199971',\n '124628',\n '632730',\n '636259',\n '196496',\n '197996',\n '199869',\n '199477',\n '110007',\n '124118',\n '119327',\n '197567',\n '195275',\n '119344',\n '632035',\n '192881',\n '193748',\n '634663',\n '199972',\n '197822',\n '199077',\n '197758',\n '193628',\n '110006',\n '113620',\n '111116',\n '636228',\n '198551',\n '198716',\n '631650',\n '198886',\n '197200',\n '194427',\n '122816',\n '196162',\n '199238',\n '199195',\n '187426',\n '198313',\n '631187',\n '191501',\n '193221',\n '189743',\n '195228',\n '632418',\n '633956',\n '196432',\n '197790',\n '110757',\n '197559',\n '199753',\n '193833',\n '190485',\n '631165',\n '636180',\n '199621',\n '111093',\n '635583',\n '195665',\n '198952',\n '194807',\n '199685',\n '632454',\n '111117',\n '194193',\n '197842',\n '198744',\n '110994',\n '111125',\n '199481',\n '197828',\n '124192',\n '198804',\n '194830',\n '632046',\n '114826',\n '197706',\n '116126',\n '191285',\n '198010',\n '194072',\n '124327',\n '634643',\n '198566',\n '197644',\n '198278',\n '199469',\n '124322',\n '197769',\n '157009',\n '197918',\n '195962',\n '165511',\n '194523',\n '193055',\n '193751',\n '199527',\n '199461',\n '124159',\n '198895',\n '634957',\n '195568',\n '198439',\n '120342',\n '199969',\n '196074',\n '199917',\n '197070',\n '197231',\n '110355',\n '637462',\n '198685',\n '124399',\n '197920',\n '192293',\n '199979',\n '124116',\n '198512',\n '632623',\n '199937',\n '631545',\n '199788',\n '198290',\n '631975',\n '632015',\n '199535',\n '196482',\n '631766',\n '199981',\n '187888',\n '191882',\n '197931',\n '194410',\n '196633',\n '193203',\n '187863',\n '196890',\n '110695',\n '199693',\n '633110',\n '631180',\n '157005',\n '195994',\n '187585',\n '199321',\n '199576',\n '194816',\n '191666',\n '121801',\n '199767',\n '196837',\n '196974',\n '631868',\n '635290',\n '110670',\n '194604',\n '196783',\n '193243',\n '110628',\n '197784',\n '198055',\n '196988',\n '197665',\n '120653',\n '110348',\n '199552',\n '198302',\n '635495',\n '199601',\n '196624',\n '638382',\n '632364',\n '185785',\n '198925',\n '197175',\n '187749',\n '116134',\n '198823',\n '192615',\n '632576',\n '632077',\n '121821',\n '198955',\n '199556',\n '631776',\n '195835',\n '199451',\n '199324',\n '198597',\n '376609',\n '636569',\n '194126',\n '195522',\n '197900',\n '199762',\n '198242',\n '199774',\n '197807',\n '199517',\n '177278',\n '637163',\n '199645',\n '198832',\n '199306',\n '121744',\n '632713',\n '194342',\n '197593',\n '199928',\n '124128',\n '193694',\n '116467',\n '632014',\n '195243',\n '631068',\n '196730',\n '186940',\n '195760',\n '111173',\n '110693',\n '124344',\n '196724',\n '197736',\n '631057',\n '197010',\n '199877',\n '183371',\n '119239',\n '120790',\n '631609',\n '199254',\n '124254',\n '199553',\n '187890',\n '199084',\n '192254',\n '199768',\n '185890',\n '192388',\n '199200',\n '192358',\n '632463',\n '197297',\n '193240',\n '197808',\n '110627',\n '198301',\n '635959',\n '187108',\n '191804',\n '194849',\n '124251',\n '192041',\n '193597',\n '192339',\n '165517',\n '197000',\n '110084',\n '123184',\n '156860',\n '634784',\n '196503',\n '633292',\n '634009',\n '195842',\n '199419',\n '195538',\n '199580',\n '111203',\n '199976',\n '110555',\n '187720',\n '199421',\n '631819',\n '192517',\n '194413',\n '636462',\n '192287',\n '120814',\n '194989',\n '196333',\n '157061',\n '124222',\n '191539',\n '635878',\n '111033',\n '192960',\n '199381',\n '199410',\n '119285',\n '124730',\n '194186',\n '191531',\n '194735',\n '197507',\n '635014',\n '631590',\n '631098',\n '199551',\n '121812',\n '116018',\n '631231',\n '199494',\n '199426',\n '197289',\n '197606',\n '195961',\n '124206',\n '197500',\n '187881',\n '199902',\n '195368',\n '194496',\n '199271',\n '199977',\n '192206',\n '110554',\n '198366',\n '636896',\n '111591',\n '119345',\n '632706',\n '632624',\n '199478',\n '198681',\n '633457',\n '195100',\n '632076',\n '187928',\n '124252',\n '632006',\n '196669',\n '199086',\n '111618',\n '199341',\n '110003',\n '109133',\n '197188',\n '193427',\n '197309',\n '194690',\n '195853',\n '193149',\n '633871',\n '635319',\n '124701',\n '191637',\n '197294',\n '197716',\n '198260',\n '123157',\n '199797',\n '634780',\n '124121',\n '198600',\n '121739',\n '198651',\n '196108',\n '197608',\n '631175',\n '196997',\n '198962',\n '192178',\n '199660',\n '634437',\n '199167',\n '196561',\n '165493',\n '191664',\n '632479',\n '110999',\n '196145',\n '124689',\n '120528',\n '632654',\n '192935',\n '124454',\n '186843',\n '632689',\n '121815',\n '197026',\n '195973',\n '165482',\n '193860',\n '111118',\n '197373',\n '198868',\n '194136',\n '199781',\n '193830',\n '197940',\n '195838',\n '199593',\n '197305',\n '192978',\n '198801',\n '195621',\n '192644',\n '199647',\n '194590',\n '187737',\n '199567',\n '187579',\n '198340',\n '121773',\n '197580',\n '198929',\n '113512',\n '110656',\n '191952',\n '121789',\n '110612',\n '124343',\n '196901',\n '199558',\n '632009',\n '199435',\n '196494',\n '198464',\n '199109',\n '114573',\n '187768',\n '197657',\n '113554',\n '110144',\n '196576',\n '197897',\n '199989',\n '195920',\n '119466',\n '196885',\n '110865',\n '196290',\n '186763',\n '116468',\n '110186',\n '120658',\n '636549',\n '119276',\n '199490',\n '120879',\n '187845',\n '632990',\n '193368',\n '119847',\n '198336',\n '635530',\n '120880',\n '636605',\n '198139',\n '634419',\n '195843',\n '631531',\n '635528',\n '197570',\n '194889',\n '157139',\n '199047',\n '121760',\n '197617',\n '110543',\n '156892',\n '124166',\n '195267',\n '156955',\n '123678',\n '636303',\n '193695',\n '635373',\n '199292',\n '198859',\n '193088',\n '197693',\n '198536',\n '194461',\n '195902',\n '635892',\n '187449',\n '198830',\n '191866',\n '196457',\n '197647',\n '198177',\n '196694',\n '199841',\n '111090',\n '198416',\n '120578',\n '124525',\n '635557',\n '631559',\n '195762',\n '632029',\n '110688',\n '191685',\n '632968',\n '193662',\n '197303',\n '199357',\n '632729',\n '110132',\n '199965',\n '196308',\n '632761',\n '124388',\n '194189',\n '157160',\n '194107',\n '110316',\n '196107',\n '199909']"
     },
     "execution_count": 28,
     "metadata": {},
     "output_type": "execute_result"
    }
   ],
   "source": [
    "latest = stacked_hist[stacked_hist.date == pd.to_datetime('2022-04-01')]\n",
    "list(latest.reindex(latest.volume.nlargest(1000).index).permaticker)"
   ],
   "metadata": {
    "collapsed": false,
    "pycharm": {
     "name": "#%%\n"
    }
   }
  },
  {
   "cell_type": "code",
   "execution_count": 28,
   "outputs": [
    {
     "name": "stdout",
     "output_type": "stream",
     "text": [
      "Total time: 1.3742468357086182 sec\n"
     ]
    }
   ],
   "source": [
    "\n",
    "# dummy = ae.alpha7().reindex(small_hist.index)\n",
    "s_time_chunk = time.time()\n",
    "small_hist['alpha7'] = ae.alpha7().reindex(small_hist.index).values\n",
    "e_time_chunk = time.time()\n",
    "print(f\"Total time: {e_time_chunk - s_time_chunk} sec\")"
   ],
   "metadata": {
    "collapsed": false,
    "pycharm": {
     "name": "#%%\n"
    }
   }
  },
  {
   "cell_type": "code",
   "execution_count": 29,
   "outputs": [
    {
     "name": "stdout",
     "output_type": "stream",
     "text": [
      "Total time: 1.309342861175537 sec\n"
     ]
    }
   ],
   "source": [
    "s_time_chunk = time.time()\n",
    "small_hist['alpha7'] = ae.alpha7()\n",
    "e_time_chunk = time.time()\n",
    "print(f\"Total time: {e_time_chunk - s_time_chunk} sec\")"
   ],
   "metadata": {
    "collapsed": false,
    "pycharm": {
     "name": "#%%\n"
    }
   }
  },
  {
   "cell_type": "code",
   "execution_count": 26,
   "outputs": [
    {
     "data": {
      "text/plain": "                       ticker   open   high    low  close  openadj  highadj  \\\npermaticker date                                                              \n101501      2012-01-03  BBUCQ   0.03   0.03   0.03   0.03     0.03     0.03   \n            2012-01-04  BBUCQ   0.03   0.03   0.03   0.03     0.03     0.03   \n            2012-01-05  BBUCQ   0.03   0.03   0.03   0.03     0.03     0.03   \n            2012-01-06  BBUCQ   0.03   0.03   0.03   0.03     0.03     0.03   \n            2012-01-09  BBUCQ   0.03   0.03   0.03   0.03     0.03     0.03   \n...                       ...    ...    ...    ...    ...      ...      ...   \n110110      2022-03-22   RVMD  21.92  23.90  21.45  23.42    21.92    23.90   \n            2022-03-23   RVMD  23.07  24.20  22.51  24.00    23.07    24.20   \n            2022-03-24   RVMD  24.03  24.92  23.83  24.69    24.03    24.92   \n            2022-03-25   RVMD  25.40  25.96  23.87  24.33    25.40    25.96   \n            2022-03-28   RVMD  24.14  24.91  24.14  24.67    24.14    24.91   \n\n                        lowadj  closeadj    volume  alpha7  \npermaticker date                                            \n101501      2012-01-03    0.03      0.03       0.0     NaN  \n            2012-01-04    0.03      0.03       0.0     NaN  \n            2012-01-05    0.03      0.03       0.0     NaN  \n            2012-01-06    0.03      0.03       0.0     NaN  \n            2012-01-09    0.03      0.03       0.0     NaN  \n...                        ...       ...       ...     ...  \n110110      2022-03-22   21.45     23.42  985655.0   -57.0  \n            2022-03-23   22.51     24.00  708893.0   -59.0  \n            2022-03-24   23.83     24.69  523315.0    -1.0  \n            2022-03-25   23.87     24.33  877947.0   -57.0  \n            2022-03-28   24.14     24.67  420701.0    -1.0  \n\n[112505 rows x 11 columns]",
      "text/html": "<div>\n<style scoped>\n    .dataframe tbody tr th:only-of-type {\n        vertical-align: middle;\n    }\n\n    .dataframe tbody tr th {\n        vertical-align: top;\n    }\n\n    .dataframe thead th {\n        text-align: right;\n    }\n</style>\n<table border=\"1\" class=\"dataframe\">\n  <thead>\n    <tr style=\"text-align: right;\">\n      <th></th>\n      <th></th>\n      <th>ticker</th>\n      <th>open</th>\n      <th>high</th>\n      <th>low</th>\n      <th>close</th>\n      <th>openadj</th>\n      <th>highadj</th>\n      <th>lowadj</th>\n      <th>closeadj</th>\n      <th>volume</th>\n      <th>alpha7</th>\n    </tr>\n    <tr>\n      <th>permaticker</th>\n      <th>date</th>\n      <th></th>\n      <th></th>\n      <th></th>\n      <th></th>\n      <th></th>\n      <th></th>\n      <th></th>\n      <th></th>\n      <th></th>\n      <th></th>\n      <th></th>\n    </tr>\n  </thead>\n  <tbody>\n    <tr>\n      <th rowspan=\"5\" valign=\"top\">101501</th>\n      <th>2012-01-03</th>\n      <td>BBUCQ</td>\n      <td>0.03</td>\n      <td>0.03</td>\n      <td>0.03</td>\n      <td>0.03</td>\n      <td>0.03</td>\n      <td>0.03</td>\n      <td>0.03</td>\n      <td>0.03</td>\n      <td>0.0</td>\n      <td>NaN</td>\n    </tr>\n    <tr>\n      <th>2012-01-04</th>\n      <td>BBUCQ</td>\n      <td>0.03</td>\n      <td>0.03</td>\n      <td>0.03</td>\n      <td>0.03</td>\n      <td>0.03</td>\n      <td>0.03</td>\n      <td>0.03</td>\n      <td>0.03</td>\n      <td>0.0</td>\n      <td>NaN</td>\n    </tr>\n    <tr>\n      <th>2012-01-05</th>\n      <td>BBUCQ</td>\n      <td>0.03</td>\n      <td>0.03</td>\n      <td>0.03</td>\n      <td>0.03</td>\n      <td>0.03</td>\n      <td>0.03</td>\n      <td>0.03</td>\n      <td>0.03</td>\n      <td>0.0</td>\n      <td>NaN</td>\n    </tr>\n    <tr>\n      <th>2012-01-06</th>\n      <td>BBUCQ</td>\n      <td>0.03</td>\n      <td>0.03</td>\n      <td>0.03</td>\n      <td>0.03</td>\n      <td>0.03</td>\n      <td>0.03</td>\n      <td>0.03</td>\n      <td>0.03</td>\n      <td>0.0</td>\n      <td>NaN</td>\n    </tr>\n    <tr>\n      <th>2012-01-09</th>\n      <td>BBUCQ</td>\n      <td>0.03</td>\n      <td>0.03</td>\n      <td>0.03</td>\n      <td>0.03</td>\n      <td>0.03</td>\n      <td>0.03</td>\n      <td>0.03</td>\n      <td>0.03</td>\n      <td>0.0</td>\n      <td>NaN</td>\n    </tr>\n    <tr>\n      <th>...</th>\n      <th>...</th>\n      <td>...</td>\n      <td>...</td>\n      <td>...</td>\n      <td>...</td>\n      <td>...</td>\n      <td>...</td>\n      <td>...</td>\n      <td>...</td>\n      <td>...</td>\n      <td>...</td>\n      <td>...</td>\n    </tr>\n    <tr>\n      <th rowspan=\"5\" valign=\"top\">110110</th>\n      <th>2022-03-22</th>\n      <td>RVMD</td>\n      <td>21.92</td>\n      <td>23.90</td>\n      <td>21.45</td>\n      <td>23.42</td>\n      <td>21.92</td>\n      <td>23.90</td>\n      <td>21.45</td>\n      <td>23.42</td>\n      <td>985655.0</td>\n      <td>-57.0</td>\n    </tr>\n    <tr>\n      <th>2022-03-23</th>\n      <td>RVMD</td>\n      <td>23.07</td>\n      <td>24.20</td>\n      <td>22.51</td>\n      <td>24.00</td>\n      <td>23.07</td>\n      <td>24.20</td>\n      <td>22.51</td>\n      <td>24.00</td>\n      <td>708893.0</td>\n      <td>-59.0</td>\n    </tr>\n    <tr>\n      <th>2022-03-24</th>\n      <td>RVMD</td>\n      <td>24.03</td>\n      <td>24.92</td>\n      <td>23.83</td>\n      <td>24.69</td>\n      <td>24.03</td>\n      <td>24.92</td>\n      <td>23.83</td>\n      <td>24.69</td>\n      <td>523315.0</td>\n      <td>-1.0</td>\n    </tr>\n    <tr>\n      <th>2022-03-25</th>\n      <td>RVMD</td>\n      <td>25.40</td>\n      <td>25.96</td>\n      <td>23.87</td>\n      <td>24.33</td>\n      <td>25.40</td>\n      <td>25.96</td>\n      <td>23.87</td>\n      <td>24.33</td>\n      <td>877947.0</td>\n      <td>-57.0</td>\n    </tr>\n    <tr>\n      <th>2022-03-28</th>\n      <td>RVMD</td>\n      <td>24.14</td>\n      <td>24.91</td>\n      <td>24.14</td>\n      <td>24.67</td>\n      <td>24.14</td>\n      <td>24.91</td>\n      <td>24.14</td>\n      <td>24.67</td>\n      <td>420701.0</td>\n      <td>-1.0</td>\n    </tr>\n  </tbody>\n</table>\n<p>112505 rows × 11 columns</p>\n</div>"
     },
     "execution_count": 26,
     "metadata": {},
     "output_type": "execute_result"
    }
   ],
   "source": [
    "small_hist"
   ],
   "metadata": {
    "collapsed": false,
    "pycharm": {
     "name": "#%%\n"
    }
   }
  },
  {
   "cell_type": "code",
   "execution_count": 31,
   "outputs": [],
   "source": [
    "PRIMARY_KEY = 'permaticker'\n",
    "n_std = 20\n",
    "n_ts_arg_max = 5\n",
    "df = small_hist.copy()[['closeadj']]\n",
    "close = df['closeadj'].unstack(PRIMARY_KEY)\n",
    "oe = OpEngineerV(df)\n",
    "returns = oe.ts_ret('closeadj', wide=True)\n",
    "\n",
    "std = oe.ts_std('closeadj', n_std, wide=True)\n",
    "close[returns < 0] = oe.ts_std('closeadj', n_std, wide=True)\n",
    "close[std.isnull()] = np.nan\n",
    "close[returns.isnull()] = np.nan\n",
    "df['closeadj_square'] = np.power(close, 2).stack().swaplevel()\n",
    "oe.set_df(df)\n",
    "oe.ts_argmax('closeadj_square', n_ts_arg_max, inplace=True)\n",
    "alpha_values = oe.cs_pctrank(f'ts_argmax{n_ts_arg_max}_closeadj_square', wide=True).mul(\n",
    "-.5).stack().swaplevel()"
   ],
   "metadata": {
    "collapsed": false,
    "pycharm": {
     "name": "#%%\n"
    }
   }
  },
  {
   "cell_type": "code",
   "execution_count": 34,
   "outputs": [],
   "source": [
    "df['a'] = alpha_values"
   ],
   "metadata": {
    "collapsed": false,
    "pycharm": {
     "name": "#%%\n"
    }
   }
  },
  {
   "cell_type": "code",
   "execution_count": 35,
   "outputs": [
    {
     "data": {
      "text/plain": "                        closeadj  closeadj_square    a\npermaticker date                                      \n199059      2012-01-03    12.574              NaN  NaN\n            2012-01-04    12.642              NaN  NaN\n            2012-01-05    12.782              NaN  NaN\n            2012-01-06    12.916              NaN  NaN\n            2012-01-09    12.895              NaN  NaN\n...                          ...              ...  ...\n            2022-03-21   165.380       27350.5444 -0.5\n            2022-03-22   168.820       28500.1924 -0.5\n            2022-03-23   170.210       28971.4441 -0.5\n            2022-03-24   174.070       30300.3649 -0.5\n            2022-03-25   174.720       30527.0784 -0.5\n\n[2575 rows x 3 columns]",
      "text/html": "<div>\n<style scoped>\n    .dataframe tbody tr th:only-of-type {\n        vertical-align: middle;\n    }\n\n    .dataframe tbody tr th {\n        vertical-align: top;\n    }\n\n    .dataframe thead th {\n        text-align: right;\n    }\n</style>\n<table border=\"1\" class=\"dataframe\">\n  <thead>\n    <tr style=\"text-align: right;\">\n      <th></th>\n      <th></th>\n      <th>closeadj</th>\n      <th>closeadj_square</th>\n      <th>a</th>\n    </tr>\n    <tr>\n      <th>permaticker</th>\n      <th>date</th>\n      <th></th>\n      <th></th>\n      <th></th>\n    </tr>\n  </thead>\n  <tbody>\n    <tr>\n      <th rowspan=\"11\" valign=\"top\">199059</th>\n      <th>2012-01-03</th>\n      <td>12.574</td>\n      <td>NaN</td>\n      <td>NaN</td>\n    </tr>\n    <tr>\n      <th>2012-01-04</th>\n      <td>12.642</td>\n      <td>NaN</td>\n      <td>NaN</td>\n    </tr>\n    <tr>\n      <th>2012-01-05</th>\n      <td>12.782</td>\n      <td>NaN</td>\n      <td>NaN</td>\n    </tr>\n    <tr>\n      <th>2012-01-06</th>\n      <td>12.916</td>\n      <td>NaN</td>\n      <td>NaN</td>\n    </tr>\n    <tr>\n      <th>2012-01-09</th>\n      <td>12.895</td>\n      <td>NaN</td>\n      <td>NaN</td>\n    </tr>\n    <tr>\n      <th>...</th>\n      <td>...</td>\n      <td>...</td>\n      <td>...</td>\n    </tr>\n    <tr>\n      <th>2022-03-21</th>\n      <td>165.380</td>\n      <td>27350.5444</td>\n      <td>-0.5</td>\n    </tr>\n    <tr>\n      <th>2022-03-22</th>\n      <td>168.820</td>\n      <td>28500.1924</td>\n      <td>-0.5</td>\n    </tr>\n    <tr>\n      <th>2022-03-23</th>\n      <td>170.210</td>\n      <td>28971.4441</td>\n      <td>-0.5</td>\n    </tr>\n    <tr>\n      <th>2022-03-24</th>\n      <td>174.070</td>\n      <td>30300.3649</td>\n      <td>-0.5</td>\n    </tr>\n    <tr>\n      <th>2022-03-25</th>\n      <td>174.720</td>\n      <td>30527.0784</td>\n      <td>-0.5</td>\n    </tr>\n  </tbody>\n</table>\n<p>2575 rows × 3 columns</p>\n</div>"
     },
     "execution_count": 35,
     "metadata": {},
     "output_type": "execute_result"
    }
   ],
   "source": [
    "df"
   ],
   "metadata": {
    "collapsed": false,
    "pycharm": {
     "name": "#%%\n"
    }
   }
  },
  {
   "cell_type": "code",
   "execution_count": 10,
   "outputs": [
    {
     "data": {
      "text/plain": "permaticker   199059\ndate                \n2012-01-03    12.574\n2012-01-04    12.642\n2012-01-05    12.782\n2012-01-06    12.916\n2012-01-09    12.895\n...              ...\n2022-03-21   165.380\n2022-03-22   168.820\n2022-03-23   170.210\n2022-03-24   174.070\n2022-03-25   174.720\n\n[2575 rows x 1 columns]",
      "text/html": "<div>\n<style scoped>\n    .dataframe tbody tr th:only-of-type {\n        vertical-align: middle;\n    }\n\n    .dataframe tbody tr th {\n        vertical-align: top;\n    }\n\n    .dataframe thead th {\n        text-align: right;\n    }\n</style>\n<table border=\"1\" class=\"dataframe\">\n  <thead>\n    <tr style=\"text-align: right;\">\n      <th>permaticker</th>\n      <th>199059</th>\n    </tr>\n    <tr>\n      <th>date</th>\n      <th></th>\n    </tr>\n  </thead>\n  <tbody>\n    <tr>\n      <th>2012-01-03</th>\n      <td>12.574</td>\n    </tr>\n    <tr>\n      <th>2012-01-04</th>\n      <td>12.642</td>\n    </tr>\n    <tr>\n      <th>2012-01-05</th>\n      <td>12.782</td>\n    </tr>\n    <tr>\n      <th>2012-01-06</th>\n      <td>12.916</td>\n    </tr>\n    <tr>\n      <th>2012-01-09</th>\n      <td>12.895</td>\n    </tr>\n    <tr>\n      <th>...</th>\n      <td>...</td>\n    </tr>\n    <tr>\n      <th>2022-03-21</th>\n      <td>165.380</td>\n    </tr>\n    <tr>\n      <th>2022-03-22</th>\n      <td>168.820</td>\n    </tr>\n    <tr>\n      <th>2022-03-23</th>\n      <td>170.210</td>\n    </tr>\n    <tr>\n      <th>2022-03-24</th>\n      <td>174.070</td>\n    </tr>\n    <tr>\n      <th>2022-03-25</th>\n      <td>174.720</td>\n    </tr>\n  </tbody>\n</table>\n<p>2575 rows × 1 columns</p>\n</div>"
     },
     "execution_count": 10,
     "metadata": {},
     "output_type": "execute_result"
    }
   ],
   "source": [
    "df['closeadj'].unstack(PRIMARY_KEY)"
   ],
   "metadata": {
    "collapsed": false,
    "pycharm": {
     "name": "#%%\n"
    }
   }
  },
  {
   "cell_type": "code",
   "execution_count": 4,
   "outputs": [],
   "source": [
    "n_adv = 20\n",
    "PRIMARY_KEY = 'permaticker'\n",
    "n_delta = 7\n",
    "n_ts_rank = 60\n",
    "df = small_hist.copy()[['closeadj', 'volume']]\n",
    "# df['alpha'] = -1\n",
    "\n",
    "tae = TalibEngineerV(df)\n",
    "adv = tae.adv(n_adv, wide=True)\n",
    "volume = df['volume'].unstack(PRIMARY_KEY)\n",
    "\n",
    "oe = OpEngineerV(df)\n",
    "\n",
    "df[f'ts_delta{n_delta}_closeadj'] = oe.ts_delta('closeadj', n_delta)\n",
    "#\n",
    "df[f'ts_delta{n_delta}_closeadj_abs'] = df[f'ts_delta{n_delta}_closeadj'].abs()\n",
    "#\n",
    "oe.set_df(df)\n",
    "#\n",
    "# term_2 = oe.ts_delta(close, 7)\n",
    "term_2 = df[f'ts_delta{n_delta}_closeadj'].unstack(PRIMARY_KEY)\n",
    "#\n",
    "# alpha_values = -1 * oe.ts_rank(f'ts_delta{n_delta}_closeadj_abs', n_ts_rank, wide=True).mul(\n",
    "#     np.sign(term_2)).where(adv < volume).stack().swaplevel()"
   ],
   "metadata": {
    "collapsed": false,
    "pycharm": {
     "name": "#%%\n"
    }
   }
  },
  {
   "cell_type": "code",
   "execution_count": 5,
   "outputs": [
    {
     "data": {
      "text/plain": "permaticker  199059\ndate               \n2012-01-03      NaN\n2012-01-04      NaN\n2012-01-05      NaN\n2012-01-06      NaN\n2012-01-09      NaN\n...             ...\n2022-03-21    -31.0\n2022-03-22    -57.0\n2022-03-23    -59.0\n2022-03-24    -58.0\n2022-03-25    -56.0\n\n[2575 rows x 1 columns]",
      "text/html": "<div>\n<style scoped>\n    .dataframe tbody tr th:only-of-type {\n        vertical-align: middle;\n    }\n\n    .dataframe tbody tr th {\n        vertical-align: top;\n    }\n\n    .dataframe thead th {\n        text-align: right;\n    }\n</style>\n<table border=\"1\" class=\"dataframe\">\n  <thead>\n    <tr style=\"text-align: right;\">\n      <th>permaticker</th>\n      <th>199059</th>\n    </tr>\n    <tr>\n      <th>date</th>\n      <th></th>\n    </tr>\n  </thead>\n  <tbody>\n    <tr>\n      <th>2012-01-03</th>\n      <td>NaN</td>\n    </tr>\n    <tr>\n      <th>2012-01-04</th>\n      <td>NaN</td>\n    </tr>\n    <tr>\n      <th>2012-01-05</th>\n      <td>NaN</td>\n    </tr>\n    <tr>\n      <th>2012-01-06</th>\n      <td>NaN</td>\n    </tr>\n    <tr>\n      <th>2012-01-09</th>\n      <td>NaN</td>\n    </tr>\n    <tr>\n      <th>...</th>\n      <td>...</td>\n    </tr>\n    <tr>\n      <th>2022-03-21</th>\n      <td>-31.0</td>\n    </tr>\n    <tr>\n      <th>2022-03-22</th>\n      <td>-57.0</td>\n    </tr>\n    <tr>\n      <th>2022-03-23</th>\n      <td>-59.0</td>\n    </tr>\n    <tr>\n      <th>2022-03-24</th>\n      <td>-58.0</td>\n    </tr>\n    <tr>\n      <th>2022-03-25</th>\n      <td>-56.0</td>\n    </tr>\n  </tbody>\n</table>\n<p>2575 rows × 1 columns</p>\n</div>"
     },
     "execution_count": 5,
     "metadata": {},
     "output_type": "execute_result"
    }
   ],
   "source": [
    "-1 * oe.ts_rank(f'ts_delta{n_delta}_closeadj_abs', n_ts_rank, wide=True).mul(\n",
    "    np.sign(term_2))"
   ],
   "metadata": {
    "collapsed": false,
    "pycharm": {
     "name": "#%%\n"
    }
   }
  },
  {
   "cell_type": "code",
   "execution_count": 85,
   "outputs": [],
   "source": [
    "a1 = -oe.ts_rank(f'ts_delta{n_delta}_closeadj_abs', n_ts_rank, wide=True).mul(\n",
    "    np.sign(term_2))\n",
    "cond = a1.isnull()\n",
    "a1[adv >= volume] = -1\n",
    "a1[cond] = np.nan\n",
    "a1[adv.isnull() | volume.isnull()] = np.nan\n"
   ],
   "metadata": {
    "collapsed": false,
    "pycharm": {
     "name": "#%%\n"
    }
   }
  },
  {
   "cell_type": "code",
   "execution_count": 86,
   "outputs": [
    {
     "data": {
      "text/plain": "permaticker  199059\ndate               \n2012-01-03      NaN\n2012-01-04      NaN\n2012-01-05      NaN\n2012-01-06      NaN\n2012-01-09      NaN\n...             ...\n2022-03-21     -1.0\n2022-03-22     -1.0\n2022-03-23    -59.0\n2022-03-24     -1.0\n2022-03-25     -1.0\n\n[2575 rows x 1 columns]",
      "text/html": "<div>\n<style scoped>\n    .dataframe tbody tr th:only-of-type {\n        vertical-align: middle;\n    }\n\n    .dataframe tbody tr th {\n        vertical-align: top;\n    }\n\n    .dataframe thead th {\n        text-align: right;\n    }\n</style>\n<table border=\"1\" class=\"dataframe\">\n  <thead>\n    <tr style=\"text-align: right;\">\n      <th>permaticker</th>\n      <th>199059</th>\n    </tr>\n    <tr>\n      <th>date</th>\n      <th></th>\n    </tr>\n  </thead>\n  <tbody>\n    <tr>\n      <th>2012-01-03</th>\n      <td>NaN</td>\n    </tr>\n    <tr>\n      <th>2012-01-04</th>\n      <td>NaN</td>\n    </tr>\n    <tr>\n      <th>2012-01-05</th>\n      <td>NaN</td>\n    </tr>\n    <tr>\n      <th>2012-01-06</th>\n      <td>NaN</td>\n    </tr>\n    <tr>\n      <th>2012-01-09</th>\n      <td>NaN</td>\n    </tr>\n    <tr>\n      <th>...</th>\n      <td>...</td>\n    </tr>\n    <tr>\n      <th>2022-03-21</th>\n      <td>-1.0</td>\n    </tr>\n    <tr>\n      <th>2022-03-22</th>\n      <td>-1.0</td>\n    </tr>\n    <tr>\n      <th>2022-03-23</th>\n      <td>-59.0</td>\n    </tr>\n    <tr>\n      <th>2022-03-24</th>\n      <td>-1.0</td>\n    </tr>\n    <tr>\n      <th>2022-03-25</th>\n      <td>-1.0</td>\n    </tr>\n  </tbody>\n</table>\n<p>2575 rows × 1 columns</p>\n</div>"
     },
     "execution_count": 86,
     "metadata": {},
     "output_type": "execute_result"
    }
   ],
   "source": [
    "a1"
   ],
   "metadata": {
    "collapsed": false,
    "pycharm": {
     "name": "#%%\n"
    }
   }
  },
  {
   "cell_type": "code",
   "execution_count": 6,
   "outputs": [
    {
     "name": "stdout",
     "output_type": "stream",
     "text": [
      "rtot = 0.007874015748031482, rtot2 = 0.007874015748031482\n"
     ]
    }
   ],
   "source": [
    "c0 = 254\n",
    "c1 = 251\n",
    "c2 = 256\n",
    "\n",
    "r_tot = c2/c0 - 1\n",
    "r_tot2 = (c1/c0) * (c2/c1) - 1\n",
    "\n",
    "print(f'rtot = {r_tot}, rtot2 = {r_tot2}')"
   ],
   "metadata": {
    "collapsed": false,
    "pycharm": {
     "name": "#%%\n"
    }
   }
  },
  {
   "cell_type": "code",
   "execution_count": 50,
   "outputs": [
    {
     "ename": "KeyError",
     "evalue": "'Level ticker not found'",
     "output_type": "error",
     "traceback": [
      "\u001B[0;31m---------------------------------------------------------------------------\u001B[0m",
      "\u001B[0;31mValueError\u001B[0m                                Traceback (most recent call last)",
      "File \u001B[0;32m~/miniconda3/envs/quant/lib/python3.9/site-packages/pandas/core/indexes/multi.py:1523\u001B[0m, in \u001B[0;36mMultiIndex._get_level_number\u001B[0;34m(self, level)\u001B[0m\n\u001B[1;32m   1522\u001B[0m \u001B[38;5;28;01mtry\u001B[39;00m:\n\u001B[0;32m-> 1523\u001B[0m     level \u001B[38;5;241m=\u001B[39m \u001B[38;5;28;43mself\u001B[39;49m\u001B[38;5;241;43m.\u001B[39;49m\u001B[43mnames\u001B[49m\u001B[38;5;241;43m.\u001B[39;49m\u001B[43mindex\u001B[49m\u001B[43m(\u001B[49m\u001B[43mlevel\u001B[49m\u001B[43m)\u001B[49m\n\u001B[1;32m   1524\u001B[0m \u001B[38;5;28;01mexcept\u001B[39;00m \u001B[38;5;167;01mValueError\u001B[39;00m \u001B[38;5;28;01mas\u001B[39;00m err:\n",
      "\u001B[0;31mValueError\u001B[0m: 'ticker' is not in list",
      "\nThe above exception was the direct cause of the following exception:\n",
      "\u001B[0;31mKeyError\u001B[0m                                  Traceback (most recent call last)",
      "Input \u001B[0;32mIn [50]\u001B[0m, in \u001B[0;36m<module>\u001B[0;34m\u001B[0m\n\u001B[1;32m      1\u001B[0m df \u001B[38;5;241m=\u001B[39m small_hist\u001B[38;5;241m.\u001B[39mcopy()\n\u001B[1;32m      2\u001B[0m n_sum \u001B[38;5;241m=\u001B[39m \u001B[38;5;241m10\u001B[39m\n\u001B[0;32m----> 3\u001B[0m \u001B[38;5;28mopen\u001B[39m \u001B[38;5;241m=\u001B[39m \u001B[43mdf\u001B[49m\u001B[43m[\u001B[49m\u001B[38;5;124;43m'\u001B[39;49m\u001B[38;5;124;43mopenadj\u001B[39;49m\u001B[38;5;124;43m'\u001B[39;49m\u001B[43m]\u001B[49m\u001B[38;5;241;43m.\u001B[39;49m\u001B[43munstack\u001B[49m\u001B[43m(\u001B[49m\u001B[38;5;124;43m'\u001B[39;49m\u001B[38;5;124;43mticker\u001B[39;49m\u001B[38;5;124;43m'\u001B[39;49m\u001B[43m)\u001B[49m\n\u001B[1;32m      5\u001B[0m tae \u001B[38;5;241m=\u001B[39m TalibEngineerV(df)\n\u001B[1;32m      6\u001B[0m df[\u001B[38;5;124m'\u001B[39m\u001B[38;5;124mvwap\u001B[39m\u001B[38;5;124m'\u001B[39m] \u001B[38;5;241m=\u001B[39m tae\u001B[38;5;241m.\u001B[39mdaily_vwap()\n",
      "File \u001B[0;32m~/miniconda3/envs/quant/lib/python3.9/site-packages/pandas/core/series.py:4081\u001B[0m, in \u001B[0;36mSeries.unstack\u001B[0;34m(self, level, fill_value)\u001B[0m\n\u001B[1;32m   4042\u001B[0m \u001B[38;5;124;03m\"\"\"\u001B[39;00m\n\u001B[1;32m   4043\u001B[0m \u001B[38;5;124;03mUnstack, also known as pivot, Series with MultiIndex to produce DataFrame.\u001B[39;00m\n\u001B[1;32m   4044\u001B[0m \n\u001B[0;32m   (...)\u001B[0m\n\u001B[1;32m   4077\u001B[0m \u001B[38;5;124;03mb    2    4\u001B[39;00m\n\u001B[1;32m   4078\u001B[0m \u001B[38;5;124;03m\"\"\"\u001B[39;00m\n\u001B[1;32m   4079\u001B[0m \u001B[38;5;28;01mfrom\u001B[39;00m \u001B[38;5;21;01mpandas\u001B[39;00m\u001B[38;5;21;01m.\u001B[39;00m\u001B[38;5;21;01mcore\u001B[39;00m\u001B[38;5;21;01m.\u001B[39;00m\u001B[38;5;21;01mreshape\u001B[39;00m\u001B[38;5;21;01m.\u001B[39;00m\u001B[38;5;21;01mreshape\u001B[39;00m \u001B[38;5;28;01mimport\u001B[39;00m unstack\n\u001B[0;32m-> 4081\u001B[0m \u001B[38;5;28;01mreturn\u001B[39;00m \u001B[43munstack\u001B[49m\u001B[43m(\u001B[49m\u001B[38;5;28;43mself\u001B[39;49m\u001B[43m,\u001B[49m\u001B[43m \u001B[49m\u001B[43mlevel\u001B[49m\u001B[43m,\u001B[49m\u001B[43m \u001B[49m\u001B[43mfill_value\u001B[49m\u001B[43m)\u001B[49m\n",
      "File \u001B[0;32m~/miniconda3/envs/quant/lib/python3.9/site-packages/pandas/core/reshape/reshape.py:443\u001B[0m, in \u001B[0;36munstack\u001B[0;34m(obj, level, fill_value)\u001B[0m\n\u001B[1;32m    441\u001B[0m \u001B[38;5;66;03m# Prioritize integer interpretation (GH #21677):\u001B[39;00m\n\u001B[1;32m    442\u001B[0m \u001B[38;5;28;01mif\u001B[39;00m \u001B[38;5;129;01mnot\u001B[39;00m is_integer(level) \u001B[38;5;129;01mand\u001B[39;00m \u001B[38;5;129;01mnot\u001B[39;00m level \u001B[38;5;241m==\u001B[39m \u001B[38;5;124m\"\u001B[39m\u001B[38;5;124m__placeholder__\u001B[39m\u001B[38;5;124m\"\u001B[39m:\n\u001B[0;32m--> 443\u001B[0m     level \u001B[38;5;241m=\u001B[39m \u001B[43mobj\u001B[49m\u001B[38;5;241;43m.\u001B[39;49m\u001B[43mindex\u001B[49m\u001B[38;5;241;43m.\u001B[39;49m\u001B[43m_get_level_number\u001B[49m\u001B[43m(\u001B[49m\u001B[43mlevel\u001B[49m\u001B[43m)\u001B[49m\n\u001B[1;32m    445\u001B[0m \u001B[38;5;28;01mif\u001B[39;00m \u001B[38;5;28misinstance\u001B[39m(obj, DataFrame):\n\u001B[1;32m    446\u001B[0m     \u001B[38;5;28;01mif\u001B[39;00m \u001B[38;5;28misinstance\u001B[39m(obj\u001B[38;5;241m.\u001B[39mindex, MultiIndex):\n",
      "File \u001B[0;32m~/miniconda3/envs/quant/lib/python3.9/site-packages/pandas/core/indexes/multi.py:1526\u001B[0m, in \u001B[0;36mMultiIndex._get_level_number\u001B[0;34m(self, level)\u001B[0m\n\u001B[1;32m   1524\u001B[0m \u001B[38;5;28;01mexcept\u001B[39;00m \u001B[38;5;167;01mValueError\u001B[39;00m \u001B[38;5;28;01mas\u001B[39;00m err:\n\u001B[1;32m   1525\u001B[0m     \u001B[38;5;28;01mif\u001B[39;00m \u001B[38;5;129;01mnot\u001B[39;00m is_integer(level):\n\u001B[0;32m-> 1526\u001B[0m         \u001B[38;5;28;01mraise\u001B[39;00m \u001B[38;5;167;01mKeyError\u001B[39;00m(\u001B[38;5;124mf\u001B[39m\u001B[38;5;124m\"\u001B[39m\u001B[38;5;124mLevel \u001B[39m\u001B[38;5;132;01m{\u001B[39;00mlevel\u001B[38;5;132;01m}\u001B[39;00m\u001B[38;5;124m not found\u001B[39m\u001B[38;5;124m\"\u001B[39m) \u001B[38;5;28;01mfrom\u001B[39;00m \u001B[38;5;21;01merr\u001B[39;00m\n\u001B[1;32m   1527\u001B[0m     \u001B[38;5;28;01melif\u001B[39;00m level \u001B[38;5;241m<\u001B[39m \u001B[38;5;241m0\u001B[39m:\n\u001B[1;32m   1528\u001B[0m         level \u001B[38;5;241m+\u001B[39m\u001B[38;5;241m=\u001B[39m \u001B[38;5;28mself\u001B[39m\u001B[38;5;241m.\u001B[39mnlevels\n",
      "\u001B[0;31mKeyError\u001B[0m: 'Level ticker not found'"
     ]
    }
   ],
   "source": [
    "df = small_hist.copy()\n",
    "n_sum = 10\n",
    "open = df['openadj'].unstack('ticker')\n",
    "\n",
    "tae = TalibEngineerV(df)\n",
    "df['vwap'] = tae.daily_vwap()\n",
    "\n",
    "oe = OpEngineerV(df)\n",
    "# term1 = open - (sum(vwap, 10) / 10\n",
    "df['term1'] = (open - oe.ts_sum('vwap', n_sum, wide=True).divide(n_sum)).stack().swaplevel()\n",
    "df['close-vwap'] = df['closeadj'] - df['vwap']\n",
    "oe.set_df(df)\n",
    "alpha_values = oe.cs_pctrank('term1', wide=True).mul(\n",
    "    oe.cs_pctrank('close-vwap', wide=True).abs().mul(-1)).stack().swaplevel()"
   ],
   "metadata": {
    "collapsed": false,
    "pycharm": {
     "name": "#%%\n"
    }
   }
  },
  {
   "cell_type": "code",
   "execution_count": 9,
   "outputs": [],
   "source": [
    "small_hist['alpha4'] = ae.alpha4()"
   ],
   "metadata": {
    "collapsed": false,
    "pycharm": {
     "name": "#%%\n"
    }
   }
  },
  {
   "cell_type": "code",
   "execution_count": 10,
   "outputs": [
    {
     "data": {
      "text/plain": "                    open    high     low  close    openadj    highadj  \\\nticker date                                                             \nA      2012-01-03  35.84  36.990  35.740  36.48  23.651649  24.410561   \n       2012-01-04  36.15  36.360  35.590  36.19  23.855604  23.994184   \n       2012-01-05  35.88  37.320  35.720  37.00  23.677891  24.628174   \n       2012-01-06  37.09  37.555  36.805  37.40  24.476425  24.783288   \n       2012-01-09  37.62  38.420  37.472  38.38  24.826455  25.354397   \n...                  ...     ...     ...    ...        ...        ...   \nACER   2022-03-15   2.37   2.410   2.350   2.36   2.370000   2.410000   \n       2022-03-16   2.36   2.610   2.360   2.55   2.360000   2.610000   \n       2022-03-17   2.55   2.600   2.520   2.57   2.550000   2.600000   \n       2022-03-18   2.53   2.670   2.520   2.66   2.530000   2.670000   \n       2022-03-21   2.70   2.800   2.640   2.76   2.700000   2.800000   \n\n                      lowadj  closeadj     volume    alpha5  alpha4  \nticker date                                                          \nA      2012-01-03  23.585657    24.074  2973100.0       NaN     NaN  \n       2012-01-04  23.486056    23.882  3327500.0       NaN     NaN  \n       2012-01-05  23.572304    24.417  4894600.0       NaN     NaN  \n       2012-01-06  24.288348    24.681  3370100.0       NaN     NaN  \n       2012-01-09  24.728786    25.328  3168500.0       NaN     NaN  \n...                      ...       ...        ...       ...     ...  \nACER   2022-03-15   2.350000     2.360    27432.0 -0.091681    -4.0  \n       2022-03-16   2.360000     2.550   188494.0 -0.171125    -0.0  \n       2022-03-17   2.520000     2.570    79341.0 -0.195238    -6.0  \n       2022-03-18   2.520000     2.660    74344.0 -0.207927    -8.0  \n       2022-03-21   2.640000     2.760   173214.0 -0.403530    -3.0  \n\n[122497 rows x 11 columns]",
      "text/html": "<div>\n<style scoped>\n    .dataframe tbody tr th:only-of-type {\n        vertical-align: middle;\n    }\n\n    .dataframe tbody tr th {\n        vertical-align: top;\n    }\n\n    .dataframe thead th {\n        text-align: right;\n    }\n</style>\n<table border=\"1\" class=\"dataframe\">\n  <thead>\n    <tr style=\"text-align: right;\">\n      <th></th>\n      <th></th>\n      <th>open</th>\n      <th>high</th>\n      <th>low</th>\n      <th>close</th>\n      <th>openadj</th>\n      <th>highadj</th>\n      <th>lowadj</th>\n      <th>closeadj</th>\n      <th>volume</th>\n      <th>alpha5</th>\n      <th>alpha4</th>\n    </tr>\n    <tr>\n      <th>ticker</th>\n      <th>date</th>\n      <th></th>\n      <th></th>\n      <th></th>\n      <th></th>\n      <th></th>\n      <th></th>\n      <th></th>\n      <th></th>\n      <th></th>\n      <th></th>\n      <th></th>\n    </tr>\n  </thead>\n  <tbody>\n    <tr>\n      <th rowspan=\"5\" valign=\"top\">A</th>\n      <th>2012-01-03</th>\n      <td>35.84</td>\n      <td>36.990</td>\n      <td>35.740</td>\n      <td>36.48</td>\n      <td>23.651649</td>\n      <td>24.410561</td>\n      <td>23.585657</td>\n      <td>24.074</td>\n      <td>2973100.0</td>\n      <td>NaN</td>\n      <td>NaN</td>\n    </tr>\n    <tr>\n      <th>2012-01-04</th>\n      <td>36.15</td>\n      <td>36.360</td>\n      <td>35.590</td>\n      <td>36.19</td>\n      <td>23.855604</td>\n      <td>23.994184</td>\n      <td>23.486056</td>\n      <td>23.882</td>\n      <td>3327500.0</td>\n      <td>NaN</td>\n      <td>NaN</td>\n    </tr>\n    <tr>\n      <th>2012-01-05</th>\n      <td>35.88</td>\n      <td>37.320</td>\n      <td>35.720</td>\n      <td>37.00</td>\n      <td>23.677891</td>\n      <td>24.628174</td>\n      <td>23.572304</td>\n      <td>24.417</td>\n      <td>4894600.0</td>\n      <td>NaN</td>\n      <td>NaN</td>\n    </tr>\n    <tr>\n      <th>2012-01-06</th>\n      <td>37.09</td>\n      <td>37.555</td>\n      <td>36.805</td>\n      <td>37.40</td>\n      <td>24.476425</td>\n      <td>24.783288</td>\n      <td>24.288348</td>\n      <td>24.681</td>\n      <td>3370100.0</td>\n      <td>NaN</td>\n      <td>NaN</td>\n    </tr>\n    <tr>\n      <th>2012-01-09</th>\n      <td>37.62</td>\n      <td>38.420</td>\n      <td>37.472</td>\n      <td>38.38</td>\n      <td>24.826455</td>\n      <td>25.354397</td>\n      <td>24.728786</td>\n      <td>25.328</td>\n      <td>3168500.0</td>\n      <td>NaN</td>\n      <td>NaN</td>\n    </tr>\n    <tr>\n      <th>...</th>\n      <th>...</th>\n      <td>...</td>\n      <td>...</td>\n      <td>...</td>\n      <td>...</td>\n      <td>...</td>\n      <td>...</td>\n      <td>...</td>\n      <td>...</td>\n      <td>...</td>\n      <td>...</td>\n      <td>...</td>\n    </tr>\n    <tr>\n      <th rowspan=\"5\" valign=\"top\">ACER</th>\n      <th>2022-03-15</th>\n      <td>2.37</td>\n      <td>2.410</td>\n      <td>2.350</td>\n      <td>2.36</td>\n      <td>2.370000</td>\n      <td>2.410000</td>\n      <td>2.350000</td>\n      <td>2.360</td>\n      <td>27432.0</td>\n      <td>-0.091681</td>\n      <td>-4.0</td>\n    </tr>\n    <tr>\n      <th>2022-03-16</th>\n      <td>2.36</td>\n      <td>2.610</td>\n      <td>2.360</td>\n      <td>2.55</td>\n      <td>2.360000</td>\n      <td>2.610000</td>\n      <td>2.360000</td>\n      <td>2.550</td>\n      <td>188494.0</td>\n      <td>-0.171125</td>\n      <td>-0.0</td>\n    </tr>\n    <tr>\n      <th>2022-03-17</th>\n      <td>2.55</td>\n      <td>2.600</td>\n      <td>2.520</td>\n      <td>2.57</td>\n      <td>2.550000</td>\n      <td>2.600000</td>\n      <td>2.520000</td>\n      <td>2.570</td>\n      <td>79341.0</td>\n      <td>-0.195238</td>\n      <td>-6.0</td>\n    </tr>\n    <tr>\n      <th>2022-03-18</th>\n      <td>2.53</td>\n      <td>2.670</td>\n      <td>2.520</td>\n      <td>2.66</td>\n      <td>2.530000</td>\n      <td>2.670000</td>\n      <td>2.520000</td>\n      <td>2.660</td>\n      <td>74344.0</td>\n      <td>-0.207927</td>\n      <td>-8.0</td>\n    </tr>\n    <tr>\n      <th>2022-03-21</th>\n      <td>2.70</td>\n      <td>2.800</td>\n      <td>2.640</td>\n      <td>2.76</td>\n      <td>2.700000</td>\n      <td>2.800000</td>\n      <td>2.640000</td>\n      <td>2.760</td>\n      <td>173214.0</td>\n      <td>-0.403530</td>\n      <td>-3.0</td>\n    </tr>\n  </tbody>\n</table>\n<p>122497 rows × 11 columns</p>\n</div>"
     },
     "execution_count": 10,
     "metadata": {},
     "output_type": "execute_result"
    }
   ],
   "source": [
    "small_hist"
   ],
   "metadata": {
    "collapsed": false,
    "pycharm": {
     "name": "#%%\n"
    }
   }
  },
  {
   "cell_type": "code",
   "execution_count": 5,
   "outputs": [
    {
     "name": "stdout",
     "output_type": "stream",
     "text": [
      "Total time: 27.22061824798584 sec\n"
     ]
    }
   ],
   "source": [
    "s_time_chunk = time.time()\n",
    "close = stacked_hist.closeadj.unstack('ticker')\n",
    "ret = ts_ret(close)\n",
    "alpha001(close, ret)\n",
    "e_time_chunk = time.time()\n",
    "print(f\"Total time: {e_time_chunk - s_time_chunk} sec\")"
   ],
   "metadata": {
    "collapsed": false,
    "pycharm": {
     "name": "#%%\n"
    }
   }
  },
  {
   "cell_type": "code",
   "execution_count": 4,
   "outputs": [],
   "source": [
    "ae = AlphaEngineerV(stacked_hist)"
   ],
   "metadata": {
    "collapsed": false,
    "pycharm": {
     "name": "#%%\n"
    }
   }
  },
  {
   "cell_type": "code",
   "execution_count": 7,
   "outputs": [
    {
     "name": "stdout",
     "output_type": "stream",
     "text": [
      "Total time: 302.45863914489746 sec\n"
     ]
    }
   ],
   "source": [
    "s_time_chunk = time.time()\n",
    "stacked_hist['alpha1'] = ae.alpha1(5, 20)\n",
    "e_time_chunk = time.time()\n",
    "print(f\"Total time: {e_time_chunk - s_time_chunk} sec\")"
   ],
   "metadata": {
    "collapsed": false,
    "pycharm": {
     "name": "#%%\n"
    }
   }
  },
  {
   "cell_type": "code",
   "execution_count": 6,
   "outputs": [
    {
     "name": "stdout",
     "output_type": "stream",
     "text": [
      "Total time: 319.57942175865173 sec\n"
     ]
    }
   ],
   "source": [
    "s_time_chunk = time.time()\n",
    "stacked_hist['alpha1'] = ae.alpha1(5, 20)\n",
    "e_time_chunk = time.time()\n",
    "print(f\"Total time: {e_time_chunk - s_time_chunk} sec\")"
   ],
   "metadata": {
    "collapsed": false,
    "pycharm": {
     "name": "#%%\n"
    }
   }
  },
  {
   "cell_type": "code",
   "execution_count": 5,
   "outputs": [
    {
     "name": "stdout",
     "output_type": "stream",
     "text": [
      "Total time: 102.20251607894897 sec\n",
      "Total time: 6.799350023269653 sec\n",
      "Total time: 200.1494369506836 sec\n"
     ]
    }
   ],
   "source": [
    "s_time_chunk = time.time()\n",
    "stacked_hist['alpha4'] = ae.alpha4(9)\n",
    "e_time_chunk = time.time()\n",
    "print(f\"Total time: {e_time_chunk - s_time_chunk} sec\")"
   ],
   "metadata": {
    "collapsed": false,
    "pycharm": {
     "name": "#%%\n"
    }
   }
  },
  {
   "cell_type": "code",
   "execution_count": 5,
   "outputs": [
    {
     "name": "stderr",
     "output_type": "stream",
     "text": [
      "/Users/punlee/miniconda3/envs/quant/lib/python3.9/site-packages/pandas/core/arraylike.py:364: RuntimeWarning: divide by zero encountered in log\n",
      "  result = getattr(ufunc, method)(*inputs, **kwargs)\n"
     ]
    },
    {
     "name": "stdout",
     "output_type": "stream",
     "text": [
      "Total time: 314.89851689338684 sec\n"
     ]
    }
   ],
   "source": [
    "s_time_chunk = time.time()\n",
    "stacked_hist['alpha2'] = ae.alpha2()\n",
    "e_time_chunk = time.time()\n",
    "print(f\"Total time: {e_time_chunk - s_time_chunk} sec\")"
   ],
   "metadata": {
    "collapsed": false,
    "pycharm": {
     "name": "#%%\n"
    }
   }
  },
  {
   "cell_type": "code",
   "execution_count": 19,
   "outputs": [],
   "source": [
    "volume = stacked_hist.volume.unstack('ticker')"
   ],
   "metadata": {
    "collapsed": false,
    "pycharm": {
     "name": "#%%\n"
    }
   }
  },
  {
   "cell_type": "code",
   "execution_count": 6,
   "outputs": [],
   "source": [
    "from joblib import Parallel, delayed\n",
    "from realgam.quantlib.engineer.utils import rank_last_value"
   ],
   "metadata": {
    "collapsed": false,
    "pycharm": {
     "name": "#%%\n"
    }
   }
  },
  {
   "cell_type": "code",
   "execution_count": 43,
   "outputs": [],
   "source": [
    "def func(series):\n",
    "\n",
    "    return series.rolling(10).apply(np.argmax, engine='cython', raw=True).add(1)"
   ],
   "metadata": {
    "collapsed": false,
    "pycharm": {
     "name": "#%%\n"
    }
   }
  },
  {
   "cell_type": "code",
   "execution_count": 47,
   "outputs": [],
   "source": [
    "def rolling_rank(x, window, pct=False, min_prob=None):\n",
    "    \"\"\"\n",
    "    Get the rolling rank of the last value according to the previous window of values.\n",
    "    \"\"\"\n",
    "    # https://github.com/pandas-dev/pandas/issues/9481\n",
    "    import bottleneck as bk\n",
    "    norm_rank = bk.move_rank(x, window, axis=0) # [-1, 1]\n",
    "    u = (norm_rank + 1) / 2 # [0, 1]\n",
    "    if pct:\n",
    "        if min_prob is None:\n",
    "            min_prob = 1 / (window + 1)\n",
    "            return u * (1 - 2 * min_prob) + min_prob # [min_prob, 1 - min_prob]\n",
    "    rank = u * (window - 1)\n",
    "    return np.round(rank)"
   ],
   "metadata": {
    "collapsed": false,
    "pycharm": {
     "name": "#%%\n"
    }
   }
  },
  {
   "cell_type": "code",
   "execution_count": 52,
   "outputs": [
    {
     "name": "stdout",
     "output_type": "stream",
     "text": [
      "Total time: 0.861375093460083 sec\n"
     ]
    }
   ],
   "source": [
    "s_time_chunk = time.time()\n",
    "dummy = rolling_rank(volume, 10, pct=True)\n",
    "pd.DataFrame(dummy, index=volume.index, columns=volume.columns)\n",
    "e_time_chunk = time.time()\n",
    "print(f\"Total time: {e_time_chunk - s_time_chunk} sec\")"
   ],
   "metadata": {
    "collapsed": false,
    "pycharm": {
     "name": "#%%\n"
    }
   }
  },
  {
   "cell_type": "code",
   "execution_count": 44,
   "outputs": [
    {
     "name": "stdout",
     "output_type": "stream",
     "text": [
      "Total time: 3.8957040309906006 sec\n"
     ]
    }
   ],
   "source": [
    "s_time_chunk = time.time()\n",
    "values = Parallel(n_jobs=-1)(delayed(func)(volume[col]) for col in volume)\n",
    "e_time_chunk = time.time()\n",
    "print(f\"Total time: {e_time_chunk - s_time_chunk} sec\")"
   ],
   "metadata": {
    "collapsed": false,
    "pycharm": {
     "name": "#%%\n"
    }
   }
  },
  {
   "cell_type": "code",
   "execution_count": 53,
   "outputs": [
    {
     "name": "stdout",
     "output_type": "stream",
     "text": [
      "Total time: 121.04070401191711 sec\n"
     ]
    }
   ],
   "source": [
    "s_time_chunk = time.time()\n",
    "volume.rolling(10).apply(rank_last_value, raw=True)\n",
    "e_time_chunk = time.time()\n",
    "print(f\"Total time: {e_time_chunk - s_time_chunk} sec\")"
   ],
   "metadata": {
    "collapsed": false,
    "pycharm": {
     "name": "#%%\n"
    }
   }
  },
  {
   "cell_type": "code",
   "execution_count": 33,
   "outputs": [
    {
     "name": "stdout",
     "output_type": "stream",
     "text": [
      "Total time: 5.859202861785889 sec\n"
     ]
    }
   ],
   "source": [
    "n_total_tickers = volume.shape[1]\n",
    "batch_size = 20\n",
    "s_time_chunk = time.time()\n",
    "values = Parallel(n_jobs=-1)(delayed(func)(volume.iloc[:,i:i + batch_size ]) for i in range(0, n_total_tickers, batch_size))\n",
    "e_time_chunk = time.time()\n",
    "print(f\"Total time: {e_time_chunk - s_time_chunk} sec\")"
   ],
   "metadata": {
    "collapsed": false,
    "pycharm": {
     "name": "#%%\n"
    }
   }
  },
  {
   "cell_type": "code",
   "execution_count": 22,
   "outputs": [],
   "source": [
    "from numpy.lib.stride_tricks import sliding_window_view\n",
    "sw = sliding_window_view(volume, 7, axis=0)\n",
    "scores_np = (sw <= sw[..., -1:]).sum(axis=2) / sw.shape[-1]\n",
    "scores_np_df = pd.DataFrame(scores_np, columns=volume.columns)"
   ],
   "metadata": {
    "collapsed": false,
    "pycharm": {
     "name": "#%%\n"
    }
   }
  },
  {
   "cell_type": "code",
   "execution_count": 23,
   "outputs": [
    {
     "data": {
      "text/plain": "(2570, 10375)"
     },
     "execution_count": 23,
     "metadata": {},
     "output_type": "execute_result"
    }
   ],
   "source": [
    "volume.shape"
   ],
   "metadata": {
    "collapsed": false,
    "pycharm": {
     "name": "#%%\n"
    }
   }
  },
  {
   "cell_type": "code",
   "execution_count": 25,
   "outputs": [
    {
     "data": {
      "text/plain": "array([[0.14285714, 0.        , 0.        , ..., 0.        , 0.42857143,\n        1.        ],\n       [0.28571429, 0.        , 0.        , ..., 0.        , 0.71428571,\n        1.        ],\n       [0.85714286, 0.        , 0.        , ..., 0.        , 0.28571429,\n        0.57142857],\n       ...,\n       [0.28571429, 0.28571429, 0.        , ..., 0.14285714, 0.28571429,\n        0.        ],\n       [0.14285714, 0.71428571, 0.        , ..., 0.14285714, 1.        ,\n        0.        ],\n       [1.        , 0.57142857, 0.        , ..., 1.        , 1.        ,\n        0.        ]])"
     },
     "execution_count": 25,
     "metadata": {},
     "output_type": "execute_result"
    }
   ],
   "source": [
    "scores_np"
   ],
   "metadata": {
    "collapsed": false,
    "pycharm": {
     "name": "#%%\n"
    }
   }
  },
  {
   "cell_type": "code",
   "execution_count": 72,
   "outputs": [
    {
     "data": {
      "text/plain": "ticker        A   AA  AAAP  AAC  AAC.U  AACC  AACG  AACH  AACI  AACIU  ...  \\\ndate                                                                   ...   \n2012-01-03  NaN  NaN   NaN  NaN    NaN   NaN   NaN   NaN   NaN    NaN  ...   \n2012-01-04  NaN  NaN   NaN  NaN    NaN   NaN   NaN   NaN   NaN    NaN  ...   \n2012-01-05  NaN  NaN   NaN  NaN    NaN   NaN   NaN   NaN   NaN    NaN  ...   \n2012-01-06  NaN  NaN   NaN  NaN    NaN   NaN   NaN   NaN   NaN    NaN  ...   \n2012-01-09  NaN  NaN   NaN  NaN    NaN   NaN   NaN   NaN   NaN    NaN  ...   \n...         ...  ...   ...  ...    ...   ...   ...   ...   ...    ...  ...   \n2022-03-14  0.0  2.0   NaN  9.0    9.0   NaN   8.0   NaN   NaN    NaN  ...   \n2022-03-15  0.0  1.0   NaN  7.0    2.0   NaN   2.0   NaN   NaN    NaN  ...   \n2022-03-16  1.0  1.0   NaN  6.0    1.0   NaN   9.0   NaN   NaN    NaN  ...   \n2022-03-17  0.0  4.0   NaN  0.0    5.0   NaN   5.0   NaN   NaN    NaN  ...   \n2022-03-18  9.0  3.0   NaN  2.0    8.0   NaN   6.0   NaN   NaN    NaN  ...   \n\nticker      GHRS  GHSEQ  GHSI  GHVIU  GI  GIA  GIA.U  GIAC  GIACU  GIB  \ndate                                                                    \n2012-01-03   NaN    NaN   NaN    NaN NaN  NaN    NaN   NaN    NaN  NaN  \n2012-01-04   NaN    NaN   NaN    NaN NaN  NaN    NaN   NaN    NaN  NaN  \n2012-01-05   NaN    NaN   NaN    NaN NaN  NaN    NaN   NaN    NaN  NaN  \n2012-01-06   NaN    NaN   NaN    NaN NaN  NaN    NaN   NaN    NaN  NaN  \n2012-01-09   NaN    NaN   NaN    NaN NaN  NaN    NaN   NaN    NaN  NaN  \n...          ...    ...   ...    ...  ..  ...    ...   ...    ...  ...  \n2022-03-14   5.0    NaN   0.0    NaN NaN  NaN    NaN   NaN    NaN  0.0  \n2022-03-15   3.0    NaN   2.0    NaN NaN  NaN    NaN   NaN    NaN  3.0  \n2022-03-16   2.0    NaN   4.0    NaN NaN  NaN    NaN   NaN    NaN  3.0  \n2022-03-17   6.0    NaN   5.0    NaN NaN  NaN    NaN   NaN    NaN  1.0  \n2022-03-18   7.0    NaN   6.0    NaN NaN  NaN    NaN   NaN    NaN  2.0  \n\n[2570 rows x 4000 columns]",
      "text/html": "<div>\n<style scoped>\n    .dataframe tbody tr th:only-of-type {\n        vertical-align: middle;\n    }\n\n    .dataframe tbody tr th {\n        vertical-align: top;\n    }\n\n    .dataframe thead th {\n        text-align: right;\n    }\n</style>\n<table border=\"1\" class=\"dataframe\">\n  <thead>\n    <tr style=\"text-align: right;\">\n      <th>ticker</th>\n      <th>A</th>\n      <th>AA</th>\n      <th>AAAP</th>\n      <th>AAC</th>\n      <th>AAC.U</th>\n      <th>AACC</th>\n      <th>AACG</th>\n      <th>AACH</th>\n      <th>AACI</th>\n      <th>AACIU</th>\n      <th>...</th>\n      <th>GHRS</th>\n      <th>GHSEQ</th>\n      <th>GHSI</th>\n      <th>GHVIU</th>\n      <th>GI</th>\n      <th>GIA</th>\n      <th>GIA.U</th>\n      <th>GIAC</th>\n      <th>GIACU</th>\n      <th>GIB</th>\n    </tr>\n    <tr>\n      <th>date</th>\n      <th></th>\n      <th></th>\n      <th></th>\n      <th></th>\n      <th></th>\n      <th></th>\n      <th></th>\n      <th></th>\n      <th></th>\n      <th></th>\n      <th></th>\n      <th></th>\n      <th></th>\n      <th></th>\n      <th></th>\n      <th></th>\n      <th></th>\n      <th></th>\n      <th></th>\n      <th></th>\n      <th></th>\n    </tr>\n  </thead>\n  <tbody>\n    <tr>\n      <th>2012-01-03</th>\n      <td>NaN</td>\n      <td>NaN</td>\n      <td>NaN</td>\n      <td>NaN</td>\n      <td>NaN</td>\n      <td>NaN</td>\n      <td>NaN</td>\n      <td>NaN</td>\n      <td>NaN</td>\n      <td>NaN</td>\n      <td>...</td>\n      <td>NaN</td>\n      <td>NaN</td>\n      <td>NaN</td>\n      <td>NaN</td>\n      <td>NaN</td>\n      <td>NaN</td>\n      <td>NaN</td>\n      <td>NaN</td>\n      <td>NaN</td>\n      <td>NaN</td>\n    </tr>\n    <tr>\n      <th>2012-01-04</th>\n      <td>NaN</td>\n      <td>NaN</td>\n      <td>NaN</td>\n      <td>NaN</td>\n      <td>NaN</td>\n      <td>NaN</td>\n      <td>NaN</td>\n      <td>NaN</td>\n      <td>NaN</td>\n      <td>NaN</td>\n      <td>...</td>\n      <td>NaN</td>\n      <td>NaN</td>\n      <td>NaN</td>\n      <td>NaN</td>\n      <td>NaN</td>\n      <td>NaN</td>\n      <td>NaN</td>\n      <td>NaN</td>\n      <td>NaN</td>\n      <td>NaN</td>\n    </tr>\n    <tr>\n      <th>2012-01-05</th>\n      <td>NaN</td>\n      <td>NaN</td>\n      <td>NaN</td>\n      <td>NaN</td>\n      <td>NaN</td>\n      <td>NaN</td>\n      <td>NaN</td>\n      <td>NaN</td>\n      <td>NaN</td>\n      <td>NaN</td>\n      <td>...</td>\n      <td>NaN</td>\n      <td>NaN</td>\n      <td>NaN</td>\n      <td>NaN</td>\n      <td>NaN</td>\n      <td>NaN</td>\n      <td>NaN</td>\n      <td>NaN</td>\n      <td>NaN</td>\n      <td>NaN</td>\n    </tr>\n    <tr>\n      <th>2012-01-06</th>\n      <td>NaN</td>\n      <td>NaN</td>\n      <td>NaN</td>\n      <td>NaN</td>\n      <td>NaN</td>\n      <td>NaN</td>\n      <td>NaN</td>\n      <td>NaN</td>\n      <td>NaN</td>\n      <td>NaN</td>\n      <td>...</td>\n      <td>NaN</td>\n      <td>NaN</td>\n      <td>NaN</td>\n      <td>NaN</td>\n      <td>NaN</td>\n      <td>NaN</td>\n      <td>NaN</td>\n      <td>NaN</td>\n      <td>NaN</td>\n      <td>NaN</td>\n    </tr>\n    <tr>\n      <th>2012-01-09</th>\n      <td>NaN</td>\n      <td>NaN</td>\n      <td>NaN</td>\n      <td>NaN</td>\n      <td>NaN</td>\n      <td>NaN</td>\n      <td>NaN</td>\n      <td>NaN</td>\n      <td>NaN</td>\n      <td>NaN</td>\n      <td>...</td>\n      <td>NaN</td>\n      <td>NaN</td>\n      <td>NaN</td>\n      <td>NaN</td>\n      <td>NaN</td>\n      <td>NaN</td>\n      <td>NaN</td>\n      <td>NaN</td>\n      <td>NaN</td>\n      <td>NaN</td>\n    </tr>\n    <tr>\n      <th>...</th>\n      <td>...</td>\n      <td>...</td>\n      <td>...</td>\n      <td>...</td>\n      <td>...</td>\n      <td>...</td>\n      <td>...</td>\n      <td>...</td>\n      <td>...</td>\n      <td>...</td>\n      <td>...</td>\n      <td>...</td>\n      <td>...</td>\n      <td>...</td>\n      <td>...</td>\n      <td>...</td>\n      <td>...</td>\n      <td>...</td>\n      <td>...</td>\n      <td>...</td>\n      <td>...</td>\n    </tr>\n    <tr>\n      <th>2022-03-14</th>\n      <td>0.0</td>\n      <td>2.0</td>\n      <td>NaN</td>\n      <td>9.0</td>\n      <td>9.0</td>\n      <td>NaN</td>\n      <td>8.0</td>\n      <td>NaN</td>\n      <td>NaN</td>\n      <td>NaN</td>\n      <td>...</td>\n      <td>5.0</td>\n      <td>NaN</td>\n      <td>0.0</td>\n      <td>NaN</td>\n      <td>NaN</td>\n      <td>NaN</td>\n      <td>NaN</td>\n      <td>NaN</td>\n      <td>NaN</td>\n      <td>0.0</td>\n    </tr>\n    <tr>\n      <th>2022-03-15</th>\n      <td>0.0</td>\n      <td>1.0</td>\n      <td>NaN</td>\n      <td>7.0</td>\n      <td>2.0</td>\n      <td>NaN</td>\n      <td>2.0</td>\n      <td>NaN</td>\n      <td>NaN</td>\n      <td>NaN</td>\n      <td>...</td>\n      <td>3.0</td>\n      <td>NaN</td>\n      <td>2.0</td>\n      <td>NaN</td>\n      <td>NaN</td>\n      <td>NaN</td>\n      <td>NaN</td>\n      <td>NaN</td>\n      <td>NaN</td>\n      <td>3.0</td>\n    </tr>\n    <tr>\n      <th>2022-03-16</th>\n      <td>1.0</td>\n      <td>1.0</td>\n      <td>NaN</td>\n      <td>6.0</td>\n      <td>1.0</td>\n      <td>NaN</td>\n      <td>9.0</td>\n      <td>NaN</td>\n      <td>NaN</td>\n      <td>NaN</td>\n      <td>...</td>\n      <td>2.0</td>\n      <td>NaN</td>\n      <td>4.0</td>\n      <td>NaN</td>\n      <td>NaN</td>\n      <td>NaN</td>\n      <td>NaN</td>\n      <td>NaN</td>\n      <td>NaN</td>\n      <td>3.0</td>\n    </tr>\n    <tr>\n      <th>2022-03-17</th>\n      <td>0.0</td>\n      <td>4.0</td>\n      <td>NaN</td>\n      <td>0.0</td>\n      <td>5.0</td>\n      <td>NaN</td>\n      <td>5.0</td>\n      <td>NaN</td>\n      <td>NaN</td>\n      <td>NaN</td>\n      <td>...</td>\n      <td>6.0</td>\n      <td>NaN</td>\n      <td>5.0</td>\n      <td>NaN</td>\n      <td>NaN</td>\n      <td>NaN</td>\n      <td>NaN</td>\n      <td>NaN</td>\n      <td>NaN</td>\n      <td>1.0</td>\n    </tr>\n    <tr>\n      <th>2022-03-18</th>\n      <td>9.0</td>\n      <td>3.0</td>\n      <td>NaN</td>\n      <td>2.0</td>\n      <td>8.0</td>\n      <td>NaN</td>\n      <td>6.0</td>\n      <td>NaN</td>\n      <td>NaN</td>\n      <td>NaN</td>\n      <td>...</td>\n      <td>7.0</td>\n      <td>NaN</td>\n      <td>6.0</td>\n      <td>NaN</td>\n      <td>NaN</td>\n      <td>NaN</td>\n      <td>NaN</td>\n      <td>NaN</td>\n      <td>NaN</td>\n      <td>2.0</td>\n    </tr>\n  </tbody>\n</table>\n<p>2570 rows × 4000 columns</p>\n</div>"
     },
     "execution_count": 72,
     "metadata": {},
     "output_type": "execute_result"
    }
   ],
   "source": [
    "pd.concat(values, axis=1)"
   ],
   "metadata": {
    "collapsed": false,
    "pycharm": {
     "name": "#%%\n"
    }
   }
  },
  {
   "cell_type": "code",
   "execution_count": 30,
   "outputs": [
    {
     "data": {
      "text/plain": "ticker             A        AA  AAAP       AAC     AAC.U  AACC      AACG  \\\ndate                                                                       \n2012-01-03       NaN       NaN   NaN       NaN       NaN   NaN       NaN   \n2012-01-04       NaN       NaN   NaN       NaN       NaN   NaN       NaN   \n2012-01-05       NaN       NaN   NaN       NaN       NaN   NaN       NaN   \n2012-01-06       NaN       NaN   NaN       NaN       NaN   NaN       NaN   \n2012-01-09       NaN       NaN   NaN       NaN       NaN   NaN       NaN   \n...              ...       ...   ...       ...       ...   ...       ...   \n2022-03-14  0.363984  0.107623   NaN  0.320861 -0.212449   NaN -0.392003   \n2022-03-15  0.485656  0.400572   NaN  0.360201 -0.161166   NaN -0.355019   \n2022-03-16  0.500228  0.463567   NaN  0.285395 -0.204080   NaN  0.204381   \n2022-03-17  0.324487  0.526069   NaN  0.362259 -0.107286   NaN  0.235516   \n2022-03-18  0.163600  0.656571   NaN  0.454861 -0.064215   NaN  0.162506   \n\nticker      AACH  AACI  AACIU  ...      IRTC      IRWD        IS      ISAA  \\\ndate                           ...                                           \n2012-01-03   NaN   NaN    NaN  ...       NaN       NaN       NaN       NaN   \n2012-01-04   NaN   NaN    NaN  ...       NaN       NaN       NaN       NaN   \n2012-01-05   NaN   NaN    NaN  ...       NaN       NaN       NaN       NaN   \n2012-01-06   NaN   NaN    NaN  ...       NaN       NaN       NaN       NaN   \n2012-01-09   NaN   NaN    NaN  ...       NaN       NaN       NaN       NaN   \n...          ...   ...    ...  ...       ...       ...       ...       ...   \n2022-03-14   NaN   NaN    NaN  ...  0.113561 -0.518841  0.578930 -0.027211   \n2022-03-15   NaN   NaN    NaN  ... -0.054785 -0.320664  0.821113  0.010575   \n2022-03-16   NaN   NaN    NaN  ... -0.286412  0.327993  0.909696  0.076618   \n2022-03-17   NaN   NaN    NaN  ... -0.031815  0.479711  0.629933 -0.199919   \n2022-03-18   NaN   NaN    NaN  ...  0.344057  0.821243  0.539556 -0.044655   \n\nticker          ISBC  ISCA  ISCIQ      ISDR      ISEE  ISHCQ  \ndate                                                          \n2012-01-03       NaN   NaN    NaN       NaN       NaN    NaN  \n2012-01-04       NaN   NaN    NaN       NaN       NaN    NaN  \n2012-01-05       NaN   NaN    NaN       NaN       NaN    NaN  \n2012-01-06       NaN   NaN    NaN       NaN       NaN    NaN  \n2012-01-09       NaN   NaN    NaN       NaN       NaN    NaN  \n...              ...   ...    ...       ...       ...    ...  \n2022-03-14  0.143323   NaN    NaN  0.754544 -0.238503    NaN  \n2022-03-15 -0.120884   NaN    NaN  0.748907 -0.290549    NaN  \n2022-03-16  0.076101   NaN    NaN  0.730427 -0.141502    NaN  \n2022-03-17  0.063834   NaN    NaN  0.765745 -0.007431    NaN  \n2022-03-18  0.311166   NaN    NaN  0.652468  0.442919    NaN  \n\n[2570 rows x 5000 columns]",
      "text/html": "<div>\n<style scoped>\n    .dataframe tbody tr th:only-of-type {\n        vertical-align: middle;\n    }\n\n    .dataframe tbody tr th {\n        vertical-align: top;\n    }\n\n    .dataframe thead th {\n        text-align: right;\n    }\n</style>\n<table border=\"1\" class=\"dataframe\">\n  <thead>\n    <tr style=\"text-align: right;\">\n      <th>ticker</th>\n      <th>A</th>\n      <th>AA</th>\n      <th>AAAP</th>\n      <th>AAC</th>\n      <th>AAC.U</th>\n      <th>AACC</th>\n      <th>AACG</th>\n      <th>AACH</th>\n      <th>AACI</th>\n      <th>AACIU</th>\n      <th>...</th>\n      <th>IRTC</th>\n      <th>IRWD</th>\n      <th>IS</th>\n      <th>ISAA</th>\n      <th>ISBC</th>\n      <th>ISCA</th>\n      <th>ISCIQ</th>\n      <th>ISDR</th>\n      <th>ISEE</th>\n      <th>ISHCQ</th>\n    </tr>\n    <tr>\n      <th>date</th>\n      <th></th>\n      <th></th>\n      <th></th>\n      <th></th>\n      <th></th>\n      <th></th>\n      <th></th>\n      <th></th>\n      <th></th>\n      <th></th>\n      <th></th>\n      <th></th>\n      <th></th>\n      <th></th>\n      <th></th>\n      <th></th>\n      <th></th>\n      <th></th>\n      <th></th>\n      <th></th>\n      <th></th>\n    </tr>\n  </thead>\n  <tbody>\n    <tr>\n      <th>2012-01-03</th>\n      <td>NaN</td>\n      <td>NaN</td>\n      <td>NaN</td>\n      <td>NaN</td>\n      <td>NaN</td>\n      <td>NaN</td>\n      <td>NaN</td>\n      <td>NaN</td>\n      <td>NaN</td>\n      <td>NaN</td>\n      <td>...</td>\n      <td>NaN</td>\n      <td>NaN</td>\n      <td>NaN</td>\n      <td>NaN</td>\n      <td>NaN</td>\n      <td>NaN</td>\n      <td>NaN</td>\n      <td>NaN</td>\n      <td>NaN</td>\n      <td>NaN</td>\n    </tr>\n    <tr>\n      <th>2012-01-04</th>\n      <td>NaN</td>\n      <td>NaN</td>\n      <td>NaN</td>\n      <td>NaN</td>\n      <td>NaN</td>\n      <td>NaN</td>\n      <td>NaN</td>\n      <td>NaN</td>\n      <td>NaN</td>\n      <td>NaN</td>\n      <td>...</td>\n      <td>NaN</td>\n      <td>NaN</td>\n      <td>NaN</td>\n      <td>NaN</td>\n      <td>NaN</td>\n      <td>NaN</td>\n      <td>NaN</td>\n      <td>NaN</td>\n      <td>NaN</td>\n      <td>NaN</td>\n    </tr>\n    <tr>\n      <th>2012-01-05</th>\n      <td>NaN</td>\n      <td>NaN</td>\n      <td>NaN</td>\n      <td>NaN</td>\n      <td>NaN</td>\n      <td>NaN</td>\n      <td>NaN</td>\n      <td>NaN</td>\n      <td>NaN</td>\n      <td>NaN</td>\n      <td>...</td>\n      <td>NaN</td>\n      <td>NaN</td>\n      <td>NaN</td>\n      <td>NaN</td>\n      <td>NaN</td>\n      <td>NaN</td>\n      <td>NaN</td>\n      <td>NaN</td>\n      <td>NaN</td>\n      <td>NaN</td>\n    </tr>\n    <tr>\n      <th>2012-01-06</th>\n      <td>NaN</td>\n      <td>NaN</td>\n      <td>NaN</td>\n      <td>NaN</td>\n      <td>NaN</td>\n      <td>NaN</td>\n      <td>NaN</td>\n      <td>NaN</td>\n      <td>NaN</td>\n      <td>NaN</td>\n      <td>...</td>\n      <td>NaN</td>\n      <td>NaN</td>\n      <td>NaN</td>\n      <td>NaN</td>\n      <td>NaN</td>\n      <td>NaN</td>\n      <td>NaN</td>\n      <td>NaN</td>\n      <td>NaN</td>\n      <td>NaN</td>\n    </tr>\n    <tr>\n      <th>2012-01-09</th>\n      <td>NaN</td>\n      <td>NaN</td>\n      <td>NaN</td>\n      <td>NaN</td>\n      <td>NaN</td>\n      <td>NaN</td>\n      <td>NaN</td>\n      <td>NaN</td>\n      <td>NaN</td>\n      <td>NaN</td>\n      <td>...</td>\n      <td>NaN</td>\n      <td>NaN</td>\n      <td>NaN</td>\n      <td>NaN</td>\n      <td>NaN</td>\n      <td>NaN</td>\n      <td>NaN</td>\n      <td>NaN</td>\n      <td>NaN</td>\n      <td>NaN</td>\n    </tr>\n    <tr>\n      <th>...</th>\n      <td>...</td>\n      <td>...</td>\n      <td>...</td>\n      <td>...</td>\n      <td>...</td>\n      <td>...</td>\n      <td>...</td>\n      <td>...</td>\n      <td>...</td>\n      <td>...</td>\n      <td>...</td>\n      <td>...</td>\n      <td>...</td>\n      <td>...</td>\n      <td>...</td>\n      <td>...</td>\n      <td>...</td>\n      <td>...</td>\n      <td>...</td>\n      <td>...</td>\n      <td>...</td>\n    </tr>\n    <tr>\n      <th>2022-03-14</th>\n      <td>0.363984</td>\n      <td>0.107623</td>\n      <td>NaN</td>\n      <td>0.320861</td>\n      <td>-0.212449</td>\n      <td>NaN</td>\n      <td>-0.392003</td>\n      <td>NaN</td>\n      <td>NaN</td>\n      <td>NaN</td>\n      <td>...</td>\n      <td>0.113561</td>\n      <td>-0.518841</td>\n      <td>0.578930</td>\n      <td>-0.027211</td>\n      <td>0.143323</td>\n      <td>NaN</td>\n      <td>NaN</td>\n      <td>0.754544</td>\n      <td>-0.238503</td>\n      <td>NaN</td>\n    </tr>\n    <tr>\n      <th>2022-03-15</th>\n      <td>0.485656</td>\n      <td>0.400572</td>\n      <td>NaN</td>\n      <td>0.360201</td>\n      <td>-0.161166</td>\n      <td>NaN</td>\n      <td>-0.355019</td>\n      <td>NaN</td>\n      <td>NaN</td>\n      <td>NaN</td>\n      <td>...</td>\n      <td>-0.054785</td>\n      <td>-0.320664</td>\n      <td>0.821113</td>\n      <td>0.010575</td>\n      <td>-0.120884</td>\n      <td>NaN</td>\n      <td>NaN</td>\n      <td>0.748907</td>\n      <td>-0.290549</td>\n      <td>NaN</td>\n    </tr>\n    <tr>\n      <th>2022-03-16</th>\n      <td>0.500228</td>\n      <td>0.463567</td>\n      <td>NaN</td>\n      <td>0.285395</td>\n      <td>-0.204080</td>\n      <td>NaN</td>\n      <td>0.204381</td>\n      <td>NaN</td>\n      <td>NaN</td>\n      <td>NaN</td>\n      <td>...</td>\n      <td>-0.286412</td>\n      <td>0.327993</td>\n      <td>0.909696</td>\n      <td>0.076618</td>\n      <td>0.076101</td>\n      <td>NaN</td>\n      <td>NaN</td>\n      <td>0.730427</td>\n      <td>-0.141502</td>\n      <td>NaN</td>\n    </tr>\n    <tr>\n      <th>2022-03-17</th>\n      <td>0.324487</td>\n      <td>0.526069</td>\n      <td>NaN</td>\n      <td>0.362259</td>\n      <td>-0.107286</td>\n      <td>NaN</td>\n      <td>0.235516</td>\n      <td>NaN</td>\n      <td>NaN</td>\n      <td>NaN</td>\n      <td>...</td>\n      <td>-0.031815</td>\n      <td>0.479711</td>\n      <td>0.629933</td>\n      <td>-0.199919</td>\n      <td>0.063834</td>\n      <td>NaN</td>\n      <td>NaN</td>\n      <td>0.765745</td>\n      <td>-0.007431</td>\n      <td>NaN</td>\n    </tr>\n    <tr>\n      <th>2022-03-18</th>\n      <td>0.163600</td>\n      <td>0.656571</td>\n      <td>NaN</td>\n      <td>0.454861</td>\n      <td>-0.064215</td>\n      <td>NaN</td>\n      <td>0.162506</td>\n      <td>NaN</td>\n      <td>NaN</td>\n      <td>NaN</td>\n      <td>...</td>\n      <td>0.344057</td>\n      <td>0.821243</td>\n      <td>0.539556</td>\n      <td>-0.044655</td>\n      <td>0.311166</td>\n      <td>NaN</td>\n      <td>NaN</td>\n      <td>0.652468</td>\n      <td>0.442919</td>\n      <td>NaN</td>\n    </tr>\n  </tbody>\n</table>\n<p>2570 rows × 5000 columns</p>\n</div>"
     },
     "execution_count": 30,
     "metadata": {},
     "output_type": "execute_result"
    }
   ],
   "source": [
    "open = small_hist.openadj.unstack('ticker')\n",
    "volume = small_hist.volume.unstack('ticker')\n",
    "open.rolling(10).corr(volume)"
   ],
   "metadata": {
    "collapsed": false,
    "pycharm": {
     "name": "#%%\n"
    }
   }
  },
  {
   "cell_type": "code",
   "execution_count": 18,
   "outputs": [],
   "source": [
    "small_hist = small_hist.reset_index().set_index(['ticker', 'date'])"
   ],
   "metadata": {
    "collapsed": false,
    "pycharm": {
     "name": "#%%\n"
    }
   }
  },
  {
   "cell_type": "code",
   "execution_count": 9,
   "outputs": [
    {
     "ename": "NotImplementedError",
     "evalue": "isna is not defined for MultiIndex",
     "output_type": "error",
     "traceback": [
      "\u001B[0;31m---------------------------------------------------------------------------\u001B[0m",
      "\u001B[0;31mNotImplementedError\u001B[0m                       Traceback (most recent call last)",
      "Input \u001B[0;32mIn [9]\u001B[0m, in \u001B[0;36m<module>\u001B[0;34m\u001B[0m\n\u001B[1;32m      1\u001B[0m goe \u001B[38;5;241m=\u001B[39m GroupOpEngineer(small_hist, \u001B[38;5;124m'\u001B[39m\u001B[38;5;124mticker\u001B[39m\u001B[38;5;124m'\u001B[39m)\n\u001B[0;32m----> 2\u001B[0m \u001B[43mgoe\u001B[49m\u001B[38;5;241;43m.\u001B[39;49m\u001B[43mts_corr\u001B[49m\u001B[43m(\u001B[49m\u001B[38;5;124;43m'\u001B[39;49m\u001B[38;5;124;43mopen\u001B[39;49m\u001B[38;5;124;43m'\u001B[39;49m\u001B[43m,\u001B[49m\u001B[38;5;124;43m'\u001B[39;49m\u001B[38;5;124;43mvolume\u001B[39;49m\u001B[38;5;124;43m'\u001B[39;49m\u001B[43m,\u001B[49m\u001B[38;5;241;43m10\u001B[39;49m\u001B[43m)\u001B[49m\n",
      "File \u001B[0;32m/Volumes/Samsung_T5/Mac/Projects/Python/QuantSystemMVP/realgam/quantlib/engineer/op_engineer.py:610\u001B[0m, in \u001B[0;36mGroupOpEngineer.ts_corr\u001B[0;34m(self, col1, col2, n, inplace)\u001B[0m\n\u001B[1;32m    608\u001B[0m \u001B[38;5;28;01mif\u001B[39;00m \u001B[38;5;129;01mnot\u001B[39;00m \u001B[38;5;28misinstance\u001B[39m(inplace, \u001B[38;5;28mbool\u001B[39m):\n\u001B[1;32m    609\u001B[0m     \u001B[38;5;28;01mraise\u001B[39;00m \u001B[38;5;167;01mException\u001B[39;00m(\u001B[38;5;124mf\u001B[39m\u001B[38;5;124m\"\u001B[39m\u001B[38;5;124m'\u001B[39m\u001B[38;5;124minplace\u001B[39m\u001B[38;5;124m'\u001B[39m\u001B[38;5;124m argument should be a bool, received \u001B[39m\u001B[38;5;132;01m{\u001B[39;00m\u001B[38;5;28mtype\u001B[39m(inplace)\u001B[38;5;132;01m}\u001B[39;00m\u001B[38;5;124m\"\u001B[39m)\n\u001B[0;32m--> 610\u001B[0m eng_values \u001B[38;5;241m=\u001B[39m \u001B[38;5;28;43mself\u001B[39;49m\u001B[38;5;241;43m.\u001B[39;49m\u001B[43mdf\u001B[49m\u001B[38;5;241;43m.\u001B[39;49m\u001B[43mgroupby\u001B[49m\u001B[43m(\u001B[49m\u001B[38;5;28;43mself\u001B[39;49m\u001B[38;5;241;43m.\u001B[39;49m\u001B[43mgroupby_col\u001B[49m\u001B[43m)\u001B[49m\u001B[43m[\u001B[49m\u001B[43m[\u001B[49m\u001B[43mcol1\u001B[49m\u001B[43m,\u001B[49m\u001B[43m \u001B[49m\u001B[43mcol2\u001B[49m\u001B[43m]\u001B[49m\u001B[43m]\u001B[49m\u001B[38;5;241;43m.\u001B[39;49m\u001B[43mrolling\u001B[49m\u001B[43m(\u001B[49m\u001B[43mn\u001B[49m\u001B[43m)\u001B[49m\u001B[38;5;241;43m.\u001B[39;49m\u001B[43mcorr\u001B[49m\u001B[43m(\u001B[49m\u001B[43m)\u001B[49m\u001B[38;5;241m.\u001B[39miloc[\u001B[38;5;241m0\u001B[39m::\u001B[38;5;241m2\u001B[39m, \u001B[38;5;241m-\u001B[39m\u001B[38;5;241m1\u001B[39m]\n\u001B[1;32m    612\u001B[0m \u001B[38;5;28;01mif\u001B[39;00m inplace:\n\u001B[1;32m    613\u001B[0m     \u001B[38;5;28mself\u001B[39m\u001B[38;5;241m.\u001B[39mdf[\u001B[38;5;124mf\u001B[39m\u001B[38;5;124m'\u001B[39m\u001B[38;5;124mts_corr\u001B[39m\u001B[38;5;132;01m{\u001B[39;00mn\u001B[38;5;132;01m}\u001B[39;00m\u001B[38;5;124m_\u001B[39m\u001B[38;5;132;01m{\u001B[39;00mcol1\u001B[38;5;132;01m}\u001B[39;00m\u001B[38;5;124m_\u001B[39m\u001B[38;5;132;01m{\u001B[39;00mcol2\u001B[38;5;132;01m}\u001B[39;00m\u001B[38;5;124m'\u001B[39m] \u001B[38;5;241m=\u001B[39m eng_values\u001B[38;5;241m.\u001B[39mvalues\n",
      "File \u001B[0;32m~/miniconda3/envs/quant/lib/python3.9/site-packages/pandas/core/window/rolling.py:2311\u001B[0m, in \u001B[0;36mRolling.corr\u001B[0;34m(self, other, pairwise, ddof, **kwargs)\u001B[0m\n\u001B[1;32m   2188\u001B[0m \u001B[38;5;129m@doc\u001B[39m(\n\u001B[1;32m   2189\u001B[0m     template_header,\n\u001B[1;32m   2190\u001B[0m     create_section_header(\u001B[38;5;124m\"\u001B[39m\u001B[38;5;124mParameters\u001B[39m\u001B[38;5;124m\"\u001B[39m),\n\u001B[0;32m   (...)\u001B[0m\n\u001B[1;32m   2309\u001B[0m     \u001B[38;5;241m*\u001B[39m\u001B[38;5;241m*\u001B[39mkwargs,\n\u001B[1;32m   2310\u001B[0m ):\n\u001B[0;32m-> 2311\u001B[0m     \u001B[38;5;28;01mreturn\u001B[39;00m \u001B[38;5;28;43msuper\u001B[39;49m\u001B[43m(\u001B[49m\u001B[43m)\u001B[49m\u001B[38;5;241;43m.\u001B[39;49m\u001B[43mcorr\u001B[49m\u001B[43m(\u001B[49m\u001B[43mother\u001B[49m\u001B[38;5;241;43m=\u001B[39;49m\u001B[43mother\u001B[49m\u001B[43m,\u001B[49m\u001B[43m \u001B[49m\u001B[43mpairwise\u001B[49m\u001B[38;5;241;43m=\u001B[39;49m\u001B[43mpairwise\u001B[49m\u001B[43m,\u001B[49m\u001B[43m \u001B[49m\u001B[43mddof\u001B[49m\u001B[38;5;241;43m=\u001B[39;49m\u001B[43mddof\u001B[49m\u001B[43m,\u001B[49m\u001B[43m \u001B[49m\u001B[38;5;241;43m*\u001B[39;49m\u001B[38;5;241;43m*\u001B[39;49m\u001B[43mkwargs\u001B[49m\u001B[43m)\u001B[49m\n",
      "File \u001B[0;32m~/miniconda3/envs/quant/lib/python3.9/site-packages/pandas/core/window/rolling.py:1484\u001B[0m, in \u001B[0;36mRollingAndExpandingMixin.corr\u001B[0;34m(self, other, pairwise, ddof, **kwargs)\u001B[0m\n\u001B[1;32m   1481\u001B[0m         result \u001B[38;5;241m=\u001B[39m numerator \u001B[38;5;241m/\u001B[39m denominator\n\u001B[1;32m   1482\u001B[0m     \u001B[38;5;28;01mreturn\u001B[39;00m Series(result, index\u001B[38;5;241m=\u001B[39mx\u001B[38;5;241m.\u001B[39mindex, name\u001B[38;5;241m=\u001B[39mx\u001B[38;5;241m.\u001B[39mname)\n\u001B[0;32m-> 1484\u001B[0m \u001B[38;5;28;01mreturn\u001B[39;00m \u001B[38;5;28;43mself\u001B[39;49m\u001B[38;5;241;43m.\u001B[39;49m\u001B[43m_apply_pairwise\u001B[49m\u001B[43m(\u001B[49m\u001B[38;5;28;43mself\u001B[39;49m\u001B[38;5;241;43m.\u001B[39;49m\u001B[43m_selected_obj\u001B[49m\u001B[43m,\u001B[49m\u001B[43m \u001B[49m\u001B[43mother\u001B[49m\u001B[43m,\u001B[49m\u001B[43m \u001B[49m\u001B[43mpairwise\u001B[49m\u001B[43m,\u001B[49m\u001B[43m \u001B[49m\u001B[43mcorr_func\u001B[49m\u001B[43m)\u001B[49m\n",
      "File \u001B[0;32m~/miniconda3/envs/quant/lib/python3.9/site-packages/pandas/core/window/rolling.py:659\u001B[0m, in \u001B[0;36mBaseWindowGroupby._apply_pairwise\u001B[0;34m(self, target, other, pairwise, func)\u001B[0m\n\u001B[1;32m    657\u001B[0m target \u001B[38;5;241m=\u001B[39m target\u001B[38;5;241m.\u001B[39mdrop(columns\u001B[38;5;241m=\u001B[39m\u001B[38;5;28mself\u001B[39m\u001B[38;5;241m.\u001B[39m_grouper\u001B[38;5;241m.\u001B[39mnames, errors\u001B[38;5;241m=\u001B[39m\u001B[38;5;124m\"\u001B[39m\u001B[38;5;124mignore\u001B[39m\u001B[38;5;124m\"\u001B[39m)\n\u001B[1;32m    658\u001B[0m target \u001B[38;5;241m=\u001B[39m \u001B[38;5;28mself\u001B[39m\u001B[38;5;241m.\u001B[39m_create_data(target)\n\u001B[0;32m--> 659\u001B[0m result \u001B[38;5;241m=\u001B[39m \u001B[38;5;28;43msuper\u001B[39;49m\u001B[43m(\u001B[49m\u001B[43m)\u001B[49m\u001B[38;5;241;43m.\u001B[39;49m\u001B[43m_apply_pairwise\u001B[49m\u001B[43m(\u001B[49m\u001B[43mtarget\u001B[49m\u001B[43m,\u001B[49m\u001B[43m \u001B[49m\u001B[43mother\u001B[49m\u001B[43m,\u001B[49m\u001B[43m \u001B[49m\u001B[43mpairwise\u001B[49m\u001B[43m,\u001B[49m\u001B[43m \u001B[49m\u001B[43mfunc\u001B[49m\u001B[43m)\u001B[49m\n\u001B[1;32m    660\u001B[0m \u001B[38;5;66;03m# 1) Determine the levels + codes of the groupby levels\u001B[39;00m\n\u001B[1;32m    661\u001B[0m \u001B[38;5;28;01mif\u001B[39;00m other \u001B[38;5;129;01mis\u001B[39;00m \u001B[38;5;129;01mnot\u001B[39;00m \u001B[38;5;28;01mNone\u001B[39;00m \u001B[38;5;129;01mand\u001B[39;00m \u001B[38;5;129;01mnot\u001B[39;00m \u001B[38;5;28mall\u001B[39m(\n\u001B[1;32m    662\u001B[0m     \u001B[38;5;28mlen\u001B[39m(group) \u001B[38;5;241m==\u001B[39m \u001B[38;5;28mlen\u001B[39m(other) \u001B[38;5;28;01mfor\u001B[39;00m group \u001B[38;5;129;01min\u001B[39;00m \u001B[38;5;28mself\u001B[39m\u001B[38;5;241m.\u001B[39m_grouper\u001B[38;5;241m.\u001B[39mindices\u001B[38;5;241m.\u001B[39mvalues()\n\u001B[1;32m    663\u001B[0m ):\n\u001B[0;32m   (...)\u001B[0m\n\u001B[1;32m    666\u001B[0m     \u001B[38;5;66;03m# from flex_binary_moment to a \"transform\"-like result\u001B[39;00m\n\u001B[1;32m    667\u001B[0m     \u001B[38;5;66;03m# per groupby combination\u001B[39;00m\n",
      "File \u001B[0;32m~/miniconda3/envs/quant/lib/python3.9/site-packages/pandas/core/window/rolling.py:480\u001B[0m, in \u001B[0;36mBaseWindow._apply_pairwise\u001B[0;34m(self, target, other, pairwise, func)\u001B[0m\n\u001B[1;32m    477\u001B[0m \u001B[38;5;28;01melif\u001B[39;00m \u001B[38;5;129;01mnot\u001B[39;00m \u001B[38;5;28misinstance\u001B[39m(other, (ABCDataFrame, ABCSeries)):\n\u001B[1;32m    478\u001B[0m     \u001B[38;5;28;01mraise\u001B[39;00m \u001B[38;5;167;01mValueError\u001B[39;00m(\u001B[38;5;124m\"\u001B[39m\u001B[38;5;124mother must be a DataFrame or Series\u001B[39m\u001B[38;5;124m\"\u001B[39m)\n\u001B[0;32m--> 480\u001B[0m \u001B[38;5;28;01mreturn\u001B[39;00m \u001B[43mflex_binary_moment\u001B[49m\u001B[43m(\u001B[49m\u001B[43mtarget\u001B[49m\u001B[43m,\u001B[49m\u001B[43m \u001B[49m\u001B[43mother\u001B[49m\u001B[43m,\u001B[49m\u001B[43m \u001B[49m\u001B[43mfunc\u001B[49m\u001B[43m,\u001B[49m\u001B[43m \u001B[49m\u001B[43mpairwise\u001B[49m\u001B[38;5;241;43m=\u001B[39;49m\u001B[38;5;28;43mbool\u001B[39;49m\u001B[43m(\u001B[49m\u001B[43mpairwise\u001B[49m\u001B[43m)\u001B[49m\u001B[43m)\u001B[49m\n",
      "File \u001B[0;32m~/miniconda3/envs/quant/lib/python3.9/site-packages/pandas/core/window/common.py:98\u001B[0m, in \u001B[0;36mflex_binary_moment\u001B[0;34m(arg1, arg2, f, pairwise)\u001B[0m\n\u001B[1;32m     94\u001B[0m         result\u001B[38;5;241m.\u001B[39mindex \u001B[38;5;241m=\u001B[39m MultiIndex\u001B[38;5;241m.\u001B[39mfrom_product(\n\u001B[1;32m     95\u001B[0m             [\u001B[38;5;28mrange\u001B[39m(\u001B[38;5;28mlen\u001B[39m(arg2\u001B[38;5;241m.\u001B[39mcolumns)), \u001B[38;5;28mrange\u001B[39m(\u001B[38;5;28mlen\u001B[39m(result_index))]\n\u001B[1;32m     96\u001B[0m         )\n\u001B[1;32m     97\u001B[0m         result \u001B[38;5;241m=\u001B[39m result\u001B[38;5;241m.\u001B[39mswaplevel(\u001B[38;5;241m1\u001B[39m, \u001B[38;5;241m0\u001B[39m)\u001B[38;5;241m.\u001B[39msort_index()\n\u001B[0;32m---> 98\u001B[0m         result\u001B[38;5;241m.\u001B[39mindex \u001B[38;5;241m=\u001B[39m \u001B[43mMultiIndex\u001B[49m\u001B[38;5;241;43m.\u001B[39;49m\u001B[43mfrom_product\u001B[49m\u001B[43m(\u001B[49m\n\u001B[1;32m     99\u001B[0m \u001B[43m            \u001B[49m\u001B[43m[\u001B[49m\u001B[43mresult_index\u001B[49m\u001B[43m]\u001B[49m\u001B[43m \u001B[49m\u001B[38;5;241;43m+\u001B[39;49m\u001B[43m \u001B[49m\u001B[43m[\u001B[49m\u001B[43marg2\u001B[49m\u001B[38;5;241;43m.\u001B[39;49m\u001B[43mcolumns\u001B[49m\u001B[43m]\u001B[49m\n\u001B[1;32m    100\u001B[0m \u001B[43m        \u001B[49m\u001B[43m)\u001B[49m\n\u001B[1;32m    101\u001B[0m \u001B[38;5;28;01melse\u001B[39;00m:\n\u001B[1;32m    102\u001B[0m \n\u001B[1;32m    103\u001B[0m     \u001B[38;5;66;03m# empty result\u001B[39;00m\n\u001B[1;32m    104\u001B[0m     result \u001B[38;5;241m=\u001B[39m DataFrame(\n\u001B[1;32m    105\u001B[0m         index\u001B[38;5;241m=\u001B[39mMultiIndex(\n\u001B[1;32m    106\u001B[0m             levels\u001B[38;5;241m=\u001B[39m[arg1\u001B[38;5;241m.\u001B[39mindex, arg2\u001B[38;5;241m.\u001B[39mcolumns], codes\u001B[38;5;241m=\u001B[39m[[], []]\n\u001B[0;32m   (...)\u001B[0m\n\u001B[1;32m    109\u001B[0m         dtype\u001B[38;5;241m=\u001B[39m\u001B[38;5;124m\"\u001B[39m\u001B[38;5;124mfloat64\u001B[39m\u001B[38;5;124m\"\u001B[39m,\n\u001B[1;32m    110\u001B[0m     )\n",
      "File \u001B[0;32m~/miniconda3/envs/quant/lib/python3.9/site-packages/pandas/core/indexes/multi.py:615\u001B[0m, in \u001B[0;36mMultiIndex.from_product\u001B[0;34m(cls, iterables, sortorder, names)\u001B[0m\n\u001B[1;32m    612\u001B[0m \u001B[38;5;28;01melif\u001B[39;00m is_iterator(iterables):\n\u001B[1;32m    613\u001B[0m     iterables \u001B[38;5;241m=\u001B[39m \u001B[38;5;28mlist\u001B[39m(iterables)\n\u001B[0;32m--> 615\u001B[0m codes, levels \u001B[38;5;241m=\u001B[39m \u001B[43mfactorize_from_iterables\u001B[49m\u001B[43m(\u001B[49m\u001B[43miterables\u001B[49m\u001B[43m)\u001B[49m\n\u001B[1;32m    616\u001B[0m \u001B[38;5;28;01mif\u001B[39;00m names \u001B[38;5;129;01mis\u001B[39;00m lib\u001B[38;5;241m.\u001B[39mno_default:\n\u001B[1;32m    617\u001B[0m     names \u001B[38;5;241m=\u001B[39m [\u001B[38;5;28mgetattr\u001B[39m(it, \u001B[38;5;124m\"\u001B[39m\u001B[38;5;124mname\u001B[39m\u001B[38;5;124m\"\u001B[39m, \u001B[38;5;28;01mNone\u001B[39;00m) \u001B[38;5;28;01mfor\u001B[39;00m it \u001B[38;5;129;01min\u001B[39;00m iterables]\n",
      "File \u001B[0;32m~/miniconda3/envs/quant/lib/python3.9/site-packages/pandas/core/arrays/categorical.py:2782\u001B[0m, in \u001B[0;36mfactorize_from_iterables\u001B[0;34m(iterables)\u001B[0m\n\u001B[1;32m   2778\u001B[0m \u001B[38;5;28;01mif\u001B[39;00m \u001B[38;5;28mlen\u001B[39m(iterables) \u001B[38;5;241m==\u001B[39m \u001B[38;5;241m0\u001B[39m:\n\u001B[1;32m   2779\u001B[0m     \u001B[38;5;66;03m# For consistency, it should return two empty lists.\u001B[39;00m\n\u001B[1;32m   2780\u001B[0m     \u001B[38;5;28;01mreturn\u001B[39;00m [], []\n\u001B[0;32m-> 2782\u001B[0m codes, categories \u001B[38;5;241m=\u001B[39m \u001B[38;5;28;43mzip\u001B[39;49m\u001B[43m(\u001B[49m\u001B[38;5;241;43m*\u001B[39;49m\u001B[43m(\u001B[49m\u001B[43mfactorize_from_iterable\u001B[49m\u001B[43m(\u001B[49m\u001B[43mit\u001B[49m\u001B[43m)\u001B[49m\u001B[43m \u001B[49m\u001B[38;5;28;43;01mfor\u001B[39;49;00m\u001B[43m \u001B[49m\u001B[43mit\u001B[49m\u001B[43m \u001B[49m\u001B[38;5;129;43;01min\u001B[39;49;00m\u001B[43m \u001B[49m\u001B[43miterables\u001B[49m\u001B[43m)\u001B[49m\u001B[43m)\u001B[49m\n\u001B[1;32m   2783\u001B[0m \u001B[38;5;28;01mreturn\u001B[39;00m \u001B[38;5;28mlist\u001B[39m(codes), \u001B[38;5;28mlist\u001B[39m(categories)\n",
      "File \u001B[0;32m~/miniconda3/envs/quant/lib/python3.9/site-packages/pandas/core/arrays/categorical.py:2782\u001B[0m, in \u001B[0;36m<genexpr>\u001B[0;34m(.0)\u001B[0m\n\u001B[1;32m   2778\u001B[0m \u001B[38;5;28;01mif\u001B[39;00m \u001B[38;5;28mlen\u001B[39m(iterables) \u001B[38;5;241m==\u001B[39m \u001B[38;5;241m0\u001B[39m:\n\u001B[1;32m   2779\u001B[0m     \u001B[38;5;66;03m# For consistency, it should return two empty lists.\u001B[39;00m\n\u001B[1;32m   2780\u001B[0m     \u001B[38;5;28;01mreturn\u001B[39;00m [], []\n\u001B[0;32m-> 2782\u001B[0m codes, categories \u001B[38;5;241m=\u001B[39m \u001B[38;5;28mzip\u001B[39m(\u001B[38;5;241m*\u001B[39m(\u001B[43mfactorize_from_iterable\u001B[49m\u001B[43m(\u001B[49m\u001B[43mit\u001B[49m\u001B[43m)\u001B[49m \u001B[38;5;28;01mfor\u001B[39;00m it \u001B[38;5;129;01min\u001B[39;00m iterables))\n\u001B[1;32m   2783\u001B[0m \u001B[38;5;28;01mreturn\u001B[39;00m \u001B[38;5;28mlist\u001B[39m(codes), \u001B[38;5;28mlist\u001B[39m(categories)\n",
      "File \u001B[0;32m~/miniconda3/envs/quant/lib/python3.9/site-packages/pandas/core/arrays/categorical.py:2755\u001B[0m, in \u001B[0;36mfactorize_from_iterable\u001B[0;34m(values)\u001B[0m\n\u001B[1;32m   2750\u001B[0m     codes \u001B[38;5;241m=\u001B[39m values\u001B[38;5;241m.\u001B[39mcodes\n\u001B[1;32m   2751\u001B[0m \u001B[38;5;28;01melse\u001B[39;00m:\n\u001B[1;32m   2752\u001B[0m     \u001B[38;5;66;03m# The value of ordered is irrelevant since we don't use cat as such,\u001B[39;00m\n\u001B[1;32m   2753\u001B[0m     \u001B[38;5;66;03m# but only the resulting categories, the order of which is independent\u001B[39;00m\n\u001B[1;32m   2754\u001B[0m     \u001B[38;5;66;03m# from ordered. Set ordered to False as default. See GH #15457\u001B[39;00m\n\u001B[0;32m-> 2755\u001B[0m     cat \u001B[38;5;241m=\u001B[39m \u001B[43mCategorical\u001B[49m\u001B[43m(\u001B[49m\u001B[43mvalues\u001B[49m\u001B[43m,\u001B[49m\u001B[43m \u001B[49m\u001B[43mordered\u001B[49m\u001B[38;5;241;43m=\u001B[39;49m\u001B[38;5;28;43;01mFalse\u001B[39;49;00m\u001B[43m)\u001B[49m\n\u001B[1;32m   2756\u001B[0m     categories \u001B[38;5;241m=\u001B[39m cat\u001B[38;5;241m.\u001B[39mcategories\n\u001B[1;32m   2757\u001B[0m     codes \u001B[38;5;241m=\u001B[39m cat\u001B[38;5;241m.\u001B[39mcodes\n",
      "File \u001B[0;32m~/miniconda3/envs/quant/lib/python3.9/site-packages/pandas/core/arrays/categorical.py:445\u001B[0m, in \u001B[0;36mCategorical.__init__\u001B[0;34m(self, values, categories, ordered, dtype, fastpath, copy)\u001B[0m\n\u001B[1;32m    438\u001B[0m             \u001B[38;5;28;01mraise\u001B[39;00m \u001B[38;5;167;01mTypeError\u001B[39;00m(\n\u001B[1;32m    439\u001B[0m                 \u001B[38;5;124m\"\u001B[39m\u001B[38;5;124m'\u001B[39m\u001B[38;5;124mvalues\u001B[39m\u001B[38;5;124m'\u001B[39m\u001B[38;5;124m is not ordered, please \u001B[39m\u001B[38;5;124m\"\u001B[39m\n\u001B[1;32m    440\u001B[0m                 \u001B[38;5;124m\"\u001B[39m\u001B[38;5;124mexplicitly specify the categories order \u001B[39m\u001B[38;5;124m\"\u001B[39m\n\u001B[1;32m    441\u001B[0m                 \u001B[38;5;124m\"\u001B[39m\u001B[38;5;124mby passing in a categories argument.\u001B[39m\u001B[38;5;124m\"\u001B[39m\n\u001B[1;32m    442\u001B[0m             ) \u001B[38;5;28;01mfrom\u001B[39;00m \u001B[38;5;21;01merr\u001B[39;00m\n\u001B[1;32m    444\u001B[0m     \u001B[38;5;66;03m# we're inferring from values\u001B[39;00m\n\u001B[0;32m--> 445\u001B[0m     dtype \u001B[38;5;241m=\u001B[39m \u001B[43mCategoricalDtype\u001B[49m\u001B[43m(\u001B[49m\u001B[43mcategories\u001B[49m\u001B[43m,\u001B[49m\u001B[43m \u001B[49m\u001B[43mdtype\u001B[49m\u001B[38;5;241;43m.\u001B[39;49m\u001B[43mordered\u001B[49m\u001B[43m)\u001B[49m\n\u001B[1;32m    447\u001B[0m \u001B[38;5;28;01melif\u001B[39;00m is_categorical_dtype(values\u001B[38;5;241m.\u001B[39mdtype):\n\u001B[1;32m    448\u001B[0m     \u001B[38;5;66;03m# error: Item \"ExtensionArray\" of \"Union[Any, ExtensionArray]\" has no\u001B[39;00m\n\u001B[1;32m    449\u001B[0m     \u001B[38;5;66;03m# attribute \"_codes\"\u001B[39;00m\n\u001B[1;32m    450\u001B[0m     old_codes \u001B[38;5;241m=\u001B[39m extract_array(values)\u001B[38;5;241m.\u001B[39m_codes  \u001B[38;5;66;03m# type: ignore[union-attr]\u001B[39;00m\n",
      "File \u001B[0;32m~/miniconda3/envs/quant/lib/python3.9/site-packages/pandas/core/dtypes/dtypes.py:183\u001B[0m, in \u001B[0;36mCategoricalDtype.__init__\u001B[0;34m(self, categories, ordered)\u001B[0m\n\u001B[1;32m    182\u001B[0m \u001B[38;5;28;01mdef\u001B[39;00m \u001B[38;5;21m__init__\u001B[39m(\u001B[38;5;28mself\u001B[39m, categories\u001B[38;5;241m=\u001B[39m\u001B[38;5;28;01mNone\u001B[39;00m, ordered: Ordered \u001B[38;5;241m=\u001B[39m \u001B[38;5;28;01mFalse\u001B[39;00m):\n\u001B[0;32m--> 183\u001B[0m     \u001B[38;5;28;43mself\u001B[39;49m\u001B[38;5;241;43m.\u001B[39;49m\u001B[43m_finalize\u001B[49m\u001B[43m(\u001B[49m\u001B[43mcategories\u001B[49m\u001B[43m,\u001B[49m\u001B[43m \u001B[49m\u001B[43mordered\u001B[49m\u001B[43m,\u001B[49m\u001B[43m \u001B[49m\u001B[43mfastpath\u001B[49m\u001B[38;5;241;43m=\u001B[39;49m\u001B[38;5;28;43;01mFalse\u001B[39;49;00m\u001B[43m)\u001B[49m\n",
      "File \u001B[0;32m~/miniconda3/envs/quant/lib/python3.9/site-packages/pandas/core/dtypes/dtypes.py:337\u001B[0m, in \u001B[0;36mCategoricalDtype._finalize\u001B[0;34m(self, categories, ordered, fastpath)\u001B[0m\n\u001B[1;32m    334\u001B[0m     \u001B[38;5;28mself\u001B[39m\u001B[38;5;241m.\u001B[39mvalidate_ordered(ordered)\n\u001B[1;32m    336\u001B[0m \u001B[38;5;28;01mif\u001B[39;00m categories \u001B[38;5;129;01mis\u001B[39;00m \u001B[38;5;129;01mnot\u001B[39;00m \u001B[38;5;28;01mNone\u001B[39;00m:\n\u001B[0;32m--> 337\u001B[0m     categories \u001B[38;5;241m=\u001B[39m \u001B[38;5;28;43mself\u001B[39;49m\u001B[38;5;241;43m.\u001B[39;49m\u001B[43mvalidate_categories\u001B[49m\u001B[43m(\u001B[49m\u001B[43mcategories\u001B[49m\u001B[43m,\u001B[49m\u001B[43m \u001B[49m\u001B[43mfastpath\u001B[49m\u001B[38;5;241;43m=\u001B[39;49m\u001B[43mfastpath\u001B[49m\u001B[43m)\u001B[49m\n\u001B[1;32m    339\u001B[0m \u001B[38;5;28mself\u001B[39m\u001B[38;5;241m.\u001B[39m_categories \u001B[38;5;241m=\u001B[39m categories\n\u001B[1;32m    340\u001B[0m \u001B[38;5;28mself\u001B[39m\u001B[38;5;241m.\u001B[39m_ordered \u001B[38;5;241m=\u001B[39m ordered\n",
      "File \u001B[0;32m~/miniconda3/envs/quant/lib/python3.9/site-packages/pandas/core/dtypes/dtypes.py:536\u001B[0m, in \u001B[0;36mCategoricalDtype.validate_categories\u001B[0;34m(categories, fastpath)\u001B[0m\n\u001B[1;32m    532\u001B[0m     categories \u001B[38;5;241m=\u001B[39m Index(categories, tupleize_cols\u001B[38;5;241m=\u001B[39m\u001B[38;5;28;01mFalse\u001B[39;00m)\n\u001B[1;32m    534\u001B[0m \u001B[38;5;28;01mif\u001B[39;00m \u001B[38;5;129;01mnot\u001B[39;00m fastpath:\n\u001B[0;32m--> 536\u001B[0m     \u001B[38;5;28;01mif\u001B[39;00m \u001B[43mcategories\u001B[49m\u001B[38;5;241;43m.\u001B[39;49m\u001B[43mhasnans\u001B[49m:\n\u001B[1;32m    537\u001B[0m         \u001B[38;5;28;01mraise\u001B[39;00m \u001B[38;5;167;01mValueError\u001B[39;00m(\u001B[38;5;124m\"\u001B[39m\u001B[38;5;124mCategorical categories cannot be null\u001B[39m\u001B[38;5;124m\"\u001B[39m)\n\u001B[1;32m    539\u001B[0m     \u001B[38;5;28;01mif\u001B[39;00m \u001B[38;5;129;01mnot\u001B[39;00m categories\u001B[38;5;241m.\u001B[39mis_unique:\n",
      "File \u001B[0;32m~/miniconda3/envs/quant/lib/python3.9/site-packages/pandas/_libs/properties.pyx:37\u001B[0m, in \u001B[0;36mpandas._libs.properties.CachedProperty.__get__\u001B[0;34m()\u001B[0m\n",
      "File \u001B[0;32m~/miniconda3/envs/quant/lib/python3.9/site-packages/pandas/core/indexes/base.py:2450\u001B[0m, in \u001B[0;36mIndex.hasnans\u001B[0;34m(self)\u001B[0m\n\u001B[1;32m   2446\u001B[0m \u001B[38;5;124;03m\"\"\"\u001B[39;00m\n\u001B[1;32m   2447\u001B[0m \u001B[38;5;124;03mReturn if I have any nans; enables various perf speedups.\u001B[39;00m\n\u001B[1;32m   2448\u001B[0m \u001B[38;5;124;03m\"\"\"\u001B[39;00m\n\u001B[1;32m   2449\u001B[0m \u001B[38;5;28;01mif\u001B[39;00m \u001B[38;5;28mself\u001B[39m\u001B[38;5;241m.\u001B[39m_can_hold_na:\n\u001B[0;32m-> 2450\u001B[0m     \u001B[38;5;28;01mreturn\u001B[39;00m \u001B[38;5;28mbool\u001B[39m(\u001B[38;5;28;43mself\u001B[39;49m\u001B[38;5;241;43m.\u001B[39;49m\u001B[43m_isnan\u001B[49m\u001B[38;5;241m.\u001B[39many())\n\u001B[1;32m   2451\u001B[0m \u001B[38;5;28;01melse\u001B[39;00m:\n\u001B[1;32m   2452\u001B[0m     \u001B[38;5;28;01mreturn\u001B[39;00m \u001B[38;5;28;01mFalse\u001B[39;00m\n",
      "File \u001B[0;32m~/miniconda3/envs/quant/lib/python3.9/site-packages/pandas/_libs/properties.pyx:37\u001B[0m, in \u001B[0;36mpandas._libs.properties.CachedProperty.__get__\u001B[0;34m()\u001B[0m\n",
      "File \u001B[0;32m~/miniconda3/envs/quant/lib/python3.9/site-packages/pandas/core/indexes/base.py:2437\u001B[0m, in \u001B[0;36mIndex._isnan\u001B[0;34m(self)\u001B[0m\n\u001B[1;32m   2433\u001B[0m \u001B[38;5;124;03m\"\"\"\u001B[39;00m\n\u001B[1;32m   2434\u001B[0m \u001B[38;5;124;03mReturn if each value is NaN.\u001B[39;00m\n\u001B[1;32m   2435\u001B[0m \u001B[38;5;124;03m\"\"\"\u001B[39;00m\n\u001B[1;32m   2436\u001B[0m \u001B[38;5;28;01mif\u001B[39;00m \u001B[38;5;28mself\u001B[39m\u001B[38;5;241m.\u001B[39m_can_hold_na:\n\u001B[0;32m-> 2437\u001B[0m     \u001B[38;5;28;01mreturn\u001B[39;00m \u001B[43misna\u001B[49m\u001B[43m(\u001B[49m\u001B[38;5;28;43mself\u001B[39;49m\u001B[43m)\u001B[49m\n\u001B[1;32m   2438\u001B[0m \u001B[38;5;28;01melse\u001B[39;00m:\n\u001B[1;32m   2439\u001B[0m     \u001B[38;5;66;03m# shouldn't reach to this condition by checking hasnans beforehand\u001B[39;00m\n\u001B[1;32m   2440\u001B[0m     values \u001B[38;5;241m=\u001B[39m np\u001B[38;5;241m.\u001B[39mempty(\u001B[38;5;28mlen\u001B[39m(\u001B[38;5;28mself\u001B[39m), dtype\u001B[38;5;241m=\u001B[39mnp\u001B[38;5;241m.\u001B[39mbool_)\n",
      "File \u001B[0;32m~/miniconda3/envs/quant/lib/python3.9/site-packages/pandas/core/dtypes/missing.py:138\u001B[0m, in \u001B[0;36misna\u001B[0;34m(obj)\u001B[0m\n\u001B[1;32m     61\u001B[0m \u001B[38;5;28;01mdef\u001B[39;00m \u001B[38;5;21misna\u001B[39m(obj):\n\u001B[1;32m     62\u001B[0m     \u001B[38;5;124;03m\"\"\"\u001B[39;00m\n\u001B[1;32m     63\u001B[0m \u001B[38;5;124;03m    Detect missing values for an array-like object.\u001B[39;00m\n\u001B[1;32m     64\u001B[0m \n\u001B[0;32m   (...)\u001B[0m\n\u001B[1;32m    136\u001B[0m \u001B[38;5;124;03m    Name: 1, dtype: bool\u001B[39;00m\n\u001B[1;32m    137\u001B[0m \u001B[38;5;124;03m    \"\"\"\u001B[39;00m\n\u001B[0;32m--> 138\u001B[0m     \u001B[38;5;28;01mreturn\u001B[39;00m \u001B[43m_isna\u001B[49m\u001B[43m(\u001B[49m\u001B[43mobj\u001B[49m\u001B[43m)\u001B[49m\n",
      "File \u001B[0;32m~/miniconda3/envs/quant/lib/python3.9/site-packages/pandas/core/dtypes/missing.py:167\u001B[0m, in \u001B[0;36m_isna\u001B[0;34m(obj, inf_as_na)\u001B[0m\n\u001B[1;32m    165\u001B[0m \u001B[38;5;66;03m# hack (for now) because MI registers as ndarray\u001B[39;00m\n\u001B[1;32m    166\u001B[0m \u001B[38;5;28;01melif\u001B[39;00m \u001B[38;5;28misinstance\u001B[39m(obj, ABCMultiIndex):\n\u001B[0;32m--> 167\u001B[0m     \u001B[38;5;28;01mraise\u001B[39;00m \u001B[38;5;167;01mNotImplementedError\u001B[39;00m(\u001B[38;5;124m\"\u001B[39m\u001B[38;5;124misna is not defined for MultiIndex\u001B[39m\u001B[38;5;124m\"\u001B[39m)\n\u001B[1;32m    168\u001B[0m \u001B[38;5;28;01melif\u001B[39;00m \u001B[38;5;28misinstance\u001B[39m(obj, \u001B[38;5;28mtype\u001B[39m):\n\u001B[1;32m    169\u001B[0m     \u001B[38;5;28;01mreturn\u001B[39;00m \u001B[38;5;28;01mFalse\u001B[39;00m\n",
      "\u001B[0;31mNotImplementedError\u001B[0m: isna is not defined for MultiIndex"
     ]
    }
   ],
   "source": [
    "goe = GroupOpEngineer(small_hist, 'ticker')\n",
    "goe.ts_corr('open','volume',10)"
   ],
   "metadata": {
    "collapsed": false,
    "pycharm": {
     "name": "#%%\n"
    }
   }
  },
  {
   "cell_type": "code",
   "execution_count": 20,
   "outputs": [
    {
     "data": {
      "text/plain": "ticker  ticker  date      \nA       A       2012-01-03         NaN\n                2012-01-04         NaN\n                2012-01-05         NaN\n                2012-01-06         NaN\n                2012-01-09         NaN\n                                ...   \nACER    ACER    2022-03-14    0.243021\n                2022-03-15    0.388569\n                2022-03-16   -0.425023\n                2022-03-17   -0.297427\n                2022-03-18   -0.259615\nLength: 12243500, dtype: float64"
     },
     "execution_count": 20,
     "metadata": {},
     "output_type": "execute_result"
    }
   ],
   "source": [
    "small_hist.groupby('ticker')['volume'].rolling(10).corr(small_hist['openadj'])"
   ],
   "metadata": {
    "collapsed": false,
    "pycharm": {
     "name": "#%%\n"
    }
   }
  },
  {
   "cell_type": "code",
   "execution_count": null,
   "outputs": [],
   "source": [
    "df = small_hist[['closeadj']].reset_index().set_index(['ticker','date'])"
   ],
   "metadata": {
    "collapsed": false,
    "pycharm": {
     "name": "#%%\n"
    }
   }
  },
  {
   "cell_type": "code",
   "execution_count": 180,
   "outputs": [],
   "source": [
    "goe = GroupOpEngineer(df, 'ticker')"
   ],
   "metadata": {
    "collapsed": false,
    "pycharm": {
     "name": "#%%\n"
    }
   }
  },
  {
   "cell_type": "code",
   "execution_count": 181,
   "outputs": [],
   "source": [
    "df['ts_ret_closeadj'] = goe.ts_ret('closeadj').values\n",
    "df['ts_std20_closeadj'] = goe.ts_std('closeadj', 20).values"
   ],
   "metadata": {
    "collapsed": false,
    "pycharm": {
     "name": "#%%\n"
    }
   }
  },
  {
   "cell_type": "code",
   "execution_count": 182,
   "outputs": [],
   "source": [
    "df.loc[df['ts_ret_closeadj'] < 0, 'closeadj'] = df['ts_std20_closeadj']"
   ],
   "metadata": {
    "collapsed": false,
    "pycharm": {
     "name": "#%%\n"
    }
   }
  },
  {
   "cell_type": "code",
   "execution_count": 183,
   "outputs": [],
   "source": [
    "df.loc[df['ts_ret_closeadj'].isnull() |  df['ts_std20_closeadj'].isnull(), 'closeadj'] = np.nan"
   ],
   "metadata": {
    "collapsed": false,
    "pycharm": {
     "name": "#%%\n"
    }
   }
  },
  {
   "cell_type": "code",
   "execution_count": 184,
   "outputs": [],
   "source": [
    "df['closeadj'] = np.power(df.closeadj, 2)"
   ],
   "metadata": {
    "collapsed": false,
    "pycharm": {
     "name": "#%%\n"
    }
   }
  },
  {
   "cell_type": "code",
   "execution_count": 185,
   "outputs": [],
   "source": [
    "goe.set_df(df)"
   ],
   "metadata": {
    "collapsed": false,
    "pycharm": {
     "name": "#%%\n"
    }
   }
  },
  {
   "cell_type": "code",
   "execution_count": null,
   "outputs": [],
   "source": [
    "asdfas"
   ],
   "metadata": {
    "collapsed": false,
    "pycharm": {
     "name": "#%%\n"
    }
   }
  },
  {
   "cell_type": "code",
   "execution_count": 186,
   "outputs": [],
   "source": [
    "df['ts_argmax5_closeadj'] = goe.ts_argmax('closeadj', 5).values"
   ],
   "metadata": {
    "collapsed": false,
    "pycharm": {
     "name": "#%%\n"
    }
   }
  },
  {
   "cell_type": "code",
   "execution_count": 189,
   "outputs": [],
   "source": [
    "goe.set_df(df)\n",
    "df['cs_pctrank_ts_argmax5_closeadj'] = goe.cs_rank('ts_argmax5_closeadj', method='dense')"
   ],
   "metadata": {
    "collapsed": false,
    "pycharm": {
     "name": "#%%\n"
    }
   }
  },
  {
   "cell_type": "code",
   "execution_count": 190,
   "outputs": [
    {
     "data": {
      "text/plain": "                   closeadj  ts_ret_closeadj  ts_std20_closeadj  \\\nticker date                                                       \nA      2012-01-03       NaN              NaN                NaN   \n       2012-01-04       NaN        -0.007975                NaN   \n       2012-01-05       NaN         0.022402                NaN   \n       2012-01-06       NaN         0.010812                NaN   \n       2012-01-09       NaN         0.026214                NaN   \n...                     ...              ...                ...   \nACER   2022-03-14  0.000590        -0.024691           0.024288   \n       2022-03-15  0.000581        -0.004219           0.024098   \n       2022-03-16  6.502500         0.080508           0.030271   \n       2022-03-17  6.604900         0.007843           0.030126   \n       2022-03-18  7.075600         0.035019           0.030635   \n\n                   ts_argmax5_closeadj  cs_pctrank_ts_argmax5_closeadj  \nticker date                                                             \nA      2012-01-03                  NaN                             NaN  \n       2012-01-04                  NaN                             NaN  \n       2012-01-05                  NaN                             NaN  \n       2012-01-06                  NaN                             NaN  \n       2012-01-09                  NaN                             NaN  \n...                                ...                             ...  \nACER   2022-03-14                  2.0                             3.0  \n       2022-03-15                  1.0                             2.0  \n       2022-03-16                  5.0                             6.0  \n       2022-03-17                  5.0                             6.0  \n       2022-03-18                  5.0                             6.0  \n\n[122435 rows x 5 columns]",
      "text/html": "<div>\n<style scoped>\n    .dataframe tbody tr th:only-of-type {\n        vertical-align: middle;\n    }\n\n    .dataframe tbody tr th {\n        vertical-align: top;\n    }\n\n    .dataframe thead th {\n        text-align: right;\n    }\n</style>\n<table border=\"1\" class=\"dataframe\">\n  <thead>\n    <tr style=\"text-align: right;\">\n      <th></th>\n      <th></th>\n      <th>closeadj</th>\n      <th>ts_ret_closeadj</th>\n      <th>ts_std20_closeadj</th>\n      <th>ts_argmax5_closeadj</th>\n      <th>cs_pctrank_ts_argmax5_closeadj</th>\n    </tr>\n    <tr>\n      <th>ticker</th>\n      <th>date</th>\n      <th></th>\n      <th></th>\n      <th></th>\n      <th></th>\n      <th></th>\n    </tr>\n  </thead>\n  <tbody>\n    <tr>\n      <th rowspan=\"5\" valign=\"top\">A</th>\n      <th>2012-01-03</th>\n      <td>NaN</td>\n      <td>NaN</td>\n      <td>NaN</td>\n      <td>NaN</td>\n      <td>NaN</td>\n    </tr>\n    <tr>\n      <th>2012-01-04</th>\n      <td>NaN</td>\n      <td>-0.007975</td>\n      <td>NaN</td>\n      <td>NaN</td>\n      <td>NaN</td>\n    </tr>\n    <tr>\n      <th>2012-01-05</th>\n      <td>NaN</td>\n      <td>0.022402</td>\n      <td>NaN</td>\n      <td>NaN</td>\n      <td>NaN</td>\n    </tr>\n    <tr>\n      <th>2012-01-06</th>\n      <td>NaN</td>\n      <td>0.010812</td>\n      <td>NaN</td>\n      <td>NaN</td>\n      <td>NaN</td>\n    </tr>\n    <tr>\n      <th>2012-01-09</th>\n      <td>NaN</td>\n      <td>0.026214</td>\n      <td>NaN</td>\n      <td>NaN</td>\n      <td>NaN</td>\n    </tr>\n    <tr>\n      <th>...</th>\n      <th>...</th>\n      <td>...</td>\n      <td>...</td>\n      <td>...</td>\n      <td>...</td>\n      <td>...</td>\n    </tr>\n    <tr>\n      <th rowspan=\"5\" valign=\"top\">ACER</th>\n      <th>2022-03-14</th>\n      <td>0.000590</td>\n      <td>-0.024691</td>\n      <td>0.024288</td>\n      <td>2.0</td>\n      <td>3.0</td>\n    </tr>\n    <tr>\n      <th>2022-03-15</th>\n      <td>0.000581</td>\n      <td>-0.004219</td>\n      <td>0.024098</td>\n      <td>1.0</td>\n      <td>2.0</td>\n    </tr>\n    <tr>\n      <th>2022-03-16</th>\n      <td>6.502500</td>\n      <td>0.080508</td>\n      <td>0.030271</td>\n      <td>5.0</td>\n      <td>6.0</td>\n    </tr>\n    <tr>\n      <th>2022-03-17</th>\n      <td>6.604900</td>\n      <td>0.007843</td>\n      <td>0.030126</td>\n      <td>5.0</td>\n      <td>6.0</td>\n    </tr>\n    <tr>\n      <th>2022-03-18</th>\n      <td>7.075600</td>\n      <td>0.035019</td>\n      <td>0.030635</td>\n      <td>5.0</td>\n      <td>6.0</td>\n    </tr>\n  </tbody>\n</table>\n<p>122435 rows × 5 columns</p>\n</div>"
     },
     "execution_count": 190,
     "metadata": {},
     "output_type": "execute_result"
    }
   ],
   "source": [
    "df"
   ],
   "metadata": {
    "collapsed": false,
    "pycharm": {
     "name": "#%%\n"
    }
   }
  },
  {
   "cell_type": "code",
   "execution_count": null,
   "outputs": [],
   "source": [
    "print(data.loc[idx[['AAPL','GOOGL'],'2021-03-18'],])"
   ],
   "metadata": {
    "collapsed": false,
    "pycharm": {
     "name": "#%%\n"
    }
   }
  },
  {
   "cell_type": "code",
   "execution_count": 168,
   "outputs": [
    {
     "data": {
      "text/plain": "                   closeadj  ts_ret_closeadj  ts_std20_closeadj  \\\nticker date                                                       \nA      2012-01-03       NaN              NaN                NaN   \n       2012-01-04       NaN        -0.007975                NaN   \n       2012-01-05       NaN         0.022402                NaN   \n       2012-01-06       NaN         0.010812                NaN   \n       2012-01-09       NaN         0.026214                NaN   \n...                     ...              ...                ...   \nACER   2022-03-14  0.000590        -0.024691           0.024288   \n       2022-03-15  0.000581        -0.004219           0.024098   \n       2022-03-16  6.502500         0.080508           0.030271   \n       2022-03-17  6.604900         0.007843           0.030126   \n       2022-03-18  7.075600         0.035019           0.030635   \n\n                   ts_argmax5_closeadj  cs_pctrank_ts_argmax5_closeadj  \nticker date                                                             \nA      2012-01-03                  NaN                             NaN  \n       2012-01-04                  NaN                             NaN  \n       2012-01-05                  NaN                             NaN  \n       2012-01-06                  NaN                             NaN  \n       2012-01-09                  NaN                             NaN  \n...                                ...                             ...  \nACER   2022-03-14                  2.0                            24.5  \n       2022-03-15                  1.0                            16.0  \n       2022-03-16                  5.0                            43.0  \n       2022-03-17                  5.0                            42.5  \n       2022-03-18                  5.0                            43.5  \n\n[122435 rows x 5 columns]",
      "text/html": "<div>\n<style scoped>\n    .dataframe tbody tr th:only-of-type {\n        vertical-align: middle;\n    }\n\n    .dataframe tbody tr th {\n        vertical-align: top;\n    }\n\n    .dataframe thead th {\n        text-align: right;\n    }\n</style>\n<table border=\"1\" class=\"dataframe\">\n  <thead>\n    <tr style=\"text-align: right;\">\n      <th></th>\n      <th></th>\n      <th>closeadj</th>\n      <th>ts_ret_closeadj</th>\n      <th>ts_std20_closeadj</th>\n      <th>ts_argmax5_closeadj</th>\n      <th>cs_pctrank_ts_argmax5_closeadj</th>\n    </tr>\n    <tr>\n      <th>ticker</th>\n      <th>date</th>\n      <th></th>\n      <th></th>\n      <th></th>\n      <th></th>\n      <th></th>\n    </tr>\n  </thead>\n  <tbody>\n    <tr>\n      <th rowspan=\"5\" valign=\"top\">A</th>\n      <th>2012-01-03</th>\n      <td>NaN</td>\n      <td>NaN</td>\n      <td>NaN</td>\n      <td>NaN</td>\n      <td>NaN</td>\n    </tr>\n    <tr>\n      <th>2012-01-04</th>\n      <td>NaN</td>\n      <td>-0.007975</td>\n      <td>NaN</td>\n      <td>NaN</td>\n      <td>NaN</td>\n    </tr>\n    <tr>\n      <th>2012-01-05</th>\n      <td>NaN</td>\n      <td>0.022402</td>\n      <td>NaN</td>\n      <td>NaN</td>\n      <td>NaN</td>\n    </tr>\n    <tr>\n      <th>2012-01-06</th>\n      <td>NaN</td>\n      <td>0.010812</td>\n      <td>NaN</td>\n      <td>NaN</td>\n      <td>NaN</td>\n    </tr>\n    <tr>\n      <th>2012-01-09</th>\n      <td>NaN</td>\n      <td>0.026214</td>\n      <td>NaN</td>\n      <td>NaN</td>\n      <td>NaN</td>\n    </tr>\n    <tr>\n      <th>...</th>\n      <th>...</th>\n      <td>...</td>\n      <td>...</td>\n      <td>...</td>\n      <td>...</td>\n      <td>...</td>\n    </tr>\n    <tr>\n      <th rowspan=\"5\" valign=\"top\">ACER</th>\n      <th>2022-03-14</th>\n      <td>0.000590</td>\n      <td>-0.024691</td>\n      <td>0.024288</td>\n      <td>2.0</td>\n      <td>24.5</td>\n    </tr>\n    <tr>\n      <th>2022-03-15</th>\n      <td>0.000581</td>\n      <td>-0.004219</td>\n      <td>0.024098</td>\n      <td>1.0</td>\n      <td>16.0</td>\n    </tr>\n    <tr>\n      <th>2022-03-16</th>\n      <td>6.502500</td>\n      <td>0.080508</td>\n      <td>0.030271</td>\n      <td>5.0</td>\n      <td>43.0</td>\n    </tr>\n    <tr>\n      <th>2022-03-17</th>\n      <td>6.604900</td>\n      <td>0.007843</td>\n      <td>0.030126</td>\n      <td>5.0</td>\n      <td>42.5</td>\n    </tr>\n    <tr>\n      <th>2022-03-18</th>\n      <td>7.075600</td>\n      <td>0.035019</td>\n      <td>0.030635</td>\n      <td>5.0</td>\n      <td>43.5</td>\n    </tr>\n  </tbody>\n</table>\n<p>122435 rows × 5 columns</p>\n</div>"
     },
     "execution_count": 168,
     "metadata": {},
     "output_type": "execute_result"
    }
   ],
   "source": [
    "df"
   ],
   "metadata": {
    "collapsed": false,
    "pycharm": {
     "name": "#%%\n"
    }
   }
  },
  {
   "cell_type": "code",
   "execution_count": null,
   "outputs": [],
   "source": [
    "df.loc[idx[slice(None), '2012-02-07'],]['cs_pctrank_ts_argmax5_closeadj']"
   ],
   "metadata": {
    "collapsed": false,
    "pycharm": {
     "name": "#%%\n"
    }
   }
  },
  {
   "cell_type": "code",
   "execution_count": 165,
   "outputs": [
    {
     "data": {
      "text/plain": "array([0.44897959, 0.66326531, 0.10204082, 0.85714286, 0.23469388])"
     },
     "execution_count": 165,
     "metadata": {},
     "output_type": "execute_result"
    }
   ],
   "source": [
    "idx = pd.IndexSlice\n",
    "df.loc[idx[slice(None), '2012-02-07'],]['cs_pctrank_ts_argmax5_closeadj'].unique()"
   ],
   "metadata": {
    "collapsed": false,
    "pycharm": {
     "name": "#%%\n"
    }
   }
  },
  {
   "cell_type": "code",
   "execution_count": 166,
   "outputs": [
    {
     "data": {
      "text/plain": "array([0.10204082, 0.87755102, 0.42857143, 0.67346939, 0.2244898 ])"
     },
     "execution_count": 166,
     "metadata": {},
     "output_type": "execute_result"
    }
   ],
   "source": [
    "df.loc[idx[slice(None), '2012-02-15'],]['cs_pctrank_ts_argmax5_closeadj'].unique()"
   ],
   "metadata": {
    "collapsed": false,
    "pycharm": {
     "name": "#%%\n"
    }
   }
  },
  {
   "cell_type": "code",
   "execution_count": 27,
   "outputs": [
    {
     "ename": "ValueError",
     "evalue": "NumPy boolean array indexing assignment cannot assign 122318 input values to the 55284 output values where the mask is true",
     "output_type": "error",
     "traceback": [
      "\u001B[0;31m---------------------------------------------------------------------------\u001B[0m",
      "\u001B[0;31mValueError\u001B[0m                                Traceback (most recent call last)",
      "Input \u001B[0;32mIn [27]\u001B[0m, in \u001B[0;36m<module>\u001B[0;34m\u001B[0m\n\u001B[1;32m      1\u001B[0m c \u001B[38;5;241m=\u001B[39m df\u001B[38;5;241m.\u001B[39mcloseadj\u001B[38;5;241m.\u001B[39mvalues\n\u001B[1;32m      2\u001B[0m r \u001B[38;5;241m=\u001B[39m df[\u001B[38;5;124m'\u001B[39m\u001B[38;5;124mts_ret_closeadj\u001B[39m\u001B[38;5;124m'\u001B[39m]\u001B[38;5;241m.\u001B[39mvalues\n\u001B[0;32m----> 3\u001B[0m c[r \u001B[38;5;241m<\u001B[39m \u001B[38;5;241m0\u001B[39m ] \u001B[38;5;241m=\u001B[39m df[\u001B[38;5;124m'\u001B[39m\u001B[38;5;124mts_std20_closeadj\u001B[39m\u001B[38;5;124m'\u001B[39m]\u001B[38;5;241m.\u001B[39mvalues\n",
      "\u001B[0;31mValueError\u001B[0m: NumPy boolean array indexing assignment cannot assign 122318 input values to the 55284 output values where the mask is true"
     ]
    }
   ],
   "source": [
    "c = df.closeadj.values\n",
    "r = df['ts_ret_closeadj'].values\n",
    "c[r < 0 ] = df['ts_std20_closeadj'].values"
   ],
   "metadata": {
    "collapsed": false,
    "pycharm": {
     "name": "#%%\n"
    }
   }
  },
  {
   "cell_type": "code",
   "execution_count": 29,
   "outputs": [
    {
     "data": {
      "text/plain": "array([23.882, 25.684, 25.776, ...,  2.43 ,  2.37 ,  2.36 ])"
     },
     "execution_count": 29,
     "metadata": {},
     "output_type": "execute_result"
    }
   ],
   "source": [
    "c[r < 0]"
   ],
   "metadata": {
    "collapsed": false,
    "pycharm": {
     "name": "#%%\n"
    }
   }
  },
  {
   "cell_type": "code",
   "execution_count": null,
   "outputs": [],
   "source": [],
   "metadata": {
    "collapsed": false,
    "pycharm": {
     "name": "#%%\n"
    }
   }
  }
 ],
 "metadata": {
  "kernelspec": {
   "display_name": "Python 3 (ipykernel)",
   "language": "python",
   "name": "python3"
  },
  "language_info": {
   "codemirror_mode": {
    "name": "ipython",
    "version": 3
   },
   "file_extension": ".py",
   "mimetype": "text/x-python",
   "name": "python",
   "nbconvert_exporter": "python",
   "pygments_lexer": "ipython3",
   "version": "3.9.7"
  }
 },
 "nbformat": 4,
 "nbformat_minor": 5
}