{
 "cells": [
  {
   "cell_type": "code",
   "execution_count": 1,
   "metadata": {
    "collapsed": true
   },
   "outputs": [],
   "source": [
    "import pandas as pd\n",
    "from pandas import DataFrame\n",
    "import numpy as np\n",
    "from typing import List, Callable, Dict\n",
    "from realgam.quantlib import general_utils as gu\n",
    "from realgam.quantlib.engineer.op_engineer import OpEngineer, GroupOpEngineer\n",
    "from realgam.quantlib.engineer.ta_engineer import TalibEngineer, GroupTalibEngineer\n",
    "from realgam.quantlib.engineer.alpha_engineer import AlphaEngineer\n",
    "from realgam.quantlib.engineer.interface import BaseEngineer, GroupBaseEngineer\n",
    "import datetime\n",
    "import os\n",
    "import time\n",
    "PROJECT_PATH = os.getenv('QuantSystemMVP')\n",
    "DATA_PATH = f'{PROJECT_PATH}/Data/stock_hist.obj'"
   ]
  },
  {
   "cell_type": "code",
   "execution_count": 2,
   "outputs": [],
   "source": [
    "stocks_df, stocks_extended_df, available_tickers = gu.load_file(DATA_PATH)\n",
    "stacked_hist = stocks_df.copy()"
   ],
   "metadata": {
    "collapsed": false,
    "pycharm": {
     "name": "#%%\n"
    }
   }
  },
  {
   "cell_type": "code",
   "execution_count": 33,
   "outputs": [],
   "source": [],
   "metadata": {
    "collapsed": false,
    "pycharm": {
     "name": "#%%\n"
    }
   }
  },
  {
   "cell_type": "code",
   "execution_count": 3,
   "outputs": [],
   "source": [
    "goe0 = GroupOpEngineer(stacked_hist, 'ticker')"
   ],
   "metadata": {
    "collapsed": false,
    "pycharm": {
     "name": "#%%\n"
    }
   }
  },
  {
   "cell_type": "code",
   "execution_count": 4,
   "outputs": [
    {
     "ename": "KeyboardInterrupt",
     "evalue": "",
     "output_type": "error",
     "traceback": [
      "\u001B[0;31m---------------------------------------------------------------------------\u001B[0m",
      "\u001B[0;31mKeyboardInterrupt\u001B[0m                         Traceback (most recent call last)",
      "Input \u001B[0;32mIn [4]\u001B[0m, in \u001B[0;36m<module>\u001B[0;34m\u001B[0m\n\u001B[0;32m----> 1\u001B[0m \u001B[43mgoe0\u001B[49m\u001B[38;5;241;43m.\u001B[39;49m\u001B[43mts_rank\u001B[49m\u001B[43m(\u001B[49m\u001B[38;5;124;43m'\u001B[39;49m\u001B[38;5;124;43mvolume\u001B[39;49m\u001B[38;5;124;43m'\u001B[39;49m\u001B[43m,\u001B[49m\u001B[43m \u001B[49m\u001B[38;5;241;43m10\u001B[39;49m\u001B[43m,\u001B[49m\u001B[43m \u001B[49m\u001B[43minplace\u001B[49m\u001B[38;5;241;43m=\u001B[39;49m\u001B[38;5;28;43;01mTrue\u001B[39;49;00m\u001B[43m)\u001B[49m\n",
      "File \u001B[0;32m/Volumes/Samsung_T5/Mac/Projects/Python/QuantSystemMVP/realgam/quantlib/engineer/op_engineer.py:516\u001B[0m, in \u001B[0;36mGroupOpEngineer.ts_rank\u001B[0;34m(self, col, n, inplace, **kwargs)\u001B[0m\n\u001B[1;32m    508\u001B[0m \u001B[38;5;28;01mdef\u001B[39;00m \u001B[38;5;21mts_rank\u001B[39m(\u001B[38;5;28mself\u001B[39m, col: \u001B[38;5;28mstr\u001B[39m, n: \u001B[38;5;28mint\u001B[39m, inplace: \u001B[38;5;28mbool\u001B[39m \u001B[38;5;241m=\u001B[39m \u001B[38;5;28;01mFalse\u001B[39;00m, \u001B[38;5;241m*\u001B[39m\u001B[38;5;241m*\u001B[39mkwargs):\n\u001B[1;32m    509\u001B[0m     \u001B[38;5;124;03m\"\"\"\u001B[39;00m\n\u001B[1;32m    510\u001B[0m \u001B[38;5;124;03m    Rolling time series rank based on given col\u001B[39;00m\n\u001B[1;32m    511\u001B[0m \u001B[38;5;124;03m    :param col: series\u001B[39;00m\n\u001B[0;32m   (...)\u001B[0m\n\u001B[1;32m    514\u001B[0m \u001B[38;5;124;03m    :return: if inplace == False, return pd.Series\u001B[39;00m\n\u001B[1;32m    515\u001B[0m \u001B[38;5;124;03m    \"\"\"\u001B[39;00m\n\u001B[0;32m--> 516\u001B[0m     eng_values \u001B[38;5;241m=\u001B[39m \u001B[38;5;28;43mself\u001B[39;49m\u001B[38;5;241;43m.\u001B[39;49m\u001B[43mdf\u001B[49m\u001B[38;5;241;43m.\u001B[39;49m\u001B[43mgroupby\u001B[49m\u001B[43m(\u001B[49m\u001B[38;5;28;43mself\u001B[39;49m\u001B[38;5;241;43m.\u001B[39;49m\u001B[43mgroupby_col\u001B[49m\u001B[43m)\u001B[49m\u001B[43m[\u001B[49m\u001B[43mcol\u001B[49m\u001B[43m]\u001B[49m\u001B[38;5;241;43m.\u001B[39;49m\u001B[43mrolling\u001B[49m\u001B[43m(\u001B[49m\u001B[43mn\u001B[49m\u001B[43m)\u001B[49m\u001B[38;5;241;43m.\u001B[39;49m\u001B[43mapply\u001B[49m\u001B[43m(\u001B[49m\u001B[43mrank_last_value\u001B[49m\u001B[43m,\u001B[49m\u001B[43m \u001B[49m\u001B[43mraw\u001B[49m\u001B[38;5;241;43m=\u001B[39;49m\u001B[38;5;28;43;01mTrue\u001B[39;49;00m\u001B[43m)\u001B[49m\n\u001B[1;32m    518\u001B[0m     \u001B[38;5;28;01mif\u001B[39;00m inplace:\n\u001B[1;32m    519\u001B[0m         \u001B[38;5;28mself\u001B[39m\u001B[38;5;241m.\u001B[39mdf[\u001B[38;5;124mf\u001B[39m\u001B[38;5;124m'\u001B[39m\u001B[38;5;124mts_rank\u001B[39m\u001B[38;5;132;01m{\u001B[39;00mn\u001B[38;5;132;01m}\u001B[39;00m\u001B[38;5;124m_\u001B[39m\u001B[38;5;132;01m{\u001B[39;00mcol\u001B[38;5;132;01m}\u001B[39;00m\u001B[38;5;124m'\u001B[39m] \u001B[38;5;241m=\u001B[39m eng_values\u001B[38;5;241m.\u001B[39mvalues\n",
      "File \u001B[0;32m~/miniconda3/envs/quant/lib/python3.9/site-packages/pandas/core/window/rolling.py:1661\u001B[0m, in \u001B[0;36mRolling.apply\u001B[0;34m(self, func, raw, engine, engine_kwargs, args, kwargs)\u001B[0m\n\u001B[1;32m   1640\u001B[0m \u001B[38;5;129m@doc\u001B[39m(\n\u001B[1;32m   1641\u001B[0m     template_header,\n\u001B[1;32m   1642\u001B[0m     create_section_header(\u001B[38;5;124m\"\u001B[39m\u001B[38;5;124mParameters\u001B[39m\u001B[38;5;124m\"\u001B[39m),\n\u001B[0;32m   (...)\u001B[0m\n\u001B[1;32m   1659\u001B[0m     kwargs: \u001B[38;5;28mdict\u001B[39m[\u001B[38;5;28mstr\u001B[39m, Any] \u001B[38;5;241m|\u001B[39m \u001B[38;5;28;01mNone\u001B[39;00m \u001B[38;5;241m=\u001B[39m \u001B[38;5;28;01mNone\u001B[39;00m,\n\u001B[1;32m   1660\u001B[0m ):\n\u001B[0;32m-> 1661\u001B[0m     \u001B[38;5;28;01mreturn\u001B[39;00m \u001B[38;5;28;43msuper\u001B[39;49m\u001B[43m(\u001B[49m\u001B[43m)\u001B[49m\u001B[38;5;241;43m.\u001B[39;49m\u001B[43mapply\u001B[49m\u001B[43m(\u001B[49m\n\u001B[1;32m   1662\u001B[0m \u001B[43m        \u001B[49m\u001B[43mfunc\u001B[49m\u001B[43m,\u001B[49m\n\u001B[1;32m   1663\u001B[0m \u001B[43m        \u001B[49m\u001B[43mraw\u001B[49m\u001B[38;5;241;43m=\u001B[39;49m\u001B[43mraw\u001B[49m\u001B[43m,\u001B[49m\n\u001B[1;32m   1664\u001B[0m \u001B[43m        \u001B[49m\u001B[43mengine\u001B[49m\u001B[38;5;241;43m=\u001B[39;49m\u001B[43mengine\u001B[49m\u001B[43m,\u001B[49m\n\u001B[1;32m   1665\u001B[0m \u001B[43m        \u001B[49m\u001B[43mengine_kwargs\u001B[49m\u001B[38;5;241;43m=\u001B[39;49m\u001B[43mengine_kwargs\u001B[49m\u001B[43m,\u001B[49m\n\u001B[1;32m   1666\u001B[0m \u001B[43m        \u001B[49m\u001B[43margs\u001B[49m\u001B[38;5;241;43m=\u001B[39;49m\u001B[43margs\u001B[49m\u001B[43m,\u001B[49m\n\u001B[1;32m   1667\u001B[0m \u001B[43m        \u001B[49m\u001B[43mkwargs\u001B[49m\u001B[38;5;241;43m=\u001B[39;49m\u001B[43mkwargs\u001B[49m\u001B[43m,\u001B[49m\n\u001B[1;32m   1668\u001B[0m \u001B[43m    \u001B[49m\u001B[43m)\u001B[49m\n",
      "File \u001B[0;32m~/miniconda3/envs/quant/lib/python3.9/site-packages/pandas/core/window/rolling.py:1192\u001B[0m, in \u001B[0;36mRollingAndExpandingMixin.apply\u001B[0;34m(self, func, raw, engine, engine_kwargs, args, kwargs)\u001B[0m\n\u001B[1;32m   1189\u001B[0m \u001B[38;5;28;01melse\u001B[39;00m:\n\u001B[1;32m   1190\u001B[0m     \u001B[38;5;28;01mraise\u001B[39;00m \u001B[38;5;167;01mValueError\u001B[39;00m(\u001B[38;5;124m\"\u001B[39m\u001B[38;5;124mengine must be either \u001B[39m\u001B[38;5;124m'\u001B[39m\u001B[38;5;124mnumba\u001B[39m\u001B[38;5;124m'\u001B[39m\u001B[38;5;124m or \u001B[39m\u001B[38;5;124m'\u001B[39m\u001B[38;5;124mcython\u001B[39m\u001B[38;5;124m'\u001B[39m\u001B[38;5;124m\"\u001B[39m)\n\u001B[0;32m-> 1192\u001B[0m \u001B[38;5;28;01mreturn\u001B[39;00m \u001B[38;5;28;43mself\u001B[39;49m\u001B[38;5;241;43m.\u001B[39;49m\u001B[43m_apply\u001B[49m\u001B[43m(\u001B[49m\n\u001B[1;32m   1193\u001B[0m \u001B[43m    \u001B[49m\u001B[43mapply_func\u001B[49m\u001B[43m,\u001B[49m\n\u001B[1;32m   1194\u001B[0m \u001B[43m    \u001B[49m\u001B[43mnumba_cache_key\u001B[49m\u001B[38;5;241;43m=\u001B[39;49m\u001B[43mnumba_cache_key\u001B[49m\u001B[43m,\u001B[49m\n\u001B[1;32m   1195\u001B[0m \u001B[43m\u001B[49m\u001B[43m)\u001B[49m\n",
      "File \u001B[0;32m~/miniconda3/envs/quant/lib/python3.9/site-packages/pandas/core/window/rolling.py:594\u001B[0m, in \u001B[0;36mBaseWindowGroupby._apply\u001B[0;34m(self, func, name, numba_cache_key, **kwargs)\u001B[0m\n\u001B[1;32m    587\u001B[0m \u001B[38;5;28;01mdef\u001B[39;00m \u001B[38;5;21m_apply\u001B[39m(\n\u001B[1;32m    588\u001B[0m     \u001B[38;5;28mself\u001B[39m,\n\u001B[1;32m    589\u001B[0m     func: Callable[\u001B[38;5;241m.\u001B[39m\u001B[38;5;241m.\u001B[39m\u001B[38;5;241m.\u001B[39m, Any],\n\u001B[0;32m   (...)\u001B[0m\n\u001B[1;32m    592\u001B[0m     \u001B[38;5;241m*\u001B[39m\u001B[38;5;241m*\u001B[39mkwargs,\n\u001B[1;32m    593\u001B[0m ) \u001B[38;5;241m-\u001B[39m\u001B[38;5;241m>\u001B[39m FrameOrSeries:\n\u001B[0;32m--> 594\u001B[0m     result \u001B[38;5;241m=\u001B[39m \u001B[38;5;28;43msuper\u001B[39;49m\u001B[43m(\u001B[49m\u001B[43m)\u001B[49m\u001B[38;5;241;43m.\u001B[39;49m\u001B[43m_apply\u001B[49m\u001B[43m(\u001B[49m\n\u001B[1;32m    595\u001B[0m \u001B[43m        \u001B[49m\u001B[43mfunc\u001B[49m\u001B[43m,\u001B[49m\n\u001B[1;32m    596\u001B[0m \u001B[43m        \u001B[49m\u001B[43mname\u001B[49m\u001B[43m,\u001B[49m\n\u001B[1;32m    597\u001B[0m \u001B[43m        \u001B[49m\u001B[43mnumba_cache_key\u001B[49m\u001B[43m,\u001B[49m\n\u001B[1;32m    598\u001B[0m \u001B[43m        \u001B[49m\u001B[38;5;241;43m*\u001B[39;49m\u001B[38;5;241;43m*\u001B[39;49m\u001B[43mkwargs\u001B[49m\u001B[43m,\u001B[49m\n\u001B[1;32m    599\u001B[0m \u001B[43m    \u001B[49m\u001B[43m)\u001B[49m\n\u001B[1;32m    600\u001B[0m     \u001B[38;5;66;03m# Reconstruct the resulting MultiIndex\u001B[39;00m\n\u001B[1;32m    601\u001B[0m     \u001B[38;5;66;03m# 1st set of levels = group by labels\u001B[39;00m\n\u001B[1;32m    602\u001B[0m     \u001B[38;5;66;03m# 2nd set of levels = original DataFrame/Series index\u001B[39;00m\n\u001B[1;32m    603\u001B[0m     grouped_object_index \u001B[38;5;241m=\u001B[39m \u001B[38;5;28mself\u001B[39m\u001B[38;5;241m.\u001B[39mobj\u001B[38;5;241m.\u001B[39mindex\n",
      "File \u001B[0;32m~/miniconda3/envs/quant/lib/python3.9/site-packages/pandas/core/window/rolling.py:545\u001B[0m, in \u001B[0;36mBaseWindow._apply\u001B[0;34m(self, func, name, numba_cache_key, **kwargs)\u001B[0m\n\u001B[1;32m    542\u001B[0m     \u001B[38;5;28;01mreturn\u001B[39;00m result\n\u001B[1;32m    544\u001B[0m \u001B[38;5;28;01mif\u001B[39;00m \u001B[38;5;28mself\u001B[39m\u001B[38;5;241m.\u001B[39mmethod \u001B[38;5;241m==\u001B[39m \u001B[38;5;124m\"\u001B[39m\u001B[38;5;124msingle\u001B[39m\u001B[38;5;124m\"\u001B[39m:\n\u001B[0;32m--> 545\u001B[0m     \u001B[38;5;28;01mreturn\u001B[39;00m \u001B[38;5;28;43mself\u001B[39;49m\u001B[38;5;241;43m.\u001B[39;49m\u001B[43m_apply_blockwise\u001B[49m\u001B[43m(\u001B[49m\u001B[43mhomogeneous_func\u001B[49m\u001B[43m,\u001B[49m\u001B[43m \u001B[49m\u001B[43mname\u001B[49m\u001B[43m)\u001B[49m\n\u001B[1;32m    546\u001B[0m \u001B[38;5;28;01melse\u001B[39;00m:\n\u001B[1;32m    547\u001B[0m     \u001B[38;5;28;01mreturn\u001B[39;00m \u001B[38;5;28mself\u001B[39m\u001B[38;5;241m.\u001B[39m_apply_tablewise(homogeneous_func, name)\n",
      "File \u001B[0;32m~/miniconda3/envs/quant/lib/python3.9/site-packages/pandas/core/window/rolling.py:419\u001B[0m, in \u001B[0;36mBaseWindow._apply_blockwise\u001B[0;34m(self, homogeneous_func, name)\u001B[0m\n\u001B[1;32m    414\u001B[0m \u001B[38;5;124;03m\"\"\"\u001B[39;00m\n\u001B[1;32m    415\u001B[0m \u001B[38;5;124;03mApply the given function to the DataFrame broken down into homogeneous\u001B[39;00m\n\u001B[1;32m    416\u001B[0m \u001B[38;5;124;03msub-frames.\u001B[39;00m\n\u001B[1;32m    417\u001B[0m \u001B[38;5;124;03m\"\"\"\u001B[39;00m\n\u001B[1;32m    418\u001B[0m \u001B[38;5;28;01mif\u001B[39;00m \u001B[38;5;28mself\u001B[39m\u001B[38;5;241m.\u001B[39m_selected_obj\u001B[38;5;241m.\u001B[39mndim \u001B[38;5;241m==\u001B[39m \u001B[38;5;241m1\u001B[39m:\n\u001B[0;32m--> 419\u001B[0m     \u001B[38;5;28;01mreturn\u001B[39;00m \u001B[38;5;28;43mself\u001B[39;49m\u001B[38;5;241;43m.\u001B[39;49m\u001B[43m_apply_series\u001B[49m\u001B[43m(\u001B[49m\u001B[43mhomogeneous_func\u001B[49m\u001B[43m,\u001B[49m\u001B[43m \u001B[49m\u001B[43mname\u001B[49m\u001B[43m)\u001B[49m\n\u001B[1;32m    421\u001B[0m obj \u001B[38;5;241m=\u001B[39m \u001B[38;5;28mself\u001B[39m\u001B[38;5;241m.\u001B[39m_create_data(\u001B[38;5;28mself\u001B[39m\u001B[38;5;241m.\u001B[39m_selected_obj)\n\u001B[1;32m    422\u001B[0m \u001B[38;5;28;01mif\u001B[39;00m name \u001B[38;5;241m==\u001B[39m \u001B[38;5;124m\"\u001B[39m\u001B[38;5;124mcount\u001B[39m\u001B[38;5;124m\"\u001B[39m:\n\u001B[1;32m    423\u001B[0m     \u001B[38;5;66;03m# GH 12541: Special case for count where we support date-like types\u001B[39;00m\n",
      "File \u001B[0;32m~/miniconda3/envs/quant/lib/python3.9/site-packages/pandas/core/window/rolling.py:408\u001B[0m, in \u001B[0;36mBaseWindow._apply_series\u001B[0;34m(self, homogeneous_func, name)\u001B[0m\n\u001B[1;32m    405\u001B[0m \u001B[38;5;28;01mexcept\u001B[39;00m (\u001B[38;5;167;01mTypeError\u001B[39;00m, \u001B[38;5;167;01mNotImplementedError\u001B[39;00m) \u001B[38;5;28;01mas\u001B[39;00m err:\n\u001B[1;32m    406\u001B[0m     \u001B[38;5;28;01mraise\u001B[39;00m DataError(\u001B[38;5;124m\"\u001B[39m\u001B[38;5;124mNo numeric types to aggregate\u001B[39m\u001B[38;5;124m\"\u001B[39m) \u001B[38;5;28;01mfrom\u001B[39;00m \u001B[38;5;21;01merr\u001B[39;00m\n\u001B[0;32m--> 408\u001B[0m result \u001B[38;5;241m=\u001B[39m \u001B[43mhomogeneous_func\u001B[49m\u001B[43m(\u001B[49m\u001B[43mvalues\u001B[49m\u001B[43m)\u001B[49m\n\u001B[1;32m    409\u001B[0m \u001B[38;5;28;01mreturn\u001B[39;00m obj\u001B[38;5;241m.\u001B[39m_constructor(result, index\u001B[38;5;241m=\u001B[39mobj\u001B[38;5;241m.\u001B[39mindex, name\u001B[38;5;241m=\u001B[39mobj\u001B[38;5;241m.\u001B[39mname)\n",
      "File \u001B[0;32m~/miniconda3/envs/quant/lib/python3.9/site-packages/pandas/core/window/rolling.py:537\u001B[0m, in \u001B[0;36mBaseWindow._apply.<locals>.homogeneous_func\u001B[0;34m(values)\u001B[0m\n\u001B[1;32m    535\u001B[0m         result \u001B[38;5;241m=\u001B[39m np\u001B[38;5;241m.\u001B[39mapply_along_axis(calc, \u001B[38;5;28mself\u001B[39m\u001B[38;5;241m.\u001B[39maxis, values)\n\u001B[1;32m    536\u001B[0m     \u001B[38;5;28;01melse\u001B[39;00m:\n\u001B[0;32m--> 537\u001B[0m         result \u001B[38;5;241m=\u001B[39m \u001B[43mcalc\u001B[49m\u001B[43m(\u001B[49m\u001B[43mvalues\u001B[49m\u001B[43m)\u001B[49m\n\u001B[1;32m    539\u001B[0m \u001B[38;5;28;01mif\u001B[39;00m numba_cache_key \u001B[38;5;129;01mis\u001B[39;00m \u001B[38;5;129;01mnot\u001B[39;00m \u001B[38;5;28;01mNone\u001B[39;00m:\n\u001B[1;32m    540\u001B[0m     NUMBA_FUNC_CACHE[numba_cache_key] \u001B[38;5;241m=\u001B[39m func\n",
      "File \u001B[0;32m~/miniconda3/envs/quant/lib/python3.9/site-packages/pandas/core/window/rolling.py:531\u001B[0m, in \u001B[0;36mBaseWindow._apply.<locals>.homogeneous_func.<locals>.calc\u001B[0;34m(x)\u001B[0m\n\u001B[1;32m    521\u001B[0m start, end \u001B[38;5;241m=\u001B[39m window_indexer\u001B[38;5;241m.\u001B[39mget_window_bounds(\n\u001B[1;32m    522\u001B[0m     num_values\u001B[38;5;241m=\u001B[39m\u001B[38;5;28mlen\u001B[39m(x),\n\u001B[1;32m    523\u001B[0m     min_periods\u001B[38;5;241m=\u001B[39mmin_periods,\n\u001B[1;32m    524\u001B[0m     center\u001B[38;5;241m=\u001B[39m\u001B[38;5;28mself\u001B[39m\u001B[38;5;241m.\u001B[39mcenter,\n\u001B[1;32m    525\u001B[0m     closed\u001B[38;5;241m=\u001B[39m\u001B[38;5;28mself\u001B[39m\u001B[38;5;241m.\u001B[39mclosed,\n\u001B[1;32m    526\u001B[0m )\n\u001B[1;32m    527\u001B[0m \u001B[38;5;28;01massert\u001B[39;00m \u001B[38;5;28mlen\u001B[39m(start) \u001B[38;5;241m==\u001B[39m \u001B[38;5;28mlen\u001B[39m(\n\u001B[1;32m    528\u001B[0m     end\n\u001B[1;32m    529\u001B[0m ), \u001B[38;5;124m\"\u001B[39m\u001B[38;5;124mthese should be equal in length from get_window_bounds\u001B[39m\u001B[38;5;124m\"\u001B[39m\n\u001B[0;32m--> 531\u001B[0m \u001B[38;5;28;01mreturn\u001B[39;00m \u001B[43mfunc\u001B[49m\u001B[43m(\u001B[49m\u001B[43mx\u001B[49m\u001B[43m,\u001B[49m\u001B[43m \u001B[49m\u001B[43mstart\u001B[49m\u001B[43m,\u001B[49m\u001B[43m \u001B[49m\u001B[43mend\u001B[49m\u001B[43m,\u001B[49m\u001B[43m \u001B[49m\u001B[43mmin_periods\u001B[49m\u001B[43m)\u001B[49m\n",
      "File \u001B[0;32m~/miniconda3/envs/quant/lib/python3.9/site-packages/pandas/core/window/rolling.py:1217\u001B[0m, in \u001B[0;36mRollingAndExpandingMixin._generate_cython_apply_func.<locals>.apply_func\u001B[0;34m(values, begin, end, min_periods, raw)\u001B[0m\n\u001B[1;32m   1215\u001B[0m \u001B[38;5;28;01mif\u001B[39;00m \u001B[38;5;129;01mnot\u001B[39;00m raw:\n\u001B[1;32m   1216\u001B[0m     values \u001B[38;5;241m=\u001B[39m Series(values, index\u001B[38;5;241m=\u001B[39m\u001B[38;5;28mself\u001B[39m\u001B[38;5;241m.\u001B[39mobj\u001B[38;5;241m.\u001B[39mindex)\n\u001B[0;32m-> 1217\u001B[0m \u001B[38;5;28;01mreturn\u001B[39;00m \u001B[43mwindow_func\u001B[49m\u001B[43m(\u001B[49m\u001B[43mvalues\u001B[49m\u001B[43m,\u001B[49m\u001B[43m \u001B[49m\u001B[43mbegin\u001B[49m\u001B[43m,\u001B[49m\u001B[43m \u001B[49m\u001B[43mend\u001B[49m\u001B[43m,\u001B[49m\u001B[43m \u001B[49m\u001B[43mmin_periods\u001B[49m\u001B[43m)\u001B[49m\n",
      "File \u001B[0;32m~/miniconda3/envs/quant/lib/python3.9/site-packages/pandas/_libs/window/aggregations.pyx:1171\u001B[0m, in \u001B[0;36mpandas._libs.window.aggregations.roll_apply\u001B[0;34m()\u001B[0m\n",
      "File \u001B[0;32m/Volumes/Samsung_T5/Mac/Projects/Python/QuantSystemMVP/realgam/quantlib/engineer/utils.py:16\u001B[0m, in \u001B[0;36mrank_last_value\u001B[0;34m(x, shift, pct)\u001B[0m\n\u001B[1;32m      8\u001B[0m \u001B[38;5;124;03m\"\"\"\u001B[39;00m\n\u001B[1;32m      9\u001B[0m \u001B[38;5;124;03mOne step of the procedure to get the rolling rank of the last value\u001B[39;00m\n\u001B[1;32m     10\u001B[0m \u001B[38;5;124;03maccording to the previous window of values.\u001B[39;00m\n\u001B[0;32m   (...)\u001B[0m\n\u001B[1;32m     13\u001B[0m \u001B[38;5;124;03mUse with .rolling(window=100).apply(rank_last_value, raw=True) for example\u001B[39;00m\n\u001B[1;32m     14\u001B[0m \u001B[38;5;124;03m\"\"\"\u001B[39;00m\n\u001B[1;32m     15\u001B[0m args \u001B[38;5;241m=\u001B[39m np\u001B[38;5;241m.\u001B[39margsort(x)\n\u001B[0;32m---> 16\u001B[0m rank \u001B[38;5;241m=\u001B[39m \u001B[43mnp\u001B[49m\u001B[38;5;241;43m.\u001B[39;49m\u001B[43margwhere\u001B[49m\u001B[43m(\u001B[49m\u001B[43margs\u001B[49m\u001B[43m \u001B[49m\u001B[38;5;241;43m==\u001B[39;49m\u001B[43m \u001B[49m\u001B[43m(\u001B[49m\u001B[43mx\u001B[49m\u001B[38;5;241;43m.\u001B[39;49m\u001B[43mshape\u001B[49m\u001B[43m[\u001B[49m\u001B[38;5;241;43m0\u001B[39;49m\u001B[43m]\u001B[49m\u001B[43m \u001B[49m\u001B[38;5;241;43m-\u001B[39;49m\u001B[43m \u001B[49m\u001B[38;5;241;43m1\u001B[39;49m\u001B[43m)\u001B[49m\u001B[43m)\u001B[49m[\u001B[38;5;241m0\u001B[39m][\u001B[38;5;241m0\u001B[39m]\n\u001B[1;32m     17\u001B[0m \u001B[38;5;28;01mif\u001B[39;00m pct:\n\u001B[1;32m     18\u001B[0m     \u001B[38;5;28;01mreturn\u001B[39;00m (rank \u001B[38;5;241m+\u001B[39m \u001B[38;5;241m1\u001B[39m) \u001B[38;5;241m/\u001B[39m (x\u001B[38;5;241m.\u001B[39mshape[\u001B[38;5;241m0\u001B[39m] \u001B[38;5;241m+\u001B[39m shift)\n",
      "File \u001B[0;32m<__array_function__ internals>:5\u001B[0m, in \u001B[0;36margwhere\u001B[0;34m(*args, **kwargs)\u001B[0m\n",
      "File \u001B[0;32m~/miniconda3/envs/quant/lib/python3.9/site-packages/numpy/core/numeric.py:617\u001B[0m, in \u001B[0;36margwhere\u001B[0;34m(a)\u001B[0m\n\u001B[1;32m    615\u001B[0m     \u001B[38;5;66;03m# then remove the added dimension\u001B[39;00m\n\u001B[1;32m    616\u001B[0m     \u001B[38;5;28;01mreturn\u001B[39;00m argwhere(a)[:,:\u001B[38;5;241m0\u001B[39m]\n\u001B[0;32m--> 617\u001B[0m \u001B[38;5;28;01mreturn\u001B[39;00m transpose(\u001B[43mnonzero\u001B[49m\u001B[43m(\u001B[49m\u001B[43ma\u001B[49m\u001B[43m)\u001B[49m)\n",
      "File \u001B[0;32m<__array_function__ internals>:5\u001B[0m, in \u001B[0;36mnonzero\u001B[0;34m(*args, **kwargs)\u001B[0m\n",
      "File \u001B[0;32m~/miniconda3/envs/quant/lib/python3.9/site-packages/numpy/core/fromnumeric.py:1919\u001B[0m, in \u001B[0;36mnonzero\u001B[0;34m(a)\u001B[0m\n\u001B[1;32m   1827\u001B[0m \u001B[38;5;129m@array_function_dispatch\u001B[39m(_nonzero_dispatcher)\n\u001B[1;32m   1828\u001B[0m \u001B[38;5;28;01mdef\u001B[39;00m \u001B[38;5;21mnonzero\u001B[39m(a):\n\u001B[1;32m   1829\u001B[0m     \u001B[38;5;124;03m\"\"\"\u001B[39;00m\n\u001B[1;32m   1830\u001B[0m \u001B[38;5;124;03m    Return the indices of the elements that are non-zero.\u001B[39;00m\n\u001B[1;32m   1831\u001B[0m \n\u001B[0;32m   (...)\u001B[0m\n\u001B[1;32m   1917\u001B[0m \n\u001B[1;32m   1918\u001B[0m \u001B[38;5;124;03m    \"\"\"\u001B[39;00m\n\u001B[0;32m-> 1919\u001B[0m     \u001B[38;5;28;01mreturn\u001B[39;00m \u001B[43m_wrapfunc\u001B[49m\u001B[43m(\u001B[49m\u001B[43ma\u001B[49m\u001B[43m,\u001B[49m\u001B[43m \u001B[49m\u001B[38;5;124;43m'\u001B[39;49m\u001B[38;5;124;43mnonzero\u001B[39;49m\u001B[38;5;124;43m'\u001B[39;49m\u001B[43m)\u001B[49m\n",
      "File \u001B[0;32m~/miniconda3/envs/quant/lib/python3.9/site-packages/numpy/core/fromnumeric.py:58\u001B[0m, in \u001B[0;36m_wrapfunc\u001B[0;34m(obj, method, *args, **kwds)\u001B[0m\n\u001B[1;32m     55\u001B[0m     \u001B[38;5;28;01mreturn\u001B[39;00m _wrapit(obj, method, \u001B[38;5;241m*\u001B[39margs, \u001B[38;5;241m*\u001B[39m\u001B[38;5;241m*\u001B[39mkwds)\n\u001B[1;32m     57\u001B[0m \u001B[38;5;28;01mtry\u001B[39;00m:\n\u001B[0;32m---> 58\u001B[0m     \u001B[38;5;28;01mreturn\u001B[39;00m \u001B[43mbound\u001B[49m\u001B[43m(\u001B[49m\u001B[38;5;241;43m*\u001B[39;49m\u001B[43margs\u001B[49m\u001B[43m,\u001B[49m\u001B[43m \u001B[49m\u001B[38;5;241;43m*\u001B[39;49m\u001B[38;5;241;43m*\u001B[39;49m\u001B[43mkwds\u001B[49m\u001B[43m)\u001B[49m\n\u001B[1;32m     59\u001B[0m \u001B[38;5;28;01mexcept\u001B[39;00m \u001B[38;5;167;01mTypeError\u001B[39;00m:\n\u001B[1;32m     60\u001B[0m     \u001B[38;5;66;03m# A TypeError occurs if the object does have such a method in its\u001B[39;00m\n\u001B[1;32m     61\u001B[0m     \u001B[38;5;66;03m# class, but its signature is not identical to that of NumPy's. This\u001B[39;00m\n\u001B[0;32m   (...)\u001B[0m\n\u001B[1;32m     65\u001B[0m     \u001B[38;5;66;03m# Call _wrapit from within the except clause to ensure a potential\u001B[39;00m\n\u001B[1;32m     66\u001B[0m     \u001B[38;5;66;03m# exception has a traceback chain.\u001B[39;00m\n\u001B[1;32m     67\u001B[0m     \u001B[38;5;28;01mreturn\u001B[39;00m _wrapit(obj, method, \u001B[38;5;241m*\u001B[39margs, \u001B[38;5;241m*\u001B[39m\u001B[38;5;241m*\u001B[39mkwds)\n",
      "\u001B[0;31mKeyboardInterrupt\u001B[0m: "
     ]
    }
   ],
   "source": [
    "goe0.ts_rank('volume', 10, inplace=True)"
   ],
   "metadata": {
    "collapsed": false,
    "pycharm": {
     "name": "#%%\n"
    }
   }
  },
  {
   "cell_type": "code",
   "execution_count": 4,
   "outputs": [
    {
     "ename": "ValueError",
     "evalue": "Length of values (1) does not match length of index (5369)",
     "output_type": "error",
     "traceback": [
      "\u001B[0;31m---------------------------------------------------------------------------\u001B[0m",
      "\u001B[0;31mValueError\u001B[0m                                Traceback (most recent call last)",
      "Input \u001B[0;32mIn [4]\u001B[0m, in \u001B[0;36m<module>\u001B[0;34m\u001B[0m\n\u001B[0;32m----> 1\u001B[0m \u001B[43mgoe0\u001B[49m\u001B[38;5;241;43m.\u001B[39;49m\u001B[43mcs_pctrank\u001B[49m\u001B[43m(\u001B[49m\u001B[38;5;124;43m'\u001B[39;49m\u001B[38;5;124;43mvolume\u001B[39;49m\u001B[38;5;124;43m'\u001B[39;49m\u001B[43m)\u001B[49m\n",
      "File \u001B[0;32m/Volumes/Samsung_T5/Mac/Projects/Python/QuantSystemMVP/realgam/quantlib/engineer/op_engineer.py:502\u001B[0m, in \u001B[0;36mGroupOpEngineer.cs_pctrank\u001B[0;34m(self, col, inplace, **kwargs)\u001B[0m\n\u001B[1;32m    495\u001B[0m \u001B[38;5;28;01mdef\u001B[39;00m \u001B[38;5;21mcs_pctrank\u001B[39m(\u001B[38;5;28mself\u001B[39m, col: \u001B[38;5;28mstr\u001B[39m, inplace: \u001B[38;5;28mbool\u001B[39m \u001B[38;5;241m=\u001B[39m \u001B[38;5;28;01mFalse\u001B[39;00m, \u001B[38;5;241m*\u001B[39m\u001B[38;5;241m*\u001B[39mkwargs):\n\u001B[1;32m    496\u001B[0m     \u001B[38;5;124;03m\"\"\"\u001B[39;00m\n\u001B[1;32m    497\u001B[0m \u001B[38;5;124;03m    Percentile ranking by given column groupby dates\u001B[39;00m\n\u001B[1;32m    498\u001B[0m \u001B[38;5;124;03m    :param col: series\u001B[39;00m\n\u001B[1;32m    499\u001B[0m \u001B[38;5;124;03m    :param inplace: if True, add engineered column to dataframe attr\u001B[39;00m\n\u001B[1;32m    500\u001B[0m \u001B[38;5;124;03m    :return: if inplace == False, return pd.Series\u001B[39;00m\n\u001B[1;32m    501\u001B[0m \u001B[38;5;124;03m    \"\"\"\u001B[39;00m\n\u001B[0;32m--> 502\u001B[0m     eng_values \u001B[38;5;241m=\u001B[39m \u001B[38;5;28;43mself\u001B[39;49m\u001B[38;5;241;43m.\u001B[39;49m\u001B[43mdf\u001B[49m\u001B[38;5;241;43m.\u001B[39;49m\u001B[43mgroupby\u001B[49m\u001B[43m(\u001B[49m\u001B[38;5;124;43m'\u001B[39;49m\u001B[38;5;124;43mdate\u001B[39;49m\u001B[38;5;124;43m'\u001B[39;49m\u001B[43m)\u001B[49m\u001B[43m[\u001B[49m\u001B[43mcol\u001B[49m\u001B[43m]\u001B[49m\u001B[38;5;241;43m.\u001B[39;49m\u001B[43mapply\u001B[49m\u001B[43m(\u001B[49m\u001B[43mrank_last_value\u001B[49m\u001B[43m,\u001B[49m\u001B[43m \u001B[49m\u001B[43mpct\u001B[49m\u001B[38;5;241;43m=\u001B[39;49m\u001B[38;5;28;43;01mTrue\u001B[39;49;00m\u001B[43m)\u001B[49m\n\u001B[1;32m    503\u001B[0m     \u001B[38;5;28;01mif\u001B[39;00m inplace:\n\u001B[1;32m    504\u001B[0m         \u001B[38;5;28mself\u001B[39m\u001B[38;5;241m.\u001B[39mdf[\u001B[38;5;124mf\u001B[39m\u001B[38;5;124m'\u001B[39m\u001B[38;5;124mcs_pctrank_\u001B[39m\u001B[38;5;132;01m{\u001B[39;00mcol\u001B[38;5;132;01m}\u001B[39;00m\u001B[38;5;124m'\u001B[39m] \u001B[38;5;241m=\u001B[39m eng_values\u001B[38;5;241m.\u001B[39mvalues\n",
      "File \u001B[0;32m~/miniconda3/envs/quant/lib/python3.9/site-packages/pandas/core/groupby/generic.py:223\u001B[0m, in \u001B[0;36mSeriesGroupBy.apply\u001B[0;34m(self, func, *args, **kwargs)\u001B[0m\n\u001B[1;32m    217\u001B[0m \u001B[38;5;129m@Appender\u001B[39m(\n\u001B[1;32m    218\u001B[0m     _apply_docs[\u001B[38;5;124m\"\u001B[39m\u001B[38;5;124mtemplate\u001B[39m\u001B[38;5;124m\"\u001B[39m]\u001B[38;5;241m.\u001B[39mformat(\n\u001B[1;32m    219\u001B[0m         \u001B[38;5;28minput\u001B[39m\u001B[38;5;241m=\u001B[39m\u001B[38;5;124m\"\u001B[39m\u001B[38;5;124mseries\u001B[39m\u001B[38;5;124m\"\u001B[39m, examples\u001B[38;5;241m=\u001B[39m_apply_docs[\u001B[38;5;124m\"\u001B[39m\u001B[38;5;124mseries_examples\u001B[39m\u001B[38;5;124m\"\u001B[39m]\n\u001B[1;32m    220\u001B[0m     )\n\u001B[1;32m    221\u001B[0m )\n\u001B[1;32m    222\u001B[0m \u001B[38;5;28;01mdef\u001B[39;00m \u001B[38;5;21mapply\u001B[39m(\u001B[38;5;28mself\u001B[39m, func, \u001B[38;5;241m*\u001B[39margs, \u001B[38;5;241m*\u001B[39m\u001B[38;5;241m*\u001B[39mkwargs):\n\u001B[0;32m--> 223\u001B[0m     \u001B[38;5;28;01mreturn\u001B[39;00m \u001B[38;5;28;43msuper\u001B[39;49m\u001B[43m(\u001B[49m\u001B[43m)\u001B[49m\u001B[38;5;241;43m.\u001B[39;49m\u001B[43mapply\u001B[49m\u001B[43m(\u001B[49m\u001B[43mfunc\u001B[49m\u001B[43m,\u001B[49m\u001B[43m \u001B[49m\u001B[38;5;241;43m*\u001B[39;49m\u001B[43margs\u001B[49m\u001B[43m,\u001B[49m\u001B[43m \u001B[49m\u001B[38;5;241;43m*\u001B[39;49m\u001B[38;5;241;43m*\u001B[39;49m\u001B[43mkwargs\u001B[49m\u001B[43m)\u001B[49m\n",
      "File \u001B[0;32m~/miniconda3/envs/quant/lib/python3.9/site-packages/pandas/core/groupby/groupby.py:1275\u001B[0m, in \u001B[0;36mGroupBy.apply\u001B[0;34m(self, func, *args, **kwargs)\u001B[0m\n\u001B[1;32m   1273\u001B[0m \u001B[38;5;28;01mwith\u001B[39;00m option_context(\u001B[38;5;124m\"\u001B[39m\u001B[38;5;124mmode.chained_assignment\u001B[39m\u001B[38;5;124m\"\u001B[39m, \u001B[38;5;28;01mNone\u001B[39;00m):\n\u001B[1;32m   1274\u001B[0m     \u001B[38;5;28;01mtry\u001B[39;00m:\n\u001B[0;32m-> 1275\u001B[0m         result \u001B[38;5;241m=\u001B[39m \u001B[38;5;28;43mself\u001B[39;49m\u001B[38;5;241;43m.\u001B[39;49m\u001B[43m_python_apply_general\u001B[49m\u001B[43m(\u001B[49m\u001B[43mf\u001B[49m\u001B[43m,\u001B[49m\u001B[43m \u001B[49m\u001B[38;5;28;43mself\u001B[39;49m\u001B[38;5;241;43m.\u001B[39;49m\u001B[43m_selected_obj\u001B[49m\u001B[43m)\u001B[49m\n\u001B[1;32m   1276\u001B[0m     \u001B[38;5;28;01mexcept\u001B[39;00m \u001B[38;5;167;01mTypeError\u001B[39;00m:\n\u001B[1;32m   1277\u001B[0m         \u001B[38;5;66;03m# gh-20949\u001B[39;00m\n\u001B[1;32m   1278\u001B[0m         \u001B[38;5;66;03m# try again, with .apply acting as a filtering\u001B[39;00m\n\u001B[0;32m   (...)\u001B[0m\n\u001B[1;32m   1282\u001B[0m         \u001B[38;5;66;03m# fails on *some* columns, e.g. a numeric operation\u001B[39;00m\n\u001B[1;32m   1283\u001B[0m         \u001B[38;5;66;03m# on a string grouper column\u001B[39;00m\n\u001B[1;32m   1285\u001B[0m         \u001B[38;5;28;01mwith\u001B[39;00m group_selection_context(\u001B[38;5;28mself\u001B[39m):\n",
      "File \u001B[0;32m~/miniconda3/envs/quant/lib/python3.9/site-packages/pandas/core/groupby/groupby.py:1309\u001B[0m, in \u001B[0;36mGroupBy._python_apply_general\u001B[0;34m(self, f, data)\u001B[0m\n\u001B[1;32m   1290\u001B[0m \u001B[38;5;129m@final\u001B[39m\n\u001B[1;32m   1291\u001B[0m \u001B[38;5;28;01mdef\u001B[39;00m \u001B[38;5;21m_python_apply_general\u001B[39m(\n\u001B[1;32m   1292\u001B[0m     \u001B[38;5;28mself\u001B[39m, f: F, data: FrameOrSeriesUnion\n\u001B[1;32m   1293\u001B[0m ) \u001B[38;5;241m-\u001B[39m\u001B[38;5;241m>\u001B[39m FrameOrSeriesUnion:\n\u001B[1;32m   1294\u001B[0m     \u001B[38;5;124;03m\"\"\"\u001B[39;00m\n\u001B[1;32m   1295\u001B[0m \u001B[38;5;124;03m    Apply function f in python space\u001B[39;00m\n\u001B[1;32m   1296\u001B[0m \n\u001B[0;32m   (...)\u001B[0m\n\u001B[1;32m   1307\u001B[0m \u001B[38;5;124;03m        data after applying f\u001B[39;00m\n\u001B[1;32m   1308\u001B[0m \u001B[38;5;124;03m    \"\"\"\u001B[39;00m\n\u001B[0;32m-> 1309\u001B[0m     keys, values, mutated \u001B[38;5;241m=\u001B[39m \u001B[38;5;28;43mself\u001B[39;49m\u001B[38;5;241;43m.\u001B[39;49m\u001B[43mgrouper\u001B[49m\u001B[38;5;241;43m.\u001B[39;49m\u001B[43mapply\u001B[49m\u001B[43m(\u001B[49m\u001B[43mf\u001B[49m\u001B[43m,\u001B[49m\u001B[43m \u001B[49m\u001B[43mdata\u001B[49m\u001B[43m,\u001B[49m\u001B[43m \u001B[49m\u001B[38;5;28;43mself\u001B[39;49m\u001B[38;5;241;43m.\u001B[39;49m\u001B[43maxis\u001B[49m\u001B[43m)\u001B[49m\n\u001B[1;32m   1311\u001B[0m     \u001B[38;5;28;01mreturn\u001B[39;00m \u001B[38;5;28mself\u001B[39m\u001B[38;5;241m.\u001B[39m_wrap_applied_output(\n\u001B[1;32m   1312\u001B[0m         data, keys, values, not_indexed_same\u001B[38;5;241m=\u001B[39mmutated \u001B[38;5;129;01mor\u001B[39;00m \u001B[38;5;28mself\u001B[39m\u001B[38;5;241m.\u001B[39mmutated\n\u001B[1;32m   1313\u001B[0m     )\n",
      "File \u001B[0;32m~/miniconda3/envs/quant/lib/python3.9/site-packages/pandas/core/groupby/ops.py:852\u001B[0m, in \u001B[0;36mBaseGrouper.apply\u001B[0;34m(self, f, data, axis)\u001B[0m\n\u001B[1;32m    850\u001B[0m \u001B[38;5;66;03m# group might be modified\u001B[39;00m\n\u001B[1;32m    851\u001B[0m group_axes \u001B[38;5;241m=\u001B[39m group\u001B[38;5;241m.\u001B[39maxes\n\u001B[0;32m--> 852\u001B[0m res \u001B[38;5;241m=\u001B[39m \u001B[43mf\u001B[49m\u001B[43m(\u001B[49m\u001B[43mgroup\u001B[49m\u001B[43m)\u001B[49m\n\u001B[1;32m    853\u001B[0m \u001B[38;5;28;01mif\u001B[39;00m \u001B[38;5;129;01mnot\u001B[39;00m _is_indexed_like(res, group_axes, axis):\n\u001B[1;32m    854\u001B[0m     mutated \u001B[38;5;241m=\u001B[39m \u001B[38;5;28;01mTrue\u001B[39;00m\n",
      "File \u001B[0;32m~/miniconda3/envs/quant/lib/python3.9/site-packages/pandas/core/groupby/groupby.py:1259\u001B[0m, in \u001B[0;36mGroupBy.apply.<locals>.f\u001B[0;34m(g)\u001B[0m\n\u001B[1;32m   1256\u001B[0m \u001B[38;5;129m@wraps\u001B[39m(func)\n\u001B[1;32m   1257\u001B[0m \u001B[38;5;28;01mdef\u001B[39;00m \u001B[38;5;21mf\u001B[39m(g):\n\u001B[1;32m   1258\u001B[0m     \u001B[38;5;28;01mwith\u001B[39;00m np\u001B[38;5;241m.\u001B[39merrstate(\u001B[38;5;28mall\u001B[39m\u001B[38;5;241m=\u001B[39m\u001B[38;5;124m\"\u001B[39m\u001B[38;5;124mignore\u001B[39m\u001B[38;5;124m\"\u001B[39m):\n\u001B[0;32m-> 1259\u001B[0m         \u001B[38;5;28;01mreturn\u001B[39;00m \u001B[43mfunc\u001B[49m\u001B[43m(\u001B[49m\u001B[43mg\u001B[49m\u001B[43m,\u001B[49m\u001B[43m \u001B[49m\u001B[38;5;241;43m*\u001B[39;49m\u001B[43margs\u001B[49m\u001B[43m,\u001B[49m\u001B[43m \u001B[49m\u001B[38;5;241;43m*\u001B[39;49m\u001B[38;5;241;43m*\u001B[39;49m\u001B[43mkwargs\u001B[49m\u001B[43m)\u001B[49m\n",
      "File \u001B[0;32m/Volumes/Samsung_T5/Mac/Projects/Python/QuantSystemMVP/realgam/quantlib/engineer/utils.py:16\u001B[0m, in \u001B[0;36mrank_last_value\u001B[0;34m(x, shift, pct)\u001B[0m\n\u001B[1;32m      8\u001B[0m \u001B[38;5;124;03m\"\"\"\u001B[39;00m\n\u001B[1;32m      9\u001B[0m \u001B[38;5;124;03mOne step of the procedure to get the rolling rank of the last value\u001B[39;00m\n\u001B[1;32m     10\u001B[0m \u001B[38;5;124;03maccording to the previous window of values.\u001B[39;00m\n\u001B[0;32m   (...)\u001B[0m\n\u001B[1;32m     13\u001B[0m \u001B[38;5;124;03mUse with .rolling(window=100).apply(rank_last_value, raw=True) for example\u001B[39;00m\n\u001B[1;32m     14\u001B[0m \u001B[38;5;124;03m\"\"\"\u001B[39;00m\n\u001B[1;32m     15\u001B[0m args \u001B[38;5;241m=\u001B[39m np\u001B[38;5;241m.\u001B[39margsort(x)\n\u001B[0;32m---> 16\u001B[0m rank \u001B[38;5;241m=\u001B[39m \u001B[43mnp\u001B[49m\u001B[38;5;241;43m.\u001B[39;49m\u001B[43margwhere\u001B[49m\u001B[43m(\u001B[49m\u001B[43margs\u001B[49m\u001B[43m \u001B[49m\u001B[38;5;241;43m==\u001B[39;49m\u001B[43m \u001B[49m\u001B[43m(\u001B[49m\u001B[43mx\u001B[49m\u001B[38;5;241;43m.\u001B[39;49m\u001B[43mshape\u001B[49m\u001B[43m[\u001B[49m\u001B[38;5;241;43m0\u001B[39;49m\u001B[43m]\u001B[49m\u001B[43m \u001B[49m\u001B[38;5;241;43m-\u001B[39;49m\u001B[43m \u001B[49m\u001B[38;5;241;43m1\u001B[39;49m\u001B[43m)\u001B[49m\u001B[43m)\u001B[49m[\u001B[38;5;241m0\u001B[39m][\u001B[38;5;241m0\u001B[39m]\n\u001B[1;32m     17\u001B[0m \u001B[38;5;28;01mif\u001B[39;00m pct:\n\u001B[1;32m     18\u001B[0m     \u001B[38;5;28;01mreturn\u001B[39;00m (rank \u001B[38;5;241m+\u001B[39m \u001B[38;5;241m1\u001B[39m) \u001B[38;5;241m/\u001B[39m (x\u001B[38;5;241m.\u001B[39mshape[\u001B[38;5;241m0\u001B[39m] \u001B[38;5;241m+\u001B[39m shift)\n",
      "File \u001B[0;32m<__array_function__ internals>:5\u001B[0m, in \u001B[0;36margwhere\u001B[0;34m(*args, **kwargs)\u001B[0m\n",
      "File \u001B[0;32m~/miniconda3/envs/quant/lib/python3.9/site-packages/numpy/core/numeric.py:617\u001B[0m, in \u001B[0;36margwhere\u001B[0;34m(a)\u001B[0m\n\u001B[1;32m    615\u001B[0m     \u001B[38;5;66;03m# then remove the added dimension\u001B[39;00m\n\u001B[1;32m    616\u001B[0m     \u001B[38;5;28;01mreturn\u001B[39;00m argwhere(a)[:,:\u001B[38;5;241m0\u001B[39m]\n\u001B[0;32m--> 617\u001B[0m \u001B[38;5;28;01mreturn\u001B[39;00m transpose(\u001B[43mnonzero\u001B[49m\u001B[43m(\u001B[49m\u001B[43ma\u001B[49m\u001B[43m)\u001B[49m)\n",
      "File \u001B[0;32m<__array_function__ internals>:5\u001B[0m, in \u001B[0;36mnonzero\u001B[0;34m(*args, **kwargs)\u001B[0m\n",
      "File \u001B[0;32m~/miniconda3/envs/quant/lib/python3.9/site-packages/numpy/core/fromnumeric.py:1919\u001B[0m, in \u001B[0;36mnonzero\u001B[0;34m(a)\u001B[0m\n\u001B[1;32m   1827\u001B[0m \u001B[38;5;129m@array_function_dispatch\u001B[39m(_nonzero_dispatcher)\n\u001B[1;32m   1828\u001B[0m \u001B[38;5;28;01mdef\u001B[39;00m \u001B[38;5;21mnonzero\u001B[39m(a):\n\u001B[1;32m   1829\u001B[0m     \u001B[38;5;124;03m\"\"\"\u001B[39;00m\n\u001B[1;32m   1830\u001B[0m \u001B[38;5;124;03m    Return the indices of the elements that are non-zero.\u001B[39;00m\n\u001B[1;32m   1831\u001B[0m \n\u001B[0;32m   (...)\u001B[0m\n\u001B[1;32m   1917\u001B[0m \n\u001B[1;32m   1918\u001B[0m \u001B[38;5;124;03m    \"\"\"\u001B[39;00m\n\u001B[0;32m-> 1919\u001B[0m     \u001B[38;5;28;01mreturn\u001B[39;00m \u001B[43m_wrapfunc\u001B[49m\u001B[43m(\u001B[49m\u001B[43ma\u001B[49m\u001B[43m,\u001B[49m\u001B[43m \u001B[49m\u001B[38;5;124;43m'\u001B[39;49m\u001B[38;5;124;43mnonzero\u001B[39;49m\u001B[38;5;124;43m'\u001B[39;49m\u001B[43m)\u001B[49m\n",
      "File \u001B[0;32m~/miniconda3/envs/quant/lib/python3.9/site-packages/numpy/core/fromnumeric.py:55\u001B[0m, in \u001B[0;36m_wrapfunc\u001B[0;34m(obj, method, *args, **kwds)\u001B[0m\n\u001B[1;32m     53\u001B[0m bound \u001B[38;5;241m=\u001B[39m \u001B[38;5;28mgetattr\u001B[39m(obj, method, \u001B[38;5;28;01mNone\u001B[39;00m)\n\u001B[1;32m     54\u001B[0m \u001B[38;5;28;01mif\u001B[39;00m bound \u001B[38;5;129;01mis\u001B[39;00m \u001B[38;5;28;01mNone\u001B[39;00m:\n\u001B[0;32m---> 55\u001B[0m     \u001B[38;5;28;01mreturn\u001B[39;00m \u001B[43m_wrapit\u001B[49m\u001B[43m(\u001B[49m\u001B[43mobj\u001B[49m\u001B[43m,\u001B[49m\u001B[43m \u001B[49m\u001B[43mmethod\u001B[49m\u001B[43m,\u001B[49m\u001B[43m \u001B[49m\u001B[38;5;241;43m*\u001B[39;49m\u001B[43margs\u001B[49m\u001B[43m,\u001B[49m\u001B[43m \u001B[49m\u001B[38;5;241;43m*\u001B[39;49m\u001B[38;5;241;43m*\u001B[39;49m\u001B[43mkwds\u001B[49m\u001B[43m)\u001B[49m\n\u001B[1;32m     57\u001B[0m \u001B[38;5;28;01mtry\u001B[39;00m:\n\u001B[1;32m     58\u001B[0m     \u001B[38;5;28;01mreturn\u001B[39;00m bound(\u001B[38;5;241m*\u001B[39margs, \u001B[38;5;241m*\u001B[39m\u001B[38;5;241m*\u001B[39mkwds)\n",
      "File \u001B[0;32m~/miniconda3/envs/quant/lib/python3.9/site-packages/numpy/core/fromnumeric.py:48\u001B[0m, in \u001B[0;36m_wrapit\u001B[0;34m(obj, method, *args, **kwds)\u001B[0m\n\u001B[1;32m     46\u001B[0m     \u001B[38;5;28;01mif\u001B[39;00m \u001B[38;5;129;01mnot\u001B[39;00m \u001B[38;5;28misinstance\u001B[39m(result, mu\u001B[38;5;241m.\u001B[39mndarray):\n\u001B[1;32m     47\u001B[0m         result \u001B[38;5;241m=\u001B[39m asarray(result)\n\u001B[0;32m---> 48\u001B[0m     result \u001B[38;5;241m=\u001B[39m \u001B[43mwrap\u001B[49m\u001B[43m(\u001B[49m\u001B[43mresult\u001B[49m\u001B[43m)\u001B[49m\n\u001B[1;32m     49\u001B[0m \u001B[38;5;28;01mreturn\u001B[39;00m result\n",
      "File \u001B[0;32m~/miniconda3/envs/quant/lib/python3.9/site-packages/pandas/core/generic.py:2025\u001B[0m, in \u001B[0;36mNDFrame.__array_wrap__\u001B[0;34m(self, result, context)\u001B[0m\n\u001B[1;32m   2022\u001B[0m d \u001B[38;5;241m=\u001B[39m \u001B[38;5;28mself\u001B[39m\u001B[38;5;241m.\u001B[39m_construct_axes_dict(\u001B[38;5;28mself\u001B[39m\u001B[38;5;241m.\u001B[39m_AXIS_ORDERS, copy\u001B[38;5;241m=\u001B[39m\u001B[38;5;28;01mFalse\u001B[39;00m)\n\u001B[1;32m   2023\u001B[0m \u001B[38;5;66;03m# error: Argument 1 to \"NDFrame\" has incompatible type \"ndarray\";\u001B[39;00m\n\u001B[1;32m   2024\u001B[0m \u001B[38;5;66;03m# expected \"BlockManager\"\u001B[39;00m\n\u001B[0;32m-> 2025\u001B[0m \u001B[38;5;28;01mreturn\u001B[39;00m \u001B[38;5;28;43mself\u001B[39;49m\u001B[38;5;241;43m.\u001B[39;49m\u001B[43m_constructor\u001B[49m\u001B[43m(\u001B[49m\u001B[43mres\u001B[49m\u001B[43m,\u001B[49m\u001B[43m \u001B[49m\u001B[38;5;241;43m*\u001B[39;49m\u001B[38;5;241;43m*\u001B[39;49m\u001B[43md\u001B[49m\u001B[43m)\u001B[49m\u001B[38;5;241m.\u001B[39m__finalize__(  \u001B[38;5;66;03m# type: ignore[arg-type]\u001B[39;00m\n\u001B[1;32m   2026\u001B[0m     \u001B[38;5;28mself\u001B[39m, method\u001B[38;5;241m=\u001B[39m\u001B[38;5;124m\"\u001B[39m\u001B[38;5;124m__array_wrap__\u001B[39m\u001B[38;5;124m\"\u001B[39m\n\u001B[1;32m   2027\u001B[0m )\n",
      "File \u001B[0;32m~/miniconda3/envs/quant/lib/python3.9/site-packages/pandas/core/series.py:430\u001B[0m, in \u001B[0;36mSeries.__init__\u001B[0;34m(self, data, index, dtype, name, copy, fastpath)\u001B[0m\n\u001B[1;32m    428\u001B[0m     index \u001B[38;5;241m=\u001B[39m ibase\u001B[38;5;241m.\u001B[39mdefault_index(\u001B[38;5;28mlen\u001B[39m(data))\n\u001B[1;32m    429\u001B[0m \u001B[38;5;28;01melif\u001B[39;00m is_list_like(data):\n\u001B[0;32m--> 430\u001B[0m     \u001B[43mcom\u001B[49m\u001B[38;5;241;43m.\u001B[39;49m\u001B[43mrequire_length_match\u001B[49m\u001B[43m(\u001B[49m\u001B[43mdata\u001B[49m\u001B[43m,\u001B[49m\u001B[43m \u001B[49m\u001B[43mindex\u001B[49m\u001B[43m)\u001B[49m\n\u001B[1;32m    432\u001B[0m \u001B[38;5;66;03m# create/copy the manager\u001B[39;00m\n\u001B[1;32m    433\u001B[0m \u001B[38;5;28;01mif\u001B[39;00m \u001B[38;5;28misinstance\u001B[39m(data, (SingleBlockManager, SingleArrayManager)):\n",
      "File \u001B[0;32m~/miniconda3/envs/quant/lib/python3.9/site-packages/pandas/core/common.py:531\u001B[0m, in \u001B[0;36mrequire_length_match\u001B[0;34m(data, index)\u001B[0m\n\u001B[1;32m    527\u001B[0m \u001B[38;5;124;03m\"\"\"\u001B[39;00m\n\u001B[1;32m    528\u001B[0m \u001B[38;5;124;03mCheck the length of data matches the length of the index.\u001B[39;00m\n\u001B[1;32m    529\u001B[0m \u001B[38;5;124;03m\"\"\"\u001B[39;00m\n\u001B[1;32m    530\u001B[0m \u001B[38;5;28;01mif\u001B[39;00m \u001B[38;5;28mlen\u001B[39m(data) \u001B[38;5;241m!=\u001B[39m \u001B[38;5;28mlen\u001B[39m(index):\n\u001B[0;32m--> 531\u001B[0m     \u001B[38;5;28;01mraise\u001B[39;00m \u001B[38;5;167;01mValueError\u001B[39;00m(\n\u001B[1;32m    532\u001B[0m         \u001B[38;5;124m\"\u001B[39m\u001B[38;5;124mLength of values \u001B[39m\u001B[38;5;124m\"\u001B[39m\n\u001B[1;32m    533\u001B[0m         \u001B[38;5;124mf\u001B[39m\u001B[38;5;124m\"\u001B[39m\u001B[38;5;124m(\u001B[39m\u001B[38;5;132;01m{\u001B[39;00m\u001B[38;5;28mlen\u001B[39m(data)\u001B[38;5;132;01m}\u001B[39;00m\u001B[38;5;124m) \u001B[39m\u001B[38;5;124m\"\u001B[39m\n\u001B[1;32m    534\u001B[0m         \u001B[38;5;124m\"\u001B[39m\u001B[38;5;124mdoes not match length of index \u001B[39m\u001B[38;5;124m\"\u001B[39m\n\u001B[1;32m    535\u001B[0m         \u001B[38;5;124mf\u001B[39m\u001B[38;5;124m\"\u001B[39m\u001B[38;5;124m(\u001B[39m\u001B[38;5;132;01m{\u001B[39;00m\u001B[38;5;28mlen\u001B[39m(index)\u001B[38;5;132;01m}\u001B[39;00m\u001B[38;5;124m)\u001B[39m\u001B[38;5;124m\"\u001B[39m\n\u001B[1;32m    536\u001B[0m     )\n",
      "\u001B[0;31mValueError\u001B[0m: Length of values (1) does not match length of index (5369)"
     ]
    }
   ],
   "source": [
    "goe = GroupOpEngineer(tripA, 'ticker')"
   ],
   "metadata": {
    "collapsed": false,
    "pycharm": {
     "name": "#%%\n"
    }
   }
  },
  {
   "cell_type": "code",
   "execution_count": null,
   "outputs": [],
   "source": [
    "goe0.ts_pctrank('volume', 10, inplace=True)"
   ],
   "metadata": {
    "collapsed": false,
    "pycharm": {
     "name": "#%%\n"
    }
   }
  },
  {
   "cell_type": "code",
   "execution_count": 49,
   "outputs": [],
   "source": [
    "def rank_last_value(x, shift= 2, pct=False):\n",
    "    \"\"\"\n",
    "    One step of the procedure to get the rolling rank of the last value\n",
    "    according to the previous window of values.\n",
    "\n",
    "    Use the bottlneck routine below instead. It is much faster. Keep this here for testing.\n",
    "    Use with .rolling(window=100).apply(rank_last_value, raw=True) for example\n",
    "    \"\"\"\n",
    "    args = np.argsort(x)\n",
    "    rank = np.argwhere(args == (x.shape[0] - 1))[0][0]\n",
    "    if pct:\n",
    "        return (rank + 1)/ (x.shape[0] + shift)\n",
    "    return rank"
   ],
   "metadata": {
    "collapsed": false,
    "pycharm": {
     "name": "#%%\n"
    }
   }
  },
  {
   "cell_type": "code",
   "execution_count": 9,
   "outputs": [],
   "source": [
    "tickers = stacked_hist.ticker.unique()[:1000]\n",
    "tripA = stacked_hist[stacked_hist.ticker.isin(tickers)]\n",
    "A = stacked_hist[stacked_hist.ticker.isin(['A'])]"
   ],
   "metadata": {
    "collapsed": false,
    "pycharm": {
     "name": "#%%\n"
    }
   }
  },
  {
   "cell_type": "code",
   "execution_count": 21,
   "outputs": [
    {
     "data": {
      "text/plain": "ticker  date      \nA       2012-01-03    NaN\n        2012-01-04    NaN\n        2012-01-05    NaN\n        2012-01-06    NaN\n        2012-01-09    NaN\n                     ... \nAXH     2022-03-10    2.0\n        2022-03-11    1.0\n        2022-03-14    5.0\n        2022-03-15    4.0\n        2022-03-16    3.0\nName: volume, Length: 1290427, dtype: float64"
     },
     "execution_count": 21,
     "metadata": {},
     "output_type": "execute_result"
    }
   ],
   "source": [
    "goe = GroupOpEngineer(tripA, 'ticker')\n",
    "goe.ts_argmin('volume', 6)"
   ],
   "metadata": {
    "collapsed": false,
    "pycharm": {
     "name": "#%%\n"
    }
   }
  },
  {
   "cell_type": "code",
   "execution_count": 18,
   "outputs": [
    {
     "data": {
      "text/plain": "           ticker   open    high     low  close    openadj    highadj  \\\ndate                                                                    \n2012-01-03      A  35.84  36.990  35.740  36.48  23.651649  24.410561   \n2012-01-04      A  36.15  36.360  35.590  36.19  23.855604  23.994184   \n2012-01-05      A  35.88  37.320  35.720  37.00  23.677891  24.628174   \n2012-01-06      A  37.09  37.555  36.805  37.40  24.476425  24.783288   \n2012-01-09      A  37.62  38.420  37.472  38.38  24.826455  25.354397   \n...           ...    ...     ...     ...    ...        ...        ...   \n2022-03-10    AXH   9.98   9.980   9.980   9.98   9.980000   9.980000   \n2022-03-11    AXH   9.98   9.980   9.980   9.98   9.980000   9.980000   \n2022-03-14    AXH   9.98   9.980   9.980   9.98   9.980000   9.980000   \n2022-03-15    AXH   9.99   9.990   9.990   9.99   9.990000   9.990000   \n2022-03-16    AXH   9.97   9.970   9.970   9.97   9.970000   9.970000   \n\n               lowadj  closeadj     volume  cs_rank_volume  \ndate                                                        \n2012-01-03  23.585657    24.074  2973100.0           443.0  \n2012-01-04  23.486056    23.882  3327500.0           448.0  \n2012-01-05  23.572304    24.417  4894600.0           460.0  \n2012-01-06  24.288348    24.681  3370100.0           447.0  \n2012-01-09  24.728786    25.328  3168500.0           449.0  \n...               ...       ...        ...             ...  \n2022-03-10   9.980000     9.980     3374.0           102.0  \n2022-03-11   9.980000     9.980       90.0            28.0  \n2022-03-14   9.980000     9.980   446131.0           396.0  \n2022-03-15   9.990000     9.990     3347.0            82.0  \n2022-03-16   9.970000     9.970    23266.0           123.0  \n\n[1290427 rows x 11 columns]",
      "text/html": "<div>\n<style scoped>\n    .dataframe tbody tr th:only-of-type {\n        vertical-align: middle;\n    }\n\n    .dataframe tbody tr th {\n        vertical-align: top;\n    }\n\n    .dataframe thead th {\n        text-align: right;\n    }\n</style>\n<table border=\"1\" class=\"dataframe\">\n  <thead>\n    <tr style=\"text-align: right;\">\n      <th></th>\n      <th>ticker</th>\n      <th>open</th>\n      <th>high</th>\n      <th>low</th>\n      <th>close</th>\n      <th>openadj</th>\n      <th>highadj</th>\n      <th>lowadj</th>\n      <th>closeadj</th>\n      <th>volume</th>\n      <th>cs_rank_volume</th>\n    </tr>\n    <tr>\n      <th>date</th>\n      <th></th>\n      <th></th>\n      <th></th>\n      <th></th>\n      <th></th>\n      <th></th>\n      <th></th>\n      <th></th>\n      <th></th>\n      <th></th>\n      <th></th>\n    </tr>\n  </thead>\n  <tbody>\n    <tr>\n      <th>2012-01-03</th>\n      <td>A</td>\n      <td>35.84</td>\n      <td>36.990</td>\n      <td>35.740</td>\n      <td>36.48</td>\n      <td>23.651649</td>\n      <td>24.410561</td>\n      <td>23.585657</td>\n      <td>24.074</td>\n      <td>2973100.0</td>\n      <td>443.0</td>\n    </tr>\n    <tr>\n      <th>2012-01-04</th>\n      <td>A</td>\n      <td>36.15</td>\n      <td>36.360</td>\n      <td>35.590</td>\n      <td>36.19</td>\n      <td>23.855604</td>\n      <td>23.994184</td>\n      <td>23.486056</td>\n      <td>23.882</td>\n      <td>3327500.0</td>\n      <td>448.0</td>\n    </tr>\n    <tr>\n      <th>2012-01-05</th>\n      <td>A</td>\n      <td>35.88</td>\n      <td>37.320</td>\n      <td>35.720</td>\n      <td>37.00</td>\n      <td>23.677891</td>\n      <td>24.628174</td>\n      <td>23.572304</td>\n      <td>24.417</td>\n      <td>4894600.0</td>\n      <td>460.0</td>\n    </tr>\n    <tr>\n      <th>2012-01-06</th>\n      <td>A</td>\n      <td>37.09</td>\n      <td>37.555</td>\n      <td>36.805</td>\n      <td>37.40</td>\n      <td>24.476425</td>\n      <td>24.783288</td>\n      <td>24.288348</td>\n      <td>24.681</td>\n      <td>3370100.0</td>\n      <td>447.0</td>\n    </tr>\n    <tr>\n      <th>2012-01-09</th>\n      <td>A</td>\n      <td>37.62</td>\n      <td>38.420</td>\n      <td>37.472</td>\n      <td>38.38</td>\n      <td>24.826455</td>\n      <td>25.354397</td>\n      <td>24.728786</td>\n      <td>25.328</td>\n      <td>3168500.0</td>\n      <td>449.0</td>\n    </tr>\n    <tr>\n      <th>...</th>\n      <td>...</td>\n      <td>...</td>\n      <td>...</td>\n      <td>...</td>\n      <td>...</td>\n      <td>...</td>\n      <td>...</td>\n      <td>...</td>\n      <td>...</td>\n      <td>...</td>\n      <td>...</td>\n    </tr>\n    <tr>\n      <th>2022-03-10</th>\n      <td>AXH</td>\n      <td>9.98</td>\n      <td>9.980</td>\n      <td>9.980</td>\n      <td>9.98</td>\n      <td>9.980000</td>\n      <td>9.980000</td>\n      <td>9.980000</td>\n      <td>9.980</td>\n      <td>3374.0</td>\n      <td>102.0</td>\n    </tr>\n    <tr>\n      <th>2022-03-11</th>\n      <td>AXH</td>\n      <td>9.98</td>\n      <td>9.980</td>\n      <td>9.980</td>\n      <td>9.98</td>\n      <td>9.980000</td>\n      <td>9.980000</td>\n      <td>9.980000</td>\n      <td>9.980</td>\n      <td>90.0</td>\n      <td>28.0</td>\n    </tr>\n    <tr>\n      <th>2022-03-14</th>\n      <td>AXH</td>\n      <td>9.98</td>\n      <td>9.980</td>\n      <td>9.980</td>\n      <td>9.98</td>\n      <td>9.980000</td>\n      <td>9.980000</td>\n      <td>9.980000</td>\n      <td>9.980</td>\n      <td>446131.0</td>\n      <td>396.0</td>\n    </tr>\n    <tr>\n      <th>2022-03-15</th>\n      <td>AXH</td>\n      <td>9.99</td>\n      <td>9.990</td>\n      <td>9.990</td>\n      <td>9.99</td>\n      <td>9.990000</td>\n      <td>9.990000</td>\n      <td>9.990000</td>\n      <td>9.990</td>\n      <td>3347.0</td>\n      <td>82.0</td>\n    </tr>\n    <tr>\n      <th>2022-03-16</th>\n      <td>AXH</td>\n      <td>9.97</td>\n      <td>9.970</td>\n      <td>9.970</td>\n      <td>9.97</td>\n      <td>9.970000</td>\n      <td>9.970000</td>\n      <td>9.970000</td>\n      <td>9.970</td>\n      <td>23266.0</td>\n      <td>123.0</td>\n    </tr>\n  </tbody>\n</table>\n<p>1290427 rows × 11 columns</p>\n</div>"
     },
     "execution_count": 18,
     "metadata": {},
     "output_type": "execute_result"
    }
   ],
   "source": [
    "goe.df"
   ],
   "metadata": {
    "collapsed": false,
    "pycharm": {
     "name": "#%%\n"
    }
   }
  },
  {
   "cell_type": "code",
   "execution_count": 8,
   "outputs": [],
   "source": [
    "dummy = tripA.groupby('date').volume.apply(np.argsort)\n",
    "dummy1 = (dummy + 1) / (dummy.shape[0] + 2)"
   ],
   "metadata": {
    "collapsed": false,
    "pycharm": {
     "name": "#%%\n"
    }
   }
  },
  {
   "cell_type": "code",
   "execution_count": 9,
   "outputs": [
    {
     "data": {
      "text/plain": "date\n2012-01-03    0.000049\n2012-01-03    0.000335\n2012-01-03    0.000245\n2012-01-03    0.000409\n2012-01-03    0.000221\n                ...   \n2022-03-16    0.000294\n2022-03-16    0.000196\n2022-03-16    0.000245\n2022-03-16    0.000074\n2022-03-16    0.000123\nName: volume, Length: 122318, dtype: float64"
     },
     "execution_count": 9,
     "metadata": {},
     "output_type": "execute_result"
    }
   ],
   "source": [
    "dummy1"
   ],
   "metadata": {
    "collapsed": false,
    "pycharm": {
     "name": "#%%\n"
    }
   }
  },
  {
   "cell_type": "code",
   "execution_count": 24,
   "outputs": [
    {
     "data": {
      "text/plain": "0                 NaN\n2                 NaN\n4                 NaN\n6                 NaN\n8                 NaN\n             ...     \n244626   -1913.992000\n244628   -2050.041278\n244630    -106.669944\n244632       0.580156\n244634    -702.126611\nName: lowadj, Length: 122318, dtype: float64"
     },
     "execution_count": 24,
     "metadata": {},
     "output_type": "execute_result"
    }
   ],
   "source": [
    "tripA.groupby('ticker')[['volume','lowadj']].rolling(10).cov().iloc[:,-1].reset_index().drop_duplicates(['ticker','date'], keep='first').iloc[:, -1]"
   ],
   "metadata": {
    "collapsed": false,
    "pycharm": {
     "name": "#%%\n"
    }
   }
  },
  {
   "cell_type": "code",
   "execution_count": 23,
   "outputs": [
    {
     "data": {
      "text/plain": "                                volume      lowadj\nticker date                                       \nA      2012-01-03 volume           NaN         NaN\n                  lowadj           NaN         NaN\n       2012-01-04 volume           NaN         NaN\n                  lowadj           NaN         NaN\n       2012-01-05 volume           NaN         NaN\n...                                ...         ...\nACER   2022-03-14 lowadj -1.066699e+02    0.001094\n       2022-03-15 volume  3.722937e+08    0.580156\n                  lowadj  5.801556e-01    0.001407\n       2022-03-16 volume  2.347120e+09 -702.126611\n                  lowadj -7.021266e+02    0.001304\n\n[244636 rows x 2 columns]",
      "text/html": "<div>\n<style scoped>\n    .dataframe tbody tr th:only-of-type {\n        vertical-align: middle;\n    }\n\n    .dataframe tbody tr th {\n        vertical-align: top;\n    }\n\n    .dataframe thead th {\n        text-align: right;\n    }\n</style>\n<table border=\"1\" class=\"dataframe\">\n  <thead>\n    <tr style=\"text-align: right;\">\n      <th></th>\n      <th></th>\n      <th></th>\n      <th>volume</th>\n      <th>lowadj</th>\n    </tr>\n    <tr>\n      <th>ticker</th>\n      <th>date</th>\n      <th></th>\n      <th></th>\n      <th></th>\n    </tr>\n  </thead>\n  <tbody>\n    <tr>\n      <th rowspan=\"5\" valign=\"top\">A</th>\n      <th rowspan=\"2\" valign=\"top\">2012-01-03</th>\n      <th>volume</th>\n      <td>NaN</td>\n      <td>NaN</td>\n    </tr>\n    <tr>\n      <th>lowadj</th>\n      <td>NaN</td>\n      <td>NaN</td>\n    </tr>\n    <tr>\n      <th rowspan=\"2\" valign=\"top\">2012-01-04</th>\n      <th>volume</th>\n      <td>NaN</td>\n      <td>NaN</td>\n    </tr>\n    <tr>\n      <th>lowadj</th>\n      <td>NaN</td>\n      <td>NaN</td>\n    </tr>\n    <tr>\n      <th>2012-01-05</th>\n      <th>volume</th>\n      <td>NaN</td>\n      <td>NaN</td>\n    </tr>\n    <tr>\n      <th>...</th>\n      <th>...</th>\n      <th>...</th>\n      <td>...</td>\n      <td>...</td>\n    </tr>\n    <tr>\n      <th rowspan=\"5\" valign=\"top\">ACER</th>\n      <th>2022-03-14</th>\n      <th>lowadj</th>\n      <td>-1.066699e+02</td>\n      <td>0.001094</td>\n    </tr>\n    <tr>\n      <th rowspan=\"2\" valign=\"top\">2022-03-15</th>\n      <th>volume</th>\n      <td>3.722937e+08</td>\n      <td>0.580156</td>\n    </tr>\n    <tr>\n      <th>lowadj</th>\n      <td>5.801556e-01</td>\n      <td>0.001407</td>\n    </tr>\n    <tr>\n      <th rowspan=\"2\" valign=\"top\">2022-03-16</th>\n      <th>volume</th>\n      <td>2.347120e+09</td>\n      <td>-702.126611</td>\n    </tr>\n    <tr>\n      <th>lowadj</th>\n      <td>-7.021266e+02</td>\n      <td>0.001304</td>\n    </tr>\n  </tbody>\n</table>\n<p>244636 rows × 2 columns</p>\n</div>"
     },
     "execution_count": 23,
     "metadata": {},
     "output_type": "execute_result"
    }
   ],
   "source": [
    "tripA.groupby('ticker')[['volume','lowadj']].rolling(10).cov()"
   ],
   "metadata": {
    "collapsed": false,
    "pycharm": {
     "name": "#%%\n"
    }
   }
  },
  {
   "cell_type": "code",
   "execution_count": 42,
   "outputs": [],
   "source": [
    "goe0 = GroupOpEngineer(A, 'ticker')"
   ],
   "metadata": {
    "collapsed": false,
    "pycharm": {
     "name": "#%%\n"
    }
   }
  },
  {
   "cell_type": "code",
   "execution_count": 7,
   "outputs": [],
   "source": [
    "goe0.ts_rank('volume', 3, inplace=True)"
   ],
   "metadata": {
    "collapsed": false,
    "pycharm": {
     "name": "#%%\n"
    }
   }
  },
  {
   "cell_type": "code",
   "execution_count": 11,
   "outputs": [],
   "source": [
    "dummy = A.iloc[:, 1:]"
   ],
   "metadata": {
    "collapsed": false,
    "pycharm": {
     "name": "#%%\n"
    }
   }
  },
  {
   "cell_type": "code",
   "execution_count": 44,
   "outputs": [],
   "source": [
    "tripA1 = tripA[['ticker','volume']]"
   ],
   "metadata": {
    "collapsed": false,
    "pycharm": {
     "name": "#%%\n"
    }
   }
  },
  {
   "cell_type": "code",
   "execution_count": 45,
   "outputs": [],
   "source": [
    "ofe0 = GroupOpEngineer(tripA1, 'ticker')"
   ],
   "metadata": {
    "collapsed": false,
    "pycharm": {
     "name": "#%%\n"
    }
   }
  },
  {
   "cell_type": "code",
   "execution_count": 53,
   "outputs": [
    {
     "name": "stdout",
     "output_type": "stream",
     "text": [
      "Total time: 5.396774768829346 sec\n"
     ]
    }
   ],
   "source": [
    "s_time_chunk = time.time()\n",
    "dummy = tripA1.groupby('ticker').volume.rolling(10).apply(rank_last_value, raw=True)\n",
    "e_time_chunk = time.time()\n",
    "print(f\"Total time: {e_time_chunk - s_time_chunk} sec\")\n"
   ],
   "metadata": {
    "collapsed": false,
    "pycharm": {
     "name": "#%%\n"
    }
   }
  },
  {
   "cell_type": "code",
   "execution_count": 55,
   "outputs": [],
   "source": [
    "tripA['rank'] = dummy.values"
   ],
   "metadata": {
    "collapsed": false,
    "pycharm": {
     "name": "#%%\n"
    }
   }
  },
  {
   "cell_type": "code",
   "execution_count": 56,
   "outputs": [
    {
     "data": {
      "text/plain": "           ticker   open    high     low  close    openadj    highadj  \\\ndate                                                                    \n2012-01-03      A  35.84  36.990  35.740  36.48  23.651649  24.410561   \n2012-01-04      A  36.15  36.360  35.590  36.19  23.855604  23.994184   \n2012-01-05      A  35.88  37.320  35.720  37.00  23.677891  24.628174   \n2012-01-06      A  37.09  37.555  36.805  37.40  24.476425  24.783288   \n2012-01-09      A  37.62  38.420  37.472  38.38  24.826455  25.354397   \n...           ...    ...     ...     ...    ...        ...        ...   \n2017-10-02   AMFW   6.66   6.680   6.630   6.66   6.660000   6.680000   \n2017-10-03   AMFW   6.64   6.820   6.580   6.67   6.640000   6.820000   \n2017-10-04   AMFW   6.72   6.920   6.680   6.87   6.720000   6.920000   \n2017-10-05   AMFW   7.04   7.140   7.040   7.05   7.040000   7.140000   \n2017-10-06   AMFW   7.05   7.070   6.950   7.01   7.050000   7.070000   \n\n               lowadj  closeadj     volume  rank  \ndate                                              \n2012-01-03  23.585657    24.074  2973100.0   NaN  \n2012-01-04  23.486056    23.882  3327500.0   NaN  \n2012-01-05  23.572304    24.417  4894600.0   NaN  \n2012-01-06  24.288348    24.681  3370100.0   NaN  \n2012-01-09  24.728786    25.328  3168500.0   NaN  \n...               ...       ...        ...   ...  \n2017-10-02   6.630000     6.660    12407.0   0.0  \n2017-10-03   6.580000     6.670  1651903.0   9.0  \n2017-10-04   6.680000     6.870   415055.0   8.0  \n2017-10-05   7.040000     7.050    55335.0   7.0  \n2017-10-06   6.950000     7.010    47947.0   6.0  \n\n[633399 rows x 11 columns]",
      "text/html": "<div>\n<style scoped>\n    .dataframe tbody tr th:only-of-type {\n        vertical-align: middle;\n    }\n\n    .dataframe tbody tr th {\n        vertical-align: top;\n    }\n\n    .dataframe thead th {\n        text-align: right;\n    }\n</style>\n<table border=\"1\" class=\"dataframe\">\n  <thead>\n    <tr style=\"text-align: right;\">\n      <th></th>\n      <th>ticker</th>\n      <th>open</th>\n      <th>high</th>\n      <th>low</th>\n      <th>close</th>\n      <th>openadj</th>\n      <th>highadj</th>\n      <th>lowadj</th>\n      <th>closeadj</th>\n      <th>volume</th>\n      <th>rank</th>\n    </tr>\n    <tr>\n      <th>date</th>\n      <th></th>\n      <th></th>\n      <th></th>\n      <th></th>\n      <th></th>\n      <th></th>\n      <th></th>\n      <th></th>\n      <th></th>\n      <th></th>\n      <th></th>\n    </tr>\n  </thead>\n  <tbody>\n    <tr>\n      <th>2012-01-03</th>\n      <td>A</td>\n      <td>35.84</td>\n      <td>36.990</td>\n      <td>35.740</td>\n      <td>36.48</td>\n      <td>23.651649</td>\n      <td>24.410561</td>\n      <td>23.585657</td>\n      <td>24.074</td>\n      <td>2973100.0</td>\n      <td>NaN</td>\n    </tr>\n    <tr>\n      <th>2012-01-04</th>\n      <td>A</td>\n      <td>36.15</td>\n      <td>36.360</td>\n      <td>35.590</td>\n      <td>36.19</td>\n      <td>23.855604</td>\n      <td>23.994184</td>\n      <td>23.486056</td>\n      <td>23.882</td>\n      <td>3327500.0</td>\n      <td>NaN</td>\n    </tr>\n    <tr>\n      <th>2012-01-05</th>\n      <td>A</td>\n      <td>35.88</td>\n      <td>37.320</td>\n      <td>35.720</td>\n      <td>37.00</td>\n      <td>23.677891</td>\n      <td>24.628174</td>\n      <td>23.572304</td>\n      <td>24.417</td>\n      <td>4894600.0</td>\n      <td>NaN</td>\n    </tr>\n    <tr>\n      <th>2012-01-06</th>\n      <td>A</td>\n      <td>37.09</td>\n      <td>37.555</td>\n      <td>36.805</td>\n      <td>37.40</td>\n      <td>24.476425</td>\n      <td>24.783288</td>\n      <td>24.288348</td>\n      <td>24.681</td>\n      <td>3370100.0</td>\n      <td>NaN</td>\n    </tr>\n    <tr>\n      <th>2012-01-09</th>\n      <td>A</td>\n      <td>37.62</td>\n      <td>38.420</td>\n      <td>37.472</td>\n      <td>38.38</td>\n      <td>24.826455</td>\n      <td>25.354397</td>\n      <td>24.728786</td>\n      <td>25.328</td>\n      <td>3168500.0</td>\n      <td>NaN</td>\n    </tr>\n    <tr>\n      <th>...</th>\n      <td>...</td>\n      <td>...</td>\n      <td>...</td>\n      <td>...</td>\n      <td>...</td>\n      <td>...</td>\n      <td>...</td>\n      <td>...</td>\n      <td>...</td>\n      <td>...</td>\n      <td>...</td>\n    </tr>\n    <tr>\n      <th>2017-10-02</th>\n      <td>AMFW</td>\n      <td>6.66</td>\n      <td>6.680</td>\n      <td>6.630</td>\n      <td>6.66</td>\n      <td>6.660000</td>\n      <td>6.680000</td>\n      <td>6.630000</td>\n      <td>6.660</td>\n      <td>12407.0</td>\n      <td>0.0</td>\n    </tr>\n    <tr>\n      <th>2017-10-03</th>\n      <td>AMFW</td>\n      <td>6.64</td>\n      <td>6.820</td>\n      <td>6.580</td>\n      <td>6.67</td>\n      <td>6.640000</td>\n      <td>6.820000</td>\n      <td>6.580000</td>\n      <td>6.670</td>\n      <td>1651903.0</td>\n      <td>9.0</td>\n    </tr>\n    <tr>\n      <th>2017-10-04</th>\n      <td>AMFW</td>\n      <td>6.72</td>\n      <td>6.920</td>\n      <td>6.680</td>\n      <td>6.87</td>\n      <td>6.720000</td>\n      <td>6.920000</td>\n      <td>6.680000</td>\n      <td>6.870</td>\n      <td>415055.0</td>\n      <td>8.0</td>\n    </tr>\n    <tr>\n      <th>2017-10-05</th>\n      <td>AMFW</td>\n      <td>7.04</td>\n      <td>7.140</td>\n      <td>7.040</td>\n      <td>7.05</td>\n      <td>7.040000</td>\n      <td>7.140000</td>\n      <td>7.040000</td>\n      <td>7.050</td>\n      <td>55335.0</td>\n      <td>7.0</td>\n    </tr>\n    <tr>\n      <th>2017-10-06</th>\n      <td>AMFW</td>\n      <td>7.05</td>\n      <td>7.070</td>\n      <td>6.950</td>\n      <td>7.01</td>\n      <td>7.050000</td>\n      <td>7.070000</td>\n      <td>6.950000</td>\n      <td>7.010</td>\n      <td>47947.0</td>\n      <td>6.0</td>\n    </tr>\n  </tbody>\n</table>\n<p>633399 rows × 11 columns</p>\n</div>"
     },
     "execution_count": 56,
     "metadata": {},
     "output_type": "execute_result"
    }
   ],
   "source": [
    "tripA"
   ],
   "metadata": {
    "collapsed": false,
    "pycharm": {
     "name": "#%%\n"
    }
   }
  },
  {
   "cell_type": "code",
   "execution_count": 52,
   "outputs": [
    {
     "ename": "KeyboardInterrupt",
     "evalue": "",
     "output_type": "error",
     "traceback": [
      "\u001B[0;31m---------------------------------------------------------------------------\u001B[0m",
      "\u001B[0;31mKeyboardInterrupt\u001B[0m                         Traceback (most recent call last)",
      "Input \u001B[0;32mIn [52]\u001B[0m, in \u001B[0;36m<module>\u001B[0;34m\u001B[0m\n\u001B[1;32m      1\u001B[0m s_time_chunk \u001B[38;5;241m=\u001B[39m time\u001B[38;5;241m.\u001B[39mtime()\n\u001B[0;32m----> 2\u001B[0m dummy \u001B[38;5;241m=\u001B[39m \u001B[43mtripA1\u001B[49m\u001B[38;5;241;43m.\u001B[39;49m\u001B[43mgroupby\u001B[49m\u001B[43m(\u001B[49m\u001B[38;5;124;43m'\u001B[39;49m\u001B[38;5;124;43mticker\u001B[39;49m\u001B[38;5;124;43m'\u001B[39;49m\u001B[43m)\u001B[49m\u001B[38;5;241;43m.\u001B[39;49m\u001B[43mvolume\u001B[49m\u001B[38;5;241;43m.\u001B[39;49m\u001B[43mrolling\u001B[49m\u001B[43m(\u001B[49m\u001B[38;5;241;43m10\u001B[39;49m\u001B[43m)\u001B[49m\u001B[38;5;241;43m.\u001B[39;49m\u001B[43mapply\u001B[49m\u001B[43m(\u001B[49m\u001B[38;5;28;43;01mlambda\u001B[39;49;00m\u001B[43m \u001B[49m\u001B[43mx\u001B[49m\u001B[43m:\u001B[49m\u001B[43m \u001B[49m\u001B[43mpd\u001B[49m\u001B[38;5;241;43m.\u001B[39;49m\u001B[43mSeries\u001B[49m\u001B[43m(\u001B[49m\u001B[43mx\u001B[49m\u001B[43m)\u001B[49m\u001B[38;5;241;43m.\u001B[39;49m\u001B[43mrank\u001B[49m\u001B[43m(\u001B[49m\u001B[43m)\u001B[49m\u001B[38;5;241;43m.\u001B[39;49m\u001B[43miloc\u001B[49m\u001B[43m[\u001B[49m\u001B[38;5;241;43m-\u001B[39;49m\u001B[38;5;241;43m1\u001B[39;49m\u001B[43m]\u001B[49m\u001B[43m)\u001B[49m\n\u001B[1;32m      3\u001B[0m e_time_chunk \u001B[38;5;241m=\u001B[39m time\u001B[38;5;241m.\u001B[39mtime()\n\u001B[1;32m      4\u001B[0m \u001B[38;5;28mprint\u001B[39m(\u001B[38;5;124mf\u001B[39m\u001B[38;5;124m\"\u001B[39m\u001B[38;5;124mTotal time: \u001B[39m\u001B[38;5;132;01m{\u001B[39;00me_time_chunk \u001B[38;5;241m-\u001B[39m s_time_chunk\u001B[38;5;132;01m}\u001B[39;00m\u001B[38;5;124m sec\u001B[39m\u001B[38;5;124m\"\u001B[39m)\n",
      "File \u001B[0;32m~/miniconda3/envs/quant/lib/python3.9/site-packages/pandas/core/window/rolling.py:1661\u001B[0m, in \u001B[0;36mRolling.apply\u001B[0;34m(self, func, raw, engine, engine_kwargs, args, kwargs)\u001B[0m\n\u001B[1;32m   1640\u001B[0m \u001B[38;5;129m@doc\u001B[39m(\n\u001B[1;32m   1641\u001B[0m     template_header,\n\u001B[1;32m   1642\u001B[0m     create_section_header(\u001B[38;5;124m\"\u001B[39m\u001B[38;5;124mParameters\u001B[39m\u001B[38;5;124m\"\u001B[39m),\n\u001B[0;32m   (...)\u001B[0m\n\u001B[1;32m   1659\u001B[0m     kwargs: \u001B[38;5;28mdict\u001B[39m[\u001B[38;5;28mstr\u001B[39m, Any] \u001B[38;5;241m|\u001B[39m \u001B[38;5;28;01mNone\u001B[39;00m \u001B[38;5;241m=\u001B[39m \u001B[38;5;28;01mNone\u001B[39;00m,\n\u001B[1;32m   1660\u001B[0m ):\n\u001B[0;32m-> 1661\u001B[0m     \u001B[38;5;28;01mreturn\u001B[39;00m \u001B[38;5;28;43msuper\u001B[39;49m\u001B[43m(\u001B[49m\u001B[43m)\u001B[49m\u001B[38;5;241;43m.\u001B[39;49m\u001B[43mapply\u001B[49m\u001B[43m(\u001B[49m\n\u001B[1;32m   1662\u001B[0m \u001B[43m        \u001B[49m\u001B[43mfunc\u001B[49m\u001B[43m,\u001B[49m\n\u001B[1;32m   1663\u001B[0m \u001B[43m        \u001B[49m\u001B[43mraw\u001B[49m\u001B[38;5;241;43m=\u001B[39;49m\u001B[43mraw\u001B[49m\u001B[43m,\u001B[49m\n\u001B[1;32m   1664\u001B[0m \u001B[43m        \u001B[49m\u001B[43mengine\u001B[49m\u001B[38;5;241;43m=\u001B[39;49m\u001B[43mengine\u001B[49m\u001B[43m,\u001B[49m\n\u001B[1;32m   1665\u001B[0m \u001B[43m        \u001B[49m\u001B[43mengine_kwargs\u001B[49m\u001B[38;5;241;43m=\u001B[39;49m\u001B[43mengine_kwargs\u001B[49m\u001B[43m,\u001B[49m\n\u001B[1;32m   1666\u001B[0m \u001B[43m        \u001B[49m\u001B[43margs\u001B[49m\u001B[38;5;241;43m=\u001B[39;49m\u001B[43margs\u001B[49m\u001B[43m,\u001B[49m\n\u001B[1;32m   1667\u001B[0m \u001B[43m        \u001B[49m\u001B[43mkwargs\u001B[49m\u001B[38;5;241;43m=\u001B[39;49m\u001B[43mkwargs\u001B[49m\u001B[43m,\u001B[49m\n\u001B[1;32m   1668\u001B[0m \u001B[43m    \u001B[49m\u001B[43m)\u001B[49m\n",
      "File \u001B[0;32m~/miniconda3/envs/quant/lib/python3.9/site-packages/pandas/core/window/rolling.py:1192\u001B[0m, in \u001B[0;36mRollingAndExpandingMixin.apply\u001B[0;34m(self, func, raw, engine, engine_kwargs, args, kwargs)\u001B[0m\n\u001B[1;32m   1189\u001B[0m \u001B[38;5;28;01melse\u001B[39;00m:\n\u001B[1;32m   1190\u001B[0m     \u001B[38;5;28;01mraise\u001B[39;00m \u001B[38;5;167;01mValueError\u001B[39;00m(\u001B[38;5;124m\"\u001B[39m\u001B[38;5;124mengine must be either \u001B[39m\u001B[38;5;124m'\u001B[39m\u001B[38;5;124mnumba\u001B[39m\u001B[38;5;124m'\u001B[39m\u001B[38;5;124m or \u001B[39m\u001B[38;5;124m'\u001B[39m\u001B[38;5;124mcython\u001B[39m\u001B[38;5;124m'\u001B[39m\u001B[38;5;124m\"\u001B[39m)\n\u001B[0;32m-> 1192\u001B[0m \u001B[38;5;28;01mreturn\u001B[39;00m \u001B[38;5;28;43mself\u001B[39;49m\u001B[38;5;241;43m.\u001B[39;49m\u001B[43m_apply\u001B[49m\u001B[43m(\u001B[49m\n\u001B[1;32m   1193\u001B[0m \u001B[43m    \u001B[49m\u001B[43mapply_func\u001B[49m\u001B[43m,\u001B[49m\n\u001B[1;32m   1194\u001B[0m \u001B[43m    \u001B[49m\u001B[43mnumba_cache_key\u001B[49m\u001B[38;5;241;43m=\u001B[39;49m\u001B[43mnumba_cache_key\u001B[49m\u001B[43m,\u001B[49m\n\u001B[1;32m   1195\u001B[0m \u001B[43m\u001B[49m\u001B[43m)\u001B[49m\n",
      "File \u001B[0;32m~/miniconda3/envs/quant/lib/python3.9/site-packages/pandas/core/window/rolling.py:594\u001B[0m, in \u001B[0;36mBaseWindowGroupby._apply\u001B[0;34m(self, func, name, numba_cache_key, **kwargs)\u001B[0m\n\u001B[1;32m    587\u001B[0m \u001B[38;5;28;01mdef\u001B[39;00m \u001B[38;5;21m_apply\u001B[39m(\n\u001B[1;32m    588\u001B[0m     \u001B[38;5;28mself\u001B[39m,\n\u001B[1;32m    589\u001B[0m     func: Callable[\u001B[38;5;241m.\u001B[39m\u001B[38;5;241m.\u001B[39m\u001B[38;5;241m.\u001B[39m, Any],\n\u001B[0;32m   (...)\u001B[0m\n\u001B[1;32m    592\u001B[0m     \u001B[38;5;241m*\u001B[39m\u001B[38;5;241m*\u001B[39mkwargs,\n\u001B[1;32m    593\u001B[0m ) \u001B[38;5;241m-\u001B[39m\u001B[38;5;241m>\u001B[39m FrameOrSeries:\n\u001B[0;32m--> 594\u001B[0m     result \u001B[38;5;241m=\u001B[39m \u001B[38;5;28;43msuper\u001B[39;49m\u001B[43m(\u001B[49m\u001B[43m)\u001B[49m\u001B[38;5;241;43m.\u001B[39;49m\u001B[43m_apply\u001B[49m\u001B[43m(\u001B[49m\n\u001B[1;32m    595\u001B[0m \u001B[43m        \u001B[49m\u001B[43mfunc\u001B[49m\u001B[43m,\u001B[49m\n\u001B[1;32m    596\u001B[0m \u001B[43m        \u001B[49m\u001B[43mname\u001B[49m\u001B[43m,\u001B[49m\n\u001B[1;32m    597\u001B[0m \u001B[43m        \u001B[49m\u001B[43mnumba_cache_key\u001B[49m\u001B[43m,\u001B[49m\n\u001B[1;32m    598\u001B[0m \u001B[43m        \u001B[49m\u001B[38;5;241;43m*\u001B[39;49m\u001B[38;5;241;43m*\u001B[39;49m\u001B[43mkwargs\u001B[49m\u001B[43m,\u001B[49m\n\u001B[1;32m    599\u001B[0m \u001B[43m    \u001B[49m\u001B[43m)\u001B[49m\n\u001B[1;32m    600\u001B[0m     \u001B[38;5;66;03m# Reconstruct the resulting MultiIndex\u001B[39;00m\n\u001B[1;32m    601\u001B[0m     \u001B[38;5;66;03m# 1st set of levels = group by labels\u001B[39;00m\n\u001B[1;32m    602\u001B[0m     \u001B[38;5;66;03m# 2nd set of levels = original DataFrame/Series index\u001B[39;00m\n\u001B[1;32m    603\u001B[0m     grouped_object_index \u001B[38;5;241m=\u001B[39m \u001B[38;5;28mself\u001B[39m\u001B[38;5;241m.\u001B[39mobj\u001B[38;5;241m.\u001B[39mindex\n",
      "File \u001B[0;32m~/miniconda3/envs/quant/lib/python3.9/site-packages/pandas/core/window/rolling.py:545\u001B[0m, in \u001B[0;36mBaseWindow._apply\u001B[0;34m(self, func, name, numba_cache_key, **kwargs)\u001B[0m\n\u001B[1;32m    542\u001B[0m     \u001B[38;5;28;01mreturn\u001B[39;00m result\n\u001B[1;32m    544\u001B[0m \u001B[38;5;28;01mif\u001B[39;00m \u001B[38;5;28mself\u001B[39m\u001B[38;5;241m.\u001B[39mmethod \u001B[38;5;241m==\u001B[39m \u001B[38;5;124m\"\u001B[39m\u001B[38;5;124msingle\u001B[39m\u001B[38;5;124m\"\u001B[39m:\n\u001B[0;32m--> 545\u001B[0m     \u001B[38;5;28;01mreturn\u001B[39;00m \u001B[38;5;28;43mself\u001B[39;49m\u001B[38;5;241;43m.\u001B[39;49m\u001B[43m_apply_blockwise\u001B[49m\u001B[43m(\u001B[49m\u001B[43mhomogeneous_func\u001B[49m\u001B[43m,\u001B[49m\u001B[43m \u001B[49m\u001B[43mname\u001B[49m\u001B[43m)\u001B[49m\n\u001B[1;32m    546\u001B[0m \u001B[38;5;28;01melse\u001B[39;00m:\n\u001B[1;32m    547\u001B[0m     \u001B[38;5;28;01mreturn\u001B[39;00m \u001B[38;5;28mself\u001B[39m\u001B[38;5;241m.\u001B[39m_apply_tablewise(homogeneous_func, name)\n",
      "File \u001B[0;32m~/miniconda3/envs/quant/lib/python3.9/site-packages/pandas/core/window/rolling.py:419\u001B[0m, in \u001B[0;36mBaseWindow._apply_blockwise\u001B[0;34m(self, homogeneous_func, name)\u001B[0m\n\u001B[1;32m    414\u001B[0m \u001B[38;5;124;03m\"\"\"\u001B[39;00m\n\u001B[1;32m    415\u001B[0m \u001B[38;5;124;03mApply the given function to the DataFrame broken down into homogeneous\u001B[39;00m\n\u001B[1;32m    416\u001B[0m \u001B[38;5;124;03msub-frames.\u001B[39;00m\n\u001B[1;32m    417\u001B[0m \u001B[38;5;124;03m\"\"\"\u001B[39;00m\n\u001B[1;32m    418\u001B[0m \u001B[38;5;28;01mif\u001B[39;00m \u001B[38;5;28mself\u001B[39m\u001B[38;5;241m.\u001B[39m_selected_obj\u001B[38;5;241m.\u001B[39mndim \u001B[38;5;241m==\u001B[39m \u001B[38;5;241m1\u001B[39m:\n\u001B[0;32m--> 419\u001B[0m     \u001B[38;5;28;01mreturn\u001B[39;00m \u001B[38;5;28;43mself\u001B[39;49m\u001B[38;5;241;43m.\u001B[39;49m\u001B[43m_apply_series\u001B[49m\u001B[43m(\u001B[49m\u001B[43mhomogeneous_func\u001B[49m\u001B[43m,\u001B[49m\u001B[43m \u001B[49m\u001B[43mname\u001B[49m\u001B[43m)\u001B[49m\n\u001B[1;32m    421\u001B[0m obj \u001B[38;5;241m=\u001B[39m \u001B[38;5;28mself\u001B[39m\u001B[38;5;241m.\u001B[39m_create_data(\u001B[38;5;28mself\u001B[39m\u001B[38;5;241m.\u001B[39m_selected_obj)\n\u001B[1;32m    422\u001B[0m \u001B[38;5;28;01mif\u001B[39;00m name \u001B[38;5;241m==\u001B[39m \u001B[38;5;124m\"\u001B[39m\u001B[38;5;124mcount\u001B[39m\u001B[38;5;124m\"\u001B[39m:\n\u001B[1;32m    423\u001B[0m     \u001B[38;5;66;03m# GH 12541: Special case for count where we support date-like types\u001B[39;00m\n",
      "File \u001B[0;32m~/miniconda3/envs/quant/lib/python3.9/site-packages/pandas/core/window/rolling.py:408\u001B[0m, in \u001B[0;36mBaseWindow._apply_series\u001B[0;34m(self, homogeneous_func, name)\u001B[0m\n\u001B[1;32m    405\u001B[0m \u001B[38;5;28;01mexcept\u001B[39;00m (\u001B[38;5;167;01mTypeError\u001B[39;00m, \u001B[38;5;167;01mNotImplementedError\u001B[39;00m) \u001B[38;5;28;01mas\u001B[39;00m err:\n\u001B[1;32m    406\u001B[0m     \u001B[38;5;28;01mraise\u001B[39;00m DataError(\u001B[38;5;124m\"\u001B[39m\u001B[38;5;124mNo numeric types to aggregate\u001B[39m\u001B[38;5;124m\"\u001B[39m) \u001B[38;5;28;01mfrom\u001B[39;00m \u001B[38;5;21;01merr\u001B[39;00m\n\u001B[0;32m--> 408\u001B[0m result \u001B[38;5;241m=\u001B[39m \u001B[43mhomogeneous_func\u001B[49m\u001B[43m(\u001B[49m\u001B[43mvalues\u001B[49m\u001B[43m)\u001B[49m\n\u001B[1;32m    409\u001B[0m \u001B[38;5;28;01mreturn\u001B[39;00m obj\u001B[38;5;241m.\u001B[39m_constructor(result, index\u001B[38;5;241m=\u001B[39mobj\u001B[38;5;241m.\u001B[39mindex, name\u001B[38;5;241m=\u001B[39mobj\u001B[38;5;241m.\u001B[39mname)\n",
      "File \u001B[0;32m~/miniconda3/envs/quant/lib/python3.9/site-packages/pandas/core/window/rolling.py:537\u001B[0m, in \u001B[0;36mBaseWindow._apply.<locals>.homogeneous_func\u001B[0;34m(values)\u001B[0m\n\u001B[1;32m    535\u001B[0m         result \u001B[38;5;241m=\u001B[39m np\u001B[38;5;241m.\u001B[39mapply_along_axis(calc, \u001B[38;5;28mself\u001B[39m\u001B[38;5;241m.\u001B[39maxis, values)\n\u001B[1;32m    536\u001B[0m     \u001B[38;5;28;01melse\u001B[39;00m:\n\u001B[0;32m--> 537\u001B[0m         result \u001B[38;5;241m=\u001B[39m \u001B[43mcalc\u001B[49m\u001B[43m(\u001B[49m\u001B[43mvalues\u001B[49m\u001B[43m)\u001B[49m\n\u001B[1;32m    539\u001B[0m \u001B[38;5;28;01mif\u001B[39;00m numba_cache_key \u001B[38;5;129;01mis\u001B[39;00m \u001B[38;5;129;01mnot\u001B[39;00m \u001B[38;5;28;01mNone\u001B[39;00m:\n\u001B[1;32m    540\u001B[0m     NUMBA_FUNC_CACHE[numba_cache_key] \u001B[38;5;241m=\u001B[39m func\n",
      "File \u001B[0;32m~/miniconda3/envs/quant/lib/python3.9/site-packages/pandas/core/window/rolling.py:531\u001B[0m, in \u001B[0;36mBaseWindow._apply.<locals>.homogeneous_func.<locals>.calc\u001B[0;34m(x)\u001B[0m\n\u001B[1;32m    521\u001B[0m start, end \u001B[38;5;241m=\u001B[39m window_indexer\u001B[38;5;241m.\u001B[39mget_window_bounds(\n\u001B[1;32m    522\u001B[0m     num_values\u001B[38;5;241m=\u001B[39m\u001B[38;5;28mlen\u001B[39m(x),\n\u001B[1;32m    523\u001B[0m     min_periods\u001B[38;5;241m=\u001B[39mmin_periods,\n\u001B[1;32m    524\u001B[0m     center\u001B[38;5;241m=\u001B[39m\u001B[38;5;28mself\u001B[39m\u001B[38;5;241m.\u001B[39mcenter,\n\u001B[1;32m    525\u001B[0m     closed\u001B[38;5;241m=\u001B[39m\u001B[38;5;28mself\u001B[39m\u001B[38;5;241m.\u001B[39mclosed,\n\u001B[1;32m    526\u001B[0m )\n\u001B[1;32m    527\u001B[0m \u001B[38;5;28;01massert\u001B[39;00m \u001B[38;5;28mlen\u001B[39m(start) \u001B[38;5;241m==\u001B[39m \u001B[38;5;28mlen\u001B[39m(\n\u001B[1;32m    528\u001B[0m     end\n\u001B[1;32m    529\u001B[0m ), \u001B[38;5;124m\"\u001B[39m\u001B[38;5;124mthese should be equal in length from get_window_bounds\u001B[39m\u001B[38;5;124m\"\u001B[39m\n\u001B[0;32m--> 531\u001B[0m \u001B[38;5;28;01mreturn\u001B[39;00m \u001B[43mfunc\u001B[49m\u001B[43m(\u001B[49m\u001B[43mx\u001B[49m\u001B[43m,\u001B[49m\u001B[43m \u001B[49m\u001B[43mstart\u001B[49m\u001B[43m,\u001B[49m\u001B[43m \u001B[49m\u001B[43mend\u001B[49m\u001B[43m,\u001B[49m\u001B[43m \u001B[49m\u001B[43mmin_periods\u001B[49m\u001B[43m)\u001B[49m\n",
      "File \u001B[0;32m~/miniconda3/envs/quant/lib/python3.9/site-packages/pandas/core/window/rolling.py:1217\u001B[0m, in \u001B[0;36mRollingAndExpandingMixin._generate_cython_apply_func.<locals>.apply_func\u001B[0;34m(values, begin, end, min_periods, raw)\u001B[0m\n\u001B[1;32m   1215\u001B[0m \u001B[38;5;28;01mif\u001B[39;00m \u001B[38;5;129;01mnot\u001B[39;00m raw:\n\u001B[1;32m   1216\u001B[0m     values \u001B[38;5;241m=\u001B[39m Series(values, index\u001B[38;5;241m=\u001B[39m\u001B[38;5;28mself\u001B[39m\u001B[38;5;241m.\u001B[39mobj\u001B[38;5;241m.\u001B[39mindex)\n\u001B[0;32m-> 1217\u001B[0m \u001B[38;5;28;01mreturn\u001B[39;00m \u001B[43mwindow_func\u001B[49m\u001B[43m(\u001B[49m\u001B[43mvalues\u001B[49m\u001B[43m,\u001B[49m\u001B[43m \u001B[49m\u001B[43mbegin\u001B[49m\u001B[43m,\u001B[49m\u001B[43m \u001B[49m\u001B[43mend\u001B[49m\u001B[43m,\u001B[49m\u001B[43m \u001B[49m\u001B[43mmin_periods\u001B[49m\u001B[43m)\u001B[49m\n",
      "File \u001B[0;32m~/miniconda3/envs/quant/lib/python3.9/site-packages/pandas/_libs/window/aggregations.pyx:1173\u001B[0m, in \u001B[0;36mpandas._libs.window.aggregations.roll_apply\u001B[0;34m()\u001B[0m\n",
      "File \u001B[0;32m~/miniconda3/envs/quant/lib/python3.9/site-packages/pandas/core/indexing.py:931\u001B[0m, in \u001B[0;36m_LocationIndexer.__getitem__\u001B[0;34m(self, key)\u001B[0m\n\u001B[1;32m    928\u001B[0m axis \u001B[38;5;241m=\u001B[39m \u001B[38;5;28mself\u001B[39m\u001B[38;5;241m.\u001B[39maxis \u001B[38;5;129;01mor\u001B[39;00m \u001B[38;5;241m0\u001B[39m\n\u001B[1;32m    930\u001B[0m maybe_callable \u001B[38;5;241m=\u001B[39m com\u001B[38;5;241m.\u001B[39mapply_if_callable(key, \u001B[38;5;28mself\u001B[39m\u001B[38;5;241m.\u001B[39mobj)\n\u001B[0;32m--> 931\u001B[0m \u001B[38;5;28;01mreturn\u001B[39;00m \u001B[38;5;28;43mself\u001B[39;49m\u001B[38;5;241;43m.\u001B[39;49m\u001B[43m_getitem_axis\u001B[49m\u001B[43m(\u001B[49m\u001B[43mmaybe_callable\u001B[49m\u001B[43m,\u001B[49m\u001B[43m \u001B[49m\u001B[43maxis\u001B[49m\u001B[38;5;241;43m=\u001B[39;49m\u001B[43maxis\u001B[49m\u001B[43m)\u001B[49m\n",
      "File \u001B[0;32m~/miniconda3/envs/quant/lib/python3.9/site-packages/pandas/core/indexing.py:1543\u001B[0m, in \u001B[0;36m_iLocIndexer._getitem_axis\u001B[0;34m(self, key, axis)\u001B[0m\n\u001B[1;32m   1537\u001B[0m     \u001B[38;5;28;01mraise\u001B[39;00m \u001B[38;5;167;01mIndexError\u001B[39;00m(\n\u001B[1;32m   1538\u001B[0m         \u001B[38;5;124m\"\u001B[39m\u001B[38;5;124mDataFrame indexer is not allowed for .iloc\u001B[39m\u001B[38;5;130;01m\\n\u001B[39;00m\u001B[38;5;124m\"\u001B[39m\n\u001B[1;32m   1539\u001B[0m         \u001B[38;5;124m\"\u001B[39m\u001B[38;5;124mConsider using .loc for automatic alignment.\u001B[39m\u001B[38;5;124m\"\u001B[39m\n\u001B[1;32m   1540\u001B[0m     )\n\u001B[1;32m   1542\u001B[0m \u001B[38;5;28;01mif\u001B[39;00m \u001B[38;5;28misinstance\u001B[39m(key, \u001B[38;5;28mslice\u001B[39m):\n\u001B[0;32m-> 1543\u001B[0m     \u001B[38;5;28;01mreturn\u001B[39;00m \u001B[38;5;28;43mself\u001B[39;49m\u001B[38;5;241;43m.\u001B[39;49m\u001B[43m_get_slice_axis\u001B[49m\u001B[43m(\u001B[49m\u001B[43mkey\u001B[49m\u001B[43m,\u001B[49m\u001B[43m \u001B[49m\u001B[43maxis\u001B[49m\u001B[38;5;241;43m=\u001B[39;49m\u001B[43maxis\u001B[49m\u001B[43m)\u001B[49m\n\u001B[1;32m   1545\u001B[0m \u001B[38;5;28;01mif\u001B[39;00m is_iterator(key):\n\u001B[1;32m   1546\u001B[0m     key \u001B[38;5;241m=\u001B[39m \u001B[38;5;28mlist\u001B[39m(key)\n",
      "File \u001B[0;32m~/miniconda3/envs/quant/lib/python3.9/site-packages/pandas/core/indexing.py:1579\u001B[0m, in \u001B[0;36m_iLocIndexer._get_slice_axis\u001B[0;34m(self, slice_obj, axis)\u001B[0m\n\u001B[1;32m   1577\u001B[0m labels \u001B[38;5;241m=\u001B[39m obj\u001B[38;5;241m.\u001B[39m_get_axis(axis)\n\u001B[1;32m   1578\u001B[0m labels\u001B[38;5;241m.\u001B[39m_validate_positional_slice(slice_obj)\n\u001B[0;32m-> 1579\u001B[0m \u001B[38;5;28;01mreturn\u001B[39;00m \u001B[38;5;28;43mself\u001B[39;49m\u001B[38;5;241;43m.\u001B[39;49m\u001B[43mobj\u001B[49m\u001B[38;5;241;43m.\u001B[39;49m\u001B[43m_slice\u001B[49m\u001B[43m(\u001B[49m\u001B[43mslice_obj\u001B[49m\u001B[43m,\u001B[49m\u001B[43m \u001B[49m\u001B[43maxis\u001B[49m\u001B[38;5;241;43m=\u001B[39;49m\u001B[43maxis\u001B[49m\u001B[43m)\u001B[49m\n",
      "File \u001B[0;32m~/miniconda3/envs/quant/lib/python3.9/site-packages/pandas/core/series.py:926\u001B[0m, in \u001B[0;36mSeries._slice\u001B[0;34m(self, slobj, axis)\u001B[0m\n\u001B[1;32m    923\u001B[0m \u001B[38;5;28;01mdef\u001B[39;00m \u001B[38;5;21m_slice\u001B[39m(\u001B[38;5;28mself\u001B[39m, slobj: \u001B[38;5;28mslice\u001B[39m, axis: \u001B[38;5;28mint\u001B[39m \u001B[38;5;241m=\u001B[39m \u001B[38;5;241m0\u001B[39m) \u001B[38;5;241m-\u001B[39m\u001B[38;5;241m>\u001B[39m Series:\n\u001B[1;32m    924\u001B[0m     \u001B[38;5;66;03m# axis kwarg is retained for compat with NDFrame method\u001B[39;00m\n\u001B[1;32m    925\u001B[0m     \u001B[38;5;66;03m#  _slice is *always* positional\u001B[39;00m\n\u001B[0;32m--> 926\u001B[0m     \u001B[38;5;28;01mreturn\u001B[39;00m \u001B[38;5;28;43mself\u001B[39;49m\u001B[38;5;241;43m.\u001B[39;49m\u001B[43m_get_values\u001B[49m\u001B[43m(\u001B[49m\u001B[43mslobj\u001B[49m\u001B[43m)\u001B[49m\n",
      "File \u001B[0;32m~/miniconda3/envs/quant/lib/python3.9/site-packages/pandas/core/series.py:1027\u001B[0m, in \u001B[0;36mSeries._get_values\u001B[0;34m(self, indexer)\u001B[0m\n\u001B[1;32m   1025\u001B[0m \u001B[38;5;28;01mtry\u001B[39;00m:\n\u001B[1;32m   1026\u001B[0m     new_mgr \u001B[38;5;241m=\u001B[39m \u001B[38;5;28mself\u001B[39m\u001B[38;5;241m.\u001B[39m_mgr\u001B[38;5;241m.\u001B[39mgetitem_mgr(indexer)\n\u001B[0;32m-> 1027\u001B[0m     \u001B[38;5;28;01mreturn\u001B[39;00m \u001B[38;5;28;43mself\u001B[39;49m\u001B[38;5;241;43m.\u001B[39;49m\u001B[43m_constructor\u001B[49m\u001B[43m(\u001B[49m\u001B[43mnew_mgr\u001B[49m\u001B[43m)\u001B[49m\u001B[38;5;241m.\u001B[39m__finalize__(\u001B[38;5;28mself\u001B[39m)\n\u001B[1;32m   1028\u001B[0m \u001B[38;5;28;01mexcept\u001B[39;00m \u001B[38;5;167;01mValueError\u001B[39;00m:\n\u001B[1;32m   1029\u001B[0m     \u001B[38;5;66;03m# mpl compat if we look up e.g. ser[:, np.newaxis];\u001B[39;00m\n\u001B[1;32m   1030\u001B[0m     \u001B[38;5;66;03m#  see tests.series.timeseries.test_mpl_compat_hack\u001B[39;00m\n\u001B[1;32m   1031\u001B[0m     \u001B[38;5;66;03m# the asarray is needed to avoid returning a 2D DatetimeArray\u001B[39;00m\n\u001B[1;32m   1032\u001B[0m     \u001B[38;5;28;01mreturn\u001B[39;00m np\u001B[38;5;241m.\u001B[39masarray(\u001B[38;5;28mself\u001B[39m\u001B[38;5;241m.\u001B[39m_values[indexer])\n",
      "File \u001B[0;32m~/miniconda3/envs/quant/lib/python3.9/site-packages/pandas/core/series.py:333\u001B[0m, in \u001B[0;36mSeries.__init__\u001B[0;34m(self, data, index, dtype, name, copy, fastpath)\u001B[0m\n\u001B[1;32m    325\u001B[0m \u001B[38;5;28;01mif\u001B[39;00m (\n\u001B[1;32m    326\u001B[0m     \u001B[38;5;28misinstance\u001B[39m(data, (SingleBlockManager, SingleArrayManager))\n\u001B[1;32m    327\u001B[0m     \u001B[38;5;129;01mand\u001B[39;00m index \u001B[38;5;129;01mis\u001B[39;00m \u001B[38;5;28;01mNone\u001B[39;00m\n\u001B[0;32m   (...)\u001B[0m\n\u001B[1;32m    330\u001B[0m ):\n\u001B[1;32m    331\u001B[0m     \u001B[38;5;66;03m# GH#33357 called with just the SingleBlockManager\u001B[39;00m\n\u001B[1;32m    332\u001B[0m     NDFrame\u001B[38;5;241m.\u001B[39m\u001B[38;5;21m__init__\u001B[39m(\u001B[38;5;28mself\u001B[39m, data)\n\u001B[0;32m--> 333\u001B[0m     \u001B[38;5;28mself\u001B[39m\u001B[38;5;241m.\u001B[39mname \u001B[38;5;241m=\u001B[39m name\n\u001B[1;32m    334\u001B[0m     \u001B[38;5;28;01mreturn\u001B[39;00m\n\u001B[1;32m    336\u001B[0m \u001B[38;5;66;03m# we are called internally, so short-circuit\u001B[39;00m\n",
      "File \u001B[0;32m~/miniconda3/envs/quant/lib/python3.9/site-packages/pandas/core/generic.py:5509\u001B[0m, in \u001B[0;36mNDFrame.__setattr__\u001B[0;34m(self, name, value)\u001B[0m\n\u001B[1;32m   5507\u001B[0m     \u001B[38;5;28mobject\u001B[39m\u001B[38;5;241m.\u001B[39m\u001B[38;5;21m__setattr__\u001B[39m(\u001B[38;5;28mself\u001B[39m, name, value)\n\u001B[1;32m   5508\u001B[0m \u001B[38;5;28;01melif\u001B[39;00m name \u001B[38;5;129;01min\u001B[39;00m \u001B[38;5;28mself\u001B[39m\u001B[38;5;241m.\u001B[39m_metadata:\n\u001B[0;32m-> 5509\u001B[0m     \u001B[38;5;28;43mobject\u001B[39;49m\u001B[38;5;241;43m.\u001B[39;49m\u001B[38;5;21;43m__setattr__\u001B[39;49m\u001B[43m(\u001B[49m\u001B[38;5;28;43mself\u001B[39;49m\u001B[43m,\u001B[49m\u001B[43m \u001B[49m\u001B[43mname\u001B[49m\u001B[43m,\u001B[49m\u001B[43m \u001B[49m\u001B[43mvalue\u001B[49m\u001B[43m)\u001B[49m\n\u001B[1;32m   5510\u001B[0m \u001B[38;5;28;01melse\u001B[39;00m:\n\u001B[1;32m   5511\u001B[0m     \u001B[38;5;28;01mtry\u001B[39;00m:\n",
      "\u001B[0;31mKeyboardInterrupt\u001B[0m: "
     ]
    }
   ],
   "source": [
    "s_time_chunk = time.time()\n",
    "dummy = tripA1.groupby('ticker').volume.rolling(10).apply(lambda x: pd.Series(x).rank().iloc[-1])\n",
    "e_time_chunk = time.time()\n",
    "print(f\"Total time: {e_time_chunk - s_time_chunk} sec\")\n"
   ],
   "metadata": {
    "collapsed": false,
    "pycharm": {
     "name": "#%%\n"
    }
   }
  },
  {
   "cell_type": "code",
   "execution_count": 46,
   "outputs": [
    {
     "name": "stdout",
     "output_type": "stream",
     "text": [
      "Total time: 80.64372301101685 sec\n"
     ]
    }
   ],
   "source": [
    "s_time_chunk = time.time()\n",
    "ofe0.ts_rank('volume', 10, inplace=True)\n",
    "e_time_chunk = time.time()\n",
    "print(f\"Total time: {e_time_chunk - s_time_chunk} sec\")"
   ],
   "metadata": {
    "collapsed": false,
    "pycharm": {
     "name": "#%%\n"
    }
   }
  },
  {
   "cell_type": "code",
   "execution_count": 47,
   "outputs": [],
   "source": [
    "tripA2 = tripA[['ticker', 'volume']].reset_index()\n",
    "tripA2 = tripA2.pivot(index='date', columns='ticker', values= 'volume')"
   ],
   "metadata": {
    "collapsed": false,
    "pycharm": {
     "name": "#%%\n"
    }
   }
  },
  {
   "cell_type": "code",
   "execution_count": 48,
   "outputs": [
    {
     "name": "stdout",
     "output_type": "stream",
     "text": [
      "Total time: 80.60853600502014 sec\n"
     ]
    }
   ],
   "source": [
    "s_time_chunk = time.time()\n",
    "dummy = tripA2.rolling(10).apply(lambda x: pd.Series(x).rank().iloc[-1], engine='cython', raw=True)\n",
    "e_time_chunk = time.time()\n",
    "print(f\"Total time: {e_time_chunk - s_time_chunk} sec\")"
   ],
   "metadata": {
    "collapsed": false,
    "pycharm": {
     "name": "#%%\n"
    }
   }
  },
  {
   "cell_type": "code",
   "execution_count": 23,
   "outputs": [],
   "source": [
    "tripA2 = tripA[['ticker', 'volume']].reset_index()"
   ],
   "metadata": {
    "collapsed": false,
    "pycharm": {
     "name": "#%%\n"
    }
   }
  },
  {
   "cell_type": "code",
   "execution_count": 25,
   "outputs": [],
   "source": [
    "tripA2 = tripA2.pivot(index='date', columns='ticker', values= 'volume')"
   ],
   "metadata": {
    "collapsed": false,
    "pycharm": {
     "name": "#%%\n"
    }
   }
  },
  {
   "cell_type": "code",
   "execution_count": 26,
   "outputs": [
    {
     "data": {
      "text/plain": "ticker              A          AA        AAP\ndate                                        \n2012-01-03  2973100.0         NaN   786600.0\n2012-01-04  3327500.0         NaN  1412800.0\n2012-01-05  4894600.0         NaN   596900.0\n2012-01-06  3370100.0         NaN  1346600.0\n2012-01-09  3168500.0         NaN   686100.0\n...               ...         ...        ...\n2022-03-10  1933127.0  10227270.0   613411.0\n2022-03-11  1815743.0   5687948.0   527477.0\n2022-03-14  1737099.0   7906373.0  1229028.0\n2022-03-15  1649205.0   7088133.0   814695.0\n2022-03-16  1673049.0   6806764.0  1235792.0\n\n[2568 rows x 3 columns]",
      "text/html": "<div>\n<style scoped>\n    .dataframe tbody tr th:only-of-type {\n        vertical-align: middle;\n    }\n\n    .dataframe tbody tr th {\n        vertical-align: top;\n    }\n\n    .dataframe thead th {\n        text-align: right;\n    }\n</style>\n<table border=\"1\" class=\"dataframe\">\n  <thead>\n    <tr style=\"text-align: right;\">\n      <th>ticker</th>\n      <th>A</th>\n      <th>AA</th>\n      <th>AAP</th>\n    </tr>\n    <tr>\n      <th>date</th>\n      <th></th>\n      <th></th>\n      <th></th>\n    </tr>\n  </thead>\n  <tbody>\n    <tr>\n      <th>2012-01-03</th>\n      <td>2973100.0</td>\n      <td>NaN</td>\n      <td>786600.0</td>\n    </tr>\n    <tr>\n      <th>2012-01-04</th>\n      <td>3327500.0</td>\n      <td>NaN</td>\n      <td>1412800.0</td>\n    </tr>\n    <tr>\n      <th>2012-01-05</th>\n      <td>4894600.0</td>\n      <td>NaN</td>\n      <td>596900.0</td>\n    </tr>\n    <tr>\n      <th>2012-01-06</th>\n      <td>3370100.0</td>\n      <td>NaN</td>\n      <td>1346600.0</td>\n    </tr>\n    <tr>\n      <th>2012-01-09</th>\n      <td>3168500.0</td>\n      <td>NaN</td>\n      <td>686100.0</td>\n    </tr>\n    <tr>\n      <th>...</th>\n      <td>...</td>\n      <td>...</td>\n      <td>...</td>\n    </tr>\n    <tr>\n      <th>2022-03-10</th>\n      <td>1933127.0</td>\n      <td>10227270.0</td>\n      <td>613411.0</td>\n    </tr>\n    <tr>\n      <th>2022-03-11</th>\n      <td>1815743.0</td>\n      <td>5687948.0</td>\n      <td>527477.0</td>\n    </tr>\n    <tr>\n      <th>2022-03-14</th>\n      <td>1737099.0</td>\n      <td>7906373.0</td>\n      <td>1229028.0</td>\n    </tr>\n    <tr>\n      <th>2022-03-15</th>\n      <td>1649205.0</td>\n      <td>7088133.0</td>\n      <td>814695.0</td>\n    </tr>\n    <tr>\n      <th>2022-03-16</th>\n      <td>1673049.0</td>\n      <td>6806764.0</td>\n      <td>1235792.0</td>\n    </tr>\n  </tbody>\n</table>\n<p>2568 rows × 3 columns</p>\n</div>"
     },
     "execution_count": 26,
     "metadata": {},
     "output_type": "execute_result"
    }
   ],
   "source": [
    "tripA2"
   ],
   "metadata": {
    "collapsed": false,
    "pycharm": {
     "name": "#%%\n"
    }
   }
  },
  {
   "cell_type": "code",
   "execution_count": 4,
   "outputs": [
    {
     "name": "stderr",
     "output_type": "stream",
     "text": [
      "/Users/punlee/miniconda3/envs/quant/lib/python3.9/site-packages/pandas/core/arraylike.py:364: RuntimeWarning: divide by zero encountered in log\n",
      "  result = getattr(ufunc, method)(*inputs, **kwargs)\n"
     ]
    },
    {
     "name": "stdout",
     "output_type": "stream",
     "text": [
      "Total time: 4843.606370210648 sec\n"
     ]
    }
   ],
   "source": [
    "s_time_chunk = time.time()\n",
    "afe0.alpha2(2, 6, inplace=True)\n",
    "e_time_chunk = time.time()\n",
    "\n",
    "print(f\"Total time: {e_time_chunk - s_time_chunk} sec\")"
   ],
   "metadata": {
    "collapsed": false,
    "pycharm": {
     "name": "#%%\n"
    }
   }
  }
 ],
 "metadata": {
  "kernelspec": {
   "display_name": "Python 3",
   "language": "python",
   "name": "python3"
  },
  "language_info": {
   "codemirror_mode": {
    "name": "ipython",
    "version": 2
   },
   "file_extension": ".py",
   "mimetype": "text/x-python",
   "name": "python",
   "nbconvert_exporter": "python",
   "pygments_lexer": "ipython2",
   "version": "2.7.6"
  }
 },
 "nbformat": 4,
 "nbformat_minor": 0
}