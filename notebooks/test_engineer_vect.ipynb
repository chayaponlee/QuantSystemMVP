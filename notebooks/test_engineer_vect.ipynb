{
 "cells": [
  {
   "cell_type": "code",
   "execution_count": 1,
   "metadata": {
    "collapsed": true
   },
   "outputs": [],
   "source": [
    "import pandas as pd\n",
    "from pandas import DataFrame\n",
    "import numpy as np\n",
    "from typing import List, Callable, Dict\n",
    "from realgam.quantlib import general_utils as gu\n",
    "from realgam.quantlib.engineer.op_engineer import OpEngineer, GroupOpEngineer\n",
    "from realgam.quantlib.engineer.op_engineer_vect import OpEngineerV\n",
    "from realgam.quantlib.engineer.ta_engineer import TalibEngineer, GroupTalibEngineer\n",
    "from realgam.quantlib.engineer.alpha_engineer import AlphaEngineer\n",
    "from realgam.quantlib.engineer.interface import BaseEngineer, GroupBaseEngineer\n",
    "import datetime\n",
    "import os\n",
    "import time\n",
    "PROJECT_PATH = os.getenv('QuantSystemMVP')\n",
    "DATA_PATH = f'{PROJECT_PATH}/Data/stock_hist.obj'"
   ]
  },
  {
   "cell_type": "code",
   "execution_count": 2,
   "outputs": [],
   "source": [
    "stocks_df, stocks_extended_df, available_tickers = gu.load_file(DATA_PATH)\n",
    "stacked_hist = stocks_df.copy()"
   ],
   "metadata": {
    "collapsed": false,
    "pycharm": {
     "name": "#%%\n"
    }
   }
  },
  {
   "cell_type": "code",
   "execution_count": 3,
   "outputs": [],
   "source": [
    "stacked_hist = stacked_hist.reset_index().set_index(['ticker', 'date'])"
   ],
   "metadata": {
    "collapsed": false,
    "pycharm": {
     "name": "#%%\n"
    }
   }
  },
  {
   "cell_type": "code",
   "execution_count": 5,
   "outputs": [],
   "source": [
    "tickers = stacked_hist.index.get_level_values('ticker').unique()[:500]\n",
    "small_hist = stacked_hist[stacked_hist.index.isin(tickers, level='ticker')]\n",
    "A = stacked_hist[stacked_hist.index.isin(['A'], level='ticker')]"
   ],
   "metadata": {
    "collapsed": false,
    "pycharm": {
     "name": "#%%\n"
    }
   }
  },
  {
   "cell_type": "code",
   "execution_count": 13,
   "outputs": [],
   "source": [
    "small_hist = small_hist.reset_index().set_index('date')"
   ],
   "metadata": {
    "collapsed": false,
    "pycharm": {
     "name": "#%%\n"
    }
   }
  },
  {
   "cell_type": "code",
   "execution_count": 6,
   "outputs": [],
   "source": [
    "oe = OpEngineerV(small_hist)\n",
    "# oe = GroupOpEngineer(small_hist, 'ticker')"
   ],
   "metadata": {
    "collapsed": false,
    "pycharm": {
     "name": "#%%\n"
    }
   }
  },
  {
   "cell_type": "code",
   "execution_count": 6,
   "outputs": [],
   "source": [
    "oe.ts_corr('closeadj', 'volume', 7, inplace=True)"
   ],
   "metadata": {
    "collapsed": false,
    "pycharm": {
     "name": "#%%\n"
    }
   }
  },
  {
   "cell_type": "code",
   "execution_count": 7,
   "outputs": [],
   "source": [
    "oe.ts_rank('volume', 5, inplace=True)"
   ],
   "metadata": {
    "collapsed": false,
    "pycharm": {
     "name": "#%%\n"
    }
   }
  },
  {
   "cell_type": "code",
   "execution_count": 8,
   "outputs": [
    {
     "data": {
      "text/plain": "ticker             A        AA  AAAP       AAC     AAC.U      AACC      AACG  \\\ndate                                                                           \n2012-01-03       NaN       NaN   NaN       NaN       NaN       NaN       NaN   \n2012-01-04 -0.007975       NaN   NaN       NaN       NaN -0.007299  0.000000   \n2012-01-05  0.022402       NaN   NaN       NaN       NaN  0.004902 -0.003788   \n2012-01-06  0.010812       NaN   NaN       NaN       NaN -0.004878 -0.001690   \n2012-01-09  0.026214       NaN   NaN       NaN       NaN  0.017157  0.013965   \n...              ...       ...   ...       ...       ...       ...       ...   \n2022-03-14 -0.020950 -0.070091   0.0  0.000000 -0.002030  0.000000  0.050847   \n2022-03-15  0.021163  0.002857   0.0  0.001026  0.000000  0.000000 -0.048387   \n2022-03-16  0.036230  0.026048   0.0  0.001025  0.000000  0.000000  0.101695   \n2022-03-17  0.013481  0.067434   0.0 -0.001024 -0.001017  0.000000  0.061538   \n2022-03-18  0.016810  0.021182   0.0  0.001025  0.000000  0.000000  0.036232   \n\nticker      AACH      AACI     AACIU  ...     AMCIU  AMCIU1      AMCO  \\\ndate                                  ...                               \n2012-01-03   NaN       NaN       NaN  ...       NaN     NaN       NaN   \n2012-01-04   NaN       NaN       NaN  ...       NaN     NaN  0.038462   \n2012-01-05   NaN       NaN       NaN  ...       NaN     NaN  0.111111   \n2012-01-06   NaN       NaN       NaN  ...       NaN     NaN  0.400000   \n2012-01-09   NaN       NaN       NaN  ...       NaN     NaN -0.047619   \n...          ...       ...       ...  ...       ...     ...       ...   \n2022-03-14   0.0  0.004073  0.000000  ...  0.000201     0.0  0.000000   \n2022-03-15   0.0  0.000000 -0.001016  ...  0.000000     0.0  0.000000   \n2022-03-16   0.0 -0.001521  0.000000  ...  0.000000     0.0  0.000000   \n2022-03-17   0.0  0.000000  0.000000  ...  0.001404     0.0  0.000000   \n2022-03-18   0.0  0.000000  0.002035  ...  0.000000     0.0  0.000000   \n\nticker          AMCR     AMCRY      AMCX       AMD       AME      AMED  \\\ndate                                                                     \n2012-01-03       NaN       NaN       NaN       NaN       NaN       NaN   \n2012-01-04       NaN -0.005973  0.009641 -0.003650  0.013725 -0.058140   \n2012-01-05       NaN -0.003344  0.014589  0.000000  0.016569 -0.002849   \n2012-01-06       NaN -0.026163  0.001307 -0.005495 -0.011957  0.033333   \n2012-01-09       NaN  0.013433  0.007050  0.029466  0.000261 -0.016590   \n...              ...       ...       ...       ...       ...       ...   \n2022-03-14  0.035780  0.000000  0.069870 -0.019561  0.005936 -0.043960   \n2022-03-15 -0.004429  0.000000 -0.057781  0.069242  0.018019  0.057982   \n2022-03-16  0.019573  0.000000  0.026797  0.055246  0.015458  0.034360   \n2022-03-17  0.013089  0.000000  0.012296 -0.031897  0.010428  0.052665   \n2022-03-18  0.005168  0.000000  0.003966  0.015847  0.015141  0.011266   \n\nticker          AMEH  \ndate                  \n2012-01-03       NaN  \n2012-01-04       NaN  \n2012-01-05       NaN  \n2012-01-06       NaN  \n2012-01-09       NaN  \n...              ...  \n2022-03-14 -0.099305  \n2022-03-15  0.100055  \n2022-03-16  0.137810  \n2022-03-17  0.094473  \n2022-03-18 -0.027163  \n\n[2570 rows x 500 columns]",
      "text/html": "<div>\n<style scoped>\n    .dataframe tbody tr th:only-of-type {\n        vertical-align: middle;\n    }\n\n    .dataframe tbody tr th {\n        vertical-align: top;\n    }\n\n    .dataframe thead th {\n        text-align: right;\n    }\n</style>\n<table border=\"1\" class=\"dataframe\">\n  <thead>\n    <tr style=\"text-align: right;\">\n      <th>ticker</th>\n      <th>A</th>\n      <th>AA</th>\n      <th>AAAP</th>\n      <th>AAC</th>\n      <th>AAC.U</th>\n      <th>AACC</th>\n      <th>AACG</th>\n      <th>AACH</th>\n      <th>AACI</th>\n      <th>AACIU</th>\n      <th>...</th>\n      <th>AMCIU</th>\n      <th>AMCIU1</th>\n      <th>AMCO</th>\n      <th>AMCR</th>\n      <th>AMCRY</th>\n      <th>AMCX</th>\n      <th>AMD</th>\n      <th>AME</th>\n      <th>AMED</th>\n      <th>AMEH</th>\n    </tr>\n    <tr>\n      <th>date</th>\n      <th></th>\n      <th></th>\n      <th></th>\n      <th></th>\n      <th></th>\n      <th></th>\n      <th></th>\n      <th></th>\n      <th></th>\n      <th></th>\n      <th></th>\n      <th></th>\n      <th></th>\n      <th></th>\n      <th></th>\n      <th></th>\n      <th></th>\n      <th></th>\n      <th></th>\n      <th></th>\n      <th></th>\n    </tr>\n  </thead>\n  <tbody>\n    <tr>\n      <th>2012-01-03</th>\n      <td>NaN</td>\n      <td>NaN</td>\n      <td>NaN</td>\n      <td>NaN</td>\n      <td>NaN</td>\n      <td>NaN</td>\n      <td>NaN</td>\n      <td>NaN</td>\n      <td>NaN</td>\n      <td>NaN</td>\n      <td>...</td>\n      <td>NaN</td>\n      <td>NaN</td>\n      <td>NaN</td>\n      <td>NaN</td>\n      <td>NaN</td>\n      <td>NaN</td>\n      <td>NaN</td>\n      <td>NaN</td>\n      <td>NaN</td>\n      <td>NaN</td>\n    </tr>\n    <tr>\n      <th>2012-01-04</th>\n      <td>-0.007975</td>\n      <td>NaN</td>\n      <td>NaN</td>\n      <td>NaN</td>\n      <td>NaN</td>\n      <td>-0.007299</td>\n      <td>0.000000</td>\n      <td>NaN</td>\n      <td>NaN</td>\n      <td>NaN</td>\n      <td>...</td>\n      <td>NaN</td>\n      <td>NaN</td>\n      <td>0.038462</td>\n      <td>NaN</td>\n      <td>-0.005973</td>\n      <td>0.009641</td>\n      <td>-0.003650</td>\n      <td>0.013725</td>\n      <td>-0.058140</td>\n      <td>NaN</td>\n    </tr>\n    <tr>\n      <th>2012-01-05</th>\n      <td>0.022402</td>\n      <td>NaN</td>\n      <td>NaN</td>\n      <td>NaN</td>\n      <td>NaN</td>\n      <td>0.004902</td>\n      <td>-0.003788</td>\n      <td>NaN</td>\n      <td>NaN</td>\n      <td>NaN</td>\n      <td>...</td>\n      <td>NaN</td>\n      <td>NaN</td>\n      <td>0.111111</td>\n      <td>NaN</td>\n      <td>-0.003344</td>\n      <td>0.014589</td>\n      <td>0.000000</td>\n      <td>0.016569</td>\n      <td>-0.002849</td>\n      <td>NaN</td>\n    </tr>\n    <tr>\n      <th>2012-01-06</th>\n      <td>0.010812</td>\n      <td>NaN</td>\n      <td>NaN</td>\n      <td>NaN</td>\n      <td>NaN</td>\n      <td>-0.004878</td>\n      <td>-0.001690</td>\n      <td>NaN</td>\n      <td>NaN</td>\n      <td>NaN</td>\n      <td>...</td>\n      <td>NaN</td>\n      <td>NaN</td>\n      <td>0.400000</td>\n      <td>NaN</td>\n      <td>-0.026163</td>\n      <td>0.001307</td>\n      <td>-0.005495</td>\n      <td>-0.011957</td>\n      <td>0.033333</td>\n      <td>NaN</td>\n    </tr>\n    <tr>\n      <th>2012-01-09</th>\n      <td>0.026214</td>\n      <td>NaN</td>\n      <td>NaN</td>\n      <td>NaN</td>\n      <td>NaN</td>\n      <td>0.017157</td>\n      <td>0.013965</td>\n      <td>NaN</td>\n      <td>NaN</td>\n      <td>NaN</td>\n      <td>...</td>\n      <td>NaN</td>\n      <td>NaN</td>\n      <td>-0.047619</td>\n      <td>NaN</td>\n      <td>0.013433</td>\n      <td>0.007050</td>\n      <td>0.029466</td>\n      <td>0.000261</td>\n      <td>-0.016590</td>\n      <td>NaN</td>\n    </tr>\n    <tr>\n      <th>...</th>\n      <td>...</td>\n      <td>...</td>\n      <td>...</td>\n      <td>...</td>\n      <td>...</td>\n      <td>...</td>\n      <td>...</td>\n      <td>...</td>\n      <td>...</td>\n      <td>...</td>\n      <td>...</td>\n      <td>...</td>\n      <td>...</td>\n      <td>...</td>\n      <td>...</td>\n      <td>...</td>\n      <td>...</td>\n      <td>...</td>\n      <td>...</td>\n      <td>...</td>\n      <td>...</td>\n    </tr>\n    <tr>\n      <th>2022-03-14</th>\n      <td>-0.020950</td>\n      <td>-0.070091</td>\n      <td>0.0</td>\n      <td>0.000000</td>\n      <td>-0.002030</td>\n      <td>0.000000</td>\n      <td>0.050847</td>\n      <td>0.0</td>\n      <td>0.004073</td>\n      <td>0.000000</td>\n      <td>...</td>\n      <td>0.000201</td>\n      <td>0.0</td>\n      <td>0.000000</td>\n      <td>0.035780</td>\n      <td>0.000000</td>\n      <td>0.069870</td>\n      <td>-0.019561</td>\n      <td>0.005936</td>\n      <td>-0.043960</td>\n      <td>-0.099305</td>\n    </tr>\n    <tr>\n      <th>2022-03-15</th>\n      <td>0.021163</td>\n      <td>0.002857</td>\n      <td>0.0</td>\n      <td>0.001026</td>\n      <td>0.000000</td>\n      <td>0.000000</td>\n      <td>-0.048387</td>\n      <td>0.0</td>\n      <td>0.000000</td>\n      <td>-0.001016</td>\n      <td>...</td>\n      <td>0.000000</td>\n      <td>0.0</td>\n      <td>0.000000</td>\n      <td>-0.004429</td>\n      <td>0.000000</td>\n      <td>-0.057781</td>\n      <td>0.069242</td>\n      <td>0.018019</td>\n      <td>0.057982</td>\n      <td>0.100055</td>\n    </tr>\n    <tr>\n      <th>2022-03-16</th>\n      <td>0.036230</td>\n      <td>0.026048</td>\n      <td>0.0</td>\n      <td>0.001025</td>\n      <td>0.000000</td>\n      <td>0.000000</td>\n      <td>0.101695</td>\n      <td>0.0</td>\n      <td>-0.001521</td>\n      <td>0.000000</td>\n      <td>...</td>\n      <td>0.000000</td>\n      <td>0.0</td>\n      <td>0.000000</td>\n      <td>0.019573</td>\n      <td>0.000000</td>\n      <td>0.026797</td>\n      <td>0.055246</td>\n      <td>0.015458</td>\n      <td>0.034360</td>\n      <td>0.137810</td>\n    </tr>\n    <tr>\n      <th>2022-03-17</th>\n      <td>0.013481</td>\n      <td>0.067434</td>\n      <td>0.0</td>\n      <td>-0.001024</td>\n      <td>-0.001017</td>\n      <td>0.000000</td>\n      <td>0.061538</td>\n      <td>0.0</td>\n      <td>0.000000</td>\n      <td>0.000000</td>\n      <td>...</td>\n      <td>0.001404</td>\n      <td>0.0</td>\n      <td>0.000000</td>\n      <td>0.013089</td>\n      <td>0.000000</td>\n      <td>0.012296</td>\n      <td>-0.031897</td>\n      <td>0.010428</td>\n      <td>0.052665</td>\n      <td>0.094473</td>\n    </tr>\n    <tr>\n      <th>2022-03-18</th>\n      <td>0.016810</td>\n      <td>0.021182</td>\n      <td>0.0</td>\n      <td>0.001025</td>\n      <td>0.000000</td>\n      <td>0.000000</td>\n      <td>0.036232</td>\n      <td>0.0</td>\n      <td>0.000000</td>\n      <td>0.002035</td>\n      <td>...</td>\n      <td>0.000000</td>\n      <td>0.0</td>\n      <td>0.000000</td>\n      <td>0.005168</td>\n      <td>0.000000</td>\n      <td>0.003966</td>\n      <td>0.015847</td>\n      <td>0.015141</td>\n      <td>0.011266</td>\n      <td>-0.027163</td>\n    </tr>\n  </tbody>\n</table>\n<p>2570 rows × 500 columns</p>\n</div>"
     },
     "execution_count": 8,
     "metadata": {},
     "output_type": "execute_result"
    }
   ],
   "source": [
    "oe.ts_ret('closeadj', wide=True)"
   ],
   "metadata": {
    "collapsed": false,
    "pycharm": {
     "name": "#%%\n"
    }
   }
  },
  {
   "cell_type": "code",
   "execution_count": 20,
   "outputs": [],
   "source": [
    "dummy = oe.ts_corr('volume', 'lowadj', 7)"
   ],
   "metadata": {
    "collapsed": false,
    "pycharm": {
     "name": "#%%\n"
    }
   }
  },
  {
   "cell_type": "code",
   "execution_count": 21,
   "outputs": [
    {
     "data": {
      "text/plain": "ticker  date      \nA       2012-01-03         NaN\nAA      2012-01-03         NaN\nAAAP    2012-01-03         NaN\nAAC     2012-01-03         NaN\nAAC.U   2012-01-03         NaN\n                        ...   \nAMCX    2022-03-18   -0.726342\nAMD     2022-03-18    0.426641\nAME     2022-03-18    0.085004\nAMED    2022-03-18    0.471575\nAMEH    2022-03-18   -0.151938\nLength: 1285000, dtype: float64"
     },
     "execution_count": 21,
     "metadata": {},
     "output_type": "execute_result"
    }
   ],
   "source": [
    "dummy"
   ],
   "metadata": {
    "collapsed": false,
    "pycharm": {
     "name": "#%%\n"
    }
   }
  },
  {
   "cell_type": "code",
   "execution_count": 19,
   "outputs": [
    {
     "data": {
      "text/plain": "ticker  date      \nA       2012-01-11   -0.480329\nAACC    2012-01-11   -0.618211\nAACG    2012-01-11    0.219250\nAACPF   2012-01-11   -0.305476\nAAIC    2012-01-11   -0.183243\n                        ...   \nAMCX    2022-03-18   -0.726342\nAMD     2022-03-18    0.426641\nAME     2022-03-18    0.085004\nAMED    2022-03-18    0.471575\nAMEH    2022-03-18   -0.151938\nLength: 624053, dtype: float64"
     },
     "execution_count": 19,
     "metadata": {},
     "output_type": "execute_result"
    }
   ],
   "source": [
    "dummy.stack().swaplevel()"
   ],
   "metadata": {
    "collapsed": false,
    "pycharm": {
     "name": "#%%\n"
    }
   }
  },
  {
   "cell_type": "code",
   "execution_count": 17,
   "outputs": [],
   "source": [
    "small_hist['dummy'] = dummy.stack().swaplevel()"
   ],
   "metadata": {
    "collapsed": false,
    "pycharm": {
     "name": "#%%\n"
    }
   }
  },
  {
   "cell_type": "code",
   "execution_count": 15,
   "outputs": [
    {
     "data": {
      "text/plain": "                    open    high     low  close    openadj    highadj  \\\nticker date                                                             \nA      2012-01-03  35.84  36.990  35.740  36.48  23.651649  24.410561   \n       2012-01-04  36.15  36.360  35.590  36.19  23.855604  23.994184   \n       2012-01-05  35.88  37.320  35.720  37.00  23.677891  24.628174   \n       2012-01-06  37.09  37.555  36.805  37.40  24.476425  24.783288   \n       2012-01-09  37.62  38.420  37.472  38.38  24.826455  25.354397   \n...                  ...     ...     ...    ...        ...        ...   \nAMEH   2022-03-14  40.39  41.135  36.035  36.28  40.390000  41.135000   \n       2022-03-15  36.34  40.180  36.340  39.91  36.340000  40.180000   \n       2022-03-16  40.71  45.560  40.710  45.41  40.710000  45.560000   \n       2022-03-17  44.70  50.000  44.670  49.70  44.700000  50.000000   \n       2022-03-18  48.42  49.885  47.100  48.35  48.420000  49.885000   \n\n                      lowadj  closeadj     volume     dummy  \nticker date                                                  \nA      2012-01-03  23.585657    24.074  2973100.0       NaN  \n       2012-01-04  23.486056    23.882  3327500.0       NaN  \n       2012-01-05  23.572304    24.417  4894600.0       NaN  \n       2012-01-06  24.288348    24.681  3370100.0       NaN  \n       2012-01-09  24.728786    25.328  3168500.0       NaN  \n...                      ...       ...        ...       ...  \nAMEH   2022-03-14  36.035000    36.280   612477.0 -0.768102  \n       2022-03-15  36.340000    39.910   625470.0 -0.850430  \n       2022-03-16  40.710000    45.410   629122.0 -0.709687  \n       2022-03-17  44.670000    49.700   481134.0 -0.509006  \n       2022-03-18  47.100000    48.350   598953.0 -0.151938  \n\n[633323 rows x 10 columns]",
      "text/html": "<div>\n<style scoped>\n    .dataframe tbody tr th:only-of-type {\n        vertical-align: middle;\n    }\n\n    .dataframe tbody tr th {\n        vertical-align: top;\n    }\n\n    .dataframe thead th {\n        text-align: right;\n    }\n</style>\n<table border=\"1\" class=\"dataframe\">\n  <thead>\n    <tr style=\"text-align: right;\">\n      <th></th>\n      <th></th>\n      <th>open</th>\n      <th>high</th>\n      <th>low</th>\n      <th>close</th>\n      <th>openadj</th>\n      <th>highadj</th>\n      <th>lowadj</th>\n      <th>closeadj</th>\n      <th>volume</th>\n      <th>dummy</th>\n    </tr>\n    <tr>\n      <th>ticker</th>\n      <th>date</th>\n      <th></th>\n      <th></th>\n      <th></th>\n      <th></th>\n      <th></th>\n      <th></th>\n      <th></th>\n      <th></th>\n      <th></th>\n      <th></th>\n    </tr>\n  </thead>\n  <tbody>\n    <tr>\n      <th rowspan=\"5\" valign=\"top\">A</th>\n      <th>2012-01-03</th>\n      <td>35.84</td>\n      <td>36.990</td>\n      <td>35.740</td>\n      <td>36.48</td>\n      <td>23.651649</td>\n      <td>24.410561</td>\n      <td>23.585657</td>\n      <td>24.074</td>\n      <td>2973100.0</td>\n      <td>NaN</td>\n    </tr>\n    <tr>\n      <th>2012-01-04</th>\n      <td>36.15</td>\n      <td>36.360</td>\n      <td>35.590</td>\n      <td>36.19</td>\n      <td>23.855604</td>\n      <td>23.994184</td>\n      <td>23.486056</td>\n      <td>23.882</td>\n      <td>3327500.0</td>\n      <td>NaN</td>\n    </tr>\n    <tr>\n      <th>2012-01-05</th>\n      <td>35.88</td>\n      <td>37.320</td>\n      <td>35.720</td>\n      <td>37.00</td>\n      <td>23.677891</td>\n      <td>24.628174</td>\n      <td>23.572304</td>\n      <td>24.417</td>\n      <td>4894600.0</td>\n      <td>NaN</td>\n    </tr>\n    <tr>\n      <th>2012-01-06</th>\n      <td>37.09</td>\n      <td>37.555</td>\n      <td>36.805</td>\n      <td>37.40</td>\n      <td>24.476425</td>\n      <td>24.783288</td>\n      <td>24.288348</td>\n      <td>24.681</td>\n      <td>3370100.0</td>\n      <td>NaN</td>\n    </tr>\n    <tr>\n      <th>2012-01-09</th>\n      <td>37.62</td>\n      <td>38.420</td>\n      <td>37.472</td>\n      <td>38.38</td>\n      <td>24.826455</td>\n      <td>25.354397</td>\n      <td>24.728786</td>\n      <td>25.328</td>\n      <td>3168500.0</td>\n      <td>NaN</td>\n    </tr>\n    <tr>\n      <th>...</th>\n      <th>...</th>\n      <td>...</td>\n      <td>...</td>\n      <td>...</td>\n      <td>...</td>\n      <td>...</td>\n      <td>...</td>\n      <td>...</td>\n      <td>...</td>\n      <td>...</td>\n      <td>...</td>\n    </tr>\n    <tr>\n      <th rowspan=\"5\" valign=\"top\">AMEH</th>\n      <th>2022-03-14</th>\n      <td>40.39</td>\n      <td>41.135</td>\n      <td>36.035</td>\n      <td>36.28</td>\n      <td>40.390000</td>\n      <td>41.135000</td>\n      <td>36.035000</td>\n      <td>36.280</td>\n      <td>612477.0</td>\n      <td>-0.768102</td>\n    </tr>\n    <tr>\n      <th>2022-03-15</th>\n      <td>36.34</td>\n      <td>40.180</td>\n      <td>36.340</td>\n      <td>39.91</td>\n      <td>36.340000</td>\n      <td>40.180000</td>\n      <td>36.340000</td>\n      <td>39.910</td>\n      <td>625470.0</td>\n      <td>-0.850430</td>\n    </tr>\n    <tr>\n      <th>2022-03-16</th>\n      <td>40.71</td>\n      <td>45.560</td>\n      <td>40.710</td>\n      <td>45.41</td>\n      <td>40.710000</td>\n      <td>45.560000</td>\n      <td>40.710000</td>\n      <td>45.410</td>\n      <td>629122.0</td>\n      <td>-0.709687</td>\n    </tr>\n    <tr>\n      <th>2022-03-17</th>\n      <td>44.70</td>\n      <td>50.000</td>\n      <td>44.670</td>\n      <td>49.70</td>\n      <td>44.700000</td>\n      <td>50.000000</td>\n      <td>44.670000</td>\n      <td>49.700</td>\n      <td>481134.0</td>\n      <td>-0.509006</td>\n    </tr>\n    <tr>\n      <th>2022-03-18</th>\n      <td>48.42</td>\n      <td>49.885</td>\n      <td>47.100</td>\n      <td>48.35</td>\n      <td>48.420000</td>\n      <td>49.885000</td>\n      <td>47.100000</td>\n      <td>48.350</td>\n      <td>598953.0</td>\n      <td>-0.151938</td>\n    </tr>\n  </tbody>\n</table>\n<p>633323 rows × 10 columns</p>\n</div>"
     },
     "execution_count": 15,
     "metadata": {},
     "output_type": "execute_result"
    }
   ],
   "source": [
    "small_hist"
   ],
   "metadata": {
    "collapsed": false,
    "pycharm": {
     "name": "#%%\n"
    }
   }
  },
  {
   "cell_type": "code",
   "execution_count": 6,
   "outputs": [
    {
     "name": "stdout",
     "output_type": "stream",
     "text": [
      "Total time: 61.50217294692993 sec\n"
     ]
    }
   ],
   "source": [
    "s_time_chunk = time.time()\n",
    "oe.ts_rank('volume', 7, inplace=True)\n",
    "e_time_chunk = time.time()\n",
    "print(f\"Total time: {e_time_chunk - s_time_chunk} sec\")\n"
   ],
   "metadata": {
    "collapsed": false,
    "pycharm": {
     "name": "#%%\n"
    }
   }
  },
  {
   "cell_type": "code",
   "execution_count": 8,
   "outputs": [
    {
     "name": "stdout",
     "output_type": "stream",
     "text": [
      "Total time: 18.82079291343689 sec\n"
     ]
    }
   ],
   "source": [
    "s_time_chunk = time.time()\n",
    "oe.ts_corr('volume', 'lowadj', 7, inplace=True)\n",
    "e_time_chunk = time.time()\n",
    "print(f\"Total time: {e_time_chunk - s_time_chunk} sec\")\n"
   ],
   "metadata": {
    "collapsed": false,
    "pycharm": {
     "name": "#%%\n"
    }
   }
  },
  {
   "cell_type": "code",
   "execution_count": 9,
   "outputs": [
    {
     "name": "stdout",
     "output_type": "stream",
     "text": [
      "Total time: 21.080628871917725 sec\n"
     ]
    }
   ],
   "source": [
    "s_time_chunk = time.time()\n",
    "oe.ts_argmin('volume', 7, inplace=True)\n",
    "e_time_chunk = time.time()\n",
    "print(f\"Total time: {e_time_chunk - s_time_chunk} sec\")"
   ],
   "metadata": {
    "collapsed": false,
    "pycharm": {
     "name": "#%%\n"
    }
   }
  },
  {
   "cell_type": "code",
   "execution_count": 10,
   "outputs": [
    {
     "name": "stdout",
     "output_type": "stream",
     "text": [
      "Total time: 0.5754458904266357 sec\n"
     ]
    }
   ],
   "source": [
    "s_time_chunk = time.time()\n",
    "oe.cs_pctrank('volume', inplace=True)\n",
    "e_time_chunk = time.time()\n",
    "print(f\"Total time: {e_time_chunk - s_time_chunk} sec\")"
   ],
   "metadata": {
    "collapsed": false,
    "pycharm": {
     "name": "#%%\n"
    }
   }
  },
  {
   "cell_type": "code",
   "execution_count": null,
   "outputs": [],
   "source": [],
   "metadata": {
    "collapsed": false,
    "pycharm": {
     "name": "#%%\n"
    }
   }
  }
 ],
 "metadata": {
  "kernelspec": {
   "display_name": "Python 3",
   "language": "python",
   "name": "python3"
  },
  "language_info": {
   "codemirror_mode": {
    "name": "ipython",
    "version": 2
   },
   "file_extension": ".py",
   "mimetype": "text/x-python",
   "name": "python",
   "nbconvert_exporter": "python",
   "pygments_lexer": "ipython2",
   "version": "2.7.6"
  }
 },
 "nbformat": 4,
 "nbformat_minor": 0
}