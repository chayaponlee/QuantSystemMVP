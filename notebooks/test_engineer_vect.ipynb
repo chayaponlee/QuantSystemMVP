{
 "cells": [
  {
   "cell_type": "code",
   "execution_count": 1,
   "metadata": {
    "collapsed": true
   },
   "outputs": [],
   "source": [
    "import pandas as pd\n",
    "from pandas import DataFrame\n",
    "import numpy as np\n",
    "from typing import List, Callable, Dict\n",
    "from realgam.quantlib import general_utils as gu\n",
    "from realgam.quantlib.engineer.op_engineer import OpEngineer, GroupOpEngineer\n",
    "from realgam.quantlib.engineer.ta_engineer import TalibEngineer, GroupTalibEngineer\n",
    "from realgam.quantlib.engineer.alpha_engineer import AlphaEngineer\n",
    "from realgam.quantlib.engineer.interface import BaseEngineer, GroupBaseEngineer\n",
    "import datetime\n",
    "import os\n",
    "import time\n",
    "PROJECT_PATH = os.getenv('QuantSystemMVP')\n",
    "DATA_PATH = f'{PROJECT_PATH}/Data/stock_hist.obj'"
   ]
  },
  {
   "cell_type": "code",
   "execution_count": 2,
   "outputs": [],
   "source": [
    "stocks_df, stocks_extended_df, available_tickers = gu.load_file(DATA_PATH)\n",
    "stacked_hist = stocks_df.copy().swaplevel()"
   ],
   "metadata": {
    "collapsed": false,
    "pycharm": {
     "name": "#%%\n"
    }
   }
  },
  {
   "cell_type": "code",
   "execution_count": 5,
   "outputs": [],
   "source": [
    "tickers = stacked_hist.index.get_level_values('ticker').unique()[:1000]\n",
    "small_hist = stacked_hist[stacked_hist.index.isin(tickers, level='ticker')]\n",
    "A = stacked_hist[stacked_hist.index.isin(['A'], level='ticker')]"
   ],
   "metadata": {
    "collapsed": false,
    "pycharm": {
     "name": "#%%\n"
    }
   }
  },
  {
   "cell_type": "code",
   "execution_count": null,
   "outputs": [],
   "source": [
    "goe = GroupOpEngineer(tripA, 'ticker')"
   ],
   "metadata": {
    "collapsed": false,
    "pycharm": {
     "name": "#%%\n"
    }
   }
  },
  {
   "cell_type": "code",
   "execution_count": 11,
   "outputs": [],
   "source": [
    "price = small_hist['closeadj'].unstack('ticker')\n",
    "eng_values = price.pct_change().stack(dropna=False).swaplevel()"
   ],
   "metadata": {
    "collapsed": false,
    "pycharm": {
     "name": "#%%\n"
    }
   }
  },
  {
   "cell_type": "code",
   "execution_count": 13,
   "outputs": [],
   "source": [
    "small_hist['ret'] = eng_values"
   ],
   "metadata": {
    "collapsed": false,
    "pycharm": {
     "name": "#%%\n"
    }
   }
  },
  {
   "cell_type": "code",
   "execution_count": 17,
   "outputs": [
    {
     "data": {
      "text/plain": "ticker            A     AA  AAAP   AAC  AAC.U  AACC   AACG  AACH   AACI  \\\ndate                                                                      \n2012-01-03   24.074    NaN   NaN   NaN    NaN  4.11  2.376   NaN    NaN   \n2012-01-04   23.882    NaN   NaN   NaN    NaN  4.08  2.376   NaN    NaN   \n2012-01-05   24.417    NaN   NaN   NaN    NaN  4.10  2.367   NaN    NaN   \n2012-01-06   24.681    NaN   NaN   NaN    NaN  4.08  2.363   NaN    NaN   \n2012-01-09   25.328    NaN   NaN   NaN    NaN  4.15  2.396   NaN    NaN   \n...             ...    ...   ...   ...    ...   ...    ...   ...    ...   \n2022-03-14  127.580  73.50   NaN  9.75   9.83   NaN  1.240   NaN  9.860   \n2022-03-15  130.280  73.71   NaN  9.76   9.83   NaN  1.180   NaN  9.860   \n2022-03-16  135.000  75.63   NaN  9.77   9.83   NaN  1.300   NaN  9.845   \n2022-03-17  136.820  80.73   NaN  9.76   9.82   NaN  1.380   NaN  9.845   \n2022-03-18  139.120  82.44   NaN  9.77   9.82   NaN  1.430   NaN  9.845   \n\nticker      AACIU  ...      AWK     AWR   AWRE   AWX      AX  AXAC.U  AXAR  \\\ndate               ...                                                       \n2012-01-03    NaN  ...   25.345  14.077  1.329  2.90   4.157     NaN   NaN   \n2012-01-04    NaN  ...   25.256  13.855  1.291  2.88   4.138     NaN   NaN   \n2012-01-05    NaN  ...   25.506  13.831  1.324  2.85   4.170     NaN   NaN   \n2012-01-06    NaN  ...   25.675  13.843  1.366  2.90   4.183     NaN   NaN   \n2012-01-09    NaN  ...   25.611  13.831  1.347  2.70   4.183     NaN   NaN   \n...           ...  ...      ...     ...    ...   ...     ...     ...   ...   \n2022-03-14   9.84  ...  152.620  84.010  2.950  3.28  47.350   10.16   NaN   \n2022-03-15   9.83  ...  155.950  85.970  3.000  3.28  47.630     NaN   NaN   \n2022-03-16    NaN  ...  156.150  85.660  3.000  3.32  49.580     NaN   NaN   \n2022-03-17   9.83  ...  157.430  85.970  3.050  3.47  49.060   10.19   NaN   \n2022-03-18   9.85  ...  158.720  87.440  3.180  3.62  49.620     NaN   NaN   \n\nticker      AXDX     AXE  AXGN  \ndate                            \n2012-01-03  1.34  54.065  2.60  \n2012-01-04  1.38  53.976  2.60  \n2012-01-05  1.36  53.959  2.75  \n2012-01-06  1.43  54.364  2.80  \n2012-01-09  1.38  54.629  2.85  \n...          ...     ...   ...  \n2022-03-14  1.67     NaN  8.10  \n2022-03-15  1.70     NaN  8.12  \n2022-03-16  1.90     NaN  8.20  \n2022-03-17  1.91     NaN  9.12  \n2022-03-18  1.95     NaN  9.25  \n\n[2570 rows x 1000 columns]",
      "text/html": "<div>\n<style scoped>\n    .dataframe tbody tr th:only-of-type {\n        vertical-align: middle;\n    }\n\n    .dataframe tbody tr th {\n        vertical-align: top;\n    }\n\n    .dataframe thead th {\n        text-align: right;\n    }\n</style>\n<table border=\"1\" class=\"dataframe\">\n  <thead>\n    <tr style=\"text-align: right;\">\n      <th>ticker</th>\n      <th>A</th>\n      <th>AA</th>\n      <th>AAAP</th>\n      <th>AAC</th>\n      <th>AAC.U</th>\n      <th>AACC</th>\n      <th>AACG</th>\n      <th>AACH</th>\n      <th>AACI</th>\n      <th>AACIU</th>\n      <th>...</th>\n      <th>AWK</th>\n      <th>AWR</th>\n      <th>AWRE</th>\n      <th>AWX</th>\n      <th>AX</th>\n      <th>AXAC.U</th>\n      <th>AXAR</th>\n      <th>AXDX</th>\n      <th>AXE</th>\n      <th>AXGN</th>\n    </tr>\n    <tr>\n      <th>date</th>\n      <th></th>\n      <th></th>\n      <th></th>\n      <th></th>\n      <th></th>\n      <th></th>\n      <th></th>\n      <th></th>\n      <th></th>\n      <th></th>\n      <th></th>\n      <th></th>\n      <th></th>\n      <th></th>\n      <th></th>\n      <th></th>\n      <th></th>\n      <th></th>\n      <th></th>\n      <th></th>\n      <th></th>\n    </tr>\n  </thead>\n  <tbody>\n    <tr>\n      <th>2012-01-03</th>\n      <td>24.074</td>\n      <td>NaN</td>\n      <td>NaN</td>\n      <td>NaN</td>\n      <td>NaN</td>\n      <td>4.11</td>\n      <td>2.376</td>\n      <td>NaN</td>\n      <td>NaN</td>\n      <td>NaN</td>\n      <td>...</td>\n      <td>25.345</td>\n      <td>14.077</td>\n      <td>1.329</td>\n      <td>2.90</td>\n      <td>4.157</td>\n      <td>NaN</td>\n      <td>NaN</td>\n      <td>1.34</td>\n      <td>54.065</td>\n      <td>2.60</td>\n    </tr>\n    <tr>\n      <th>2012-01-04</th>\n      <td>23.882</td>\n      <td>NaN</td>\n      <td>NaN</td>\n      <td>NaN</td>\n      <td>NaN</td>\n      <td>4.08</td>\n      <td>2.376</td>\n      <td>NaN</td>\n      <td>NaN</td>\n      <td>NaN</td>\n      <td>...</td>\n      <td>25.256</td>\n      <td>13.855</td>\n      <td>1.291</td>\n      <td>2.88</td>\n      <td>4.138</td>\n      <td>NaN</td>\n      <td>NaN</td>\n      <td>1.38</td>\n      <td>53.976</td>\n      <td>2.60</td>\n    </tr>\n    <tr>\n      <th>2012-01-05</th>\n      <td>24.417</td>\n      <td>NaN</td>\n      <td>NaN</td>\n      <td>NaN</td>\n      <td>NaN</td>\n      <td>4.10</td>\n      <td>2.367</td>\n      <td>NaN</td>\n      <td>NaN</td>\n      <td>NaN</td>\n      <td>...</td>\n      <td>25.506</td>\n      <td>13.831</td>\n      <td>1.324</td>\n      <td>2.85</td>\n      <td>4.170</td>\n      <td>NaN</td>\n      <td>NaN</td>\n      <td>1.36</td>\n      <td>53.959</td>\n      <td>2.75</td>\n    </tr>\n    <tr>\n      <th>2012-01-06</th>\n      <td>24.681</td>\n      <td>NaN</td>\n      <td>NaN</td>\n      <td>NaN</td>\n      <td>NaN</td>\n      <td>4.08</td>\n      <td>2.363</td>\n      <td>NaN</td>\n      <td>NaN</td>\n      <td>NaN</td>\n      <td>...</td>\n      <td>25.675</td>\n      <td>13.843</td>\n      <td>1.366</td>\n      <td>2.90</td>\n      <td>4.183</td>\n      <td>NaN</td>\n      <td>NaN</td>\n      <td>1.43</td>\n      <td>54.364</td>\n      <td>2.80</td>\n    </tr>\n    <tr>\n      <th>2012-01-09</th>\n      <td>25.328</td>\n      <td>NaN</td>\n      <td>NaN</td>\n      <td>NaN</td>\n      <td>NaN</td>\n      <td>4.15</td>\n      <td>2.396</td>\n      <td>NaN</td>\n      <td>NaN</td>\n      <td>NaN</td>\n      <td>...</td>\n      <td>25.611</td>\n      <td>13.831</td>\n      <td>1.347</td>\n      <td>2.70</td>\n      <td>4.183</td>\n      <td>NaN</td>\n      <td>NaN</td>\n      <td>1.38</td>\n      <td>54.629</td>\n      <td>2.85</td>\n    </tr>\n    <tr>\n      <th>...</th>\n      <td>...</td>\n      <td>...</td>\n      <td>...</td>\n      <td>...</td>\n      <td>...</td>\n      <td>...</td>\n      <td>...</td>\n      <td>...</td>\n      <td>...</td>\n      <td>...</td>\n      <td>...</td>\n      <td>...</td>\n      <td>...</td>\n      <td>...</td>\n      <td>...</td>\n      <td>...</td>\n      <td>...</td>\n      <td>...</td>\n      <td>...</td>\n      <td>...</td>\n      <td>...</td>\n    </tr>\n    <tr>\n      <th>2022-03-14</th>\n      <td>127.580</td>\n      <td>73.50</td>\n      <td>NaN</td>\n      <td>9.75</td>\n      <td>9.83</td>\n      <td>NaN</td>\n      <td>1.240</td>\n      <td>NaN</td>\n      <td>9.860</td>\n      <td>9.84</td>\n      <td>...</td>\n      <td>152.620</td>\n      <td>84.010</td>\n      <td>2.950</td>\n      <td>3.28</td>\n      <td>47.350</td>\n      <td>10.16</td>\n      <td>NaN</td>\n      <td>1.67</td>\n      <td>NaN</td>\n      <td>8.10</td>\n    </tr>\n    <tr>\n      <th>2022-03-15</th>\n      <td>130.280</td>\n      <td>73.71</td>\n      <td>NaN</td>\n      <td>9.76</td>\n      <td>9.83</td>\n      <td>NaN</td>\n      <td>1.180</td>\n      <td>NaN</td>\n      <td>9.860</td>\n      <td>9.83</td>\n      <td>...</td>\n      <td>155.950</td>\n      <td>85.970</td>\n      <td>3.000</td>\n      <td>3.28</td>\n      <td>47.630</td>\n      <td>NaN</td>\n      <td>NaN</td>\n      <td>1.70</td>\n      <td>NaN</td>\n      <td>8.12</td>\n    </tr>\n    <tr>\n      <th>2022-03-16</th>\n      <td>135.000</td>\n      <td>75.63</td>\n      <td>NaN</td>\n      <td>9.77</td>\n      <td>9.83</td>\n      <td>NaN</td>\n      <td>1.300</td>\n      <td>NaN</td>\n      <td>9.845</td>\n      <td>NaN</td>\n      <td>...</td>\n      <td>156.150</td>\n      <td>85.660</td>\n      <td>3.000</td>\n      <td>3.32</td>\n      <td>49.580</td>\n      <td>NaN</td>\n      <td>NaN</td>\n      <td>1.90</td>\n      <td>NaN</td>\n      <td>8.20</td>\n    </tr>\n    <tr>\n      <th>2022-03-17</th>\n      <td>136.820</td>\n      <td>80.73</td>\n      <td>NaN</td>\n      <td>9.76</td>\n      <td>9.82</td>\n      <td>NaN</td>\n      <td>1.380</td>\n      <td>NaN</td>\n      <td>9.845</td>\n      <td>9.83</td>\n      <td>...</td>\n      <td>157.430</td>\n      <td>85.970</td>\n      <td>3.050</td>\n      <td>3.47</td>\n      <td>49.060</td>\n      <td>10.19</td>\n      <td>NaN</td>\n      <td>1.91</td>\n      <td>NaN</td>\n      <td>9.12</td>\n    </tr>\n    <tr>\n      <th>2022-03-18</th>\n      <td>139.120</td>\n      <td>82.44</td>\n      <td>NaN</td>\n      <td>9.77</td>\n      <td>9.82</td>\n      <td>NaN</td>\n      <td>1.430</td>\n      <td>NaN</td>\n      <td>9.845</td>\n      <td>9.85</td>\n      <td>...</td>\n      <td>158.720</td>\n      <td>87.440</td>\n      <td>3.180</td>\n      <td>3.62</td>\n      <td>49.620</td>\n      <td>NaN</td>\n      <td>NaN</td>\n      <td>1.95</td>\n      <td>NaN</td>\n      <td>9.25</td>\n    </tr>\n  </tbody>\n</table>\n<p>2570 rows × 1000 columns</p>\n</div>"
     },
     "execution_count": 17,
     "metadata": {},
     "output_type": "execute_result"
    }
   ],
   "source": [
    "price"
   ],
   "metadata": {
    "collapsed": false,
    "pycharm": {
     "name": "#%%\n"
    }
   }
  },
  {
   "cell_type": "code",
   "execution_count": 16,
   "outputs": [
    {
     "data": {
      "text/plain": "ticker            A     AA  AAAP   AAC  AAC.U  AACC   AACG  AACH   AACI  \\\ndate                                                                      \n2012-01-03      NaN    NaN   NaN   NaN    NaN   NaN    NaN   NaN    NaN   \n2012-01-04      NaN    NaN   NaN   NaN    NaN   NaN    NaN   NaN    NaN   \n2012-01-05   24.074    NaN   NaN   NaN    NaN  4.11  2.376   NaN    NaN   \n2012-01-06   23.882    NaN   NaN   NaN    NaN  4.08  2.376   NaN    NaN   \n2012-01-09   24.417    NaN   NaN   NaN    NaN  4.10  2.367   NaN    NaN   \n...             ...    ...   ...   ...    ...   ...    ...   ...    ...   \n2022-03-14  134.330  82.94   NaN  9.75   9.85   NaN  1.180   NaN  9.820   \n2022-03-15  130.310  79.04   NaN  9.75   9.85   NaN  1.180   NaN    NaN   \n2022-03-16  127.580  73.50   NaN  9.75   9.83   NaN  1.240   NaN  9.860   \n2022-03-17  130.280  73.71   NaN  9.76   9.83   NaN  1.180   NaN  9.860   \n2022-03-18  135.000  75.63   NaN  9.77   9.83   NaN  1.300   NaN  9.845   \n\nticker      AACIU  ...      AWK     AWR   AWRE   AWX      AX  AXAC.U  AXAR  \\\ndate               ...                                                       \n2012-01-03    NaN  ...      NaN     NaN    NaN   NaN     NaN     NaN   NaN   \n2012-01-04    NaN  ...      NaN     NaN    NaN   NaN     NaN     NaN   NaN   \n2012-01-05    NaN  ...   25.345  14.077  1.329  2.90   4.157     NaN   NaN   \n2012-01-06    NaN  ...   25.256  13.855  1.291  2.88   4.138     NaN   NaN   \n2012-01-09    NaN  ...   25.506  13.831  1.324  2.85   4.170     NaN   NaN   \n...           ...  ...      ...     ...    ...   ...     ...     ...   ...   \n2022-03-14    NaN  ...  153.130  84.730  3.000  3.72  48.920  10.160   NaN   \n2022-03-15    NaN  ...  152.080  83.890  3.010  3.47  48.550  10.166   NaN   \n2022-03-16   9.84  ...  152.620  84.010  2.950  3.28  47.350  10.160   NaN   \n2022-03-17   9.83  ...  155.950  85.970  3.000  3.28  47.630     NaN   NaN   \n2022-03-18    NaN  ...  156.150  85.660  3.000  3.32  49.580     NaN   NaN   \n\nticker      AXDX     AXE  AXGN  \ndate                            \n2012-01-03   NaN     NaN   NaN  \n2012-01-04   NaN     NaN   NaN  \n2012-01-05  1.34  54.065  2.60  \n2012-01-06  1.38  53.976  2.60  \n2012-01-09  1.36  53.959  2.75  \n...          ...     ...   ...  \n2022-03-14  1.89     NaN  8.51  \n2022-03-15  1.79     NaN  8.32  \n2022-03-16  1.67     NaN  8.10  \n2022-03-17  1.70     NaN  8.12  \n2022-03-18  1.90     NaN  8.20  \n\n[2570 rows x 1000 columns]",
      "text/html": "<div>\n<style scoped>\n    .dataframe tbody tr th:only-of-type {\n        vertical-align: middle;\n    }\n\n    .dataframe tbody tr th {\n        vertical-align: top;\n    }\n\n    .dataframe thead th {\n        text-align: right;\n    }\n</style>\n<table border=\"1\" class=\"dataframe\">\n  <thead>\n    <tr style=\"text-align: right;\">\n      <th>ticker</th>\n      <th>A</th>\n      <th>AA</th>\n      <th>AAAP</th>\n      <th>AAC</th>\n      <th>AAC.U</th>\n      <th>AACC</th>\n      <th>AACG</th>\n      <th>AACH</th>\n      <th>AACI</th>\n      <th>AACIU</th>\n      <th>...</th>\n      <th>AWK</th>\n      <th>AWR</th>\n      <th>AWRE</th>\n      <th>AWX</th>\n      <th>AX</th>\n      <th>AXAC.U</th>\n      <th>AXAR</th>\n      <th>AXDX</th>\n      <th>AXE</th>\n      <th>AXGN</th>\n    </tr>\n    <tr>\n      <th>date</th>\n      <th></th>\n      <th></th>\n      <th></th>\n      <th></th>\n      <th></th>\n      <th></th>\n      <th></th>\n      <th></th>\n      <th></th>\n      <th></th>\n      <th></th>\n      <th></th>\n      <th></th>\n      <th></th>\n      <th></th>\n      <th></th>\n      <th></th>\n      <th></th>\n      <th></th>\n      <th></th>\n      <th></th>\n    </tr>\n  </thead>\n  <tbody>\n    <tr>\n      <th>2012-01-03</th>\n      <td>NaN</td>\n      <td>NaN</td>\n      <td>NaN</td>\n      <td>NaN</td>\n      <td>NaN</td>\n      <td>NaN</td>\n      <td>NaN</td>\n      <td>NaN</td>\n      <td>NaN</td>\n      <td>NaN</td>\n      <td>...</td>\n      <td>NaN</td>\n      <td>NaN</td>\n      <td>NaN</td>\n      <td>NaN</td>\n      <td>NaN</td>\n      <td>NaN</td>\n      <td>NaN</td>\n      <td>NaN</td>\n      <td>NaN</td>\n      <td>NaN</td>\n    </tr>\n    <tr>\n      <th>2012-01-04</th>\n      <td>NaN</td>\n      <td>NaN</td>\n      <td>NaN</td>\n      <td>NaN</td>\n      <td>NaN</td>\n      <td>NaN</td>\n      <td>NaN</td>\n      <td>NaN</td>\n      <td>NaN</td>\n      <td>NaN</td>\n      <td>...</td>\n      <td>NaN</td>\n      <td>NaN</td>\n      <td>NaN</td>\n      <td>NaN</td>\n      <td>NaN</td>\n      <td>NaN</td>\n      <td>NaN</td>\n      <td>NaN</td>\n      <td>NaN</td>\n      <td>NaN</td>\n    </tr>\n    <tr>\n      <th>2012-01-05</th>\n      <td>24.074</td>\n      <td>NaN</td>\n      <td>NaN</td>\n      <td>NaN</td>\n      <td>NaN</td>\n      <td>4.11</td>\n      <td>2.376</td>\n      <td>NaN</td>\n      <td>NaN</td>\n      <td>NaN</td>\n      <td>...</td>\n      <td>25.345</td>\n      <td>14.077</td>\n      <td>1.329</td>\n      <td>2.90</td>\n      <td>4.157</td>\n      <td>NaN</td>\n      <td>NaN</td>\n      <td>1.34</td>\n      <td>54.065</td>\n      <td>2.60</td>\n    </tr>\n    <tr>\n      <th>2012-01-06</th>\n      <td>23.882</td>\n      <td>NaN</td>\n      <td>NaN</td>\n      <td>NaN</td>\n      <td>NaN</td>\n      <td>4.08</td>\n      <td>2.376</td>\n      <td>NaN</td>\n      <td>NaN</td>\n      <td>NaN</td>\n      <td>...</td>\n      <td>25.256</td>\n      <td>13.855</td>\n      <td>1.291</td>\n      <td>2.88</td>\n      <td>4.138</td>\n      <td>NaN</td>\n      <td>NaN</td>\n      <td>1.38</td>\n      <td>53.976</td>\n      <td>2.60</td>\n    </tr>\n    <tr>\n      <th>2012-01-09</th>\n      <td>24.417</td>\n      <td>NaN</td>\n      <td>NaN</td>\n      <td>NaN</td>\n      <td>NaN</td>\n      <td>4.10</td>\n      <td>2.367</td>\n      <td>NaN</td>\n      <td>NaN</td>\n      <td>NaN</td>\n      <td>...</td>\n      <td>25.506</td>\n      <td>13.831</td>\n      <td>1.324</td>\n      <td>2.85</td>\n      <td>4.170</td>\n      <td>NaN</td>\n      <td>NaN</td>\n      <td>1.36</td>\n      <td>53.959</td>\n      <td>2.75</td>\n    </tr>\n    <tr>\n      <th>...</th>\n      <td>...</td>\n      <td>...</td>\n      <td>...</td>\n      <td>...</td>\n      <td>...</td>\n      <td>...</td>\n      <td>...</td>\n      <td>...</td>\n      <td>...</td>\n      <td>...</td>\n      <td>...</td>\n      <td>...</td>\n      <td>...</td>\n      <td>...</td>\n      <td>...</td>\n      <td>...</td>\n      <td>...</td>\n      <td>...</td>\n      <td>...</td>\n      <td>...</td>\n      <td>...</td>\n    </tr>\n    <tr>\n      <th>2022-03-14</th>\n      <td>134.330</td>\n      <td>82.94</td>\n      <td>NaN</td>\n      <td>9.75</td>\n      <td>9.85</td>\n      <td>NaN</td>\n      <td>1.180</td>\n      <td>NaN</td>\n      <td>9.820</td>\n      <td>NaN</td>\n      <td>...</td>\n      <td>153.130</td>\n      <td>84.730</td>\n      <td>3.000</td>\n      <td>3.72</td>\n      <td>48.920</td>\n      <td>10.160</td>\n      <td>NaN</td>\n      <td>1.89</td>\n      <td>NaN</td>\n      <td>8.51</td>\n    </tr>\n    <tr>\n      <th>2022-03-15</th>\n      <td>130.310</td>\n      <td>79.04</td>\n      <td>NaN</td>\n      <td>9.75</td>\n      <td>9.85</td>\n      <td>NaN</td>\n      <td>1.180</td>\n      <td>NaN</td>\n      <td>NaN</td>\n      <td>NaN</td>\n      <td>...</td>\n      <td>152.080</td>\n      <td>83.890</td>\n      <td>3.010</td>\n      <td>3.47</td>\n      <td>48.550</td>\n      <td>10.166</td>\n      <td>NaN</td>\n      <td>1.79</td>\n      <td>NaN</td>\n      <td>8.32</td>\n    </tr>\n    <tr>\n      <th>2022-03-16</th>\n      <td>127.580</td>\n      <td>73.50</td>\n      <td>NaN</td>\n      <td>9.75</td>\n      <td>9.83</td>\n      <td>NaN</td>\n      <td>1.240</td>\n      <td>NaN</td>\n      <td>9.860</td>\n      <td>9.84</td>\n      <td>...</td>\n      <td>152.620</td>\n      <td>84.010</td>\n      <td>2.950</td>\n      <td>3.28</td>\n      <td>47.350</td>\n      <td>10.160</td>\n      <td>NaN</td>\n      <td>1.67</td>\n      <td>NaN</td>\n      <td>8.10</td>\n    </tr>\n    <tr>\n      <th>2022-03-17</th>\n      <td>130.280</td>\n      <td>73.71</td>\n      <td>NaN</td>\n      <td>9.76</td>\n      <td>9.83</td>\n      <td>NaN</td>\n      <td>1.180</td>\n      <td>NaN</td>\n      <td>9.860</td>\n      <td>9.83</td>\n      <td>...</td>\n      <td>155.950</td>\n      <td>85.970</td>\n      <td>3.000</td>\n      <td>3.28</td>\n      <td>47.630</td>\n      <td>NaN</td>\n      <td>NaN</td>\n      <td>1.70</td>\n      <td>NaN</td>\n      <td>8.12</td>\n    </tr>\n    <tr>\n      <th>2022-03-18</th>\n      <td>135.000</td>\n      <td>75.63</td>\n      <td>NaN</td>\n      <td>9.77</td>\n      <td>9.83</td>\n      <td>NaN</td>\n      <td>1.300</td>\n      <td>NaN</td>\n      <td>9.845</td>\n      <td>NaN</td>\n      <td>...</td>\n      <td>156.150</td>\n      <td>85.660</td>\n      <td>3.000</td>\n      <td>3.32</td>\n      <td>49.580</td>\n      <td>NaN</td>\n      <td>NaN</td>\n      <td>1.90</td>\n      <td>NaN</td>\n      <td>8.20</td>\n    </tr>\n  </tbody>\n</table>\n<p>2570 rows × 1000 columns</p>\n</div>"
     },
     "execution_count": 16,
     "metadata": {},
     "output_type": "execute_result"
    }
   ],
   "source": [
    "price.shift(2)"
   ],
   "metadata": {
    "collapsed": false,
    "pycharm": {
     "name": "#%%\n"
    }
   }
  },
  {
   "cell_type": "code",
   "execution_count": 4,
   "outputs": [
    {
     "data": {
      "text/plain": "                    open    high     low  close    openadj    highadj  \\\nticker date                                                             \nA      2012-01-03  35.84  36.990  35.740  36.48  23.651649  24.410561   \n       2012-01-04  36.15  36.360  35.590  36.19  23.855604  23.994184   \n       2012-01-05  35.88  37.320  35.720  37.00  23.677891  24.628174   \n       2012-01-06  37.09  37.555  36.805  37.40  24.476425  24.783288   \n       2012-01-09  37.62  38.420  37.472  38.38  24.826455  25.354397   \n...                  ...     ...     ...    ...        ...        ...   \nAXGN   2022-03-14   8.28   8.400   7.940   8.10   8.280000   8.400000   \n       2022-03-15   8.07   8.380   8.030   8.12   8.070000   8.380000   \n       2022-03-16   8.17   8.330   7.895   8.20   8.170000   8.330000   \n       2022-03-17   7.97   9.160   7.970   9.12   7.970000   9.160000   \n       2022-03-18   9.00   9.430   9.000   9.25   9.000000   9.430000   \n\n                      lowadj  closeadj     volume  \nticker date                                        \nA      2012-01-03  23.585657    24.074  2973100.0  \n       2012-01-04  23.486056    23.882  3327500.0  \n       2012-01-05  23.572304    24.417  4894600.0  \n       2012-01-06  24.288348    24.681  3370100.0  \n       2012-01-09  24.728786    25.328  3168500.0  \n...                      ...       ...        ...  \nAXGN   2022-03-14   7.940000     8.100   427624.0  \n       2022-03-15   8.030000     8.120   314330.0  \n       2022-03-16   7.895000     8.200   276713.0  \n       2022-03-17   7.970000     9.120   313634.0  \n       2022-03-18   9.000000     9.250   560402.0  \n\n[1291634 rows x 9 columns]",
      "text/html": "<div>\n<style scoped>\n    .dataframe tbody tr th:only-of-type {\n        vertical-align: middle;\n    }\n\n    .dataframe tbody tr th {\n        vertical-align: top;\n    }\n\n    .dataframe thead th {\n        text-align: right;\n    }\n</style>\n<table border=\"1\" class=\"dataframe\">\n  <thead>\n    <tr style=\"text-align: right;\">\n      <th></th>\n      <th></th>\n      <th>open</th>\n      <th>high</th>\n      <th>low</th>\n      <th>close</th>\n      <th>openadj</th>\n      <th>highadj</th>\n      <th>lowadj</th>\n      <th>closeadj</th>\n      <th>volume</th>\n    </tr>\n    <tr>\n      <th>ticker</th>\n      <th>date</th>\n      <th></th>\n      <th></th>\n      <th></th>\n      <th></th>\n      <th></th>\n      <th></th>\n      <th></th>\n      <th></th>\n      <th></th>\n    </tr>\n  </thead>\n  <tbody>\n    <tr>\n      <th rowspan=\"5\" valign=\"top\">A</th>\n      <th>2012-01-03</th>\n      <td>35.84</td>\n      <td>36.990</td>\n      <td>35.740</td>\n      <td>36.48</td>\n      <td>23.651649</td>\n      <td>24.410561</td>\n      <td>23.585657</td>\n      <td>24.074</td>\n      <td>2973100.0</td>\n    </tr>\n    <tr>\n      <th>2012-01-04</th>\n      <td>36.15</td>\n      <td>36.360</td>\n      <td>35.590</td>\n      <td>36.19</td>\n      <td>23.855604</td>\n      <td>23.994184</td>\n      <td>23.486056</td>\n      <td>23.882</td>\n      <td>3327500.0</td>\n    </tr>\n    <tr>\n      <th>2012-01-05</th>\n      <td>35.88</td>\n      <td>37.320</td>\n      <td>35.720</td>\n      <td>37.00</td>\n      <td>23.677891</td>\n      <td>24.628174</td>\n      <td>23.572304</td>\n      <td>24.417</td>\n      <td>4894600.0</td>\n    </tr>\n    <tr>\n      <th>2012-01-06</th>\n      <td>37.09</td>\n      <td>37.555</td>\n      <td>36.805</td>\n      <td>37.40</td>\n      <td>24.476425</td>\n      <td>24.783288</td>\n      <td>24.288348</td>\n      <td>24.681</td>\n      <td>3370100.0</td>\n    </tr>\n    <tr>\n      <th>2012-01-09</th>\n      <td>37.62</td>\n      <td>38.420</td>\n      <td>37.472</td>\n      <td>38.38</td>\n      <td>24.826455</td>\n      <td>25.354397</td>\n      <td>24.728786</td>\n      <td>25.328</td>\n      <td>3168500.0</td>\n    </tr>\n    <tr>\n      <th>...</th>\n      <th>...</th>\n      <td>...</td>\n      <td>...</td>\n      <td>...</td>\n      <td>...</td>\n      <td>...</td>\n      <td>...</td>\n      <td>...</td>\n      <td>...</td>\n      <td>...</td>\n    </tr>\n    <tr>\n      <th rowspan=\"5\" valign=\"top\">AXGN</th>\n      <th>2022-03-14</th>\n      <td>8.28</td>\n      <td>8.400</td>\n      <td>7.940</td>\n      <td>8.10</td>\n      <td>8.280000</td>\n      <td>8.400000</td>\n      <td>7.940000</td>\n      <td>8.100</td>\n      <td>427624.0</td>\n    </tr>\n    <tr>\n      <th>2022-03-15</th>\n      <td>8.07</td>\n      <td>8.380</td>\n      <td>8.030</td>\n      <td>8.12</td>\n      <td>8.070000</td>\n      <td>8.380000</td>\n      <td>8.030000</td>\n      <td>8.120</td>\n      <td>314330.0</td>\n    </tr>\n    <tr>\n      <th>2022-03-16</th>\n      <td>8.17</td>\n      <td>8.330</td>\n      <td>7.895</td>\n      <td>8.20</td>\n      <td>8.170000</td>\n      <td>8.330000</td>\n      <td>7.895000</td>\n      <td>8.200</td>\n      <td>276713.0</td>\n    </tr>\n    <tr>\n      <th>2022-03-17</th>\n      <td>7.97</td>\n      <td>9.160</td>\n      <td>7.970</td>\n      <td>9.12</td>\n      <td>7.970000</td>\n      <td>9.160000</td>\n      <td>7.970000</td>\n      <td>9.120</td>\n      <td>313634.0</td>\n    </tr>\n    <tr>\n      <th>2022-03-18</th>\n      <td>9.00</td>\n      <td>9.430</td>\n      <td>9.000</td>\n      <td>9.25</td>\n      <td>9.000000</td>\n      <td>9.430000</td>\n      <td>9.000000</td>\n      <td>9.250</td>\n      <td>560402.0</td>\n    </tr>\n  </tbody>\n</table>\n<p>1291634 rows × 9 columns</p>\n</div>"
     },
     "execution_count": 4,
     "metadata": {},
     "output_type": "execute_result"
    }
   ],
   "source": [
    "tripA\n",
    "price = self.df[price_col].unstack('ticker')\n",
    "        eng_values = price.pct_change().stack(dropna=False)"
   ],
   "metadata": {
    "collapsed": false,
    "pycharm": {
     "name": "#%%\n"
    }
   }
  },
  {
   "cell_type": "code",
   "execution_count": null,
   "outputs": [],
   "source": [],
   "metadata": {
    "collapsed": false,
    "pycharm": {
     "name": "#%%\n"
    }
   }
  }
 ],
 "metadata": {
  "kernelspec": {
   "display_name": "Python 3",
   "language": "python",
   "name": "python3"
  },
  "language_info": {
   "codemirror_mode": {
    "name": "ipython",
    "version": 2
   },
   "file_extension": ".py",
   "mimetype": "text/x-python",
   "name": "python",
   "nbconvert_exporter": "python",
   "pygments_lexer": "ipython2",
   "version": "2.7.6"
  }
 },
 "nbformat": 4,
 "nbformat_minor": 0
}